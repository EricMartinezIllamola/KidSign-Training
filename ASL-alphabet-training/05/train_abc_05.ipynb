{
 "cells": [
  {
   "cell_type": "code",
   "execution_count": 1,
   "id": "cabbedb0-cdf5-4873-b294-64c330b205de",
   "metadata": {
    "tags": []
   },
   "outputs": [
    {
     "name": "stderr",
     "output_type": "stream",
     "text": [
      "2023-09-17 17:09:54.320066: I tensorflow/core/platform/cpu_feature_guard.cc:193] This TensorFlow binary is optimized with oneAPI Deep Neural Network Library (oneDNN) to use the following CPU instructions in performance-critical operations:  AVX2 FMA\n",
      "To enable them in other operations, rebuild TensorFlow with the appropriate compiler flags.\n",
      "2023-09-17 17:10:13.041668: W tensorflow/compiler/xla/stream_executor/platform/default/dso_loader.cc:64] Could not load dynamic library 'libnvinfer.so.7'; dlerror: libnvinfer.so.7: cannot open shared object file: No such file or directory; LD_LIBRARY_PATH: /usr/local/cuda/lib64:/usr/local/cuda/lib:/usr/local/lib/x86_64-linux-gnu:/usr/local/nvidia/lib:/usr/local/nvidia/lib64:/usr/local/nvidia/lib:/usr/local/nvidia/lib64\n",
      "2023-09-17 17:10:13.043589: W tensorflow/compiler/xla/stream_executor/platform/default/dso_loader.cc:64] Could not load dynamic library 'libnvinfer_plugin.so.7'; dlerror: libnvinfer_plugin.so.7: cannot open shared object file: No such file or directory; LD_LIBRARY_PATH: /usr/local/cuda/lib64:/usr/local/cuda/lib:/usr/local/lib/x86_64-linux-gnu:/usr/local/nvidia/lib:/usr/local/nvidia/lib64:/usr/local/nvidia/lib:/usr/local/nvidia/lib64\n",
      "2023-09-17 17:10:13.043612: W tensorflow/compiler/tf2tensorrt/utils/py_utils.cc:38] TF-TRT Warning: Cannot dlopen some TensorRT libraries. If you would like to use Nvidia GPU with TensorRT, please make sure the missing libraries mentioned above are installed properly.\n"
     ]
    },
    {
     "name": "stdout",
     "output_type": "stream",
     "text": [
      "2.11.0\n"
     ]
    }
   ],
   "source": [
    "import tensorflow as tf\n",
    "\n",
    "print(tf.__version__)\n",
    "\n",
    "from tensorflow.keras.models                import Sequential, Model\n",
    "from tensorflow.keras.layers                import *\n",
    "from tensorflow.keras.preprocessing.image   import ImageDataGenerator\n",
    "from tensorflow.keras.utils                 import to_categorical\n",
    "from tensorflow.keras.optimizers            import SGD, RMSprop, Adam, Adagrad, Adadelta\n",
    "\n",
    "from sklearn.model_selection import train_test_split\n",
    "from sklearn.metrics import confusion_matrix, accuracy_score\n",
    "from sklearn.utils import class_weight\n",
    "\n",
    "import matplotlib.pyplot as plt\n",
    "import random\n",
    "# import cv2\n",
    "import pandas as pd\n",
    "import numpy as np\n",
    "import matplotlib.gridspec as gridspec\n",
    "import seaborn as sns\n",
    "import sklearn\n",
    "import scipy\n",
    "import skimage\n",
    "from skimage.transform import resize\n",
    "from tqdm import tqdm\n",
    "from sklearn import model_selection\n",
    "from sklearn.model_selection import train_test_split, learning_curve,KFold,cross_val_score,StratifiedKFold\n",
    "from sklearn.utils import class_weight\n",
    "from sklearn.metrics import confusion_matrix"
   ]
  },
  {
   "cell_type": "code",
   "execution_count": 2,
   "id": "591c6941-6b95-49ed-a5e4-b3b065f337e5",
   "metadata": {},
   "outputs": [],
   "source": [
    "# !git clone https://github.com/EricMartinezIllamola/asl-alphabet.git"
   ]
  },
  {
   "cell_type": "code",
   "execution_count": 3,
   "id": "b142a1a3-59e9-445c-a9c9-35d7cc5e2645",
   "metadata": {},
   "outputs": [],
   "source": [
    "# !pip install split-folders "
   ]
  },
  {
   "cell_type": "code",
   "execution_count": 4,
   "id": "e29c6dc1-7ac5-4f9c-afc5-27889eadad59",
   "metadata": {
    "tags": []
   },
   "outputs": [],
   "source": [
    "# import splitfolders\n",
    "# import os"
   ]
  },
  {
   "cell_type": "code",
   "execution_count": 5,
   "id": "5bc916a7-71b9-408a-a862-97bac0f8cd8c",
   "metadata": {
    "tags": []
   },
   "outputs": [],
   "source": [
    "# path = \"asl-alphabet/asl-alphabet\"\n",
    "\n",
    "# splitfolders.ratio(path, seed=777, output=\"Train-Validation-Test-Dataset\", ratio=(0.6, 0.2, 0.2))"
   ]
  },
  {
   "cell_type": "code",
   "execution_count": 6,
   "id": "3c62d1d8-12eb-4f83-ae0c-7ffa1f9c939b",
   "metadata": {},
   "outputs": [],
   "source": [
    "train_path = \"Train-Validation-Test-Dataset/train\"\n",
    "val_path = \"Train-Validation-Test-Dataset/val\"\n",
    "test_path = \"Train-Validation-Test-Dataset/test\""
   ]
  },
  {
   "cell_type": "code",
   "execution_count": 7,
   "id": "cdc6b023-62d9-4604-a6b7-388c23c40b87",
   "metadata": {
    "tags": []
   },
   "outputs": [
    {
     "name": "stderr",
     "output_type": "stream",
     "text": [
      "2023-09-17 17:10:31.177503: I tensorflow/compiler/xla/stream_executor/cuda/cuda_gpu_executor.cc:981] successful NUMA node read from SysFS had negative value (-1), but there must be at least one NUMA node, so returning NUMA node zero\n",
      "2023-09-17 17:10:32.003237: I tensorflow/compiler/xla/stream_executor/cuda/cuda_gpu_executor.cc:981] successful NUMA node read from SysFS had negative value (-1), but there must be at least one NUMA node, so returning NUMA node zero\n",
      "2023-09-17 17:10:32.006755: I tensorflow/compiler/xla/stream_executor/cuda/cuda_gpu_executor.cc:981] successful NUMA node read from SysFS had negative value (-1), but there must be at least one NUMA node, so returning NUMA node zero\n"
     ]
    },
    {
     "data": {
      "text/plain": [
       "[PhysicalDevice(name='/physical_device:CPU:0', device_type='CPU'),\n",
       " PhysicalDevice(name='/physical_device:GPU:0', device_type='GPU')]"
      ]
     },
     "execution_count": 7,
     "metadata": {},
     "output_type": "execute_result"
    }
   ],
   "source": [
    "tf.config.experimental.list_physical_devices()"
   ]
  },
  {
   "cell_type": "code",
   "execution_count": 8,
   "id": "e2dfe75c-2fa1-44a9-94ff-d1205720671d",
   "metadata": {
    "tags": []
   },
   "outputs": [
    {
     "data": {
      "text/plain": [
       "True"
      ]
     },
     "execution_count": 8,
     "metadata": {},
     "output_type": "execute_result"
    }
   ],
   "source": [
    "tf.test.is_built_with_cuda()"
   ]
  },
  {
   "cell_type": "code",
   "execution_count": 9,
   "id": "b9f0f604-67d3-43b5-962d-5b88fd6bb534",
   "metadata": {},
   "outputs": [
    {
     "name": "stdout",
     "output_type": "stream",
     "text": [
      "Found 44695 images belonging to 24 classes.\n",
      "Found 14892 images belonging to 24 classes.\n",
      "Found 14921 images belonging to 24 classes.\n"
     ]
    }
   ],
   "source": [
    "from tensorflow.keras.preprocessing.image   import ImageDataGenerator\n",
    "\n",
    "##Clasificamos las imagenes\n",
    "bs = 64 #bach size\n",
    "k = 2\n",
    "# Generador de imágenes de entrenamiento.\n",
    "train_datagen = ImageDataGenerator(\n",
    "        rescale=1./255,\n",
    "        shear_range=(0.3),\n",
    "        zoom_range=(0.3),\n",
    "        width_shift_range=(0.2),\n",
    "        height_shift_range=(0.2),\n",
    "        # validation_split = 0.2,\n",
    "        brightness_range=(0.05,0.85),\n",
    "        horizontal_flip=False)\n",
    "\n",
    "# Carga de imágenes al generador de entrenamiento desde directorio.\n",
    "train_generator = train_datagen.flow_from_directory(\n",
    "        train_path,\n",
    "        class_mode='categorical',\n",
    "        shuffle=True,\n",
    "        target_size=(28*k, 28*k),\n",
    "        color_mode = 'rgb', \n",
    "        # subset = 'training',\n",
    "        batch_size=bs)\n",
    "\n",
    "valid_generator = train_datagen.flow_from_directory(\n",
    "        val_path,\n",
    "        class_mode='categorical',\n",
    "        shuffle=False,\n",
    "        target_size=(28*k, 28*k),\n",
    "        color_mode = 'rgb', \n",
    "        # subset = 'validation',\n",
    "        batch_size=bs)\n",
    "\n",
    "test_generator = train_datagen.flow_from_directory(\n",
    "        test_path,\n",
    "        class_mode='categorical',\n",
    "        shuffle=False,\n",
    "        target_size=(28*k, 28*k),\n",
    "        color_mode = 'rgb', \n",
    "        # subset = 'validation',\n",
    "        batch_size=bs)"
   ]
  },
  {
   "cell_type": "code",
   "execution_count": 10,
   "id": "ce39767d-6018-413a-ac2c-8e816e2cf5e3",
   "metadata": {},
   "outputs": [
    {
     "name": "stderr",
     "output_type": "stream",
     "text": [
      "2023-09-17 17:10:39.493533: I tensorflow/core/platform/cpu_feature_guard.cc:193] This TensorFlow binary is optimized with oneAPI Deep Neural Network Library (oneDNN) to use the following CPU instructions in performance-critical operations:  AVX2 FMA\n",
      "To enable them in other operations, rebuild TensorFlow with the appropriate compiler flags.\n",
      "2023-09-17 17:10:39.511819: I tensorflow/compiler/xla/stream_executor/cuda/cuda_gpu_executor.cc:981] successful NUMA node read from SysFS had negative value (-1), but there must be at least one NUMA node, so returning NUMA node zero\n",
      "2023-09-17 17:10:39.515184: I tensorflow/compiler/xla/stream_executor/cuda/cuda_gpu_executor.cc:981] successful NUMA node read from SysFS had negative value (-1), but there must be at least one NUMA node, so returning NUMA node zero\n",
      "2023-09-17 17:10:39.518027: I tensorflow/compiler/xla/stream_executor/cuda/cuda_gpu_executor.cc:981] successful NUMA node read from SysFS had negative value (-1), but there must be at least one NUMA node, so returning NUMA node zero\n",
      "2023-09-17 17:10:50.024983: I tensorflow/compiler/xla/stream_executor/cuda/cuda_gpu_executor.cc:981] successful NUMA node read from SysFS had negative value (-1), but there must be at least one NUMA node, so returning NUMA node zero\n",
      "2023-09-17 17:10:50.059113: I tensorflow/compiler/xla/stream_executor/cuda/cuda_gpu_executor.cc:981] successful NUMA node read from SysFS had negative value (-1), but there must be at least one NUMA node, so returning NUMA node zero\n",
      "2023-09-17 17:10:50.060837: I tensorflow/compiler/xla/stream_executor/cuda/cuda_gpu_executor.cc:981] successful NUMA node read from SysFS had negative value (-1), but there must be at least one NUMA node, so returning NUMA node zero\n",
      "2023-09-17 17:10:50.074717: I tensorflow/core/common_runtime/gpu/gpu_device.cc:1613] Created device /job:localhost/replica:0/task:0/device:GPU:0 with 13582 MB memory:  -> device: 0, name: Tesla T4, pci bus id: 0000:00:04.0, compute capability: 7.5\n"
     ]
    },
    {
     "name": "stdout",
     "output_type": "stream",
     "text": [
      "Downloading data from https://storage.googleapis.com/tensorflow/keras-applications/vgg19/vgg19_weights_tf_dim_ordering_tf_kernels.h5\n",
      "574710816/574710816 [==============================] - 4s 0us/step\n",
      "Model: \"vgg19\"\n",
      "_________________________________________________________________\n",
      " Layer (type)                Output Shape              Param #   \n",
      "=================================================================\n",
      " input_1 (InputLayer)        [(None, 224, 224, 3)]     0         \n",
      "                                                                 \n",
      " block1_conv1 (Conv2D)       (None, 224, 224, 64)      1792      \n",
      "                                                                 \n",
      " block1_conv2 (Conv2D)       (None, 224, 224, 64)      36928     \n",
      "                                                                 \n",
      " block1_pool (MaxPooling2D)  (None, 112, 112, 64)      0         \n",
      "                                                                 \n",
      " block2_conv1 (Conv2D)       (None, 112, 112, 128)     73856     \n",
      "                                                                 \n",
      " block2_conv2 (Conv2D)       (None, 112, 112, 128)     147584    \n",
      "                                                                 \n",
      " block2_pool (MaxPooling2D)  (None, 56, 56, 128)       0         \n",
      "                                                                 \n",
      " block3_conv1 (Conv2D)       (None, 56, 56, 256)       295168    \n",
      "                                                                 \n",
      " block3_conv2 (Conv2D)       (None, 56, 56, 256)       590080    \n",
      "                                                                 \n",
      " block3_conv3 (Conv2D)       (None, 56, 56, 256)       590080    \n",
      "                                                                 \n",
      " block3_conv4 (Conv2D)       (None, 56, 56, 256)       590080    \n",
      "                                                                 \n",
      " block3_pool (MaxPooling2D)  (None, 28, 28, 256)       0         \n",
      "                                                                 \n",
      " block4_conv1 (Conv2D)       (None, 28, 28, 512)       1180160   \n",
      "                                                                 \n",
      " block4_conv2 (Conv2D)       (None, 28, 28, 512)       2359808   \n",
      "                                                                 \n",
      " block4_conv3 (Conv2D)       (None, 28, 28, 512)       2359808   \n",
      "                                                                 \n",
      " block4_conv4 (Conv2D)       (None, 28, 28, 512)       2359808   \n",
      "                                                                 \n",
      " block4_pool (MaxPooling2D)  (None, 14, 14, 512)       0         \n",
      "                                                                 \n",
      " block5_conv1 (Conv2D)       (None, 14, 14, 512)       2359808   \n",
      "                                                                 \n",
      " block5_conv2 (Conv2D)       (None, 14, 14, 512)       2359808   \n",
      "                                                                 \n",
      " block5_conv3 (Conv2D)       (None, 14, 14, 512)       2359808   \n",
      "                                                                 \n",
      " block5_conv4 (Conv2D)       (None, 14, 14, 512)       2359808   \n",
      "                                                                 \n",
      " block5_pool (MaxPooling2D)  (None, 7, 7, 512)         0         \n",
      "                                                                 \n",
      " flatten (Flatten)           (None, 25088)             0         \n",
      "                                                                 \n",
      " fc1 (Dense)                 (None, 4096)              102764544 \n",
      "                                                                 \n",
      " fc2 (Dense)                 (None, 4096)              16781312  \n",
      "                                                                 \n",
      " predictions (Dense)         (None, 1000)              4097000   \n",
      "                                                                 \n",
      "=================================================================\n",
      "Total params: 143,667,240\n",
      "Trainable params: 143,667,240\n",
      "Non-trainable params: 0\n",
      "_________________________________________________________________\n",
      "26\n"
     ]
    }
   ],
   "source": [
    "#Visualizamos la estructura del modelo que vamos a utilizar\n",
    "model = tf.keras.applications.VGG19()\n",
    "model.summary()\n",
    "print(len(model.layers))"
   ]
  },
  {
   "cell_type": "code",
   "execution_count": 11,
   "id": "b0e0e374-6bf0-455d-92ee-83982a54eae7",
   "metadata": {},
   "outputs": [
    {
     "name": "stdout",
     "output_type": "stream",
     "text": [
      "Downloading data from https://storage.googleapis.com/tensorflow/keras-applications/vgg19/vgg19_weights_tf_dim_ordering_tf_kernels_notop.h5\n",
      "80134624/80134624 [==============================] - 0s 0us/step\n",
      "22\n"
     ]
    }
   ],
   "source": [
    "##DEFINIMOS EL MODELO\n",
    "num_classes = 24\n",
    "epochs = 125\n",
    "\n",
    "# VGG19\n",
    "# Importamos el modelo que queremos utilizar con los argumentos que queremos\n",
    "VGG19_model = tf.keras.applications.VGG19(input_shape=(28*k,28*k,3),\n",
    "                                          include_top=False,\n",
    "                                          weights='imagenet')\n",
    "\n",
    "print(len(VGG19_model.layers))\n",
    "#Congelamos  las 6 primeras caps del modelo para proceder a entrenar las demás\n",
    "for layer in VGG19_model.layers[:6]:\n",
    "  layer.trainable = False\n",
    "\n",
    "# Creamos un nuevo modelo vacio.\n",
    "model = tf.keras.Sequential()\n",
    "\n",
    "# Añadimos el modelo preentrenado como si se tratase de una capa.\n",
    "model.add(VGG19_model)\n",
    "\n",
    "# Continuamos añadiendo más capas que sí serán entrenadas...\n",
    "from tensorflow.keras import regularizers\n",
    "model.add(Flatten())\n",
    "model.add(Dense(512, kernel_regularizer=regularizers.l2(0.01), activation = 'relu'))\n",
    "model.add(Dropout(0.25))\n",
    "model.add(Dense(num_classes, activation = 'softmax'))"
   ]
  },
  {
   "cell_type": "code",
   "execution_count": 12,
   "id": "98f08be8-a077-4ef3-92ab-b3604ff40655",
   "metadata": {},
   "outputs": [
    {
     "name": "stdout",
     "output_type": "stream",
     "text": [
      "Epoch 1/125\n"
     ]
    },
    {
     "name": "stderr",
     "output_type": "stream",
     "text": [
      "2023-09-17 17:11:13.729669: I tensorflow/compiler/xla/stream_executor/cuda/cuda_dnn.cc:428] Loaded cuDNN version 8200\n",
      "2023-09-17 17:11:48.196913: I tensorflow/compiler/xla/service/service.cc:173] XLA service 0x55e8620ce270 initialized for platform CUDA (this does not guarantee that XLA will be used). Devices:\n",
      "2023-09-17 17:11:48.196968: I tensorflow/compiler/xla/service/service.cc:181]   StreamExecutor device (0): Tesla T4, Compute Capability 7.5\n",
      "2023-09-17 17:11:51.690606: I tensorflow/compiler/jit/xla_compilation_cache.cc:477] Compiled cluster using XLA!  This line is logged at most once for the lifetime of the process.\n"
     ]
    },
    {
     "name": "stdout",
     "output_type": "stream",
     "text": [
      "699/699 [==============================] - ETA: 0s - loss: 7.9206 - accuracy: 0.1522\n",
      "Epoch 1: val_accuracy improved from -inf to 0.45004, saving model to model-05\n"
     ]
    },
    {
     "name": "stderr",
     "output_type": "stream",
     "text": [
      "WARNING:absl:Found untraced functions such as _jit_compiled_convolution_op, _jit_compiled_convolution_op, _jit_compiled_convolution_op, _jit_compiled_convolution_op, _jit_compiled_convolution_op while saving (showing 5 of 16). These functions will not be directly callable after loading.\n"
     ]
    },
    {
     "name": "stdout",
     "output_type": "stream",
     "text": [
      "INFO:tensorflow:Assets written to: model-05/assets\n"
     ]
    },
    {
     "name": "stderr",
     "output_type": "stream",
     "text": [
      "INFO:tensorflow:Assets written to: model-05/assets\n"
     ]
    },
    {
     "name": "stdout",
     "output_type": "stream",
     "text": [
      "699/699 [==============================] - 184s 180ms/step - loss: 7.9206 - accuracy: 0.1522 - val_loss: 6.8562 - val_accuracy: 0.4500 - lr: 0.0010\n",
      "Epoch 2/125\n",
      "699/699 [==============================] - ETA: 0s - loss: 6.4589 - accuracy: 0.5258\n",
      "Epoch 2: val_accuracy improved from 0.45004 to 0.70488, saving model to model-05\n"
     ]
    },
    {
     "name": "stderr",
     "output_type": "stream",
     "text": [
      "WARNING:absl:Found untraced functions such as _jit_compiled_convolution_op, _jit_compiled_convolution_op, _jit_compiled_convolution_op, _jit_compiled_convolution_op, _jit_compiled_convolution_op while saving (showing 5 of 16). These functions will not be directly callable after loading.\n"
     ]
    },
    {
     "name": "stdout",
     "output_type": "stream",
     "text": [
      "INFO:tensorflow:Assets written to: model-05/assets\n"
     ]
    },
    {
     "name": "stderr",
     "output_type": "stream",
     "text": [
      "INFO:tensorflow:Assets written to: model-05/assets\n"
     ]
    },
    {
     "name": "stdout",
     "output_type": "stream",
     "text": [
      "699/699 [==============================] - 121s 173ms/step - loss: 6.4589 - accuracy: 0.5258 - val_loss: 5.8217 - val_accuracy: 0.7049 - lr: 0.0010\n",
      "Epoch 3/125\n",
      "699/699 [==============================] - ETA: 0s - loss: 5.6761 - accuracy: 0.7220\n",
      "Epoch 3: val_accuracy improved from 0.70488 to 0.79922, saving model to model-05\n"
     ]
    },
    {
     "name": "stderr",
     "output_type": "stream",
     "text": [
      "WARNING:absl:Found untraced functions such as _jit_compiled_convolution_op, _jit_compiled_convolution_op, _jit_compiled_convolution_op, _jit_compiled_convolution_op, _jit_compiled_convolution_op while saving (showing 5 of 16). These functions will not be directly callable after loading.\n"
     ]
    },
    {
     "name": "stdout",
     "output_type": "stream",
     "text": [
      "INFO:tensorflow:Assets written to: model-05/assets\n"
     ]
    },
    {
     "name": "stderr",
     "output_type": "stream",
     "text": [
      "INFO:tensorflow:Assets written to: model-05/assets\n"
     ]
    },
    {
     "name": "stdout",
     "output_type": "stream",
     "text": [
      "699/699 [==============================] - 120s 171ms/step - loss: 5.6761 - accuracy: 0.7220 - val_loss: 5.3760 - val_accuracy: 0.7992 - lr: 0.0010\n",
      "Epoch 4/125\n",
      "699/699 [==============================] - ETA: 0s - loss: 5.3004 - accuracy: 0.7952\n",
      "Epoch 4: val_accuracy improved from 0.79922 to 0.85690, saving model to model-05\n"
     ]
    },
    {
     "name": "stderr",
     "output_type": "stream",
     "text": [
      "WARNING:absl:Found untraced functions such as _jit_compiled_convolution_op, _jit_compiled_convolution_op, _jit_compiled_convolution_op, _jit_compiled_convolution_op, _jit_compiled_convolution_op while saving (showing 5 of 16). These functions will not be directly callable after loading.\n"
     ]
    },
    {
     "name": "stdout",
     "output_type": "stream",
     "text": [
      "INFO:tensorflow:Assets written to: model-05/assets\n"
     ]
    },
    {
     "name": "stderr",
     "output_type": "stream",
     "text": [
      "INFO:tensorflow:Assets written to: model-05/assets\n"
     ]
    },
    {
     "name": "stdout",
     "output_type": "stream",
     "text": [
      "699/699 [==============================] - 119s 170ms/step - loss: 5.3004 - accuracy: 0.7952 - val_loss: 5.0585 - val_accuracy: 0.8569 - lr: 0.0010\n",
      "Epoch 5/125\n",
      "699/699 [==============================] - ETA: 0s - loss: 5.0438 - accuracy: 0.8372\n",
      "Epoch 5: val_accuracy improved from 0.85690 to 0.88282, saving model to model-05\n"
     ]
    },
    {
     "name": "stderr",
     "output_type": "stream",
     "text": [
      "WARNING:absl:Found untraced functions such as _jit_compiled_convolution_op, _jit_compiled_convolution_op, _jit_compiled_convolution_op, _jit_compiled_convolution_op, _jit_compiled_convolution_op while saving (showing 5 of 16). These functions will not be directly callable after loading.\n"
     ]
    },
    {
     "name": "stdout",
     "output_type": "stream",
     "text": [
      "INFO:tensorflow:Assets written to: model-05/assets\n"
     ]
    },
    {
     "name": "stderr",
     "output_type": "stream",
     "text": [
      "INFO:tensorflow:Assets written to: model-05/assets\n"
     ]
    },
    {
     "name": "stdout",
     "output_type": "stream",
     "text": [
      "699/699 [==============================] - 118s 169ms/step - loss: 5.0438 - accuracy: 0.8372 - val_loss: 4.8570 - val_accuracy: 0.8828 - lr: 0.0010\n",
      "Epoch 6/125\n",
      "699/699 [==============================] - ETA: 0s - loss: 4.8406 - accuracy: 0.8621\n",
      "Epoch 6: val_accuracy improved from 0.88282 to 0.89699, saving model to model-05\n"
     ]
    },
    {
     "name": "stderr",
     "output_type": "stream",
     "text": [
      "WARNING:absl:Found untraced functions such as _jit_compiled_convolution_op, _jit_compiled_convolution_op, _jit_compiled_convolution_op, _jit_compiled_convolution_op, _jit_compiled_convolution_op while saving (showing 5 of 16). These functions will not be directly callable after loading.\n"
     ]
    },
    {
     "name": "stdout",
     "output_type": "stream",
     "text": [
      "INFO:tensorflow:Assets written to: model-05/assets\n"
     ]
    },
    {
     "name": "stderr",
     "output_type": "stream",
     "text": [
      "INFO:tensorflow:Assets written to: model-05/assets\n"
     ]
    },
    {
     "name": "stdout",
     "output_type": "stream",
     "text": [
      "699/699 [==============================] - 119s 170ms/step - loss: 4.8406 - accuracy: 0.8621 - val_loss: 4.6758 - val_accuracy: 0.8970 - lr: 0.0010\n",
      "Epoch 7/125\n",
      "699/699 [==============================] - ETA: 0s - loss: 4.6621 - accuracy: 0.8807\n",
      "Epoch 7: val_accuracy did not improve from 0.89699\n",
      "699/699 [==============================] - 114s 163ms/step - loss: 4.6621 - accuracy: 0.8807 - val_loss: 4.5576 - val_accuracy: 0.8946 - lr: 0.0010\n",
      "Epoch 8/125\n",
      "699/699 [==============================] - ETA: 0s - loss: 4.5008 - accuracy: 0.8937\n",
      "Epoch 8: val_accuracy improved from 0.89699 to 0.91284, saving model to model-05\n"
     ]
    },
    {
     "name": "stderr",
     "output_type": "stream",
     "text": [
      "WARNING:absl:Found untraced functions such as _jit_compiled_convolution_op, _jit_compiled_convolution_op, _jit_compiled_convolution_op, _jit_compiled_convolution_op, _jit_compiled_convolution_op while saving (showing 5 of 16). These functions will not be directly callable after loading.\n"
     ]
    },
    {
     "name": "stdout",
     "output_type": "stream",
     "text": [
      "INFO:tensorflow:Assets written to: model-05/assets\n"
     ]
    },
    {
     "name": "stderr",
     "output_type": "stream",
     "text": [
      "INFO:tensorflow:Assets written to: model-05/assets\n"
     ]
    },
    {
     "name": "stdout",
     "output_type": "stream",
     "text": [
      "699/699 [==============================] - 118s 169ms/step - loss: 4.5008 - accuracy: 0.8937 - val_loss: 4.3908 - val_accuracy: 0.9128 - lr: 0.0010\n",
      "Epoch 9/125\n",
      "699/699 [==============================] - ETA: 0s - loss: 4.3562 - accuracy: 0.9030\n",
      "Epoch 9: val_accuracy improved from 0.91284 to 0.92184, saving model to model-05\n"
     ]
    },
    {
     "name": "stderr",
     "output_type": "stream",
     "text": [
      "WARNING:absl:Found untraced functions such as _jit_compiled_convolution_op, _jit_compiled_convolution_op, _jit_compiled_convolution_op, _jit_compiled_convolution_op, _jit_compiled_convolution_op while saving (showing 5 of 16). These functions will not be directly callable after loading.\n"
     ]
    },
    {
     "name": "stdout",
     "output_type": "stream",
     "text": [
      "INFO:tensorflow:Assets written to: model-05/assets\n"
     ]
    },
    {
     "name": "stderr",
     "output_type": "stream",
     "text": [
      "INFO:tensorflow:Assets written to: model-05/assets\n"
     ]
    },
    {
     "name": "stdout",
     "output_type": "stream",
     "text": [
      "699/699 [==============================] - 118s 169ms/step - loss: 4.3562 - accuracy: 0.9030 - val_loss: 4.2448 - val_accuracy: 0.9218 - lr: 0.0010\n",
      "Epoch 10/125\n",
      "699/699 [==============================] - ETA: 0s - loss: 4.2170 - accuracy: 0.9120\n",
      "Epoch 10: val_accuracy improved from 0.92184 to 0.92855, saving model to model-05\n"
     ]
    },
    {
     "name": "stderr",
     "output_type": "stream",
     "text": [
      "WARNING:absl:Found untraced functions such as _jit_compiled_convolution_op, _jit_compiled_convolution_op, _jit_compiled_convolution_op, _jit_compiled_convolution_op, _jit_compiled_convolution_op while saving (showing 5 of 16). These functions will not be directly callable after loading.\n"
     ]
    },
    {
     "name": "stdout",
     "output_type": "stream",
     "text": [
      "INFO:tensorflow:Assets written to: model-05/assets\n"
     ]
    },
    {
     "name": "stderr",
     "output_type": "stream",
     "text": [
      "INFO:tensorflow:Assets written to: model-05/assets\n"
     ]
    },
    {
     "name": "stdout",
     "output_type": "stream",
     "text": [
      "699/699 [==============================] - 119s 170ms/step - loss: 4.2170 - accuracy: 0.9120 - val_loss: 4.1148 - val_accuracy: 0.9286 - lr: 0.0010\n",
      "Epoch 11/125\n",
      "699/699 [==============================] - ETA: 0s - loss: 4.0894 - accuracy: 0.9185\n",
      "Epoch 11: val_accuracy improved from 0.92855 to 0.93668, saving model to model-05\n"
     ]
    },
    {
     "name": "stderr",
     "output_type": "stream",
     "text": [
      "WARNING:absl:Found untraced functions such as _jit_compiled_convolution_op, _jit_compiled_convolution_op, _jit_compiled_convolution_op, _jit_compiled_convolution_op, _jit_compiled_convolution_op while saving (showing 5 of 16). These functions will not be directly callable after loading.\n"
     ]
    },
    {
     "name": "stdout",
     "output_type": "stream",
     "text": [
      "INFO:tensorflow:Assets written to: model-05/assets\n"
     ]
    },
    {
     "name": "stderr",
     "output_type": "stream",
     "text": [
      "INFO:tensorflow:Assets written to: model-05/assets\n"
     ]
    },
    {
     "name": "stdout",
     "output_type": "stream",
     "text": [
      "699/699 [==============================] - 119s 170ms/step - loss: 4.0894 - accuracy: 0.9185 - val_loss: 3.9929 - val_accuracy: 0.9367 - lr: 0.0010\n",
      "Epoch 12/125\n",
      "699/699 [==============================] - ETA: 0s - loss: 3.9663 - accuracy: 0.9238\n",
      "Epoch 12: val_accuracy improved from 0.93668 to 0.93742, saving model to model-05\n"
     ]
    },
    {
     "name": "stderr",
     "output_type": "stream",
     "text": [
      "WARNING:absl:Found untraced functions such as _jit_compiled_convolution_op, _jit_compiled_convolution_op, _jit_compiled_convolution_op, _jit_compiled_convolution_op, _jit_compiled_convolution_op while saving (showing 5 of 16). These functions will not be directly callable after loading.\n"
     ]
    },
    {
     "name": "stdout",
     "output_type": "stream",
     "text": [
      "INFO:tensorflow:Assets written to: model-05/assets\n"
     ]
    },
    {
     "name": "stderr",
     "output_type": "stream",
     "text": [
      "INFO:tensorflow:Assets written to: model-05/assets\n"
     ]
    },
    {
     "name": "stdout",
     "output_type": "stream",
     "text": [
      "699/699 [==============================] - 119s 170ms/step - loss: 3.9663 - accuracy: 0.9238 - val_loss: 3.8795 - val_accuracy: 0.9374 - lr: 0.0010\n",
      "Epoch 13/125\n",
      "699/699 [==============================] - ETA: 0s - loss: 3.8514 - accuracy: 0.9284\n",
      "Epoch 13: val_accuracy improved from 0.93742 to 0.94480, saving model to model-05\n"
     ]
    },
    {
     "name": "stderr",
     "output_type": "stream",
     "text": [
      "WARNING:absl:Found untraced functions such as _jit_compiled_convolution_op, _jit_compiled_convolution_op, _jit_compiled_convolution_op, _jit_compiled_convolution_op, _jit_compiled_convolution_op while saving (showing 5 of 16). These functions will not be directly callable after loading.\n"
     ]
    },
    {
     "name": "stdout",
     "output_type": "stream",
     "text": [
      "INFO:tensorflow:Assets written to: model-05/assets\n"
     ]
    },
    {
     "name": "stderr",
     "output_type": "stream",
     "text": [
      "INFO:tensorflow:Assets written to: model-05/assets\n"
     ]
    },
    {
     "name": "stdout",
     "output_type": "stream",
     "text": [
      "699/699 [==============================] - 118s 169ms/step - loss: 3.8514 - accuracy: 0.9284 - val_loss: 3.7579 - val_accuracy: 0.9448 - lr: 0.0010\n",
      "Epoch 14/125\n",
      "699/699 [==============================] - ETA: 0s - loss: 3.7365 - accuracy: 0.9337\n",
      "Epoch 14: val_accuracy did not improve from 0.94480\n",
      "699/699 [==============================] - 113s 162ms/step - loss: 3.7365 - accuracy: 0.9337 - val_loss: 3.6592 - val_accuracy: 0.9447 - lr: 0.0010\n",
      "Epoch 15/125\n",
      "699/699 [==============================] - ETA: 0s - loss: 3.6297 - accuracy: 0.9365\n",
      "Epoch 15: val_accuracy improved from 0.94480 to 0.95004, saving model to model-05\n"
     ]
    },
    {
     "name": "stderr",
     "output_type": "stream",
     "text": [
      "WARNING:absl:Found untraced functions such as _jit_compiled_convolution_op, _jit_compiled_convolution_op, _jit_compiled_convolution_op, _jit_compiled_convolution_op, _jit_compiled_convolution_op while saving (showing 5 of 16). These functions will not be directly callable after loading.\n"
     ]
    },
    {
     "name": "stdout",
     "output_type": "stream",
     "text": [
      "INFO:tensorflow:Assets written to: model-05/assets\n"
     ]
    },
    {
     "name": "stderr",
     "output_type": "stream",
     "text": [
      "INFO:tensorflow:Assets written to: model-05/assets\n"
     ]
    },
    {
     "name": "stdout",
     "output_type": "stream",
     "text": [
      "699/699 [==============================] - 118s 168ms/step - loss: 3.6297 - accuracy: 0.9365 - val_loss: 3.5423 - val_accuracy: 0.9500 - lr: 0.0010\n",
      "Epoch 16/125\n",
      "699/699 [==============================] - ETA: 0s - loss: 3.5278 - accuracy: 0.9397\n",
      "Epoch 16: val_accuracy improved from 0.95004 to 0.95185, saving model to model-05\n"
     ]
    },
    {
     "name": "stderr",
     "output_type": "stream",
     "text": [
      "WARNING:absl:Found untraced functions such as _jit_compiled_convolution_op, _jit_compiled_convolution_op, _jit_compiled_convolution_op, _jit_compiled_convolution_op, _jit_compiled_convolution_op while saving (showing 5 of 16). These functions will not be directly callable after loading.\n"
     ]
    },
    {
     "name": "stdout",
     "output_type": "stream",
     "text": [
      "INFO:tensorflow:Assets written to: model-05/assets\n"
     ]
    },
    {
     "name": "stderr",
     "output_type": "stream",
     "text": [
      "INFO:tensorflow:Assets written to: model-05/assets\n"
     ]
    },
    {
     "name": "stdout",
     "output_type": "stream",
     "text": [
      "699/699 [==============================] - 118s 168ms/step - loss: 3.5278 - accuracy: 0.9397 - val_loss: 3.4437 - val_accuracy: 0.9519 - lr: 0.0010\n",
      "Epoch 17/125\n",
      "699/699 [==============================] - ETA: 0s - loss: 3.4289 - accuracy: 0.9423\n",
      "Epoch 17: val_accuracy improved from 0.95185 to 0.95830, saving model to model-05\n"
     ]
    },
    {
     "name": "stderr",
     "output_type": "stream",
     "text": [
      "WARNING:absl:Found untraced functions such as _jit_compiled_convolution_op, _jit_compiled_convolution_op, _jit_compiled_convolution_op, _jit_compiled_convolution_op, _jit_compiled_convolution_op while saving (showing 5 of 16). These functions will not be directly callable after loading.\n"
     ]
    },
    {
     "name": "stdout",
     "output_type": "stream",
     "text": [
      "INFO:tensorflow:Assets written to: model-05/assets\n"
     ]
    },
    {
     "name": "stderr",
     "output_type": "stream",
     "text": [
      "INFO:tensorflow:Assets written to: model-05/assets\n"
     ]
    },
    {
     "name": "stdout",
     "output_type": "stream",
     "text": [
      "699/699 [==============================] - 117s 168ms/step - loss: 3.4289 - accuracy: 0.9423 - val_loss: 3.3352 - val_accuracy: 0.9583 - lr: 0.0010\n",
      "Epoch 18/125\n",
      "699/699 [==============================] - ETA: 0s - loss: 3.3244 - accuracy: 0.9459\n",
      "Epoch 18: val_accuracy did not improve from 0.95830\n",
      "699/699 [==============================] - 113s 161ms/step - loss: 3.3244 - accuracy: 0.9459 - val_loss: 3.2686 - val_accuracy: 0.9504 - lr: 0.0010\n",
      "Epoch 19/125\n",
      "699/699 [==============================] - ETA: 0s - loss: 3.2364 - accuracy: 0.9477\n",
      "Epoch 19: val_accuracy did not improve from 0.95830\n",
      "699/699 [==============================] - 112s 160ms/step - loss: 3.2364 - accuracy: 0.9477 - val_loss: 3.1718 - val_accuracy: 0.9555 - lr: 0.0010\n",
      "Epoch 20/125\n",
      "699/699 [==============================] - ETA: 0s - loss: 3.1409 - accuracy: 0.9518\n",
      "Epoch 20: val_accuracy improved from 0.95830 to 0.96125, saving model to model-05\n"
     ]
    },
    {
     "name": "stderr",
     "output_type": "stream",
     "text": [
      "WARNING:absl:Found untraced functions such as _jit_compiled_convolution_op, _jit_compiled_convolution_op, _jit_compiled_convolution_op, _jit_compiled_convolution_op, _jit_compiled_convolution_op while saving (showing 5 of 16). These functions will not be directly callable after loading.\n"
     ]
    },
    {
     "name": "stdout",
     "output_type": "stream",
     "text": [
      "INFO:tensorflow:Assets written to: model-05/assets\n"
     ]
    },
    {
     "name": "stderr",
     "output_type": "stream",
     "text": [
      "INFO:tensorflow:Assets written to: model-05/assets\n"
     ]
    },
    {
     "name": "stdout",
     "output_type": "stream",
     "text": [
      "699/699 [==============================] - 119s 170ms/step - loss: 3.1409 - accuracy: 0.9518 - val_loss: 3.0705 - val_accuracy: 0.9613 - lr: 0.0010\n",
      "Epoch 21/125\n",
      "699/699 [==============================] - ETA: 0s - loss: 3.0524 - accuracy: 0.9529\n",
      "Epoch 21: val_accuracy improved from 0.96125 to 0.96421, saving model to model-05\n"
     ]
    },
    {
     "name": "stderr",
     "output_type": "stream",
     "text": [
      "WARNING:absl:Found untraced functions such as _jit_compiled_convolution_op, _jit_compiled_convolution_op, _jit_compiled_convolution_op, _jit_compiled_convolution_op, _jit_compiled_convolution_op while saving (showing 5 of 16). These functions will not be directly callable after loading.\n"
     ]
    },
    {
     "name": "stdout",
     "output_type": "stream",
     "text": [
      "INFO:tensorflow:Assets written to: model-05/assets\n"
     ]
    },
    {
     "name": "stderr",
     "output_type": "stream",
     "text": [
      "INFO:tensorflow:Assets written to: model-05/assets\n"
     ]
    },
    {
     "name": "stdout",
     "output_type": "stream",
     "text": [
      "699/699 [==============================] - 117s 168ms/step - loss: 3.0524 - accuracy: 0.9529 - val_loss: 2.9826 - val_accuracy: 0.9642 - lr: 0.0010\n",
      "Epoch 22/125\n",
      "699/699 [==============================] - ETA: 0s - loss: 2.9709 - accuracy: 0.9529\n",
      "Epoch 22: val_accuracy did not improve from 0.96421\n",
      "699/699 [==============================] - 113s 161ms/step - loss: 2.9709 - accuracy: 0.9529 - val_loss: 2.9150 - val_accuracy: 0.9593 - lr: 0.0010\n",
      "Epoch 23/125\n",
      "699/699 [==============================] - ETA: 0s - loss: 2.8872 - accuracy: 0.9546\n",
      "Epoch 23: val_accuracy did not improve from 0.96421\n",
      "699/699 [==============================] - 112s 160ms/step - loss: 2.8872 - accuracy: 0.9546 - val_loss: 2.8410 - val_accuracy: 0.9584 - lr: 0.0010\n",
      "Epoch 24/125\n",
      "699/699 [==============================] - ETA: 0s - loss: 2.8079 - accuracy: 0.9562\n",
      "Epoch 24: val_accuracy did not improve from 0.96421\n",
      "699/699 [==============================] - 112s 160ms/step - loss: 2.8079 - accuracy: 0.9562 - val_loss: 2.7571 - val_accuracy: 0.9629 - lr: 0.0010\n",
      "Epoch 25/125\n",
      "699/699 [==============================] - ETA: 0s - loss: 2.7311 - accuracy: 0.9568\n",
      "Epoch 25: val_accuracy improved from 0.96421 to 0.96589, saving model to model-05\n"
     ]
    },
    {
     "name": "stderr",
     "output_type": "stream",
     "text": [
      "WARNING:absl:Found untraced functions such as _jit_compiled_convolution_op, _jit_compiled_convolution_op, _jit_compiled_convolution_op, _jit_compiled_convolution_op, _jit_compiled_convolution_op while saving (showing 5 of 16). These functions will not be directly callable after loading.\n"
     ]
    },
    {
     "name": "stdout",
     "output_type": "stream",
     "text": [
      "INFO:tensorflow:Assets written to: model-05/assets\n"
     ]
    },
    {
     "name": "stderr",
     "output_type": "stream",
     "text": [
      "INFO:tensorflow:Assets written to: model-05/assets\n"
     ]
    },
    {
     "name": "stdout",
     "output_type": "stream",
     "text": [
      "699/699 [==============================] - 117s 168ms/step - loss: 2.7311 - accuracy: 0.9568 - val_loss: 2.6696 - val_accuracy: 0.9659 - lr: 0.0010\n",
      "Epoch 26/125\n",
      "699/699 [==============================] - ETA: 0s - loss: 2.6554 - accuracy: 0.9595\n",
      "Epoch 26: val_accuracy did not improve from 0.96589\n",
      "699/699 [==============================] - 112s 160ms/step - loss: 2.6554 - accuracy: 0.9595 - val_loss: 2.6017 - val_accuracy: 0.9658 - lr: 0.0010\n",
      "Epoch 27/125\n",
      "699/699 [==============================] - ETA: 0s - loss: 2.5815 - accuracy: 0.9603\n",
      "Epoch 27: val_accuracy did not improve from 0.96589\n",
      "699/699 [==============================] - 112s 160ms/step - loss: 2.5815 - accuracy: 0.9603 - val_loss: 2.5559 - val_accuracy: 0.9568 - lr: 0.0010\n",
      "Epoch 28/125\n",
      "699/699 [==============================] - ETA: 0s - loss: 2.5112 - accuracy: 0.9616\n",
      "Epoch 28: val_accuracy improved from 0.96589 to 0.96609, saving model to model-05\n"
     ]
    },
    {
     "name": "stderr",
     "output_type": "stream",
     "text": [
      "WARNING:absl:Found untraced functions such as _jit_compiled_convolution_op, _jit_compiled_convolution_op, _jit_compiled_convolution_op, _jit_compiled_convolution_op, _jit_compiled_convolution_op while saving (showing 5 of 16). These functions will not be directly callable after loading.\n"
     ]
    },
    {
     "name": "stdout",
     "output_type": "stream",
     "text": [
      "INFO:tensorflow:Assets written to: model-05/assets\n"
     ]
    },
    {
     "name": "stderr",
     "output_type": "stream",
     "text": [
      "INFO:tensorflow:Assets written to: model-05/assets\n"
     ]
    },
    {
     "name": "stdout",
     "output_type": "stream",
     "text": [
      "699/699 [==============================] - 117s 168ms/step - loss: 2.5112 - accuracy: 0.9616 - val_loss: 2.4626 - val_accuracy: 0.9661 - lr: 0.0010\n",
      "Epoch 29/125\n",
      "699/699 [==============================] - ETA: 0s - loss: 2.4436 - accuracy: 0.9627\n",
      "Epoch 29: val_accuracy did not improve from 0.96609\n",
      "699/699 [==============================] - 111s 159ms/step - loss: 2.4436 - accuracy: 0.9627 - val_loss: 2.4030 - val_accuracy: 0.9656 - lr: 0.0010\n",
      "Epoch 30/125\n",
      "699/699 [==============================] - ETA: 0s - loss: 2.3718 - accuracy: 0.9638\n",
      "Epoch 30: val_accuracy improved from 0.96609 to 0.96992, saving model to model-05\n"
     ]
    },
    {
     "name": "stderr",
     "output_type": "stream",
     "text": [
      "WARNING:absl:Found untraced functions such as _jit_compiled_convolution_op, _jit_compiled_convolution_op, _jit_compiled_convolution_op, _jit_compiled_convolution_op, _jit_compiled_convolution_op while saving (showing 5 of 16). These functions will not be directly callable after loading.\n"
     ]
    },
    {
     "name": "stdout",
     "output_type": "stream",
     "text": [
      "INFO:tensorflow:Assets written to: model-05/assets\n"
     ]
    },
    {
     "name": "stderr",
     "output_type": "stream",
     "text": [
      "INFO:tensorflow:Assets written to: model-05/assets\n"
     ]
    },
    {
     "name": "stdout",
     "output_type": "stream",
     "text": [
      "699/699 [==============================] - 116s 166ms/step - loss: 2.3718 - accuracy: 0.9638 - val_loss: 2.3255 - val_accuracy: 0.9699 - lr: 0.0010\n",
      "Epoch 31/125\n",
      "699/699 [==============================] - ETA: 0s - loss: 2.3126 - accuracy: 0.9642\n",
      "Epoch 31: val_accuracy did not improve from 0.96992\n",
      "699/699 [==============================] - 112s 160ms/step - loss: 2.3126 - accuracy: 0.9642 - val_loss: 2.2693 - val_accuracy: 0.9690 - lr: 0.0010\n",
      "Epoch 32/125\n",
      "699/699 [==============================] - ETA: 0s - loss: 2.2499 - accuracy: 0.9636\n",
      "Epoch 32: val_accuracy improved from 0.96992 to 0.97133, saving model to model-05\n"
     ]
    },
    {
     "name": "stderr",
     "output_type": "stream",
     "text": [
      "WARNING:absl:Found untraced functions such as _jit_compiled_convolution_op, _jit_compiled_convolution_op, _jit_compiled_convolution_op, _jit_compiled_convolution_op, _jit_compiled_convolution_op while saving (showing 5 of 16). These functions will not be directly callable after loading.\n"
     ]
    },
    {
     "name": "stdout",
     "output_type": "stream",
     "text": [
      "INFO:tensorflow:Assets written to: model-05/assets\n"
     ]
    },
    {
     "name": "stderr",
     "output_type": "stream",
     "text": [
      "INFO:tensorflow:Assets written to: model-05/assets\n"
     ]
    },
    {
     "name": "stdout",
     "output_type": "stream",
     "text": [
      "699/699 [==============================] - 117s 167ms/step - loss: 2.2499 - accuracy: 0.9636 - val_loss: 2.1963 - val_accuracy: 0.9713 - lr: 0.0010\n",
      "Epoch 33/125\n",
      "699/699 [==============================] - ETA: 0s - loss: 2.1877 - accuracy: 0.9656\n",
      "Epoch 33: val_accuracy did not improve from 0.97133\n",
      "699/699 [==============================] - 112s 160ms/step - loss: 2.1877 - accuracy: 0.9656 - val_loss: 2.1488 - val_accuracy: 0.9695 - lr: 0.0010\n",
      "Epoch 34/125\n",
      "699/699 [==============================] - ETA: 0s - loss: 2.1273 - accuracy: 0.9660\n",
      "Epoch 34: val_accuracy improved from 0.97133 to 0.97307, saving model to model-05\n"
     ]
    },
    {
     "name": "stderr",
     "output_type": "stream",
     "text": [
      "WARNING:absl:Found untraced functions such as _jit_compiled_convolution_op, _jit_compiled_convolution_op, _jit_compiled_convolution_op, _jit_compiled_convolution_op, _jit_compiled_convolution_op while saving (showing 5 of 16). These functions will not be directly callable after loading.\n"
     ]
    },
    {
     "name": "stdout",
     "output_type": "stream",
     "text": [
      "INFO:tensorflow:Assets written to: model-05/assets\n"
     ]
    },
    {
     "name": "stderr",
     "output_type": "stream",
     "text": [
      "INFO:tensorflow:Assets written to: model-05/assets\n"
     ]
    },
    {
     "name": "stdout",
     "output_type": "stream",
     "text": [
      "699/699 [==============================] - 116s 166ms/step - loss: 2.1273 - accuracy: 0.9660 - val_loss: 2.0795 - val_accuracy: 0.9731 - lr: 0.0010\n",
      "Epoch 35/125\n",
      "699/699 [==============================] - ETA: 0s - loss: 2.0696 - accuracy: 0.9670\n",
      "Epoch 35: val_accuracy improved from 0.97307 to 0.97415, saving model to model-05\n"
     ]
    },
    {
     "name": "stderr",
     "output_type": "stream",
     "text": [
      "WARNING:absl:Found untraced functions such as _jit_compiled_convolution_op, _jit_compiled_convolution_op, _jit_compiled_convolution_op, _jit_compiled_convolution_op, _jit_compiled_convolution_op while saving (showing 5 of 16). These functions will not be directly callable after loading.\n"
     ]
    },
    {
     "name": "stdout",
     "output_type": "stream",
     "text": [
      "INFO:tensorflow:Assets written to: model-05/assets\n"
     ]
    },
    {
     "name": "stderr",
     "output_type": "stream",
     "text": [
      "INFO:tensorflow:Assets written to: model-05/assets\n"
     ]
    },
    {
     "name": "stdout",
     "output_type": "stream",
     "text": [
      "699/699 [==============================] - 115s 165ms/step - loss: 2.0696 - accuracy: 0.9670 - val_loss: 2.0249 - val_accuracy: 0.9741 - lr: 0.0010\n",
      "Epoch 36/125\n",
      "699/699 [==============================] - ETA: 0s - loss: 2.0120 - accuracy: 0.9687\n",
      "Epoch 36: val_accuracy improved from 0.97415 to 0.97455, saving model to model-05\n"
     ]
    },
    {
     "name": "stderr",
     "output_type": "stream",
     "text": [
      "WARNING:absl:Found untraced functions such as _jit_compiled_convolution_op, _jit_compiled_convolution_op, _jit_compiled_convolution_op, _jit_compiled_convolution_op, _jit_compiled_convolution_op while saving (showing 5 of 16). These functions will not be directly callable after loading.\n"
     ]
    },
    {
     "name": "stdout",
     "output_type": "stream",
     "text": [
      "INFO:tensorflow:Assets written to: model-05/assets\n"
     ]
    },
    {
     "name": "stderr",
     "output_type": "stream",
     "text": [
      "INFO:tensorflow:Assets written to: model-05/assets\n"
     ]
    },
    {
     "name": "stdout",
     "output_type": "stream",
     "text": [
      "699/699 [==============================] - 116s 166ms/step - loss: 2.0120 - accuracy: 0.9687 - val_loss: 1.9684 - val_accuracy: 0.9746 - lr: 0.0010\n",
      "Epoch 37/125\n",
      "699/699 [==============================] - ETA: 0s - loss: 1.9612 - accuracy: 0.9685\n",
      "Epoch 37: val_accuracy did not improve from 0.97455\n",
      "699/699 [==============================] - 111s 159ms/step - loss: 1.9612 - accuracy: 0.9685 - val_loss: 1.9219 - val_accuracy: 0.9724 - lr: 0.0010\n",
      "Epoch 38/125\n",
      "699/699 [==============================] - ETA: 0s - loss: 1.9064 - accuracy: 0.9700\n",
      "Epoch 38: val_accuracy did not improve from 0.97455\n",
      "699/699 [==============================] - 111s 159ms/step - loss: 1.9064 - accuracy: 0.9700 - val_loss: 1.8669 - val_accuracy: 0.9741 - lr: 0.0010\n",
      "Epoch 39/125\n",
      "699/699 [==============================] - ETA: 0s - loss: 1.8525 - accuracy: 0.9709\n",
      "Epoch 39: val_accuracy did not improve from 0.97455\n",
      "699/699 [==============================] - 111s 159ms/step - loss: 1.8525 - accuracy: 0.9709 - val_loss: 1.8178 - val_accuracy: 0.9739 - lr: 0.0010\n",
      "Epoch 40/125\n",
      "699/699 [==============================] - ETA: 0s - loss: 1.8045 - accuracy: 0.9710\n",
      "Epoch 40: val_accuracy did not improve from 0.97455\n",
      "699/699 [==============================] - 111s 159ms/step - loss: 1.8045 - accuracy: 0.9710 - val_loss: 1.7714 - val_accuracy: 0.9746 - lr: 0.0010\n",
      "Epoch 41/125\n",
      "699/699 [==============================] - ETA: 0s - loss: 1.7563 - accuracy: 0.9701\n",
      "Epoch 41: val_accuracy did not improve from 0.97455\n",
      "699/699 [==============================] - 111s 158ms/step - loss: 1.7563 - accuracy: 0.9701 - val_loss: 1.7270 - val_accuracy: 0.9723 - lr: 0.0010\n",
      "Epoch 42/125\n",
      "699/699 [==============================] - ETA: 0s - loss: 1.7100 - accuracy: 0.9714\n",
      "Epoch 42: val_accuracy improved from 0.97455 to 0.97690, saving model to model-05\n"
     ]
    },
    {
     "name": "stderr",
     "output_type": "stream",
     "text": [
      "WARNING:absl:Found untraced functions such as _jit_compiled_convolution_op, _jit_compiled_convolution_op, _jit_compiled_convolution_op, _jit_compiled_convolution_op, _jit_compiled_convolution_op while saving (showing 5 of 16). These functions will not be directly callable after loading.\n"
     ]
    },
    {
     "name": "stdout",
     "output_type": "stream",
     "text": [
      "INFO:tensorflow:Assets written to: model-05/assets\n"
     ]
    },
    {
     "name": "stderr",
     "output_type": "stream",
     "text": [
      "INFO:tensorflow:Assets written to: model-05/assets\n"
     ]
    },
    {
     "name": "stdout",
     "output_type": "stream",
     "text": [
      "699/699 [==============================] - 115s 164ms/step - loss: 1.7100 - accuracy: 0.9714 - val_loss: 1.6724 - val_accuracy: 0.9769 - lr: 0.0010\n",
      "Epoch 43/125\n",
      "699/699 [==============================] - ETA: 0s - loss: 1.6612 - accuracy: 0.9730\n",
      "Epoch 43: val_accuracy did not improve from 0.97690\n",
      "699/699 [==============================] - 110s 157ms/step - loss: 1.6612 - accuracy: 0.9730 - val_loss: 1.6373 - val_accuracy: 0.9734 - lr: 0.0010\n",
      "Epoch 44/125\n",
      "699/699 [==============================] - ETA: 0s - loss: 1.6186 - accuracy: 0.9729\n",
      "Epoch 44: val_accuracy did not improve from 0.97690\n",
      "699/699 [==============================] - 111s 158ms/step - loss: 1.6186 - accuracy: 0.9729 - val_loss: 1.5930 - val_accuracy: 0.9735 - lr: 0.0010\n",
      "Epoch 45/125\n",
      "699/699 [==============================] - ETA: 0s - loss: 1.5732 - accuracy: 0.9735\n",
      "Epoch 45: val_accuracy did not improve from 0.97690\n",
      "699/699 [==============================] - 111s 158ms/step - loss: 1.5732 - accuracy: 0.9735 - val_loss: 1.5484 - val_accuracy: 0.9752 - lr: 0.0010\n",
      "Epoch 46/125\n",
      "699/699 [==============================] - ETA: 0s - loss: 1.5303 - accuracy: 0.9745\n",
      "Epoch 46: val_accuracy did not improve from 0.97690\n",
      "699/699 [==============================] - 111s 159ms/step - loss: 1.5303 - accuracy: 0.9745 - val_loss: 1.5347 - val_accuracy: 0.9652 - lr: 0.0010\n",
      "Epoch 47/125\n",
      "699/699 [==============================] - ETA: 0s - loss: 1.4926 - accuracy: 0.9726\n",
      "Epoch 47: val_accuracy did not improve from 0.97690\n",
      "699/699 [==============================] - 111s 158ms/step - loss: 1.4926 - accuracy: 0.9726 - val_loss: 1.4704 - val_accuracy: 0.9754 - lr: 0.0010\n",
      "Epoch 48/125\n",
      "699/699 [==============================] - ETA: 0s - loss: 1.4525 - accuracy: 0.9742\n",
      "Epoch 48: val_accuracy improved from 0.97690 to 0.97811, saving model to model-05\n"
     ]
    },
    {
     "name": "stderr",
     "output_type": "stream",
     "text": [
      "WARNING:absl:Found untraced functions such as _jit_compiled_convolution_op, _jit_compiled_convolution_op, _jit_compiled_convolution_op, _jit_compiled_convolution_op, _jit_compiled_convolution_op while saving (showing 5 of 16). These functions will not be directly callable after loading.\n"
     ]
    },
    {
     "name": "stdout",
     "output_type": "stream",
     "text": [
      "INFO:tensorflow:Assets written to: model-05/assets\n"
     ]
    },
    {
     "name": "stderr",
     "output_type": "stream",
     "text": [
      "INFO:tensorflow:Assets written to: model-05/assets\n"
     ]
    },
    {
     "name": "stdout",
     "output_type": "stream",
     "text": [
      "699/699 [==============================] - 115s 164ms/step - loss: 1.4525 - accuracy: 0.9742 - val_loss: 1.4250 - val_accuracy: 0.9781 - lr: 0.0010\n",
      "Epoch 49/125\n",
      "699/699 [==============================] - ETA: 0s - loss: 1.4107 - accuracy: 0.9758\n",
      "Epoch 49: val_accuracy improved from 0.97811 to 0.97838, saving model to model-05\n"
     ]
    },
    {
     "name": "stderr",
     "output_type": "stream",
     "text": [
      "WARNING:absl:Found untraced functions such as _jit_compiled_convolution_op, _jit_compiled_convolution_op, _jit_compiled_convolution_op, _jit_compiled_convolution_op, _jit_compiled_convolution_op while saving (showing 5 of 16). These functions will not be directly callable after loading.\n"
     ]
    },
    {
     "name": "stdout",
     "output_type": "stream",
     "text": [
      "INFO:tensorflow:Assets written to: model-05/assets\n"
     ]
    },
    {
     "name": "stderr",
     "output_type": "stream",
     "text": [
      "INFO:tensorflow:Assets written to: model-05/assets\n"
     ]
    },
    {
     "name": "stdout",
     "output_type": "stream",
     "text": [
      "699/699 [==============================] - 116s 165ms/step - loss: 1.4107 - accuracy: 0.9758 - val_loss: 1.3854 - val_accuracy: 0.9784 - lr: 0.0010\n",
      "Epoch 50/125\n",
      "699/699 [==============================] - ETA: 0s - loss: 1.3730 - accuracy: 0.9761\n",
      "Epoch 50: val_accuracy improved from 0.97838 to 0.97858, saving model to model-05\n"
     ]
    },
    {
     "name": "stderr",
     "output_type": "stream",
     "text": [
      "WARNING:absl:Found untraced functions such as _jit_compiled_convolution_op, _jit_compiled_convolution_op, _jit_compiled_convolution_op, _jit_compiled_convolution_op, _jit_compiled_convolution_op while saving (showing 5 of 16). These functions will not be directly callable after loading.\n"
     ]
    },
    {
     "name": "stdout",
     "output_type": "stream",
     "text": [
      "INFO:tensorflow:Assets written to: model-05/assets\n"
     ]
    },
    {
     "name": "stderr",
     "output_type": "stream",
     "text": [
      "INFO:tensorflow:Assets written to: model-05/assets\n"
     ]
    },
    {
     "name": "stdout",
     "output_type": "stream",
     "text": [
      "699/699 [==============================] - 114s 164ms/step - loss: 1.3730 - accuracy: 0.9761 - val_loss: 1.3470 - val_accuracy: 0.9786 - lr: 0.0010\n",
      "Epoch 51/125\n",
      "699/699 [==============================] - ETA: 0s - loss: 1.3351 - accuracy: 0.9772\n",
      "Epoch 51: val_accuracy improved from 0.97858 to 0.97938, saving model to model-05\n"
     ]
    },
    {
     "name": "stderr",
     "output_type": "stream",
     "text": [
      "WARNING:absl:Found untraced functions such as _jit_compiled_convolution_op, _jit_compiled_convolution_op, _jit_compiled_convolution_op, _jit_compiled_convolution_op, _jit_compiled_convolution_op while saving (showing 5 of 16). These functions will not be directly callable after loading.\n"
     ]
    },
    {
     "name": "stdout",
     "output_type": "stream",
     "text": [
      "INFO:tensorflow:Assets written to: model-05/assets\n"
     ]
    },
    {
     "name": "stderr",
     "output_type": "stream",
     "text": [
      "INFO:tensorflow:Assets written to: model-05/assets\n"
     ]
    },
    {
     "name": "stdout",
     "output_type": "stream",
     "text": [
      "699/699 [==============================] - 115s 165ms/step - loss: 1.3351 - accuracy: 0.9772 - val_loss: 1.3085 - val_accuracy: 0.9794 - lr: 0.0010\n",
      "Epoch 52/125\n",
      "699/699 [==============================] - ETA: 0s - loss: 1.3016 - accuracy: 0.9765\n",
      "Epoch 52: val_accuracy improved from 0.97938 to 0.97992, saving model to model-05\n"
     ]
    },
    {
     "name": "stderr",
     "output_type": "stream",
     "text": [
      "WARNING:absl:Found untraced functions such as _jit_compiled_convolution_op, _jit_compiled_convolution_op, _jit_compiled_convolution_op, _jit_compiled_convolution_op, _jit_compiled_convolution_op while saving (showing 5 of 16). These functions will not be directly callable after loading.\n"
     ]
    },
    {
     "name": "stdout",
     "output_type": "stream",
     "text": [
      "INFO:tensorflow:Assets written to: model-05/assets\n"
     ]
    },
    {
     "name": "stderr",
     "output_type": "stream",
     "text": [
      "INFO:tensorflow:Assets written to: model-05/assets\n"
     ]
    },
    {
     "name": "stdout",
     "output_type": "stream",
     "text": [
      "699/699 [==============================] - 115s 164ms/step - loss: 1.3016 - accuracy: 0.9765 - val_loss: 1.2738 - val_accuracy: 0.9799 - lr: 0.0010\n",
      "Epoch 53/125\n",
      "699/699 [==============================] - ETA: 0s - loss: 1.2681 - accuracy: 0.9764\n",
      "Epoch 53: val_accuracy improved from 0.97992 to 0.98113, saving model to model-05\n"
     ]
    },
    {
     "name": "stderr",
     "output_type": "stream",
     "text": [
      "WARNING:absl:Found untraced functions such as _jit_compiled_convolution_op, _jit_compiled_convolution_op, _jit_compiled_convolution_op, _jit_compiled_convolution_op, _jit_compiled_convolution_op while saving (showing 5 of 16). These functions will not be directly callable after loading.\n"
     ]
    },
    {
     "name": "stdout",
     "output_type": "stream",
     "text": [
      "INFO:tensorflow:Assets written to: model-05/assets\n"
     ]
    },
    {
     "name": "stderr",
     "output_type": "stream",
     "text": [
      "INFO:tensorflow:Assets written to: model-05/assets\n"
     ]
    },
    {
     "name": "stdout",
     "output_type": "stream",
     "text": [
      "699/699 [==============================] - 114s 163ms/step - loss: 1.2681 - accuracy: 0.9764 - val_loss: 1.2405 - val_accuracy: 0.9811 - lr: 0.0010\n",
      "Epoch 54/125\n",
      "699/699 [==============================] - ETA: 0s - loss: 1.2351 - accuracy: 0.9770\n",
      "Epoch 54: val_accuracy did not improve from 0.98113\n",
      "699/699 [==============================] - 109s 156ms/step - loss: 1.2351 - accuracy: 0.9770 - val_loss: 1.2182 - val_accuracy: 0.9767 - lr: 0.0010\n",
      "Epoch 55/125\n",
      "699/699 [==============================] - ETA: 0s - loss: 1.2022 - accuracy: 0.9775\n",
      "Epoch 55: val_accuracy did not improve from 0.98113\n",
      "699/699 [==============================] - 109s 156ms/step - loss: 1.2022 - accuracy: 0.9775 - val_loss: 1.1825 - val_accuracy: 0.9782 - lr: 0.0010\n",
      "Epoch 56/125\n",
      "699/699 [==============================] - ETA: 0s - loss: 1.1688 - accuracy: 0.9781\n",
      "Epoch 56: val_accuracy did not improve from 0.98113\n",
      "699/699 [==============================] - 110s 157ms/step - loss: 1.1688 - accuracy: 0.9781 - val_loss: 1.1478 - val_accuracy: 0.9792 - lr: 0.0010\n",
      "Epoch 57/125\n",
      "586/699 [========================>.....] - ETA: 13s - loss: 1.1406 - accuracy: 0.9777\n",
      "Epoch 57: val_accuracy did not improve from 0.98113\n",
      "699/699 [==============================] - 110s 157ms/step - loss: 1.1388 - accuracy: 0.9777 - val_loss: 1.1179 - val_accuracy: 0.9803 - lr: 0.0010\n",
      "Epoch 58/125\n",
      "699/699 [==============================] - ETA: 0s - loss: 1.1060 - accuracy: 0.9786\n",
      "Epoch 58: val_accuracy did not improve from 0.98113\n",
      "699/699 [==============================] - 110s 157ms/step - loss: 1.1060 - accuracy: 0.9786 - val_loss: 1.0829 - val_accuracy: 0.9802 - lr: 0.0010\n",
      "Epoch 59/125\n",
      "699/699 [==============================] - ETA: 0s - loss: 1.0793 - accuracy: 0.9784\n",
      "Epoch 59: val_accuracy improved from 0.98113 to 0.98288, saving model to model-05\n"
     ]
    },
    {
     "name": "stderr",
     "output_type": "stream",
     "text": [
      "WARNING:absl:Found untraced functions such as _jit_compiled_convolution_op, _jit_compiled_convolution_op, _jit_compiled_convolution_op, _jit_compiled_convolution_op, _jit_compiled_convolution_op while saving (showing 5 of 16). These functions will not be directly callable after loading.\n"
     ]
    },
    {
     "name": "stdout",
     "output_type": "stream",
     "text": [
      "INFO:tensorflow:Assets written to: model-05/assets\n"
     ]
    },
    {
     "name": "stderr",
     "output_type": "stream",
     "text": [
      "INFO:tensorflow:Assets written to: model-05/assets\n"
     ]
    },
    {
     "name": "stdout",
     "output_type": "stream",
     "text": [
      "699/699 [==============================] - 114s 163ms/step - loss: 1.0793 - accuracy: 0.9784 - val_loss: 1.0568 - val_accuracy: 0.9829 - lr: 0.0010\n",
      "Epoch 60/125\n",
      "699/699 [==============================] - ETA: 0s - loss: 1.0506 - accuracy: 0.9781\n",
      "Epoch 60: val_accuracy did not improve from 0.98288\n",
      "699/699 [==============================] - 109s 155ms/step - loss: 1.0506 - accuracy: 0.9781 - val_loss: 1.0235 - val_accuracy: 0.9829 - lr: 0.0010\n",
      "Epoch 61/125\n",
      "699/699 [==============================] - ETA: 0s - loss: 1.0233 - accuracy: 0.9785\n",
      "Epoch 61: val_accuracy improved from 0.98288 to 0.98422, saving model to model-05\n"
     ]
    },
    {
     "name": "stderr",
     "output_type": "stream",
     "text": [
      "WARNING:absl:Found untraced functions such as _jit_compiled_convolution_op, _jit_compiled_convolution_op, _jit_compiled_convolution_op, _jit_compiled_convolution_op, _jit_compiled_convolution_op while saving (showing 5 of 16). These functions will not be directly callable after loading.\n"
     ]
    },
    {
     "name": "stdout",
     "output_type": "stream",
     "text": [
      "INFO:tensorflow:Assets written to: model-05/assets\n"
     ]
    },
    {
     "name": "stderr",
     "output_type": "stream",
     "text": [
      "INFO:tensorflow:Assets written to: model-05/assets\n"
     ]
    },
    {
     "name": "stdout",
     "output_type": "stream",
     "text": [
      "699/699 [==============================] - 114s 163ms/step - loss: 1.0233 - accuracy: 0.9785 - val_loss: 0.9987 - val_accuracy: 0.9842 - lr: 0.0010\n",
      "Epoch 62/125\n",
      "699/699 [==============================] - ETA: 0s - loss: 0.9967 - accuracy: 0.9798\n",
      "Epoch 62: val_accuracy did not improve from 0.98422\n",
      "699/699 [==============================] - 109s 156ms/step - loss: 0.9967 - accuracy: 0.9798 - val_loss: 0.9765 - val_accuracy: 0.9815 - lr: 0.0010\n",
      "Epoch 63/125\n",
      "699/699 [==============================] - ETA: 0s - loss: 0.9707 - accuracy: 0.9793\n",
      "Epoch 63: val_accuracy did not improve from 0.98422\n",
      "699/699 [==============================] - 110s 157ms/step - loss: 0.9707 - accuracy: 0.9793 - val_loss: 0.9516 - val_accuracy: 0.9814 - lr: 0.0010\n",
      "Epoch 64/125\n",
      "699/699 [==============================] - ETA: 0s - loss: 0.9432 - accuracy: 0.9806\n",
      "Epoch 64: val_accuracy did not improve from 0.98422\n",
      "699/699 [==============================] - 109s 156ms/step - loss: 0.9432 - accuracy: 0.9806 - val_loss: 0.9299 - val_accuracy: 0.9814 - lr: 0.0010\n",
      "Epoch 65/125\n",
      "699/699 [==============================] - ETA: 0s - loss: 0.9204 - accuracy: 0.9798\n",
      "Epoch 65: val_accuracy did not improve from 0.98422\n",
      "699/699 [==============================] - 109s 156ms/step - loss: 0.9204 - accuracy: 0.9798 - val_loss: 0.9033 - val_accuracy: 0.9810 - lr: 0.0010\n",
      "Epoch 66/125\n",
      "699/699 [==============================] - ETA: 0s - loss: 0.8949 - accuracy: 0.9807\n",
      "Epoch 66: val_accuracy did not improve from 0.98422\n",
      "699/699 [==============================] - 109s 156ms/step - loss: 0.8949 - accuracy: 0.9807 - val_loss: 0.8763 - val_accuracy: 0.9819 - lr: 0.0010\n",
      "Epoch 67/125\n",
      "699/699 [==============================] - ETA: 0s - loss: 0.8721 - accuracy: 0.9804\n",
      "Epoch 67: val_accuracy did not improve from 0.98422\n",
      "699/699 [==============================] - 109s 156ms/step - loss: 0.8721 - accuracy: 0.9804 - val_loss: 0.8530 - val_accuracy: 0.9835 - lr: 0.0010\n",
      "Epoch 68/125\n",
      "699/699 [==============================] - ETA: 0s - loss: 0.8508 - accuracy: 0.9800\n",
      "Epoch 68: val_accuracy did not improve from 0.98422\n",
      "699/699 [==============================] - 110s 157ms/step - loss: 0.8508 - accuracy: 0.9800 - val_loss: 0.8320 - val_accuracy: 0.9823 - lr: 0.0010\n",
      "Epoch 69/125\n",
      "699/699 [==============================] - ETA: 0s - loss: 0.8243 - accuracy: 0.9823\n",
      "Epoch 69: val_accuracy did not improve from 0.98422\n",
      "699/699 [==============================] - 108s 155ms/step - loss: 0.8243 - accuracy: 0.9823 - val_loss: 0.8280 - val_accuracy: 0.9780 - lr: 0.0010\n",
      "Epoch 70/125\n",
      "699/699 [==============================] - ETA: 0s - loss: 0.8040 - accuracy: 0.9812\n",
      "Epoch 70: val_accuracy did not improve from 0.98422\n",
      "699/699 [==============================] - 110s 157ms/step - loss: 0.8040 - accuracy: 0.9812 - val_loss: 0.7991 - val_accuracy: 0.9816 - lr: 0.0010\n",
      "Epoch 71/125\n",
      "699/699 [==============================] - ETA: 0s - loss: 0.7831 - accuracy: 0.9821\n",
      "Epoch 71: val_accuracy did not improve from 0.98422\n",
      "699/699 [==============================] - 110s 157ms/step - loss: 0.7831 - accuracy: 0.9821 - val_loss: 0.7753 - val_accuracy: 0.9823 - lr: 0.0010\n",
      "Epoch 72/125\n",
      "699/699 [==============================] - ETA: 0s - loss: 0.7627 - accuracy: 0.9819\n",
      "Epoch 72: val_accuracy improved from 0.98422 to 0.98664, saving model to model-05\n"
     ]
    },
    {
     "name": "stderr",
     "output_type": "stream",
     "text": [
      "WARNING:absl:Found untraced functions such as _jit_compiled_convolution_op, _jit_compiled_convolution_op, _jit_compiled_convolution_op, _jit_compiled_convolution_op, _jit_compiled_convolution_op while saving (showing 5 of 16). These functions will not be directly callable after loading.\n"
     ]
    },
    {
     "name": "stdout",
     "output_type": "stream",
     "text": [
      "INFO:tensorflow:Assets written to: model-05/assets\n"
     ]
    },
    {
     "name": "stderr",
     "output_type": "stream",
     "text": [
      "INFO:tensorflow:Assets written to: model-05/assets\n"
     ]
    },
    {
     "name": "stdout",
     "output_type": "stream",
     "text": [
      "699/699 [==============================] - 113s 161ms/step - loss: 0.7627 - accuracy: 0.9819 - val_loss: 0.7417 - val_accuracy: 0.9866 - lr: 0.0010\n",
      "Epoch 73/125\n",
      "699/699 [==============================] - ETA: 0s - loss: 0.7441 - accuracy: 0.9820\n",
      "Epoch 73: val_accuracy did not improve from 0.98664\n",
      "699/699 [==============================] - 110s 157ms/step - loss: 0.7441 - accuracy: 0.9820 - val_loss: 0.7324 - val_accuracy: 0.9817 - lr: 0.0010\n",
      "Epoch 74/125\n",
      "699/699 [==============================] - ETA: 0s - loss: 0.7260 - accuracy: 0.9816\n",
      "Epoch 74: val_accuracy did not improve from 0.98664\n",
      "699/699 [==============================] - 110s 157ms/step - loss: 0.7260 - accuracy: 0.9816 - val_loss: 0.7128 - val_accuracy: 0.9834 - lr: 0.0010\n",
      "Epoch 75/125\n",
      "699/699 [==============================] - ETA: 0s - loss: 0.7082 - accuracy: 0.9821\n",
      "Epoch 75: val_accuracy did not improve from 0.98664\n",
      "699/699 [==============================] - 109s 156ms/step - loss: 0.7082 - accuracy: 0.9821 - val_loss: 0.6920 - val_accuracy: 0.9845 - lr: 0.0010\n",
      "Epoch 76/125\n",
      "699/699 [==============================] - ETA: 0s - loss: 0.6873 - accuracy: 0.9823\n",
      "Epoch 76: val_accuracy did not improve from 0.98664\n",
      "699/699 [==============================] - 110s 157ms/step - loss: 0.6873 - accuracy: 0.9823 - val_loss: 0.6775 - val_accuracy: 0.9835 - lr: 0.0010\n",
      "Epoch 77/125\n",
      "699/699 [==============================] - ETA: 0s - loss: 0.6698 - accuracy: 0.9826\n",
      "Epoch 77: val_accuracy did not improve from 0.98664\n",
      "699/699 [==============================] - 109s 156ms/step - loss: 0.6698 - accuracy: 0.9826 - val_loss: 0.6591 - val_accuracy: 0.9835 - lr: 0.0010\n",
      "Epoch 78/125\n",
      "699/699 [==============================] - ETA: 0s - loss: 0.6518 - accuracy: 0.9822\n",
      "Epoch 78: val_accuracy did not improve from 0.98664\n",
      "699/699 [==============================] - 109s 156ms/step - loss: 0.6518 - accuracy: 0.9822 - val_loss: 0.6447 - val_accuracy: 0.9830 - lr: 0.0010\n",
      "Epoch 79/125\n",
      "699/699 [==============================] - ETA: 0s - loss: 0.6335 - accuracy: 0.9834\n",
      "Epoch 79: val_accuracy did not improve from 0.98664\n",
      "699/699 [==============================] - 109s 156ms/step - loss: 0.6335 - accuracy: 0.9834 - val_loss: 0.6251 - val_accuracy: 0.9844 - lr: 0.0010\n",
      "Epoch 80/125\n",
      "699/699 [==============================] - ETA: 0s - loss: 0.6175 - accuracy: 0.9835\n",
      "Epoch 80: val_accuracy did not improve from 0.98664\n",
      "699/699 [==============================] - 109s 155ms/step - loss: 0.6175 - accuracy: 0.9835 - val_loss: 0.6160 - val_accuracy: 0.9807 - lr: 0.0010\n",
      "Epoch 81/125\n",
      "699/699 [==============================] - ETA: 0s - loss: 0.6023 - accuracy: 0.9840\n",
      "Epoch 81: val_accuracy did not improve from 0.98664\n",
      "699/699 [==============================] - 109s 155ms/step - loss: 0.6023 - accuracy: 0.9840 - val_loss: 0.6007 - val_accuracy: 0.9819 - lr: 0.0010\n",
      "Epoch 82/125\n",
      "699/699 [==============================] - ETA: 0s - loss: 0.5887 - accuracy: 0.9829\n",
      "Epoch 82: val_accuracy did not improve from 0.98664\n",
      "699/699 [==============================] - 109s 156ms/step - loss: 0.5887 - accuracy: 0.9829 - val_loss: 0.5950 - val_accuracy: 0.9791 - lr: 0.0010\n",
      "Epoch 83/125\n",
      "699/699 [==============================] - ETA: 0s - loss: 0.5727 - accuracy: 0.9835\n",
      "Epoch 83: val_accuracy did not improve from 0.98664\n",
      "699/699 [==============================] - 109s 156ms/step - loss: 0.5727 - accuracy: 0.9835 - val_loss: 0.5628 - val_accuracy: 0.9838 - lr: 0.0010\n",
      "Epoch 84/125\n",
      "699/699 [==============================] - ETA: 0s - loss: 0.5560 - accuracy: 0.9843\n",
      "Epoch 84: val_accuracy did not improve from 0.98664\n",
      "699/699 [==============================] - 109s 156ms/step - loss: 0.5560 - accuracy: 0.9843 - val_loss: 0.5569 - val_accuracy: 0.9826 - lr: 0.0010\n",
      "Epoch 85/125\n",
      "699/699 [==============================] - ETA: 0s - loss: 0.5432 - accuracy: 0.9843\n",
      "Epoch 85: val_accuracy did not improve from 0.98664\n",
      "699/699 [==============================] - 108s 155ms/step - loss: 0.5432 - accuracy: 0.9843 - val_loss: 0.5342 - val_accuracy: 0.9847 - lr: 0.0010\n",
      "Epoch 86/125\n",
      "699/699 [==============================] - ETA: 0s - loss: 0.5275 - accuracy: 0.9854\n",
      "Epoch 86: val_accuracy did not improve from 0.98664\n",
      "699/699 [==============================] - 109s 156ms/step - loss: 0.5275 - accuracy: 0.9854 - val_loss: 0.5222 - val_accuracy: 0.9849 - lr: 0.0010\n",
      "Epoch 87/125\n",
      "699/699 [==============================] - ETA: 0s - loss: 0.5146 - accuracy: 0.9856\n",
      "Epoch 87: val_accuracy did not improve from 0.98664\n",
      "699/699 [==============================] - 109s 156ms/step - loss: 0.5146 - accuracy: 0.9856 - val_loss: 0.5133 - val_accuracy: 0.9828 - lr: 0.0010\n",
      "Epoch 88/125\n",
      "699/699 [==============================] - ETA: 0s - loss: 0.5007 - accuracy: 0.9857\n",
      "Epoch 88: val_accuracy did not improve from 0.98664\n",
      "699/699 [==============================] - 108s 154ms/step - loss: 0.5007 - accuracy: 0.9857 - val_loss: 0.4959 - val_accuracy: 0.9846 - lr: 0.0010\n",
      "Epoch 89/125\n",
      "699/699 [==============================] - ETA: 0s - loss: 0.4920 - accuracy: 0.9839\n",
      "Epoch 89: val_accuracy did not improve from 0.98664\n",
      "699/699 [==============================] - 109s 155ms/step - loss: 0.4920 - accuracy: 0.9839 - val_loss: 0.4893 - val_accuracy: 0.9835 - lr: 0.0010\n",
      "Epoch 90/125\n",
      "699/699 [==============================] - ETA: 0s - loss: 0.4774 - accuracy: 0.9850\n",
      "Epoch 90: val_accuracy did not improve from 0.98664\n",
      "699/699 [==============================] - 109s 156ms/step - loss: 0.4774 - accuracy: 0.9850 - val_loss: 0.4767 - val_accuracy: 0.9843 - lr: 0.0010\n",
      "Epoch 91/125\n",
      "699/699 [==============================] - ETA: 0s - loss: 0.4659 - accuracy: 0.9850\n",
      "Epoch 91: val_accuracy did not improve from 0.98664\n",
      "699/699 [==============================] - 110s 157ms/step - loss: 0.4659 - accuracy: 0.9850 - val_loss: 0.4643 - val_accuracy: 0.9833 - lr: 0.0010\n",
      "Epoch 92/125\n",
      "699/699 [==============================] - ETA: 0s - loss: 0.4525 - accuracy: 0.9857\n",
      "Epoch 92: val_accuracy did not improve from 0.98664\n",
      "699/699 [==============================] - 109s 156ms/step - loss: 0.4525 - accuracy: 0.9857 - val_loss: 0.4537 - val_accuracy: 0.9830 - lr: 0.0010\n",
      "Epoch 93/125\n",
      "699/699 [==============================] - ETA: 0s - loss: 0.4425 - accuracy: 0.9858\n",
      "Epoch 93: val_accuracy did not improve from 0.98664\n",
      "699/699 [==============================] - 109s 155ms/step - loss: 0.4425 - accuracy: 0.9858 - val_loss: 0.4350 - val_accuracy: 0.9860 - lr: 0.0010\n",
      "Epoch 94/125\n",
      "699/699 [==============================] - ETA: 0s - loss: 0.4335 - accuracy: 0.9854\n",
      "Epoch 94: val_accuracy did not improve from 0.98664\n",
      "699/699 [==============================] - 109s 156ms/step - loss: 0.4335 - accuracy: 0.9854 - val_loss: 0.4235 - val_accuracy: 0.9858 - lr: 0.0010\n",
      "Epoch 95/125\n",
      "699/699 [==============================] - ETA: 0s - loss: 0.4213 - accuracy: 0.9853\n",
      "Epoch 95: val_accuracy did not improve from 0.98664\n",
      "699/699 [==============================] - 110s 157ms/step - loss: 0.4213 - accuracy: 0.9853 - val_loss: 0.4184 - val_accuracy: 0.9844 - lr: 0.0010\n",
      "Epoch 96/125\n",
      "699/699 [==============================] - ETA: 0s - loss: 0.4098 - accuracy: 0.9857\n",
      "Epoch 96: val_accuracy did not improve from 0.98664\n",
      "699/699 [==============================] - 109s 156ms/step - loss: 0.4098 - accuracy: 0.9857 - val_loss: 0.4163 - val_accuracy: 0.9817 - lr: 0.0010\n",
      "Epoch 97/125\n",
      "699/699 [==============================] - ETA: 0s - loss: 0.4017 - accuracy: 0.9855\n",
      "Epoch 97: val_accuracy did not improve from 0.98664\n",
      "699/699 [==============================] - 109s 156ms/step - loss: 0.4017 - accuracy: 0.9855 - val_loss: 0.3973 - val_accuracy: 0.9842 - lr: 0.0010\n",
      "Epoch 98/125\n",
      "699/699 [==============================] - ETA: 0s - loss: 0.3917 - accuracy: 0.9854\n",
      "Epoch 98: val_accuracy improved from 0.98664 to 0.98670, saving model to model-05\n"
     ]
    },
    {
     "name": "stderr",
     "output_type": "stream",
     "text": [
      "WARNING:absl:Found untraced functions such as _jit_compiled_convolution_op, _jit_compiled_convolution_op, _jit_compiled_convolution_op, _jit_compiled_convolution_op, _jit_compiled_convolution_op while saving (showing 5 of 16). These functions will not be directly callable after loading.\n"
     ]
    },
    {
     "name": "stdout",
     "output_type": "stream",
     "text": [
      "INFO:tensorflow:Assets written to: model-05/assets\n"
     ]
    },
    {
     "name": "stderr",
     "output_type": "stream",
     "text": [
      "INFO:tensorflow:Assets written to: model-05/assets\n"
     ]
    },
    {
     "name": "stdout",
     "output_type": "stream",
     "text": [
      "699/699 [==============================] - 113s 162ms/step - loss: 0.3917 - accuracy: 0.9854 - val_loss: 0.3836 - val_accuracy: 0.9867 - lr: 0.0010\n",
      "Epoch 99/125\n",
      "699/699 [==============================] - ETA: 0s - loss: 0.3830 - accuracy: 0.9855\n",
      "Epoch 99: val_accuracy did not improve from 0.98670\n",
      "699/699 [==============================] - 110s 158ms/step - loss: 0.3830 - accuracy: 0.9855 - val_loss: 0.3765 - val_accuracy: 0.9855 - lr: 0.0010\n",
      "Epoch 100/125\n",
      "699/699 [==============================] - ETA: 0s - loss: 0.3707 - accuracy: 0.9859\n",
      "Epoch 100: val_accuracy did not improve from 0.98670\n",
      "699/699 [==============================] - 111s 158ms/step - loss: 0.3707 - accuracy: 0.9859 - val_loss: 0.3706 - val_accuracy: 0.9849 - lr: 0.0010\n",
      "Epoch 101/125\n",
      "699/699 [==============================] - ETA: 0s - loss: 0.3635 - accuracy: 0.9856\n",
      "Epoch 101: val_accuracy improved from 0.98670 to 0.98697, saving model to model-05\n"
     ]
    },
    {
     "name": "stderr",
     "output_type": "stream",
     "text": [
      "WARNING:absl:Found untraced functions such as _jit_compiled_convolution_op, _jit_compiled_convolution_op, _jit_compiled_convolution_op, _jit_compiled_convolution_op, _jit_compiled_convolution_op while saving (showing 5 of 16). These functions will not be directly callable after loading.\n"
     ]
    },
    {
     "name": "stdout",
     "output_type": "stream",
     "text": [
      "INFO:tensorflow:Assets written to: model-05/assets\n"
     ]
    },
    {
     "name": "stderr",
     "output_type": "stream",
     "text": [
      "INFO:tensorflow:Assets written to: model-05/assets\n"
     ]
    },
    {
     "name": "stdout",
     "output_type": "stream",
     "text": [
      "699/699 [==============================] - 114s 163ms/step - loss: 0.3635 - accuracy: 0.9856 - val_loss: 0.3554 - val_accuracy: 0.9870 - lr: 0.0010\n",
      "Epoch 102/125\n",
      "698/699 [============================>.] - ETA: 0s - loss: 0.3532 - accuracy: 0.9868\n",
      "Epoch 102: val_accuracy did not improve from 0.98697\n",
      "699/699 [==============================] - 109s 157ms/step - loss: 0.3533 - accuracy: 0.9868 - val_loss: 0.3586 - val_accuracy: 0.9826 - lr: 0.0010\n",
      "Epoch 103/125\n",
      "699/699 [==============================] - ETA: 0s - loss: 0.3457 - accuracy: 0.9858\n",
      "Epoch 103: val_accuracy did not improve from 0.98697\n",
      "699/699 [==============================] - 109s 155ms/step - loss: 0.3457 - accuracy: 0.9858 - val_loss: 0.3437 - val_accuracy: 0.9856 - lr: 0.0010\n",
      "Epoch 104/125\n",
      "699/699 [==============================] - ETA: 0s - loss: 0.3364 - accuracy: 0.9867\n",
      "Epoch 104: val_accuracy did not improve from 0.98697\n",
      "699/699 [==============================] - 109s 156ms/step - loss: 0.3364 - accuracy: 0.9867 - val_loss: 0.3406 - val_accuracy: 0.9836 - lr: 0.0010\n",
      "Epoch 105/125\n",
      "699/699 [==============================] - ETA: 0s - loss: 0.3275 - accuracy: 0.9866\n",
      "Epoch 105: val_accuracy did not improve from 0.98697\n",
      "699/699 [==============================] - 109s 156ms/step - loss: 0.3275 - accuracy: 0.9866 - val_loss: 0.3343 - val_accuracy: 0.9842 - lr: 0.0010\n",
      "Epoch 106/125\n",
      "699/699 [==============================] - ETA: 0s - loss: 0.3220 - accuracy: 0.9864\n",
      "Epoch 106: val_accuracy did not improve from 0.98697\n",
      "699/699 [==============================] - 109s 156ms/step - loss: 0.3220 - accuracy: 0.9864 - val_loss: 0.3215 - val_accuracy: 0.9846 - lr: 0.0010\n",
      "Epoch 107/125\n",
      "699/699 [==============================] - ETA: 0s - loss: 0.3135 - accuracy: 0.9864\n",
      "Epoch 107: val_accuracy did not improve from 0.98697\n",
      "699/699 [==============================] - 109s 156ms/step - loss: 0.3135 - accuracy: 0.9864 - val_loss: 0.3083 - val_accuracy: 0.9867 - lr: 0.0010\n",
      "Epoch 108/125\n",
      "699/699 [==============================] - ETA: 0s - loss: 0.3079 - accuracy: 0.9852\n",
      "Epoch 108: val_accuracy did not improve from 0.98697\n",
      "699/699 [==============================] - 108s 155ms/step - loss: 0.3079 - accuracy: 0.9852 - val_loss: 0.3050 - val_accuracy: 0.9850 - lr: 0.0010\n",
      "Epoch 109/125\n",
      "699/699 [==============================] - ETA: 0s - loss: 0.2957 - accuracy: 0.9875\n",
      "Epoch 109: val_accuracy did not improve from 0.98697\n",
      "699/699 [==============================] - 108s 155ms/step - loss: 0.2957 - accuracy: 0.9875 - val_loss: 0.3023 - val_accuracy: 0.9837 - lr: 0.0010\n",
      "Epoch 110/125\n",
      "699/699 [==============================] - ETA: 0s - loss: 0.2905 - accuracy: 0.9861\n",
      "Epoch 110: val_accuracy did not improve from 0.98697\n",
      "699/699 [==============================] - 109s 156ms/step - loss: 0.2905 - accuracy: 0.9861 - val_loss: 0.2978 - val_accuracy: 0.9839 - lr: 0.0010\n",
      "Epoch 111/125\n",
      "699/699 [==============================] - ETA: 0s - loss: 0.2844 - accuracy: 0.9868\n",
      "Epoch 111: val_accuracy did not improve from 0.98697\n",
      "699/699 [==============================] - 108s 154ms/step - loss: 0.2844 - accuracy: 0.9868 - val_loss: 0.2835 - val_accuracy: 0.9866 - lr: 0.0010\n",
      "Epoch 112/125\n",
      "699/699 [==============================] - ETA: 0s - loss: 0.2789 - accuracy: 0.9866\n",
      "Epoch 112: val_accuracy improved from 0.98697 to 0.98852, saving model to model-05\n"
     ]
    },
    {
     "name": "stderr",
     "output_type": "stream",
     "text": [
      "WARNING:absl:Found untraced functions such as _jit_compiled_convolution_op, _jit_compiled_convolution_op, _jit_compiled_convolution_op, _jit_compiled_convolution_op, _jit_compiled_convolution_op while saving (showing 5 of 16). These functions will not be directly callable after loading.\n"
     ]
    },
    {
     "name": "stdout",
     "output_type": "stream",
     "text": [
      "INFO:tensorflow:Assets written to: model-05/assets\n"
     ]
    },
    {
     "name": "stderr",
     "output_type": "stream",
     "text": [
      "INFO:tensorflow:Assets written to: model-05/assets\n"
     ]
    },
    {
     "name": "stdout",
     "output_type": "stream",
     "text": [
      "699/699 [==============================] - 113s 162ms/step - loss: 0.2789 - accuracy: 0.9866 - val_loss: 0.2759 - val_accuracy: 0.9885 - lr: 0.0010\n",
      "Epoch 113/125\n",
      "699/699 [==============================] - ETA: 0s - loss: 0.2711 - accuracy: 0.9866\n",
      "Epoch 113: val_accuracy did not improve from 0.98852\n",
      "699/699 [==============================] - 109s 156ms/step - loss: 0.2711 - accuracy: 0.9866 - val_loss: 0.2714 - val_accuracy: 0.9851 - lr: 0.0010\n",
      "Epoch 114/125\n",
      "699/699 [==============================] - ETA: 0s - loss: 0.2621 - accuracy: 0.9879\n",
      "Epoch 114: val_accuracy did not improve from 0.98852\n",
      "699/699 [==============================] - 109s 156ms/step - loss: 0.2621 - accuracy: 0.9879 - val_loss: 0.2605 - val_accuracy: 0.9874 - lr: 0.0010\n",
      "Epoch 115/125\n",
      "699/699 [==============================] - ETA: 0s - loss: 0.2590 - accuracy: 0.9866\n",
      "Epoch 115: val_accuracy did not improve from 0.98852\n",
      "699/699 [==============================] - 110s 158ms/step - loss: 0.2590 - accuracy: 0.9866 - val_loss: 0.2649 - val_accuracy: 0.9843 - lr: 0.0010\n",
      "Epoch 116/125\n",
      "699/699 [==============================] - ETA: 0s - loss: 0.2523 - accuracy: 0.9868\n",
      "Epoch 116: val_accuracy did not improve from 0.98852\n",
      "699/699 [==============================] - 109s 155ms/step - loss: 0.2523 - accuracy: 0.9868 - val_loss: 0.2490 - val_accuracy: 0.9872 - lr: 0.0010\n",
      "Epoch 117/125\n",
      "699/699 [==============================] - ETA: 0s - loss: 0.2482 - accuracy: 0.9869\n",
      "Epoch 117: val_accuracy did not improve from 0.98852\n",
      "699/699 [==============================] - 109s 156ms/step - loss: 0.2482 - accuracy: 0.9869 - val_loss: 0.2464 - val_accuracy: 0.9860 - lr: 0.0010\n",
      "Epoch 118/125\n",
      "699/699 [==============================] - ETA: 0s - loss: 0.2413 - accuracy: 0.9872\n",
      "Epoch 118: val_accuracy did not improve from 0.98852\n",
      "699/699 [==============================] - 109s 156ms/step - loss: 0.2413 - accuracy: 0.9872 - val_loss: 0.2382 - val_accuracy: 0.9876 - lr: 0.0010\n",
      "Epoch 119/125\n",
      "699/699 [==============================] - ETA: 0s - loss: 0.2349 - accuracy: 0.9879\n",
      "Epoch 119: val_accuracy did not improve from 0.98852\n",
      "699/699 [==============================] - 109s 156ms/step - loss: 0.2349 - accuracy: 0.9879 - val_loss: 0.2352 - val_accuracy: 0.9876 - lr: 0.0010\n",
      "Epoch 120/125\n",
      "699/699 [==============================] - ETA: 0s - loss: 0.2273 - accuracy: 0.9884\n",
      "Epoch 120: val_accuracy did not improve from 0.98852\n",
      "699/699 [==============================] - 109s 155ms/step - loss: 0.2273 - accuracy: 0.9884 - val_loss: 0.2305 - val_accuracy: 0.9860 - lr: 0.0010\n",
      "Epoch 121/125\n",
      "699/699 [==============================] - ETA: 0s - loss: 0.2222 - accuracy: 0.9882\n",
      "Epoch 121: val_accuracy did not improve from 0.98852\n",
      "699/699 [==============================] - 109s 156ms/step - loss: 0.2222 - accuracy: 0.9882 - val_loss: 0.2276 - val_accuracy: 0.9863 - lr: 0.0010\n",
      "Epoch 122/125\n",
      "699/699 [==============================] - ETA: 0s - loss: 0.2191 - accuracy: 0.9877\n",
      "Epoch 122: val_accuracy did not improve from 0.98852\n",
      "699/699 [==============================] - 108s 154ms/step - loss: 0.2191 - accuracy: 0.9877 - val_loss: 0.2174 - val_accuracy: 0.9874 - lr: 0.0010\n",
      "Epoch 123/125\n",
      "699/699 [==============================] - ETA: 0s - loss: 0.2136 - accuracy: 0.9878\n",
      "Epoch 123: val_accuracy did not improve from 0.98852\n",
      "699/699 [==============================] - 109s 156ms/step - loss: 0.2136 - accuracy: 0.9878 - val_loss: 0.2107 - val_accuracy: 0.9871 - lr: 0.0010\n",
      "Epoch 124/125\n",
      "699/699 [==============================] - ETA: 0s - loss: 0.2069 - accuracy: 0.9891\n",
      "Epoch 124: val_accuracy did not improve from 0.98852\n",
      "699/699 [==============================] - 109s 156ms/step - loss: 0.2069 - accuracy: 0.9891 - val_loss: 0.2116 - val_accuracy: 0.9866 - lr: 0.0010\n",
      "Epoch 125/125\n",
      "699/699 [==============================] - ETA: 0s - loss: 0.2038 - accuracy: 0.9882\n",
      "Epoch 125: val_accuracy did not improve from 0.98852\n",
      "699/699 [==============================] - 108s 155ms/step - loss: 0.2038 - accuracy: 0.9882 - val_loss: 0.2068 - val_accuracy: 0.9872 - lr: 0.0010\n"
     ]
    }
   ],
   "source": [
    "## EJECUCION DEL MODELO\n",
    "# with tf.device(\"/CPU:0\"):\n",
    "# with tf.device(\"/GPU:0\"):\n",
    "model.compile(loss=\"categorical_crossentropy\", \n",
    "              optimizer= SGD(learning_rate=0.001),\n",
    "              metrics=['accuracy'])\n",
    "\n",
    "#Agregamos un callback\n",
    "from tensorflow.keras.callbacks import ModelCheckpoint\n",
    "from tensorflow.keras.callbacks import ReduceLROnPlateau\n",
    "\n",
    "metric = 'val_accuracy'\n",
    "\n",
    "checkpointer = ModelCheckpoint(filepath='model-05', verbose=1, save_best_only=True,\n",
    "                               monitor = metric, mode = 'max')\n",
    "reduce_lr = ReduceLROnPlateau(monitor='loss', factor=0.2,\n",
    "                              patience=3, min_lr=0.000001)\n",
    "\n",
    "history= model.fit(train_generator, validation_data = valid_generator, callbacks = [reduce_lr, checkpointer], epochs=epochs)"
   ]
  },
  {
   "cell_type": "code",
   "execution_count": 13,
   "id": "7f2bdaef-cd4d-4293-a9d6-96ff42a472f9",
   "metadata": {},
   "outputs": [
    {
     "name": "stdout",
     "output_type": "stream",
     "text": [
      "234/234 [==============================] - 28s 120ms/step\n"
     ]
    }
   ],
   "source": [
    "preds_test = model.predict(test_generator)"
   ]
  },
  {
   "cell_type": "code",
   "execution_count": 14,
   "id": "49f96094-7a88-42fe-ad44-8530de26456e",
   "metadata": {},
   "outputs": [
    {
     "name": "stdout",
     "output_type": "stream",
     "text": [
      "234/234 [==============================] - 28s 118ms/step - loss: 0.2133 - accuracy: 0.9854\n"
     ]
    }
   ],
   "source": [
    "evaluate_test = model.evaluate(test_generator)"
   ]
  },
  {
   "cell_type": "code",
   "execution_count": 15,
   "id": "730f6466-b483-483e-b16c-1dde5da34648",
   "metadata": {},
   "outputs": [
    {
     "data": {
      "text/plain": [
       "[0.21334142982959747, 0.9853897094726562]"
      ]
     },
     "execution_count": 15,
     "metadata": {},
     "output_type": "execute_result"
    }
   ],
   "source": [
    "evaluate_test"
   ]
  },
  {
   "cell_type": "code",
   "execution_count": 16,
   "id": "71fc2b80-aa9e-4fa3-b8d9-25f732de5c86",
   "metadata": {},
   "outputs": [
    {
     "data": {
      "text/plain": [
       "array([ 0,  0,  0, ..., 23, 23, 23])"
      ]
     },
     "execution_count": 16,
     "metadata": {},
     "output_type": "execute_result"
    }
   ],
   "source": [
    "y_preds_test = np.array([np.argmax(x) for x in preds_test])\n",
    "y_preds_test"
   ]
  },
  {
   "cell_type": "code",
   "execution_count": 17,
   "id": "eb480175-6c03-4201-806c-fb8a27b96984",
   "metadata": {},
   "outputs": [
    {
     "data": {
      "text/plain": [
       "array([ 0,  0,  0, ..., 23, 23, 23], dtype=int32)"
      ]
     },
     "execution_count": 17,
     "metadata": {},
     "output_type": "execute_result"
    }
   ],
   "source": [
    "y_real_test = test_generator.classes\n",
    "y_real_test"
   ]
  },
  {
   "cell_type": "code",
   "execution_count": 18,
   "id": "95f69712-fd40-43cf-90d2-9b0a1bafca00",
   "metadata": {},
   "outputs": [
    {
     "data": {
      "text/plain": [
       "0.9864620333757791"
      ]
     },
     "execution_count": 18,
     "metadata": {},
     "output_type": "execute_result"
    }
   ],
   "source": [
    "accuracy_test = accuracy_score(y_real_test, y_preds_test)\n",
    "accuracy_test"
   ]
  },
  {
   "cell_type": "code",
   "execution_count": 19,
   "id": "4b0f6dec-7952-41d6-bc7c-e585cd11d7de",
   "metadata": {},
   "outputs": [
    {
     "data": {
      "text/plain": [
       "array([[614,   2,   0,   0,   1,   0,   0,   0,   0,   0,   1,   1,   0,\n",
       "          0,   0,   0,   0,   0,   0,   0,   0,   0,   1,   0],\n",
       "       [  0, 620,   0,   0,   0,   0,   0,   0,   0,   0,   0,   0,   0,\n",
       "          0,   0,   0,   0,   0,   0,   3,   0,   0,   0,   0],\n",
       "       [  1,   1, 625,   2,   0,   0,   0,   0,   0,   0,   1,   0,   0,\n",
       "          1,   0,   1,   0,   1,   0,   0,   0,   0,   0,   0],\n",
       "       [  0,   1,   0, 616,   2,   0,   0,   0,   1,   0,   0,   0,   0,\n",
       "          1,   0,   0,   0,   0,   0,   0,   1,   0,   0,   0],\n",
       "       [  0,   3,   0,   2, 629,   0,   0,   0,   2,   0,   0,   0,   0,\n",
       "          0,   0,   0,   0,   1,   0,   0,   0,   0,   0,   0],\n",
       "       [  0,   0,   1,   0,   0, 621,   1,   0,   0,   0,   0,   0,   0,\n",
       "          0,   0,   0,   0,   0,   0,   0,   1,   0,   0,   0],\n",
       "       [  0,   0,   0,   1,   0,   0, 617,   0,   1,   0,   1,   0,   0,\n",
       "          0,   1,   1,   0,   0,   0,   0,   0,   0,   0,   1],\n",
       "       [  0,   0,   0,   0,   0,   0,  13, 604,   1,   0,   0,   0,   0,\n",
       "          0,   1,   1,   1,   0,   0,   0,   0,   0,   0,   0],\n",
       "       [  0,   1,   0,   2,   0,   1,   0,   0, 616,   0,   0,   0,   0,\n",
       "          0,   0,   0,   0,   0,   0,   0,   2,   0,   0,   0],\n",
       "       [  0,   0,   1,   1,   0,   0,   0,   0,   1, 612,   0,   0,   0,\n",
       "          0,   0,   0,   0,   0,   0,   0,   4,   3,   0,   0],\n",
       "       [  0,   0,   0,   0,   0,   1,   0,   0,   0,   0, 618,   0,   0,\n",
       "          0,   0,   0,   1,   0,   1,   0,   0,   0,   0,   0],\n",
       "       [  0,   0,   0,   0,   0,   0,   0,   0,   1,   0,   0, 606,  10,\n",
       "          0,   0,   0,   0,   2,   0,   0,   0,   0,   2,   0],\n",
       "       [  1,   2,   0,   0,   0,   0,   0,   0,   0,   0,   0,   3, 612,\n",
       "          1,   0,   0,   0,   0,   0,   0,   1,   0,   0,   0],\n",
       "       [  0,   0,   1,   0,   1,   1,   0,   0,   1,   0,   0,   0,   0,\n",
       "        615,   0,   0,   0,   1,   0,   2,   1,   0,   0,   0],\n",
       "       [  0,   0,   0,   0,   0,   0,   1,   1,   0,   1,   0,   0,   0,\n",
       "          0, 617,   4,   0,   0,   0,   0,   0,   0,   0,   0],\n",
       "       [  0,   0,   0,   0,   0,   1,   0,   0,   0,   0,   0,   0,   1,\n",
       "          1,   0, 617,   0,   1,   0,   0,   0,   0,   0,   0],\n",
       "       [  0,   0,   0,   0,   0,   0,   0,   1,   0,   0,   0,   0,   0,\n",
       "          0,   0,   0, 605,   0,   0,  10,   1,   1,   1,   0],\n",
       "       [  0,   0,   0,   0,   3,   0,   1,   0,   2,   0,   0,   0,   0,\n",
       "          0,   1,   0,   2, 598,   1,   2,   4,   0,   3,   0],\n",
       "       [  0,   0,   0,   0,   0,   0,   0,   0,   0,   0,   1,   0,   0,\n",
       "          0,   0,   0,   0,   3, 613,   0,   0,   0,   0,   1],\n",
       "       [  0,   0,   0,   0,   0,   0,   0,   0,   0,   0,   0,   0,   0,\n",
       "          1,   0,   0,   0,   0,   0, 613,   4,   0,   0,   0],\n",
       "       [  0,   0,   0,   1,   0,   0,   0,   0,   0,   4,   0,   0,   0,\n",
       "          0,   0,   0,   1,   0,   0,   4, 608,   0,   0,   0],\n",
       "       [  0,   1,   1,   0,   0,   0,   0,   0,   1,   3,   0,   0,   0,\n",
       "          0,   0,   0,   0,   0,   0,   0,   3, 609,   0,   0],\n",
       "       [  0,   0,   0,   0,   1,   1,   0,   0,   0,   0,   0,   0,   0,\n",
       "          0,   0,   0,   0,   2,   0,   7,   0,   0, 606,   0],\n",
       "       [  1,   0,   0,   0,   0,   1,   2,   0,   0,   0,   0,   0,   0,\n",
       "          0,   0,   0,   0,   4,   2,   1,   0,   0,   0, 608]])"
      ]
     },
     "execution_count": 19,
     "metadata": {},
     "output_type": "execute_result"
    }
   ],
   "source": [
    "cm_test = confusion_matrix(y_real_test, y_preds_test)\n",
    "cm_test"
   ]
  },
  {
   "cell_type": "code",
   "execution_count": 20,
   "id": "4cb535b8-028f-477e-b03f-8783b3a13096",
   "metadata": {},
   "outputs": [
    {
     "data": {
      "image/png": "[encoded data removed]",
      "text/plain": [
       "<Figure size 800x600 with 2 Axes>"
      ]
     },
     "metadata": {},
     "output_type": "display_data"
    }
   ],
   "source": [
    "plt.figure(figsize=(8,6), dpi=100)\n",
    "# Scale up the size of all text\n",
    "sns.set(font_scale = 1.1)\n",
    "\n",
    "# Plot Confusion Matrix using Seaborn heatmap()\n",
    "# Parameters:\n",
    "# first param - confusion matrix in array format   \n",
    "# annot = True: show the numbers in each heatmap cell\n",
    "# fmt = 'd': show numbers as integers. \n",
    "ax = sns.heatmap(cm_test, annot=True, fmt='d', )\n",
    "\n",
    "# set x-axis label and ticks. \n",
    "ax.set_xlabel(\"Predicted Diagnosis\", fontsize=14, labelpad=20)\n",
    "# ax.xaxis.set_ticklabels(['Negative', 'Positive'])\n",
    "\n",
    "# set y-axis label and ticks\n",
    "ax.set_ylabel(\"Actual Diagnosis\", fontsize=14, labelpad=20)\n",
    "# ax.yaxis.set_ticklabels(['Negative', 'Positive'])\n",
    "\n",
    "# set plot title\n",
    "ax.set_title(\"Confusion Matrix for the Diabetes Detection Model\", fontsize=14, pad=20)\n",
    "\n",
    "plt.show()"
   ]
  },
  {
   "cell_type": "code",
   "execution_count": 21,
   "id": "b503eb1a-81ed-4078-b596-278249a3c722",
   "metadata": {},
   "outputs": [
    {
     "name": "stdout",
     "output_type": "stream",
     "text": [
      "233/233 [==============================] - 27s 115ms/step\n"
     ]
    }
   ],
   "source": [
    "preds_val = model.predict(valid_generator)"
   ]
  },
  {
   "cell_type": "code",
   "execution_count": 22,
   "id": "1fb77fb4-bdbf-4929-b30b-f90ab9aa55eb",
   "metadata": {},
   "outputs": [
    {
     "name": "stdout",
     "output_type": "stream",
     "text": [
      "233/233 [==============================] - 27s 116ms/step - loss: 0.2076 - accuracy: 0.9865\n"
     ]
    }
   ],
   "source": [
    "evaluate_val = model.evaluate(valid_generator)"
   ]
  },
  {
   "cell_type": "code",
   "execution_count": 23,
   "id": "d3a2be82-fc27-446d-be97-ef39329a1385",
   "metadata": {},
   "outputs": [
    {
     "data": {
      "text/plain": [
       "[0.20763839781284332, 0.9865028262138367]"
      ]
     },
     "execution_count": 23,
     "metadata": {},
     "output_type": "execute_result"
    }
   ],
   "source": [
    "evaluate_val"
   ]
  },
  {
   "cell_type": "code",
   "execution_count": 24,
   "id": "d17f5e3f-c58f-4ff5-86d8-961dde74325c",
   "metadata": {},
   "outputs": [
    {
     "data": {
      "text/plain": [
       "array([ 0,  0,  0, ..., 23, 23, 23])"
      ]
     },
     "execution_count": 24,
     "metadata": {},
     "output_type": "execute_result"
    }
   ],
   "source": [
    "y_preds_val = np.array([np.argmax(x) for x in preds_val])\n",
    "y_preds_val"
   ]
  },
  {
   "cell_type": "code",
   "execution_count": 25,
   "id": "7a7cd9d7-3192-4e04-a0a1-693ca99d1037",
   "metadata": {},
   "outputs": [
    {
     "data": {
      "text/plain": [
       "array([ 0,  0,  0, ..., 23, 23, 23], dtype=int32)"
      ]
     },
     "execution_count": 25,
     "metadata": {},
     "output_type": "execute_result"
    }
   ],
   "source": [
    "y_real_val = valid_generator.classes\n",
    "y_real_val"
   ]
  },
  {
   "cell_type": "code",
   "execution_count": null,
   "id": "67e7aded-e874-41a0-981d-4de4720b27ad",
   "metadata": {},
   "outputs": [
    {
     "data": {
      "text/plain": [
       "0.9885844748858448"
      ]
     },
     "execution_count": 26,
     "metadata": {},
     "output_type": "execute_result"
    }
   ],
   "source": [
    "accuracy_val = accuracy_score(y_real_val, y_preds_val)\n",
    "accuracy_val"
   ]
  },
  {
   "cell_type": "code",
   "execution_count": null,
   "id": "c3459eff-7df8-47b2-986a-2beab8ac51e1",
   "metadata": {},
   "outputs": [
    {
     "data": {
      "text/plain": [
       "array([[611,   0,   0,   0,   2,   0,   0,   0,   0,   0,   0,   0,   0,\n",
       "          1,   0,   0,   0,   1,   1,   0,   0,   0,   2,   0],\n",
       "       [  0, 620,   0,   0,   0,   0,   0,   0,   1,   0,   0,   0,   0,\n",
       "          0,   0,   0,   0,   0,   0,   0,   0,   0,   0,   0],\n",
       "       [  0,   2, 626,   0,   0,   1,   1,   0,   0,   0,   1,   0,   0,\n",
       "          1,   0,   0,   0,   0,   0,   0,   0,   0,   0,   0],\n",
       "       [  0,   1,   0, 617,   0,   0,   0,   0,   0,   0,   0,   0,   0,\n",
       "          0,   0,   0,   0,   1,   0,   0,   1,   0,   0,   0],\n",
       "       [  0,   2,   0,   0, 630,   0,   0,   0,   2,   0,   0,   0,   0,\n",
       "          0,   0,   0,   1,   0,   0,   2,   0,   0,   0,   0],\n",
       "       [  0,   0,   0,   0,   0, 615,   1,   0,   1,   2,   0,   0,   0,\n",
       "          0,   0,   0,   0,   0,   0,   1,   1,   1,   0,   0],\n",
       "       [  0,   0,   0,   0,   0,   0, 619,   1,   1,   0,   0,   0,   0,\n",
       "          0,   2,   0,   0,   0,   0,   0,   0,   0,   0,   0],\n",
       "       [  0,   0,   0,   0,   0,   0,   8, 609,   0,   0,   0,   0,   0,\n",
       "          0,   1,   0,   1,   0,   0,   0,   1,   0,   0,   0],\n",
       "       [  0,   1,   1,   3,   2,   0,   2,   0, 605,   2,   0,   0,   0,\n",
       "          0,   0,   0,   1,   0,   0,   1,   1,   0,   1,   0],\n",
       "       [  0,   0,   0,   0,   0,   1,   0,   0,   1, 616,   0,   0,   0,\n",
       "          0,   0,   0,   0,   0,   0,   0,   2,   0,   0,   0],\n",
       "       [  0,   0,   0,   0,   0,   0,   0,   0,   0,   0, 618,   0,   0,\n",
       "          0,   0,   0,   0,   0,   2,   0,   0,   0,   0,   0],\n",
       "       [  0,   1,   0,   0,   0,   0,   0,   0,   0,   0,   0, 609,   8,\n",
       "          1,   1,   0,   0,   0,   0,   0,   0,   0,   0,   0],\n",
       "       [  0,   0,   0,   0,   0,   0,   0,   0,   0,   0,   0,   2, 616,\n",
       "          1,   0,   0,   0,   0,   0,   0,   0,   0,   0,   0],\n",
       "       [  2,   0,   0,   0,   0,   0,   0,   0,   0,   0,   0,   0,   0,\n",
       "        620,   0,   1,   0,   0,   0,   0,   0,   0,   0,   0],\n",
       "       [  0,   0,   0,   0,   0,   0,   2,   0,   0,   0,   0,   0,   0,\n",
       "          0, 620,   1,   0,   0,   0,   0,   0,   0,   0,   0],\n",
       "       [  0,   0,   1,   0,   0,   0,   0,   0,   0,   0,   0,   0,   1,\n",
       "          0,   3, 614,   0,   0,   0,   0,   0,   0,   0,   0],\n",
       "       [  0,   0,   0,   0,   0,   0,   0,   1,   0,   0,   0,   0,   0,\n",
       "          0,   0,   0, 606,   0,   0,  10,   2,   0,   0,   0],\n",
       "       [  0,   0,   0,   0,   1,   1,   0,   0,   1,   0,   0,   0,   0,\n",
       "          0,   0,   0,   0, 606,   3,   3,   0,   0,   1,   0],\n",
       "       [  1,   0,   0,   0,   0,   0,   0,   0,   0,   0,   2,   1,   0,\n",
       "          0,   0,   0,   0,   2, 608,   0,   0,   0,   1,   2],\n",
       "       [  0,   1,   0,   0,   0,   0,   0,   0,   0,   0,   0,   0,   0,\n",
       "          0,   0,   0,   3,   0,   0, 612,   1,   0,   0,   0],\n",
       "       [  0,   0,   0,   0,   0,   0,   0,   0,   0,   3,   0,   0,   0,\n",
       "          0,   0,   0,   0,   0,   0,   3, 611,   0,   0,   0],\n",
       "       [  0,   0,   0,   0,   0,   0,   0,   0,   0,   1,   0,   0,   0,\n",
       "          0,   0,   0,   0,   0,   0,   2,   9, 604,   0,   0],\n",
       "       [  0,   0,   0,   0,   0,   0,   0,   0,   0,   1,   0,   0,   0,\n",
       "          1,   0,   0,   2,   4,   0,   2,   3,   0, 603,   0],\n",
       "       [  1,   0,   0,   1,   0,   0,   1,   0,   0,   0,   0,   0,   0,\n",
       "          0,   1,   0,   0,   1,   2,   0,   2,   0,   1, 607]])"
      ]
     },
     "execution_count": 27,
     "metadata": {},
     "output_type": "execute_result"
    }
   ],
   "source": [
    "cm_val = confusion_matrix(y_real_val, y_preds_val)\n",
    "cm_val"
   ]
  },
  {
   "cell_type": "code",
   "execution_count": null,
   "id": "d9806965-fb2e-4044-af24-af216719e719",
   "metadata": {},
   "outputs": [
    {
     "data": {
      "image/png": "[encoded data removed]",
      "text/plain": [
       "<Figure size 800x600 with 2 Axes>"
      ]
     },
     "metadata": {},
     "output_type": "display_data"
    }
   ],
   "source": [
    "plt.figure(figsize=(8,6), dpi=100)\n",
    "# Scale up the size of all text\n",
    "sns.set(font_scale = 1.1)\n",
    "\n",
    "# Plot Confusion Matrix using Seaborn heatmap()\n",
    "# Parameters:\n",
    "# first param - confusion matrix in array format   \n",
    "# annot = True: show the numbers in each heatmap cell\n",
    "# fmt = 'd': show numbers as integers. \n",
    "ax = sns.heatmap(cm_val, annot=True, fmt='d', )\n",
    "\n",
    "# set x-axis label and ticks. \n",
    "ax.set_xlabel(\"Predicted Diagnosis\", fontsize=14, labelpad=20)\n",
    "# ax.xaxis.set_ticklabels(['Negative', 'Positive'])\n",
    "\n",
    "# set y-axis label and ticks\n",
    "ax.set_ylabel(\"Actual Diagnosis\", fontsize=14, labelpad=20)\n",
    "# ax.yaxis.set_ticklabels(['Negative', 'Positive'])\n",
    "\n",
    "# set plot title\n",
    "ax.set_title(\"Confusion Matrix for the Diabetes Detection Model\", fontsize=14, pad=20)\n",
    "\n",
    "plt.show()"
   ]
  }
 ],
 "metadata": {
  "kernelspec": {
   "display_name": "TensorFlow 2.11 (Local)",
   "language": "python",
   "name": "local-tf2-2-11"
  },
  "language_info": {
   "codemirror_mode": {
    "name": "ipython",
    "version": 3
   },
   "file_extension": ".py",
   "mimetype": "text/x-python",
   "name": "python",
   "nbconvert_exporter": "python",
   "pygments_lexer": "ipython3",
   "version": "3.7.12"
  }
 },
 "nbformat": 4,
 "nbformat_minor": 5
}

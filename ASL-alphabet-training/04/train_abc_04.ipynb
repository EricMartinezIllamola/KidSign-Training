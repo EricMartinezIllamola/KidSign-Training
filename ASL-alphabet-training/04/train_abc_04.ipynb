{
 "cells": [
  {
   "cell_type": "code",
   "execution_count": 1,
   "id": "cabbedb0-cdf5-4873-b294-64c330b205de",
   "metadata": {
    "tags": []
   },
   "outputs": [
    {
     "name": "stderr",
     "output_type": "stream",
     "text": [
      "2023-09-16 21:20:11.480989: I tensorflow/core/platform/cpu_feature_guard.cc:193] This TensorFlow binary is optimized with oneAPI Deep Neural Network Library (oneDNN) to use the following CPU instructions in performance-critical operations:  AVX2 FMA\n",
      "To enable them in other operations, rebuild TensorFlow with the appropriate compiler flags.\n",
      "2023-09-16 21:20:14.761249: W tensorflow/compiler/xla/stream_executor/platform/default/dso_loader.cc:64] Could not load dynamic library 'libnvinfer.so.7'; dlerror: libnvinfer.so.7: cannot open shared object file: No such file or directory; LD_LIBRARY_PATH: /usr/local/cuda/lib64:/usr/local/cuda/lib:/usr/local/lib/x86_64-linux-gnu:/usr/local/nvidia/lib:/usr/local/nvidia/lib64:/usr/local/nvidia/lib:/usr/local/nvidia/lib64\n",
      "2023-09-16 21:20:14.761448: W tensorflow/compiler/xla/stream_executor/platform/default/dso_loader.cc:64] Could not load dynamic library 'libnvinfer_plugin.so.7'; dlerror: libnvinfer_plugin.so.7: cannot open shared object file: No such file or directory; LD_LIBRARY_PATH: /usr/local/cuda/lib64:/usr/local/cuda/lib:/usr/local/lib/x86_64-linux-gnu:/usr/local/nvidia/lib:/usr/local/nvidia/lib64:/usr/local/nvidia/lib:/usr/local/nvidia/lib64\n",
      "2023-09-16 21:20:14.761462: W tensorflow/compiler/tf2tensorrt/utils/py_utils.cc:38] TF-TRT Warning: Cannot dlopen some TensorRT libraries. If you would like to use Nvidia GPU with TensorRT, please make sure the missing libraries mentioned above are installed properly.\n"
     ]
    },
    {
     "name": "stdout",
     "output_type": "stream",
     "text": [
      "2.11.0\n"
     ]
    }
   ],
   "source": [
    "import tensorflow as tf\n",
    "\n",
    "print(tf.__version__)\n",
    "\n",
    "from tensorflow.keras.models                import Sequential, Model\n",
    "from tensorflow.keras.layers                import *\n",
    "from tensorflow.keras.preprocessing.image   import ImageDataGenerator\n",
    "from tensorflow.keras.utils                 import to_categorical\n",
    "from tensorflow.keras.optimizers            import SGD, RMSprop, Adam, Adagrad, Adadelta\n",
    "\n",
    "from sklearn.model_selection import train_test_split\n",
    "from sklearn.metrics import confusion_matrix, accuracy_score\n",
    "from sklearn.utils import class_weight\n",
    "\n",
    "import matplotlib.pyplot as plt\n",
    "import random\n",
    "# import cv2\n",
    "import pandas as pd\n",
    "import numpy as np\n",
    "import matplotlib.gridspec as gridspec\n",
    "import seaborn as sns\n",
    "import sklearn\n",
    "import scipy\n",
    "import skimage\n",
    "from skimage.transform import resize\n",
    "from tqdm import tqdm\n",
    "from sklearn import model_selection\n",
    "from sklearn.model_selection import train_test_split, learning_curve,KFold,cross_val_score,StratifiedKFold\n",
    "from sklearn.utils import class_weight\n",
    "from sklearn.metrics import confusion_matrix"
   ]
  },
  {
   "cell_type": "code",
   "execution_count": 2,
   "id": "591c6941-6b95-49ed-a5e4-b3b065f337e5",
   "metadata": {},
   "outputs": [],
   "source": [
    "# !git clone https://github.com/EricMartinezIllamola/asl-alphabet.git"
   ]
  },
  {
   "cell_type": "code",
   "execution_count": 3,
   "id": "b142a1a3-59e9-445c-a9c9-35d7cc5e2645",
   "metadata": {},
   "outputs": [],
   "source": [
    "# !pip install split-folders "
   ]
  },
  {
   "cell_type": "code",
   "execution_count": 4,
   "id": "e29c6dc1-7ac5-4f9c-afc5-27889eadad59",
   "metadata": {
    "tags": []
   },
   "outputs": [],
   "source": [
    "# import splitfolders\n",
    "# import os"
   ]
  },
  {
   "cell_type": "code",
   "execution_count": 5,
   "id": "5bc916a7-71b9-408a-a862-97bac0f8cd8c",
   "metadata": {
    "tags": []
   },
   "outputs": [],
   "source": [
    "# path = \"asl-alphabet/asl-alphabet\"\n",
    "\n",
    "# splitfolders.ratio(path, seed=777, output=\"Train-Validation-Test-Dataset\", ratio=(0.6, 0.2, 0.2))"
   ]
  },
  {
   "cell_type": "code",
   "execution_count": 6,
   "id": "3c62d1d8-12eb-4f83-ae0c-7ffa1f9c939b",
   "metadata": {},
   "outputs": [],
   "source": [
    "train_path = \"Train-Validation-Test-Dataset/train\"\n",
    "val_path = \"Train-Validation-Test-Dataset/val\"\n",
    "test_path = \"Train-Validation-Test-Dataset/test\""
   ]
  },
  {
   "cell_type": "code",
   "execution_count": 7,
   "id": "cdc6b023-62d9-4604-a6b7-388c23c40b87",
   "metadata": {
    "tags": []
   },
   "outputs": [
    {
     "name": "stderr",
     "output_type": "stream",
     "text": [
      "2023-09-16 21:20:19.010346: I tensorflow/compiler/xla/stream_executor/cuda/cuda_gpu_executor.cc:981] successful NUMA node read from SysFS had negative value (-1), but there must be at least one NUMA node, so returning NUMA node zero\n",
      "2023-09-16 21:20:19.024837: I tensorflow/compiler/xla/stream_executor/cuda/cuda_gpu_executor.cc:981] successful NUMA node read from SysFS had negative value (-1), but there must be at least one NUMA node, so returning NUMA node zero\n",
      "2023-09-16 21:20:19.027604: I tensorflow/compiler/xla/stream_executor/cuda/cuda_gpu_executor.cc:981] successful NUMA node read from SysFS had negative value (-1), but there must be at least one NUMA node, so returning NUMA node zero\n"
     ]
    },
    {
     "data": {
      "text/plain": [
       "[PhysicalDevice(name='/physical_device:CPU:0', device_type='CPU'),\n",
       " PhysicalDevice(name='/physical_device:GPU:0', device_type='GPU')]"
      ]
     },
     "execution_count": 7,
     "metadata": {},
     "output_type": "execute_result"
    }
   ],
   "source": [
    "tf.config.experimental.list_physical_devices()"
   ]
  },
  {
   "cell_type": "code",
   "execution_count": 8,
   "id": "e2dfe75c-2fa1-44a9-94ff-d1205720671d",
   "metadata": {
    "tags": []
   },
   "outputs": [
    {
     "data": {
      "text/plain": [
       "True"
      ]
     },
     "execution_count": 8,
     "metadata": {},
     "output_type": "execute_result"
    }
   ],
   "source": [
    "tf.test.is_built_with_cuda()"
   ]
  },
  {
   "cell_type": "code",
   "execution_count": 9,
   "id": "b9f0f604-67d3-43b5-962d-5b88fd6bb534",
   "metadata": {},
   "outputs": [
    {
     "name": "stdout",
     "output_type": "stream",
     "text": [
      "Found 44695 images belonging to 24 classes.\n",
      "Found 14892 images belonging to 24 classes.\n",
      "Found 14921 images belonging to 24 classes.\n"
     ]
    }
   ],
   "source": [
    "from tensorflow.keras.preprocessing.image   import ImageDataGenerator\n",
    "\n",
    "##Clasificamos las imagenes\n",
    "bs = 64 #bach size\n",
    "k = 2\n",
    "# Generador de imágenes de entrenamiento.\n",
    "train_datagen = ImageDataGenerator(\n",
    "        rescale=1./255,\n",
    "        shear_range=(0.3),\n",
    "        zoom_range=(0.3),\n",
    "        width_shift_range=(0.2),\n",
    "        height_shift_range=(0.2),\n",
    "        # validation_split = 0.2,\n",
    "        brightness_range=(0.05,0.85),\n",
    "        horizontal_flip=False)\n",
    "\n",
    "# Carga de imágenes al generador de entrenamiento desde directorio.\n",
    "train_generator = train_datagen.flow_from_directory(\n",
    "        train_path,\n",
    "        class_mode='categorical',\n",
    "        shuffle=True,\n",
    "        target_size=(28*k, 28*k),\n",
    "        color_mode = 'rgb', \n",
    "        # subset = 'training',\n",
    "        batch_size=bs)\n",
    "\n",
    "valid_generator = train_datagen.flow_from_directory(\n",
    "        val_path,\n",
    "        class_mode='categorical',\n",
    "        shuffle=False,\n",
    "        target_size=(28*k, 28*k),\n",
    "        color_mode = 'rgb', \n",
    "        # subset = 'validation',\n",
    "        batch_size=bs)\n",
    "\n",
    "test_generator = train_datagen.flow_from_directory(\n",
    "        test_path,\n",
    "        class_mode='categorical',\n",
    "        shuffle=False,\n",
    "        target_size=(28*k, 28*k),\n",
    "        color_mode = 'rgb', \n",
    "        # subset = 'validation',\n",
    "        batch_size=bs)"
   ]
  },
  {
   "cell_type": "code",
   "execution_count": 10,
   "id": "ce39767d-6018-413a-ac2c-8e816e2cf5e3",
   "metadata": {},
   "outputs": [
    {
     "name": "stderr",
     "output_type": "stream",
     "text": [
      "2023-09-16 21:20:25.789584: I tensorflow/core/platform/cpu_feature_guard.cc:193] This TensorFlow binary is optimized with oneAPI Deep Neural Network Library (oneDNN) to use the following CPU instructions in performance-critical operations:  AVX2 FMA\n",
      "To enable them in other operations, rebuild TensorFlow with the appropriate compiler flags.\n",
      "2023-09-16 21:20:25.791358: I tensorflow/compiler/xla/stream_executor/cuda/cuda_gpu_executor.cc:981] successful NUMA node read from SysFS had negative value (-1), but there must be at least one NUMA node, so returning NUMA node zero\n",
      "2023-09-16 21:20:25.794808: I tensorflow/compiler/xla/stream_executor/cuda/cuda_gpu_executor.cc:981] successful NUMA node read from SysFS had negative value (-1), but there must be at least one NUMA node, so returning NUMA node zero\n",
      "2023-09-16 21:20:25.797537: I tensorflow/compiler/xla/stream_executor/cuda/cuda_gpu_executor.cc:981] successful NUMA node read from SysFS had negative value (-1), but there must be at least one NUMA node, so returning NUMA node zero\n",
      "2023-09-16 21:20:26.578537: I tensorflow/compiler/xla/stream_executor/cuda/cuda_gpu_executor.cc:981] successful NUMA node read from SysFS had negative value (-1), but there must be at least one NUMA node, so returning NUMA node zero\n",
      "2023-09-16 21:20:26.580510: I tensorflow/compiler/xla/stream_executor/cuda/cuda_gpu_executor.cc:981] successful NUMA node read from SysFS had negative value (-1), but there must be at least one NUMA node, so returning NUMA node zero\n",
      "2023-09-16 21:20:26.582182: I tensorflow/compiler/xla/stream_executor/cuda/cuda_gpu_executor.cc:981] successful NUMA node read from SysFS had negative value (-1), but there must be at least one NUMA node, so returning NUMA node zero\n",
      "2023-09-16 21:20:26.583768: I tensorflow/core/common_runtime/gpu/gpu_device.cc:1613] Created device /job:localhost/replica:0/task:0/device:GPU:0 with 13582 MB memory:  -> device: 0, name: Tesla T4, pci bus id: 0000:00:04.0, compute capability: 7.5\n"
     ]
    },
    {
     "name": "stdout",
     "output_type": "stream",
     "text": [
      "Model: \"vgg19\"\n",
      "_________________________________________________________________\n",
      " Layer (type)                Output Shape              Param #   \n",
      "=================================================================\n",
      " input_1 (InputLayer)        [(None, 224, 224, 3)]     0         \n",
      "                                                                 \n",
      " block1_conv1 (Conv2D)       (None, 224, 224, 64)      1792      \n",
      "                                                                 \n",
      " block1_conv2 (Conv2D)       (None, 224, 224, 64)      36928     \n",
      "                                                                 \n",
      " block1_pool (MaxPooling2D)  (None, 112, 112, 64)      0         \n",
      "                                                                 \n",
      " block2_conv1 (Conv2D)       (None, 112, 112, 128)     73856     \n",
      "                                                                 \n",
      " block2_conv2 (Conv2D)       (None, 112, 112, 128)     147584    \n",
      "                                                                 \n",
      " block2_pool (MaxPooling2D)  (None, 56, 56, 128)       0         \n",
      "                                                                 \n",
      " block3_conv1 (Conv2D)       (None, 56, 56, 256)       295168    \n",
      "                                                                 \n",
      " block3_conv2 (Conv2D)       (None, 56, 56, 256)       590080    \n",
      "                                                                 \n",
      " block3_conv3 (Conv2D)       (None, 56, 56, 256)       590080    \n",
      "                                                                 \n",
      " block3_conv4 (Conv2D)       (None, 56, 56, 256)       590080    \n",
      "                                                                 \n",
      " block3_pool (MaxPooling2D)  (None, 28, 28, 256)       0         \n",
      "                                                                 \n",
      " block4_conv1 (Conv2D)       (None, 28, 28, 512)       1180160   \n",
      "                                                                 \n",
      " block4_conv2 (Conv2D)       (None, 28, 28, 512)       2359808   \n",
      "                                                                 \n",
      " block4_conv3 (Conv2D)       (None, 28, 28, 512)       2359808   \n",
      "                                                                 \n",
      " block4_conv4 (Conv2D)       (None, 28, 28, 512)       2359808   \n",
      "                                                                 \n",
      " block4_pool (MaxPooling2D)  (None, 14, 14, 512)       0         \n",
      "                                                                 \n",
      " block5_conv1 (Conv2D)       (None, 14, 14, 512)       2359808   \n",
      "                                                                 \n",
      " block5_conv2 (Conv2D)       (None, 14, 14, 512)       2359808   \n",
      "                                                                 \n",
      " block5_conv3 (Conv2D)       (None, 14, 14, 512)       2359808   \n",
      "                                                                 \n",
      " block5_conv4 (Conv2D)       (None, 14, 14, 512)       2359808   \n",
      "                                                                 \n",
      " block5_pool (MaxPooling2D)  (None, 7, 7, 512)         0         \n",
      "                                                                 \n",
      " flatten (Flatten)           (None, 25088)             0         \n",
      "                                                                 \n",
      " fc1 (Dense)                 (None, 4096)              102764544 \n",
      "                                                                 \n",
      " fc2 (Dense)                 (None, 4096)              16781312  \n",
      "                                                                 \n",
      " predictions (Dense)         (None, 1000)              4097000   \n",
      "                                                                 \n",
      "=================================================================\n",
      "Total params: 143,667,240\n",
      "Trainable params: 143,667,240\n",
      "Non-trainable params: 0\n",
      "_________________________________________________________________\n",
      "26\n"
     ]
    }
   ],
   "source": [
    "#Visualizamos la estructura del modelo que vamos a utilizar\n",
    "model = tf.keras.applications.VGG19()\n",
    "model.summary()\n",
    "print(len(model.layers))"
   ]
  },
  {
   "cell_type": "code",
   "execution_count": 11,
   "id": "b0e0e374-6bf0-455d-92ee-83982a54eae7",
   "metadata": {},
   "outputs": [
    {
     "name": "stdout",
     "output_type": "stream",
     "text": [
      "22\n"
     ]
    }
   ],
   "source": [
    "##DEFINIMOS EL MODELO\n",
    "num_classes = 24\n",
    "epochs = 50\n",
    "\n",
    "# VGG19\n",
    "# Importamos el modelo que queremos utilizar con los argumentos que queremos\n",
    "VGG19_model = tf.keras.applications.VGG19(input_shape=(28*k,28*k,3),\n",
    "                                          include_top=False,\n",
    "                                          weights='imagenet')\n",
    "\n",
    "print(len(VGG19_model.layers))\n",
    "#Congelamos  las 6 primeras caps del modelo para proceder a entrenar las demás\n",
    "for layer in VGG19_model.layers[:6]:\n",
    "  layer.trainable = False\n",
    "\n",
    "# Creamos un nuevo modelo vacio.\n",
    "model = tf.keras.Sequential()\n",
    "\n",
    "# Añadimos el modelo preentrenado como si se tratase de una capa.\n",
    "model.add(VGG19_model)\n",
    "\n",
    "# Continuamos añadiendo más capas que sí serán entrenadas...\n",
    "from tensorflow.keras import regularizers\n",
    "model.add(Flatten())\n",
    "model.add(Dense(512, kernel_regularizer=regularizers.l2(0.01), activation = 'relu'))\n",
    "model.add(Dropout(0.25))\n",
    "model.add(Dense(num_classes, activation = 'softmax'))"
   ]
  },
  {
   "cell_type": "code",
   "execution_count": 12,
   "id": "98f08be8-a077-4ef3-92ab-b3604ff40655",
   "metadata": {},
   "outputs": [
    {
     "name": "stdout",
     "output_type": "stream",
     "text": [
      "Epoch 1/50\n"
     ]
    },
    {
     "name": "stderr",
     "output_type": "stream",
     "text": [
      "2023-09-16 21:20:31.861961: I tensorflow/compiler/xla/stream_executor/cuda/cuda_dnn.cc:428] Loaded cuDNN version 8200\n",
      "2023-09-16 21:20:34.397740: I tensorflow/compiler/xla/service/service.cc:173] XLA service 0x7f0f10949c80 initialized for platform CUDA (this does not guarantee that XLA will be used). Devices:\n",
      "2023-09-16 21:20:34.397788: I tensorflow/compiler/xla/service/service.cc:181]   StreamExecutor device (0): Tesla T4, Compute Capability 7.5\n",
      "2023-09-16 21:20:34.477899: I tensorflow/compiler/jit/xla_compilation_cache.cc:477] Compiled cluster using XLA!  This line is logged at most once for the lifetime of the process.\n"
     ]
    },
    {
     "name": "stdout",
     "output_type": "stream",
     "text": [
      "699/699 [==============================] - ETA: 0s - loss: 7.8673 - accuracy: 0.1540\n",
      "Epoch 1: val_accuracy improved from -inf to 0.41485, saving model to model-04\n"
     ]
    },
    {
     "name": "stderr",
     "output_type": "stream",
     "text": [
      "WARNING:absl:Found untraced functions such as _jit_compiled_convolution_op, _jit_compiled_convolution_op, _jit_compiled_convolution_op, _jit_compiled_convolution_op, _jit_compiled_convolution_op while saving (showing 5 of 16). These functions will not be directly callable after loading.\n"
     ]
    },
    {
     "name": "stdout",
     "output_type": "stream",
     "text": [
      "INFO:tensorflow:Assets written to: model-04/assets\n"
     ]
    },
    {
     "name": "stderr",
     "output_type": "stream",
     "text": [
      "INFO:tensorflow:Assets written to: model-04/assets\n"
     ]
    },
    {
     "name": "stdout",
     "output_type": "stream",
     "text": [
      "699/699 [==============================] - 125s 169ms/step - loss: 7.8673 - accuracy: 0.1540 - val_loss: 6.9381 - val_accuracy: 0.4149 - lr: 0.0010\n",
      "Epoch 2/50\n",
      "699/699 [==============================] - ETA: 0s - loss: 6.4868 - accuracy: 0.5011\n",
      "Epoch 2: val_accuracy improved from 0.41485 to 0.68090, saving model to model-04\n"
     ]
    },
    {
     "name": "stderr",
     "output_type": "stream",
     "text": [
      "WARNING:absl:Found untraced functions such as _jit_compiled_convolution_op, _jit_compiled_convolution_op, _jit_compiled_convolution_op, _jit_compiled_convolution_op, _jit_compiled_convolution_op while saving (showing 5 of 16). These functions will not be directly callable after loading.\n"
     ]
    },
    {
     "name": "stdout",
     "output_type": "stream",
     "text": [
      "INFO:tensorflow:Assets written to: model-04/assets\n"
     ]
    },
    {
     "name": "stderr",
     "output_type": "stream",
     "text": [
      "INFO:tensorflow:Assets written to: model-04/assets\n"
     ]
    },
    {
     "name": "stdout",
     "output_type": "stream",
     "text": [
      "699/699 [==============================] - 118s 168ms/step - loss: 6.4868 - accuracy: 0.5011 - val_loss: 5.8951 - val_accuracy: 0.6809 - lr: 0.0010\n",
      "Epoch 3/50\n",
      "699/699 [==============================] - ETA: 0s - loss: 5.6779 - accuracy: 0.7085\n",
      "Epoch 3: val_accuracy improved from 0.68090 to 0.76706, saving model to model-04\n"
     ]
    },
    {
     "name": "stderr",
     "output_type": "stream",
     "text": [
      "WARNING:absl:Found untraced functions such as _jit_compiled_convolution_op, _jit_compiled_convolution_op, _jit_compiled_convolution_op, _jit_compiled_convolution_op, _jit_compiled_convolution_op while saving (showing 5 of 16). These functions will not be directly callable after loading.\n"
     ]
    },
    {
     "name": "stdout",
     "output_type": "stream",
     "text": [
      "INFO:tensorflow:Assets written to: model-04/assets\n"
     ]
    },
    {
     "name": "stderr",
     "output_type": "stream",
     "text": [
      "INFO:tensorflow:Assets written to: model-04/assets\n"
     ]
    },
    {
     "name": "stdout",
     "output_type": "stream",
     "text": [
      "699/699 [==============================] - 116s 165ms/step - loss: 5.6779 - accuracy: 0.7085 - val_loss: 5.4248 - val_accuracy: 0.7671 - lr: 0.0010\n",
      "Epoch 4/50\n",
      "699/699 [==============================] - ETA: 0s - loss: 5.2839 - accuracy: 0.7928\n",
      "Epoch 4: val_accuracy improved from 0.76706 to 0.81863, saving model to model-04\n"
     ]
    },
    {
     "name": "stderr",
     "output_type": "stream",
     "text": [
      "WARNING:absl:Found untraced functions such as _jit_compiled_convolution_op, _jit_compiled_convolution_op, _jit_compiled_convolution_op, _jit_compiled_convolution_op, _jit_compiled_convolution_op while saving (showing 5 of 16). These functions will not be directly callable after loading.\n"
     ]
    },
    {
     "name": "stdout",
     "output_type": "stream",
     "text": [
      "INFO:tensorflow:Assets written to: model-04/assets\n"
     ]
    },
    {
     "name": "stderr",
     "output_type": "stream",
     "text": [
      "INFO:tensorflow:Assets written to: model-04/assets\n"
     ]
    },
    {
     "name": "stdout",
     "output_type": "stream",
     "text": [
      "699/699 [==============================] - 116s 166ms/step - loss: 5.2839 - accuracy: 0.7928 - val_loss: 5.1329 - val_accuracy: 0.8186 - lr: 0.0010\n",
      "Epoch 5/50\n",
      "699/699 [==============================] - ETA: 0s - loss: 5.0240 - accuracy: 0.8328\n",
      "Epoch 5: val_accuracy improved from 0.81863 to 0.86771, saving model to model-04\n"
     ]
    },
    {
     "name": "stderr",
     "output_type": "stream",
     "text": [
      "WARNING:absl:Found untraced functions such as _jit_compiled_convolution_op, _jit_compiled_convolution_op, _jit_compiled_convolution_op, _jit_compiled_convolution_op, _jit_compiled_convolution_op while saving (showing 5 of 16). These functions will not be directly callable after loading.\n"
     ]
    },
    {
     "name": "stdout",
     "output_type": "stream",
     "text": [
      "INFO:tensorflow:Assets written to: model-04/assets\n"
     ]
    },
    {
     "name": "stderr",
     "output_type": "stream",
     "text": [
      "INFO:tensorflow:Assets written to: model-04/assets\n"
     ]
    },
    {
     "name": "stdout",
     "output_type": "stream",
     "text": [
      "699/699 [==============================] - 116s 166ms/step - loss: 5.0240 - accuracy: 0.8328 - val_loss: 4.8510 - val_accuracy: 0.8677 - lr: 0.0010\n",
      "Epoch 6/50\n",
      "699/699 [==============================] - ETA: 0s - loss: 4.8162 - accuracy: 0.8591\n",
      "Epoch 6: val_accuracy improved from 0.86771 to 0.88652, saving model to model-04\n"
     ]
    },
    {
     "name": "stderr",
     "output_type": "stream",
     "text": [
      "WARNING:absl:Found untraced functions such as _jit_compiled_convolution_op, _jit_compiled_convolution_op, _jit_compiled_convolution_op, _jit_compiled_convolution_op, _jit_compiled_convolution_op while saving (showing 5 of 16). These functions will not be directly callable after loading.\n"
     ]
    },
    {
     "name": "stdout",
     "output_type": "stream",
     "text": [
      "INFO:tensorflow:Assets written to: model-04/assets\n"
     ]
    },
    {
     "name": "stderr",
     "output_type": "stream",
     "text": [
      "INFO:tensorflow:Assets written to: model-04/assets\n"
     ]
    },
    {
     "name": "stdout",
     "output_type": "stream",
     "text": [
      "699/699 [==============================] - 117s 167ms/step - loss: 4.8162 - accuracy: 0.8591 - val_loss: 4.6635 - val_accuracy: 0.8865 - lr: 0.0010\n",
      "Epoch 7/50\n",
      "699/699 [==============================] - ETA: 0s - loss: 4.6451 - accuracy: 0.8747\n",
      "Epoch 7: val_accuracy improved from 0.88652 to 0.90304, saving model to model-04\n"
     ]
    },
    {
     "name": "stderr",
     "output_type": "stream",
     "text": [
      "WARNING:absl:Found untraced functions such as _jit_compiled_convolution_op, _jit_compiled_convolution_op, _jit_compiled_convolution_op, _jit_compiled_convolution_op, _jit_compiled_convolution_op while saving (showing 5 of 16). These functions will not be directly callable after loading.\n"
     ]
    },
    {
     "name": "stdout",
     "output_type": "stream",
     "text": [
      "INFO:tensorflow:Assets written to: model-04/assets\n"
     ]
    },
    {
     "name": "stderr",
     "output_type": "stream",
     "text": [
      "INFO:tensorflow:Assets written to: model-04/assets\n"
     ]
    },
    {
     "name": "stdout",
     "output_type": "stream",
     "text": [
      "699/699 [==============================] - 116s 165ms/step - loss: 4.6451 - accuracy: 0.8747 - val_loss: 4.4996 - val_accuracy: 0.9030 - lr: 0.0010\n",
      "Epoch 8/50\n",
      "699/699 [==============================] - ETA: 0s - loss: 4.4879 - accuracy: 0.8886\n",
      "Epoch 8: val_accuracy did not improve from 0.90304\n",
      "699/699 [==============================] - 112s 160ms/step - loss: 4.4879 - accuracy: 0.8886 - val_loss: 4.3906 - val_accuracy: 0.8999 - lr: 0.0010\n",
      "Epoch 9/50\n",
      "699/699 [==============================] - ETA: 0s - loss: 4.3409 - accuracy: 0.8996\n",
      "Epoch 9: val_accuracy improved from 0.90304 to 0.92325, saving model to model-04\n"
     ]
    },
    {
     "name": "stderr",
     "output_type": "stream",
     "text": [
      "WARNING:absl:Found untraced functions such as _jit_compiled_convolution_op, _jit_compiled_convolution_op, _jit_compiled_convolution_op, _jit_compiled_convolution_op, _jit_compiled_convolution_op while saving (showing 5 of 16). These functions will not be directly callable after loading.\n"
     ]
    },
    {
     "name": "stdout",
     "output_type": "stream",
     "text": [
      "INFO:tensorflow:Assets written to: model-04/assets\n"
     ]
    },
    {
     "name": "stderr",
     "output_type": "stream",
     "text": [
      "INFO:tensorflow:Assets written to: model-04/assets\n"
     ]
    },
    {
     "name": "stdout",
     "output_type": "stream",
     "text": [
      "699/699 [==============================] - 117s 167ms/step - loss: 4.3409 - accuracy: 0.8996 - val_loss: 4.2156 - val_accuracy: 0.9232 - lr: 0.0010\n",
      "Epoch 10/50\n",
      "699/699 [==============================] - ETA: 0s - loss: 4.1982 - accuracy: 0.9108\n",
      "Epoch 10: val_accuracy improved from 0.92325 to 0.92855, saving model to model-04\n"
     ]
    },
    {
     "name": "stderr",
     "output_type": "stream",
     "text": [
      "WARNING:absl:Found untraced functions such as _jit_compiled_convolution_op, _jit_compiled_convolution_op, _jit_compiled_convolution_op, _jit_compiled_convolution_op, _jit_compiled_convolution_op while saving (showing 5 of 16). These functions will not be directly callable after loading.\n"
     ]
    },
    {
     "name": "stdout",
     "output_type": "stream",
     "text": [
      "INFO:tensorflow:Assets written to: model-04/assets\n"
     ]
    },
    {
     "name": "stderr",
     "output_type": "stream",
     "text": [
      "INFO:tensorflow:Assets written to: model-04/assets\n"
     ]
    },
    {
     "name": "stdout",
     "output_type": "stream",
     "text": [
      "699/699 [==============================] - 116s 166ms/step - loss: 4.1982 - accuracy: 0.9108 - val_loss: 4.0896 - val_accuracy: 0.9286 - lr: 0.0010\n",
      "Epoch 11/50\n",
      "699/699 [==============================] - ETA: 0s - loss: 4.0733 - accuracy: 0.9161\n",
      "Epoch 11: val_accuracy improved from 0.92855 to 0.93057, saving model to model-04\n"
     ]
    },
    {
     "name": "stderr",
     "output_type": "stream",
     "text": [
      "WARNING:absl:Found untraced functions such as _jit_compiled_convolution_op, _jit_compiled_convolution_op, _jit_compiled_convolution_op, _jit_compiled_convolution_op, _jit_compiled_convolution_op while saving (showing 5 of 16). These functions will not be directly callable after loading.\n"
     ]
    },
    {
     "name": "stdout",
     "output_type": "stream",
     "text": [
      "INFO:tensorflow:Assets written to: model-04/assets\n"
     ]
    },
    {
     "name": "stderr",
     "output_type": "stream",
     "text": [
      "INFO:tensorflow:Assets written to: model-04/assets\n"
     ]
    },
    {
     "name": "stdout",
     "output_type": "stream",
     "text": [
      "699/699 [==============================] - 117s 167ms/step - loss: 4.0733 - accuracy: 0.9161 - val_loss: 3.9773 - val_accuracy: 0.9306 - lr: 0.0010\n",
      "Epoch 12/50\n",
      "699/699 [==============================] - ETA: 0s - loss: 3.9511 - accuracy: 0.9220\n",
      "Epoch 12: val_accuracy improved from 0.93057 to 0.93453, saving model to model-04\n"
     ]
    },
    {
     "name": "stderr",
     "output_type": "stream",
     "text": [
      "WARNING:absl:Found untraced functions such as _jit_compiled_convolution_op, _jit_compiled_convolution_op, _jit_compiled_convolution_op, _jit_compiled_convolution_op, _jit_compiled_convolution_op while saving (showing 5 of 16). These functions will not be directly callable after loading.\n"
     ]
    },
    {
     "name": "stdout",
     "output_type": "stream",
     "text": [
      "INFO:tensorflow:Assets written to: model-04/assets\n"
     ]
    },
    {
     "name": "stderr",
     "output_type": "stream",
     "text": [
      "INFO:tensorflow:Assets written to: model-04/assets\n"
     ]
    },
    {
     "name": "stdout",
     "output_type": "stream",
     "text": [
      "699/699 [==============================] - 117s 168ms/step - loss: 3.9511 - accuracy: 0.9220 - val_loss: 3.8650 - val_accuracy: 0.9345 - lr: 0.0010\n",
      "Epoch 13/50\n",
      "699/699 [==============================] - ETA: 0s - loss: 3.8356 - accuracy: 0.9268\n",
      "Epoch 13: val_accuracy improved from 0.93453 to 0.93815, saving model to model-04\n"
     ]
    },
    {
     "name": "stderr",
     "output_type": "stream",
     "text": [
      "WARNING:absl:Found untraced functions such as _jit_compiled_convolution_op, _jit_compiled_convolution_op, _jit_compiled_convolution_op, _jit_compiled_convolution_op, _jit_compiled_convolution_op while saving (showing 5 of 16). These functions will not be directly callable after loading.\n"
     ]
    },
    {
     "name": "stdout",
     "output_type": "stream",
     "text": [
      "INFO:tensorflow:Assets written to: model-04/assets\n"
     ]
    },
    {
     "name": "stderr",
     "output_type": "stream",
     "text": [
      "INFO:tensorflow:Assets written to: model-04/assets\n"
     ]
    },
    {
     "name": "stdout",
     "output_type": "stream",
     "text": [
      "699/699 [==============================] - 116s 166ms/step - loss: 3.8356 - accuracy: 0.9268 - val_loss: 3.7516 - val_accuracy: 0.9382 - lr: 0.0010\n",
      "Epoch 14/50\n",
      "699/699 [==============================] - ETA: 0s - loss: 3.7225 - accuracy: 0.9296\n",
      "Epoch 14: val_accuracy improved from 0.93815 to 0.94923, saving model to model-04\n"
     ]
    },
    {
     "name": "stderr",
     "output_type": "stream",
     "text": [
      "WARNING:absl:Found untraced functions such as _jit_compiled_convolution_op, _jit_compiled_convolution_op, _jit_compiled_convolution_op, _jit_compiled_convolution_op, _jit_compiled_convolution_op while saving (showing 5 of 16). These functions will not be directly callable after loading.\n"
     ]
    },
    {
     "name": "stdout",
     "output_type": "stream",
     "text": [
      "INFO:tensorflow:Assets written to: model-04/assets\n"
     ]
    },
    {
     "name": "stderr",
     "output_type": "stream",
     "text": [
      "INFO:tensorflow:Assets written to: model-04/assets\n"
     ]
    },
    {
     "name": "stdout",
     "output_type": "stream",
     "text": [
      "699/699 [==============================] - 116s 166ms/step - loss: 3.7225 - accuracy: 0.9296 - val_loss: 3.6216 - val_accuracy: 0.9492 - lr: 0.0010\n",
      "Epoch 15/50\n",
      "699/699 [==============================] - ETA: 0s - loss: 3.6085 - accuracy: 0.9348\n",
      "Epoch 15: val_accuracy did not improve from 0.94923\n",
      "699/699 [==============================] - 111s 159ms/step - loss: 3.6085 - accuracy: 0.9348 - val_loss: 3.5322 - val_accuracy: 0.9468 - lr: 0.0010\n",
      "Epoch 16/50\n",
      "699/699 [==============================] - ETA: 0s - loss: 3.5104 - accuracy: 0.9378\n",
      "Epoch 16: val_accuracy did not improve from 0.94923\n",
      "699/699 [==============================] - 112s 160ms/step - loss: 3.5104 - accuracy: 0.9378 - val_loss: 3.4383 - val_accuracy: 0.9472 - lr: 0.0010\n",
      "Epoch 17/50\n",
      "699/699 [==============================] - ETA: 0s - loss: 3.4085 - accuracy: 0.9399\n",
      "Epoch 17: val_accuracy improved from 0.94923 to 0.95071, saving model to model-04\n"
     ]
    },
    {
     "name": "stderr",
     "output_type": "stream",
     "text": [
      "WARNING:absl:Found untraced functions such as _jit_compiled_convolution_op, _jit_compiled_convolution_op, _jit_compiled_convolution_op, _jit_compiled_convolution_op, _jit_compiled_convolution_op while saving (showing 5 of 16). These functions will not be directly callable after loading.\n"
     ]
    },
    {
     "name": "stdout",
     "output_type": "stream",
     "text": [
      "INFO:tensorflow:Assets written to: model-04/assets\n"
     ]
    },
    {
     "name": "stderr",
     "output_type": "stream",
     "text": [
      "INFO:tensorflow:Assets written to: model-04/assets\n"
     ]
    },
    {
     "name": "stdout",
     "output_type": "stream",
     "text": [
      "699/699 [==============================] - 115s 165ms/step - loss: 3.4085 - accuracy: 0.9399 - val_loss: 3.3370 - val_accuracy: 0.9507 - lr: 0.0010\n",
      "Epoch 18/50\n",
      "699/699 [==============================] - ETA: 0s - loss: 3.3128 - accuracy: 0.9446\n",
      "Epoch 18: val_accuracy improved from 0.95071 to 0.95696, saving model to model-04\n"
     ]
    },
    {
     "name": "stderr",
     "output_type": "stream",
     "text": [
      "WARNING:absl:Found untraced functions such as _jit_compiled_convolution_op, _jit_compiled_convolution_op, _jit_compiled_convolution_op, _jit_compiled_convolution_op, _jit_compiled_convolution_op while saving (showing 5 of 16). These functions will not be directly callable after loading.\n"
     ]
    },
    {
     "name": "stdout",
     "output_type": "stream",
     "text": [
      "INFO:tensorflow:Assets written to: model-04/assets\n"
     ]
    },
    {
     "name": "stderr",
     "output_type": "stream",
     "text": [
      "INFO:tensorflow:Assets written to: model-04/assets\n"
     ]
    },
    {
     "name": "stdout",
     "output_type": "stream",
     "text": [
      "699/699 [==============================] - 116s 166ms/step - loss: 3.3128 - accuracy: 0.9446 - val_loss: 3.2325 - val_accuracy: 0.9570 - lr: 0.0010\n",
      "Epoch 19/50\n",
      "699/699 [==============================] - ETA: 0s - loss: 3.2192 - accuracy: 0.9462\n",
      "Epoch 19: val_accuracy improved from 0.95696 to 0.96213, saving model to model-04\n"
     ]
    },
    {
     "name": "stderr",
     "output_type": "stream",
     "text": [
      "WARNING:absl:Found untraced functions such as _jit_compiled_convolution_op, _jit_compiled_convolution_op, _jit_compiled_convolution_op, _jit_compiled_convolution_op, _jit_compiled_convolution_op while saving (showing 5 of 16). These functions will not be directly callable after loading.\n"
     ]
    },
    {
     "name": "stdout",
     "output_type": "stream",
     "text": [
      "INFO:tensorflow:Assets written to: model-04/assets\n"
     ]
    },
    {
     "name": "stderr",
     "output_type": "stream",
     "text": [
      "INFO:tensorflow:Assets written to: model-04/assets\n"
     ]
    },
    {
     "name": "stdout",
     "output_type": "stream",
     "text": [
      "699/699 [==============================] - 116s 165ms/step - loss: 3.2192 - accuracy: 0.9462 - val_loss: 3.1376 - val_accuracy: 0.9621 - lr: 0.0010\n",
      "Epoch 20/50\n",
      "699/699 [==============================] - ETA: 0s - loss: 3.1280 - accuracy: 0.9488\n",
      "Epoch 20: val_accuracy did not improve from 0.96213\n",
      "699/699 [==============================] - 111s 159ms/step - loss: 3.1280 - accuracy: 0.9488 - val_loss: 3.0757 - val_accuracy: 0.9524 - lr: 0.0010\n",
      "Epoch 21/50\n",
      "699/699 [==============================] - ETA: 0s - loss: 3.0393 - accuracy: 0.9515\n",
      "Epoch 21: val_accuracy did not improve from 0.96213\n",
      "699/699 [==============================] - 110s 157ms/step - loss: 3.0393 - accuracy: 0.9515 - val_loss: 2.9752 - val_accuracy: 0.9595 - lr: 0.0010\n",
      "Epoch 22/50\n",
      "699/699 [==============================] - ETA: 0s - loss: 2.9551 - accuracy: 0.9524\n",
      "Epoch 22: val_accuracy did not improve from 0.96213\n",
      "699/699 [==============================] - 111s 158ms/step - loss: 2.9551 - accuracy: 0.9524 - val_loss: 2.8927 - val_accuracy: 0.9611 - lr: 0.0010\n",
      "Epoch 23/50\n",
      "699/699 [==============================] - ETA: 0s - loss: 2.8718 - accuracy: 0.9543\n",
      "Epoch 23: val_accuracy improved from 0.96213 to 0.96219, saving model to model-04\n"
     ]
    },
    {
     "name": "stderr",
     "output_type": "stream",
     "text": [
      "WARNING:absl:Found untraced functions such as _jit_compiled_convolution_op, _jit_compiled_convolution_op, _jit_compiled_convolution_op, _jit_compiled_convolution_op, _jit_compiled_convolution_op while saving (showing 5 of 16). These functions will not be directly callable after loading.\n"
     ]
    },
    {
     "name": "stdout",
     "output_type": "stream",
     "text": [
      "INFO:tensorflow:Assets written to: model-04/assets\n"
     ]
    },
    {
     "name": "stderr",
     "output_type": "stream",
     "text": [
      "INFO:tensorflow:Assets written to: model-04/assets\n"
     ]
    },
    {
     "name": "stdout",
     "output_type": "stream",
     "text": [
      "699/699 [==============================] - 115s 164ms/step - loss: 2.8718 - accuracy: 0.9543 - val_loss: 2.8120 - val_accuracy: 0.9622 - lr: 0.0010\n",
      "Epoch 24/50\n",
      "699/699 [==============================] - ETA: 0s - loss: 2.7946 - accuracy: 0.9552\n",
      "Epoch 24: val_accuracy improved from 0.96219 to 0.96595, saving model to model-04\n"
     ]
    },
    {
     "name": "stderr",
     "output_type": "stream",
     "text": [
      "WARNING:absl:Found untraced functions such as _jit_compiled_convolution_op, _jit_compiled_convolution_op, _jit_compiled_convolution_op, _jit_compiled_convolution_op, _jit_compiled_convolution_op while saving (showing 5 of 16). These functions will not be directly callable after loading.\n"
     ]
    },
    {
     "name": "stdout",
     "output_type": "stream",
     "text": [
      "INFO:tensorflow:Assets written to: model-04/assets\n"
     ]
    },
    {
     "name": "stderr",
     "output_type": "stream",
     "text": [
      "INFO:tensorflow:Assets written to: model-04/assets\n"
     ]
    },
    {
     "name": "stdout",
     "output_type": "stream",
     "text": [
      "699/699 [==============================] - 114s 164ms/step - loss: 2.7946 - accuracy: 0.9552 - val_loss: 2.7270 - val_accuracy: 0.9660 - lr: 0.0010\n",
      "Epoch 25/50\n",
      "699/699 [==============================] - ETA: 0s - loss: 2.7140 - accuracy: 0.9588\n",
      "Epoch 25: val_accuracy did not improve from 0.96595\n",
      "699/699 [==============================] - 112s 159ms/step - loss: 2.7140 - accuracy: 0.9588 - val_loss: 2.6664 - val_accuracy: 0.9615 - lr: 0.0010\n",
      "Epoch 26/50\n",
      "699/699 [==============================] - ETA: 0s - loss: 2.6378 - accuracy: 0.9603\n",
      "Epoch 26: val_accuracy improved from 0.96595 to 0.96642, saving model to model-04\n"
     ]
    },
    {
     "name": "stderr",
     "output_type": "stream",
     "text": [
      "WARNING:absl:Found untraced functions such as _jit_compiled_convolution_op, _jit_compiled_convolution_op, _jit_compiled_convolution_op, _jit_compiled_convolution_op, _jit_compiled_convolution_op while saving (showing 5 of 16). These functions will not be directly callable after loading.\n"
     ]
    },
    {
     "name": "stdout",
     "output_type": "stream",
     "text": [
      "INFO:tensorflow:Assets written to: model-04/assets\n"
     ]
    },
    {
     "name": "stderr",
     "output_type": "stream",
     "text": [
      "INFO:tensorflow:Assets written to: model-04/assets\n"
     ]
    },
    {
     "name": "stdout",
     "output_type": "stream",
     "text": [
      "699/699 [==============================] - 116s 166ms/step - loss: 2.6378 - accuracy: 0.9603 - val_loss: 2.5835 - val_accuracy: 0.9664 - lr: 0.0010\n",
      "Epoch 27/50\n",
      "699/699 [==============================] - ETA: 0s - loss: 2.5673 - accuracy: 0.9597\n",
      "Epoch 27: val_accuracy did not improve from 0.96642\n",
      "699/699 [==============================] - 112s 160ms/step - loss: 2.5673 - accuracy: 0.9597 - val_loss: 2.5187 - val_accuracy: 0.9663 - lr: 0.0010\n",
      "Epoch 28/50\n",
      "699/699 [==============================] - ETA: 0s - loss: 2.4998 - accuracy: 0.9599\n",
      "Epoch 28: val_accuracy did not improve from 0.96642\n",
      "699/699 [==============================] - 112s 160ms/step - loss: 2.4998 - accuracy: 0.9599 - val_loss: 2.4534 - val_accuracy: 0.9656 - lr: 0.0010\n",
      "Epoch 29/50\n",
      "699/699 [==============================] - ETA: 0s - loss: 2.4245 - accuracy: 0.9632\n",
      "Epoch 29: val_accuracy improved from 0.96642 to 0.96925, saving model to model-04\n"
     ]
    },
    {
     "name": "stderr",
     "output_type": "stream",
     "text": [
      "WARNING:absl:Found untraced functions such as _jit_compiled_convolution_op, _jit_compiled_convolution_op, _jit_compiled_convolution_op, _jit_compiled_convolution_op, _jit_compiled_convolution_op while saving (showing 5 of 16). These functions will not be directly callable after loading.\n"
     ]
    },
    {
     "name": "stdout",
     "output_type": "stream",
     "text": [
      "INFO:tensorflow:Assets written to: model-04/assets\n"
     ]
    },
    {
     "name": "stderr",
     "output_type": "stream",
     "text": [
      "INFO:tensorflow:Assets written to: model-04/assets\n"
     ]
    },
    {
     "name": "stdout",
     "output_type": "stream",
     "text": [
      "699/699 [==============================] - 117s 167ms/step - loss: 2.4245 - accuracy: 0.9632 - val_loss: 2.3784 - val_accuracy: 0.9692 - lr: 0.0010\n",
      "Epoch 30/50\n",
      "699/699 [==============================] - ETA: 0s - loss: 2.3595 - accuracy: 0.9641\n",
      "Epoch 30: val_accuracy did not improve from 0.96925\n",
      "699/699 [==============================] - 111s 158ms/step - loss: 2.3595 - accuracy: 0.9641 - val_loss: 2.3203 - val_accuracy: 0.9669 - lr: 0.0010\n",
      "Epoch 31/50\n",
      "699/699 [==============================] - ETA: 0s - loss: 2.2932 - accuracy: 0.9653\n",
      "Epoch 31: val_accuracy did not improve from 0.96925\n",
      "699/699 [==============================] - 110s 157ms/step - loss: 2.2932 - accuracy: 0.9653 - val_loss: 2.2534 - val_accuracy: 0.9682 - lr: 0.0010\n",
      "Epoch 32/50\n",
      "699/699 [==============================] - ETA: 0s - loss: 2.2353 - accuracy: 0.9639\n",
      "Epoch 32: val_accuracy did not improve from 0.96925\n",
      "699/699 [==============================] - 109s 156ms/step - loss: 2.2353 - accuracy: 0.9639 - val_loss: 2.1963 - val_accuracy: 0.9680 - lr: 0.0010\n",
      "Epoch 33/50\n",
      "699/699 [==============================] - ETA: 0s - loss: 2.1745 - accuracy: 0.9663\n",
      "Epoch 33: val_accuracy improved from 0.96925 to 0.97133, saving model to model-04\n"
     ]
    },
    {
     "name": "stderr",
     "output_type": "stream",
     "text": [
      "WARNING:absl:Found untraced functions such as _jit_compiled_convolution_op, _jit_compiled_convolution_op, _jit_compiled_convolution_op, _jit_compiled_convolution_op, _jit_compiled_convolution_op while saving (showing 5 of 16). These functions will not be directly callable after loading.\n"
     ]
    },
    {
     "name": "stdout",
     "output_type": "stream",
     "text": [
      "INFO:tensorflow:Assets written to: model-04/assets\n"
     ]
    },
    {
     "name": "stderr",
     "output_type": "stream",
     "text": [
      "INFO:tensorflow:Assets written to: model-04/assets\n"
     ]
    },
    {
     "name": "stdout",
     "output_type": "stream",
     "text": [
      "699/699 [==============================] - 116s 166ms/step - loss: 2.1745 - accuracy: 0.9663 - val_loss: 2.1300 - val_accuracy: 0.9713 - lr: 0.0010\n",
      "Epoch 34/50\n",
      "699/699 [==============================] - ETA: 0s - loss: 2.1169 - accuracy: 0.9656\n",
      "Epoch 34: val_accuracy did not improve from 0.97133\n",
      "699/699 [==============================] - 113s 161ms/step - loss: 2.1169 - accuracy: 0.9656 - val_loss: 2.0742 - val_accuracy: 0.9711 - lr: 0.0010\n",
      "Epoch 35/50\n",
      "699/699 [==============================] - ETA: 0s - loss: 2.0582 - accuracy: 0.9672\n",
      "Epoch 35: val_accuracy did not improve from 0.97133\n",
      "699/699 [==============================] - 111s 159ms/step - loss: 2.0582 - accuracy: 0.9672 - val_loss: 2.0286 - val_accuracy: 0.9679 - lr: 0.0010\n",
      "Epoch 36/50\n",
      "699/699 [==============================] - ETA: 0s - loss: 2.0003 - accuracy: 0.9687\n",
      "Epoch 36: val_accuracy did not improve from 0.97133\n",
      "699/699 [==============================] - 111s 159ms/step - loss: 2.0003 - accuracy: 0.9687 - val_loss: 1.9648 - val_accuracy: 0.9713 - lr: 0.0010\n",
      "Epoch 37/50\n",
      "699/699 [==============================] - ETA: 0s - loss: 1.9534 - accuracy: 0.9682\n",
      "Epoch 37: val_accuracy improved from 0.97133 to 0.97542, saving model to model-04\n"
     ]
    },
    {
     "name": "stderr",
     "output_type": "stream",
     "text": [
      "WARNING:absl:Found untraced functions such as _jit_compiled_convolution_op, _jit_compiled_convolution_op, _jit_compiled_convolution_op, _jit_compiled_convolution_op, _jit_compiled_convolution_op while saving (showing 5 of 16). These functions will not be directly callable after loading.\n"
     ]
    },
    {
     "name": "stdout",
     "output_type": "stream",
     "text": [
      "INFO:tensorflow:Assets written to: model-04/assets\n"
     ]
    },
    {
     "name": "stderr",
     "output_type": "stream",
     "text": [
      "INFO:tensorflow:Assets written to: model-04/assets\n"
     ]
    },
    {
     "name": "stdout",
     "output_type": "stream",
     "text": [
      "699/699 [==============================] - 116s 166ms/step - loss: 1.9534 - accuracy: 0.9682 - val_loss: 1.9048 - val_accuracy: 0.9754 - lr: 0.0010\n",
      "Epoch 38/50\n",
      "699/699 [==============================] - ETA: 0s - loss: 1.8945 - accuracy: 0.9694\n",
      "Epoch 38: val_accuracy did not improve from 0.97542\n",
      "699/699 [==============================] - 109s 156ms/step - loss: 1.8945 - accuracy: 0.9694 - val_loss: 1.8583 - val_accuracy: 0.9725 - lr: 0.0010\n",
      "Epoch 39/50\n",
      "699/699 [==============================] - ETA: 0s - loss: 1.8424 - accuracy: 0.9703\n",
      "Epoch 39: val_accuracy did not improve from 0.97542\n",
      "699/699 [==============================] - 109s 156ms/step - loss: 1.8424 - accuracy: 0.9703 - val_loss: 1.8104 - val_accuracy: 0.9741 - lr: 0.0010\n",
      "Epoch 40/50\n",
      "699/699 [==============================] - ETA: 0s - loss: 1.7947 - accuracy: 0.9702\n",
      "Epoch 40: val_accuracy improved from 0.97542 to 0.97979, saving model to model-04\n"
     ]
    },
    {
     "name": "stderr",
     "output_type": "stream",
     "text": [
      "WARNING:absl:Found untraced functions such as _jit_compiled_convolution_op, _jit_compiled_convolution_op, _jit_compiled_convolution_op, _jit_compiled_convolution_op, _jit_compiled_convolution_op while saving (showing 5 of 16). These functions will not be directly callable after loading.\n"
     ]
    },
    {
     "name": "stdout",
     "output_type": "stream",
     "text": [
      "INFO:tensorflow:Assets written to: model-04/assets\n"
     ]
    },
    {
     "name": "stderr",
     "output_type": "stream",
     "text": [
      "INFO:tensorflow:Assets written to: model-04/assets\n"
     ]
    },
    {
     "name": "stdout",
     "output_type": "stream",
     "text": [
      "699/699 [==============================] - 114s 163ms/step - loss: 1.7947 - accuracy: 0.9702 - val_loss: 1.7504 - val_accuracy: 0.9798 - lr: 0.0010\n",
      "Epoch 41/50\n",
      "699/699 [==============================] - ETA: 0s - loss: 1.7448 - accuracy: 0.9703\n",
      "Epoch 41: val_accuracy did not improve from 0.97979\n",
      "699/699 [==============================] - 109s 156ms/step - loss: 1.7448 - accuracy: 0.9703 - val_loss: 1.7198 - val_accuracy: 0.9718 - lr: 0.0010\n",
      "Epoch 42/50\n",
      "699/699 [==============================] - ETA: 0s - loss: 1.7004 - accuracy: 0.9715\n",
      "Epoch 42: val_accuracy did not improve from 0.97979\n",
      "699/699 [==============================] - 108s 155ms/step - loss: 1.7004 - accuracy: 0.9715 - val_loss: 1.6650 - val_accuracy: 0.9762 - lr: 0.0010\n",
      "Epoch 43/50\n",
      "699/699 [==============================] - ETA: 0s - loss: 1.6513 - accuracy: 0.9726\n",
      "Epoch 43: val_accuracy did not improve from 0.97979\n",
      "699/699 [==============================] - 110s 157ms/step - loss: 1.6513 - accuracy: 0.9726 - val_loss: 1.6179 - val_accuracy: 0.9777 - lr: 0.0010\n",
      "Epoch 44/50\n",
      "699/699 [==============================] - ETA: 0s - loss: 1.6082 - accuracy: 0.9725\n",
      "Epoch 44: val_accuracy did not improve from 0.97979\n",
      "699/699 [==============================] - 109s 156ms/step - loss: 1.6082 - accuracy: 0.9725 - val_loss: 1.5779 - val_accuracy: 0.9763 - lr: 0.0010\n",
      "Epoch 45/50\n",
      "699/699 [==============================] - ETA: 0s - loss: 1.5650 - accuracy: 0.9730\n",
      "Epoch 45: val_accuracy did not improve from 0.97979\n",
      "699/699 [==============================] - 109s 156ms/step - loss: 1.5650 - accuracy: 0.9730 - val_loss: 1.5370 - val_accuracy: 0.9774 - lr: 0.0010\n",
      "Epoch 46/50\n",
      "699/699 [==============================] - ETA: 0s - loss: 1.5213 - accuracy: 0.9740\n",
      "Epoch 46: val_accuracy did not improve from 0.97979\n",
      "699/699 [==============================] - 109s 155ms/step - loss: 1.5213 - accuracy: 0.9740 - val_loss: 1.4942 - val_accuracy: 0.9756 - lr: 0.0010\n",
      "Epoch 47/50\n",
      "699/699 [==============================] - ETA: 0s - loss: 1.4808 - accuracy: 0.9748\n",
      "Epoch 47: val_accuracy did not improve from 0.97979\n",
      "699/699 [==============================] - 109s 156ms/step - loss: 1.4808 - accuracy: 0.9748 - val_loss: 1.4569 - val_accuracy: 0.9774 - lr: 0.0010\n",
      "Epoch 48/50\n",
      "699/699 [==============================] - ETA: 0s - loss: 1.4399 - accuracy: 0.9761\n",
      "Epoch 48: val_accuracy did not improve from 0.97979\n",
      "699/699 [==============================] - 108s 155ms/step - loss: 1.4399 - accuracy: 0.9761 - val_loss: 1.4229 - val_accuracy: 0.9760 - lr: 0.0010\n",
      "Epoch 49/50\n",
      "699/699 [==============================] - ETA: 0s - loss: 1.4057 - accuracy: 0.9748\n",
      "Epoch 49: val_accuracy did not improve from 0.97979\n",
      "699/699 [==============================] - 109s 155ms/step - loss: 1.4057 - accuracy: 0.9748 - val_loss: 1.3816 - val_accuracy: 0.9760 - lr: 0.0010\n",
      "Epoch 50/50\n",
      "699/699 [==============================] - ETA: 0s - loss: 1.3650 - accuracy: 0.9755\n",
      "Epoch 50: val_accuracy did not improve from 0.97979\n",
      "699/699 [==============================] - 109s 156ms/step - loss: 1.3650 - accuracy: 0.9755 - val_loss: 1.3414 - val_accuracy: 0.9776 - lr: 0.0010\n"
     ]
    }
   ],
   "source": [
    "## EJECUCION DEL MODELO\n",
    "# with tf.device(\"/CPU:0\"):\n",
    "# with tf.device(\"/GPU:0\"):\n",
    "model.compile(loss=\"categorical_crossentropy\", \n",
    "              optimizer= SGD(learning_rate=0.001),\n",
    "              metrics=['accuracy'])\n",
    "\n",
    "#Agregamos un callback\n",
    "from tensorflow.keras.callbacks import ModelCheckpoint\n",
    "from tensorflow.keras.callbacks import ReduceLROnPlateau\n",
    "\n",
    "metric = 'val_accuracy'\n",
    "\n",
    "checkpointer = ModelCheckpoint(filepath='model-04', verbose=1, save_best_only=True,\n",
    "                               monitor = metric, mode = 'max')\n",
    "reduce_lr = ReduceLROnPlateau(monitor='loss', factor=0.2,\n",
    "                              patience=3, min_lr=0.000001)\n",
    "\n",
    "history= model.fit(train_generator, validation_data = valid_generator, callbacks = [reduce_lr, checkpointer], epochs=epochs)"
   ]
  },
  {
   "cell_type": "code",
   "execution_count": 13,
   "id": "7f2bdaef-cd4d-4293-a9d6-96ff42a472f9",
   "metadata": {},
   "outputs": [
    {
     "name": "stdout",
     "output_type": "stream",
     "text": [
      "234/234 [==============================] - 28s 119ms/step\n"
     ]
    }
   ],
   "source": [
    "preds_test = model.predict(test_generator)"
   ]
  },
  {
   "cell_type": "code",
   "execution_count": 14,
   "id": "49f96094-7a88-42fe-ad44-8530de26456e",
   "metadata": {},
   "outputs": [
    {
     "name": "stdout",
     "output_type": "stream",
     "text": [
      "234/234 [==============================] - 27s 117ms/step - loss: 1.3474 - accuracy: 0.9756\n"
     ]
    }
   ],
   "source": [
    "evaluate_test = model.evaluate(test_generator)"
   ]
  },
  {
   "cell_type": "code",
   "execution_count": 15,
   "id": "730f6466-b483-483e-b16c-1dde5da34648",
   "metadata": {},
   "outputs": [
    {
     "data": {
      "text/plain": [
       "[1.347383975982666, 0.9756048321723938]"
      ]
     },
     "execution_count": 15,
     "metadata": {},
     "output_type": "execute_result"
    }
   ],
   "source": [
    "evaluate_test"
   ]
  },
  {
   "cell_type": "code",
   "execution_count": 16,
   "id": "71fc2b80-aa9e-4fa3-b8d9-25f732de5c86",
   "metadata": {},
   "outputs": [
    {
     "data": {
      "text/plain": [
       "array([ 2,  0, 16, ..., 23, 23, 23])"
      ]
     },
     "execution_count": 16,
     "metadata": {},
     "output_type": "execute_result"
    }
   ],
   "source": [
    "y_preds_test = np.array([np.argmax(x) for x in preds_test])\n",
    "y_preds_test"
   ]
  },
  {
   "cell_type": "code",
   "execution_count": 17,
   "id": "eb480175-6c03-4201-806c-fb8a27b96984",
   "metadata": {},
   "outputs": [
    {
     "data": {
      "text/plain": [
       "array([ 0,  0,  0, ..., 23, 23, 23], dtype=int32)"
      ]
     },
     "execution_count": 17,
     "metadata": {},
     "output_type": "execute_result"
    }
   ],
   "source": [
    "y_real_test = test_generator.classes\n",
    "y_real_test"
   ]
  },
  {
   "cell_type": "code",
   "execution_count": 18,
   "id": "95f69712-fd40-43cf-90d2-9b0a1bafca00",
   "metadata": {},
   "outputs": [
    {
     "data": {
      "text/plain": [
       "0.9767441860465116"
      ]
     },
     "execution_count": 18,
     "metadata": {},
     "output_type": "execute_result"
    }
   ],
   "source": [
    "accuracy_test = accuracy_score(y_real_test, y_preds_test)\n",
    "accuracy_test"
   ]
  },
  {
   "cell_type": "code",
   "execution_count": 19,
   "id": "4b0f6dec-7952-41d6-bc7c-e585cd11d7de",
   "metadata": {},
   "outputs": [
    {
     "data": {
      "text/plain": [
       "array([[602,   3,   1,   0,   6,   0,   0,   0,   0,   1,   0,   2,   0,\n",
       "          0,   0,   0,   1,   1,   3,   0,   0,   0,   0,   0],\n",
       "       [  1, 617,   0,   1,   1,   0,   0,   0,   0,   1,   0,   0,   0,\n",
       "          0,   0,   0,   1,   0,   0,   1,   0,   0,   0,   0],\n",
       "       [  1,   1, 630,   0,   0,   0,   0,   0,   0,   0,   0,   0,   0,\n",
       "          1,   0,   0,   0,   0,   0,   0,   0,   0,   0,   0],\n",
       "       [  0,   2,   0, 613,   0,   1,   0,   0,   2,   0,   0,   0,   0,\n",
       "          1,   0,   0,   0,   0,   0,   2,   1,   0,   0,   0],\n",
       "       [  0,   3,   4,   0, 621,   0,   0,   0,   2,   0,   0,   1,   0,\n",
       "          0,   0,   0,   0,   4,   1,   1,   0,   0,   0,   0],\n",
       "       [  0,   0,   1,   0,   1, 611,   2,   0,   2,   1,   0,   1,   0,\n",
       "          0,   1,   0,   1,   0,   0,   0,   0,   1,   0,   2],\n",
       "       [  0,   0,   0,   0,   1,   0, 603,  11,   1,   0,   1,   0,   0,\n",
       "          0,   3,   0,   0,   1,   0,   2,   0,   0,   0,   0],\n",
       "       [  0,   0,   0,   0,   0,   0,   1, 617,   0,   0,   0,   0,   0,\n",
       "          0,   0,   1,   1,   0,   0,   0,   0,   0,   0,   1],\n",
       "       [  1,   1,   0,   1,   3,   1,   0,   1, 610,   0,   0,   0,   0,\n",
       "          0,   0,   0,   0,   0,   0,   1,   0,   0,   1,   2],\n",
       "       [  1,   0,   0,   1,   0,   1,   1,   1,   0, 601,   1,   0,   0,\n",
       "          0,   0,   0,   2,   0,   0,   3,   6,   4,   0,   0],\n",
       "       [  0,   0,   0,   0,   1,   0,   0,   0,   0,   0, 616,   0,   0,\n",
       "          0,   0,   0,   0,   0,   1,   0,   1,   0,   1,   1],\n",
       "       [  1,   1,   0,   0,   0,   0,   1,   1,   0,   0,   0, 606,   9,\n",
       "          1,   0,   0,   0,   0,   0,   1,   0,   0,   0,   0],\n",
       "       [  1,   0,   0,   0,   0,   0,   0,   0,   0,   0,   0,  16, 596,\n",
       "          1,   0,   3,   0,   1,   1,   1,   0,   0,   0,   0],\n",
       "       [  0,   0,   1,   2,   0,   0,   0,   0,   1,   0,   0,   2,   0,\n",
       "        610,   1,   3,   0,   0,   1,   0,   0,   0,   1,   1],\n",
       "       [  0,   0,   0,   0,   0,   0,   0,   0,   0,   0,   0,   0,   0,\n",
       "          0, 617,   7,   0,   0,   0,   0,   0,   0,   0,   0],\n",
       "       [  0,   0,   0,   0,   0,   0,   0,   0,   0,   0,   0,   0,   1,\n",
       "          0,   0, 619,   0,   1,   0,   0,   0,   0,   0,   0],\n",
       "       [  0,   0,   0,   0,   1,   0,   0,   4,   0,   0,   0,   0,   0,\n",
       "          1,   1,   0, 572,   0,   0,  33,   6,   0,   1,   0],\n",
       "       [  1,   0,   0,   0,   2,   1,   0,   0,   2,   0,   0,   1,   0,\n",
       "          0,   0,   0,   1, 595,   4,   3,   0,   1,   4,   2],\n",
       "       [  1,   0,   0,   0,   0,   0,   0,   0,   0,   0,   0,   2,   0,\n",
       "          0,   0,   0,   0,   3, 609,   0,   0,   0,   0,   3],\n",
       "       [  0,   0,   0,   0,   0,   0,   1,   0,   0,   0,   0,   0,   0,\n",
       "          0,   0,   0,   1,   0,   0, 610,   4,   1,   1,   0],\n",
       "       [  0,   0,   0,   0,   0,   0,   0,   0,   0,   8,   0,   0,   0,\n",
       "          0,   0,   0,   2,   0,   0,  18, 586,   3,   1,   0],\n",
       "       [  0,   0,   1,   0,   0,   0,   0,   0,   0,   2,   0,   0,   0,\n",
       "          0,   0,   0,   0,   0,   0,   2,   5, 607,   1,   0],\n",
       "       [  0,   0,   0,   0,   2,   0,   0,   0,   2,   0,   0,   0,   0,\n",
       "          0,   0,   0,   2,   8,   3,   8,   1,   0, 590,   1],\n",
       "       [  0,   0,   0,   0,   0,   0,   1,   0,   0,   0,   0,   0,   0,\n",
       "          0,   0,   0,   0,   1,   1,   0,   0,   0,   0, 616]])"
      ]
     },
     "execution_count": 19,
     "metadata": {},
     "output_type": "execute_result"
    }
   ],
   "source": [
    "cm_test = confusion_matrix(y_real_test, y_preds_test)\n",
    "cm_test"
   ]
  },
  {
   "cell_type": "code",
   "execution_count": 20,
   "id": "4cb535b8-028f-477e-b03f-8783b3a13096",
   "metadata": {},
   "outputs": [
    {
     "data": {
      "image/png": "[encoded data removed]",
      "text/plain": [
       "<Figure size 800x600 with 2 Axes>"
      ]
     },
     "metadata": {},
     "output_type": "display_data"
    }
   ],
   "source": [
    "plt.figure(figsize=(8,6), dpi=100)\n",
    "# Scale up the size of all text\n",
    "sns.set(font_scale = 1.1)\n",
    "\n",
    "# Plot Confusion Matrix using Seaborn heatmap()\n",
    "# Parameters:\n",
    "# first param - confusion matrix in array format   \n",
    "# annot = True: show the numbers in each heatmap cell\n",
    "# fmt = 'd': show numbers as integers. \n",
    "ax = sns.heatmap(cm_test, annot=True, fmt='d', )\n",
    "\n",
    "# set x-axis label and ticks. \n",
    "ax.set_xlabel(\"Predicted Diagnosis\", fontsize=14, labelpad=20)\n",
    "# ax.xaxis.set_ticklabels(['Negative', 'Positive'])\n",
    "\n",
    "# set y-axis label and ticks\n",
    "ax.set_ylabel(\"Actual Diagnosis\", fontsize=14, labelpad=20)\n",
    "# ax.yaxis.set_ticklabels(['Negative', 'Positive'])\n",
    "\n",
    "# set plot title\n",
    "ax.set_title(\"Confusion Matrix for the Diabetes Detection Model\", fontsize=14, pad=20)\n",
    "\n",
    "plt.show()"
   ]
  },
  {
   "cell_type": "code",
   "execution_count": 21,
   "id": "b503eb1a-81ed-4078-b596-278249a3c722",
   "metadata": {},
   "outputs": [
    {
     "name": "stdout",
     "output_type": "stream",
     "text": [
      "233/233 [==============================] - 27s 116ms/step\n"
     ]
    }
   ],
   "source": [
    "preds_val = model.predict(valid_generator)"
   ]
  },
  {
   "cell_type": "code",
   "execution_count": 22,
   "id": "1fb77fb4-bdbf-4929-b30b-f90ab9aa55eb",
   "metadata": {},
   "outputs": [
    {
     "name": "stdout",
     "output_type": "stream",
     "text": [
      "233/233 [==============================] - 27s 115ms/step - loss: 1.3426 - accuracy: 0.9772\n"
     ]
    }
   ],
   "source": [
    "evaluate_val = model.evaluate(valid_generator)"
   ]
  },
  {
   "cell_type": "code",
   "execution_count": 23,
   "id": "d3a2be82-fc27-446d-be97-ef39329a1385",
   "metadata": {},
   "outputs": [
    {
     "data": {
      "text/plain": [
       "[1.3425661325454712, 0.9771689772605896]"
      ]
     },
     "execution_count": 23,
     "metadata": {},
     "output_type": "execute_result"
    }
   ],
   "source": [
    "evaluate_val"
   ]
  },
  {
   "cell_type": "code",
   "execution_count": 24,
   "id": "d17f5e3f-c58f-4ff5-86d8-961dde74325c",
   "metadata": {},
   "outputs": [
    {
     "data": {
      "text/plain": [
       "array([ 2,  1,  0, ..., 23, 23, 23])"
      ]
     },
     "execution_count": 24,
     "metadata": {},
     "output_type": "execute_result"
    }
   ],
   "source": [
    "y_preds_val = np.array([np.argmax(x) for x in preds_val])\n",
    "y_preds_val"
   ]
  },
  {
   "cell_type": "code",
   "execution_count": 25,
   "id": "7a7cd9d7-3192-4e04-a0a1-693ca99d1037",
   "metadata": {},
   "outputs": [
    {
     "data": {
      "text/plain": [
       "array([ 0,  0,  0, ..., 23, 23, 23], dtype=int32)"
      ]
     },
     "execution_count": 25,
     "metadata": {},
     "output_type": "execute_result"
    }
   ],
   "source": [
    "y_real_val = valid_generator.classes\n",
    "y_real_val"
   ]
  },
  {
   "cell_type": "code",
   "execution_count": 26,
   "id": "67e7aded-e874-41a0-981d-4de4720b27ad",
   "metadata": {},
   "outputs": [
    {
     "data": {
      "text/plain": [
       "0.9786462530217567"
      ]
     },
     "execution_count": 26,
     "metadata": {},
     "output_type": "execute_result"
    }
   ],
   "source": [
    "accuracy_val = accuracy_score(y_real_val, y_preds_val)\n",
    "accuracy_val"
   ]
  },
  {
   "cell_type": "code",
   "execution_count": 27,
   "id": "c3459eff-7df8-47b2-986a-2beab8ac51e1",
   "metadata": {},
   "outputs": [
    {
     "data": {
      "text/plain": [
       "array([[601,   3,   3,   0,   5,   0,   0,   0,   0,   0,   0,   0,   0,\n",
       "          0,   0,   0,   1,   1,   2,   1,   0,   0,   1,   0],\n",
       "       [  0, 617,   1,   0,   0,   0,   0,   0,   0,   0,   0,   0,   0,\n",
       "          0,   0,   0,   1,   0,   0,   1,   0,   0,   0,   1],\n",
       "       [  0,   0, 622,   1,   4,   0,   0,   0,   1,   0,   0,   1,   0,\n",
       "          2,   0,   0,   0,   1,   0,   0,   0,   0,   0,   0],\n",
       "       [  0,   1,   1, 611,   2,   0,   0,   0,   0,   0,   0,   0,   0,\n",
       "          3,   0,   0,   0,   0,   0,   1,   1,   0,   0,   0],\n",
       "       [  1,   4,   0,   1, 618,   0,   0,   0,   6,   0,   1,   0,   0,\n",
       "          1,   0,   0,   2,   1,   2,   0,   0,   0,   0,   0],\n",
       "       [  0,   0,   0,   0,   0, 611,   0,   1,   1,   3,   0,   0,   0,\n",
       "          0,   0,   0,   3,   0,   0,   0,   1,   2,   0,   0],\n",
       "       [  0,   1,   0,   0,   0,   0, 610,   8,   1,   0,   0,   0,   0,\n",
       "          0,   2,   1,   0,   0,   0,   0,   0,   0,   0,   0],\n",
       "       [  0,   0,   0,   0,   0,   0,   3, 613,   1,   0,   0,   0,   0,\n",
       "          0,   0,   0,   2,   0,   0,   0,   0,   0,   0,   1],\n",
       "       [  0,   4,   1,   0,   2,   2,   0,   0, 605,   1,   0,   0,   0,\n",
       "          0,   0,   0,   0,   1,   0,   0,   0,   2,   0,   2],\n",
       "       [  0,   1,   0,   0,   0,   1,   1,   0,   0, 602,   0,   0,   0,\n",
       "          0,   0,   0,   0,   0,   0,   2,  12,   1,   0,   0],\n",
       "       [  0,   0,   1,   0,   0,   0,   0,   0,   0,   0, 611,   0,   0,\n",
       "          1,   0,   0,   0,   0,   2,   0,   0,   0,   5,   0],\n",
       "       [  1,   0,   0,   0,   0,   0,   0,   1,   0,   0,   0, 610,   6,\n",
       "          0,   0,   0,   0,   0,   0,   2,   0,   0,   0,   0],\n",
       "       [  0,   0,   0,   0,   0,   0,   0,   0,   0,   0,   0,   9, 606,\n",
       "          1,   0,   0,   0,   0,   1,   2,   0,   0,   0,   0],\n",
       "       [  1,   0,   1,   0,   0,   0,   0,   0,   0,   0,   0,   1,   0,\n",
       "        614,   0,   2,   0,   2,   0,   1,   0,   0,   1,   0],\n",
       "       [  0,   0,   0,   0,   0,   0,   0,   3,   0,   0,   0,   0,   0,\n",
       "          0, 614,   4,   0,   1,   0,   0,   0,   0,   0,   1],\n",
       "       [  0,   0,   1,   0,   0,   0,   0,   0,   0,   0,   0,   1,   0,\n",
       "          1,   0, 613,   0,   2,   0,   0,   0,   0,   0,   1],\n",
       "       [  0,   0,   0,   0,   0,   0,   0,   0,   0,   1,   0,   0,   0,\n",
       "          0,   0,   0, 587,   0,   0,  29,   1,   1,   0,   0],\n",
       "       [  1,   0,   0,   0,   3,   0,   0,   1,   2,   0,   0,   1,   0,\n",
       "          1,   0,   0,   0, 588,   4,   8,   1,   0,   2,   4],\n",
       "       [  2,   0,   0,   0,   0,   0,   0,   0,   0,   0,   1,   0,   0,\n",
       "          1,   0,   0,   0,   2, 607,   0,   0,   0,   0,   4],\n",
       "       [  0,   0,   0,   0,   0,   0,   0,   0,   0,   0,   0,   0,   0,\n",
       "          0,   0,   0,   3,   1,   0, 611,   0,   1,   0,   1],\n",
       "       [  0,   0,   0,   0,   0,   1,   0,   0,   0,   4,   0,   0,   0,\n",
       "          0,   0,   0,   1,   0,   0,  11, 597,   3,   0,   0],\n",
       "       [  0,   0,   0,   0,   0,   0,   0,   0,   0,   1,   0,   0,   0,\n",
       "          0,   0,   0,   0,   0,   0,   5,   8, 602,   0,   0],\n",
       "       [  0,   0,   0,   0,   0,   0,   0,   0,   2,   0,   1,   1,   0,\n",
       "          0,   0,   0,   2,  10,   1,   7,   1,   0, 591,   0],\n",
       "       [  0,   0,   0,   0,   0,   0,   0,   1,   0,   0,   1,   0,   0,\n",
       "          0,   0,   0,   0,   1,   0,   1,   0,   0,   0, 613]])"
      ]
     },
     "execution_count": 27,
     "metadata": {},
     "output_type": "execute_result"
    }
   ],
   "source": [
    "cm_val = confusion_matrix(y_real_val, y_preds_val)\n",
    "cm_val"
   ]
  },
  {
   "cell_type": "code",
   "execution_count": 28,
   "id": "d9806965-fb2e-4044-af24-af216719e719",
   "metadata": {},
   "outputs": [
    {
     "data": {
      "image/png": "[encoded data removed]",
      "text/plain": [
       "<Figure size 800x600 with 2 Axes>"
      ]
     },
     "metadata": {},
     "output_type": "display_data"
    }
   ],
   "source": [
    "plt.figure(figsize=(8,6), dpi=100)\n",
    "# Scale up the size of all text\n",
    "sns.set(font_scale = 1.1)\n",
    "\n",
    "# Plot Confusion Matrix using Seaborn heatmap()\n",
    "# Parameters:\n",
    "# first param - confusion matrix in array format   \n",
    "# annot = True: show the numbers in each heatmap cell\n",
    "# fmt = 'd': show numbers as integers. \n",
    "ax = sns.heatmap(cm_val, annot=True, fmt='d', )\n",
    "\n",
    "# set x-axis label and ticks. \n",
    "ax.set_xlabel(\"Predicted Diagnosis\", fontsize=14, labelpad=20)\n",
    "# ax.xaxis.set_ticklabels(['Negative', 'Positive'])\n",
    "\n",
    "# set y-axis label and ticks\n",
    "ax.set_ylabel(\"Actual Diagnosis\", fontsize=14, labelpad=20)\n",
    "# ax.yaxis.set_ticklabels(['Negative', 'Positive'])\n",
    "\n",
    "# set plot title\n",
    "ax.set_title(\"Confusion Matrix for the Diabetes Detection Model\", fontsize=14, pad=20)\n",
    "\n",
    "plt.show()"
   ]
  }
 ],
 "metadata": {
  "kernelspec": {
   "display_name": "TensorFlow 2.11 (Local)",
   "language": "python",
   "name": "local-tf2-2-11"
  },
  "language_info": {
   "codemirror_mode": {
    "name": "ipython",
    "version": 3
   },
   "file_extension": ".py",
   "mimetype": "text/x-python",
   "name": "python",
   "nbconvert_exporter": "python",
   "pygments_lexer": "ipython3",
   "version": "3.7.12"
  }
 },
 "nbformat": 4,
 "nbformat_minor": 5
}

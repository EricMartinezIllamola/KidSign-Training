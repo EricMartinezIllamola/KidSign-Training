{
 "cells": [
  {
   "cell_type": "code",
   "execution_count": 1,
   "id": "cabbedb0-cdf5-4873-b294-64c330b205de",
   "metadata": {
    "tags": []
   },
   "outputs": [
    {
     "name": "stderr",
     "output_type": "stream",
     "text": [
      "2023-09-16 16:36:33.064245: I tensorflow/core/platform/cpu_feature_guard.cc:193] This TensorFlow binary is optimized with oneAPI Deep Neural Network Library (oneDNN) to use the following CPU instructions in performance-critical operations:  AVX2 FMA\n",
      "To enable them in other operations, rebuild TensorFlow with the appropriate compiler flags.\n",
      "2023-09-16 16:36:36.361217: W tensorflow/compiler/xla/stream_executor/platform/default/dso_loader.cc:64] Could not load dynamic library 'libnvinfer.so.7'; dlerror: libnvinfer.so.7: cannot open shared object file: No such file or directory; LD_LIBRARY_PATH: /usr/local/cuda/lib64:/usr/local/cuda/lib:/usr/local/lib/x86_64-linux-gnu:/usr/local/nvidia/lib:/usr/local/nvidia/lib64:/usr/local/nvidia/lib:/usr/local/nvidia/lib64\n",
      "2023-09-16 16:36:36.361404: W tensorflow/compiler/xla/stream_executor/platform/default/dso_loader.cc:64] Could not load dynamic library 'libnvinfer_plugin.so.7'; dlerror: libnvinfer_plugin.so.7: cannot open shared object file: No such file or directory; LD_LIBRARY_PATH: /usr/local/cuda/lib64:/usr/local/cuda/lib:/usr/local/lib/x86_64-linux-gnu:/usr/local/nvidia/lib:/usr/local/nvidia/lib64:/usr/local/nvidia/lib:/usr/local/nvidia/lib64\n",
      "2023-09-16 16:36:36.361418: W tensorflow/compiler/tf2tensorrt/utils/py_utils.cc:38] TF-TRT Warning: Cannot dlopen some TensorRT libraries. If you would like to use Nvidia GPU with TensorRT, please make sure the missing libraries mentioned above are installed properly.\n"
     ]
    },
    {
     "name": "stdout",
     "output_type": "stream",
     "text": [
      "2.11.0\n"
     ]
    }
   ],
   "source": [
    "import tensorflow as tf\n",
    "\n",
    "print(tf.__version__)\n",
    "\n",
    "from tensorflow.keras.models                import Sequential, Model\n",
    "from tensorflow.keras.layers                import *\n",
    "from tensorflow.keras.preprocessing.image   import ImageDataGenerator\n",
    "from tensorflow.keras.utils                 import to_categorical\n",
    "from tensorflow.keras.optimizers            import SGD, RMSprop, Adam, Adagrad, Adadelta\n",
    "\n",
    "from sklearn.model_selection import train_test_split\n",
    "from sklearn.metrics import confusion_matrix, accuracy_score\n",
    "from sklearn.utils import class_weight\n",
    "\n",
    "import matplotlib.pyplot as plt\n",
    "import random\n",
    "# import cv2\n",
    "import pandas as pd\n",
    "import numpy as np\n",
    "import matplotlib.gridspec as gridspec\n",
    "import seaborn as sns\n",
    "import sklearn\n",
    "import scipy\n",
    "import skimage\n",
    "from skimage.transform import resize\n",
    "from tqdm import tqdm\n",
    "from sklearn import model_selection\n",
    "from sklearn.model_selection import train_test_split, learning_curve,KFold,cross_val_score,StratifiedKFold\n",
    "from sklearn.utils import class_weight\n",
    "from sklearn.metrics import confusion_matrix"
   ]
  },
  {
   "cell_type": "code",
   "execution_count": 2,
   "id": "591c6941-6b95-49ed-a5e4-b3b065f337e5",
   "metadata": {},
   "outputs": [],
   "source": [
    "# !git clone https://github.com/EricMartinezIllamola/asl-alphabet.git"
   ]
  },
  {
   "cell_type": "code",
   "execution_count": 3,
   "id": "b142a1a3-59e9-445c-a9c9-35d7cc5e2645",
   "metadata": {},
   "outputs": [],
   "source": [
    "# !pip install split-folders "
   ]
  },
  {
   "cell_type": "code",
   "execution_count": 4,
   "id": "e29c6dc1-7ac5-4f9c-afc5-27889eadad59",
   "metadata": {
    "tags": []
   },
   "outputs": [],
   "source": [
    "# import splitfolders\n",
    "# import os"
   ]
  },
  {
   "cell_type": "code",
   "execution_count": 5,
   "id": "5bc916a7-71b9-408a-a862-97bac0f8cd8c",
   "metadata": {
    "tags": []
   },
   "outputs": [],
   "source": [
    "# path = \"asl-alphabet/asl-alphabet\"\n",
    "\n",
    "# splitfolders.ratio(path, seed=777, output=\"Train-Validation-Test-Dataset\", ratio=(0.6, 0.2, 0.2))"
   ]
  },
  {
   "cell_type": "code",
   "execution_count": 6,
   "id": "3c62d1d8-12eb-4f83-ae0c-7ffa1f9c939b",
   "metadata": {},
   "outputs": [],
   "source": [
    "train_path = \"Train-Validation-Test-Dataset/train\"\n",
    "val_path = \"Train-Validation-Test-Dataset/val\"\n",
    "test_path = \"Train-Validation-Test-Dataset/test\""
   ]
  },
  {
   "cell_type": "code",
   "execution_count": 7,
   "id": "cdc6b023-62d9-4604-a6b7-388c23c40b87",
   "metadata": {
    "tags": []
   },
   "outputs": [
    {
     "name": "stderr",
     "output_type": "stream",
     "text": [
      "2023-09-16 16:36:40.479468: I tensorflow/compiler/xla/stream_executor/cuda/cuda_gpu_executor.cc:981] successful NUMA node read from SysFS had negative value (-1), but there must be at least one NUMA node, so returning NUMA node zero\n",
      "2023-09-16 16:36:40.493753: I tensorflow/compiler/xla/stream_executor/cuda/cuda_gpu_executor.cc:981] successful NUMA node read from SysFS had negative value (-1), but there must be at least one NUMA node, so returning NUMA node zero\n",
      "2023-09-16 16:36:40.496554: I tensorflow/compiler/xla/stream_executor/cuda/cuda_gpu_executor.cc:981] successful NUMA node read from SysFS had negative value (-1), but there must be at least one NUMA node, so returning NUMA node zero\n"
     ]
    },
    {
     "data": {
      "text/plain": [
       "[PhysicalDevice(name='/physical_device:CPU:0', device_type='CPU'),\n",
       " PhysicalDevice(name='/physical_device:GPU:0', device_type='GPU')]"
      ]
     },
     "execution_count": 7,
     "metadata": {},
     "output_type": "execute_result"
    }
   ],
   "source": [
    "tf.config.experimental.list_physical_devices()"
   ]
  },
  {
   "cell_type": "code",
   "execution_count": 8,
   "id": "e2dfe75c-2fa1-44a9-94ff-d1205720671d",
   "metadata": {
    "tags": []
   },
   "outputs": [
    {
     "data": {
      "text/plain": [
       "True"
      ]
     },
     "execution_count": 8,
     "metadata": {},
     "output_type": "execute_result"
    }
   ],
   "source": [
    "tf.test.is_built_with_cuda()"
   ]
  },
  {
   "cell_type": "code",
   "execution_count": 9,
   "id": "b9f0f604-67d3-43b5-962d-5b88fd6bb534",
   "metadata": {},
   "outputs": [
    {
     "name": "stdout",
     "output_type": "stream",
     "text": [
      "Found 44695 images belonging to 24 classes.\n",
      "Found 14892 images belonging to 24 classes.\n",
      "Found 14921 images belonging to 24 classes.\n"
     ]
    }
   ],
   "source": [
    "from tensorflow.keras.preprocessing.image   import ImageDataGenerator\n",
    "\n",
    "##Clasificamos las imagenes\n",
    "bs = 64 #bach size\n",
    "k = 2\n",
    "# Generador de imágenes de entrenamiento.\n",
    "train_datagen = ImageDataGenerator(\n",
    "        rescale=1./255,\n",
    "        shear_range=(0.3),\n",
    "        zoom_range=(0.3),\n",
    "        width_shift_range=(0.2),\n",
    "        height_shift_range=(0.2),\n",
    "        # validation_split = 0.2,\n",
    "        brightness_range=(0.05,0.85),\n",
    "        horizontal_flip=False)\n",
    "\n",
    "# Carga de imágenes al generador de entrenamiento desde directorio.\n",
    "train_generator = train_datagen.flow_from_directory(\n",
    "        train_path,\n",
    "        class_mode='categorical',\n",
    "        shuffle=True,\n",
    "        target_size=(28*k, 28*k),\n",
    "        color_mode = 'rgb', \n",
    "        # subset = 'training',\n",
    "        batch_size=bs)\n",
    "\n",
    "valid_generator = train_datagen.flow_from_directory(\n",
    "        val_path,\n",
    "        class_mode='categorical',\n",
    "        shuffle=False,\n",
    "        target_size=(28*k, 28*k),\n",
    "        color_mode = 'rgb', \n",
    "        # subset = 'validation',\n",
    "        batch_size=bs)\n",
    "\n",
    "test_generator = train_datagen.flow_from_directory(\n",
    "        test_path,\n",
    "        class_mode='categorical',\n",
    "        shuffle=False,\n",
    "        target_size=(28*k, 28*k),\n",
    "        color_mode = 'rgb', \n",
    "        # subset = 'validation',\n",
    "        batch_size=bs)"
   ]
  },
  {
   "cell_type": "code",
   "execution_count": 10,
   "id": "ce39767d-6018-413a-ac2c-8e816e2cf5e3",
   "metadata": {},
   "outputs": [
    {
     "name": "stderr",
     "output_type": "stream",
     "text": [
      "2023-09-16 16:36:47.410811: I tensorflow/core/platform/cpu_feature_guard.cc:193] This TensorFlow binary is optimized with oneAPI Deep Neural Network Library (oneDNN) to use the following CPU instructions in performance-critical operations:  AVX2 FMA\n",
      "To enable them in other operations, rebuild TensorFlow with the appropriate compiler flags.\n",
      "2023-09-16 16:36:47.413169: I tensorflow/compiler/xla/stream_executor/cuda/cuda_gpu_executor.cc:981] successful NUMA node read from SysFS had negative value (-1), but there must be at least one NUMA node, so returning NUMA node zero\n",
      "2023-09-16 16:36:47.416696: I tensorflow/compiler/xla/stream_executor/cuda/cuda_gpu_executor.cc:981] successful NUMA node read from SysFS had negative value (-1), but there must be at least one NUMA node, so returning NUMA node zero\n",
      "2023-09-16 16:36:47.419569: I tensorflow/compiler/xla/stream_executor/cuda/cuda_gpu_executor.cc:981] successful NUMA node read from SysFS had negative value (-1), but there must be at least one NUMA node, so returning NUMA node zero\n",
      "2023-09-16 16:36:48.196109: I tensorflow/compiler/xla/stream_executor/cuda/cuda_gpu_executor.cc:981] successful NUMA node read from SysFS had negative value (-1), but there must be at least one NUMA node, so returning NUMA node zero\n",
      "2023-09-16 16:36:48.197917: I tensorflow/compiler/xla/stream_executor/cuda/cuda_gpu_executor.cc:981] successful NUMA node read from SysFS had negative value (-1), but there must be at least one NUMA node, so returning NUMA node zero\n",
      "2023-09-16 16:36:48.199458: I tensorflow/compiler/xla/stream_executor/cuda/cuda_gpu_executor.cc:981] successful NUMA node read from SysFS had negative value (-1), but there must be at least one NUMA node, so returning NUMA node zero\n",
      "2023-09-16 16:36:48.200899: I tensorflow/core/common_runtime/gpu/gpu_device.cc:1613] Created device /job:localhost/replica:0/task:0/device:GPU:0 with 13582 MB memory:  -> device: 0, name: Tesla T4, pci bus id: 0000:00:04.0, compute capability: 7.5\n"
     ]
    },
    {
     "name": "stdout",
     "output_type": "stream",
     "text": [
      "Model: \"vgg19\"\n",
      "_________________________________________________________________\n",
      " Layer (type)                Output Shape              Param #   \n",
      "=================================================================\n",
      " input_1 (InputLayer)        [(None, 224, 224, 3)]     0         \n",
      "                                                                 \n",
      " block1_conv1 (Conv2D)       (None, 224, 224, 64)      1792      \n",
      "                                                                 \n",
      " block1_conv2 (Conv2D)       (None, 224, 224, 64)      36928     \n",
      "                                                                 \n",
      " block1_pool (MaxPooling2D)  (None, 112, 112, 64)      0         \n",
      "                                                                 \n",
      " block2_conv1 (Conv2D)       (None, 112, 112, 128)     73856     \n",
      "                                                                 \n",
      " block2_conv2 (Conv2D)       (None, 112, 112, 128)     147584    \n",
      "                                                                 \n",
      " block2_pool (MaxPooling2D)  (None, 56, 56, 128)       0         \n",
      "                                                                 \n",
      " block3_conv1 (Conv2D)       (None, 56, 56, 256)       295168    \n",
      "                                                                 \n",
      " block3_conv2 (Conv2D)       (None, 56, 56, 256)       590080    \n",
      "                                                                 \n",
      " block3_conv3 (Conv2D)       (None, 56, 56, 256)       590080    \n",
      "                                                                 \n",
      " block3_conv4 (Conv2D)       (None, 56, 56, 256)       590080    \n",
      "                                                                 \n",
      " block3_pool (MaxPooling2D)  (None, 28, 28, 256)       0         \n",
      "                                                                 \n",
      " block4_conv1 (Conv2D)       (None, 28, 28, 512)       1180160   \n",
      "                                                                 \n",
      " block4_conv2 (Conv2D)       (None, 28, 28, 512)       2359808   \n",
      "                                                                 \n",
      " block4_conv3 (Conv2D)       (None, 28, 28, 512)       2359808   \n",
      "                                                                 \n",
      " block4_conv4 (Conv2D)       (None, 28, 28, 512)       2359808   \n",
      "                                                                 \n",
      " block4_pool (MaxPooling2D)  (None, 14, 14, 512)       0         \n",
      "                                                                 \n",
      " block5_conv1 (Conv2D)       (None, 14, 14, 512)       2359808   \n",
      "                                                                 \n",
      " block5_conv2 (Conv2D)       (None, 14, 14, 512)       2359808   \n",
      "                                                                 \n",
      " block5_conv3 (Conv2D)       (None, 14, 14, 512)       2359808   \n",
      "                                                                 \n",
      " block5_conv4 (Conv2D)       (None, 14, 14, 512)       2359808   \n",
      "                                                                 \n",
      " block5_pool (MaxPooling2D)  (None, 7, 7, 512)         0         \n",
      "                                                                 \n",
      " flatten (Flatten)           (None, 25088)             0         \n",
      "                                                                 \n",
      " fc1 (Dense)                 (None, 4096)              102764544 \n",
      "                                                                 \n",
      " fc2 (Dense)                 (None, 4096)              16781312  \n",
      "                                                                 \n",
      " predictions (Dense)         (None, 1000)              4097000   \n",
      "                                                                 \n",
      "=================================================================\n",
      "Total params: 143,667,240\n",
      "Trainable params: 143,667,240\n",
      "Non-trainable params: 0\n",
      "_________________________________________________________________\n",
      "26\n"
     ]
    }
   ],
   "source": [
    "#Visualizamos la estructura del modelo que vamos a utilizar\n",
    "model = tf.keras.applications.VGG19()\n",
    "model.summary()\n",
    "print(len(model.layers))"
   ]
  },
  {
   "cell_type": "code",
   "execution_count": 11,
   "id": "b0e0e374-6bf0-455d-92ee-83982a54eae7",
   "metadata": {},
   "outputs": [
    {
     "name": "stdout",
     "output_type": "stream",
     "text": [
      "22\n"
     ]
    }
   ],
   "source": [
    "##DEFINIMOS EL MODELO\n",
    "num_classes = 24\n",
    "epochs = 50\n",
    "\n",
    "# VGG19\n",
    "# Importamos el modelo que queremos utilizar con los argumentos que queremos\n",
    "VGG19_model = tf.keras.applications.VGG19(input_shape=(28*k,28*k,3),\n",
    "                                          include_top=False,\n",
    "                                          weights='imagenet')\n",
    "\n",
    "print(len(VGG19_model.layers))\n",
    "#Congelamos  las 6 primeras caps del modelo para proceder a entrenar las demás\n",
    "for layer in VGG19_model.layers[:6]:\n",
    "  layer.trainable = False\n",
    "\n",
    "# Creamos un nuevo modelo vacio.\n",
    "model = tf.keras.Sequential()\n",
    "\n",
    "# Añadimos el modelo preentrenado como si se tratase de una capa.\n",
    "model.add(VGG19_model)\n",
    "\n",
    "# Continuamos añadiendo más capas que sí serán entrenadas...\n",
    "from tensorflow.keras import regularizers\n",
    "model.add(Flatten())\n",
    "model.add(Dense(512, kernel_regularizer=regularizers.l2(0.01), activation = 'relu'))\n",
    "model.add(Dropout(0.25))\n",
    "model.add(Dense(num_classes, activation = 'softmax'))"
   ]
  },
  {
   "cell_type": "code",
   "execution_count": 12,
   "id": "98f08be8-a077-4ef3-92ab-b3604ff40655",
   "metadata": {},
   "outputs": [
    {
     "name": "stdout",
     "output_type": "stream",
     "text": [
      "Epoch 1/50\n"
     ]
    },
    {
     "name": "stderr",
     "output_type": "stream",
     "text": [
      "2023-09-16 16:36:53.426046: I tensorflow/compiler/xla/stream_executor/cuda/cuda_dnn.cc:428] Loaded cuDNN version 8200\n",
      "2023-09-16 16:36:55.949916: I tensorflow/compiler/xla/service/service.cc:173] XLA service 0x562c935a5620 initialized for platform CUDA (this does not guarantee that XLA will be used). Devices:\n",
      "2023-09-16 16:36:55.949969: I tensorflow/compiler/xla/service/service.cc:181]   StreamExecutor device (0): Tesla T4, Compute Capability 7.5\n",
      "2023-09-16 16:36:56.031027: I tensorflow/compiler/jit/xla_compilation_cache.cc:477] Compiled cluster using XLA!  This line is logged at most once for the lifetime of the process.\n"
     ]
    },
    {
     "name": "stdout",
     "output_type": "stream",
     "text": [
      "699/699 [==============================] - ETA: 0s - loss: 7.9999 - accuracy: 0.1240\n",
      "Epoch 1: accuracy improved from -inf to 0.12397, saving model to model-02\n"
     ]
    },
    {
     "name": "stderr",
     "output_type": "stream",
     "text": [
      "WARNING:absl:Found untraced functions such as _jit_compiled_convolution_op, _jit_compiled_convolution_op, _jit_compiled_convolution_op, _jit_compiled_convolution_op, _jit_compiled_convolution_op while saving (showing 5 of 16). These functions will not be directly callable after loading.\n"
     ]
    },
    {
     "name": "stdout",
     "output_type": "stream",
     "text": [
      "INFO:tensorflow:Assets written to: model-02/assets\n"
     ]
    },
    {
     "name": "stderr",
     "output_type": "stream",
     "text": [
      "INFO:tensorflow:Assets written to: model-02/assets\n"
     ]
    },
    {
     "name": "stdout",
     "output_type": "stream",
     "text": [
      "699/699 [==============================] - 97s 130ms/step - loss: 7.9999 - accuracy: 0.1240 - lr: 0.0010\n",
      "Epoch 2/50\n",
      "699/699 [==============================] - ETA: 0s - loss: 6.5769 - accuracy: 0.4875\n",
      "Epoch 2: accuracy improved from 0.12397 to 0.48746, saving model to model-02\n"
     ]
    },
    {
     "name": "stderr",
     "output_type": "stream",
     "text": [
      "WARNING:absl:Found untraced functions such as _jit_compiled_convolution_op, _jit_compiled_convolution_op, _jit_compiled_convolution_op, _jit_compiled_convolution_op, _jit_compiled_convolution_op while saving (showing 5 of 16). These functions will not be directly callable after loading.\n"
     ]
    },
    {
     "name": "stdout",
     "output_type": "stream",
     "text": [
      "INFO:tensorflow:Assets written to: model-02/assets\n"
     ]
    },
    {
     "name": "stderr",
     "output_type": "stream",
     "text": [
      "INFO:tensorflow:Assets written to: model-02/assets\n"
     ]
    },
    {
     "name": "stdout",
     "output_type": "stream",
     "text": [
      "699/699 [==============================] - 91s 130ms/step - loss: 6.5769 - accuracy: 0.4875 - lr: 0.0010\n",
      "Epoch 3/50\n",
      "699/699 [==============================] - ETA: 0s - loss: 5.7053 - accuracy: 0.7066\n",
      "Epoch 3: accuracy improved from 0.48746 to 0.70661, saving model to model-02\n"
     ]
    },
    {
     "name": "stderr",
     "output_type": "stream",
     "text": [
      "WARNING:absl:Found untraced functions such as _jit_compiled_convolution_op, _jit_compiled_convolution_op, _jit_compiled_convolution_op, _jit_compiled_convolution_op, _jit_compiled_convolution_op while saving (showing 5 of 16). These functions will not be directly callable after loading.\n"
     ]
    },
    {
     "name": "stdout",
     "output_type": "stream",
     "text": [
      "INFO:tensorflow:Assets written to: model-02/assets\n"
     ]
    },
    {
     "name": "stderr",
     "output_type": "stream",
     "text": [
      "INFO:tensorflow:Assets written to: model-02/assets\n"
     ]
    },
    {
     "name": "stdout",
     "output_type": "stream",
     "text": [
      "699/699 [==============================] - 91s 130ms/step - loss: 5.7053 - accuracy: 0.7066 - lr: 0.0010\n",
      "Epoch 4/50\n",
      "699/699 [==============================] - ETA: 0s - loss: 5.2966 - accuracy: 0.7959\n",
      "Epoch 4: accuracy improved from 0.70661 to 0.79593, saving model to model-02\n"
     ]
    },
    {
     "name": "stderr",
     "output_type": "stream",
     "text": [
      "WARNING:absl:Found untraced functions such as _jit_compiled_convolution_op, _jit_compiled_convolution_op, _jit_compiled_convolution_op, _jit_compiled_convolution_op, _jit_compiled_convolution_op while saving (showing 5 of 16). These functions will not be directly callable after loading.\n"
     ]
    },
    {
     "name": "stdout",
     "output_type": "stream",
     "text": [
      "INFO:tensorflow:Assets written to: model-02/assets\n"
     ]
    },
    {
     "name": "stderr",
     "output_type": "stream",
     "text": [
      "INFO:tensorflow:Assets written to: model-02/assets\n"
     ]
    },
    {
     "name": "stdout",
     "output_type": "stream",
     "text": [
      "699/699 [==============================] - 91s 130ms/step - loss: 5.2966 - accuracy: 0.7959 - lr: 0.0010\n",
      "Epoch 5/50\n",
      "699/699 [==============================] - ETA: 0s - loss: 5.0429 - accuracy: 0.8336\n",
      "Epoch 5: accuracy improved from 0.79593 to 0.83363, saving model to model-02\n"
     ]
    },
    {
     "name": "stderr",
     "output_type": "stream",
     "text": [
      "WARNING:absl:Found untraced functions such as _jit_compiled_convolution_op, _jit_compiled_convolution_op, _jit_compiled_convolution_op, _jit_compiled_convolution_op, _jit_compiled_convolution_op while saving (showing 5 of 16). These functions will not be directly callable after loading.\n"
     ]
    },
    {
     "name": "stdout",
     "output_type": "stream",
     "text": [
      "INFO:tensorflow:Assets written to: model-02/assets\n"
     ]
    },
    {
     "name": "stderr",
     "output_type": "stream",
     "text": [
      "INFO:tensorflow:Assets written to: model-02/assets\n"
     ]
    },
    {
     "name": "stdout",
     "output_type": "stream",
     "text": [
      "699/699 [==============================] - 91s 130ms/step - loss: 5.0429 - accuracy: 0.8336 - lr: 0.0010\n",
      "Epoch 6/50\n",
      "699/699 [==============================] - ETA: 0s - loss: 4.8272 - accuracy: 0.8634\n",
      "Epoch 6: accuracy improved from 0.83363 to 0.86343, saving model to model-02\n"
     ]
    },
    {
     "name": "stderr",
     "output_type": "stream",
     "text": [
      "WARNING:absl:Found untraced functions such as _jit_compiled_convolution_op, _jit_compiled_convolution_op, _jit_compiled_convolution_op, _jit_compiled_convolution_op, _jit_compiled_convolution_op while saving (showing 5 of 16). These functions will not be directly callable after loading.\n"
     ]
    },
    {
     "name": "stdout",
     "output_type": "stream",
     "text": [
      "INFO:tensorflow:Assets written to: model-02/assets\n"
     ]
    },
    {
     "name": "stderr",
     "output_type": "stream",
     "text": [
      "INFO:tensorflow:Assets written to: model-02/assets\n"
     ]
    },
    {
     "name": "stdout",
     "output_type": "stream",
     "text": [
      "699/699 [==============================] - 91s 130ms/step - loss: 4.8272 - accuracy: 0.8634 - lr: 0.0010\n",
      "Epoch 7/50\n",
      "699/699 [==============================] - ETA: 0s - loss: 4.6525 - accuracy: 0.8797\n",
      "Epoch 7: accuracy improved from 0.86343 to 0.87970, saving model to model-02\n"
     ]
    },
    {
     "name": "stderr",
     "output_type": "stream",
     "text": [
      "WARNING:absl:Found untraced functions such as _jit_compiled_convolution_op, _jit_compiled_convolution_op, _jit_compiled_convolution_op, _jit_compiled_convolution_op, _jit_compiled_convolution_op while saving (showing 5 of 16). These functions will not be directly callable after loading.\n"
     ]
    },
    {
     "name": "stdout",
     "output_type": "stream",
     "text": [
      "INFO:tensorflow:Assets written to: model-02/assets\n"
     ]
    },
    {
     "name": "stderr",
     "output_type": "stream",
     "text": [
      "INFO:tensorflow:Assets written to: model-02/assets\n"
     ]
    },
    {
     "name": "stdout",
     "output_type": "stream",
     "text": [
      "699/699 [==============================] - 90s 128ms/step - loss: 4.6525 - accuracy: 0.8797 - lr: 0.0010\n",
      "Epoch 8/50\n",
      "699/699 [==============================] - ETA: 0s - loss: 4.4939 - accuracy: 0.8930\n",
      "Epoch 8: accuracy improved from 0.87970 to 0.89303, saving model to model-02\n"
     ]
    },
    {
     "name": "stderr",
     "output_type": "stream",
     "text": [
      "WARNING:absl:Found untraced functions such as _jit_compiled_convolution_op, _jit_compiled_convolution_op, _jit_compiled_convolution_op, _jit_compiled_convolution_op, _jit_compiled_convolution_op while saving (showing 5 of 16). These functions will not be directly callable after loading.\n"
     ]
    },
    {
     "name": "stdout",
     "output_type": "stream",
     "text": [
      "INFO:tensorflow:Assets written to: model-02/assets\n"
     ]
    },
    {
     "name": "stderr",
     "output_type": "stream",
     "text": [
      "INFO:tensorflow:Assets written to: model-02/assets\n"
     ]
    },
    {
     "name": "stdout",
     "output_type": "stream",
     "text": [
      "699/699 [==============================] - 89s 128ms/step - loss: 4.4939 - accuracy: 0.8930 - lr: 0.0010\n",
      "Epoch 9/50\n",
      "699/699 [==============================] - ETA: 0s - loss: 4.3463 - accuracy: 0.9027\n",
      "Epoch 9: accuracy improved from 0.89303 to 0.90274, saving model to model-02\n"
     ]
    },
    {
     "name": "stderr",
     "output_type": "stream",
     "text": [
      "WARNING:absl:Found untraced functions such as _jit_compiled_convolution_op, _jit_compiled_convolution_op, _jit_compiled_convolution_op, _jit_compiled_convolution_op, _jit_compiled_convolution_op while saving (showing 5 of 16). These functions will not be directly callable after loading.\n"
     ]
    },
    {
     "name": "stdout",
     "output_type": "stream",
     "text": [
      "INFO:tensorflow:Assets written to: model-02/assets\n"
     ]
    },
    {
     "name": "stderr",
     "output_type": "stream",
     "text": [
      "INFO:tensorflow:Assets written to: model-02/assets\n"
     ]
    },
    {
     "name": "stdout",
     "output_type": "stream",
     "text": [
      "699/699 [==============================] - 89s 128ms/step - loss: 4.3463 - accuracy: 0.9027 - lr: 0.0010\n",
      "Epoch 10/50\n",
      "699/699 [==============================] - ETA: 0s - loss: 4.2080 - accuracy: 0.9133\n",
      "Epoch 10: accuracy improved from 0.90274 to 0.91326, saving model to model-02\n"
     ]
    },
    {
     "name": "stderr",
     "output_type": "stream",
     "text": [
      "WARNING:absl:Found untraced functions such as _jit_compiled_convolution_op, _jit_compiled_convolution_op, _jit_compiled_convolution_op, _jit_compiled_convolution_op, _jit_compiled_convolution_op while saving (showing 5 of 16). These functions will not be directly callable after loading.\n"
     ]
    },
    {
     "name": "stdout",
     "output_type": "stream",
     "text": [
      "INFO:tensorflow:Assets written to: model-02/assets\n"
     ]
    },
    {
     "name": "stderr",
     "output_type": "stream",
     "text": [
      "INFO:tensorflow:Assets written to: model-02/assets\n"
     ]
    },
    {
     "name": "stdout",
     "output_type": "stream",
     "text": [
      "699/699 [==============================] - 90s 128ms/step - loss: 4.2080 - accuracy: 0.9133 - lr: 0.0010\n",
      "Epoch 11/50\n",
      "699/699 [==============================] - ETA: 0s - loss: 4.0810 - accuracy: 0.9175\n",
      "Epoch 11: accuracy improved from 0.91326 to 0.91753, saving model to model-02\n"
     ]
    },
    {
     "name": "stderr",
     "output_type": "stream",
     "text": [
      "WARNING:absl:Found untraced functions such as _jit_compiled_convolution_op, _jit_compiled_convolution_op, _jit_compiled_convolution_op, _jit_compiled_convolution_op, _jit_compiled_convolution_op while saving (showing 5 of 16). These functions will not be directly callable after loading.\n"
     ]
    },
    {
     "name": "stdout",
     "output_type": "stream",
     "text": [
      "INFO:tensorflow:Assets written to: model-02/assets\n"
     ]
    },
    {
     "name": "stderr",
     "output_type": "stream",
     "text": [
      "INFO:tensorflow:Assets written to: model-02/assets\n"
     ]
    },
    {
     "name": "stdout",
     "output_type": "stream",
     "text": [
      "699/699 [==============================] - 89s 128ms/step - loss: 4.0810 - accuracy: 0.9175 - lr: 0.0010\n",
      "Epoch 12/50\n",
      "699/699 [==============================] - ETA: 0s - loss: 3.9523 - accuracy: 0.9256\n",
      "Epoch 12: accuracy improved from 0.91753 to 0.92556, saving model to model-02\n"
     ]
    },
    {
     "name": "stderr",
     "output_type": "stream",
     "text": [
      "WARNING:absl:Found untraced functions such as _jit_compiled_convolution_op, _jit_compiled_convolution_op, _jit_compiled_convolution_op, _jit_compiled_convolution_op, _jit_compiled_convolution_op while saving (showing 5 of 16). These functions will not be directly callable after loading.\n"
     ]
    },
    {
     "name": "stdout",
     "output_type": "stream",
     "text": [
      "INFO:tensorflow:Assets written to: model-02/assets\n"
     ]
    },
    {
     "name": "stderr",
     "output_type": "stream",
     "text": [
      "INFO:tensorflow:Assets written to: model-02/assets\n"
     ]
    },
    {
     "name": "stdout",
     "output_type": "stream",
     "text": [
      "699/699 [==============================] - 89s 127ms/step - loss: 3.9523 - accuracy: 0.9256 - lr: 0.0010\n",
      "Epoch 13/50\n",
      "699/699 [==============================] - ETA: 0s - loss: 3.8344 - accuracy: 0.9306\n",
      "Epoch 13: accuracy improved from 0.92556 to 0.93060, saving model to model-02\n"
     ]
    },
    {
     "name": "stderr",
     "output_type": "stream",
     "text": [
      "WARNING:absl:Found untraced functions such as _jit_compiled_convolution_op, _jit_compiled_convolution_op, _jit_compiled_convolution_op, _jit_compiled_convolution_op, _jit_compiled_convolution_op while saving (showing 5 of 16). These functions will not be directly callable after loading.\n"
     ]
    },
    {
     "name": "stdout",
     "output_type": "stream",
     "text": [
      "INFO:tensorflow:Assets written to: model-02/assets\n"
     ]
    },
    {
     "name": "stderr",
     "output_type": "stream",
     "text": [
      "INFO:tensorflow:Assets written to: model-02/assets\n"
     ]
    },
    {
     "name": "stdout",
     "output_type": "stream",
     "text": [
      "699/699 [==============================] - 89s 128ms/step - loss: 3.8344 - accuracy: 0.9306 - lr: 0.0010\n",
      "Epoch 14/50\n",
      "699/699 [==============================] - ETA: 0s - loss: 3.7246 - accuracy: 0.9337\n",
      "Epoch 14: accuracy improved from 0.93060 to 0.93368, saving model to model-02\n"
     ]
    },
    {
     "name": "stderr",
     "output_type": "stream",
     "text": [
      "WARNING:absl:Found untraced functions such as _jit_compiled_convolution_op, _jit_compiled_convolution_op, _jit_compiled_convolution_op, _jit_compiled_convolution_op, _jit_compiled_convolution_op while saving (showing 5 of 16). These functions will not be directly callable after loading.\n"
     ]
    },
    {
     "name": "stdout",
     "output_type": "stream",
     "text": [
      "INFO:tensorflow:Assets written to: model-02/assets\n"
     ]
    },
    {
     "name": "stderr",
     "output_type": "stream",
     "text": [
      "INFO:tensorflow:Assets written to: model-02/assets\n"
     ]
    },
    {
     "name": "stdout",
     "output_type": "stream",
     "text": [
      "699/699 [==============================] - 89s 127ms/step - loss: 3.7246 - accuracy: 0.9337 - lr: 0.0010\n",
      "Epoch 15/50\n",
      "699/699 [==============================] - ETA: 0s - loss: 3.6247 - accuracy: 0.9355\n",
      "Epoch 15: accuracy improved from 0.93368 to 0.93545, saving model to model-02\n"
     ]
    },
    {
     "name": "stderr",
     "output_type": "stream",
     "text": [
      "WARNING:absl:Found untraced functions such as _jit_compiled_convolution_op, _jit_compiled_convolution_op, _jit_compiled_convolution_op, _jit_compiled_convolution_op, _jit_compiled_convolution_op while saving (showing 5 of 16). These functions will not be directly callable after loading.\n"
     ]
    },
    {
     "name": "stdout",
     "output_type": "stream",
     "text": [
      "INFO:tensorflow:Assets written to: model-02/assets\n"
     ]
    },
    {
     "name": "stderr",
     "output_type": "stream",
     "text": [
      "INFO:tensorflow:Assets written to: model-02/assets\n"
     ]
    },
    {
     "name": "stdout",
     "output_type": "stream",
     "text": [
      "699/699 [==============================] - 89s 127ms/step - loss: 3.6247 - accuracy: 0.9355 - lr: 0.0010\n",
      "Epoch 16/50\n",
      "699/699 [==============================] - ETA: 0s - loss: 3.5168 - accuracy: 0.9381\n",
      "Epoch 16: accuracy improved from 0.93545 to 0.93811, saving model to model-02\n"
     ]
    },
    {
     "name": "stderr",
     "output_type": "stream",
     "text": [
      "WARNING:absl:Found untraced functions such as _jit_compiled_convolution_op, _jit_compiled_convolution_op, _jit_compiled_convolution_op, _jit_compiled_convolution_op, _jit_compiled_convolution_op while saving (showing 5 of 16). These functions will not be directly callable after loading.\n"
     ]
    },
    {
     "name": "stdout",
     "output_type": "stream",
     "text": [
      "INFO:tensorflow:Assets written to: model-02/assets\n"
     ]
    },
    {
     "name": "stderr",
     "output_type": "stream",
     "text": [
      "INFO:tensorflow:Assets written to: model-02/assets\n"
     ]
    },
    {
     "name": "stdout",
     "output_type": "stream",
     "text": [
      "699/699 [==============================] - 88s 126ms/step - loss: 3.5168 - accuracy: 0.9381 - lr: 0.0010\n",
      "Epoch 17/50\n",
      "699/699 [==============================] - ETA: 0s - loss: 3.4137 - accuracy: 0.9429\n",
      "Epoch 17: accuracy improved from 0.93811 to 0.94288, saving model to model-02\n"
     ]
    },
    {
     "name": "stderr",
     "output_type": "stream",
     "text": [
      "WARNING:absl:Found untraced functions such as _jit_compiled_convolution_op, _jit_compiled_convolution_op, _jit_compiled_convolution_op, _jit_compiled_convolution_op, _jit_compiled_convolution_op while saving (showing 5 of 16). These functions will not be directly callable after loading.\n"
     ]
    },
    {
     "name": "stdout",
     "output_type": "stream",
     "text": [
      "INFO:tensorflow:Assets written to: model-02/assets\n"
     ]
    },
    {
     "name": "stderr",
     "output_type": "stream",
     "text": [
      "INFO:tensorflow:Assets written to: model-02/assets\n"
     ]
    },
    {
     "name": "stdout",
     "output_type": "stream",
     "text": [
      "699/699 [==============================] - 89s 127ms/step - loss: 3.4137 - accuracy: 0.9429 - lr: 0.0010\n",
      "Epoch 18/50\n",
      "699/699 [==============================] - ETA: 0s - loss: 3.3212 - accuracy: 0.9452\n",
      "Epoch 18: accuracy improved from 0.94288 to 0.94516, saving model to model-02\n"
     ]
    },
    {
     "name": "stderr",
     "output_type": "stream",
     "text": [
      "WARNING:absl:Found untraced functions such as _jit_compiled_convolution_op, _jit_compiled_convolution_op, _jit_compiled_convolution_op, _jit_compiled_convolution_op, _jit_compiled_convolution_op while saving (showing 5 of 16). These functions will not be directly callable after loading.\n"
     ]
    },
    {
     "name": "stdout",
     "output_type": "stream",
     "text": [
      "INFO:tensorflow:Assets written to: model-02/assets\n"
     ]
    },
    {
     "name": "stderr",
     "output_type": "stream",
     "text": [
      "INFO:tensorflow:Assets written to: model-02/assets\n"
     ]
    },
    {
     "name": "stdout",
     "output_type": "stream",
     "text": [
      "699/699 [==============================] - 88s 126ms/step - loss: 3.3212 - accuracy: 0.9452 - lr: 0.0010\n",
      "Epoch 19/50\n",
      "699/699 [==============================] - ETA: 0s - loss: 3.2291 - accuracy: 0.9467\n",
      "Epoch 19: accuracy improved from 0.94516 to 0.94673, saving model to model-02\n"
     ]
    },
    {
     "name": "stderr",
     "output_type": "stream",
     "text": [
      "WARNING:absl:Found untraced functions such as _jit_compiled_convolution_op, _jit_compiled_convolution_op, _jit_compiled_convolution_op, _jit_compiled_convolution_op, _jit_compiled_convolution_op while saving (showing 5 of 16). These functions will not be directly callable after loading.\n"
     ]
    },
    {
     "name": "stdout",
     "output_type": "stream",
     "text": [
      "INFO:tensorflow:Assets written to: model-02/assets\n"
     ]
    },
    {
     "name": "stderr",
     "output_type": "stream",
     "text": [
      "INFO:tensorflow:Assets written to: model-02/assets\n"
     ]
    },
    {
     "name": "stdout",
     "output_type": "stream",
     "text": [
      "699/699 [==============================] - 88s 126ms/step - loss: 3.2291 - accuracy: 0.9467 - lr: 0.0010\n",
      "Epoch 20/50\n",
      "699/699 [==============================] - ETA: 0s - loss: 3.1307 - accuracy: 0.9506\n",
      "Epoch 20: accuracy improved from 0.94673 to 0.95058, saving model to model-02\n"
     ]
    },
    {
     "name": "stderr",
     "output_type": "stream",
     "text": [
      "WARNING:absl:Found untraced functions such as _jit_compiled_convolution_op, _jit_compiled_convolution_op, _jit_compiled_convolution_op, _jit_compiled_convolution_op, _jit_compiled_convolution_op while saving (showing 5 of 16). These functions will not be directly callable after loading.\n"
     ]
    },
    {
     "name": "stdout",
     "output_type": "stream",
     "text": [
      "INFO:tensorflow:Assets written to: model-02/assets\n"
     ]
    },
    {
     "name": "stderr",
     "output_type": "stream",
     "text": [
      "INFO:tensorflow:Assets written to: model-02/assets\n"
     ]
    },
    {
     "name": "stdout",
     "output_type": "stream",
     "text": [
      "699/699 [==============================] - 88s 126ms/step - loss: 3.1307 - accuracy: 0.9506 - lr: 0.0010\n",
      "Epoch 21/50\n",
      "699/699 [==============================] - ETA: 0s - loss: 3.0512 - accuracy: 0.9505\n",
      "Epoch 21: accuracy did not improve from 0.95058\n",
      "699/699 [==============================] - 85s 122ms/step - loss: 3.0512 - accuracy: 0.9505 - lr: 0.0010\n",
      "Epoch 22/50\n",
      "699/699 [==============================] - ETA: 0s - loss: 2.9618 - accuracy: 0.9534\n",
      "Epoch 22: accuracy improved from 0.95058 to 0.95344, saving model to model-02\n"
     ]
    },
    {
     "name": "stderr",
     "output_type": "stream",
     "text": [
      "WARNING:absl:Found untraced functions such as _jit_compiled_convolution_op, _jit_compiled_convolution_op, _jit_compiled_convolution_op, _jit_compiled_convolution_op, _jit_compiled_convolution_op while saving (showing 5 of 16). These functions will not be directly callable after loading.\n"
     ]
    },
    {
     "name": "stdout",
     "output_type": "stream",
     "text": [
      "INFO:tensorflow:Assets written to: model-02/assets\n"
     ]
    },
    {
     "name": "stderr",
     "output_type": "stream",
     "text": [
      "INFO:tensorflow:Assets written to: model-02/assets\n"
     ]
    },
    {
     "name": "stdout",
     "output_type": "stream",
     "text": [
      "699/699 [==============================] - 89s 127ms/step - loss: 2.9618 - accuracy: 0.9534 - lr: 0.0010\n",
      "Epoch 23/50\n",
      "699/699 [==============================] - ETA: 0s - loss: 2.8777 - accuracy: 0.9558\n",
      "Epoch 23: accuracy improved from 0.95344 to 0.95577, saving model to model-02\n"
     ]
    },
    {
     "name": "stderr",
     "output_type": "stream",
     "text": [
      "WARNING:absl:Found untraced functions such as _jit_compiled_convolution_op, _jit_compiled_convolution_op, _jit_compiled_convolution_op, _jit_compiled_convolution_op, _jit_compiled_convolution_op while saving (showing 5 of 16). These functions will not be directly callable after loading.\n"
     ]
    },
    {
     "name": "stdout",
     "output_type": "stream",
     "text": [
      "INFO:tensorflow:Assets written to: model-02/assets\n"
     ]
    },
    {
     "name": "stderr",
     "output_type": "stream",
     "text": [
      "INFO:tensorflow:Assets written to: model-02/assets\n"
     ]
    },
    {
     "name": "stdout",
     "output_type": "stream",
     "text": [
      "699/699 [==============================] - 89s 128ms/step - loss: 2.8777 - accuracy: 0.9558 - lr: 0.0010\n",
      "Epoch 24/50\n",
      "699/699 [==============================] - ETA: 0s - loss: 2.7985 - accuracy: 0.9570\n",
      "Epoch 24: accuracy improved from 0.95577 to 0.95700, saving model to model-02\n"
     ]
    },
    {
     "name": "stderr",
     "output_type": "stream",
     "text": [
      "WARNING:absl:Found untraced functions such as _jit_compiled_convolution_op, _jit_compiled_convolution_op, _jit_compiled_convolution_op, _jit_compiled_convolution_op, _jit_compiled_convolution_op while saving (showing 5 of 16). These functions will not be directly callable after loading.\n"
     ]
    },
    {
     "name": "stdout",
     "output_type": "stream",
     "text": [
      "INFO:tensorflow:Assets written to: model-02/assets\n"
     ]
    },
    {
     "name": "stderr",
     "output_type": "stream",
     "text": [
      "INFO:tensorflow:Assets written to: model-02/assets\n"
     ]
    },
    {
     "name": "stdout",
     "output_type": "stream",
     "text": [
      "699/699 [==============================] - 89s 127ms/step - loss: 2.7985 - accuracy: 0.9570 - lr: 0.0010\n",
      "Epoch 25/50\n",
      "699/699 [==============================] - ETA: 0s - loss: 2.7247 - accuracy: 0.9579\n",
      "Epoch 25: accuracy improved from 0.95700 to 0.95791, saving model to model-02\n"
     ]
    },
    {
     "name": "stderr",
     "output_type": "stream",
     "text": [
      "WARNING:absl:Found untraced functions such as _jit_compiled_convolution_op, _jit_compiled_convolution_op, _jit_compiled_convolution_op, _jit_compiled_convolution_op, _jit_compiled_convolution_op while saving (showing 5 of 16). These functions will not be directly callable after loading.\n"
     ]
    },
    {
     "name": "stdout",
     "output_type": "stream",
     "text": [
      "INFO:tensorflow:Assets written to: model-02/assets\n"
     ]
    },
    {
     "name": "stderr",
     "output_type": "stream",
     "text": [
      "INFO:tensorflow:Assets written to: model-02/assets\n"
     ]
    },
    {
     "name": "stdout",
     "output_type": "stream",
     "text": [
      "699/699 [==============================] - 89s 127ms/step - loss: 2.7247 - accuracy: 0.9579 - lr: 0.0010\n",
      "Epoch 26/50\n",
      "699/699 [==============================] - ETA: 0s - loss: 2.6461 - accuracy: 0.9604\n",
      "Epoch 26: accuracy improved from 0.95791 to 0.96044, saving model to model-02\n"
     ]
    },
    {
     "name": "stderr",
     "output_type": "stream",
     "text": [
      "WARNING:absl:Found untraced functions such as _jit_compiled_convolution_op, _jit_compiled_convolution_op, _jit_compiled_convolution_op, _jit_compiled_convolution_op, _jit_compiled_convolution_op while saving (showing 5 of 16). These functions will not be directly callable after loading.\n"
     ]
    },
    {
     "name": "stdout",
     "output_type": "stream",
     "text": [
      "INFO:tensorflow:Assets written to: model-02/assets\n"
     ]
    },
    {
     "name": "stderr",
     "output_type": "stream",
     "text": [
      "INFO:tensorflow:Assets written to: model-02/assets\n"
     ]
    },
    {
     "name": "stdout",
     "output_type": "stream",
     "text": [
      "699/699 [==============================] - 90s 128ms/step - loss: 2.6461 - accuracy: 0.9604 - lr: 0.0010\n",
      "Epoch 27/50\n",
      "699/699 [==============================] - ETA: 0s - loss: 2.5746 - accuracy: 0.9603\n",
      "Epoch 27: accuracy did not improve from 0.96044\n",
      "699/699 [==============================] - 87s 125ms/step - loss: 2.5746 - accuracy: 0.9603 - lr: 0.0010\n",
      "Epoch 28/50\n",
      "699/699 [==============================] - ETA: 0s - loss: 2.5010 - accuracy: 0.9625\n",
      "Epoch 28: accuracy improved from 0.96044 to 0.96248, saving model to model-02\n"
     ]
    },
    {
     "name": "stderr",
     "output_type": "stream",
     "text": [
      "WARNING:absl:Found untraced functions such as _jit_compiled_convolution_op, _jit_compiled_convolution_op, _jit_compiled_convolution_op, _jit_compiled_convolution_op, _jit_compiled_convolution_op while saving (showing 5 of 16). These functions will not be directly callable after loading.\n"
     ]
    },
    {
     "name": "stdout",
     "output_type": "stream",
     "text": [
      "INFO:tensorflow:Assets written to: model-02/assets\n"
     ]
    },
    {
     "name": "stderr",
     "output_type": "stream",
     "text": [
      "INFO:tensorflow:Assets written to: model-02/assets\n"
     ]
    },
    {
     "name": "stdout",
     "output_type": "stream",
     "text": [
      "699/699 [==============================] - 91s 131ms/step - loss: 2.5010 - accuracy: 0.9625 - lr: 0.0010\n",
      "Epoch 29/50\n",
      "699/699 [==============================] - ETA: 0s - loss: 2.4352 - accuracy: 0.9627\n",
      "Epoch 29: accuracy improved from 0.96248 to 0.96270, saving model to model-02\n"
     ]
    },
    {
     "name": "stderr",
     "output_type": "stream",
     "text": [
      "WARNING:absl:Found untraced functions such as _jit_compiled_convolution_op, _jit_compiled_convolution_op, _jit_compiled_convolution_op, _jit_compiled_convolution_op, _jit_compiled_convolution_op while saving (showing 5 of 16). These functions will not be directly callable after loading.\n"
     ]
    },
    {
     "name": "stdout",
     "output_type": "stream",
     "text": [
      "INFO:tensorflow:Assets written to: model-02/assets\n"
     ]
    },
    {
     "name": "stderr",
     "output_type": "stream",
     "text": [
      "INFO:tensorflow:Assets written to: model-02/assets\n"
     ]
    },
    {
     "name": "stdout",
     "output_type": "stream",
     "text": [
      "699/699 [==============================] - 89s 128ms/step - loss: 2.4352 - accuracy: 0.9627 - lr: 0.0010\n",
      "Epoch 30/50\n",
      "699/699 [==============================] - ETA: 0s - loss: 2.3662 - accuracy: 0.9652\n",
      "Epoch 30: accuracy improved from 0.96270 to 0.96519, saving model to model-02\n"
     ]
    },
    {
     "name": "stderr",
     "output_type": "stream",
     "text": [
      "WARNING:absl:Found untraced functions such as _jit_compiled_convolution_op, _jit_compiled_convolution_op, _jit_compiled_convolution_op, _jit_compiled_convolution_op, _jit_compiled_convolution_op while saving (showing 5 of 16). These functions will not be directly callable after loading.\n"
     ]
    },
    {
     "name": "stdout",
     "output_type": "stream",
     "text": [
      "INFO:tensorflow:Assets written to: model-02/assets\n"
     ]
    },
    {
     "name": "stderr",
     "output_type": "stream",
     "text": [
      "INFO:tensorflow:Assets written to: model-02/assets\n"
     ]
    },
    {
     "name": "stdout",
     "output_type": "stream",
     "text": [
      "699/699 [==============================] - 90s 129ms/step - loss: 2.3662 - accuracy: 0.9652 - lr: 0.0010\n",
      "Epoch 31/50\n",
      "699/699 [==============================] - ETA: 0s - loss: 2.3008 - accuracy: 0.9660\n",
      "Epoch 31: accuracy improved from 0.96519 to 0.96599, saving model to model-02\n"
     ]
    },
    {
     "name": "stderr",
     "output_type": "stream",
     "text": [
      "WARNING:absl:Found untraced functions such as _jit_compiled_convolution_op, _jit_compiled_convolution_op, _jit_compiled_convolution_op, _jit_compiled_convolution_op, _jit_compiled_convolution_op while saving (showing 5 of 16). These functions will not be directly callable after loading.\n"
     ]
    },
    {
     "name": "stdout",
     "output_type": "stream",
     "text": [
      "INFO:tensorflow:Assets written to: model-02/assets\n"
     ]
    },
    {
     "name": "stderr",
     "output_type": "stream",
     "text": [
      "INFO:tensorflow:Assets written to: model-02/assets\n"
     ]
    },
    {
     "name": "stdout",
     "output_type": "stream",
     "text": [
      "699/699 [==============================] - 90s 128ms/step - loss: 2.3008 - accuracy: 0.9660 - lr: 0.0010\n",
      "Epoch 32/50\n",
      "699/699 [==============================] - ETA: 0s - loss: 2.2445 - accuracy: 0.9634\n",
      "Epoch 32: accuracy did not improve from 0.96599\n",
      "699/699 [==============================] - 84s 120ms/step - loss: 2.2445 - accuracy: 0.9634 - lr: 0.0010\n",
      "Epoch 33/50\n",
      "699/699 [==============================] - ETA: 0s - loss: 2.1800 - accuracy: 0.9659\n",
      "Epoch 33: accuracy did not improve from 0.96599\n",
      "699/699 [==============================] - 85s 122ms/step - loss: 2.1800 - accuracy: 0.9659 - lr: 0.0010\n",
      "Epoch 34/50\n",
      "699/699 [==============================] - ETA: 0s - loss: 2.1223 - accuracy: 0.9668\n",
      "Epoch 34: accuracy improved from 0.96599 to 0.96680, saving model to model-02\n"
     ]
    },
    {
     "name": "stderr",
     "output_type": "stream",
     "text": [
      "WARNING:absl:Found untraced functions such as _jit_compiled_convolution_op, _jit_compiled_convolution_op, _jit_compiled_convolution_op, _jit_compiled_convolution_op, _jit_compiled_convolution_op while saving (showing 5 of 16). These functions will not be directly callable after loading.\n"
     ]
    },
    {
     "name": "stdout",
     "output_type": "stream",
     "text": [
      "INFO:tensorflow:Assets written to: model-02/assets\n"
     ]
    },
    {
     "name": "stderr",
     "output_type": "stream",
     "text": [
      "INFO:tensorflow:Assets written to: model-02/assets\n"
     ]
    },
    {
     "name": "stdout",
     "output_type": "stream",
     "text": [
      "699/699 [==============================] - 89s 128ms/step - loss: 2.1223 - accuracy: 0.9668 - lr: 0.0010\n",
      "Epoch 35/50\n",
      "699/699 [==============================] - ETA: 0s - loss: 2.0612 - accuracy: 0.9687\n",
      "Epoch 35: accuracy improved from 0.96680 to 0.96872, saving model to model-02\n"
     ]
    },
    {
     "name": "stderr",
     "output_type": "stream",
     "text": [
      "WARNING:absl:Found untraced functions such as _jit_compiled_convolution_op, _jit_compiled_convolution_op, _jit_compiled_convolution_op, _jit_compiled_convolution_op, _jit_compiled_convolution_op while saving (showing 5 of 16). These functions will not be directly callable after loading.\n"
     ]
    },
    {
     "name": "stdout",
     "output_type": "stream",
     "text": [
      "INFO:tensorflow:Assets written to: model-02/assets\n"
     ]
    },
    {
     "name": "stderr",
     "output_type": "stream",
     "text": [
      "INFO:tensorflow:Assets written to: model-02/assets\n"
     ]
    },
    {
     "name": "stdout",
     "output_type": "stream",
     "text": [
      "699/699 [==============================] - 90s 128ms/step - loss: 2.0612 - accuracy: 0.9687 - lr: 0.0010\n",
      "Epoch 36/50\n",
      "699/699 [==============================] - ETA: 0s - loss: 2.0094 - accuracy: 0.9681\n",
      "Epoch 36: accuracy did not improve from 0.96872\n",
      "699/699 [==============================] - 84s 121ms/step - loss: 2.0094 - accuracy: 0.9681 - lr: 0.0010\n",
      "Epoch 37/50\n",
      "699/699 [==============================] - ETA: 0s - loss: 1.9524 - accuracy: 0.9689\n",
      "Epoch 37: accuracy improved from 0.96872 to 0.96890, saving model to model-02\n"
     ]
    },
    {
     "name": "stderr",
     "output_type": "stream",
     "text": [
      "WARNING:absl:Found untraced functions such as _jit_compiled_convolution_op, _jit_compiled_convolution_op, _jit_compiled_convolution_op, _jit_compiled_convolution_op, _jit_compiled_convolution_op while saving (showing 5 of 16). These functions will not be directly callable after loading.\n"
     ]
    },
    {
     "name": "stdout",
     "output_type": "stream",
     "text": [
      "INFO:tensorflow:Assets written to: model-02/assets\n"
     ]
    },
    {
     "name": "stderr",
     "output_type": "stream",
     "text": [
      "INFO:tensorflow:Assets written to: model-02/assets\n"
     ]
    },
    {
     "name": "stdout",
     "output_type": "stream",
     "text": [
      "699/699 [==============================] - 89s 127ms/step - loss: 1.9524 - accuracy: 0.9689 - lr: 0.0010\n",
      "Epoch 38/50\n",
      "699/699 [==============================] - ETA: 0s - loss: 1.9040 - accuracy: 0.9693\n",
      "Epoch 38: accuracy improved from 0.96890 to 0.96926, saving model to model-02\n"
     ]
    },
    {
     "name": "stderr",
     "output_type": "stream",
     "text": [
      "WARNING:absl:Found untraced functions such as _jit_compiled_convolution_op, _jit_compiled_convolution_op, _jit_compiled_convolution_op, _jit_compiled_convolution_op, _jit_compiled_convolution_op while saving (showing 5 of 16). These functions will not be directly callable after loading.\n"
     ]
    },
    {
     "name": "stdout",
     "output_type": "stream",
     "text": [
      "INFO:tensorflow:Assets written to: model-02/assets\n"
     ]
    },
    {
     "name": "stderr",
     "output_type": "stream",
     "text": [
      "INFO:tensorflow:Assets written to: model-02/assets\n"
     ]
    },
    {
     "name": "stdout",
     "output_type": "stream",
     "text": [
      "699/699 [==============================] - 89s 128ms/step - loss: 1.9040 - accuracy: 0.9693 - lr: 0.0010\n",
      "Epoch 39/50\n",
      "699/699 [==============================] - ETA: 0s - loss: 1.8502 - accuracy: 0.9689\n",
      "Epoch 39: accuracy did not improve from 0.96926\n",
      "699/699 [==============================] - 84s 119ms/step - loss: 1.8502 - accuracy: 0.9689 - lr: 0.0010\n",
      "Epoch 40/50\n",
      "699/699 [==============================] - ETA: 0s - loss: 1.7957 - accuracy: 0.9719\n",
      "Epoch 40: accuracy improved from 0.96926 to 0.97190, saving model to model-02\n"
     ]
    },
    {
     "name": "stderr",
     "output_type": "stream",
     "text": [
      "WARNING:absl:Found untraced functions such as _jit_compiled_convolution_op, _jit_compiled_convolution_op, _jit_compiled_convolution_op, _jit_compiled_convolution_op, _jit_compiled_convolution_op while saving (showing 5 of 16). These functions will not be directly callable after loading.\n"
     ]
    },
    {
     "name": "stdout",
     "output_type": "stream",
     "text": [
      "INFO:tensorflow:Assets written to: model-02/assets\n"
     ]
    },
    {
     "name": "stderr",
     "output_type": "stream",
     "text": [
      "INFO:tensorflow:Assets written to: model-02/assets\n"
     ]
    },
    {
     "name": "stdout",
     "output_type": "stream",
     "text": [
      "699/699 [==============================] - 89s 128ms/step - loss: 1.7957 - accuracy: 0.9719 - lr: 0.0010\n",
      "Epoch 41/50\n",
      "699/699 [==============================] - ETA: 0s - loss: 1.7459 - accuracy: 0.9732\n",
      "Epoch 41: accuracy improved from 0.97190 to 0.97322, saving model to model-02\n"
     ]
    },
    {
     "name": "stderr",
     "output_type": "stream",
     "text": [
      "WARNING:absl:Found untraced functions such as _jit_compiled_convolution_op, _jit_compiled_convolution_op, _jit_compiled_convolution_op, _jit_compiled_convolution_op, _jit_compiled_convolution_op while saving (showing 5 of 16). These functions will not be directly callable after loading.\n"
     ]
    },
    {
     "name": "stdout",
     "output_type": "stream",
     "text": [
      "INFO:tensorflow:Assets written to: model-02/assets\n"
     ]
    },
    {
     "name": "stderr",
     "output_type": "stream",
     "text": [
      "INFO:tensorflow:Assets written to: model-02/assets\n"
     ]
    },
    {
     "name": "stdout",
     "output_type": "stream",
     "text": [
      "699/699 [==============================] - 89s 127ms/step - loss: 1.7459 - accuracy: 0.9732 - lr: 0.0010\n",
      "Epoch 42/50\n",
      "699/699 [==============================] - ETA: 0s - loss: 1.7031 - accuracy: 0.9719\n",
      "Epoch 42: accuracy did not improve from 0.97322\n",
      "699/699 [==============================] - 84s 120ms/step - loss: 1.7031 - accuracy: 0.9719 - lr: 0.0010\n",
      "Epoch 43/50\n",
      "699/699 [==============================] - ETA: 0s - loss: 1.6547 - accuracy: 0.9729\n",
      "Epoch 43: accuracy did not improve from 0.97322\n",
      "699/699 [==============================] - 84s 121ms/step - loss: 1.6547 - accuracy: 0.9729 - lr: 0.0010\n",
      "Epoch 44/50\n",
      "699/699 [==============================] - ETA: 0s - loss: 1.6116 - accuracy: 0.9726\n",
      "Epoch 44: accuracy did not improve from 0.97322\n",
      "699/699 [==============================] - 85s 121ms/step - loss: 1.6116 - accuracy: 0.9726 - lr: 0.0010\n",
      "Epoch 45/50\n",
      "699/699 [==============================] - ETA: 0s - loss: 1.5672 - accuracy: 0.9743\n",
      "Epoch 45: accuracy improved from 0.97322 to 0.97429, saving model to model-02\n"
     ]
    },
    {
     "name": "stderr",
     "output_type": "stream",
     "text": [
      "WARNING:absl:Found untraced functions such as _jit_compiled_convolution_op, _jit_compiled_convolution_op, _jit_compiled_convolution_op, _jit_compiled_convolution_op, _jit_compiled_convolution_op while saving (showing 5 of 16). These functions will not be directly callable after loading.\n"
     ]
    },
    {
     "name": "stdout",
     "output_type": "stream",
     "text": [
      "INFO:tensorflow:Assets written to: model-02/assets\n"
     ]
    },
    {
     "name": "stderr",
     "output_type": "stream",
     "text": [
      "INFO:tensorflow:Assets written to: model-02/assets\n"
     ]
    },
    {
     "name": "stdout",
     "output_type": "stream",
     "text": [
      "699/699 [==============================] - 89s 127ms/step - loss: 1.5672 - accuracy: 0.9743 - lr: 0.0010\n",
      "Epoch 46/50\n",
      "699/699 [==============================] - ETA: 0s - loss: 1.5236 - accuracy: 0.9754\n",
      "Epoch 46: accuracy improved from 0.97429 to 0.97539, saving model to model-02\n"
     ]
    },
    {
     "name": "stderr",
     "output_type": "stream",
     "text": [
      "WARNING:absl:Found untraced functions such as _jit_compiled_convolution_op, _jit_compiled_convolution_op, _jit_compiled_convolution_op, _jit_compiled_convolution_op, _jit_compiled_convolution_op while saving (showing 5 of 16). These functions will not be directly callable after loading.\n"
     ]
    },
    {
     "name": "stdout",
     "output_type": "stream",
     "text": [
      "INFO:tensorflow:Assets written to: model-02/assets\n"
     ]
    },
    {
     "name": "stderr",
     "output_type": "stream",
     "text": [
      "INFO:tensorflow:Assets written to: model-02/assets\n"
     ]
    },
    {
     "name": "stdout",
     "output_type": "stream",
     "text": [
      "699/699 [==============================] - 89s 127ms/step - loss: 1.5236 - accuracy: 0.9754 - lr: 0.0010\n",
      "Epoch 47/50\n",
      "699/699 [==============================] - ETA: 0s - loss: 1.4835 - accuracy: 0.9744\n",
      "Epoch 47: accuracy did not improve from 0.97539\n",
      "699/699 [==============================] - 85s 122ms/step - loss: 1.4835 - accuracy: 0.9744 - lr: 0.0010\n",
      "Epoch 48/50\n",
      "699/699 [==============================] - ETA: 0s - loss: 1.4463 - accuracy: 0.9747\n",
      "Epoch 48: accuracy did not improve from 0.97539\n",
      "699/699 [==============================] - 85s 121ms/step - loss: 1.4463 - accuracy: 0.9747 - lr: 0.0010\n",
      "Epoch 49/50\n",
      "699/699 [==============================] - ETA: 0s - loss: 1.4040 - accuracy: 0.9766\n",
      "Epoch 49: accuracy improved from 0.97539 to 0.97657, saving model to model-02\n"
     ]
    },
    {
     "name": "stderr",
     "output_type": "stream",
     "text": [
      "WARNING:absl:Found untraced functions such as _jit_compiled_convolution_op, _jit_compiled_convolution_op, _jit_compiled_convolution_op, _jit_compiled_convolution_op, _jit_compiled_convolution_op while saving (showing 5 of 16). These functions will not be directly callable after loading.\n"
     ]
    },
    {
     "name": "stdout",
     "output_type": "stream",
     "text": [
      "INFO:tensorflow:Assets written to: model-02/assets\n"
     ]
    },
    {
     "name": "stderr",
     "output_type": "stream",
     "text": [
      "INFO:tensorflow:Assets written to: model-02/assets\n"
     ]
    },
    {
     "name": "stdout",
     "output_type": "stream",
     "text": [
      "699/699 [==============================] - 90s 128ms/step - loss: 1.4040 - accuracy: 0.9766 - lr: 0.0010\n",
      "Epoch 50/50\n",
      "699/699 [==============================] - ETA: 0s - loss: 1.3714 - accuracy: 0.9754\n",
      "Epoch 50: accuracy did not improve from 0.97657\n",
      "699/699 [==============================] - 84s 120ms/step - loss: 1.3714 - accuracy: 0.9754 - lr: 0.0010\n"
     ]
    }
   ],
   "source": [
    "## EJECUCION DEL MODELO\n",
    "# with tf.device(\"/CPU:0\"):\n",
    "# with tf.device(\"/GPU:0\"):\n",
    "model.compile(loss=\"categorical_crossentropy\", \n",
    "              optimizer= SGD(learning_rate=0.001),\n",
    "              metrics=['accuracy'])\n",
    "\n",
    "#Agregamos un callback\n",
    "from tensorflow.keras.callbacks import ModelCheckpoint\n",
    "from tensorflow.keras.callbacks import ReduceLROnPlateau\n",
    "\n",
    "checkpointer = ModelCheckpoint(filepath='model-02', verbose=1, save_best_only=True,\n",
    "                               monitor = 'accuracy', mode = 'max')\n",
    "reduce_lr = ReduceLROnPlateau(monitor='loss', factor=0.2,\n",
    "                              patience=3, min_lr=0.000001)\n",
    "\n",
    "history= model.fit(train_generator, callbacks = [reduce_lr, checkpointer], epochs=epochs)"
   ]
  },
  {
   "cell_type": "code",
   "execution_count": 13,
   "id": "7f2bdaef-cd4d-4293-a9d6-96ff42a472f9",
   "metadata": {},
   "outputs": [
    {
     "name": "stdout",
     "output_type": "stream",
     "text": [
      "234/234 [==============================] - 29s 122ms/step\n"
     ]
    }
   ],
   "source": [
    "preds_test = model.predict(test_generator)"
   ]
  },
  {
   "cell_type": "code",
   "execution_count": 14,
   "id": "49f96094-7a88-42fe-ad44-8530de26456e",
   "metadata": {},
   "outputs": [
    {
     "name": "stdout",
     "output_type": "stream",
     "text": [
      "234/234 [==============================] - 28s 120ms/step - loss: 1.3717 - accuracy: 0.9682\n"
     ]
    }
   ],
   "source": [
    "evaluate_test = model.evaluate(test_generator)"
   ]
  },
  {
   "cell_type": "code",
   "execution_count": 15,
   "id": "730f6466-b483-483e-b16c-1dde5da34648",
   "metadata": {},
   "outputs": [
    {
     "data": {
      "text/plain": [
       "[1.3717153072357178, 0.9682326912879944]"
      ]
     },
     "execution_count": 15,
     "metadata": {},
     "output_type": "execute_result"
    }
   ],
   "source": [
    "evaluate_test"
   ]
  },
  {
   "cell_type": "code",
   "execution_count": 16,
   "id": "71fc2b80-aa9e-4fa3-b8d9-25f732de5c86",
   "metadata": {},
   "outputs": [
    {
     "data": {
      "text/plain": [
       "array([18,  5, 18, ..., 23, 23, 23])"
      ]
     },
     "execution_count": 16,
     "metadata": {},
     "output_type": "execute_result"
    }
   ],
   "source": [
    "y_preds_test = np.array([np.argmax(x) for x in preds_test])\n",
    "y_preds_test"
   ]
  },
  {
   "cell_type": "code",
   "execution_count": 17,
   "id": "eb480175-6c03-4201-806c-fb8a27b96984",
   "metadata": {},
   "outputs": [
    {
     "data": {
      "text/plain": [
       "array([ 0,  0,  0, ..., 23, 23, 23], dtype=int32)"
      ]
     },
     "execution_count": 17,
     "metadata": {},
     "output_type": "execute_result"
    }
   ],
   "source": [
    "y_real_test = test_generator.classes\n",
    "y_real_test"
   ]
  },
  {
   "cell_type": "code",
   "execution_count": 18,
   "id": "95f69712-fd40-43cf-90d2-9b0a1bafca00",
   "metadata": {},
   "outputs": [
    {
     "data": {
      "text/plain": [
       "0.9676965350847798"
      ]
     },
     "execution_count": 18,
     "metadata": {},
     "output_type": "execute_result"
    }
   ],
   "source": [
    "accuracy_test = accuracy_score(y_real_test, y_preds_test)\n",
    "accuracy_test"
   ]
  },
  {
   "cell_type": "code",
   "execution_count": 19,
   "id": "4b0f6dec-7952-41d6-bc7c-e585cd11d7de",
   "metadata": {},
   "outputs": [
    {
     "data": {
      "text/plain": [
       "array([[598,   1,   3,   2,   0,   2,   0,   0,   1,   0,   0,   1,   0,\n",
       "          0,   0,   0,   2,   2,   8,   0,   0,   0,   0,   0],\n",
       "       [  1, 584,   1,   3,  10,   1,   0,   0,  13,   1,   0,   1,   0,\n",
       "          1,   1,   0,   1,   0,   0,   3,   1,   1,   0,   0],\n",
       "       [  0,   0, 624,   3,   2,   0,   0,   0,   0,   0,   0,   0,   0,\n",
       "          2,   0,   2,   0,   0,   0,   0,   0,   0,   0,   0],\n",
       "       [  0,   1,   1, 614,   0,   0,   0,   0,   2,   1,   0,   0,   0,\n",
       "          2,   0,   0,   1,   0,   0,   0,   0,   0,   0,   0],\n",
       "       [  0,   0,   1,   1, 597,   2,   0,   0,  16,   0,   0,   1,   0,\n",
       "          0,   1,   0,   1,  13,   3,   0,   0,   0,   1,   0],\n",
       "       [  0,   0,   1,   0,   2, 612,   0,   0,   2,   2,   0,   0,   1,\n",
       "          0,   0,   0,   1,   1,   0,   0,   0,   2,   0,   0],\n",
       "       [  0,   0,   0,   0,   0,   0, 610,   2,   2,   1,   0,   0,   0,\n",
       "          1,   1,   1,   1,   0,   0,   0,   0,   0,   2,   2],\n",
       "       [  0,   0,   0,   0,   0,   0,  15, 603,   0,   0,   0,   0,   0,\n",
       "          0,   0,   1,   2,   0,   0,   0,   0,   0,   0,   0],\n",
       "       [  0,   1,   0,   2,   1,   0,   0,   0, 608,   0,   0,   0,   0,\n",
       "          0,   0,   0,   1,   1,   1,   0,   2,   0,   2,   3],\n",
       "       [  0,   0,   0,   0,   0,   0,   0,   0,   0, 606,   0,   0,   0,\n",
       "          0,   0,   0,   5,   1,   0,   1,   6,   3,   0,   0],\n",
       "       [  1,   0,   0,   0,   0,   1,   0,   0,   1,   1, 609,   0,   0,\n",
       "          0,   0,   0,   1,   0,   4,   0,   0,   0,   2,   1],\n",
       "       [  0,   1,   0,   0,   0,   0,   0,   0,   2,   0,   0, 589,  25,\n",
       "          0,   0,   1,   0,   0,   1,   1,   0,   0,   1,   0],\n",
       "       [  0,   0,   0,   0,   0,   0,   0,   0,   0,   0,   0,   3, 605,\n",
       "          1,   1,   0,   0,   2,   2,   1,   0,   1,   2,   2],\n",
       "       [  0,   0,   0,   0,   1,   1,   0,   0,   0,   0,   0,   0,   2,\n",
       "        611,   1,   0,   0,   1,   0,   2,   0,   3,   1,   0],\n",
       "       [  0,   0,   0,   0,   0,   0,   4,   2,   0,   0,   0,   0,   0,\n",
       "          0, 615,   2,   1,   0,   0,   0,   0,   0,   0,   0],\n",
       "       [  0,   0,   1,   0,   0,   1,   1,   0,   0,   0,   0,   0,   1,\n",
       "          1,   1, 614,   0,   1,   0,   0,   0,   0,   0,   0],\n",
       "       [  0,   0,   0,   0,   0,   0,   1,   0,   0,   4,   0,   0,   0,\n",
       "          0,   1,   0, 597,   0,   0,   4,   4,   0,   7,   1],\n",
       "       [  0,   0,   0,   0,   2,   0,   0,   0,   2,   0,   0,   0,   0,\n",
       "          0,   2,   0,   4, 590,   4,   2,   1,   1,   6,   3],\n",
       "       [  0,   0,   0,   0,   0,   1,   0,   0,   0,   0,   1,   0,   0,\n",
       "          1,   0,   0,   0,   2, 610,   0,   0,   0,   1,   2],\n",
       "       [  0,   0,   0,   1,   0,   0,   0,   0,   0,   3,   0,   0,   0,\n",
       "          0,   0,   0,  21,   1,   1, 563,  21,   1,   5,   1],\n",
       "       [  0,   1,   0,   0,   1,   0,   0,   1,   0,  17,   0,   0,   0,\n",
       "          0,   0,   0,   7,   1,   1,   4, 576,   3,   6,   0],\n",
       "       [  0,   0,   0,   0,   0,   0,   0,   0,   1,   2,   1,   0,   0,\n",
       "          0,   0,   0,   1,   0,   0,   0,  10, 603,   0,   0],\n",
       "       [  0,   0,   0,   0,   1,   1,   0,   0,   3,   0,   1,   0,   0,\n",
       "          0,   0,   0,   3,  15,   2,   2,   1,   0, 586,   2],\n",
       "       [  0,   0,   0,   0,   0,   0,   0,   0,   1,   0,   0,   0,   0,\n",
       "          0,   0,   0,   0,   0,   3,   0,   0,   0,   0, 615]])"
      ]
     },
     "execution_count": 19,
     "metadata": {},
     "output_type": "execute_result"
    }
   ],
   "source": [
    "cm_test = confusion_matrix(y_real_test, y_preds_test)\n",
    "cm_test"
   ]
  },
  {
   "cell_type": "code",
   "execution_count": 20,
   "id": "4cb535b8-028f-477e-b03f-8783b3a13096",
   "metadata": {},
   "outputs": [
    {
     "data": {
      "image/png": "[encoded data removed]",
      "text/plain": [
       "<Figure size 800x600 with 2 Axes>"
      ]
     },
     "metadata": {},
     "output_type": "display_data"
    }
   ],
   "source": [
    "plt.figure(figsize=(8,6), dpi=100)\n",
    "# Scale up the size of all text\n",
    "sns.set(font_scale = 1.1)\n",
    "\n",
    "# Plot Confusion Matrix using Seaborn heatmap()\n",
    "# Parameters:\n",
    "# first param - confusion matrix in array format   \n",
    "# annot = True: show the numbers in each heatmap cell\n",
    "# fmt = 'd': show numbers as integers. \n",
    "ax = sns.heatmap(cm_test, annot=True, fmt='d', )\n",
    "\n",
    "# set x-axis label and ticks. \n",
    "ax.set_xlabel(\"Predicted Diagnosis\", fontsize=14, labelpad=20)\n",
    "# ax.xaxis.set_ticklabels(['Negative', 'Positive'])\n",
    "\n",
    "# set y-axis label and ticks\n",
    "ax.set_ylabel(\"Actual Diagnosis\", fontsize=14, labelpad=20)\n",
    "# ax.yaxis.set_ticklabels(['Negative', 'Positive'])\n",
    "\n",
    "# set plot title\n",
    "ax.set_title(\"Confusion Matrix for the Diabetes Detection Model\", fontsize=14, pad=20)\n",
    "\n",
    "plt.show()"
   ]
  },
  {
   "cell_type": "code",
   "execution_count": 21,
   "id": "b503eb1a-81ed-4078-b596-278249a3c722",
   "metadata": {},
   "outputs": [
    {
     "name": "stdout",
     "output_type": "stream",
     "text": [
      "233/233 [==============================] - 29s 122ms/step\n"
     ]
    }
   ],
   "source": [
    "preds_val = model.predict(valid_generator)"
   ]
  },
  {
   "cell_type": "code",
   "execution_count": 22,
   "id": "1fb77fb4-bdbf-4929-b30b-f90ab9aa55eb",
   "metadata": {},
   "outputs": [
    {
     "name": "stdout",
     "output_type": "stream",
     "text": [
      "233/233 [==============================] - 27s 117ms/step - loss: 1.3604 - accuracy: 0.9729\n"
     ]
    }
   ],
   "source": [
    "evaluate_val = model.evaluate(valid_generator)"
   ]
  },
  {
   "cell_type": "code",
   "execution_count": 23,
   "id": "d3a2be82-fc27-446d-be97-ef39329a1385",
   "metadata": {},
   "outputs": [
    {
     "data": {
      "text/plain": [
       "[1.360392689704895, 0.9728713631629944]"
      ]
     },
     "execution_count": 23,
     "metadata": {},
     "output_type": "execute_result"
    }
   ],
   "source": [
    "evaluate_val"
   ]
  },
  {
   "cell_type": "code",
   "execution_count": 24,
   "id": "d17f5e3f-c58f-4ff5-86d8-961dde74325c",
   "metadata": {},
   "outputs": [
    {
     "data": {
      "text/plain": [
       "array([ 2,  1,  0, ..., 23, 23, 23])"
      ]
     },
     "execution_count": 24,
     "metadata": {},
     "output_type": "execute_result"
    }
   ],
   "source": [
    "y_preds_val = np.array([np.argmax(x) for x in preds_val])\n",
    "y_preds_val"
   ]
  },
  {
   "cell_type": "code",
   "execution_count": 25,
   "id": "7a7cd9d7-3192-4e04-a0a1-693ca99d1037",
   "metadata": {},
   "outputs": [
    {
     "data": {
      "text/plain": [
       "array([ 0,  0,  0, ..., 23, 23, 23], dtype=int32)"
      ]
     },
     "execution_count": 25,
     "metadata": {},
     "output_type": "execute_result"
    }
   ],
   "source": [
    "y_real_val = valid_generator.classes\n",
    "y_real_val"
   ]
  },
  {
   "cell_type": "code",
   "execution_count": 26,
   "id": "67e7aded-e874-41a0-981d-4de4720b27ad",
   "metadata": {},
   "outputs": [
    {
     "data": {
      "text/plain": [
       "0.9710582863282299"
      ]
     },
     "execution_count": 26,
     "metadata": {},
     "output_type": "execute_result"
    }
   ],
   "source": [
    "accuracy_val = accuracy_score(y_real_val, y_preds_val)\n",
    "accuracy_val"
   ]
  },
  {
   "cell_type": "code",
   "execution_count": 27,
   "id": "c3459eff-7df8-47b2-986a-2beab8ac51e1",
   "metadata": {},
   "outputs": [
    {
     "data": {
      "text/plain": [
       "array([[596,   1,   1,   0,   8,   0,   0,   0,   0,   1,   0,   1,   0,\n",
       "          0,   0,   0,   0,   1,   9,   0,   0,   0,   0,   0],\n",
       "       [  0, 585,   0,   1,  14,   2,   0,   0,   9,   1,   0,   0,   0,\n",
       "          0,   0,   0,   5,   0,   0,   1,   0,   1,   1,   1],\n",
       "       [  0,   0, 629,   0,   1,   0,   0,   0,   0,   0,   0,   0,   0,\n",
       "          1,   0,   0,   0,   0,   1,   0,   0,   0,   0,   0],\n",
       "       [  0,   1,   2, 613,   1,   0,   0,   0,   2,   0,   0,   0,   0,\n",
       "          0,   0,   0,   0,   0,   1,   0,   0,   0,   0,   0],\n",
       "       [  2,   0,   0,   2, 600,   2,   0,   0,  12,   0,   0,   0,   1,\n",
       "          2,   0,   0,   1,  11,   2,   0,   0,   0,   1,   1],\n",
       "       [  0,   0,   0,   0,   1, 611,   2,   0,   3,   1,   0,   0,   0,\n",
       "          0,   0,   0,   1,   0,   0,   0,   1,   2,   0,   0],\n",
       "       [  0,   0,   0,   0,   0,   1, 614,   4,   0,   1,   0,   0,   0,\n",
       "          0,   2,   1,   0,   0,   0,   0,   0,   0,   0,   0],\n",
       "       [  0,   0,   0,   0,   0,   1,  12, 599,   2,   0,   0,   0,   1,\n",
       "          0,   0,   0,   3,   0,   0,   0,   0,   0,   0,   2],\n",
       "       [  0,   0,   1,   2,   0,   0,   1,   0, 611,   1,   0,   0,   0,\n",
       "          0,   0,   0,   1,   0,   1,   0,   0,   0,   1,   1],\n",
       "       [  0,   0,   0,   0,   0,   0,   3,   0,   0, 610,   2,   0,   0,\n",
       "          0,   0,   0,   3,   0,   0,   0,   2,   0,   0,   0],\n",
       "       [  1,   0,   1,   0,   0,   0,   0,   0,   0,   0, 607,   0,   0,\n",
       "          0,   0,   0,   0,   2,   4,   0,   0,   0,   5,   0],\n",
       "       [  0,   0,   0,   0,   0,   0,   0,   0,   2,   0,   0, 588,  22,\n",
       "          0,   0,   0,   0,   1,   0,   3,   0,   1,   2,   1],\n",
       "       [  0,   0,   0,   0,   0,   0,   0,   0,   1,   0,   0,   3, 606,\n",
       "          0,   0,   0,   0,   2,   4,   0,   0,   1,   1,   1],\n",
       "       [  0,   0,   2,   0,   0,   0,   0,   0,   1,   1,   0,   0,   0,\n",
       "        610,   0,   0,   1,   1,   2,   2,   0,   0,   2,   1],\n",
       "       [  0,   0,   0,   0,   0,   0,   1,   2,   0,   0,   0,   0,   1,\n",
       "          0, 611,   5,   1,   1,   0,   0,   0,   0,   0,   1],\n",
       "       [  0,   0,   1,   0,   0,   0,   0,   0,   0,   0,   0,   0,   1,\n",
       "          0,   1, 614,   1,   1,   0,   0,   0,   0,   0,   0],\n",
       "       [  0,   0,   0,   0,   0,   0,   0,   0,   1,   3,   0,   0,   1,\n",
       "          0,   0,   0, 599,   2,   1,   1,   5,   0,   6,   0],\n",
       "       [  1,   0,   0,   0,   1,   1,   0,   0,   1,   0,   0,   0,   0,\n",
       "          2,   0,   0,   0, 590,   2,   1,   1,   1,  10,   5],\n",
       "       [  1,   0,   0,   0,   0,   0,   0,   0,   0,   0,   0,   0,   0,\n",
       "          1,   0,   0,   0,   4, 606,   0,   0,   2,   1,   2],\n",
       "       [  0,   0,   0,   2,   0,   0,   0,   0,   0,   1,   1,   0,   0,\n",
       "          0,   0,   0,  18,   0,   0, 569,  11,   5,  10,   0],\n",
       "       [  0,   0,   0,   0,   0,   0,   0,   0,   0,   7,   0,   0,   0,\n",
       "          0,   0,   0,   4,   0,   0,   8, 589,   6,   3,   0],\n",
       "       [  0,   0,   0,   0,   0,   0,   0,   0,   3,   4,   0,   0,   0,\n",
       "          0,   0,   0,   1,   0,   0,   0,   7, 600,   1,   0],\n",
       "       [  0,   0,   0,   1,   0,   0,   0,   0,   1,   0,   1,   0,   0,\n",
       "          1,   0,   0,   3,  13,   1,   1,   2,   0, 592,   0],\n",
       "       [  0,   0,   0,   0,   0,   1,   0,   0,   0,   0,   0,   0,   0,\n",
       "          0,   0,   0,   0,   1,   2,   0,   0,   1,   0, 612]])"
      ]
     },
     "execution_count": 27,
     "metadata": {},
     "output_type": "execute_result"
    }
   ],
   "source": [
    "cm_val = confusion_matrix(y_real_val, y_preds_val)\n",
    "cm_val"
   ]
  },
  {
   "cell_type": "code",
   "execution_count": 28,
   "id": "d9806965-fb2e-4044-af24-af216719e719",
   "metadata": {},
   "outputs": [
    {
     "data": {
      "image/png": "[encoded data removed]",
      "text/plain": [
       "<Figure size 800x600 with 2 Axes>"
      ]
     },
     "metadata": {},
     "output_type": "display_data"
    }
   ],
   "source": [
    "plt.figure(figsize=(8,6), dpi=100)\n",
    "# Scale up the size of all text\n",
    "sns.set(font_scale = 1.1)\n",
    "\n",
    "# Plot Confusion Matrix using Seaborn heatmap()\n",
    "# Parameters:\n",
    "# first param - confusion matrix in array format   \n",
    "# annot = True: show the numbers in each heatmap cell\n",
    "# fmt = 'd': show numbers as integers. \n",
    "ax = sns.heatmap(cm_val, annot=True, fmt='d', )\n",
    "\n",
    "# set x-axis label and ticks. \n",
    "ax.set_xlabel(\"Predicted Diagnosis\", fontsize=14, labelpad=20)\n",
    "# ax.xaxis.set_ticklabels(['Negative', 'Positive'])\n",
    "\n",
    "# set y-axis label and ticks\n",
    "ax.set_ylabel(\"Actual Diagnosis\", fontsize=14, labelpad=20)\n",
    "# ax.yaxis.set_ticklabels(['Negative', 'Positive'])\n",
    "\n",
    "# set plot title\n",
    "ax.set_title(\"Confusion Matrix for the Diabetes Detection Model\", fontsize=14, pad=20)\n",
    "\n",
    "plt.show()"
   ]
  }
 ],
 "metadata": {
  "kernelspec": {
   "display_name": "TensorFlow 2.11 (Local)",
   "language": "python",
   "name": "local-tf2-2-11"
  },
  "language_info": {
   "codemirror_mode": {
    "name": "ipython",
    "version": 3
   },
   "file_extension": ".py",
   "mimetype": "text/x-python",
   "name": "python",
   "nbconvert_exporter": "python",
   "pygments_lexer": "ipython3",
   "version": "3.7.12"
  }
 },
 "nbformat": 4,
 "nbformat_minor": 5
}

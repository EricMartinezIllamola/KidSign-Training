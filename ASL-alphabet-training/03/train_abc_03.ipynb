{
 "cells": [
  {
   "cell_type": "code",
   "execution_count": 1,
   "id": "cabbedb0-cdf5-4873-b294-64c330b205de",
   "metadata": {
    "tags": []
   },
   "outputs": [
    {
     "name": "stderr",
     "output_type": "stream",
     "text": [
      "2023-09-16 18:07:57.274233: I tensorflow/core/platform/cpu_feature_guard.cc:193] This TensorFlow binary is optimized with oneAPI Deep Neural Network Library (oneDNN) to use the following CPU instructions in performance-critical operations:  AVX2 FMA\n",
      "To enable them in other operations, rebuild TensorFlow with the appropriate compiler flags.\n",
      "2023-09-16 18:08:00.450790: W tensorflow/compiler/xla/stream_executor/platform/default/dso_loader.cc:64] Could not load dynamic library 'libnvinfer.so.7'; dlerror: libnvinfer.so.7: cannot open shared object file: No such file or directory; LD_LIBRARY_PATH: /usr/local/cuda/lib64:/usr/local/cuda/lib:/usr/local/lib/x86_64-linux-gnu:/usr/local/nvidia/lib:/usr/local/nvidia/lib64:/usr/local/nvidia/lib:/usr/local/nvidia/lib64\n",
      "2023-09-16 18:08:00.450960: W tensorflow/compiler/xla/stream_executor/platform/default/dso_loader.cc:64] Could not load dynamic library 'libnvinfer_plugin.so.7'; dlerror: libnvinfer_plugin.so.7: cannot open shared object file: No such file or directory; LD_LIBRARY_PATH: /usr/local/cuda/lib64:/usr/local/cuda/lib:/usr/local/lib/x86_64-linux-gnu:/usr/local/nvidia/lib:/usr/local/nvidia/lib64:/usr/local/nvidia/lib:/usr/local/nvidia/lib64\n",
      "2023-09-16 18:08:00.450974: W tensorflow/compiler/tf2tensorrt/utils/py_utils.cc:38] TF-TRT Warning: Cannot dlopen some TensorRT libraries. If you would like to use Nvidia GPU with TensorRT, please make sure the missing libraries mentioned above are installed properly.\n"
     ]
    },
    {
     "name": "stdout",
     "output_type": "stream",
     "text": [
      "2.11.0\n"
     ]
    }
   ],
   "source": [
    "import tensorflow as tf\n",
    "\n",
    "print(tf.__version__)\n",
    "\n",
    "from tensorflow.keras.models                import Sequential, Model\n",
    "from tensorflow.keras.layers                import *\n",
    "from tensorflow.keras.preprocessing.image   import ImageDataGenerator\n",
    "from tensorflow.keras.utils                 import to_categorical\n",
    "from tensorflow.keras.optimizers            import SGD, RMSprop, Adam, Adagrad, Adadelta\n",
    "\n",
    "from sklearn.model_selection import train_test_split\n",
    "from sklearn.metrics import confusion_matrix, accuracy_score\n",
    "from sklearn.utils import class_weight\n",
    "\n",
    "import matplotlib.pyplot as plt\n",
    "import random\n",
    "# import cv2\n",
    "import pandas as pd\n",
    "import numpy as np\n",
    "import matplotlib.gridspec as gridspec\n",
    "import seaborn as sns\n",
    "import sklearn\n",
    "import scipy\n",
    "import skimage\n",
    "from skimage.transform import resize\n",
    "from tqdm import tqdm\n",
    "from sklearn import model_selection\n",
    "from sklearn.model_selection import train_test_split, learning_curve,KFold,cross_val_score,StratifiedKFold\n",
    "from sklearn.utils import class_weight\n",
    "from sklearn.metrics import confusion_matrix"
   ]
  },
  {
   "cell_type": "code",
   "execution_count": 2,
   "id": "591c6941-6b95-49ed-a5e4-b3b065f337e5",
   "metadata": {},
   "outputs": [],
   "source": [
    "# !git clone https://github.com/EricMartinezIllamola/asl-alphabet.git"
   ]
  },
  {
   "cell_type": "code",
   "execution_count": 3,
   "id": "b142a1a3-59e9-445c-a9c9-35d7cc5e2645",
   "metadata": {},
   "outputs": [],
   "source": [
    "# !pip install split-folders "
   ]
  },
  {
   "cell_type": "code",
   "execution_count": 4,
   "id": "e29c6dc1-7ac5-4f9c-afc5-27889eadad59",
   "metadata": {
    "tags": []
   },
   "outputs": [],
   "source": [
    "# import splitfolders\n",
    "# import os"
   ]
  },
  {
   "cell_type": "code",
   "execution_count": 5,
   "id": "5bc916a7-71b9-408a-a862-97bac0f8cd8c",
   "metadata": {
    "tags": []
   },
   "outputs": [],
   "source": [
    "# path = \"asl-alphabet/asl-alphabet\"\n",
    "\n",
    "# splitfolders.ratio(path, seed=777, output=\"Train-Validation-Test-Dataset\", ratio=(0.6, 0.2, 0.2))"
   ]
  },
  {
   "cell_type": "code",
   "execution_count": 6,
   "id": "3c62d1d8-12eb-4f83-ae0c-7ffa1f9c939b",
   "metadata": {},
   "outputs": [],
   "source": [
    "train_path = \"Train-Validation-Test-Dataset/train\"\n",
    "val_path = \"Train-Validation-Test-Dataset/val\"\n",
    "test_path = \"Train-Validation-Test-Dataset/test\""
   ]
  },
  {
   "cell_type": "code",
   "execution_count": 7,
   "id": "cdc6b023-62d9-4604-a6b7-388c23c40b87",
   "metadata": {
    "tags": []
   },
   "outputs": [
    {
     "name": "stderr",
     "output_type": "stream",
     "text": [
      "2023-09-16 18:08:04.825972: I tensorflow/compiler/xla/stream_executor/cuda/cuda_gpu_executor.cc:981] successful NUMA node read from SysFS had negative value (-1), but there must be at least one NUMA node, so returning NUMA node zero\n",
      "2023-09-16 18:08:04.840826: I tensorflow/compiler/xla/stream_executor/cuda/cuda_gpu_executor.cc:981] successful NUMA node read from SysFS had negative value (-1), but there must be at least one NUMA node, so returning NUMA node zero\n",
      "2023-09-16 18:08:04.843592: I tensorflow/compiler/xla/stream_executor/cuda/cuda_gpu_executor.cc:981] successful NUMA node read from SysFS had negative value (-1), but there must be at least one NUMA node, so returning NUMA node zero\n"
     ]
    },
    {
     "data": {
      "text/plain": [
       "[PhysicalDevice(name='/physical_device:CPU:0', device_type='CPU'),\n",
       " PhysicalDevice(name='/physical_device:GPU:0', device_type='GPU')]"
      ]
     },
     "execution_count": 7,
     "metadata": {},
     "output_type": "execute_result"
    }
   ],
   "source": [
    "tf.config.experimental.list_physical_devices()"
   ]
  },
  {
   "cell_type": "code",
   "execution_count": 8,
   "id": "e2dfe75c-2fa1-44a9-94ff-d1205720671d",
   "metadata": {
    "tags": []
   },
   "outputs": [
    {
     "data": {
      "text/plain": [
       "True"
      ]
     },
     "execution_count": 8,
     "metadata": {},
     "output_type": "execute_result"
    }
   ],
   "source": [
    "tf.test.is_built_with_cuda()"
   ]
  },
  {
   "cell_type": "code",
   "execution_count": 9,
   "id": "b9f0f604-67d3-43b5-962d-5b88fd6bb534",
   "metadata": {},
   "outputs": [
    {
     "name": "stdout",
     "output_type": "stream",
     "text": [
      "Found 44695 images belonging to 24 classes.\n",
      "Found 14892 images belonging to 24 classes.\n",
      "Found 14921 images belonging to 24 classes.\n"
     ]
    }
   ],
   "source": [
    "from tensorflow.keras.preprocessing.image   import ImageDataGenerator\n",
    "\n",
    "##Clasificamos las imagenes\n",
    "bs = 64 #bach size\n",
    "k = 2\n",
    "# Generador de imágenes de entrenamiento.\n",
    "train_datagen = ImageDataGenerator(\n",
    "        rescale=1./255,\n",
    "        shear_range=(0.3),\n",
    "        zoom_range=(0.3),\n",
    "        width_shift_range=(0.2),\n",
    "        height_shift_range=(0.2),\n",
    "        # validation_split = 0.2,\n",
    "        brightness_range=(0.05,0.85),\n",
    "        horizontal_flip=False)\n",
    "\n",
    "# Carga de imágenes al generador de entrenamiento desde directorio.\n",
    "train_generator = train_datagen.flow_from_directory(\n",
    "        train_path,\n",
    "        class_mode='categorical',\n",
    "        shuffle=True,\n",
    "        target_size=(28*k, 28*k),\n",
    "        color_mode = 'rgb', \n",
    "        # subset = 'training',\n",
    "        batch_size=bs)\n",
    "\n",
    "valid_generator = train_datagen.flow_from_directory(\n",
    "        val_path,\n",
    "        class_mode='categorical',\n",
    "        shuffle=False,\n",
    "        target_size=(28*k, 28*k),\n",
    "        color_mode = 'rgb', \n",
    "        # subset = 'validation',\n",
    "        batch_size=bs)\n",
    "\n",
    "test_generator = train_datagen.flow_from_directory(\n",
    "        test_path,\n",
    "        class_mode='categorical',\n",
    "        shuffle=False,\n",
    "        target_size=(28*k, 28*k),\n",
    "        color_mode = 'rgb', \n",
    "        # subset = 'validation',\n",
    "        batch_size=bs)"
   ]
  },
  {
   "cell_type": "code",
   "execution_count": 10,
   "id": "ce39767d-6018-413a-ac2c-8e816e2cf5e3",
   "metadata": {},
   "outputs": [
    {
     "name": "stderr",
     "output_type": "stream",
     "text": [
      "2023-09-16 18:08:11.658991: I tensorflow/core/platform/cpu_feature_guard.cc:193] This TensorFlow binary is optimized with oneAPI Deep Neural Network Library (oneDNN) to use the following CPU instructions in performance-critical operations:  AVX2 FMA\n",
      "To enable them in other operations, rebuild TensorFlow with the appropriate compiler flags.\n",
      "2023-09-16 18:08:11.660631: I tensorflow/compiler/xla/stream_executor/cuda/cuda_gpu_executor.cc:981] successful NUMA node read from SysFS had negative value (-1), but there must be at least one NUMA node, so returning NUMA node zero\n",
      "2023-09-16 18:08:11.666513: I tensorflow/compiler/xla/stream_executor/cuda/cuda_gpu_executor.cc:981] successful NUMA node read from SysFS had negative value (-1), but there must be at least one NUMA node, so returning NUMA node zero\n",
      "2023-09-16 18:08:11.671799: I tensorflow/compiler/xla/stream_executor/cuda/cuda_gpu_executor.cc:981] successful NUMA node read from SysFS had negative value (-1), but there must be at least one NUMA node, so returning NUMA node zero\n",
      "2023-09-16 18:08:12.517274: I tensorflow/compiler/xla/stream_executor/cuda/cuda_gpu_executor.cc:981] successful NUMA node read from SysFS had negative value (-1), but there must be at least one NUMA node, so returning NUMA node zero\n",
      "2023-09-16 18:08:12.518879: I tensorflow/compiler/xla/stream_executor/cuda/cuda_gpu_executor.cc:981] successful NUMA node read from SysFS had negative value (-1), but there must be at least one NUMA node, so returning NUMA node zero\n",
      "2023-09-16 18:08:12.520130: I tensorflow/compiler/xla/stream_executor/cuda/cuda_gpu_executor.cc:981] successful NUMA node read from SysFS had negative value (-1), but there must be at least one NUMA node, so returning NUMA node zero\n",
      "2023-09-16 18:08:12.521325: I tensorflow/core/common_runtime/gpu/gpu_device.cc:1613] Created device /job:localhost/replica:0/task:0/device:GPU:0 with 13582 MB memory:  -> device: 0, name: Tesla T4, pci bus id: 0000:00:04.0, compute capability: 7.5\n"
     ]
    },
    {
     "name": "stdout",
     "output_type": "stream",
     "text": [
      "Model: \"vgg19\"\n",
      "_________________________________________________________________\n",
      " Layer (type)                Output Shape              Param #   \n",
      "=================================================================\n",
      " input_1 (InputLayer)        [(None, 224, 224, 3)]     0         \n",
      "                                                                 \n",
      " block1_conv1 (Conv2D)       (None, 224, 224, 64)      1792      \n",
      "                                                                 \n",
      " block1_conv2 (Conv2D)       (None, 224, 224, 64)      36928     \n",
      "                                                                 \n",
      " block1_pool (MaxPooling2D)  (None, 112, 112, 64)      0         \n",
      "                                                                 \n",
      " block2_conv1 (Conv2D)       (None, 112, 112, 128)     73856     \n",
      "                                                                 \n",
      " block2_conv2 (Conv2D)       (None, 112, 112, 128)     147584    \n",
      "                                                                 \n",
      " block2_pool (MaxPooling2D)  (None, 56, 56, 128)       0         \n",
      "                                                                 \n",
      " block3_conv1 (Conv2D)       (None, 56, 56, 256)       295168    \n",
      "                                                                 \n",
      " block3_conv2 (Conv2D)       (None, 56, 56, 256)       590080    \n",
      "                                                                 \n",
      " block3_conv3 (Conv2D)       (None, 56, 56, 256)       590080    \n",
      "                                                                 \n",
      " block3_conv4 (Conv2D)       (None, 56, 56, 256)       590080    \n",
      "                                                                 \n",
      " block3_pool (MaxPooling2D)  (None, 28, 28, 256)       0         \n",
      "                                                                 \n",
      " block4_conv1 (Conv2D)       (None, 28, 28, 512)       1180160   \n",
      "                                                                 \n",
      " block4_conv2 (Conv2D)       (None, 28, 28, 512)       2359808   \n",
      "                                                                 \n",
      " block4_conv3 (Conv2D)       (None, 28, 28, 512)       2359808   \n",
      "                                                                 \n",
      " block4_conv4 (Conv2D)       (None, 28, 28, 512)       2359808   \n",
      "                                                                 \n",
      " block4_pool (MaxPooling2D)  (None, 14, 14, 512)       0         \n",
      "                                                                 \n",
      " block5_conv1 (Conv2D)       (None, 14, 14, 512)       2359808   \n",
      "                                                                 \n",
      " block5_conv2 (Conv2D)       (None, 14, 14, 512)       2359808   \n",
      "                                                                 \n",
      " block5_conv3 (Conv2D)       (None, 14, 14, 512)       2359808   \n",
      "                                                                 \n",
      " block5_conv4 (Conv2D)       (None, 14, 14, 512)       2359808   \n",
      "                                                                 \n",
      " block5_pool (MaxPooling2D)  (None, 7, 7, 512)         0         \n",
      "                                                                 \n",
      " flatten (Flatten)           (None, 25088)             0         \n",
      "                                                                 \n",
      " fc1 (Dense)                 (None, 4096)              102764544 \n",
      "                                                                 \n",
      " fc2 (Dense)                 (None, 4096)              16781312  \n",
      "                                                                 \n",
      " predictions (Dense)         (None, 1000)              4097000   \n",
      "                                                                 \n",
      "=================================================================\n",
      "Total params: 143,667,240\n",
      "Trainable params: 143,667,240\n",
      "Non-trainable params: 0\n",
      "_________________________________________________________________\n",
      "26\n"
     ]
    }
   ],
   "source": [
    "#Visualizamos la estructura del modelo que vamos a utilizar\n",
    "model = tf.keras.applications.VGG19()\n",
    "model.summary()\n",
    "print(len(model.layers))"
   ]
  },
  {
   "cell_type": "code",
   "execution_count": 11,
   "id": "b0e0e374-6bf0-455d-92ee-83982a54eae7",
   "metadata": {},
   "outputs": [
    {
     "name": "stdout",
     "output_type": "stream",
     "text": [
      "22\n"
     ]
    }
   ],
   "source": [
    "##DEFINIMOS EL MODELO\n",
    "num_classes = 24\n",
    "epochs = 125\n",
    "\n",
    "# VGG19\n",
    "# Importamos el modelo que queremos utilizar con los argumentos que queremos\n",
    "VGG19_model = tf.keras.applications.VGG19(input_shape=(28*k,28*k,3),\n",
    "                                          include_top=False,\n",
    "                                          weights='imagenet')\n",
    "\n",
    "print(len(VGG19_model.layers))\n",
    "#Congelamos  las 6 primeras caps del modelo para proceder a entrenar las demás\n",
    "for layer in VGG19_model.layers[:6]:\n",
    "  layer.trainable = False\n",
    "\n",
    "# Creamos un nuevo modelo vacio.\n",
    "model = tf.keras.Sequential()\n",
    "\n",
    "# Añadimos el modelo preentrenado como si se tratase de una capa.\n",
    "model.add(VGG19_model)\n",
    "\n",
    "# Continuamos añadiendo más capas que sí serán entrenadas...\n",
    "from tensorflow.keras import regularizers\n",
    "model.add(Flatten())\n",
    "model.add(Dense(512, kernel_regularizer=regularizers.l2(0.01), activation = 'relu'))\n",
    "model.add(Dropout(0.25))\n",
    "model.add(Dense(num_classes, activation = 'softmax'))"
   ]
  },
  {
   "cell_type": "code",
   "execution_count": 12,
   "id": "98f08be8-a077-4ef3-92ab-b3604ff40655",
   "metadata": {},
   "outputs": [
    {
     "name": "stdout",
     "output_type": "stream",
     "text": [
      "Epoch 1/125\n"
     ]
    },
    {
     "name": "stderr",
     "output_type": "stream",
     "text": [
      "2023-09-16 18:08:17.755838: I tensorflow/compiler/xla/stream_executor/cuda/cuda_dnn.cc:428] Loaded cuDNN version 8200\n",
      "2023-09-16 18:08:20.199763: I tensorflow/compiler/xla/service/service.cc:173] XLA service 0x55cb3bb3a030 initialized for platform CUDA (this does not guarantee that XLA will be used). Devices:\n",
      "2023-09-16 18:08:20.199814: I tensorflow/compiler/xla/service/service.cc:181]   StreamExecutor device (0): Tesla T4, Compute Capability 7.5\n",
      "2023-09-16 18:08:20.282173: I tensorflow/compiler/jit/xla_compilation_cache.cc:477] Compiled cluster using XLA!  This line is logged at most once for the lifetime of the process.\n"
     ]
    },
    {
     "name": "stdout",
     "output_type": "stream",
     "text": [
      "699/699 [==============================] - ETA: 0s - loss: 7.8366 - accuracy: 0.1751\n",
      "Epoch 1: accuracy improved from -inf to 0.17514, saving model to model-03\n"
     ]
    },
    {
     "name": "stderr",
     "output_type": "stream",
     "text": [
      "WARNING:absl:Found untraced functions such as _jit_compiled_convolution_op, _jit_compiled_convolution_op, _jit_compiled_convolution_op, _jit_compiled_convolution_op, _jit_compiled_convolution_op while saving (showing 5 of 16). These functions will not be directly callable after loading.\n"
     ]
    },
    {
     "name": "stdout",
     "output_type": "stream",
     "text": [
      "INFO:tensorflow:Assets written to: model-03/assets\n"
     ]
    },
    {
     "name": "stderr",
     "output_type": "stream",
     "text": [
      "INFO:tensorflow:Assets written to: model-03/assets\n"
     ]
    },
    {
     "name": "stdout",
     "output_type": "stream",
     "text": [
      "699/699 [==============================] - 97s 130ms/step - loss: 7.8366 - accuracy: 0.1751 - lr: 0.0010\n",
      "Epoch 2/125\n",
      "699/699 [==============================] - ETA: 0s - loss: 6.2728 - accuracy: 0.5768\n",
      "Epoch 2: accuracy improved from 0.17514 to 0.57682, saving model to model-03\n"
     ]
    },
    {
     "name": "stderr",
     "output_type": "stream",
     "text": [
      "WARNING:absl:Found untraced functions such as _jit_compiled_convolution_op, _jit_compiled_convolution_op, _jit_compiled_convolution_op, _jit_compiled_convolution_op, _jit_compiled_convolution_op while saving (showing 5 of 16). These functions will not be directly callable after loading.\n"
     ]
    },
    {
     "name": "stdout",
     "output_type": "stream",
     "text": [
      "INFO:tensorflow:Assets written to: model-03/assets\n"
     ]
    },
    {
     "name": "stderr",
     "output_type": "stream",
     "text": [
      "INFO:tensorflow:Assets written to: model-03/assets\n"
     ]
    },
    {
     "name": "stdout",
     "output_type": "stream",
     "text": [
      "699/699 [==============================] - 90s 128ms/step - loss: 6.2728 - accuracy: 0.5768 - lr: 0.0010\n",
      "Epoch 3/125\n",
      "699/699 [==============================] - ETA: 0s - loss: 5.5779 - accuracy: 0.7491\n",
      "Epoch 3: accuracy improved from 0.57682 to 0.74914, saving model to model-03\n"
     ]
    },
    {
     "name": "stderr",
     "output_type": "stream",
     "text": [
      "WARNING:absl:Found untraced functions such as _jit_compiled_convolution_op, _jit_compiled_convolution_op, _jit_compiled_convolution_op, _jit_compiled_convolution_op, _jit_compiled_convolution_op while saving (showing 5 of 16). These functions will not be directly callable after loading.\n"
     ]
    },
    {
     "name": "stdout",
     "output_type": "stream",
     "text": [
      "INFO:tensorflow:Assets written to: model-03/assets\n"
     ]
    },
    {
     "name": "stderr",
     "output_type": "stream",
     "text": [
      "INFO:tensorflow:Assets written to: model-03/assets\n"
     ]
    },
    {
     "name": "stdout",
     "output_type": "stream",
     "text": [
      "699/699 [==============================] - 90s 128ms/step - loss: 5.5779 - accuracy: 0.7491 - lr: 0.0010\n",
      "Epoch 4/125\n",
      "699/699 [==============================] - ETA: 0s - loss: 5.2438 - accuracy: 0.8105\n",
      "Epoch 4: accuracy improved from 0.74914 to 0.81054, saving model to model-03\n"
     ]
    },
    {
     "name": "stderr",
     "output_type": "stream",
     "text": [
      "WARNING:absl:Found untraced functions such as _jit_compiled_convolution_op, _jit_compiled_convolution_op, _jit_compiled_convolution_op, _jit_compiled_convolution_op, _jit_compiled_convolution_op while saving (showing 5 of 16). These functions will not be directly callable after loading.\n"
     ]
    },
    {
     "name": "stdout",
     "output_type": "stream",
     "text": [
      "INFO:tensorflow:Assets written to: model-03/assets\n"
     ]
    },
    {
     "name": "stderr",
     "output_type": "stream",
     "text": [
      "INFO:tensorflow:Assets written to: model-03/assets\n"
     ]
    },
    {
     "name": "stdout",
     "output_type": "stream",
     "text": [
      "699/699 [==============================] - 91s 130ms/step - loss: 5.2438 - accuracy: 0.8105 - lr: 0.0010\n",
      "Epoch 5/125\n",
      "699/699 [==============================] - ETA: 0s - loss: 4.9957 - accuracy: 0.8493\n",
      "Epoch 5: accuracy improved from 0.81054 to 0.84931, saving model to model-03\n"
     ]
    },
    {
     "name": "stderr",
     "output_type": "stream",
     "text": [
      "WARNING:absl:Found untraced functions such as _jit_compiled_convolution_op, _jit_compiled_convolution_op, _jit_compiled_convolution_op, _jit_compiled_convolution_op, _jit_compiled_convolution_op while saving (showing 5 of 16). These functions will not be directly callable after loading.\n"
     ]
    },
    {
     "name": "stdout",
     "output_type": "stream",
     "text": [
      "INFO:tensorflow:Assets written to: model-03/assets\n"
     ]
    },
    {
     "name": "stderr",
     "output_type": "stream",
     "text": [
      "INFO:tensorflow:Assets written to: model-03/assets\n"
     ]
    },
    {
     "name": "stdout",
     "output_type": "stream",
     "text": [
      "699/699 [==============================] - 90s 128ms/step - loss: 4.9957 - accuracy: 0.8493 - lr: 0.0010\n",
      "Epoch 6/125\n",
      "699/699 [==============================] - ETA: 0s - loss: 4.7959 - accuracy: 0.8718\n",
      "Epoch 6: accuracy improved from 0.84931 to 0.87180, saving model to model-03\n"
     ]
    },
    {
     "name": "stderr",
     "output_type": "stream",
     "text": [
      "WARNING:absl:Found untraced functions such as _jit_compiled_convolution_op, _jit_compiled_convolution_op, _jit_compiled_convolution_op, _jit_compiled_convolution_op, _jit_compiled_convolution_op while saving (showing 5 of 16). These functions will not be directly callable after loading.\n"
     ]
    },
    {
     "name": "stdout",
     "output_type": "stream",
     "text": [
      "INFO:tensorflow:Assets written to: model-03/assets\n"
     ]
    },
    {
     "name": "stderr",
     "output_type": "stream",
     "text": [
      "INFO:tensorflow:Assets written to: model-03/assets\n"
     ]
    },
    {
     "name": "stdout",
     "output_type": "stream",
     "text": [
      "699/699 [==============================] - 90s 129ms/step - loss: 4.7959 - accuracy: 0.8718 - lr: 0.0010\n",
      "Epoch 7/125\n",
      "699/699 [==============================] - ETA: 0s - loss: 4.6279 - accuracy: 0.8858\n",
      "Epoch 7: accuracy improved from 0.87180 to 0.88578, saving model to model-03\n"
     ]
    },
    {
     "name": "stderr",
     "output_type": "stream",
     "text": [
      "WARNING:absl:Found untraced functions such as _jit_compiled_convolution_op, _jit_compiled_convolution_op, _jit_compiled_convolution_op, _jit_compiled_convolution_op, _jit_compiled_convolution_op while saving (showing 5 of 16). These functions will not be directly callable after loading.\n"
     ]
    },
    {
     "name": "stdout",
     "output_type": "stream",
     "text": [
      "INFO:tensorflow:Assets written to: model-03/assets\n"
     ]
    },
    {
     "name": "stderr",
     "output_type": "stream",
     "text": [
      "INFO:tensorflow:Assets written to: model-03/assets\n"
     ]
    },
    {
     "name": "stdout",
     "output_type": "stream",
     "text": [
      "699/699 [==============================] - 91s 129ms/step - loss: 4.6279 - accuracy: 0.8858 - lr: 0.0010\n",
      "Epoch 8/125\n",
      "699/699 [==============================] - ETA: 0s - loss: 4.4720 - accuracy: 0.8986\n",
      "Epoch 8: accuracy improved from 0.88578 to 0.89862, saving model to model-03\n"
     ]
    },
    {
     "name": "stderr",
     "output_type": "stream",
     "text": [
      "WARNING:absl:Found untraced functions such as _jit_compiled_convolution_op, _jit_compiled_convolution_op, _jit_compiled_convolution_op, _jit_compiled_convolution_op, _jit_compiled_convolution_op while saving (showing 5 of 16). These functions will not be directly callable after loading.\n"
     ]
    },
    {
     "name": "stdout",
     "output_type": "stream",
     "text": [
      "INFO:tensorflow:Assets written to: model-03/assets\n"
     ]
    },
    {
     "name": "stderr",
     "output_type": "stream",
     "text": [
      "INFO:tensorflow:Assets written to: model-03/assets\n"
     ]
    },
    {
     "name": "stdout",
     "output_type": "stream",
     "text": [
      "699/699 [==============================] - 89s 128ms/step - loss: 4.4720 - accuracy: 0.8986 - lr: 0.0010\n",
      "Epoch 9/125\n",
      "699/699 [==============================] - ETA: 0s - loss: 4.3350 - accuracy: 0.9070\n",
      "Epoch 9: accuracy improved from 0.89862 to 0.90701, saving model to model-03\n"
     ]
    },
    {
     "name": "stderr",
     "output_type": "stream",
     "text": [
      "WARNING:absl:Found untraced functions such as _jit_compiled_convolution_op, _jit_compiled_convolution_op, _jit_compiled_convolution_op, _jit_compiled_convolution_op, _jit_compiled_convolution_op while saving (showing 5 of 16). These functions will not be directly callable after loading.\n"
     ]
    },
    {
     "name": "stdout",
     "output_type": "stream",
     "text": [
      "INFO:tensorflow:Assets written to: model-03/assets\n"
     ]
    },
    {
     "name": "stderr",
     "output_type": "stream",
     "text": [
      "INFO:tensorflow:Assets written to: model-03/assets\n"
     ]
    },
    {
     "name": "stdout",
     "output_type": "stream",
     "text": [
      "699/699 [==============================] - 89s 127ms/step - loss: 4.3350 - accuracy: 0.9070 - lr: 0.0010\n",
      "Epoch 10/125\n",
      "699/699 [==============================] - ETA: 0s - loss: 4.2013 - accuracy: 0.9147\n",
      "Epoch 10: accuracy improved from 0.90701 to 0.91469, saving model to model-03\n"
     ]
    },
    {
     "name": "stderr",
     "output_type": "stream",
     "text": [
      "WARNING:absl:Found untraced functions such as _jit_compiled_convolution_op, _jit_compiled_convolution_op, _jit_compiled_convolution_op, _jit_compiled_convolution_op, _jit_compiled_convolution_op while saving (showing 5 of 16). These functions will not be directly callable after loading.\n"
     ]
    },
    {
     "name": "stdout",
     "output_type": "stream",
     "text": [
      "INFO:tensorflow:Assets written to: model-03/assets\n"
     ]
    },
    {
     "name": "stderr",
     "output_type": "stream",
     "text": [
      "INFO:tensorflow:Assets written to: model-03/assets\n"
     ]
    },
    {
     "name": "stdout",
     "output_type": "stream",
     "text": [
      "699/699 [==============================] - 90s 129ms/step - loss: 4.2013 - accuracy: 0.9147 - lr: 0.0010\n",
      "Epoch 11/125\n",
      "699/699 [==============================] - ETA: 0s - loss: 4.0690 - accuracy: 0.9219\n",
      "Epoch 11: accuracy improved from 0.91469 to 0.92194, saving model to model-03\n"
     ]
    },
    {
     "name": "stderr",
     "output_type": "stream",
     "text": [
      "WARNING:absl:Found untraced functions such as _jit_compiled_convolution_op, _jit_compiled_convolution_op, _jit_compiled_convolution_op, _jit_compiled_convolution_op, _jit_compiled_convolution_op while saving (showing 5 of 16). These functions will not be directly callable after loading.\n"
     ]
    },
    {
     "name": "stdout",
     "output_type": "stream",
     "text": [
      "INFO:tensorflow:Assets written to: model-03/assets\n"
     ]
    },
    {
     "name": "stderr",
     "output_type": "stream",
     "text": [
      "INFO:tensorflow:Assets written to: model-03/assets\n"
     ]
    },
    {
     "name": "stdout",
     "output_type": "stream",
     "text": [
      "699/699 [==============================] - 89s 127ms/step - loss: 4.0690 - accuracy: 0.9219 - lr: 0.0010\n",
      "Epoch 12/125\n",
      "699/699 [==============================] - ETA: 0s - loss: 3.9511 - accuracy: 0.9249\n",
      "Epoch 12: accuracy improved from 0.92194 to 0.92491, saving model to model-03\n"
     ]
    },
    {
     "name": "stderr",
     "output_type": "stream",
     "text": [
      "WARNING:absl:Found untraced functions such as _jit_compiled_convolution_op, _jit_compiled_convolution_op, _jit_compiled_convolution_op, _jit_compiled_convolution_op, _jit_compiled_convolution_op while saving (showing 5 of 16). These functions will not be directly callable after loading.\n"
     ]
    },
    {
     "name": "stdout",
     "output_type": "stream",
     "text": [
      "INFO:tensorflow:Assets written to: model-03/assets\n"
     ]
    },
    {
     "name": "stderr",
     "output_type": "stream",
     "text": [
      "INFO:tensorflow:Assets written to: model-03/assets\n"
     ]
    },
    {
     "name": "stdout",
     "output_type": "stream",
     "text": [
      "699/699 [==============================] - 89s 128ms/step - loss: 3.9511 - accuracy: 0.9249 - lr: 0.0010\n",
      "Epoch 13/125\n",
      "699/699 [==============================] - ETA: 0s - loss: 3.8379 - accuracy: 0.9300\n",
      "Epoch 13: accuracy improved from 0.92491 to 0.93004, saving model to model-03\n"
     ]
    },
    {
     "name": "stderr",
     "output_type": "stream",
     "text": [
      "WARNING:absl:Found untraced functions such as _jit_compiled_convolution_op, _jit_compiled_convolution_op, _jit_compiled_convolution_op, _jit_compiled_convolution_op, _jit_compiled_convolution_op while saving (showing 5 of 16). These functions will not be directly callable after loading.\n"
     ]
    },
    {
     "name": "stdout",
     "output_type": "stream",
     "text": [
      "INFO:tensorflow:Assets written to: model-03/assets\n"
     ]
    },
    {
     "name": "stderr",
     "output_type": "stream",
     "text": [
      "INFO:tensorflow:Assets written to: model-03/assets\n"
     ]
    },
    {
     "name": "stdout",
     "output_type": "stream",
     "text": [
      "699/699 [==============================] - 90s 128ms/step - loss: 3.8379 - accuracy: 0.9300 - lr: 0.0010\n",
      "Epoch 14/125\n",
      "699/699 [==============================] - ETA: 0s - loss: 3.7214 - accuracy: 0.9352\n",
      "Epoch 14: accuracy improved from 0.93004 to 0.93516, saving model to model-03\n"
     ]
    },
    {
     "name": "stderr",
     "output_type": "stream",
     "text": [
      "WARNING:absl:Found untraced functions such as _jit_compiled_convolution_op, _jit_compiled_convolution_op, _jit_compiled_convolution_op, _jit_compiled_convolution_op, _jit_compiled_convolution_op while saving (showing 5 of 16). These functions will not be directly callable after loading.\n"
     ]
    },
    {
     "name": "stdout",
     "output_type": "stream",
     "text": [
      "INFO:tensorflow:Assets written to: model-03/assets\n"
     ]
    },
    {
     "name": "stderr",
     "output_type": "stream",
     "text": [
      "INFO:tensorflow:Assets written to: model-03/assets\n"
     ]
    },
    {
     "name": "stdout",
     "output_type": "stream",
     "text": [
      "699/699 [==============================] - 88s 126ms/step - loss: 3.7214 - accuracy: 0.9352 - lr: 0.0010\n",
      "Epoch 15/125\n",
      "699/699 [==============================] - ETA: 0s - loss: 3.6152 - accuracy: 0.9385\n",
      "Epoch 15: accuracy improved from 0.93516 to 0.93849, saving model to model-03\n"
     ]
    },
    {
     "name": "stderr",
     "output_type": "stream",
     "text": [
      "WARNING:absl:Found untraced functions such as _jit_compiled_convolution_op, _jit_compiled_convolution_op, _jit_compiled_convolution_op, _jit_compiled_convolution_op, _jit_compiled_convolution_op while saving (showing 5 of 16). These functions will not be directly callable after loading.\n"
     ]
    },
    {
     "name": "stdout",
     "output_type": "stream",
     "text": [
      "INFO:tensorflow:Assets written to: model-03/assets\n"
     ]
    },
    {
     "name": "stderr",
     "output_type": "stream",
     "text": [
      "INFO:tensorflow:Assets written to: model-03/assets\n"
     ]
    },
    {
     "name": "stdout",
     "output_type": "stream",
     "text": [
      "699/699 [==============================] - 89s 128ms/step - loss: 3.6152 - accuracy: 0.9385 - lr: 0.0010\n",
      "Epoch 16/125\n",
      "699/699 [==============================] - ETA: 0s - loss: 3.5092 - accuracy: 0.9429\n",
      "Epoch 16: accuracy improved from 0.93849 to 0.94286, saving model to model-03\n"
     ]
    },
    {
     "name": "stderr",
     "output_type": "stream",
     "text": [
      "WARNING:absl:Found untraced functions such as _jit_compiled_convolution_op, _jit_compiled_convolution_op, _jit_compiled_convolution_op, _jit_compiled_convolution_op, _jit_compiled_convolution_op while saving (showing 5 of 16). These functions will not be directly callable after loading.\n"
     ]
    },
    {
     "name": "stdout",
     "output_type": "stream",
     "text": [
      "INFO:tensorflow:Assets written to: model-03/assets\n"
     ]
    },
    {
     "name": "stderr",
     "output_type": "stream",
     "text": [
      "INFO:tensorflow:Assets written to: model-03/assets\n"
     ]
    },
    {
     "name": "stdout",
     "output_type": "stream",
     "text": [
      "699/699 [==============================] - 89s 127ms/step - loss: 3.5092 - accuracy: 0.9429 - lr: 0.0010\n",
      "Epoch 17/125\n",
      "699/699 [==============================] - ETA: 0s - loss: 3.4123 - accuracy: 0.9440\n",
      "Epoch 17: accuracy improved from 0.94286 to 0.94402, saving model to model-03\n"
     ]
    },
    {
     "name": "stderr",
     "output_type": "stream",
     "text": [
      "WARNING:absl:Found untraced functions such as _jit_compiled_convolution_op, _jit_compiled_convolution_op, _jit_compiled_convolution_op, _jit_compiled_convolution_op, _jit_compiled_convolution_op while saving (showing 5 of 16). These functions will not be directly callable after loading.\n"
     ]
    },
    {
     "name": "stdout",
     "output_type": "stream",
     "text": [
      "INFO:tensorflow:Assets written to: model-03/assets\n"
     ]
    },
    {
     "name": "stderr",
     "output_type": "stream",
     "text": [
      "INFO:tensorflow:Assets written to: model-03/assets\n"
     ]
    },
    {
     "name": "stdout",
     "output_type": "stream",
     "text": [
      "699/699 [==============================] - 89s 127ms/step - loss: 3.4123 - accuracy: 0.9440 - lr: 0.0010\n",
      "Epoch 18/125\n",
      "699/699 [==============================] - ETA: 0s - loss: 3.3135 - accuracy: 0.9485\n",
      "Epoch 18: accuracy improved from 0.94402 to 0.94852, saving model to model-03\n"
     ]
    },
    {
     "name": "stderr",
     "output_type": "stream",
     "text": [
      "WARNING:absl:Found untraced functions such as _jit_compiled_convolution_op, _jit_compiled_convolution_op, _jit_compiled_convolution_op, _jit_compiled_convolution_op, _jit_compiled_convolution_op while saving (showing 5 of 16). These functions will not be directly callable after loading.\n"
     ]
    },
    {
     "name": "stdout",
     "output_type": "stream",
     "text": [
      "INFO:tensorflow:Assets written to: model-03/assets\n"
     ]
    },
    {
     "name": "stderr",
     "output_type": "stream",
     "text": [
      "INFO:tensorflow:Assets written to: model-03/assets\n"
     ]
    },
    {
     "name": "stdout",
     "output_type": "stream",
     "text": [
      "699/699 [==============================] - 90s 128ms/step - loss: 3.3135 - accuracy: 0.9485 - lr: 0.0010\n",
      "Epoch 19/125\n",
      "699/699 [==============================] - ETA: 0s - loss: 3.2205 - accuracy: 0.9496\n",
      "Epoch 19: accuracy improved from 0.94852 to 0.94964, saving model to model-03\n"
     ]
    },
    {
     "name": "stderr",
     "output_type": "stream",
     "text": [
      "WARNING:absl:Found untraced functions such as _jit_compiled_convolution_op, _jit_compiled_convolution_op, _jit_compiled_convolution_op, _jit_compiled_convolution_op, _jit_compiled_convolution_op while saving (showing 5 of 16). These functions will not be directly callable after loading.\n"
     ]
    },
    {
     "name": "stdout",
     "output_type": "stream",
     "text": [
      "INFO:tensorflow:Assets written to: model-03/assets\n"
     ]
    },
    {
     "name": "stderr",
     "output_type": "stream",
     "text": [
      "INFO:tensorflow:Assets written to: model-03/assets\n"
     ]
    },
    {
     "name": "stdout",
     "output_type": "stream",
     "text": [
      "699/699 [==============================] - 90s 128ms/step - loss: 3.2205 - accuracy: 0.9496 - lr: 0.0010\n",
      "Epoch 20/125\n",
      "699/699 [==============================] - ETA: 0s - loss: 3.1308 - accuracy: 0.9516\n",
      "Epoch 20: accuracy improved from 0.94964 to 0.95161, saving model to model-03\n"
     ]
    },
    {
     "name": "stderr",
     "output_type": "stream",
     "text": [
      "WARNING:absl:Found untraced functions such as _jit_compiled_convolution_op, _jit_compiled_convolution_op, _jit_compiled_convolution_op, _jit_compiled_convolution_op, _jit_compiled_convolution_op while saving (showing 5 of 16). These functions will not be directly callable after loading.\n"
     ]
    },
    {
     "name": "stdout",
     "output_type": "stream",
     "text": [
      "INFO:tensorflow:Assets written to: model-03/assets\n"
     ]
    },
    {
     "name": "stderr",
     "output_type": "stream",
     "text": [
      "INFO:tensorflow:Assets written to: model-03/assets\n"
     ]
    },
    {
     "name": "stdout",
     "output_type": "stream",
     "text": [
      "699/699 [==============================] - 89s 127ms/step - loss: 3.1308 - accuracy: 0.9516 - lr: 0.0010\n",
      "Epoch 21/125\n",
      "699/699 [==============================] - ETA: 0s - loss: 3.0449 - accuracy: 0.9534\n",
      "Epoch 21: accuracy improved from 0.95161 to 0.95340, saving model to model-03\n"
     ]
    },
    {
     "name": "stderr",
     "output_type": "stream",
     "text": [
      "WARNING:absl:Found untraced functions such as _jit_compiled_convolution_op, _jit_compiled_convolution_op, _jit_compiled_convolution_op, _jit_compiled_convolution_op, _jit_compiled_convolution_op while saving (showing 5 of 16). These functions will not be directly callable after loading.\n"
     ]
    },
    {
     "name": "stdout",
     "output_type": "stream",
     "text": [
      "INFO:tensorflow:Assets written to: model-03/assets\n"
     ]
    },
    {
     "name": "stderr",
     "output_type": "stream",
     "text": [
      "INFO:tensorflow:Assets written to: model-03/assets\n"
     ]
    },
    {
     "name": "stdout",
     "output_type": "stream",
     "text": [
      "699/699 [==============================] - 90s 128ms/step - loss: 3.0449 - accuracy: 0.9534 - lr: 0.0010\n",
      "Epoch 22/125\n",
      "699/699 [==============================] - ETA: 0s - loss: 2.9581 - accuracy: 0.9552\n",
      "Epoch 22: accuracy improved from 0.95340 to 0.95523, saving model to model-03\n"
     ]
    },
    {
     "name": "stderr",
     "output_type": "stream",
     "text": [
      "WARNING:absl:Found untraced functions such as _jit_compiled_convolution_op, _jit_compiled_convolution_op, _jit_compiled_convolution_op, _jit_compiled_convolution_op, _jit_compiled_convolution_op while saving (showing 5 of 16). These functions will not be directly callable after loading.\n"
     ]
    },
    {
     "name": "stdout",
     "output_type": "stream",
     "text": [
      "INFO:tensorflow:Assets written to: model-03/assets\n"
     ]
    },
    {
     "name": "stderr",
     "output_type": "stream",
     "text": [
      "INFO:tensorflow:Assets written to: model-03/assets\n"
     ]
    },
    {
     "name": "stdout",
     "output_type": "stream",
     "text": [
      "699/699 [==============================] - 89s 127ms/step - loss: 2.9581 - accuracy: 0.9552 - lr: 0.0010\n",
      "Epoch 23/125\n",
      "699/699 [==============================] - ETA: 0s - loss: 2.8796 - accuracy: 0.9549\n",
      "Epoch 23: accuracy did not improve from 0.95523\n",
      "699/699 [==============================] - 83s 119ms/step - loss: 2.8796 - accuracy: 0.9549 - lr: 0.0010\n",
      "Epoch 24/125\n",
      "699/699 [==============================] - ETA: 0s - loss: 2.7977 - accuracy: 0.9579\n",
      "Epoch 24: accuracy improved from 0.95523 to 0.95794, saving model to model-03\n"
     ]
    },
    {
     "name": "stderr",
     "output_type": "stream",
     "text": [
      "WARNING:absl:Found untraced functions such as _jit_compiled_convolution_op, _jit_compiled_convolution_op, _jit_compiled_convolution_op, _jit_compiled_convolution_op, _jit_compiled_convolution_op while saving (showing 5 of 16). These functions will not be directly callable after loading.\n"
     ]
    },
    {
     "name": "stdout",
     "output_type": "stream",
     "text": [
      "INFO:tensorflow:Assets written to: model-03/assets\n"
     ]
    },
    {
     "name": "stderr",
     "output_type": "stream",
     "text": [
      "INFO:tensorflow:Assets written to: model-03/assets\n"
     ]
    },
    {
     "name": "stdout",
     "output_type": "stream",
     "text": [
      "699/699 [==============================] - 89s 127ms/step - loss: 2.7977 - accuracy: 0.9579 - lr: 0.0010\n",
      "Epoch 25/125\n",
      "699/699 [==============================] - ETA: 0s - loss: 2.7219 - accuracy: 0.9586\n",
      "Epoch 25: accuracy improved from 0.95794 to 0.95856, saving model to model-03\n"
     ]
    },
    {
     "name": "stderr",
     "output_type": "stream",
     "text": [
      "WARNING:absl:Found untraced functions such as _jit_compiled_convolution_op, _jit_compiled_convolution_op, _jit_compiled_convolution_op, _jit_compiled_convolution_op, _jit_compiled_convolution_op while saving (showing 5 of 16). These functions will not be directly callable after loading.\n"
     ]
    },
    {
     "name": "stdout",
     "output_type": "stream",
     "text": [
      "INFO:tensorflow:Assets written to: model-03/assets\n"
     ]
    },
    {
     "name": "stderr",
     "output_type": "stream",
     "text": [
      "INFO:tensorflow:Assets written to: model-03/assets\n"
     ]
    },
    {
     "name": "stdout",
     "output_type": "stream",
     "text": [
      "699/699 [==============================] - 90s 129ms/step - loss: 2.7219 - accuracy: 0.9586 - lr: 0.0010\n",
      "Epoch 26/125\n",
      "699/699 [==============================] - ETA: 0s - loss: 2.6445 - accuracy: 0.9600\n",
      "Epoch 26: accuracy improved from 0.95856 to 0.96004, saving model to model-03\n"
     ]
    },
    {
     "name": "stderr",
     "output_type": "stream",
     "text": [
      "WARNING:absl:Found untraced functions such as _jit_compiled_convolution_op, _jit_compiled_convolution_op, _jit_compiled_convolution_op, _jit_compiled_convolution_op, _jit_compiled_convolution_op while saving (showing 5 of 16). These functions will not be directly callable after loading.\n"
     ]
    },
    {
     "name": "stdout",
     "output_type": "stream",
     "text": [
      "INFO:tensorflow:Assets written to: model-03/assets\n"
     ]
    },
    {
     "name": "stderr",
     "output_type": "stream",
     "text": [
      "INFO:tensorflow:Assets written to: model-03/assets\n"
     ]
    },
    {
     "name": "stdout",
     "output_type": "stream",
     "text": [
      "699/699 [==============================] - 89s 128ms/step - loss: 2.6445 - accuracy: 0.9600 - lr: 0.0010\n",
      "Epoch 27/125\n",
      "699/699 [==============================] - ETA: 0s - loss: 2.5764 - accuracy: 0.9605\n",
      "Epoch 27: accuracy improved from 0.96004 to 0.96053, saving model to model-03\n"
     ]
    },
    {
     "name": "stderr",
     "output_type": "stream",
     "text": [
      "WARNING:absl:Found untraced functions such as _jit_compiled_convolution_op, _jit_compiled_convolution_op, _jit_compiled_convolution_op, _jit_compiled_convolution_op, _jit_compiled_convolution_op while saving (showing 5 of 16). These functions will not be directly callable after loading.\n"
     ]
    },
    {
     "name": "stdout",
     "output_type": "stream",
     "text": [
      "INFO:tensorflow:Assets written to: model-03/assets\n"
     ]
    },
    {
     "name": "stderr",
     "output_type": "stream",
     "text": [
      "INFO:tensorflow:Assets written to: model-03/assets\n"
     ]
    },
    {
     "name": "stdout",
     "output_type": "stream",
     "text": [
      "699/699 [==============================] - 88s 126ms/step - loss: 2.5764 - accuracy: 0.9605 - lr: 0.0010\n",
      "Epoch 28/125\n",
      "699/699 [==============================] - ETA: 0s - loss: 2.5015 - accuracy: 0.9623\n",
      "Epoch 28: accuracy improved from 0.96053 to 0.96228, saving model to model-03\n"
     ]
    },
    {
     "name": "stderr",
     "output_type": "stream",
     "text": [
      "WARNING:absl:Found untraced functions such as _jit_compiled_convolution_op, _jit_compiled_convolution_op, _jit_compiled_convolution_op, _jit_compiled_convolution_op, _jit_compiled_convolution_op while saving (showing 5 of 16). These functions will not be directly callable after loading.\n"
     ]
    },
    {
     "name": "stdout",
     "output_type": "stream",
     "text": [
      "INFO:tensorflow:Assets written to: model-03/assets\n"
     ]
    },
    {
     "name": "stderr",
     "output_type": "stream",
     "text": [
      "INFO:tensorflow:Assets written to: model-03/assets\n"
     ]
    },
    {
     "name": "stdout",
     "output_type": "stream",
     "text": [
      "699/699 [==============================] - 89s 127ms/step - loss: 2.5015 - accuracy: 0.9623 - lr: 0.0010\n",
      "Epoch 29/125\n",
      "699/699 [==============================] - ETA: 0s - loss: 2.4354 - accuracy: 0.9628\n",
      "Epoch 29: accuracy improved from 0.96228 to 0.96284, saving model to model-03\n"
     ]
    },
    {
     "name": "stderr",
     "output_type": "stream",
     "text": [
      "WARNING:absl:Found untraced functions such as _jit_compiled_convolution_op, _jit_compiled_convolution_op, _jit_compiled_convolution_op, _jit_compiled_convolution_op, _jit_compiled_convolution_op while saving (showing 5 of 16). These functions will not be directly callable after loading.\n"
     ]
    },
    {
     "name": "stdout",
     "output_type": "stream",
     "text": [
      "INFO:tensorflow:Assets written to: model-03/assets\n"
     ]
    },
    {
     "name": "stderr",
     "output_type": "stream",
     "text": [
      "INFO:tensorflow:Assets written to: model-03/assets\n"
     ]
    },
    {
     "name": "stdout",
     "output_type": "stream",
     "text": [
      "699/699 [==============================] - 89s 127ms/step - loss: 2.4354 - accuracy: 0.9628 - lr: 0.0010\n",
      "Epoch 30/125\n",
      "699/699 [==============================] - ETA: 0s - loss: 2.3660 - accuracy: 0.9650\n",
      "Epoch 30: accuracy improved from 0.96284 to 0.96501, saving model to model-03\n"
     ]
    },
    {
     "name": "stderr",
     "output_type": "stream",
     "text": [
      "WARNING:absl:Found untraced functions such as _jit_compiled_convolution_op, _jit_compiled_convolution_op, _jit_compiled_convolution_op, _jit_compiled_convolution_op, _jit_compiled_convolution_op while saving (showing 5 of 16). These functions will not be directly callable after loading.\n"
     ]
    },
    {
     "name": "stdout",
     "output_type": "stream",
     "text": [
      "INFO:tensorflow:Assets written to: model-03/assets\n"
     ]
    },
    {
     "name": "stderr",
     "output_type": "stream",
     "text": [
      "INFO:tensorflow:Assets written to: model-03/assets\n"
     ]
    },
    {
     "name": "stdout",
     "output_type": "stream",
     "text": [
      "699/699 [==============================] - 90s 128ms/step - loss: 2.3660 - accuracy: 0.9650 - lr: 0.0010\n",
      "Epoch 31/125\n",
      "699/699 [==============================] - ETA: 0s - loss: 2.3017 - accuracy: 0.9655\n",
      "Epoch 31: accuracy improved from 0.96501 to 0.96554, saving model to model-03\n"
     ]
    },
    {
     "name": "stderr",
     "output_type": "stream",
     "text": [
      "WARNING:absl:Found untraced functions such as _jit_compiled_convolution_op, _jit_compiled_convolution_op, _jit_compiled_convolution_op, _jit_compiled_convolution_op, _jit_compiled_convolution_op while saving (showing 5 of 16). These functions will not be directly callable after loading.\n"
     ]
    },
    {
     "name": "stdout",
     "output_type": "stream",
     "text": [
      "INFO:tensorflow:Assets written to: model-03/assets\n"
     ]
    },
    {
     "name": "stderr",
     "output_type": "stream",
     "text": [
      "INFO:tensorflow:Assets written to: model-03/assets\n"
     ]
    },
    {
     "name": "stdout",
     "output_type": "stream",
     "text": [
      "699/699 [==============================] - 89s 127ms/step - loss: 2.3017 - accuracy: 0.9655 - lr: 0.0010\n",
      "Epoch 32/125\n",
      "699/699 [==============================] - ETA: 0s - loss: 2.2395 - accuracy: 0.9669\n",
      "Epoch 32: accuracy improved from 0.96554 to 0.96689, saving model to model-03\n"
     ]
    },
    {
     "name": "stderr",
     "output_type": "stream",
     "text": [
      "WARNING:absl:Found untraced functions such as _jit_compiled_convolution_op, _jit_compiled_convolution_op, _jit_compiled_convolution_op, _jit_compiled_convolution_op, _jit_compiled_convolution_op while saving (showing 5 of 16). These functions will not be directly callable after loading.\n"
     ]
    },
    {
     "name": "stdout",
     "output_type": "stream",
     "text": [
      "INFO:tensorflow:Assets written to: model-03/assets\n"
     ]
    },
    {
     "name": "stderr",
     "output_type": "stream",
     "text": [
      "INFO:tensorflow:Assets written to: model-03/assets\n"
     ]
    },
    {
     "name": "stdout",
     "output_type": "stream",
     "text": [
      "699/699 [==============================] - 89s 127ms/step - loss: 2.2395 - accuracy: 0.9669 - lr: 0.0010\n",
      "Epoch 33/125\n",
      "699/699 [==============================] - ETA: 0s - loss: 2.1783 - accuracy: 0.9662\n",
      "Epoch 33: accuracy did not improve from 0.96689\n",
      "699/699 [==============================] - 84s 120ms/step - loss: 2.1783 - accuracy: 0.9662 - lr: 0.0010\n",
      "Epoch 34/125\n",
      "699/699 [==============================] - ETA: 0s - loss: 2.1192 - accuracy: 0.9664\n",
      "Epoch 34: accuracy did not improve from 0.96689\n",
      "699/699 [==============================] - 84s 120ms/step - loss: 2.1192 - accuracy: 0.9664 - lr: 0.0010\n",
      "Epoch 35/125\n",
      "699/699 [==============================] - ETA: 0s - loss: 2.0598 - accuracy: 0.9692\n",
      "Epoch 35: accuracy improved from 0.96689 to 0.96917, saving model to model-03\n"
     ]
    },
    {
     "name": "stderr",
     "output_type": "stream",
     "text": [
      "WARNING:absl:Found untraced functions such as _jit_compiled_convolution_op, _jit_compiled_convolution_op, _jit_compiled_convolution_op, _jit_compiled_convolution_op, _jit_compiled_convolution_op while saving (showing 5 of 16). These functions will not be directly callable after loading.\n"
     ]
    },
    {
     "name": "stdout",
     "output_type": "stream",
     "text": [
      "INFO:tensorflow:Assets written to: model-03/assets\n"
     ]
    },
    {
     "name": "stderr",
     "output_type": "stream",
     "text": [
      "INFO:tensorflow:Assets written to: model-03/assets\n"
     ]
    },
    {
     "name": "stdout",
     "output_type": "stream",
     "text": [
      "699/699 [==============================] - 89s 127ms/step - loss: 2.0598 - accuracy: 0.9692 - lr: 0.0010\n",
      "Epoch 36/125\n",
      "699/699 [==============================] - ETA: 0s - loss: 2.0045 - accuracy: 0.9691\n",
      "Epoch 36: accuracy did not improve from 0.96917\n",
      "699/699 [==============================] - 84s 120ms/step - loss: 2.0045 - accuracy: 0.9691 - lr: 0.0010\n",
      "Epoch 37/125\n",
      "699/699 [==============================] - ETA: 0s - loss: 1.9521 - accuracy: 0.9699\n",
      "Epoch 37: accuracy improved from 0.96917 to 0.96986, saving model to model-03\n"
     ]
    },
    {
     "name": "stderr",
     "output_type": "stream",
     "text": [
      "WARNING:absl:Found untraced functions such as _jit_compiled_convolution_op, _jit_compiled_convolution_op, _jit_compiled_convolution_op, _jit_compiled_convolution_op, _jit_compiled_convolution_op while saving (showing 5 of 16). These functions will not be directly callable after loading.\n"
     ]
    },
    {
     "name": "stdout",
     "output_type": "stream",
     "text": [
      "INFO:tensorflow:Assets written to: model-03/assets\n"
     ]
    },
    {
     "name": "stderr",
     "output_type": "stream",
     "text": [
      "INFO:tensorflow:Assets written to: model-03/assets\n"
     ]
    },
    {
     "name": "stdout",
     "output_type": "stream",
     "text": [
      "699/699 [==============================] - 89s 127ms/step - loss: 1.9521 - accuracy: 0.9699 - lr: 0.0010\n",
      "Epoch 38/125\n",
      "699/699 [==============================] - ETA: 0s - loss: 1.9001 - accuracy: 0.9699\n",
      "Epoch 38: accuracy improved from 0.96986 to 0.96988, saving model to model-03\n"
     ]
    },
    {
     "name": "stderr",
     "output_type": "stream",
     "text": [
      "WARNING:absl:Found untraced functions such as _jit_compiled_convolution_op, _jit_compiled_convolution_op, _jit_compiled_convolution_op, _jit_compiled_convolution_op, _jit_compiled_convolution_op while saving (showing 5 of 16). These functions will not be directly callable after loading.\n"
     ]
    },
    {
     "name": "stdout",
     "output_type": "stream",
     "text": [
      "INFO:tensorflow:Assets written to: model-03/assets\n"
     ]
    },
    {
     "name": "stderr",
     "output_type": "stream",
     "text": [
      "INFO:tensorflow:Assets written to: model-03/assets\n"
     ]
    },
    {
     "name": "stdout",
     "output_type": "stream",
     "text": [
      "699/699 [==============================] - 89s 127ms/step - loss: 1.9001 - accuracy: 0.9699 - lr: 0.0010\n",
      "Epoch 39/125\n",
      "699/699 [==============================] - ETA: 0s - loss: 1.8468 - accuracy: 0.9712\n",
      "Epoch 39: accuracy improved from 0.96988 to 0.97123, saving model to model-03\n"
     ]
    },
    {
     "name": "stderr",
     "output_type": "stream",
     "text": [
      "WARNING:absl:Found untraced functions such as _jit_compiled_convolution_op, _jit_compiled_convolution_op, _jit_compiled_convolution_op, _jit_compiled_convolution_op, _jit_compiled_convolution_op while saving (showing 5 of 16). These functions will not be directly callable after loading.\n"
     ]
    },
    {
     "name": "stdout",
     "output_type": "stream",
     "text": [
      "INFO:tensorflow:Assets written to: model-03/assets\n"
     ]
    },
    {
     "name": "stderr",
     "output_type": "stream",
     "text": [
      "INFO:tensorflow:Assets written to: model-03/assets\n"
     ]
    },
    {
     "name": "stdout",
     "output_type": "stream",
     "text": [
      "699/699 [==============================] - 89s 127ms/step - loss: 1.8468 - accuracy: 0.9712 - lr: 0.0010\n",
      "Epoch 40/125\n",
      "699/699 [==============================] - ETA: 0s - loss: 1.7961 - accuracy: 0.9722\n",
      "Epoch 40: accuracy improved from 0.97123 to 0.97221, saving model to model-03\n"
     ]
    },
    {
     "name": "stderr",
     "output_type": "stream",
     "text": [
      "WARNING:absl:Found untraced functions such as _jit_compiled_convolution_op, _jit_compiled_convolution_op, _jit_compiled_convolution_op, _jit_compiled_convolution_op, _jit_compiled_convolution_op while saving (showing 5 of 16). These functions will not be directly callable after loading.\n"
     ]
    },
    {
     "name": "stdout",
     "output_type": "stream",
     "text": [
      "INFO:tensorflow:Assets written to: model-03/assets\n"
     ]
    },
    {
     "name": "stderr",
     "output_type": "stream",
     "text": [
      "INFO:tensorflow:Assets written to: model-03/assets\n"
     ]
    },
    {
     "name": "stdout",
     "output_type": "stream",
     "text": [
      "699/699 [==============================] - 88s 126ms/step - loss: 1.7961 - accuracy: 0.9722 - lr: 0.0010\n",
      "Epoch 41/125\n",
      "699/699 [==============================] - ETA: 0s - loss: 1.7464 - accuracy: 0.9729\n",
      "Epoch 41: accuracy improved from 0.97221 to 0.97288, saving model to model-03\n"
     ]
    },
    {
     "name": "stderr",
     "output_type": "stream",
     "text": [
      "WARNING:absl:Found untraced functions such as _jit_compiled_convolution_op, _jit_compiled_convolution_op, _jit_compiled_convolution_op, _jit_compiled_convolution_op, _jit_compiled_convolution_op while saving (showing 5 of 16). These functions will not be directly callable after loading.\n"
     ]
    },
    {
     "name": "stdout",
     "output_type": "stream",
     "text": [
      "INFO:tensorflow:Assets written to: model-03/assets\n"
     ]
    },
    {
     "name": "stderr",
     "output_type": "stream",
     "text": [
      "INFO:tensorflow:Assets written to: model-03/assets\n"
     ]
    },
    {
     "name": "stdout",
     "output_type": "stream",
     "text": [
      "699/699 [==============================] - 88s 126ms/step - loss: 1.7464 - accuracy: 0.9729 - lr: 0.0010\n",
      "Epoch 42/125\n",
      "699/699 [==============================] - ETA: 0s - loss: 1.7019 - accuracy: 0.9723\n",
      "Epoch 42: accuracy did not improve from 0.97288\n",
      "699/699 [==============================] - 83s 119ms/step - loss: 1.7019 - accuracy: 0.9723 - lr: 0.0010\n",
      "Epoch 43/125\n",
      "699/699 [==============================] - ETA: 0s - loss: 1.6537 - accuracy: 0.9732\n",
      "Epoch 43: accuracy improved from 0.97288 to 0.97324, saving model to model-03\n"
     ]
    },
    {
     "name": "stderr",
     "output_type": "stream",
     "text": [
      "WARNING:absl:Found untraced functions such as _jit_compiled_convolution_op, _jit_compiled_convolution_op, _jit_compiled_convolution_op, _jit_compiled_convolution_op, _jit_compiled_convolution_op while saving (showing 5 of 16). These functions will not be directly callable after loading.\n"
     ]
    },
    {
     "name": "stdout",
     "output_type": "stream",
     "text": [
      "INFO:tensorflow:Assets written to: model-03/assets\n"
     ]
    },
    {
     "name": "stderr",
     "output_type": "stream",
     "text": [
      "INFO:tensorflow:Assets written to: model-03/assets\n"
     ]
    },
    {
     "name": "stdout",
     "output_type": "stream",
     "text": [
      "699/699 [==============================] - 88s 126ms/step - loss: 1.6537 - accuracy: 0.9732 - lr: 0.0010\n",
      "Epoch 44/125\n",
      "699/699 [==============================] - ETA: 0s - loss: 1.6117 - accuracy: 0.9734\n",
      "Epoch 44: accuracy improved from 0.97324 to 0.97344, saving model to model-03\n"
     ]
    },
    {
     "name": "stderr",
     "output_type": "stream",
     "text": [
      "WARNING:absl:Found untraced functions such as _jit_compiled_convolution_op, _jit_compiled_convolution_op, _jit_compiled_convolution_op, _jit_compiled_convolution_op, _jit_compiled_convolution_op while saving (showing 5 of 16). These functions will not be directly callable after loading.\n"
     ]
    },
    {
     "name": "stdout",
     "output_type": "stream",
     "text": [
      "INFO:tensorflow:Assets written to: model-03/assets\n"
     ]
    },
    {
     "name": "stderr",
     "output_type": "stream",
     "text": [
      "INFO:tensorflow:Assets written to: model-03/assets\n"
     ]
    },
    {
     "name": "stdout",
     "output_type": "stream",
     "text": [
      "699/699 [==============================] - 89s 127ms/step - loss: 1.6117 - accuracy: 0.9734 - lr: 0.0010\n",
      "Epoch 45/125\n",
      "699/699 [==============================] - ETA: 0s - loss: 1.5665 - accuracy: 0.9740\n",
      "Epoch 45: accuracy improved from 0.97344 to 0.97400, saving model to model-03\n"
     ]
    },
    {
     "name": "stderr",
     "output_type": "stream",
     "text": [
      "WARNING:absl:Found untraced functions such as _jit_compiled_convolution_op, _jit_compiled_convolution_op, _jit_compiled_convolution_op, _jit_compiled_convolution_op, _jit_compiled_convolution_op while saving (showing 5 of 16). These functions will not be directly callable after loading.\n"
     ]
    },
    {
     "name": "stdout",
     "output_type": "stream",
     "text": [
      "INFO:tensorflow:Assets written to: model-03/assets\n"
     ]
    },
    {
     "name": "stderr",
     "output_type": "stream",
     "text": [
      "INFO:tensorflow:Assets written to: model-03/assets\n"
     ]
    },
    {
     "name": "stdout",
     "output_type": "stream",
     "text": [
      "699/699 [==============================] - 88s 126ms/step - loss: 1.5665 - accuracy: 0.9740 - lr: 0.0010\n",
      "Epoch 46/125\n",
      "699/699 [==============================] - ETA: 0s - loss: 1.5273 - accuracy: 0.9739\n",
      "Epoch 46: accuracy did not improve from 0.97400\n",
      "699/699 [==============================] - 84s 120ms/step - loss: 1.5273 - accuracy: 0.9739 - lr: 0.0010\n",
      "Epoch 47/125\n",
      "699/699 [==============================] - ETA: 0s - loss: 1.4839 - accuracy: 0.9753\n",
      "Epoch 47: accuracy improved from 0.97400 to 0.97528, saving model to model-03\n"
     ]
    },
    {
     "name": "stderr",
     "output_type": "stream",
     "text": [
      "WARNING:absl:Found untraced functions such as _jit_compiled_convolution_op, _jit_compiled_convolution_op, _jit_compiled_convolution_op, _jit_compiled_convolution_op, _jit_compiled_convolution_op while saving (showing 5 of 16). These functions will not be directly callable after loading.\n"
     ]
    },
    {
     "name": "stdout",
     "output_type": "stream",
     "text": [
      "INFO:tensorflow:Assets written to: model-03/assets\n"
     ]
    },
    {
     "name": "stderr",
     "output_type": "stream",
     "text": [
      "INFO:tensorflow:Assets written to: model-03/assets\n"
     ]
    },
    {
     "name": "stdout",
     "output_type": "stream",
     "text": [
      "699/699 [==============================] - 88s 126ms/step - loss: 1.4839 - accuracy: 0.9753 - lr: 0.0010\n",
      "Epoch 48/125\n",
      "699/699 [==============================] - ETA: 0s - loss: 1.4403 - accuracy: 0.9766\n",
      "Epoch 48: accuracy improved from 0.97528 to 0.97660, saving model to model-03\n"
     ]
    },
    {
     "name": "stderr",
     "output_type": "stream",
     "text": [
      "WARNING:absl:Found untraced functions such as _jit_compiled_convolution_op, _jit_compiled_convolution_op, _jit_compiled_convolution_op, _jit_compiled_convolution_op, _jit_compiled_convolution_op while saving (showing 5 of 16). These functions will not be directly callable after loading.\n"
     ]
    },
    {
     "name": "stdout",
     "output_type": "stream",
     "text": [
      "INFO:tensorflow:Assets written to: model-03/assets\n"
     ]
    },
    {
     "name": "stderr",
     "output_type": "stream",
     "text": [
      "INFO:tensorflow:Assets written to: model-03/assets\n"
     ]
    },
    {
     "name": "stdout",
     "output_type": "stream",
     "text": [
      "699/699 [==============================] - 88s 126ms/step - loss: 1.4403 - accuracy: 0.9766 - lr: 0.0010\n",
      "Epoch 49/125\n",
      "699/699 [==============================] - ETA: 0s - loss: 1.4088 - accuracy: 0.9745\n",
      "Epoch 49: accuracy did not improve from 0.97660\n",
      "699/699 [==============================] - 83s 119ms/step - loss: 1.4088 - accuracy: 0.9745 - lr: 0.0010\n",
      "Epoch 50/125\n",
      "699/699 [==============================] - ETA: 0s - loss: 1.3661 - accuracy: 0.9772\n",
      "Epoch 50: accuracy improved from 0.97660 to 0.97716, saving model to model-03\n"
     ]
    },
    {
     "name": "stderr",
     "output_type": "stream",
     "text": [
      "WARNING:absl:Found untraced functions such as _jit_compiled_convolution_op, _jit_compiled_convolution_op, _jit_compiled_convolution_op, _jit_compiled_convolution_op, _jit_compiled_convolution_op while saving (showing 5 of 16). These functions will not be directly callable after loading.\n"
     ]
    },
    {
     "name": "stdout",
     "output_type": "stream",
     "text": [
      "INFO:tensorflow:Assets written to: model-03/assets\n"
     ]
    },
    {
     "name": "stderr",
     "output_type": "stream",
     "text": [
      "INFO:tensorflow:Assets written to: model-03/assets\n"
     ]
    },
    {
     "name": "stdout",
     "output_type": "stream",
     "text": [
      "699/699 [==============================] - 88s 125ms/step - loss: 1.3661 - accuracy: 0.9772 - lr: 0.0010\n",
      "Epoch 51/125\n",
      "699/699 [==============================] - ETA: 0s - loss: 1.3301 - accuracy: 0.9775\n",
      "Epoch 51: accuracy improved from 0.97716 to 0.97747, saving model to model-03\n"
     ]
    },
    {
     "name": "stderr",
     "output_type": "stream",
     "text": [
      "WARNING:absl:Found untraced functions such as _jit_compiled_convolution_op, _jit_compiled_convolution_op, _jit_compiled_convolution_op, _jit_compiled_convolution_op, _jit_compiled_convolution_op while saving (showing 5 of 16). These functions will not be directly callable after loading.\n"
     ]
    },
    {
     "name": "stdout",
     "output_type": "stream",
     "text": [
      "INFO:tensorflow:Assets written to: model-03/assets\n"
     ]
    },
    {
     "name": "stderr",
     "output_type": "stream",
     "text": [
      "INFO:tensorflow:Assets written to: model-03/assets\n"
     ]
    },
    {
     "name": "stdout",
     "output_type": "stream",
     "text": [
      "699/699 [==============================] - 88s 126ms/step - loss: 1.3301 - accuracy: 0.9775 - lr: 0.0010\n",
      "Epoch 52/125\n",
      "699/699 [==============================] - ETA: 0s - loss: 1.2938 - accuracy: 0.9773\n",
      "Epoch 52: accuracy did not improve from 0.97747\n",
      "699/699 [==============================] - 83s 118ms/step - loss: 1.2938 - accuracy: 0.9773 - lr: 0.0010\n",
      "Epoch 53/125\n",
      "699/699 [==============================] - ETA: 0s - loss: 1.2618 - accuracy: 0.9772\n",
      "Epoch 53: accuracy did not improve from 0.97747\n",
      "699/699 [==============================] - 83s 119ms/step - loss: 1.2618 - accuracy: 0.9772 - lr: 0.0010\n",
      "Epoch 54/125\n",
      "699/699 [==============================] - ETA: 0s - loss: 1.2304 - accuracy: 0.9769\n",
      "Epoch 54: accuracy did not improve from 0.97747\n",
      "699/699 [==============================] - 83s 119ms/step - loss: 1.2304 - accuracy: 0.9769 - lr: 0.0010\n",
      "Epoch 55/125\n",
      "699/699 [==============================] - ETA: 0s - loss: 1.1973 - accuracy: 0.9779\n",
      "Epoch 55: accuracy improved from 0.97747 to 0.97794, saving model to model-03\n"
     ]
    },
    {
     "name": "stderr",
     "output_type": "stream",
     "text": [
      "WARNING:absl:Found untraced functions such as _jit_compiled_convolution_op, _jit_compiled_convolution_op, _jit_compiled_convolution_op, _jit_compiled_convolution_op, _jit_compiled_convolution_op while saving (showing 5 of 16). These functions will not be directly callable after loading.\n"
     ]
    },
    {
     "name": "stdout",
     "output_type": "stream",
     "text": [
      "INFO:tensorflow:Assets written to: model-03/assets\n"
     ]
    },
    {
     "name": "stderr",
     "output_type": "stream",
     "text": [
      "INFO:tensorflow:Assets written to: model-03/assets\n"
     ]
    },
    {
     "name": "stdout",
     "output_type": "stream",
     "text": [
      "699/699 [==============================] - 88s 126ms/step - loss: 1.1973 - accuracy: 0.9779 - lr: 0.0010\n",
      "Epoch 56/125\n",
      "699/699 [==============================] - ETA: 0s - loss: 1.1644 - accuracy: 0.9783\n",
      "Epoch 56: accuracy improved from 0.97794 to 0.97830, saving model to model-03\n"
     ]
    },
    {
     "name": "stderr",
     "output_type": "stream",
     "text": [
      "WARNING:absl:Found untraced functions such as _jit_compiled_convolution_op, _jit_compiled_convolution_op, _jit_compiled_convolution_op, _jit_compiled_convolution_op, _jit_compiled_convolution_op while saving (showing 5 of 16). These functions will not be directly callable after loading.\n"
     ]
    },
    {
     "name": "stdout",
     "output_type": "stream",
     "text": [
      "INFO:tensorflow:Assets written to: model-03/assets\n"
     ]
    },
    {
     "name": "stderr",
     "output_type": "stream",
     "text": [
      "INFO:tensorflow:Assets written to: model-03/assets\n"
     ]
    },
    {
     "name": "stdout",
     "output_type": "stream",
     "text": [
      "699/699 [==============================] - 88s 126ms/step - loss: 1.1644 - accuracy: 0.9783 - lr: 0.0010\n",
      "Epoch 57/125\n",
      "699/699 [==============================] - ETA: 0s - loss: 1.1337 - accuracy: 0.9782\n",
      "Epoch 57: accuracy did not improve from 0.97830\n",
      "699/699 [==============================] - 83s 119ms/step - loss: 1.1337 - accuracy: 0.9782 - lr: 0.0010\n",
      "Epoch 58/125\n",
      "699/699 [==============================] - ETA: 0s - loss: 1.1003 - accuracy: 0.9796\n",
      "Epoch 58: accuracy improved from 0.97830 to 0.97964, saving model to model-03\n"
     ]
    },
    {
     "name": "stderr",
     "output_type": "stream",
     "text": [
      "WARNING:absl:Found untraced functions such as _jit_compiled_convolution_op, _jit_compiled_convolution_op, _jit_compiled_convolution_op, _jit_compiled_convolution_op, _jit_compiled_convolution_op while saving (showing 5 of 16). These functions will not be directly callable after loading.\n"
     ]
    },
    {
     "name": "stdout",
     "output_type": "stream",
     "text": [
      "INFO:tensorflow:Assets written to: model-03/assets\n"
     ]
    },
    {
     "name": "stderr",
     "output_type": "stream",
     "text": [
      "INFO:tensorflow:Assets written to: model-03/assets\n"
     ]
    },
    {
     "name": "stdout",
     "output_type": "stream",
     "text": [
      "699/699 [==============================] - 88s 126ms/step - loss: 1.1003 - accuracy: 0.9796 - lr: 0.0010\n",
      "Epoch 59/125\n",
      "699/699 [==============================] - ETA: 0s - loss: 1.0745 - accuracy: 0.9789\n",
      "Epoch 59: accuracy did not improve from 0.97964\n",
      "699/699 [==============================] - 83s 119ms/step - loss: 1.0745 - accuracy: 0.9789 - lr: 0.0010\n",
      "Epoch 60/125\n",
      "699/699 [==============================] - ETA: 0s - loss: 1.0438 - accuracy: 0.9794\n",
      "Epoch 60: accuracy did not improve from 0.97964\n",
      "699/699 [==============================] - 83s 119ms/step - loss: 1.0438 - accuracy: 0.9794 - lr: 0.0010\n",
      "Epoch 61/125\n",
      "699/699 [==============================] - ETA: 0s - loss: 1.0173 - accuracy: 0.9797\n",
      "Epoch 61: accuracy improved from 0.97964 to 0.97973, saving model to model-03\n"
     ]
    },
    {
     "name": "stderr",
     "output_type": "stream",
     "text": [
      "WARNING:absl:Found untraced functions such as _jit_compiled_convolution_op, _jit_compiled_convolution_op, _jit_compiled_convolution_op, _jit_compiled_convolution_op, _jit_compiled_convolution_op while saving (showing 5 of 16). These functions will not be directly callable after loading.\n"
     ]
    },
    {
     "name": "stdout",
     "output_type": "stream",
     "text": [
      "INFO:tensorflow:Assets written to: model-03/assets\n"
     ]
    },
    {
     "name": "stderr",
     "output_type": "stream",
     "text": [
      "INFO:tensorflow:Assets written to: model-03/assets\n"
     ]
    },
    {
     "name": "stdout",
     "output_type": "stream",
     "text": [
      "699/699 [==============================] - 88s 126ms/step - loss: 1.0173 - accuracy: 0.9797 - lr: 0.0010\n",
      "Epoch 62/125\n",
      "699/699 [==============================] - ETA: 0s - loss: 0.9907 - accuracy: 0.9795\n",
      "Epoch 62: accuracy did not improve from 0.97973\n",
      "699/699 [==============================] - 83s 118ms/step - loss: 0.9907 - accuracy: 0.9795 - lr: 0.0010\n",
      "Epoch 63/125\n",
      "699/699 [==============================] - ETA: 0s - loss: 0.9675 - accuracy: 0.9787\n",
      "Epoch 63: accuracy did not improve from 0.97973\n",
      "699/699 [==============================] - 83s 119ms/step - loss: 0.9675 - accuracy: 0.9787 - lr: 0.0010\n",
      "Epoch 64/125\n",
      "699/699 [==============================] - ETA: 0s - loss: 0.9382 - accuracy: 0.9812\n",
      "Epoch 64: accuracy improved from 0.97973 to 0.98118, saving model to model-03\n"
     ]
    },
    {
     "name": "stderr",
     "output_type": "stream",
     "text": [
      "WARNING:absl:Found untraced functions such as _jit_compiled_convolution_op, _jit_compiled_convolution_op, _jit_compiled_convolution_op, _jit_compiled_convolution_op, _jit_compiled_convolution_op while saving (showing 5 of 16). These functions will not be directly callable after loading.\n"
     ]
    },
    {
     "name": "stdout",
     "output_type": "stream",
     "text": [
      "INFO:tensorflow:Assets written to: model-03/assets\n"
     ]
    },
    {
     "name": "stderr",
     "output_type": "stream",
     "text": [
      "INFO:tensorflow:Assets written to: model-03/assets\n"
     ]
    },
    {
     "name": "stdout",
     "output_type": "stream",
     "text": [
      "699/699 [==============================] - 88s 125ms/step - loss: 0.9382 - accuracy: 0.9812 - lr: 0.0010\n",
      "Epoch 65/125\n",
      "699/699 [==============================] - ETA: 0s - loss: 0.9142 - accuracy: 0.9813\n",
      "Epoch 65: accuracy improved from 0.98118 to 0.98127, saving model to model-03\n"
     ]
    },
    {
     "name": "stderr",
     "output_type": "stream",
     "text": [
      "WARNING:absl:Found untraced functions such as _jit_compiled_convolution_op, _jit_compiled_convolution_op, _jit_compiled_convolution_op, _jit_compiled_convolution_op, _jit_compiled_convolution_op while saving (showing 5 of 16). These functions will not be directly callable after loading.\n"
     ]
    },
    {
     "name": "stdout",
     "output_type": "stream",
     "text": [
      "INFO:tensorflow:Assets written to: model-03/assets\n"
     ]
    },
    {
     "name": "stderr",
     "output_type": "stream",
     "text": [
      "INFO:tensorflow:Assets written to: model-03/assets\n"
     ]
    },
    {
     "name": "stdout",
     "output_type": "stream",
     "text": [
      "699/699 [==============================] - 87s 125ms/step - loss: 0.9142 - accuracy: 0.9813 - lr: 0.0010\n",
      "Epoch 66/125\n",
      "699/699 [==============================] - ETA: 0s - loss: 0.8914 - accuracy: 0.9812\n",
      "Epoch 66: accuracy did not improve from 0.98127\n",
      "699/699 [==============================] - 84s 119ms/step - loss: 0.8914 - accuracy: 0.9812 - lr: 0.0010\n",
      "Epoch 67/125\n",
      "699/699 [==============================] - ETA: 0s - loss: 0.8680 - accuracy: 0.9807\n",
      "Epoch 67: accuracy did not improve from 0.98127\n",
      "699/699 [==============================] - 83s 118ms/step - loss: 0.8680 - accuracy: 0.9807 - lr: 0.0010\n",
      "Epoch 68/125\n",
      "699/699 [==============================] - ETA: 0s - loss: 0.8433 - accuracy: 0.9816\n",
      "Epoch 68: accuracy improved from 0.98127 to 0.98163, saving model to model-03\n"
     ]
    },
    {
     "name": "stderr",
     "output_type": "stream",
     "text": [
      "WARNING:absl:Found untraced functions such as _jit_compiled_convolution_op, _jit_compiled_convolution_op, _jit_compiled_convolution_op, _jit_compiled_convolution_op, _jit_compiled_convolution_op while saving (showing 5 of 16). These functions will not be directly callable after loading.\n"
     ]
    },
    {
     "name": "stdout",
     "output_type": "stream",
     "text": [
      "INFO:tensorflow:Assets written to: model-03/assets\n"
     ]
    },
    {
     "name": "stderr",
     "output_type": "stream",
     "text": [
      "INFO:tensorflow:Assets written to: model-03/assets\n"
     ]
    },
    {
     "name": "stdout",
     "output_type": "stream",
     "text": [
      "699/699 [==============================] - 88s 125ms/step - loss: 0.8433 - accuracy: 0.9816 - lr: 0.0010\n",
      "Epoch 69/125\n",
      "699/699 [==============================] - ETA: 0s - loss: 0.8234 - accuracy: 0.9817\n",
      "Epoch 69: accuracy improved from 0.98163 to 0.98168, saving model to model-03\n"
     ]
    },
    {
     "name": "stderr",
     "output_type": "stream",
     "text": [
      "WARNING:absl:Found untraced functions such as _jit_compiled_convolution_op, _jit_compiled_convolution_op, _jit_compiled_convolution_op, _jit_compiled_convolution_op, _jit_compiled_convolution_op while saving (showing 5 of 16). These functions will not be directly callable after loading.\n"
     ]
    },
    {
     "name": "stdout",
     "output_type": "stream",
     "text": [
      "INFO:tensorflow:Assets written to: model-03/assets\n"
     ]
    },
    {
     "name": "stderr",
     "output_type": "stream",
     "text": [
      "INFO:tensorflow:Assets written to: model-03/assets\n"
     ]
    },
    {
     "name": "stdout",
     "output_type": "stream",
     "text": [
      "699/699 [==============================] - 88s 125ms/step - loss: 0.8234 - accuracy: 0.9817 - lr: 0.0010\n",
      "Epoch 70/125\n",
      "699/699 [==============================] - ETA: 0s - loss: 0.8022 - accuracy: 0.9812\n",
      "Epoch 70: accuracy did not improve from 0.98168\n",
      "699/699 [==============================] - 83s 118ms/step - loss: 0.8022 - accuracy: 0.9812 - lr: 0.0010\n",
      "Epoch 71/125\n",
      "699/699 [==============================] - ETA: 0s - loss: 0.7780 - accuracy: 0.9826\n",
      "Epoch 71: accuracy improved from 0.98168 to 0.98257, saving model to model-03\n"
     ]
    },
    {
     "name": "stderr",
     "output_type": "stream",
     "text": [
      "WARNING:absl:Found untraced functions such as _jit_compiled_convolution_op, _jit_compiled_convolution_op, _jit_compiled_convolution_op, _jit_compiled_convolution_op, _jit_compiled_convolution_op while saving (showing 5 of 16). These functions will not be directly callable after loading.\n"
     ]
    },
    {
     "name": "stdout",
     "output_type": "stream",
     "text": [
      "INFO:tensorflow:Assets written to: model-03/assets\n"
     ]
    },
    {
     "name": "stderr",
     "output_type": "stream",
     "text": [
      "INFO:tensorflow:Assets written to: model-03/assets\n"
     ]
    },
    {
     "name": "stdout",
     "output_type": "stream",
     "text": [
      "699/699 [==============================] - 88s 126ms/step - loss: 0.7780 - accuracy: 0.9826 - lr: 0.0010\n",
      "Epoch 72/125\n",
      "699/699 [==============================] - ETA: 0s - loss: 0.7590 - accuracy: 0.9819\n",
      "Epoch 72: accuracy did not improve from 0.98257\n",
      "699/699 [==============================] - 84s 120ms/step - loss: 0.7590 - accuracy: 0.9819 - lr: 0.0010\n",
      "Epoch 73/125\n",
      "699/699 [==============================] - ETA: 0s - loss: 0.7384 - accuracy: 0.9830\n",
      "Epoch 73: accuracy improved from 0.98257 to 0.98300, saving model to model-03\n"
     ]
    },
    {
     "name": "stderr",
     "output_type": "stream",
     "text": [
      "WARNING:absl:Found untraced functions such as _jit_compiled_convolution_op, _jit_compiled_convolution_op, _jit_compiled_convolution_op, _jit_compiled_convolution_op, _jit_compiled_convolution_op while saving (showing 5 of 16). These functions will not be directly callable after loading.\n"
     ]
    },
    {
     "name": "stdout",
     "output_type": "stream",
     "text": [
      "INFO:tensorflow:Assets written to: model-03/assets\n"
     ]
    },
    {
     "name": "stderr",
     "output_type": "stream",
     "text": [
      "INFO:tensorflow:Assets written to: model-03/assets\n"
     ]
    },
    {
     "name": "stdout",
     "output_type": "stream",
     "text": [
      "699/699 [==============================] - 88s 126ms/step - loss: 0.7384 - accuracy: 0.9830 - lr: 0.0010\n",
      "Epoch 74/125\n",
      "699/699 [==============================] - ETA: 0s - loss: 0.7186 - accuracy: 0.9832\n",
      "Epoch 74: accuracy improved from 0.98300 to 0.98320, saving model to model-03\n"
     ]
    },
    {
     "name": "stderr",
     "output_type": "stream",
     "text": [
      "WARNING:absl:Found untraced functions such as _jit_compiled_convolution_op, _jit_compiled_convolution_op, _jit_compiled_convolution_op, _jit_compiled_convolution_op, _jit_compiled_convolution_op while saving (showing 5 of 16). These functions will not be directly callable after loading.\n"
     ]
    },
    {
     "name": "stdout",
     "output_type": "stream",
     "text": [
      "INFO:tensorflow:Assets written to: model-03/assets\n"
     ]
    },
    {
     "name": "stderr",
     "output_type": "stream",
     "text": [
      "INFO:tensorflow:Assets written to: model-03/assets\n"
     ]
    },
    {
     "name": "stdout",
     "output_type": "stream",
     "text": [
      "699/699 [==============================] - 87s 124ms/step - loss: 0.7186 - accuracy: 0.9832 - lr: 0.0010\n",
      "Epoch 75/125\n",
      "699/699 [==============================] - ETA: 0s - loss: 0.7001 - accuracy: 0.9838\n",
      "Epoch 75: accuracy improved from 0.98320 to 0.98376, saving model to model-03\n"
     ]
    },
    {
     "name": "stderr",
     "output_type": "stream",
     "text": [
      "WARNING:absl:Found untraced functions such as _jit_compiled_convolution_op, _jit_compiled_convolution_op, _jit_compiled_convolution_op, _jit_compiled_convolution_op, _jit_compiled_convolution_op while saving (showing 5 of 16). These functions will not be directly callable after loading.\n"
     ]
    },
    {
     "name": "stdout",
     "output_type": "stream",
     "text": [
      "INFO:tensorflow:Assets written to: model-03/assets\n"
     ]
    },
    {
     "name": "stderr",
     "output_type": "stream",
     "text": [
      "INFO:tensorflow:Assets written to: model-03/assets\n"
     ]
    },
    {
     "name": "stdout",
     "output_type": "stream",
     "text": [
      "699/699 [==============================] - 88s 126ms/step - loss: 0.7001 - accuracy: 0.9838 - lr: 0.0010\n",
      "Epoch 76/125\n",
      "699/699 [==============================] - ETA: 0s - loss: 0.6846 - accuracy: 0.9829\n",
      "Epoch 76: accuracy did not improve from 0.98376\n",
      "699/699 [==============================] - 83s 119ms/step - loss: 0.6846 - accuracy: 0.9829 - lr: 0.0010\n",
      "Epoch 77/125\n",
      "699/699 [==============================] - ETA: 0s - loss: 0.6682 - accuracy: 0.9828\n",
      "Epoch 77: accuracy did not improve from 0.98376\n",
      "699/699 [==============================] - 83s 119ms/step - loss: 0.6682 - accuracy: 0.9828 - lr: 0.0010\n",
      "Epoch 78/125\n",
      "699/699 [==============================] - ETA: 0s - loss: 0.6487 - accuracy: 0.9835\n",
      "Epoch 78: accuracy did not improve from 0.98376\n",
      "699/699 [==============================] - 84s 120ms/step - loss: 0.6487 - accuracy: 0.9835 - lr: 0.0010\n",
      "Epoch 79/125\n",
      "699/699 [==============================] - ETA: 0s - loss: 0.6319 - accuracy: 0.9828\n",
      "Epoch 79: accuracy did not improve from 0.98376\n",
      "699/699 [==============================] - 82s 117ms/step - loss: 0.6319 - accuracy: 0.9828 - lr: 0.0010\n",
      "Epoch 80/125\n",
      "699/699 [==============================] - ETA: 0s - loss: 0.6143 - accuracy: 0.9845\n",
      "Epoch 80: accuracy improved from 0.98376 to 0.98452, saving model to model-03\n"
     ]
    },
    {
     "name": "stderr",
     "output_type": "stream",
     "text": [
      "WARNING:absl:Found untraced functions such as _jit_compiled_convolution_op, _jit_compiled_convolution_op, _jit_compiled_convolution_op, _jit_compiled_convolution_op, _jit_compiled_convolution_op while saving (showing 5 of 16). These functions will not be directly callable after loading.\n"
     ]
    },
    {
     "name": "stdout",
     "output_type": "stream",
     "text": [
      "INFO:tensorflow:Assets written to: model-03/assets\n"
     ]
    },
    {
     "name": "stderr",
     "output_type": "stream",
     "text": [
      "INFO:tensorflow:Assets written to: model-03/assets\n"
     ]
    },
    {
     "name": "stdout",
     "output_type": "stream",
     "text": [
      "699/699 [==============================] - 87s 124ms/step - loss: 0.6143 - accuracy: 0.9845 - lr: 0.0010\n",
      "Epoch 81/125\n",
      "699/699 [==============================] - ETA: 0s - loss: 0.6006 - accuracy: 0.9839\n",
      "Epoch 81: accuracy did not improve from 0.98452\n",
      "699/699 [==============================] - 82s 118ms/step - loss: 0.6006 - accuracy: 0.9839 - lr: 0.0010\n",
      "Epoch 82/125\n",
      "699/699 [==============================] - ETA: 0s - loss: 0.5860 - accuracy: 0.9834\n",
      "Epoch 82: accuracy did not improve from 0.98452\n",
      "699/699 [==============================] - 83s 118ms/step - loss: 0.5860 - accuracy: 0.9834 - lr: 0.0010\n",
      "Epoch 83/125\n",
      "699/699 [==============================] - ETA: 0s - loss: 0.5676 - accuracy: 0.9848\n",
      "Epoch 83: accuracy improved from 0.98452 to 0.98476, saving model to model-03\n"
     ]
    },
    {
     "name": "stderr",
     "output_type": "stream",
     "text": [
      "WARNING:absl:Found untraced functions such as _jit_compiled_convolution_op, _jit_compiled_convolution_op, _jit_compiled_convolution_op, _jit_compiled_convolution_op, _jit_compiled_convolution_op while saving (showing 5 of 16). These functions will not be directly callable after loading.\n"
     ]
    },
    {
     "name": "stdout",
     "output_type": "stream",
     "text": [
      "INFO:tensorflow:Assets written to: model-03/assets\n"
     ]
    },
    {
     "name": "stderr",
     "output_type": "stream",
     "text": [
      "INFO:tensorflow:Assets written to: model-03/assets\n"
     ]
    },
    {
     "name": "stdout",
     "output_type": "stream",
     "text": [
      "699/699 [==============================] - 88s 126ms/step - loss: 0.5676 - accuracy: 0.9848 - lr: 0.0010\n",
      "Epoch 84/125\n",
      "699/699 [==============================] - ETA: 0s - loss: 0.5512 - accuracy: 0.9858\n",
      "Epoch 84: accuracy improved from 0.98476 to 0.98577, saving model to model-03\n"
     ]
    },
    {
     "name": "stderr",
     "output_type": "stream",
     "text": [
      "WARNING:absl:Found untraced functions such as _jit_compiled_convolution_op, _jit_compiled_convolution_op, _jit_compiled_convolution_op, _jit_compiled_convolution_op, _jit_compiled_convolution_op while saving (showing 5 of 16). These functions will not be directly callable after loading.\n"
     ]
    },
    {
     "name": "stdout",
     "output_type": "stream",
     "text": [
      "INFO:tensorflow:Assets written to: model-03/assets\n"
     ]
    },
    {
     "name": "stderr",
     "output_type": "stream",
     "text": [
      "INFO:tensorflow:Assets written to: model-03/assets\n"
     ]
    },
    {
     "name": "stdout",
     "output_type": "stream",
     "text": [
      "699/699 [==============================] - 88s 125ms/step - loss: 0.5512 - accuracy: 0.9858 - lr: 0.0010\n",
      "Epoch 85/125\n",
      "699/699 [==============================] - ETA: 0s - loss: 0.5419 - accuracy: 0.9839\n",
      "Epoch 85: accuracy did not improve from 0.98577\n",
      "699/699 [==============================] - 82s 118ms/step - loss: 0.5419 - accuracy: 0.9839 - lr: 0.0010\n",
      "Epoch 86/125\n",
      "699/699 [==============================] - ETA: 0s - loss: 0.5271 - accuracy: 0.9847\n",
      "Epoch 86: accuracy did not improve from 0.98577\n",
      "699/699 [==============================] - 83s 119ms/step - loss: 0.5271 - accuracy: 0.9847 - lr: 0.0010\n",
      "Epoch 87/125\n",
      "699/699 [==============================] - ETA: 0s - loss: 0.5151 - accuracy: 0.9840\n",
      "Epoch 87: accuracy did not improve from 0.98577\n",
      "699/699 [==============================] - 83s 118ms/step - loss: 0.5151 - accuracy: 0.9840 - lr: 0.0010\n",
      "Epoch 88/125\n",
      "699/699 [==============================] - ETA: 0s - loss: 0.5002 - accuracy: 0.9851\n",
      "Epoch 88: accuracy did not improve from 0.98577\n",
      "699/699 [==============================] - 84s 120ms/step - loss: 0.5002 - accuracy: 0.9851 - lr: 0.0010\n",
      "Epoch 89/125\n",
      "699/699 [==============================] - ETA: 0s - loss: 0.4887 - accuracy: 0.9855\n",
      "Epoch 89: accuracy did not improve from 0.98577\n",
      "699/699 [==============================] - 84s 120ms/step - loss: 0.4887 - accuracy: 0.9855 - lr: 0.0010\n",
      "Epoch 90/125\n",
      "699/699 [==============================] - ETA: 0s - loss: 0.4765 - accuracy: 0.9853\n",
      "Epoch 90: accuracy did not improve from 0.98577\n",
      "699/699 [==============================] - 85s 122ms/step - loss: 0.4765 - accuracy: 0.9853 - lr: 0.0010\n",
      "Epoch 91/125\n",
      "699/699 [==============================] - ETA: 0s - loss: 0.4606 - accuracy: 0.9866\n",
      "Epoch 91: accuracy improved from 0.98577 to 0.98658, saving model to model-03\n"
     ]
    },
    {
     "name": "stderr",
     "output_type": "stream",
     "text": [
      "WARNING:absl:Found untraced functions such as _jit_compiled_convolution_op, _jit_compiled_convolution_op, _jit_compiled_convolution_op, _jit_compiled_convolution_op, _jit_compiled_convolution_op while saving (showing 5 of 16). These functions will not be directly callable after loading.\n"
     ]
    },
    {
     "name": "stdout",
     "output_type": "stream",
     "text": [
      "INFO:tensorflow:Assets written to: model-03/assets\n"
     ]
    },
    {
     "name": "stderr",
     "output_type": "stream",
     "text": [
      "INFO:tensorflow:Assets written to: model-03/assets\n"
     ]
    },
    {
     "name": "stdout",
     "output_type": "stream",
     "text": [
      "699/699 [==============================] - 88s 126ms/step - loss: 0.4606 - accuracy: 0.9866 - lr: 0.0010\n",
      "Epoch 92/125\n",
      "699/699 [==============================] - ETA: 0s - loss: 0.4533 - accuracy: 0.9850\n",
      "Epoch 92: accuracy did not improve from 0.98658\n",
      "699/699 [==============================] - 82s 117ms/step - loss: 0.4533 - accuracy: 0.9850 - lr: 0.0010\n",
      "Epoch 93/125\n",
      "699/699 [==============================] - ETA: 0s - loss: 0.4413 - accuracy: 0.9854\n",
      "Epoch 93: accuracy did not improve from 0.98658\n",
      "699/699 [==============================] - 83s 118ms/step - loss: 0.4413 - accuracy: 0.9854 - lr: 0.0010\n",
      "Epoch 94/125\n",
      "699/699 [==============================] - ETA: 0s - loss: 0.4285 - accuracy: 0.9864\n",
      "Epoch 94: accuracy did not improve from 0.98658\n",
      "699/699 [==============================] - 83s 119ms/step - loss: 0.4285 - accuracy: 0.9864 - lr: 0.0010\n",
      "Epoch 95/125\n",
      "699/699 [==============================] - ETA: 0s - loss: 0.4172 - accuracy: 0.9866\n",
      "Epoch 95: accuracy improved from 0.98658 to 0.98664, saving model to model-03\n"
     ]
    },
    {
     "name": "stderr",
     "output_type": "stream",
     "text": [
      "WARNING:absl:Found untraced functions such as _jit_compiled_convolution_op, _jit_compiled_convolution_op, _jit_compiled_convolution_op, _jit_compiled_convolution_op, _jit_compiled_convolution_op while saving (showing 5 of 16). These functions will not be directly callable after loading.\n"
     ]
    },
    {
     "name": "stdout",
     "output_type": "stream",
     "text": [
      "INFO:tensorflow:Assets written to: model-03/assets\n"
     ]
    },
    {
     "name": "stderr",
     "output_type": "stream",
     "text": [
      "INFO:tensorflow:Assets written to: model-03/assets\n"
     ]
    },
    {
     "name": "stdout",
     "output_type": "stream",
     "text": [
      "699/699 [==============================] - 87s 125ms/step - loss: 0.4172 - accuracy: 0.9866 - lr: 0.0010\n",
      "Epoch 96/125\n",
      "699/699 [==============================] - ETA: 0s - loss: 0.4074 - accuracy: 0.9864\n",
      "Epoch 96: accuracy did not improve from 0.98664\n",
      "699/699 [==============================] - 82s 117ms/step - loss: 0.4074 - accuracy: 0.9864 - lr: 0.0010\n",
      "Epoch 97/125\n",
      "699/699 [==============================] - ETA: 0s - loss: 0.3955 - accuracy: 0.9868\n",
      "Epoch 97: accuracy improved from 0.98664 to 0.98682, saving model to model-03\n"
     ]
    },
    {
     "name": "stderr",
     "output_type": "stream",
     "text": [
      "WARNING:absl:Found untraced functions such as _jit_compiled_convolution_op, _jit_compiled_convolution_op, _jit_compiled_convolution_op, _jit_compiled_convolution_op, _jit_compiled_convolution_op while saving (showing 5 of 16). These functions will not be directly callable after loading.\n"
     ]
    },
    {
     "name": "stdout",
     "output_type": "stream",
     "text": [
      "INFO:tensorflow:Assets written to: model-03/assets\n"
     ]
    },
    {
     "name": "stderr",
     "output_type": "stream",
     "text": [
      "INFO:tensorflow:Assets written to: model-03/assets\n"
     ]
    },
    {
     "name": "stdout",
     "output_type": "stream",
     "text": [
      "699/699 [==============================] - 87s 124ms/step - loss: 0.3955 - accuracy: 0.9868 - lr: 0.0010\n",
      "Epoch 98/125\n",
      "699/699 [==============================] - ETA: 0s - loss: 0.3878 - accuracy: 0.9863\n",
      "Epoch 98: accuracy did not improve from 0.98682\n",
      "699/699 [==============================] - 83s 119ms/step - loss: 0.3878 - accuracy: 0.9863 - lr: 0.0010\n",
      "Epoch 99/125\n",
      "699/699 [==============================] - ETA: 0s - loss: 0.3805 - accuracy: 0.9861\n",
      "Epoch 99: accuracy did not improve from 0.98682\n",
      "699/699 [==============================] - 83s 119ms/step - loss: 0.3805 - accuracy: 0.9861 - lr: 0.0010\n",
      "Epoch 100/125\n",
      "699/699 [==============================] - ETA: 0s - loss: 0.3684 - accuracy: 0.9865\n",
      "Epoch 100: accuracy did not improve from 0.98682\n",
      "699/699 [==============================] - 83s 119ms/step - loss: 0.3684 - accuracy: 0.9865 - lr: 0.0010\n",
      "Epoch 101/125\n",
      "699/699 [==============================] - ETA: 0s - loss: 0.3617 - accuracy: 0.9866\n",
      "Epoch 101: accuracy did not improve from 0.98682\n",
      "699/699 [==============================] - 83s 118ms/step - loss: 0.3617 - accuracy: 0.9866 - lr: 0.0010\n",
      "Epoch 102/125\n",
      "699/699 [==============================] - ETA: 0s - loss: 0.3527 - accuracy: 0.9858\n",
      "Epoch 102: accuracy did not improve from 0.98682\n",
      "699/699 [==============================] - 83s 118ms/step - loss: 0.3527 - accuracy: 0.9858 - lr: 0.0010\n",
      "Epoch 103/125\n",
      "699/699 [==============================] - ETA: 0s - loss: 0.3422 - accuracy: 0.9873\n",
      "Epoch 103: accuracy improved from 0.98682 to 0.98729, saving model to model-03\n"
     ]
    },
    {
     "name": "stderr",
     "output_type": "stream",
     "text": [
      "WARNING:absl:Found untraced functions such as _jit_compiled_convolution_op, _jit_compiled_convolution_op, _jit_compiled_convolution_op, _jit_compiled_convolution_op, _jit_compiled_convolution_op while saving (showing 5 of 16). These functions will not be directly callable after loading.\n"
     ]
    },
    {
     "name": "stdout",
     "output_type": "stream",
     "text": [
      "INFO:tensorflow:Assets written to: model-03/assets\n"
     ]
    },
    {
     "name": "stderr",
     "output_type": "stream",
     "text": [
      "INFO:tensorflow:Assets written to: model-03/assets\n"
     ]
    },
    {
     "name": "stdout",
     "output_type": "stream",
     "text": [
      "699/699 [==============================] - 88s 125ms/step - loss: 0.3422 - accuracy: 0.9873 - lr: 0.0010\n",
      "Epoch 104/125\n",
      "699/699 [==============================] - ETA: 0s - loss: 0.3348 - accuracy: 0.9864\n",
      "Epoch 104: accuracy did not improve from 0.98729\n",
      "699/699 [==============================] - 83s 118ms/step - loss: 0.3348 - accuracy: 0.9864 - lr: 0.0010\n",
      "Epoch 105/125\n",
      "699/699 [==============================] - ETA: 0s - loss: 0.3271 - accuracy: 0.9866\n",
      "Epoch 105: accuracy did not improve from 0.98729\n",
      "699/699 [==============================] - 83s 119ms/step - loss: 0.3271 - accuracy: 0.9866 - lr: 0.0010\n",
      "Epoch 106/125\n",
      "699/699 [==============================] - ETA: 0s - loss: 0.3160 - accuracy: 0.9878\n",
      "Epoch 106: accuracy improved from 0.98729 to 0.98778, saving model to model-03\n"
     ]
    },
    {
     "name": "stderr",
     "output_type": "stream",
     "text": [
      "WARNING:absl:Found untraced functions such as _jit_compiled_convolution_op, _jit_compiled_convolution_op, _jit_compiled_convolution_op, _jit_compiled_convolution_op, _jit_compiled_convolution_op while saving (showing 5 of 16). These functions will not be directly callable after loading.\n"
     ]
    },
    {
     "name": "stdout",
     "output_type": "stream",
     "text": [
      "INFO:tensorflow:Assets written to: model-03/assets\n"
     ]
    },
    {
     "name": "stderr",
     "output_type": "stream",
     "text": [
      "INFO:tensorflow:Assets written to: model-03/assets\n"
     ]
    },
    {
     "name": "stdout",
     "output_type": "stream",
     "text": [
      "699/699 [==============================] - 88s 126ms/step - loss: 0.3160 - accuracy: 0.9878 - lr: 0.0010\n",
      "Epoch 107/125\n",
      "699/699 [==============================] - ETA: 0s - loss: 0.3133 - accuracy: 0.9862\n",
      "Epoch 107: accuracy did not improve from 0.98778\n",
      "699/699 [==============================] - 83s 118ms/step - loss: 0.3133 - accuracy: 0.9862 - lr: 0.0010\n",
      "Epoch 108/125\n",
      "699/699 [==============================] - ETA: 0s - loss: 0.3023 - accuracy: 0.9872\n",
      "Epoch 108: accuracy did not improve from 0.98778\n",
      "699/699 [==============================] - 84s 120ms/step - loss: 0.3023 - accuracy: 0.9872 - lr: 0.0010\n",
      "Epoch 109/125\n",
      "699/699 [==============================] - ETA: 0s - loss: 0.2948 - accuracy: 0.9872\n",
      "Epoch 109: accuracy did not improve from 0.98778\n",
      "699/699 [==============================] - 83s 119ms/step - loss: 0.2948 - accuracy: 0.9872 - lr: 0.0010\n",
      "Epoch 110/125\n",
      "699/699 [==============================] - ETA: 0s - loss: 0.2890 - accuracy: 0.9867\n",
      "Epoch 110: accuracy did not improve from 0.98778\n",
      "699/699 [==============================] - 83s 119ms/step - loss: 0.2890 - accuracy: 0.9867 - lr: 0.0010\n",
      "Epoch 111/125\n",
      "699/699 [==============================] - ETA: 0s - loss: 0.2825 - accuracy: 0.9868\n",
      "Epoch 111: accuracy did not improve from 0.98778\n",
      "699/699 [==============================] - 84s 120ms/step - loss: 0.2825 - accuracy: 0.9868 - lr: 0.0010\n",
      "Epoch 112/125\n",
      "699/699 [==============================] - ETA: 0s - loss: 0.2762 - accuracy: 0.9867\n",
      "Epoch 112: accuracy did not improve from 0.98778\n",
      "699/699 [==============================] - 83s 119ms/step - loss: 0.2762 - accuracy: 0.9867 - lr: 0.0010\n",
      "Epoch 113/125\n",
      "699/699 [==============================] - ETA: 0s - loss: 0.2652 - accuracy: 0.9892\n",
      "Epoch 113: accuracy improved from 0.98778 to 0.98924, saving model to model-03\n"
     ]
    },
    {
     "name": "stderr",
     "output_type": "stream",
     "text": [
      "WARNING:absl:Found untraced functions such as _jit_compiled_convolution_op, _jit_compiled_convolution_op, _jit_compiled_convolution_op, _jit_compiled_convolution_op, _jit_compiled_convolution_op while saving (showing 5 of 16). These functions will not be directly callable after loading.\n"
     ]
    },
    {
     "name": "stdout",
     "output_type": "stream",
     "text": [
      "INFO:tensorflow:Assets written to: model-03/assets\n"
     ]
    },
    {
     "name": "stderr",
     "output_type": "stream",
     "text": [
      "INFO:tensorflow:Assets written to: model-03/assets\n"
     ]
    },
    {
     "name": "stdout",
     "output_type": "stream",
     "text": [
      "699/699 [==============================] - 89s 127ms/step - loss: 0.2652 - accuracy: 0.9892 - lr: 0.0010\n",
      "Epoch 114/125\n",
      "699/699 [==============================] - ETA: 0s - loss: 0.2636 - accuracy: 0.9873\n",
      "Epoch 114: accuracy did not improve from 0.98924\n",
      "699/699 [==============================] - 84s 120ms/step - loss: 0.2636 - accuracy: 0.9873 - lr: 0.0010\n",
      "Epoch 115/125\n",
      "699/699 [==============================] - ETA: 0s - loss: 0.2559 - accuracy: 0.9881\n",
      "Epoch 115: accuracy did not improve from 0.98924\n",
      "699/699 [==============================] - 84s 120ms/step - loss: 0.2559 - accuracy: 0.9881 - lr: 0.0010\n",
      "Epoch 116/125\n",
      "699/699 [==============================] - ETA: 0s - loss: 0.2489 - accuracy: 0.9881\n",
      "Epoch 116: accuracy did not improve from 0.98924\n",
      "699/699 [==============================] - 84s 120ms/step - loss: 0.2489 - accuracy: 0.9881 - lr: 0.0010\n",
      "Epoch 117/125\n",
      "699/699 [==============================] - ETA: 0s - loss: 0.2442 - accuracy: 0.9883\n",
      "Epoch 117: accuracy did not improve from 0.98924\n",
      "699/699 [==============================] - 83s 119ms/step - loss: 0.2442 - accuracy: 0.9883 - lr: 0.0010\n",
      "Epoch 118/125\n",
      "699/699 [==============================] - ETA: 0s - loss: 0.2385 - accuracy: 0.9878\n",
      "Epoch 118: accuracy did not improve from 0.98924\n",
      "699/699 [==============================] - 84s 120ms/step - loss: 0.2385 - accuracy: 0.9878 - lr: 0.0010\n",
      "Epoch 119/125\n",
      "699/699 [==============================] - ETA: 0s - loss: 0.2319 - accuracy: 0.9882\n",
      "Epoch 119: accuracy did not improve from 0.98924\n",
      "699/699 [==============================] - 84s 120ms/step - loss: 0.2319 - accuracy: 0.9882 - lr: 0.0010\n",
      "Epoch 120/125\n",
      "699/699 [==============================] - ETA: 0s - loss: 0.2267 - accuracy: 0.9887\n",
      "Epoch 120: accuracy did not improve from 0.98924\n",
      "699/699 [==============================] - 85s 121ms/step - loss: 0.2267 - accuracy: 0.9887 - lr: 0.0010\n",
      "Epoch 121/125\n",
      "699/699 [==============================] - ETA: 0s - loss: 0.2223 - accuracy: 0.9880\n",
      "Epoch 121: accuracy did not improve from 0.98924\n",
      "699/699 [==============================] - 83s 119ms/step - loss: 0.2223 - accuracy: 0.9880 - lr: 0.0010\n",
      "Epoch 122/125\n",
      "699/699 [==============================] - ETA: 0s - loss: 0.2184 - accuracy: 0.9874\n",
      "Epoch 122: accuracy did not improve from 0.98924\n",
      "699/699 [==============================] - 83s 119ms/step - loss: 0.2184 - accuracy: 0.9874 - lr: 0.0010\n",
      "Epoch 123/125\n",
      "699/699 [==============================] - ETA: 0s - loss: 0.2121 - accuracy: 0.9881\n",
      "Epoch 123: accuracy did not improve from 0.98924\n",
      "699/699 [==============================] - 84s 120ms/step - loss: 0.2121 - accuracy: 0.9881 - lr: 0.0010\n",
      "Epoch 124/125\n",
      "699/699 [==============================] - ETA: 0s - loss: 0.2070 - accuracy: 0.9885\n",
      "Epoch 124: accuracy did not improve from 0.98924\n",
      "699/699 [==============================] - 84s 120ms/step - loss: 0.2070 - accuracy: 0.9885 - lr: 0.0010\n",
      "Epoch 125/125\n",
      "699/699 [==============================] - ETA: 0s - loss: 0.2011 - accuracy: 0.9883\n",
      "Epoch 125: accuracy did not improve from 0.98924\n",
      "699/699 [==============================] - 83s 119ms/step - loss: 0.2011 - accuracy: 0.9883 - lr: 0.0010\n"
     ]
    }
   ],
   "source": [
    "## EJECUCION DEL MODELO\n",
    "# with tf.device(\"/CPU:0\"):\n",
    "# with tf.device(\"/GPU:0\"):\n",
    "model.compile(loss=\"categorical_crossentropy\", \n",
    "              optimizer= SGD(learning_rate=0.001),\n",
    "              metrics=['accuracy'])\n",
    "\n",
    "#Agregamos un callback\n",
    "from tensorflow.keras.callbacks import ModelCheckpoint\n",
    "from tensorflow.keras.callbacks import ReduceLROnPlateau\n",
    "\n",
    "checkpointer = ModelCheckpoint(filepath='model-03', verbose=1, save_best_only=True,\n",
    "                               monitor = 'accuracy', mode = 'max')\n",
    "reduce_lr = ReduceLROnPlateau(monitor='loss', factor=0.2,\n",
    "                              patience=3, min_lr=0.000001)\n",
    "\n",
    "history= model.fit(train_generator, callbacks = [reduce_lr, checkpointer], epochs=epochs)"
   ]
  },
  {
   "cell_type": "code",
   "execution_count": 13,
   "id": "7f2bdaef-cd4d-4293-a9d6-96ff42a472f9",
   "metadata": {},
   "outputs": [
    {
     "name": "stdout",
     "output_type": "stream",
     "text": [
      "234/234 [==============================] - 28s 120ms/step\n"
     ]
    }
   ],
   "source": [
    "preds_test = model.predict(test_generator)"
   ]
  },
  {
   "cell_type": "code",
   "execution_count": 14,
   "id": "49f96094-7a88-42fe-ad44-8530de26456e",
   "metadata": {},
   "outputs": [
    {
     "name": "stdout",
     "output_type": "stream",
     "text": [
      "234/234 [==============================] - 28s 119ms/step - loss: 0.2103 - accuracy: 0.9855\n"
     ]
    }
   ],
   "source": [
    "evaluate_test = model.evaluate(test_generator)"
   ]
  },
  {
   "cell_type": "code",
   "execution_count": 15,
   "id": "730f6466-b483-483e-b16c-1dde5da34648",
   "metadata": {},
   "outputs": [
    {
     "data": {
      "text/plain": [
       "[0.21026946604251862, 0.9854567646980286]"
      ]
     },
     "execution_count": 15,
     "metadata": {},
     "output_type": "execute_result"
    }
   ],
   "source": [
    "evaluate_test"
   ]
  },
  {
   "cell_type": "code",
   "execution_count": 16,
   "id": "71fc2b80-aa9e-4fa3-b8d9-25f732de5c86",
   "metadata": {},
   "outputs": [
    {
     "data": {
      "text/plain": [
       "array([ 2,  0, 18, ..., 23, 23, 23])"
      ]
     },
     "execution_count": 16,
     "metadata": {},
     "output_type": "execute_result"
    }
   ],
   "source": [
    "y_preds_test = np.array([np.argmax(x) for x in preds_test])\n",
    "y_preds_test"
   ]
  },
  {
   "cell_type": "code",
   "execution_count": 17,
   "id": "eb480175-6c03-4201-806c-fb8a27b96984",
   "metadata": {},
   "outputs": [
    {
     "data": {
      "text/plain": [
       "array([ 0,  0,  0, ..., 23, 23, 23], dtype=int32)"
      ]
     },
     "execution_count": 17,
     "metadata": {},
     "output_type": "execute_result"
    }
   ],
   "source": [
    "y_real_test = test_generator.classes\n",
    "y_real_test"
   ]
  },
  {
   "cell_type": "code",
   "execution_count": 18,
   "id": "95f69712-fd40-43cf-90d2-9b0a1bafca00",
   "metadata": {},
   "outputs": [
    {
     "data": {
      "text/plain": [
       "0.9835801889953757"
      ]
     },
     "execution_count": 18,
     "metadata": {},
     "output_type": "execute_result"
    }
   ],
   "source": [
    "accuracy_test = accuracy_score(y_real_test, y_preds_test)\n",
    "accuracy_test"
   ]
  },
  {
   "cell_type": "code",
   "execution_count": 19,
   "id": "4b0f6dec-7952-41d6-bc7c-e585cd11d7de",
   "metadata": {},
   "outputs": [
    {
     "data": {
      "text/plain": [
       "array([[612,   1,   1,   0,   1,   0,   0,   0,   0,   0,   0,   3,   0,\n",
       "          0,   0,   0,   0,   0,   1,   0,   0,   0,   0,   1],\n",
       "       [  1, 620,   0,   0,   1,   0,   0,   0,   0,   0,   0,   0,   0,\n",
       "          0,   0,   0,   0,   0,   0,   1,   0,   0,   0,   0],\n",
       "       [  0,   0, 632,   0,   0,   0,   0,   0,   0,   0,   0,   0,   0,\n",
       "          0,   0,   0,   0,   0,   0,   0,   1,   0,   0,   0],\n",
       "       [  0,   1,   3, 613,   0,   0,   0,   0,   1,   0,   0,   0,   0,\n",
       "          1,   0,   0,   1,   0,   0,   1,   1,   0,   0,   0],\n",
       "       [  1,   4,   0,   1, 628,   0,   0,   0,   0,   0,   0,   0,   1,\n",
       "          0,   0,   0,   1,   0,   1,   0,   0,   0,   0,   0],\n",
       "       [  0,   1,   0,   0,   1, 615,   0,   0,   1,   1,   0,   0,   1,\n",
       "          1,   0,   0,   2,   0,   0,   0,   0,   0,   1,   0],\n",
       "       [  0,   0,   0,   0,   1,   1, 614,   0,   0,   0,   0,   0,   0,\n",
       "          0,   0,   0,   3,   1,   0,   0,   1,   1,   0,   1],\n",
       "       [  0,   0,   0,   0,   0,   2,   1, 616,   0,   1,   0,   0,   0,\n",
       "          0,   0,   0,   1,   0,   0,   0,   0,   0,   0,   0],\n",
       "       [  1,   1,   0,   0,   3,   2,   0,   0, 608,   0,   0,   0,   1,\n",
       "          0,   0,   0,   2,   0,   0,   0,   1,   1,   0,   2],\n",
       "       [  1,   0,   0,   1,   0,   1,   0,   0,   0, 597,   0,   0,   0,\n",
       "          0,   0,   0,   5,   0,   0,   0,  15,   2,   0,   0],\n",
       "       [  1,   0,   0,   0,   0,   0,   0,   0,   0,   0, 616,   0,   0,\n",
       "          0,   0,   0,   0,   1,   1,   1,   0,   0,   0,   1],\n",
       "       [  0,   3,   0,   0,   0,   0,   0,   0,   0,   0,   0, 614,   3,\n",
       "          1,   0,   0,   0,   0,   0,   0,   0,   0,   0,   0],\n",
       "       [  0,   0,   0,   0,   0,   0,   0,   0,   1,   0,   0,   7, 611,\n",
       "          0,   0,   0,   0,   0,   0,   0,   0,   1,   0,   0],\n",
       "       [  1,   0,   2,   0,   0,   0,   0,   0,   0,   0,   0,   0,   0,\n",
       "        618,   0,   0,   0,   0,   0,   2,   0,   0,   0,   0],\n",
       "       [  0,   0,   0,   0,   0,   0,   1,   1,   0,   0,   0,   0,   0,\n",
       "          0, 612,   9,   1,   0,   0,   0,   0,   0,   0,   0],\n",
       "       [  0,   0,   0,   0,   0,   0,   0,   1,   0,   0,   0,   0,   1,\n",
       "          0,   0, 619,   0,   0,   0,   0,   0,   0,   0,   0],\n",
       "       [  0,   0,   0,   0,   0,   0,   1,   1,   0,   1,   0,   0,   0,\n",
       "          0,   0,   0, 602,   0,   0,   6,   5,   2,   1,   0],\n",
       "       [  3,   0,   0,   0,   1,   0,   1,   0,   0,   0,   1,   0,   0,\n",
       "          1,   0,   1,   0, 599,   3,   1,   3,   0,   2,   1],\n",
       "       [  3,   0,   0,   0,   1,   0,   0,   0,   0,   0,   4,   1,   0,\n",
       "          0,   0,   0,   0,   1, 608,   0,   0,   0,   0,   0],\n",
       "       [  0,   1,   0,   0,   0,   0,   0,   0,   0,   0,   0,   0,   0,\n",
       "          0,   0,   0,   7,   0,   1, 595,  10,   1,   3,   0],\n",
       "       [  0,   0,   0,   0,   0,   0,   0,   0,   0,   1,   0,   1,   0,\n",
       "          0,   0,   0,   3,   0,   0,   1, 605,   6,   1,   0],\n",
       "       [  0,   0,   1,   0,   0,   0,   0,   0,   0,   0,   0,   1,   0,\n",
       "          0,   0,   0,   1,   1,   0,   1,   4, 609,   0,   0],\n",
       "       [  2,   0,   0,   0,   1,   0,   0,   0,   0,   0,   0,   0,   0,\n",
       "          0,   0,   0,   2,   4,   0,   5,   2,   0, 600,   1],\n",
       "       [  1,   0,   0,   0,   0,   0,   0,   0,   0,   0,   0,   0,   0,\n",
       "          0,   0,   1,   0,   1,   1,   0,   0,   0,   2, 613]])"
      ]
     },
     "execution_count": 19,
     "metadata": {},
     "output_type": "execute_result"
    }
   ],
   "source": [
    "cm_test = confusion_matrix(y_real_test, y_preds_test)\n",
    "cm_test"
   ]
  },
  {
   "cell_type": "code",
   "execution_count": 20,
   "id": "4cb535b8-028f-477e-b03f-8783b3a13096",
   "metadata": {},
   "outputs": [
    {
     "data": {
      "image/png": "[encoded data removed]",
      "text/plain": [
       "<Figure size 800x600 with 2 Axes>"
      ]
     },
     "metadata": {},
     "output_type": "display_data"
    }
   ],
   "source": [
    "plt.figure(figsize=(8,6), dpi=100)\n",
    "# Scale up the size of all text\n",
    "sns.set(font_scale = 1.1)\n",
    "\n",
    "# Plot Confusion Matrix using Seaborn heatmap()\n",
    "# Parameters:\n",
    "# first param - confusion matrix in array format   \n",
    "# annot = True: show the numbers in each heatmap cell\n",
    "# fmt = 'd': show numbers as integers. \n",
    "ax = sns.heatmap(cm_test, annot=True, fmt='d', )\n",
    "\n",
    "# set x-axis label and ticks. \n",
    "ax.set_xlabel(\"Predicted Diagnosis\", fontsize=14, labelpad=20)\n",
    "# ax.xaxis.set_ticklabels(['Negative', 'Positive'])\n",
    "\n",
    "# set y-axis label and ticks\n",
    "ax.set_ylabel(\"Actual Diagnosis\", fontsize=14, labelpad=20)\n",
    "# ax.yaxis.set_ticklabels(['Negative', 'Positive'])\n",
    "\n",
    "# set plot title\n",
    "ax.set_title(\"Confusion Matrix for the Diabetes Detection Model\", fontsize=14, pad=20)\n",
    "\n",
    "plt.show()"
   ]
  },
  {
   "cell_type": "code",
   "execution_count": 21,
   "id": "b503eb1a-81ed-4078-b596-278249a3c722",
   "metadata": {},
   "outputs": [
    {
     "name": "stdout",
     "output_type": "stream",
     "text": [
      "233/233 [==============================] - 28s 120ms/step\n"
     ]
    }
   ],
   "source": [
    "preds_val = model.predict(valid_generator)"
   ]
  },
  {
   "cell_type": "code",
   "execution_count": 22,
   "id": "1fb77fb4-bdbf-4929-b30b-f90ab9aa55eb",
   "metadata": {},
   "outputs": [
    {
     "name": "stdout",
     "output_type": "stream",
     "text": [
      "233/233 [==============================] - 27s 117ms/step - loss: 0.2028 - accuracy: 0.9878\n"
     ]
    }
   ],
   "source": [
    "evaluate_val = model.evaluate(valid_generator)"
   ]
  },
  {
   "cell_type": "code",
   "execution_count": 23,
   "id": "d3a2be82-fc27-446d-be97-ef39329a1385",
   "metadata": {},
   "outputs": [
    {
     "data": {
      "text/plain": [
       "[0.20284588634967804, 0.9877786636352539]"
      ]
     },
     "execution_count": 23,
     "metadata": {},
     "output_type": "execute_result"
    }
   ],
   "source": [
    "evaluate_val"
   ]
  },
  {
   "cell_type": "code",
   "execution_count": 24,
   "id": "d17f5e3f-c58f-4ff5-86d8-961dde74325c",
   "metadata": {},
   "outputs": [
    {
     "data": {
      "text/plain": [
       "array([ 0,  1,  0, ..., 23, 23, 23])"
      ]
     },
     "execution_count": 24,
     "metadata": {},
     "output_type": "execute_result"
    }
   ],
   "source": [
    "y_preds_val = np.array([np.argmax(x) for x in preds_val])\n",
    "y_preds_val"
   ]
  },
  {
   "cell_type": "code",
   "execution_count": 25,
   "id": "7a7cd9d7-3192-4e04-a0a1-693ca99d1037",
   "metadata": {},
   "outputs": [
    {
     "data": {
      "text/plain": [
       "array([ 0,  0,  0, ..., 23, 23, 23], dtype=int32)"
      ]
     },
     "execution_count": 25,
     "metadata": {},
     "output_type": "execute_result"
    }
   ],
   "source": [
    "y_real_val = valid_generator.classes\n",
    "y_real_val"
   ]
  },
  {
   "cell_type": "code",
   "execution_count": 26,
   "id": "67e7aded-e874-41a0-981d-4de4720b27ad",
   "metadata": {},
   "outputs": [
    {
     "data": {
      "text/plain": [
       "0.986972871340317"
      ]
     },
     "execution_count": 26,
     "metadata": {},
     "output_type": "execute_result"
    }
   ],
   "source": [
    "accuracy_val = accuracy_score(y_real_val, y_preds_val)\n",
    "accuracy_val"
   ]
  },
  {
   "cell_type": "code",
   "execution_count": 27,
   "id": "c3459eff-7df8-47b2-986a-2beab8ac51e1",
   "metadata": {},
   "outputs": [
    {
     "data": {
      "text/plain": [
       "array([[614,   1,   2,   0,   1,   0,   0,   0,   0,   0,   0,   0,   0,\n",
       "          0,   0,   0,   0,   0,   0,   0,   0,   0,   0,   0],\n",
       "       [  1, 617,   0,   0,   0,   0,   0,   0,   0,   0,   0,   0,   0,\n",
       "          0,   0,   0,   2,   0,   0,   1,   0,   0,   0,   0],\n",
       "       [  1,   1, 628,   0,   1,   0,   0,   0,   0,   0,   0,   0,   1,\n",
       "          0,   0,   0,   0,   0,   0,   0,   0,   0,   0,   0],\n",
       "       [  1,   0,   2, 611,   1,   0,   0,   0,   1,   1,   0,   0,   0,\n",
       "          1,   0,   0,   1,   0,   0,   0,   1,   0,   0,   0],\n",
       "       [  4,   3,   1,   0, 624,   0,   0,   0,   0,   0,   0,   1,   1,\n",
       "          1,   0,   0,   1,   0,   0,   1,   0,   0,   0,   0],\n",
       "       [  0,   0,   0,   0,   0, 618,   0,   0,   0,   0,   0,   0,   0,\n",
       "          0,   0,   0,   1,   0,   0,   0,   1,   2,   0,   0],\n",
       "       [  0,   0,   0,   0,   0,   0, 615,   4,   0,   0,   0,   0,   0,\n",
       "          0,   0,   2,   0,   0,   0,   0,   2,   0,   0,   0],\n",
       "       [  0,   0,   0,   0,   0,   0,   3, 615,   0,   0,   0,   0,   0,\n",
       "          0,   0,   1,   1,   0,   0,   0,   0,   0,   0,   0],\n",
       "       [  0,   1,   1,   2,   5,   0,   1,   0, 603,   0,   0,   2,   0,\n",
       "          0,   0,   0,   3,   0,   0,   0,   0,   1,   1,   0],\n",
       "       [  0,   0,   0,   0,   0,   0,   0,   0,   0, 605,   0,   0,   0,\n",
       "          0,   0,   0,   3,   0,   0,   1,  10,   1,   0,   0],\n",
       "       [  0,   0,   0,   0,   0,   0,   0,   0,   0,   1, 618,   0,   0,\n",
       "          0,   0,   0,   0,   0,   1,   0,   0,   0,   0,   0],\n",
       "       [  2,   0,   0,   0,   0,   0,   0,   0,   0,   0,   0, 612,   5,\n",
       "          0,   0,   0,   0,   0,   0,   1,   0,   0,   0,   0],\n",
       "       [  0,   0,   0,   0,   0,   0,   0,   0,   0,   0,   0,   9, 610,\n",
       "          0,   0,   0,   0,   0,   0,   0,   0,   0,   0,   0],\n",
       "       [  0,   0,   1,   0,   0,   0,   0,   0,   0,   0,   0,   0,   0,\n",
       "        621,   0,   0,   0,   0,   1,   0,   0,   0,   0,   0],\n",
       "       [  0,   0,   0,   0,   0,   0,   0,   5,   0,   0,   0,   0,   0,\n",
       "          0, 615,   3,   0,   0,   0,   0,   0,   0,   0,   0],\n",
       "       [  0,   0,   0,   0,   0,   0,   0,   0,   0,   0,   0,   0,   0,\n",
       "          0,   0, 619,   0,   0,   0,   0,   0,   0,   0,   0],\n",
       "       [  0,   0,   0,   0,   0,   0,   0,   0,   0,   1,   0,   0,   0,\n",
       "          0,   0,   0, 605,   2,   0,   5,   4,   2,   0,   0],\n",
       "       [  0,   0,   0,   0,   1,   0,   0,   0,   0,   0,   0,   2,   0,\n",
       "          1,   0,   0,   2, 602,   1,   0,   1,   0,   5,   1],\n",
       "       [  0,   0,   0,   0,   0,   0,   0,   0,   0,   0,   1,   1,   1,\n",
       "          0,   0,   0,   0,   2, 612,   0,   0,   0,   0,   0],\n",
       "       [  0,   1,   0,   0,   0,   0,   0,   0,   0,   0,   1,   0,   0,\n",
       "          1,   0,   0,  11,   1,   0, 596,   6,   0,   0,   0],\n",
       "       [  0,   0,   0,   0,   0,   0,   0,   0,   0,   1,   0,   0,   0,\n",
       "          0,   0,   0,   1,   0,   0,   3, 609,   2,   1,   0],\n",
       "       [  0,   0,   0,   0,   0,   0,   0,   0,   0,   1,   0,   0,   0,\n",
       "          0,   0,   0,   1,   0,   0,   1,   3, 609,   1,   0],\n",
       "       [  0,   0,   0,   0,   0,   0,   0,   0,   0,   1,   1,   0,   0,\n",
       "          1,   0,   0,   1,   1,   0,   4,   1,   0, 605,   1],\n",
       "       [  0,   0,   0,   0,   0,   0,   0,   0,   0,   0,   0,   0,   0,\n",
       "          0,   0,   0,   0,   0,   1,   0,   0,   0,   1, 615]])"
      ]
     },
     "execution_count": 27,
     "metadata": {},
     "output_type": "execute_result"
    }
   ],
   "source": [
    "cm_val = confusion_matrix(y_real_val, y_preds_val)\n",
    "cm_val"
   ]
  },
  {
   "cell_type": "code",
   "execution_count": 28,
   "id": "d9806965-fb2e-4044-af24-af216719e719",
   "metadata": {},
   "outputs": [
    {
     "data": {
      "image/png": "[encoded data removed]",
      "text/plain": [
       "<Figure size 800x600 with 2 Axes>"
      ]
     },
     "metadata": {},
     "output_type": "display_data"
    }
   ],
   "source": [
    "plt.figure(figsize=(8,6), dpi=100)\n",
    "# Scale up the size of all text\n",
    "sns.set(font_scale = 1.1)\n",
    "\n",
    "# Plot Confusion Matrix using Seaborn heatmap()\n",
    "# Parameters:\n",
    "# first param - confusion matrix in array format   \n",
    "# annot = True: show the numbers in each heatmap cell\n",
    "# fmt = 'd': show numbers as integers. \n",
    "ax = sns.heatmap(cm_val, annot=True, fmt='d', )\n",
    "\n",
    "# set x-axis label and ticks. \n",
    "ax.set_xlabel(\"Predicted Diagnosis\", fontsize=14, labelpad=20)\n",
    "# ax.xaxis.set_ticklabels(['Negative', 'Positive'])\n",
    "\n",
    "# set y-axis label and ticks\n",
    "ax.set_ylabel(\"Actual Diagnosis\", fontsize=14, labelpad=20)\n",
    "# ax.yaxis.set_ticklabels(['Negative', 'Positive'])\n",
    "\n",
    "# set plot title\n",
    "ax.set_title(\"Confusion Matrix for the Diabetes Detection Model\", fontsize=14, pad=20)\n",
    "\n",
    "plt.show()"
   ]
  }
 ],
 "metadata": {
  "kernelspec": {
   "display_name": "TensorFlow 2.11 (Local)",
   "language": "python",
   "name": "local-tf2-2-11"
  },
  "language_info": {
   "codemirror_mode": {
    "name": "ipython",
    "version": 3
   },
   "file_extension": ".py",
   "mimetype": "text/x-python",
   "name": "python",
   "nbconvert_exporter": "python",
   "pygments_lexer": "ipython3",
   "version": "3.7.12"
  }
 },
 "nbformat": 4,
 "nbformat_minor": 5
}

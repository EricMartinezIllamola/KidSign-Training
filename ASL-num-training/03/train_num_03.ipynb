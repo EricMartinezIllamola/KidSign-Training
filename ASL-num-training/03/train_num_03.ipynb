{
 "cells": [
  {
   "cell_type": "code",
   "execution_count": 1,
   "id": "cabbedb0-cdf5-4873-b294-64c330b205de",
   "metadata": {},
   "outputs": [
    {
     "name": "stderr",
     "output_type": "stream",
     "text": [
      "2023-09-10 18:02:22.221949: I tensorflow/core/platform/cpu_feature_guard.cc:193] This TensorFlow binary is optimized with oneAPI Deep Neural Network Library (oneDNN) to use the following CPU instructions in performance-critical operations:  AVX2 FMA\n",
      "To enable them in other operations, rebuild TensorFlow with the appropriate compiler flags.\n",
      "2023-09-10 18:02:22.406027: E tensorflow/stream_executor/cuda/cuda_blas.cc:2981] Unable to register cuBLAS factory: Attempting to register factory for plugin cuBLAS when one has already been registered\n",
      "2023-09-10 18:02:25.580661: W tensorflow/stream_executor/platform/default/dso_loader.cc:64] Could not load dynamic library 'libnvinfer.so.7'; dlerror: libnvinfer.so.7: cannot open shared object file: No such file or directory; LD_LIBRARY_PATH: /usr/local/cuda/lib64:/usr/local/cuda/lib:/usr/local/lib/x86_64-linux-gnu:/usr/local/nvidia/lib:/usr/local/nvidia/lib64:/usr/local/nvidia/lib:/usr/local/nvidia/lib64\n",
      "2023-09-10 18:02:25.580839: W tensorflow/stream_executor/platform/default/dso_loader.cc:64] Could not load dynamic library 'libnvinfer_plugin.so.7'; dlerror: libnvinfer_plugin.so.7: cannot open shared object file: No such file or directory; LD_LIBRARY_PATH: /usr/local/cuda/lib64:/usr/local/cuda/lib:/usr/local/lib/x86_64-linux-gnu:/usr/local/nvidia/lib:/usr/local/nvidia/lib64:/usr/local/nvidia/lib:/usr/local/nvidia/lib64\n",
      "2023-09-10 18:02:25.580854: W tensorflow/compiler/tf2tensorrt/utils/py_utils.cc:38] TF-TRT Warning: Cannot dlopen some TensorRT libraries. If you would like to use Nvidia GPU with TensorRT, please make sure the missing libraries mentioned above are installed properly.\n"
     ]
    },
    {
     "name": "stdout",
     "output_type": "stream",
     "text": [
      "2.10.1\n"
     ]
    }
   ],
   "source": [
    "import tensorflow as tf\n",
    "\n",
    "print(tf.__version__)\n",
    "\n",
    "from tensorflow.keras.models                import Sequential, Model\n",
    "from tensorflow.keras.layers                import *\n",
    "from tensorflow.keras.preprocessing.image   import ImageDataGenerator\n",
    "from tensorflow.keras.utils                 import to_categorical\n",
    "from tensorflow.keras.optimizers            import SGD, RMSprop, Adam, Adagrad, Adadelta\n",
    "\n",
    "from sklearn.model_selection import train_test_split\n",
    "from sklearn.metrics import confusion_matrix, accuracy_score\n",
    "from sklearn.utils import class_weight\n",
    "\n",
    "import matplotlib.pyplot as plt\n",
    "import random\n",
    "# import cv2\n",
    "import pandas as pd\n",
    "import numpy as np\n",
    "import matplotlib.gridspec as gridspec\n",
    "import seaborn as sns\n",
    "import sklearn\n",
    "import scipy\n",
    "import skimage\n",
    "from skimage.transform import resize\n",
    "from tqdm import tqdm\n",
    "from sklearn import model_selection\n",
    "from sklearn.model_selection import train_test_split, learning_curve,KFold,cross_val_score,StratifiedKFold\n",
    "from sklearn.utils import class_weight\n",
    "from sklearn.metrics import confusion_matrix"
   ]
  },
  {
   "cell_type": "code",
   "execution_count": 2,
   "id": "591c6941-6b95-49ed-a5e4-b3b065f337e5",
   "metadata": {},
   "outputs": [],
   "source": [
    "# !git clone https://github.com/ardamavi/Sign-Language-Digits-Dataset.git"
   ]
  },
  {
   "cell_type": "code",
   "execution_count": 3,
   "id": "b142a1a3-59e9-445c-a9c9-35d7cc5e2645",
   "metadata": {},
   "outputs": [],
   "source": [
    "# !pip install split-folders "
   ]
  },
  {
   "cell_type": "code",
   "execution_count": 4,
   "id": "e29c6dc1-7ac5-4f9c-afc5-27889eadad59",
   "metadata": {},
   "outputs": [],
   "source": [
    "# import splitfolders\n",
    "# import os"
   ]
  },
  {
   "cell_type": "code",
   "execution_count": 5,
   "id": "5bc916a7-71b9-408a-a862-97bac0f8cd8c",
   "metadata": {},
   "outputs": [],
   "source": [
    "# path = \"Sign-Language-Digits-Dataset/Dataset\"\n",
    "\n",
    "# splitfolders.ratio(path, seed=777, output=\"Train-Validation-Test-Dataset\", ratio=(0.7, 0.15, 0.15))"
   ]
  },
  {
   "cell_type": "code",
   "execution_count": 6,
   "id": "3c62d1d8-12eb-4f83-ae0c-7ffa1f9c939b",
   "metadata": {},
   "outputs": [],
   "source": [
    "train_path = \"Train-Validation-Test-Dataset/train\"\n",
    "val_path = \"Train-Validation-Test-Dataset/val\"\n",
    "test_path = \"Train-Validation-Test-Dataset/test\""
   ]
  },
  {
   "cell_type": "code",
   "execution_count": 7,
   "id": "b9f0f604-67d3-43b5-962d-5b88fd6bb534",
   "metadata": {},
   "outputs": [
    {
     "name": "stdout",
     "output_type": "stream",
     "text": [
      "Found 1438 images belonging to 10 classes.\n",
      "Found 304 images belonging to 10 classes.\n",
      "Found 320 images belonging to 10 classes.\n"
     ]
    }
   ],
   "source": [
    "from tensorflow.keras.preprocessing.image   import ImageDataGenerator\n",
    "\n",
    "##Clasificamos las imagenes\n",
    "bs = 32 #bach size\n",
    "k = 2\n",
    "# Generador de imágenes de entrenamiento.\n",
    "train_datagen = ImageDataGenerator(\n",
    "        rescale=1./255,\n",
    "        shear_range=(0.3),\n",
    "        zoom_range=(0.3),\n",
    "        width_shift_range=(0.2),\n",
    "        height_shift_range=(0.2),\n",
    "        # validation_split = 0.2,\n",
    "        brightness_range=(0.05,0.85),\n",
    "        horizontal_flip=False)\n",
    "\n",
    "# Carga de imágenes al generador de entrenamiento desde directorio.\n",
    "train_generator = train_datagen.flow_from_directory(\n",
    "        train_path,\n",
    "        class_mode='categorical',\n",
    "        shuffle=True,\n",
    "        target_size=(28*k, 28*k),\n",
    "        color_mode = 'rgb', \n",
    "        # subset = 'training',\n",
    "        batch_size=bs)\n",
    "\n",
    "valid_generator = train_datagen.flow_from_directory(\n",
    "        val_path,\n",
    "        class_mode='categorical',\n",
    "        shuffle=False,\n",
    "        target_size=(28*k, 28*k),\n",
    "        color_mode = 'rgb', \n",
    "        # subset = 'validation',\n",
    "        batch_size=bs)\n",
    "\n",
    "test_generator = train_datagen.flow_from_directory(\n",
    "        test_path,\n",
    "        class_mode='categorical',\n",
    "        shuffle=False,\n",
    "        target_size=(28*k, 28*k),\n",
    "        color_mode = 'rgb', \n",
    "        # subset = 'validation',\n",
    "        batch_size=bs)"
   ]
  },
  {
   "cell_type": "code",
   "execution_count": 8,
   "id": "ce39767d-6018-413a-ac2c-8e816e2cf5e3",
   "metadata": {},
   "outputs": [
    {
     "name": "stderr",
     "output_type": "stream",
     "text": [
      "2023-09-10 18:02:30.298712: W tensorflow/stream_executor/platform/default/dso_loader.cc:64] Could not load dynamic library 'libcuda.so.1'; dlerror: libcuda.so.1: cannot open shared object file: No such file or directory; LD_LIBRARY_PATH: /usr/local/cuda/lib64:/usr/local/cuda/lib:/usr/local/lib/x86_64-linux-gnu:/usr/local/nvidia/lib:/usr/local/nvidia/lib64:/usr/local/nvidia/lib:/usr/local/nvidia/lib64\n",
      "2023-09-10 18:02:30.298761: W tensorflow/stream_executor/cuda/cuda_driver.cc:263] failed call to cuInit: UNKNOWN ERROR (303)\n",
      "2023-09-10 18:02:30.298790: I tensorflow/stream_executor/cuda/cuda_diagnostics.cc:156] kernel driver does not appear to be running on this host (bdc78def8d2f): /proc/driver/nvidia/version does not exist\n",
      "2023-09-10 18:02:30.299040: I tensorflow/core/platform/cpu_feature_guard.cc:193] This TensorFlow binary is optimized with oneAPI Deep Neural Network Library (oneDNN) to use the following CPU instructions in performance-critical operations:  AVX2 FMA\n",
      "To enable them in other operations, rebuild TensorFlow with the appropriate compiler flags.\n"
     ]
    },
    {
     "name": "stdout",
     "output_type": "stream",
     "text": [
      "Model: \"vgg19\"\n",
      "_________________________________________________________________\n",
      " Layer (type)                Output Shape              Param #   \n",
      "=================================================================\n",
      " input_1 (InputLayer)        [(None, 224, 224, 3)]     0         \n",
      "                                                                 \n",
      " block1_conv1 (Conv2D)       (None, 224, 224, 64)      1792      \n",
      "                                                                 \n",
      " block1_conv2 (Conv2D)       (None, 224, 224, 64)      36928     \n",
      "                                                                 \n",
      " block1_pool (MaxPooling2D)  (None, 112, 112, 64)      0         \n",
      "                                                                 \n",
      " block2_conv1 (Conv2D)       (None, 112, 112, 128)     73856     \n",
      "                                                                 \n",
      " block2_conv2 (Conv2D)       (None, 112, 112, 128)     147584    \n",
      "                                                                 \n",
      " block2_pool (MaxPooling2D)  (None, 56, 56, 128)       0         \n",
      "                                                                 \n",
      " block3_conv1 (Conv2D)       (None, 56, 56, 256)       295168    \n",
      "                                                                 \n",
      " block3_conv2 (Conv2D)       (None, 56, 56, 256)       590080    \n",
      "                                                                 \n",
      " block3_conv3 (Conv2D)       (None, 56, 56, 256)       590080    \n",
      "                                                                 \n",
      " block3_conv4 (Conv2D)       (None, 56, 56, 256)       590080    \n",
      "                                                                 \n",
      " block3_pool (MaxPooling2D)  (None, 28, 28, 256)       0         \n",
      "                                                                 \n",
      " block4_conv1 (Conv2D)       (None, 28, 28, 512)       1180160   \n",
      "                                                                 \n",
      " block4_conv2 (Conv2D)       (None, 28, 28, 512)       2359808   \n",
      "                                                                 \n",
      " block4_conv3 (Conv2D)       (None, 28, 28, 512)       2359808   \n",
      "                                                                 \n",
      " block4_conv4 (Conv2D)       (None, 28, 28, 512)       2359808   \n",
      "                                                                 \n",
      " block4_pool (MaxPooling2D)  (None, 14, 14, 512)       0         \n",
      "                                                                 \n",
      " block5_conv1 (Conv2D)       (None, 14, 14, 512)       2359808   \n",
      "                                                                 \n",
      " block5_conv2 (Conv2D)       (None, 14, 14, 512)       2359808   \n",
      "                                                                 \n",
      " block5_conv3 (Conv2D)       (None, 14, 14, 512)       2359808   \n",
      "                                                                 \n",
      " block5_conv4 (Conv2D)       (None, 14, 14, 512)       2359808   \n",
      "                                                                 \n",
      " block5_pool (MaxPooling2D)  (None, 7, 7, 512)         0         \n",
      "                                                                 \n",
      " flatten (Flatten)           (None, 25088)             0         \n",
      "                                                                 \n",
      " fc1 (Dense)                 (None, 4096)              102764544 \n",
      "                                                                 \n",
      " fc2 (Dense)                 (None, 4096)              16781312  \n",
      "                                                                 \n",
      " predictions (Dense)         (None, 1000)              4097000   \n",
      "                                                                 \n",
      "=================================================================\n",
      "Total params: 143,667,240\n",
      "Trainable params: 143,667,240\n",
      "Non-trainable params: 0\n",
      "_________________________________________________________________\n",
      "26\n"
     ]
    }
   ],
   "source": [
    "from numpy.random import seed\n",
    "tf.keras.utils.set_random_seed(42)# keras seed fixing\n",
    "tf.random.set_seed(42)# tensorflow seed fixing\n",
    "\n",
    "#Visualizamos la estructura del modelo que vamos a utilizar\n",
    "model = tf.keras.applications.VGG19()\n",
    "model.summary()\n",
    "print(len(model.layers))"
   ]
  },
  {
   "cell_type": "code",
   "execution_count": 9,
   "id": "b0e0e374-6bf0-455d-92ee-83982a54eae7",
   "metadata": {},
   "outputs": [
    {
     "name": "stdout",
     "output_type": "stream",
     "text": [
      "22\n"
     ]
    }
   ],
   "source": [
    "##DEFINIMOS EL MODELO\n",
    "num_classes = 10\n",
    "epochs = 100\n",
    "\n",
    "# VGG19\n",
    "# Importamos el modelo que queremos utilizar con los argumentos que queremos\n",
    "VGG19_model = tf.keras.applications.VGG19(input_shape=(28*k,28*k,3),\n",
    "                                          include_top=False,\n",
    "                                          weights='imagenet')\n",
    "\n",
    "print(len(VGG19_model.layers))\n",
    "#Congelamos  las 6 primeras caps del modelo para proceder a entrenar las demás\n",
    "for layer in VGG19_model.layers[:6]:\n",
    "  layer.trainable = False\n",
    "\n",
    "# Creamos un nuevo modelo vacio.\n",
    "model = tf.keras.Sequential()\n",
    "\n",
    "# Añadimos el modelo preentrenado como si se tratase de una capa.\n",
    "model.add(VGG19_model)\n",
    "\n",
    "# Continuamos añadiendo más capas que sí serán entrenadas...\n",
    "from tensorflow.keras import regularizers\n",
    "model.add(Flatten())\n",
    "model.add(Dropout(0.25))\n",
    "model.add(Dense(64, kernel_regularizer=regularizers.l2(0.01), activation = 'relu'))\n",
    "model.add(Dropout(0.25))\n",
    "model.add(Dense(32, kernel_regularizer=regularizers.l2(0.01), activation = 'relu'))\n",
    "model.add(Dropout(0.25))\n",
    "model.add(Dense(num_classes, activation = 'softmax'))"
   ]
  },
  {
   "cell_type": "code",
   "execution_count": 10,
   "id": "98f08be8-a077-4ef3-92ab-b3604ff40655",
   "metadata": {},
   "outputs": [
    {
     "name": "stdout",
     "output_type": "stream",
     "text": [
      "Epoch 1/100\n",
      "45/45 [==============================] - ETA: 0s - loss: 3.9613 - accuracy: 0.1134\n",
      "Epoch 1: accuracy improved from -inf to 0.11335, saving model to model-03\n"
     ]
    },
    {
     "name": "stderr",
     "output_type": "stream",
     "text": [
      "WARNING:absl:Found untraced functions such as _jit_compiled_convolution_op, _jit_compiled_convolution_op, _jit_compiled_convolution_op, _jit_compiled_convolution_op, _jit_compiled_convolution_op while saving (showing 5 of 16). These functions will not be directly callable after loading.\n"
     ]
    },
    {
     "name": "stdout",
     "output_type": "stream",
     "text": [
      "INFO:tensorflow:Assets written to: model-03/assets\n"
     ]
    },
    {
     "name": "stderr",
     "output_type": "stream",
     "text": [
      "INFO:tensorflow:Assets written to: model-03/assets\n"
     ]
    },
    {
     "name": "stdout",
     "output_type": "stream",
     "text": [
      "45/45 [==============================] - 105s 2s/step - loss: 3.9613 - accuracy: 0.1134 - lr: 0.0010\n",
      "Epoch 2/100\n",
      "45/45 [==============================] - ETA: 0s - loss: 3.8850 - accuracy: 0.1266\n",
      "Epoch 2: accuracy improved from 0.11335 to 0.12656, saving model to model-03\n"
     ]
    },
    {
     "name": "stderr",
     "output_type": "stream",
     "text": [
      "WARNING:absl:Found untraced functions such as _jit_compiled_convolution_op, _jit_compiled_convolution_op, _jit_compiled_convolution_op, _jit_compiled_convolution_op, _jit_compiled_convolution_op while saving (showing 5 of 16). These functions will not be directly callable after loading.\n"
     ]
    },
    {
     "name": "stdout",
     "output_type": "stream",
     "text": [
      "INFO:tensorflow:Assets written to: model-03/assets\n"
     ]
    },
    {
     "name": "stderr",
     "output_type": "stream",
     "text": [
      "INFO:tensorflow:Assets written to: model-03/assets\n"
     ]
    },
    {
     "name": "stdout",
     "output_type": "stream",
     "text": [
      "45/45 [==============================] - 102s 2s/step - loss: 3.8850 - accuracy: 0.1266 - lr: 0.0010\n",
      "Epoch 3/100\n",
      "45/45 [==============================] - ETA: 0s - loss: 3.8512 - accuracy: 0.1551\n",
      "Epoch 3: accuracy improved from 0.12656 to 0.15508, saving model to model-03\n"
     ]
    },
    {
     "name": "stderr",
     "output_type": "stream",
     "text": [
      "WARNING:absl:Found untraced functions such as _jit_compiled_convolution_op, _jit_compiled_convolution_op, _jit_compiled_convolution_op, _jit_compiled_convolution_op, _jit_compiled_convolution_op while saving (showing 5 of 16). These functions will not be directly callable after loading.\n"
     ]
    },
    {
     "name": "stdout",
     "output_type": "stream",
     "text": [
      "INFO:tensorflow:Assets written to: model-03/assets\n"
     ]
    },
    {
     "name": "stderr",
     "output_type": "stream",
     "text": [
      "INFO:tensorflow:Assets written to: model-03/assets\n"
     ]
    },
    {
     "name": "stdout",
     "output_type": "stream",
     "text": [
      "45/45 [==============================] - 103s 2s/step - loss: 3.8512 - accuracy: 0.1551 - lr: 0.0010\n",
      "Epoch 4/100\n",
      "45/45 [==============================] - ETA: 0s - loss: 3.8161 - accuracy: 0.1579\n",
      "Epoch 4: accuracy improved from 0.15508 to 0.15786, saving model to model-03\n"
     ]
    },
    {
     "name": "stderr",
     "output_type": "stream",
     "text": [
      "WARNING:absl:Found untraced functions such as _jit_compiled_convolution_op, _jit_compiled_convolution_op, _jit_compiled_convolution_op, _jit_compiled_convolution_op, _jit_compiled_convolution_op while saving (showing 5 of 16). These functions will not be directly callable after loading.\n"
     ]
    },
    {
     "name": "stdout",
     "output_type": "stream",
     "text": [
      "INFO:tensorflow:Assets written to: model-03/assets\n"
     ]
    },
    {
     "name": "stderr",
     "output_type": "stream",
     "text": [
      "INFO:tensorflow:Assets written to: model-03/assets\n"
     ]
    },
    {
     "name": "stdout",
     "output_type": "stream",
     "text": [
      "45/45 [==============================] - 102s 2s/step - loss: 3.8161 - accuracy: 0.1579 - lr: 0.0010\n",
      "Epoch 5/100\n",
      "45/45 [==============================] - ETA: 0s - loss: 3.7702 - accuracy: 0.1885\n",
      "Epoch 5: accuracy improved from 0.15786 to 0.18846, saving model to model-03\n"
     ]
    },
    {
     "name": "stderr",
     "output_type": "stream",
     "text": [
      "WARNING:absl:Found untraced functions such as _jit_compiled_convolution_op, _jit_compiled_convolution_op, _jit_compiled_convolution_op, _jit_compiled_convolution_op, _jit_compiled_convolution_op while saving (showing 5 of 16). These functions will not be directly callable after loading.\n"
     ]
    },
    {
     "name": "stdout",
     "output_type": "stream",
     "text": [
      "INFO:tensorflow:Assets written to: model-03/assets\n"
     ]
    },
    {
     "name": "stderr",
     "output_type": "stream",
     "text": [
      "INFO:tensorflow:Assets written to: model-03/assets\n"
     ]
    },
    {
     "name": "stdout",
     "output_type": "stream",
     "text": [
      "45/45 [==============================] - 100s 2s/step - loss: 3.7702 - accuracy: 0.1885 - lr: 0.0010\n",
      "Epoch 6/100\n",
      "45/45 [==============================] - ETA: 0s - loss: 3.6857 - accuracy: 0.2330\n",
      "Epoch 6: accuracy improved from 0.18846 to 0.23296, saving model to model-03\n"
     ]
    },
    {
     "name": "stderr",
     "output_type": "stream",
     "text": [
      "WARNING:absl:Found untraced functions such as _jit_compiled_convolution_op, _jit_compiled_convolution_op, _jit_compiled_convolution_op, _jit_compiled_convolution_op, _jit_compiled_convolution_op while saving (showing 5 of 16). These functions will not be directly callable after loading.\n"
     ]
    },
    {
     "name": "stdout",
     "output_type": "stream",
     "text": [
      "INFO:tensorflow:Assets written to: model-03/assets\n"
     ]
    },
    {
     "name": "stderr",
     "output_type": "stream",
     "text": [
      "INFO:tensorflow:Assets written to: model-03/assets\n"
     ]
    },
    {
     "name": "stdout",
     "output_type": "stream",
     "text": [
      "45/45 [==============================] - 101s 2s/step - loss: 3.6857 - accuracy: 0.2330 - lr: 0.0010\n",
      "Epoch 7/100\n",
      "45/45 [==============================] - ETA: 0s - loss: 3.5890 - accuracy: 0.2796\n",
      "Epoch 7: accuracy improved from 0.23296 to 0.27955, saving model to model-03\n"
     ]
    },
    {
     "name": "stderr",
     "output_type": "stream",
     "text": [
      "WARNING:absl:Found untraced functions such as _jit_compiled_convolution_op, _jit_compiled_convolution_op, _jit_compiled_convolution_op, _jit_compiled_convolution_op, _jit_compiled_convolution_op while saving (showing 5 of 16). These functions will not be directly callable after loading.\n"
     ]
    },
    {
     "name": "stdout",
     "output_type": "stream",
     "text": [
      "INFO:tensorflow:Assets written to: model-03/assets\n"
     ]
    },
    {
     "name": "stderr",
     "output_type": "stream",
     "text": [
      "INFO:tensorflow:Assets written to: model-03/assets\n"
     ]
    },
    {
     "name": "stdout",
     "output_type": "stream",
     "text": [
      "45/45 [==============================] - 103s 2s/step - loss: 3.5890 - accuracy: 0.2796 - lr: 0.0010\n",
      "Epoch 8/100\n",
      "45/45 [==============================] - ETA: 0s - loss: 3.5494 - accuracy: 0.2865\n",
      "Epoch 8: accuracy improved from 0.27955 to 0.28651, saving model to model-03\n"
     ]
    },
    {
     "name": "stderr",
     "output_type": "stream",
     "text": [
      "WARNING:absl:Found untraced functions such as _jit_compiled_convolution_op, _jit_compiled_convolution_op, _jit_compiled_convolution_op, _jit_compiled_convolution_op, _jit_compiled_convolution_op while saving (showing 5 of 16). These functions will not be directly callable after loading.\n"
     ]
    },
    {
     "name": "stdout",
     "output_type": "stream",
     "text": [
      "INFO:tensorflow:Assets written to: model-03/assets\n"
     ]
    },
    {
     "name": "stderr",
     "output_type": "stream",
     "text": [
      "INFO:tensorflow:Assets written to: model-03/assets\n"
     ]
    },
    {
     "name": "stdout",
     "output_type": "stream",
     "text": [
      "45/45 [==============================] - 101s 2s/step - loss: 3.5494 - accuracy: 0.2865 - lr: 0.0010\n",
      "Epoch 9/100\n",
      "45/45 [==============================] - ETA: 0s - loss: 3.4593 - accuracy: 0.3060\n",
      "Epoch 9: accuracy improved from 0.28651 to 0.30598, saving model to model-03\n"
     ]
    },
    {
     "name": "stderr",
     "output_type": "stream",
     "text": [
      "WARNING:absl:Found untraced functions such as _jit_compiled_convolution_op, _jit_compiled_convolution_op, _jit_compiled_convolution_op, _jit_compiled_convolution_op, _jit_compiled_convolution_op while saving (showing 5 of 16). These functions will not be directly callable after loading.\n"
     ]
    },
    {
     "name": "stdout",
     "output_type": "stream",
     "text": [
      "INFO:tensorflow:Assets written to: model-03/assets\n"
     ]
    },
    {
     "name": "stderr",
     "output_type": "stream",
     "text": [
      "INFO:tensorflow:Assets written to: model-03/assets\n"
     ]
    },
    {
     "name": "stdout",
     "output_type": "stream",
     "text": [
      "45/45 [==============================] - 101s 2s/step - loss: 3.4593 - accuracy: 0.3060 - lr: 0.0010\n",
      "Epoch 10/100\n",
      "45/45 [==============================] - ETA: 0s - loss: 3.3775 - accuracy: 0.3519\n",
      "Epoch 10: accuracy improved from 0.30598 to 0.35188, saving model to model-03\n"
     ]
    },
    {
     "name": "stderr",
     "output_type": "stream",
     "text": [
      "WARNING:absl:Found untraced functions such as _jit_compiled_convolution_op, _jit_compiled_convolution_op, _jit_compiled_convolution_op, _jit_compiled_convolution_op, _jit_compiled_convolution_op while saving (showing 5 of 16). These functions will not be directly callable after loading.\n"
     ]
    },
    {
     "name": "stdout",
     "output_type": "stream",
     "text": [
      "INFO:tensorflow:Assets written to: model-03/assets\n"
     ]
    },
    {
     "name": "stderr",
     "output_type": "stream",
     "text": [
      "INFO:tensorflow:Assets written to: model-03/assets\n"
     ]
    },
    {
     "name": "stdout",
     "output_type": "stream",
     "text": [
      "45/45 [==============================] - 102s 2s/step - loss: 3.3775 - accuracy: 0.3519 - lr: 0.0010\n",
      "Epoch 11/100\n",
      "45/45 [==============================] - ETA: 0s - loss: 3.3020 - accuracy: 0.3609\n",
      "Epoch 11: accuracy improved from 0.35188 to 0.36092, saving model to model-03\n"
     ]
    },
    {
     "name": "stderr",
     "output_type": "stream",
     "text": [
      "WARNING:absl:Found untraced functions such as _jit_compiled_convolution_op, _jit_compiled_convolution_op, _jit_compiled_convolution_op, _jit_compiled_convolution_op, _jit_compiled_convolution_op while saving (showing 5 of 16). These functions will not be directly callable after loading.\n"
     ]
    },
    {
     "name": "stdout",
     "output_type": "stream",
     "text": [
      "INFO:tensorflow:Assets written to: model-03/assets\n"
     ]
    },
    {
     "name": "stderr",
     "output_type": "stream",
     "text": [
      "INFO:tensorflow:Assets written to: model-03/assets\n"
     ]
    },
    {
     "name": "stdout",
     "output_type": "stream",
     "text": [
      "45/45 [==============================] - 102s 2s/step - loss: 3.3020 - accuracy: 0.3609 - lr: 0.0010\n",
      "Epoch 12/100\n",
      "45/45 [==============================] - ETA: 0s - loss: 3.2020 - accuracy: 0.4033\n",
      "Epoch 12: accuracy improved from 0.36092 to 0.40334, saving model to model-03\n"
     ]
    },
    {
     "name": "stderr",
     "output_type": "stream",
     "text": [
      "WARNING:absl:Found untraced functions such as _jit_compiled_convolution_op, _jit_compiled_convolution_op, _jit_compiled_convolution_op, _jit_compiled_convolution_op, _jit_compiled_convolution_op while saving (showing 5 of 16). These functions will not be directly callable after loading.\n"
     ]
    },
    {
     "name": "stdout",
     "output_type": "stream",
     "text": [
      "INFO:tensorflow:Assets written to: model-03/assets\n"
     ]
    },
    {
     "name": "stderr",
     "output_type": "stream",
     "text": [
      "INFO:tensorflow:Assets written to: model-03/assets\n"
     ]
    },
    {
     "name": "stdout",
     "output_type": "stream",
     "text": [
      "45/45 [==============================] - 101s 2s/step - loss: 3.2020 - accuracy: 0.4033 - lr: 0.0010\n",
      "Epoch 13/100\n",
      "45/45 [==============================] - ETA: 0s - loss: 3.1545 - accuracy: 0.4312\n",
      "Epoch 13: accuracy improved from 0.40334 to 0.43115, saving model to model-03\n"
     ]
    },
    {
     "name": "stderr",
     "output_type": "stream",
     "text": [
      "WARNING:absl:Found untraced functions such as _jit_compiled_convolution_op, _jit_compiled_convolution_op, _jit_compiled_convolution_op, _jit_compiled_convolution_op, _jit_compiled_convolution_op while saving (showing 5 of 16). These functions will not be directly callable after loading.\n"
     ]
    },
    {
     "name": "stdout",
     "output_type": "stream",
     "text": [
      "INFO:tensorflow:Assets written to: model-03/assets\n"
     ]
    },
    {
     "name": "stderr",
     "output_type": "stream",
     "text": [
      "INFO:tensorflow:Assets written to: model-03/assets\n"
     ]
    },
    {
     "name": "stdout",
     "output_type": "stream",
     "text": [
      "45/45 [==============================] - 101s 2s/step - loss: 3.1545 - accuracy: 0.4312 - lr: 0.0010\n",
      "Epoch 14/100\n",
      "45/45 [==============================] - ETA: 0s - loss: 3.0644 - accuracy: 0.4576\n",
      "Epoch 14: accuracy improved from 0.43115 to 0.45758, saving model to model-03\n"
     ]
    },
    {
     "name": "stderr",
     "output_type": "stream",
     "text": [
      "WARNING:absl:Found untraced functions such as _jit_compiled_convolution_op, _jit_compiled_convolution_op, _jit_compiled_convolution_op, _jit_compiled_convolution_op, _jit_compiled_convolution_op while saving (showing 5 of 16). These functions will not be directly callable after loading.\n"
     ]
    },
    {
     "name": "stdout",
     "output_type": "stream",
     "text": [
      "INFO:tensorflow:Assets written to: model-03/assets\n"
     ]
    },
    {
     "name": "stderr",
     "output_type": "stream",
     "text": [
      "INFO:tensorflow:Assets written to: model-03/assets\n"
     ]
    },
    {
     "name": "stdout",
     "output_type": "stream",
     "text": [
      "45/45 [==============================] - 99s 2s/step - loss: 3.0644 - accuracy: 0.4576 - lr: 0.0010\n",
      "Epoch 15/100\n",
      "45/45 [==============================] - ETA: 0s - loss: 2.9635 - accuracy: 0.5000\n",
      "Epoch 15: accuracy improved from 0.45758 to 0.50000, saving model to model-03\n"
     ]
    },
    {
     "name": "stderr",
     "output_type": "stream",
     "text": [
      "WARNING:absl:Found untraced functions such as _jit_compiled_convolution_op, _jit_compiled_convolution_op, _jit_compiled_convolution_op, _jit_compiled_convolution_op, _jit_compiled_convolution_op while saving (showing 5 of 16). These functions will not be directly callable after loading.\n"
     ]
    },
    {
     "name": "stdout",
     "output_type": "stream",
     "text": [
      "INFO:tensorflow:Assets written to: model-03/assets\n"
     ]
    },
    {
     "name": "stderr",
     "output_type": "stream",
     "text": [
      "INFO:tensorflow:Assets written to: model-03/assets\n"
     ]
    },
    {
     "name": "stdout",
     "output_type": "stream",
     "text": [
      "45/45 [==============================] - 100s 2s/step - loss: 2.9635 - accuracy: 0.5000 - lr: 0.0010\n",
      "Epoch 16/100\n",
      "45/45 [==============================] - ETA: 0s - loss: 2.9178 - accuracy: 0.5250\n",
      "Epoch 16: accuracy improved from 0.50000 to 0.52503, saving model to model-03\n"
     ]
    },
    {
     "name": "stderr",
     "output_type": "stream",
     "text": [
      "WARNING:absl:Found untraced functions such as _jit_compiled_convolution_op, _jit_compiled_convolution_op, _jit_compiled_convolution_op, _jit_compiled_convolution_op, _jit_compiled_convolution_op while saving (showing 5 of 16). These functions will not be directly callable after loading.\n"
     ]
    },
    {
     "name": "stdout",
     "output_type": "stream",
     "text": [
      "INFO:tensorflow:Assets written to: model-03/assets\n"
     ]
    },
    {
     "name": "stderr",
     "output_type": "stream",
     "text": [
      "INFO:tensorflow:Assets written to: model-03/assets\n"
     ]
    },
    {
     "name": "stdout",
     "output_type": "stream",
     "text": [
      "45/45 [==============================] - 98s 2s/step - loss: 2.9178 - accuracy: 0.5250 - lr: 0.0010\n",
      "Epoch 17/100\n",
      "45/45 [==============================] - ETA: 0s - loss: 2.8617 - accuracy: 0.5522\n",
      "Epoch 17: accuracy improved from 0.52503 to 0.55216, saving model to model-03\n"
     ]
    },
    {
     "name": "stderr",
     "output_type": "stream",
     "text": [
      "WARNING:absl:Found untraced functions such as _jit_compiled_convolution_op, _jit_compiled_convolution_op, _jit_compiled_convolution_op, _jit_compiled_convolution_op, _jit_compiled_convolution_op while saving (showing 5 of 16). These functions will not be directly callable after loading.\n"
     ]
    },
    {
     "name": "stdout",
     "output_type": "stream",
     "text": [
      "INFO:tensorflow:Assets written to: model-03/assets\n"
     ]
    },
    {
     "name": "stderr",
     "output_type": "stream",
     "text": [
      "INFO:tensorflow:Assets written to: model-03/assets\n"
     ]
    },
    {
     "name": "stdout",
     "output_type": "stream",
     "text": [
      "45/45 [==============================] - 102s 2s/step - loss: 2.8617 - accuracy: 0.5522 - lr: 0.0010\n",
      "Epoch 18/100\n",
      "45/45 [==============================] - ETA: 0s - loss: 2.7837 - accuracy: 0.5647\n",
      "Epoch 18: accuracy improved from 0.55216 to 0.56467, saving model to model-03\n"
     ]
    },
    {
     "name": "stderr",
     "output_type": "stream",
     "text": [
      "WARNING:absl:Found untraced functions such as _jit_compiled_convolution_op, _jit_compiled_convolution_op, _jit_compiled_convolution_op, _jit_compiled_convolution_op, _jit_compiled_convolution_op while saving (showing 5 of 16). These functions will not be directly callable after loading.\n"
     ]
    },
    {
     "name": "stdout",
     "output_type": "stream",
     "text": [
      "INFO:tensorflow:Assets written to: model-03/assets\n"
     ]
    },
    {
     "name": "stderr",
     "output_type": "stream",
     "text": [
      "INFO:tensorflow:Assets written to: model-03/assets\n"
     ]
    },
    {
     "name": "stdout",
     "output_type": "stream",
     "text": [
      "45/45 [==============================] - 102s 2s/step - loss: 2.7837 - accuracy: 0.5647 - lr: 0.0010\n",
      "Epoch 19/100\n",
      "45/45 [==============================] - ETA: 0s - loss: 2.6522 - accuracy: 0.6175\n",
      "Epoch 19: accuracy improved from 0.56467 to 0.61752, saving model to model-03\n"
     ]
    },
    {
     "name": "stderr",
     "output_type": "stream",
     "text": [
      "WARNING:absl:Found untraced functions such as _jit_compiled_convolution_op, _jit_compiled_convolution_op, _jit_compiled_convolution_op, _jit_compiled_convolution_op, _jit_compiled_convolution_op while saving (showing 5 of 16). These functions will not be directly callable after loading.\n"
     ]
    },
    {
     "name": "stdout",
     "output_type": "stream",
     "text": [
      "INFO:tensorflow:Assets written to: model-03/assets\n"
     ]
    },
    {
     "name": "stderr",
     "output_type": "stream",
     "text": [
      "INFO:tensorflow:Assets written to: model-03/assets\n"
     ]
    },
    {
     "name": "stdout",
     "output_type": "stream",
     "text": [
      "45/45 [==============================] - 100s 2s/step - loss: 2.6522 - accuracy: 0.6175 - lr: 0.0010\n",
      "Epoch 20/100\n",
      "45/45 [==============================] - ETA: 0s - loss: 2.6338 - accuracy: 0.6134\n",
      "Epoch 20: accuracy did not improve from 0.61752\n",
      "45/45 [==============================] - 97s 2s/step - loss: 2.6338 - accuracy: 0.6134 - lr: 0.0010\n",
      "Epoch 21/100\n",
      "45/45 [==============================] - ETA: 0s - loss: 2.5202 - accuracy: 0.6579\n",
      "Epoch 21: accuracy improved from 0.61752 to 0.65786, saving model to model-03\n"
     ]
    },
    {
     "name": "stderr",
     "output_type": "stream",
     "text": [
      "WARNING:absl:Found untraced functions such as _jit_compiled_convolution_op, _jit_compiled_convolution_op, _jit_compiled_convolution_op, _jit_compiled_convolution_op, _jit_compiled_convolution_op while saving (showing 5 of 16). These functions will not be directly callable after loading.\n"
     ]
    },
    {
     "name": "stdout",
     "output_type": "stream",
     "text": [
      "INFO:tensorflow:Assets written to: model-03/assets\n"
     ]
    },
    {
     "name": "stderr",
     "output_type": "stream",
     "text": [
      "INFO:tensorflow:Assets written to: model-03/assets\n"
     ]
    },
    {
     "name": "stdout",
     "output_type": "stream",
     "text": [
      "45/45 [==============================] - 100s 2s/step - loss: 2.5202 - accuracy: 0.6579 - lr: 0.0010\n",
      "Epoch 22/100\n",
      "45/45 [==============================] - ETA: 0s - loss: 2.5123 - accuracy: 0.6634\n",
      "Epoch 22: accuracy improved from 0.65786 to 0.66342, saving model to model-03\n"
     ]
    },
    {
     "name": "stderr",
     "output_type": "stream",
     "text": [
      "WARNING:absl:Found untraced functions such as _jit_compiled_convolution_op, _jit_compiled_convolution_op, _jit_compiled_convolution_op, _jit_compiled_convolution_op, _jit_compiled_convolution_op while saving (showing 5 of 16). These functions will not be directly callable after loading.\n"
     ]
    },
    {
     "name": "stdout",
     "output_type": "stream",
     "text": [
      "INFO:tensorflow:Assets written to: model-03/assets\n"
     ]
    },
    {
     "name": "stderr",
     "output_type": "stream",
     "text": [
      "INFO:tensorflow:Assets written to: model-03/assets\n"
     ]
    },
    {
     "name": "stdout",
     "output_type": "stream",
     "text": [
      "45/45 [==============================] - 99s 2s/step - loss: 2.5123 - accuracy: 0.6634 - lr: 0.0010\n",
      "Epoch 23/100\n",
      "45/45 [==============================] - ETA: 0s - loss: 2.4537 - accuracy: 0.6905\n",
      "Epoch 23: accuracy improved from 0.66342 to 0.69054, saving model to model-03\n"
     ]
    },
    {
     "name": "stderr",
     "output_type": "stream",
     "text": [
      "WARNING:absl:Found untraced functions such as _jit_compiled_convolution_op, _jit_compiled_convolution_op, _jit_compiled_convolution_op, _jit_compiled_convolution_op, _jit_compiled_convolution_op while saving (showing 5 of 16). These functions will not be directly callable after loading.\n"
     ]
    },
    {
     "name": "stdout",
     "output_type": "stream",
     "text": [
      "INFO:tensorflow:Assets written to: model-03/assets\n"
     ]
    },
    {
     "name": "stderr",
     "output_type": "stream",
     "text": [
      "INFO:tensorflow:Assets written to: model-03/assets\n"
     ]
    },
    {
     "name": "stdout",
     "output_type": "stream",
     "text": [
      "45/45 [==============================] - 100s 2s/step - loss: 2.4537 - accuracy: 0.6905 - lr: 0.0010\n",
      "Epoch 24/100\n",
      "45/45 [==============================] - ETA: 0s - loss: 2.3830 - accuracy: 0.7211\n",
      "Epoch 24: accuracy improved from 0.69054 to 0.72114, saving model to model-03\n"
     ]
    },
    {
     "name": "stderr",
     "output_type": "stream",
     "text": [
      "WARNING:absl:Found untraced functions such as _jit_compiled_convolution_op, _jit_compiled_convolution_op, _jit_compiled_convolution_op, _jit_compiled_convolution_op, _jit_compiled_convolution_op while saving (showing 5 of 16). These functions will not be directly callable after loading.\n"
     ]
    },
    {
     "name": "stdout",
     "output_type": "stream",
     "text": [
      "INFO:tensorflow:Assets written to: model-03/assets\n"
     ]
    },
    {
     "name": "stderr",
     "output_type": "stream",
     "text": [
      "INFO:tensorflow:Assets written to: model-03/assets\n"
     ]
    },
    {
     "name": "stdout",
     "output_type": "stream",
     "text": [
      "45/45 [==============================] - 98s 2s/step - loss: 2.3830 - accuracy: 0.7211 - lr: 0.0010\n",
      "Epoch 25/100\n",
      "45/45 [==============================] - ETA: 0s - loss: 2.3834 - accuracy: 0.7107\n",
      "Epoch 25: accuracy did not improve from 0.72114\n",
      "45/45 [==============================] - 95s 2s/step - loss: 2.3834 - accuracy: 0.7107 - lr: 0.0010\n",
      "Epoch 26/100\n",
      "45/45 [==============================] - ETA: 0s - loss: 2.2798 - accuracy: 0.7601\n",
      "Epoch 26: accuracy improved from 0.72114 to 0.76008, saving model to model-03\n"
     ]
    },
    {
     "name": "stderr",
     "output_type": "stream",
     "text": [
      "WARNING:absl:Found untraced functions such as _jit_compiled_convolution_op, _jit_compiled_convolution_op, _jit_compiled_convolution_op, _jit_compiled_convolution_op, _jit_compiled_convolution_op while saving (showing 5 of 16). These functions will not be directly callable after loading.\n"
     ]
    },
    {
     "name": "stdout",
     "output_type": "stream",
     "text": [
      "INFO:tensorflow:Assets written to: model-03/assets\n"
     ]
    },
    {
     "name": "stderr",
     "output_type": "stream",
     "text": [
      "INFO:tensorflow:Assets written to: model-03/assets\n"
     ]
    },
    {
     "name": "stdout",
     "output_type": "stream",
     "text": [
      "45/45 [==============================] - 100s 2s/step - loss: 2.2798 - accuracy: 0.7601 - lr: 0.0010\n",
      "Epoch 27/100\n",
      "45/45 [==============================] - ETA: 0s - loss: 2.2310 - accuracy: 0.7601\n",
      "Epoch 27: accuracy did not improve from 0.76008\n",
      "45/45 [==============================] - 95s 2s/step - loss: 2.2310 - accuracy: 0.7601 - lr: 0.0010\n",
      "Epoch 28/100\n",
      "45/45 [==============================] - ETA: 0s - loss: 2.2322 - accuracy: 0.7705\n",
      "Epoch 28: accuracy improved from 0.76008 to 0.77051, saving model to model-03\n"
     ]
    },
    {
     "name": "stderr",
     "output_type": "stream",
     "text": [
      "WARNING:absl:Found untraced functions such as _jit_compiled_convolution_op, _jit_compiled_convolution_op, _jit_compiled_convolution_op, _jit_compiled_convolution_op, _jit_compiled_convolution_op while saving (showing 5 of 16). These functions will not be directly callable after loading.\n"
     ]
    },
    {
     "name": "stdout",
     "output_type": "stream",
     "text": [
      "INFO:tensorflow:Assets written to: model-03/assets\n"
     ]
    },
    {
     "name": "stderr",
     "output_type": "stream",
     "text": [
      "INFO:tensorflow:Assets written to: model-03/assets\n"
     ]
    },
    {
     "name": "stdout",
     "output_type": "stream",
     "text": [
      "45/45 [==============================] - 100s 2s/step - loss: 2.2322 - accuracy: 0.7705 - lr: 0.0010\n",
      "Epoch 29/100\n",
      "45/45 [==============================] - ETA: 0s - loss: 2.1709 - accuracy: 0.7830\n",
      "Epoch 29: accuracy improved from 0.77051 to 0.78303, saving model to model-03\n"
     ]
    },
    {
     "name": "stderr",
     "output_type": "stream",
     "text": [
      "WARNING:absl:Found untraced functions such as _jit_compiled_convolution_op, _jit_compiled_convolution_op, _jit_compiled_convolution_op, _jit_compiled_convolution_op, _jit_compiled_convolution_op while saving (showing 5 of 16). These functions will not be directly callable after loading.\n"
     ]
    },
    {
     "name": "stdout",
     "output_type": "stream",
     "text": [
      "INFO:tensorflow:Assets written to: model-03/assets\n"
     ]
    },
    {
     "name": "stderr",
     "output_type": "stream",
     "text": [
      "INFO:tensorflow:Assets written to: model-03/assets\n"
     ]
    },
    {
     "name": "stdout",
     "output_type": "stream",
     "text": [
      "45/45 [==============================] - 99s 2s/step - loss: 2.1709 - accuracy: 0.7830 - lr: 0.0010\n",
      "Epoch 30/100\n",
      "45/45 [==============================] - ETA: 0s - loss: 2.1482 - accuracy: 0.8053\n",
      "Epoch 30: accuracy improved from 0.78303 to 0.80529, saving model to model-03\n"
     ]
    },
    {
     "name": "stderr",
     "output_type": "stream",
     "text": [
      "WARNING:absl:Found untraced functions such as _jit_compiled_convolution_op, _jit_compiled_convolution_op, _jit_compiled_convolution_op, _jit_compiled_convolution_op, _jit_compiled_convolution_op while saving (showing 5 of 16). These functions will not be directly callable after loading.\n"
     ]
    },
    {
     "name": "stdout",
     "output_type": "stream",
     "text": [
      "INFO:tensorflow:Assets written to: model-03/assets\n"
     ]
    },
    {
     "name": "stderr",
     "output_type": "stream",
     "text": [
      "INFO:tensorflow:Assets written to: model-03/assets\n"
     ]
    },
    {
     "name": "stdout",
     "output_type": "stream",
     "text": [
      "45/45 [==============================] - 100s 2s/step - loss: 2.1482 - accuracy: 0.8053 - lr: 0.0010\n",
      "Epoch 31/100\n",
      "45/45 [==============================] - ETA: 0s - loss: 2.0844 - accuracy: 0.8150\n",
      "Epoch 31: accuracy improved from 0.80529 to 0.81502, saving model to model-03\n"
     ]
    },
    {
     "name": "stderr",
     "output_type": "stream",
     "text": [
      "WARNING:absl:Found untraced functions such as _jit_compiled_convolution_op, _jit_compiled_convolution_op, _jit_compiled_convolution_op, _jit_compiled_convolution_op, _jit_compiled_convolution_op while saving (showing 5 of 16). These functions will not be directly callable after loading.\n"
     ]
    },
    {
     "name": "stdout",
     "output_type": "stream",
     "text": [
      "INFO:tensorflow:Assets written to: model-03/assets\n"
     ]
    },
    {
     "name": "stderr",
     "output_type": "stream",
     "text": [
      "INFO:tensorflow:Assets written to: model-03/assets\n"
     ]
    },
    {
     "name": "stdout",
     "output_type": "stream",
     "text": [
      "45/45 [==============================] - 99s 2s/step - loss: 2.0844 - accuracy: 0.8150 - lr: 0.0010\n",
      "Epoch 32/100\n",
      "45/45 [==============================] - ETA: 0s - loss: 2.0341 - accuracy: 0.8255\n",
      "Epoch 32: accuracy improved from 0.81502 to 0.82545, saving model to model-03\n"
     ]
    },
    {
     "name": "stderr",
     "output_type": "stream",
     "text": [
      "WARNING:absl:Found untraced functions such as _jit_compiled_convolution_op, _jit_compiled_convolution_op, _jit_compiled_convolution_op, _jit_compiled_convolution_op, _jit_compiled_convolution_op while saving (showing 5 of 16). These functions will not be directly callable after loading.\n"
     ]
    },
    {
     "name": "stdout",
     "output_type": "stream",
     "text": [
      "INFO:tensorflow:Assets written to: model-03/assets\n"
     ]
    },
    {
     "name": "stderr",
     "output_type": "stream",
     "text": [
      "INFO:tensorflow:Assets written to: model-03/assets\n"
     ]
    },
    {
     "name": "stdout",
     "output_type": "stream",
     "text": [
      "45/45 [==============================] - 99s 2s/step - loss: 2.0341 - accuracy: 0.8255 - lr: 0.0010\n",
      "Epoch 33/100\n",
      "45/45 [==============================] - ETA: 0s - loss: 2.0147 - accuracy: 0.8268\n",
      "Epoch 33: accuracy improved from 0.82545 to 0.82684, saving model to model-03\n"
     ]
    },
    {
     "name": "stderr",
     "output_type": "stream",
     "text": [
      "WARNING:absl:Found untraced functions such as _jit_compiled_convolution_op, _jit_compiled_convolution_op, _jit_compiled_convolution_op, _jit_compiled_convolution_op, _jit_compiled_convolution_op while saving (showing 5 of 16). These functions will not be directly callable after loading.\n"
     ]
    },
    {
     "name": "stdout",
     "output_type": "stream",
     "text": [
      "INFO:tensorflow:Assets written to: model-03/assets\n"
     ]
    },
    {
     "name": "stderr",
     "output_type": "stream",
     "text": [
      "INFO:tensorflow:Assets written to: model-03/assets\n"
     ]
    },
    {
     "name": "stdout",
     "output_type": "stream",
     "text": [
      "45/45 [==============================] - 101s 2s/step - loss: 2.0147 - accuracy: 0.8268 - lr: 0.0010\n",
      "Epoch 34/100\n",
      "45/45 [==============================] - ETA: 0s - loss: 1.9761 - accuracy: 0.8512\n",
      "Epoch 34: accuracy improved from 0.82684 to 0.85118, saving model to model-03\n"
     ]
    },
    {
     "name": "stderr",
     "output_type": "stream",
     "text": [
      "WARNING:absl:Found untraced functions such as _jit_compiled_convolution_op, _jit_compiled_convolution_op, _jit_compiled_convolution_op, _jit_compiled_convolution_op, _jit_compiled_convolution_op while saving (showing 5 of 16). These functions will not be directly callable after loading.\n"
     ]
    },
    {
     "name": "stdout",
     "output_type": "stream",
     "text": [
      "INFO:tensorflow:Assets written to: model-03/assets\n"
     ]
    },
    {
     "name": "stderr",
     "output_type": "stream",
     "text": [
      "INFO:tensorflow:Assets written to: model-03/assets\n"
     ]
    },
    {
     "name": "stdout",
     "output_type": "stream",
     "text": [
      "45/45 [==============================] - 100s 2s/step - loss: 1.9761 - accuracy: 0.8512 - lr: 0.0010\n",
      "Epoch 35/100\n",
      "45/45 [==============================] - ETA: 0s - loss: 1.9863 - accuracy: 0.8366\n",
      "Epoch 35: accuracy did not improve from 0.85118\n",
      "45/45 [==============================] - 96s 2s/step - loss: 1.9863 - accuracy: 0.8366 - lr: 0.0010\n",
      "Epoch 36/100\n",
      "45/45 [==============================] - ETA: 0s - loss: 1.9827 - accuracy: 0.8463\n",
      "Epoch 36: accuracy did not improve from 0.85118\n",
      "45/45 [==============================] - 95s 2s/step - loss: 1.9827 - accuracy: 0.8463 - lr: 0.0010\n",
      "Epoch 37/100\n",
      "45/45 [==============================] - ETA: 0s - loss: 1.9822 - accuracy: 0.8463\n",
      "Epoch 37: accuracy did not improve from 0.85118\n",
      "45/45 [==============================] - 96s 2s/step - loss: 1.9822 - accuracy: 0.8463 - lr: 0.0010\n",
      "Epoch 38/100\n",
      "45/45 [==============================] - ETA: 0s - loss: 1.8845 - accuracy: 0.8720\n",
      "Epoch 38: accuracy improved from 0.85118 to 0.87204, saving model to model-03\n"
     ]
    },
    {
     "name": "stderr",
     "output_type": "stream",
     "text": [
      "WARNING:absl:Found untraced functions such as _jit_compiled_convolution_op, _jit_compiled_convolution_op, _jit_compiled_convolution_op, _jit_compiled_convolution_op, _jit_compiled_convolution_op while saving (showing 5 of 16). These functions will not be directly callable after loading.\n"
     ]
    },
    {
     "name": "stdout",
     "output_type": "stream",
     "text": [
      "INFO:tensorflow:Assets written to: model-03/assets\n"
     ]
    },
    {
     "name": "stderr",
     "output_type": "stream",
     "text": [
      "INFO:tensorflow:Assets written to: model-03/assets\n"
     ]
    },
    {
     "name": "stdout",
     "output_type": "stream",
     "text": [
      "45/45 [==============================] - 99s 2s/step - loss: 1.8845 - accuracy: 0.8720 - lr: 2.0000e-04\n",
      "Epoch 39/100\n",
      "45/45 [==============================] - ETA: 0s - loss: 1.8812 - accuracy: 0.8720\n",
      "Epoch 39: accuracy did not improve from 0.87204\n",
      "45/45 [==============================] - 95s 2s/step - loss: 1.8812 - accuracy: 0.8720 - lr: 2.0000e-04\n",
      "Epoch 40/100\n",
      "45/45 [==============================] - ETA: 0s - loss: 1.8281 - accuracy: 0.8929\n",
      "Epoch 40: accuracy improved from 0.87204 to 0.89291, saving model to model-03\n"
     ]
    },
    {
     "name": "stderr",
     "output_type": "stream",
     "text": [
      "WARNING:absl:Found untraced functions such as _jit_compiled_convolution_op, _jit_compiled_convolution_op, _jit_compiled_convolution_op, _jit_compiled_convolution_op, _jit_compiled_convolution_op while saving (showing 5 of 16). These functions will not be directly callable after loading.\n"
     ]
    },
    {
     "name": "stdout",
     "output_type": "stream",
     "text": [
      "INFO:tensorflow:Assets written to: model-03/assets\n"
     ]
    },
    {
     "name": "stderr",
     "output_type": "stream",
     "text": [
      "INFO:tensorflow:Assets written to: model-03/assets\n"
     ]
    },
    {
     "name": "stdout",
     "output_type": "stream",
     "text": [
      "45/45 [==============================] - 99s 2s/step - loss: 1.8281 - accuracy: 0.8929 - lr: 2.0000e-04\n",
      "Epoch 41/100\n",
      "45/45 [==============================] - ETA: 0s - loss: 1.8414 - accuracy: 0.8901\n",
      "Epoch 41: accuracy did not improve from 0.89291\n",
      "45/45 [==============================] - 95s 2s/step - loss: 1.8414 - accuracy: 0.8901 - lr: 2.0000e-04\n",
      "Epoch 42/100\n",
      "45/45 [==============================] - ETA: 0s - loss: 1.8267 - accuracy: 0.8846\n",
      "Epoch 42: accuracy did not improve from 0.89291\n",
      "45/45 [==============================] - 96s 2s/step - loss: 1.8267 - accuracy: 0.8846 - lr: 2.0000e-04\n",
      "Epoch 43/100\n",
      "45/45 [==============================] - ETA: 0s - loss: 1.8222 - accuracy: 0.8915\n",
      "Epoch 43: accuracy did not improve from 0.89291\n",
      "45/45 [==============================] - 95s 2s/step - loss: 1.8222 - accuracy: 0.8915 - lr: 2.0000e-04\n",
      "Epoch 44/100\n",
      "45/45 [==============================] - ETA: 0s - loss: 1.8169 - accuracy: 0.8936\n",
      "Epoch 44: accuracy improved from 0.89291 to 0.89360, saving model to model-03\n"
     ]
    },
    {
     "name": "stderr",
     "output_type": "stream",
     "text": [
      "WARNING:absl:Found untraced functions such as _jit_compiled_convolution_op, _jit_compiled_convolution_op, _jit_compiled_convolution_op, _jit_compiled_convolution_op, _jit_compiled_convolution_op while saving (showing 5 of 16). These functions will not be directly callable after loading.\n"
     ]
    },
    {
     "name": "stdout",
     "output_type": "stream",
     "text": [
      "INFO:tensorflow:Assets written to: model-03/assets\n"
     ]
    },
    {
     "name": "stderr",
     "output_type": "stream",
     "text": [
      "INFO:tensorflow:Assets written to: model-03/assets\n"
     ]
    },
    {
     "name": "stdout",
     "output_type": "stream",
     "text": [
      "45/45 [==============================] - 102s 2s/step - loss: 1.8169 - accuracy: 0.8936 - lr: 2.0000e-04\n",
      "Epoch 45/100\n",
      "45/45 [==============================] - ETA: 0s - loss: 1.8178 - accuracy: 0.8873\n",
      "Epoch 45: accuracy did not improve from 0.89360\n",
      "45/45 [==============================] - 100s 2s/step - loss: 1.8178 - accuracy: 0.8873 - lr: 2.0000e-04\n",
      "Epoch 46/100\n",
      "45/45 [==============================] - ETA: 0s - loss: 1.8252 - accuracy: 0.8866\n",
      "Epoch 46: accuracy did not improve from 0.89360\n",
      "45/45 [==============================] - 100s 2s/step - loss: 1.8252 - accuracy: 0.8866 - lr: 2.0000e-04\n",
      "Epoch 47/100\n",
      "45/45 [==============================] - ETA: 0s - loss: 1.8490 - accuracy: 0.8894\n",
      "Epoch 47: accuracy did not improve from 0.89360\n",
      "45/45 [==============================] - 100s 2s/step - loss: 1.8490 - accuracy: 0.8894 - lr: 2.0000e-04\n",
      "Epoch 48/100\n",
      "45/45 [==============================] - ETA: 0s - loss: 1.8068 - accuracy: 0.8964\n",
      "Epoch 48: accuracy improved from 0.89360 to 0.89638, saving model to model-03\n"
     ]
    },
    {
     "name": "stderr",
     "output_type": "stream",
     "text": [
      "WARNING:absl:Found untraced functions such as _jit_compiled_convolution_op, _jit_compiled_convolution_op, _jit_compiled_convolution_op, _jit_compiled_convolution_op, _jit_compiled_convolution_op while saving (showing 5 of 16). These functions will not be directly callable after loading.\n"
     ]
    },
    {
     "name": "stdout",
     "output_type": "stream",
     "text": [
      "INFO:tensorflow:Assets written to: model-03/assets\n"
     ]
    },
    {
     "name": "stderr",
     "output_type": "stream",
     "text": [
      "INFO:tensorflow:Assets written to: model-03/assets\n"
     ]
    },
    {
     "name": "stdout",
     "output_type": "stream",
     "text": [
      "45/45 [==============================] - 100s 2s/step - loss: 1.8068 - accuracy: 0.8964 - lr: 4.0000e-05\n",
      "Epoch 49/100\n",
      "45/45 [==============================] - ETA: 0s - loss: 1.8285 - accuracy: 0.8950\n",
      "Epoch 49: accuracy did not improve from 0.89638\n",
      "45/45 [==============================] - 96s 2s/step - loss: 1.8285 - accuracy: 0.8950 - lr: 4.0000e-05\n",
      "Epoch 50/100\n",
      "45/45 [==============================] - ETA: 0s - loss: 1.8186 - accuracy: 0.8908\n",
      "Epoch 50: accuracy did not improve from 0.89638\n",
      "45/45 [==============================] - 96s 2s/step - loss: 1.8186 - accuracy: 0.8908 - lr: 4.0000e-05\n",
      "Epoch 51/100\n",
      "43/45 [===========================>..] - ETA: 4s - loss: 1.7790 - accuracy: 0.9105"
     ]
    },
    {
     "name": "stderr",
     "output_type": "stream",
     "text": [
      "WARNING:absl:Found untraced functions such as _jit_compiled_convolution_op, _jit_compiled_convolution_op, _jit_compiled_convolution_op, _jit_compiled_convolution_op, _jit_compiled_convolution_op while saving (showing 5 of 16). These functions will not be directly callable after loading.\n"
     ]
    },
    {
     "name": "stdout",
     "output_type": "stream",
     "text": [
      "INFO:tensorflow:Assets written to: model-03/assets\n"
     ]
    },
    {
     "name": "stderr",
     "output_type": "stream",
     "text": [
      "INFO:tensorflow:Assets written to: model-03/assets\n"
     ]
    },
    {
     "name": "stdout",
     "output_type": "stream",
     "text": [
      "45/45 [==============================] - 100s 2s/step - loss: 1.7812 - accuracy: 0.9075 - lr: 4.0000e-05\n",
      "Epoch 52/100\n",
      "45/45 [==============================] - ETA: 0s - loss: 1.8261 - accuracy: 0.8887\n",
      "Epoch 52: accuracy did not improve from 0.90751\n",
      "45/45 [==============================] - 96s 2s/step - loss: 1.8261 - accuracy: 0.8887 - lr: 4.0000e-05\n",
      "Epoch 53/100\n",
      "45/45 [==============================] - ETA: 0s - loss: 1.7773 - accuracy: 0.9019\n",
      "Epoch 53: accuracy did not improve from 0.90751\n",
      "45/45 [==============================] - 96s 2s/step - loss: 1.7773 - accuracy: 0.9019 - lr: 4.0000e-05\n",
      "Epoch 54/100\n",
      "45/45 [==============================] - ETA: 0s - loss: 1.8140 - accuracy: 0.8873\n",
      "Epoch 54: accuracy did not improve from 0.90751\n",
      "45/45 [==============================] - 95s 2s/step - loss: 1.8140 - accuracy: 0.8873 - lr: 4.0000e-05\n",
      "Epoch 55/100\n",
      "45/45 [==============================] - ETA: 0s - loss: 1.7978 - accuracy: 0.9026\n",
      "Epoch 55: accuracy did not improve from 0.90751\n",
      "45/45 [==============================] - 96s 2s/step - loss: 1.7978 - accuracy: 0.9026 - lr: 4.0000e-05\n",
      "Epoch 56/100\n",
      "45/45 [==============================] - ETA: 0s - loss: 1.8002 - accuracy: 0.9013\n",
      "Epoch 56: accuracy did not improve from 0.90751\n",
      "45/45 [==============================] - 95s 2s/step - loss: 1.8002 - accuracy: 0.9013 - lr: 4.0000e-05\n",
      "Epoch 57/100\n",
      "45/45 [==============================] - ETA: 0s - loss: 1.7734 - accuracy: 0.9040\n",
      "Epoch 57: accuracy did not improve from 0.90751\n",
      "45/45 [==============================] - 96s 2s/step - loss: 1.7734 - accuracy: 0.9040 - lr: 8.0000e-06\n",
      "Epoch 58/100\n",
      "45/45 [==============================] - ETA: 0s - loss: 1.8085 - accuracy: 0.8908\n",
      "Epoch 58: accuracy did not improve from 0.90751\n",
      "45/45 [==============================] - 96s 2s/step - loss: 1.8085 - accuracy: 0.8908 - lr: 8.0000e-06\n",
      "Epoch 59/100\n",
      "45/45 [==============================] - ETA: 0s - loss: 1.8098 - accuracy: 0.8971\n",
      "Epoch 59: accuracy did not improve from 0.90751\n",
      "45/45 [==============================] - 95s 2s/step - loss: 1.8098 - accuracy: 0.8971 - lr: 8.0000e-06\n",
      "Epoch 60/100\n",
      "45/45 [==============================] - ETA: 0s - loss: 1.8189 - accuracy: 0.8936\n",
      "Epoch 60: accuracy did not improve from 0.90751\n",
      "45/45 [==============================] - 97s 2s/step - loss: 1.8189 - accuracy: 0.8936 - lr: 8.0000e-06\n",
      "Epoch 61/100\n",
      "45/45 [==============================] - ETA: 0s - loss: 1.8016 - accuracy: 0.8985\n",
      "Epoch 61: accuracy did not improve from 0.90751\n",
      "45/45 [==============================] - 98s 2s/step - loss: 1.8016 - accuracy: 0.8985 - lr: 1.6000e-06\n",
      "Epoch 62/100\n",
      "45/45 [==============================] - ETA: 0s - loss: 1.7938 - accuracy: 0.8992\n",
      "Epoch 62: accuracy did not improve from 0.90751\n",
      "45/45 [==============================] - 96s 2s/step - loss: 1.7938 - accuracy: 0.8992 - lr: 1.6000e-06\n",
      "Epoch 63/100\n",
      "45/45 [==============================] - ETA: 0s - loss: 1.8118 - accuracy: 0.8929\n",
      "Epoch 63: accuracy did not improve from 0.90751\n",
      "45/45 [==============================] - 96s 2s/step - loss: 1.8118 - accuracy: 0.8929 - lr: 1.6000e-06\n",
      "Epoch 64/100\n",
      "45/45 [==============================] - ETA: 0s - loss: 1.7719 - accuracy: 0.9075\n",
      "Epoch 64: accuracy did not improve from 0.90751\n",
      "45/45 [==============================] - 94s 2s/step - loss: 1.7719 - accuracy: 0.9075 - lr: 1.0000e-06\n",
      "Epoch 65/100\n",
      "45/45 [==============================] - ETA: 0s - loss: 1.8104 - accuracy: 0.9013\n",
      "Epoch 65: accuracy did not improve from 0.90751\n",
      "45/45 [==============================] - 95s 2s/step - loss: 1.8104 - accuracy: 0.9013 - lr: 1.0000e-06\n",
      "Epoch 66/100\n",
      "45/45 [==============================] - ETA: 0s - loss: 1.8272 - accuracy: 0.8936\n",
      "Epoch 66: accuracy did not improve from 0.90751\n",
      "45/45 [==============================] - 94s 2s/step - loss: 1.8272 - accuracy: 0.8936 - lr: 1.0000e-06\n",
      "Epoch 67/100\n",
      "45/45 [==============================] - ETA: 0s - loss: 1.7976 - accuracy: 0.9040\n",
      "Epoch 67: accuracy did not improve from 0.90751\n",
      "45/45 [==============================] - 94s 2s/step - loss: 1.7976 - accuracy: 0.9040 - lr: 1.0000e-06\n",
      "Epoch 68/100\n",
      "45/45 [==============================] - ETA: 0s - loss: 1.7997 - accuracy: 0.8915\n",
      "Epoch 68: accuracy did not improve from 0.90751\n",
      "45/45 [==============================] - 93s 2s/step - loss: 1.7997 - accuracy: 0.8915 - lr: 1.0000e-06\n",
      "Epoch 69/100\n",
      "45/45 [==============================] - ETA: 0s - loss: 1.8117 - accuracy: 0.8985\n",
      "Epoch 69: accuracy did not improve from 0.90751\n",
      "45/45 [==============================] - 93s 2s/step - loss: 1.8117 - accuracy: 0.8985 - lr: 1.0000e-06\n",
      "Epoch 70/100\n",
      "45/45 [==============================] - ETA: 0s - loss: 1.8209 - accuracy: 0.8950\n",
      "Epoch 70: accuracy did not improve from 0.90751\n",
      "45/45 [==============================] - 94s 2s/step - loss: 1.8209 - accuracy: 0.8950 - lr: 1.0000e-06\n",
      "Epoch 71/100\n",
      "45/45 [==============================] - ETA: 0s - loss: 1.7875 - accuracy: 0.9061\n",
      "Epoch 71: accuracy did not improve from 0.90751\n",
      "45/45 [==============================] - 93s 2s/step - loss: 1.7875 - accuracy: 0.9061 - lr: 1.0000e-06\n",
      "Epoch 72/100\n",
      "45/45 [==============================] - ETA: 0s - loss: 1.8108 - accuracy: 0.8971\n",
      "Epoch 72: accuracy did not improve from 0.90751\n",
      "45/45 [==============================] - 93s 2s/step - loss: 1.8108 - accuracy: 0.8971 - lr: 1.0000e-06\n",
      "Epoch 73/100\n",
      "45/45 [==============================] - ETA: 0s - loss: 1.7713 - accuracy: 0.9096\n",
      "Epoch 73: accuracy improved from 0.90751 to 0.90960, saving model to model-03\n"
     ]
    },
    {
     "name": "stderr",
     "output_type": "stream",
     "text": [
      "WARNING:absl:Found untraced functions such as _jit_compiled_convolution_op, _jit_compiled_convolution_op, _jit_compiled_convolution_op, _jit_compiled_convolution_op, _jit_compiled_convolution_op while saving (showing 5 of 16). These functions will not be directly callable after loading.\n"
     ]
    },
    {
     "name": "stdout",
     "output_type": "stream",
     "text": [
      "INFO:tensorflow:Assets written to: model-03/assets\n"
     ]
    },
    {
     "name": "stderr",
     "output_type": "stream",
     "text": [
      "INFO:tensorflow:Assets written to: model-03/assets\n"
     ]
    },
    {
     "name": "stdout",
     "output_type": "stream",
     "text": [
      "45/45 [==============================] - 97s 2s/step - loss: 1.7713 - accuracy: 0.9096 - lr: 1.0000e-06\n",
      "Epoch 74/100\n",
      "45/45 [==============================] - ETA: 0s - loss: 1.7989 - accuracy: 0.9089\n",
      "Epoch 74: accuracy did not improve from 0.90960\n",
      "45/45 [==============================] - 95s 2s/step - loss: 1.7989 - accuracy: 0.9089 - lr: 1.0000e-06\n",
      "Epoch 75/100\n",
      "45/45 [==============================] - ETA: 0s - loss: 1.7840 - accuracy: 0.9082\n",
      "Epoch 75: accuracy did not improve from 0.90960\n",
      "45/45 [==============================] - 93s 2s/step - loss: 1.7840 - accuracy: 0.9082 - lr: 1.0000e-06\n",
      "Epoch 76/100\n",
      "45/45 [==============================] - ETA: 0s - loss: 1.7973 - accuracy: 0.8908\n",
      "Epoch 76: accuracy did not improve from 0.90960\n",
      "45/45 [==============================] - 94s 2s/step - loss: 1.7973 - accuracy: 0.8908 - lr: 1.0000e-06\n",
      "Epoch 77/100\n",
      "45/45 [==============================] - ETA: 0s - loss: 1.7800 - accuracy: 0.9096\n",
      "Epoch 77: accuracy did not improve from 0.90960\n",
      "45/45 [==============================] - 95s 2s/step - loss: 1.7800 - accuracy: 0.9096 - lr: 1.0000e-06\n",
      "Epoch 78/100\n",
      "45/45 [==============================] - ETA: 0s - loss: 1.8211 - accuracy: 0.8901\n",
      "Epoch 78: accuracy did not improve from 0.90960\n",
      "45/45 [==============================] - 97s 2s/step - loss: 1.8211 - accuracy: 0.8901 - lr: 1.0000e-06\n",
      "Epoch 79/100\n",
      "45/45 [==============================] - ETA: 0s - loss: 1.7898 - accuracy: 0.9006\n",
      "Epoch 79: accuracy did not improve from 0.90960\n",
      "45/45 [==============================] - 99s 2s/step - loss: 1.7898 - accuracy: 0.9006 - lr: 1.0000e-06\n",
      "Epoch 80/100\n",
      "45/45 [==============================] - ETA: 0s - loss: 1.8086 - accuracy: 0.8971\n",
      "Epoch 80: accuracy did not improve from 0.90960\n",
      "45/45 [==============================] - 95s 2s/step - loss: 1.8086 - accuracy: 0.8971 - lr: 1.0000e-06\n",
      "Epoch 81/100\n",
      "45/45 [==============================] - ETA: 0s - loss: 1.7890 - accuracy: 0.8992\n",
      "Epoch 81: accuracy did not improve from 0.90960\n",
      "45/45 [==============================] - 97s 2s/step - loss: 1.7890 - accuracy: 0.8992 - lr: 1.0000e-06\n",
      "Epoch 82/100\n",
      "45/45 [==============================] - ETA: 0s - loss: 1.7816 - accuracy: 0.9117\n",
      "Epoch 82: accuracy improved from 0.90960 to 0.91168, saving model to model-03\n"
     ]
    },
    {
     "name": "stderr",
     "output_type": "stream",
     "text": [
      "WARNING:absl:Found untraced functions such as _jit_compiled_convolution_op, _jit_compiled_convolution_op, _jit_compiled_convolution_op, _jit_compiled_convolution_op, _jit_compiled_convolution_op while saving (showing 5 of 16). These functions will not be directly callable after loading.\n"
     ]
    },
    {
     "name": "stdout",
     "output_type": "stream",
     "text": [
      "INFO:tensorflow:Assets written to: model-03/assets\n"
     ]
    },
    {
     "name": "stderr",
     "output_type": "stream",
     "text": [
      "INFO:tensorflow:Assets written to: model-03/assets\n"
     ]
    },
    {
     "name": "stdout",
     "output_type": "stream",
     "text": [
      "45/45 [==============================] - 99s 2s/step - loss: 1.7816 - accuracy: 0.9117 - lr: 1.0000e-06\n",
      "Epoch 83/100\n",
      "45/45 [==============================] - ETA: 0s - loss: 1.8088 - accuracy: 0.8985\n",
      "Epoch 83: accuracy did not improve from 0.91168\n",
      "45/45 [==============================] - 100s 2s/step - loss: 1.8088 - accuracy: 0.8985 - lr: 1.0000e-06\n",
      "Epoch 84/100\n",
      "45/45 [==============================] - ETA: 0s - loss: 1.8181 - accuracy: 0.9006\n",
      "Epoch 84: accuracy did not improve from 0.91168\n",
      "45/45 [==============================] - 98s 2s/step - loss: 1.8181 - accuracy: 0.9006 - lr: 1.0000e-06\n",
      "Epoch 85/100\n",
      "45/45 [==============================] - ETA: 0s - loss: 1.8098 - accuracy: 0.8901\n",
      "Epoch 85: accuracy did not improve from 0.91168\n",
      "45/45 [==============================] - 99s 2s/step - loss: 1.8098 - accuracy: 0.8901 - lr: 1.0000e-06\n",
      "Epoch 86/100\n",
      "45/45 [==============================] - ETA: 0s - loss: 1.8107 - accuracy: 0.8950\n",
      "Epoch 86: accuracy did not improve from 0.91168\n",
      "45/45 [==============================] - 99s 2s/step - loss: 1.8107 - accuracy: 0.8950 - lr: 1.0000e-06\n",
      "Epoch 87/100\n",
      "45/45 [==============================] - ETA: 0s - loss: 1.7941 - accuracy: 0.9006\n",
      "Epoch 87: accuracy did not improve from 0.91168\n",
      "45/45 [==============================] - 98s 2s/step - loss: 1.7941 - accuracy: 0.9006 - lr: 1.0000e-06\n",
      "Epoch 88/100\n",
      "45/45 [==============================] - ETA: 0s - loss: 1.8099 - accuracy: 0.8957\n",
      "Epoch 88: accuracy did not improve from 0.91168\n",
      "45/45 [==============================] - 95s 2s/step - loss: 1.8099 - accuracy: 0.8957 - lr: 1.0000e-06\n",
      "Epoch 89/100\n",
      "45/45 [==============================] - ETA: 0s - loss: 1.7841 - accuracy: 0.9019\n",
      "Epoch 89: accuracy did not improve from 0.91168\n",
      "45/45 [==============================] - 94s 2s/step - loss: 1.7841 - accuracy: 0.9019 - lr: 1.0000e-06\n",
      "Epoch 90/100\n",
      "45/45 [==============================] - ETA: 0s - loss: 1.8057 - accuracy: 0.8985\n",
      "Epoch 90: accuracy did not improve from 0.91168\n",
      "45/45 [==============================] - 96s 2s/step - loss: 1.8057 - accuracy: 0.8985 - lr: 1.0000e-06\n",
      "Epoch 91/100\n",
      "45/45 [==============================] - ETA: 0s - loss: 1.8135 - accuracy: 0.8985\n",
      "Epoch 91: accuracy did not improve from 0.91168\n",
      "45/45 [==============================] - 94s 2s/step - loss: 1.8135 - accuracy: 0.8985 - lr: 1.0000e-06\n",
      "Epoch 92/100\n",
      "45/45 [==============================] - ETA: 0s - loss: 1.8160 - accuracy: 0.8950\n",
      "Epoch 92: accuracy did not improve from 0.91168\n",
      "45/45 [==============================] - 96s 2s/step - loss: 1.8160 - accuracy: 0.8950 - lr: 1.0000e-06\n",
      "Epoch 93/100\n",
      "45/45 [==============================] - ETA: 0s - loss: 1.8226 - accuracy: 0.8957\n",
      "Epoch 93: accuracy did not improve from 0.91168\n",
      "45/45 [==============================] - 93s 2s/step - loss: 1.8226 - accuracy: 0.8957 - lr: 1.0000e-06\n",
      "Epoch 94/100\n",
      "45/45 [==============================] - ETA: 0s - loss: 1.8441 - accuracy: 0.8783\n",
      "Epoch 94: accuracy did not improve from 0.91168\n",
      "45/45 [==============================] - 95s 2s/step - loss: 1.8441 - accuracy: 0.8783 - lr: 1.0000e-06\n",
      "Epoch 95/100\n",
      "45/45 [==============================] - ETA: 0s - loss: 1.8309 - accuracy: 0.8929\n",
      "Epoch 95: accuracy did not improve from 0.91168\n",
      "45/45 [==============================] - 94s 2s/step - loss: 1.8309 - accuracy: 0.8929 - lr: 1.0000e-06\n",
      "Epoch 96/100\n",
      "45/45 [==============================] - ETA: 0s - loss: 1.7421 - accuracy: 0.9228\n",
      "Epoch 96: accuracy improved from 0.91168 to 0.92281, saving model to model-03\n"
     ]
    },
    {
     "name": "stderr",
     "output_type": "stream",
     "text": [
      "WARNING:absl:Found untraced functions such as _jit_compiled_convolution_op, _jit_compiled_convolution_op, _jit_compiled_convolution_op, _jit_compiled_convolution_op, _jit_compiled_convolution_op while saving (showing 5 of 16). These functions will not be directly callable after loading.\n"
     ]
    },
    {
     "name": "stdout",
     "output_type": "stream",
     "text": [
      "INFO:tensorflow:Assets written to: model-03/assets\n"
     ]
    },
    {
     "name": "stderr",
     "output_type": "stream",
     "text": [
      "INFO:tensorflow:Assets written to: model-03/assets\n"
     ]
    },
    {
     "name": "stdout",
     "output_type": "stream",
     "text": [
      "45/45 [==============================] - 97s 2s/step - loss: 1.7421 - accuracy: 0.9228 - lr: 1.0000e-06\n",
      "Epoch 97/100\n",
      "45/45 [==============================] - ETA: 0s - loss: 1.7903 - accuracy: 0.9026\n",
      "Epoch 97: accuracy did not improve from 0.92281\n",
      "45/45 [==============================] - 93s 2s/step - loss: 1.7903 - accuracy: 0.9026 - lr: 1.0000e-06\n",
      "Epoch 98/100\n",
      "45/45 [==============================] - ETA: 0s - loss: 1.7945 - accuracy: 0.9033\n",
      "Epoch 98: accuracy did not improve from 0.92281\n",
      "45/45 [==============================] - 94s 2s/step - loss: 1.7945 - accuracy: 0.9033 - lr: 1.0000e-06\n",
      "Epoch 99/100\n",
      "45/45 [==============================] - ETA: 0s - loss: 1.8027 - accuracy: 0.9019\n",
      "Epoch 99: accuracy did not improve from 0.92281\n",
      "45/45 [==============================] - 93s 2s/step - loss: 1.8027 - accuracy: 0.9019 - lr: 1.0000e-06\n",
      "Epoch 100/100\n",
      "45/45 [==============================] - ETA: 0s - loss: 1.7981 - accuracy: 0.8985\n",
      "Epoch 100: accuracy did not improve from 0.92281\n",
      "45/45 [==============================] - 94s 2s/step - loss: 1.7981 - accuracy: 0.8985 - lr: 1.0000e-06\n"
     ]
    }
   ],
   "source": [
    "from numpy.random import seed\n",
    "tf.keras.utils.set_random_seed(42)# keras seed fixing\n",
    "tf.random.set_seed(42)# tensorflow seed fixing\n",
    "\n",
    "## EJECUCION DEL MODELO\n",
    "model.compile(loss=\"categorical_crossentropy\", \n",
    "              optimizer= SGD(learning_rate=0.001),\n",
    "              metrics=['accuracy'])\n",
    "\n",
    "#Agregamos un callback\n",
    "from tensorflow.keras.callbacks import ModelCheckpoint\n",
    "from tensorflow.keras.callbacks import ReduceLROnPlateau\n",
    "\n",
    "checkpointer = ModelCheckpoint(filepath='model-03', verbose=1, save_best_only=True,\n",
    "                               monitor = 'accuracy', mode = 'max')\n",
    "reduce_lr = ReduceLROnPlateau(monitor='loss', factor=0.2,\n",
    "                              patience=3, min_lr=0.000001)\n",
    "\n",
    "history= model.fit(train_generator, callbacks = [reduce_lr, checkpointer], epochs=epochs)"
   ]
  },
  {
   "cell_type": "code",
   "execution_count": 11,
   "id": "7f2bdaef-cd4d-4293-a9d6-96ff42a472f9",
   "metadata": {},
   "outputs": [
    {
     "name": "stdout",
     "output_type": "stream",
     "text": [
      "10/10 [==============================] - 6s 580ms/step\n"
     ]
    }
   ],
   "source": [
    "preds_test = model.predict(test_generator)"
   ]
  },
  {
   "cell_type": "code",
   "execution_count": 12,
   "id": "49f96094-7a88-42fe-ad44-8530de26456e",
   "metadata": {},
   "outputs": [
    {
     "name": "stdout",
     "output_type": "stream",
     "text": [
      "10/10 [==============================] - 6s 611ms/step - loss: 1.6449 - accuracy: 0.9594\n"
     ]
    }
   ],
   "source": [
    "evaluate_test = model.evaluate(test_generator)"
   ]
  },
  {
   "cell_type": "code",
   "execution_count": 13,
   "id": "730f6466-b483-483e-b16c-1dde5da34648",
   "metadata": {},
   "outputs": [
    {
     "data": {
      "text/plain": [
       "[1.6448701620101929, 0.9593750238418579]"
      ]
     },
     "execution_count": 13,
     "metadata": {},
     "output_type": "execute_result"
    }
   ],
   "source": [
    "evaluate_test"
   ]
  },
  {
   "cell_type": "code",
   "execution_count": 14,
   "id": "71fc2b80-aa9e-4fa3-b8d9-25f732de5c86",
   "metadata": {},
   "outputs": [
    {
     "data": {
      "text/plain": [
       "array([0, 0, 0, 0, 0, 0, 0, 0, 0, 0, 0, 0, 0, 0, 0, 0, 0, 0, 0, 0, 0, 0,\n",
       "       0, 0, 0, 0, 0, 0, 0, 0, 0, 0, 1, 1, 1, 1, 1, 1, 1, 1, 1, 1, 1, 1,\n",
       "       1, 1, 1, 1, 1, 1, 1, 1, 1, 1, 1, 1, 1, 1, 1, 1, 1, 1, 1, 1, 2, 2,\n",
       "       2, 2, 2, 2, 2, 2, 2, 2, 2, 2, 2, 2, 3, 2, 2, 2, 2, 2, 2, 2, 2, 2,\n",
       "       2, 2, 2, 2, 2, 2, 2, 2, 3, 3, 3, 3, 3, 3, 3, 3, 3, 3, 3, 3, 3, 3,\n",
       "       3, 3, 3, 3, 3, 3, 3, 3, 3, 3, 3, 3, 3, 3, 3, 3, 3, 3, 4, 4, 4, 4,\n",
       "       6, 4, 4, 4, 4, 4, 5, 4, 4, 4, 4, 4, 4, 5, 4, 4, 4, 4, 4, 4, 4, 4,\n",
       "       4, 4, 4, 4, 4, 4, 5, 5, 5, 5, 5, 5, 5, 5, 5, 5, 4, 5, 5, 5, 5, 5,\n",
       "       5, 5, 5, 5, 5, 5, 5, 5, 5, 5, 5, 5, 5, 5, 5, 4, 6, 6, 6, 6, 6, 6,\n",
       "       6, 6, 6, 6, 6, 6, 6, 6, 6, 6, 6, 6, 6, 6, 6, 6, 6, 4, 6, 6, 6, 6,\n",
       "       6, 6, 6, 4, 7, 7, 8, 7, 7, 7, 7, 7, 7, 7, 7, 7, 7, 7, 7, 7, 7, 7,\n",
       "       7, 7, 7, 8, 7, 7, 7, 7, 7, 7, 8, 7, 3, 7, 8, 8, 8, 8, 8, 8, 8, 8,\n",
       "       8, 8, 8, 7, 8, 8, 8, 8, 8, 8, 8, 8, 8, 1, 8, 8, 8, 9, 7, 8, 8, 8,\n",
       "       8, 8, 9, 9, 9, 9, 9, 9, 9, 9, 9, 9, 9, 9, 9, 9, 9, 9, 9, 9, 9, 5,\n",
       "       9, 9, 9, 9, 9, 9, 9, 9, 9, 9, 9, 9])"
      ]
     },
     "execution_count": 14,
     "metadata": {},
     "output_type": "execute_result"
    }
   ],
   "source": [
    "y_preds_test = np.array([np.argmax(x) for x in preds_test])\n",
    "y_preds_test"
   ]
  },
  {
   "cell_type": "code",
   "execution_count": 15,
   "id": "eb480175-6c03-4201-806c-fb8a27b96984",
   "metadata": {},
   "outputs": [
    {
     "data": {
      "text/plain": [
       "array([0, 0, 0, 0, 0, 0, 0, 0, 0, 0, 0, 0, 0, 0, 0, 0, 0, 0, 0, 0, 0, 0,\n",
       "       0, 0, 0, 0, 0, 0, 0, 0, 0, 0, 1, 1, 1, 1, 1, 1, 1, 1, 1, 1, 1, 1,\n",
       "       1, 1, 1, 1, 1, 1, 1, 1, 1, 1, 1, 1, 1, 1, 1, 1, 1, 1, 1, 1, 2, 2,\n",
       "       2, 2, 2, 2, 2, 2, 2, 2, 2, 2, 2, 2, 2, 2, 2, 2, 2, 2, 2, 2, 2, 2,\n",
       "       2, 2, 2, 2, 2, 2, 2, 2, 3, 3, 3, 3, 3, 3, 3, 3, 3, 3, 3, 3, 3, 3,\n",
       "       3, 3, 3, 3, 3, 3, 3, 3, 3, 3, 3, 3, 3, 3, 3, 3, 3, 3, 4, 4, 4, 4,\n",
       "       4, 4, 4, 4, 4, 4, 4, 4, 4, 4, 4, 4, 4, 4, 4, 4, 4, 4, 4, 4, 4, 4,\n",
       "       4, 4, 4, 4, 4, 4, 5, 5, 5, 5, 5, 5, 5, 5, 5, 5, 5, 5, 5, 5, 5, 5,\n",
       "       5, 5, 5, 5, 5, 5, 5, 5, 5, 5, 5, 5, 5, 5, 5, 5, 6, 6, 6, 6, 6, 6,\n",
       "       6, 6, 6, 6, 6, 6, 6, 6, 6, 6, 6, 6, 6, 6, 6, 6, 6, 6, 6, 6, 6, 6,\n",
       "       6, 6, 6, 6, 7, 7, 7, 7, 7, 7, 7, 7, 7, 7, 7, 7, 7, 7, 7, 7, 7, 7,\n",
       "       7, 7, 7, 7, 7, 7, 7, 7, 7, 7, 7, 7, 7, 7, 8, 8, 8, 8, 8, 8, 8, 8,\n",
       "       8, 8, 8, 8, 8, 8, 8, 8, 8, 8, 8, 8, 8, 8, 8, 8, 8, 8, 8, 8, 8, 8,\n",
       "       8, 8, 9, 9, 9, 9, 9, 9, 9, 9, 9, 9, 9, 9, 9, 9, 9, 9, 9, 9, 9, 9,\n",
       "       9, 9, 9, 9, 9, 9, 9, 9, 9, 9, 9, 9], dtype=int32)"
      ]
     },
     "execution_count": 15,
     "metadata": {},
     "output_type": "execute_result"
    }
   ],
   "source": [
    "y_real_test = test_generator.classes\n",
    "y_real_test"
   ]
  },
  {
   "cell_type": "code",
   "execution_count": 16,
   "id": "95f69712-fd40-43cf-90d2-9b0a1bafca00",
   "metadata": {},
   "outputs": [
    {
     "data": {
      "text/plain": [
       "0.946875"
      ]
     },
     "execution_count": 16,
     "metadata": {},
     "output_type": "execute_result"
    }
   ],
   "source": [
    "accuracy_test = accuracy_score(y_real_test, y_preds_test)\n",
    "accuracy_test"
   ]
  },
  {
   "cell_type": "code",
   "execution_count": 17,
   "id": "4b0f6dec-7952-41d6-bc7c-e585cd11d7de",
   "metadata": {},
   "outputs": [
    {
     "data": {
      "text/plain": [
       "array([[32,  0,  0,  0,  0,  0,  0,  0,  0,  0],\n",
       "       [ 0, 32,  0,  0,  0,  0,  0,  0,  0,  0],\n",
       "       [ 0,  0, 31,  1,  0,  0,  0,  0,  0,  0],\n",
       "       [ 0,  0,  0, 32,  0,  0,  0,  0,  0,  0],\n",
       "       [ 0,  0,  0,  0, 29,  2,  1,  0,  0,  0],\n",
       "       [ 0,  0,  0,  0,  2, 30,  0,  0,  0,  0],\n",
       "       [ 0,  0,  0,  0,  2,  0, 30,  0,  0,  0],\n",
       "       [ 0,  0,  0,  1,  0,  0,  0, 28,  3,  0],\n",
       "       [ 0,  1,  0,  0,  0,  0,  0,  2, 28,  1],\n",
       "       [ 0,  0,  0,  0,  0,  1,  0,  0,  0, 31]])"
      ]
     },
     "execution_count": 17,
     "metadata": {},
     "output_type": "execute_result"
    }
   ],
   "source": [
    "cm_test = confusion_matrix(y_real_test, y_preds_test)\n",
    "cm_test"
   ]
  },
  {
   "cell_type": "code",
   "execution_count": 18,
   "id": "4cb535b8-028f-477e-b03f-8783b3a13096",
   "metadata": {},
   "outputs": [
    {
     "data": {
      "image/png": "[encoded data removed]",
      "text/plain": [
       "<Figure size 800x600 with 2 Axes>"
      ]
     },
     "metadata": {},
     "output_type": "display_data"
    }
   ],
   "source": [
    "plt.figure(figsize=(8,6), dpi=100)\n",
    "# Scale up the size of all text\n",
    "sns.set(font_scale = 1.1)\n",
    "\n",
    "# Plot Confusion Matrix using Seaborn heatmap()\n",
    "# Parameters:\n",
    "# first param - confusion matrix in array format   \n",
    "# annot = True: show the numbers in each heatmap cell\n",
    "# fmt = 'd': show numbers as integers. \n",
    "ax = sns.heatmap(cm_test, annot=True, fmt='d', )\n",
    "\n",
    "# set x-axis label and ticks. \n",
    "ax.set_xlabel(\"Predicted Diagnosis\", fontsize=14, labelpad=20)\n",
    "# ax.xaxis.set_ticklabels(['Negative', 'Positive'])\n",
    "\n",
    "# set y-axis label and ticks\n",
    "ax.set_ylabel(\"Actual Diagnosis\", fontsize=14, labelpad=20)\n",
    "# ax.yaxis.set_ticklabels(['Negative', 'Positive'])\n",
    "\n",
    "# set plot title\n",
    "ax.set_title(\"Confusion Matrix for the Diabetes Detection Model\", fontsize=14, pad=20)\n",
    "\n",
    "plt.show()"
   ]
  },
  {
   "cell_type": "code",
   "execution_count": 19,
   "id": "b503eb1a-81ed-4078-b596-278249a3c722",
   "metadata": {},
   "outputs": [
    {
     "name": "stdout",
     "output_type": "stream",
     "text": [
      "10/10 [==============================] - 6s 588ms/step\n"
     ]
    }
   ],
   "source": [
    "preds_val = model.predict(valid_generator)"
   ]
  },
  {
   "cell_type": "code",
   "execution_count": 20,
   "id": "1fb77fb4-bdbf-4929-b30b-f90ab9aa55eb",
   "metadata": {},
   "outputs": [
    {
     "name": "stdout",
     "output_type": "stream",
     "text": [
      "10/10 [==============================] - 6s 545ms/step - loss: 1.6638 - accuracy: 0.9572\n"
     ]
    }
   ],
   "source": [
    "evaluate_val = model.evaluate(valid_generator)"
   ]
  },
  {
   "cell_type": "code",
   "execution_count": 21,
   "id": "d3a2be82-fc27-446d-be97-ef39329a1385",
   "metadata": {},
   "outputs": [
    {
     "data": {
      "text/plain": [
       "[1.663759708404541, 0.9572368264198303]"
      ]
     },
     "execution_count": 21,
     "metadata": {},
     "output_type": "execute_result"
    }
   ],
   "source": [
    "evaluate_val"
   ]
  },
  {
   "cell_type": "code",
   "execution_count": 22,
   "id": "d17f5e3f-c58f-4ff5-86d8-961dde74325c",
   "metadata": {},
   "outputs": [
    {
     "data": {
      "text/plain": [
       "array([0, 0, 0, 0, 0, 0, 0, 0, 0, 0, 0, 0, 0, 0, 0, 0, 0, 0, 0, 0, 0, 0,\n",
       "       0, 0, 0, 0, 0, 0, 0, 0, 1, 1, 1, 1, 1, 1, 1, 1, 1, 1, 1, 1, 1, 1,\n",
       "       1, 1, 1, 1, 1, 1, 1, 1, 1, 1, 1, 1, 1, 1, 1, 1, 2, 2, 2, 2, 2, 2,\n",
       "       2, 2, 2, 2, 2, 2, 2, 2, 2, 2, 2, 2, 3, 2, 2, 2, 2, 2, 2, 2, 2, 2,\n",
       "       2, 2, 3, 3, 3, 3, 3, 3, 3, 3, 3, 3, 5, 3, 3, 3, 3, 3, 3, 3, 3, 3,\n",
       "       3, 3, 3, 3, 3, 3, 3, 3, 3, 3, 4, 4, 4, 4, 4, 4, 4, 4, 4, 4, 4, 6,\n",
       "       4, 4, 4, 4, 4, 4, 4, 4, 4, 4, 4, 4, 4, 4, 5, 4, 4, 4, 4, 5, 5, 5,\n",
       "       5, 5, 5, 5, 3, 5, 5, 5, 5, 5, 5, 5, 5, 5, 5, 5, 5, 5, 5, 5, 5, 5,\n",
       "       5, 5, 5, 5, 5, 4, 6, 6, 6, 6, 6, 6, 6, 6, 6, 6, 6, 6, 6, 6, 6, 6,\n",
       "       6, 6, 6, 6, 6, 6, 6, 6, 7, 6, 6, 6, 6, 6, 6, 7, 7, 7, 7, 7, 7, 7,\n",
       "       7, 7, 8, 7, 7, 7, 7, 7, 7, 7, 7, 7, 7, 7, 7, 7, 7, 7, 7, 2, 7, 3,\n",
       "       7, 8, 9, 8, 8, 8, 8, 8, 8, 8, 8, 8, 7, 8, 8, 8, 8, 8, 8, 8, 8, 8,\n",
       "       8, 8, 8, 8, 8, 8, 9, 8, 8, 8, 9, 9, 9, 9, 9, 9, 9, 9, 9, 9, 9, 9,\n",
       "       9, 9, 9, 9, 9, 9, 9, 9, 9, 9, 9, 9, 9, 9, 9, 9, 9, 9])"
      ]
     },
     "execution_count": 22,
     "metadata": {},
     "output_type": "execute_result"
    }
   ],
   "source": [
    "y_preds_val = np.array([np.argmax(x) for x in preds_val])\n",
    "y_preds_val"
   ]
  },
  {
   "cell_type": "code",
   "execution_count": 23,
   "id": "7a7cd9d7-3192-4e04-a0a1-693ca99d1037",
   "metadata": {},
   "outputs": [
    {
     "data": {
      "text/plain": [
       "array([0, 0, 0, 0, 0, 0, 0, 0, 0, 0, 0, 0, 0, 0, 0, 0, 0, 0, 0, 0, 0, 0,\n",
       "       0, 0, 0, 0, 0, 0, 0, 0, 1, 1, 1, 1, 1, 1, 1, 1, 1, 1, 1, 1, 1, 1,\n",
       "       1, 1, 1, 1, 1, 1, 1, 1, 1, 1, 1, 1, 1, 1, 1, 1, 2, 2, 2, 2, 2, 2,\n",
       "       2, 2, 2, 2, 2, 2, 2, 2, 2, 2, 2, 2, 2, 2, 2, 2, 2, 2, 2, 2, 2, 2,\n",
       "       2, 2, 3, 3, 3, 3, 3, 3, 3, 3, 3, 3, 3, 3, 3, 3, 3, 3, 3, 3, 3, 3,\n",
       "       3, 3, 3, 3, 3, 3, 3, 3, 3, 3, 4, 4, 4, 4, 4, 4, 4, 4, 4, 4, 4, 4,\n",
       "       4, 4, 4, 4, 4, 4, 4, 4, 4, 4, 4, 4, 4, 4, 4, 4, 4, 4, 4, 5, 5, 5,\n",
       "       5, 5, 5, 5, 5, 5, 5, 5, 5, 5, 5, 5, 5, 5, 5, 5, 5, 5, 5, 5, 5, 5,\n",
       "       5, 5, 5, 5, 5, 5, 6, 6, 6, 6, 6, 6, 6, 6, 6, 6, 6, 6, 6, 6, 6, 6,\n",
       "       6, 6, 6, 6, 6, 6, 6, 6, 6, 6, 6, 6, 6, 6, 6, 7, 7, 7, 7, 7, 7, 7,\n",
       "       7, 7, 7, 7, 7, 7, 7, 7, 7, 7, 7, 7, 7, 7, 7, 7, 7, 7, 7, 7, 7, 7,\n",
       "       7, 8, 8, 8, 8, 8, 8, 8, 8, 8, 8, 8, 8, 8, 8, 8, 8, 8, 8, 8, 8, 8,\n",
       "       8, 8, 8, 8, 8, 8, 8, 8, 8, 8, 9, 9, 9, 9, 9, 9, 9, 9, 9, 9, 9, 9,\n",
       "       9, 9, 9, 9, 9, 9, 9, 9, 9, 9, 9, 9, 9, 9, 9, 9, 9, 9], dtype=int32)"
      ]
     },
     "execution_count": 23,
     "metadata": {},
     "output_type": "execute_result"
    }
   ],
   "source": [
    "y_real_val = valid_generator.classes\n",
    "y_real_val"
   ]
  },
  {
   "cell_type": "code",
   "execution_count": 24,
   "id": "67e7aded-e874-41a0-981d-4de4720b27ad",
   "metadata": {},
   "outputs": [
    {
     "data": {
      "text/plain": [
       "0.9572368421052632"
      ]
     },
     "execution_count": 24,
     "metadata": {},
     "output_type": "execute_result"
    }
   ],
   "source": [
    "accuracy_val = accuracy_score(y_real_val, y_preds_val)\n",
    "accuracy_val"
   ]
  },
  {
   "cell_type": "code",
   "execution_count": 25,
   "id": "c3459eff-7df8-47b2-986a-2beab8ac51e1",
   "metadata": {},
   "outputs": [
    {
     "data": {
      "text/plain": [
       "array([[30,  0,  0,  0,  0,  0,  0,  0,  0,  0],\n",
       "       [ 0, 30,  0,  0,  0,  0,  0,  0,  0,  0],\n",
       "       [ 0,  0, 29,  1,  0,  0,  0,  0,  0,  0],\n",
       "       [ 0,  0,  0, 29,  0,  1,  0,  0,  0,  0],\n",
       "       [ 0,  0,  0,  0, 29,  1,  1,  0,  0,  0],\n",
       "       [ 0,  0,  0,  1,  1, 29,  0,  0,  0,  0],\n",
       "       [ 0,  0,  0,  0,  0,  0, 30,  1,  0,  0],\n",
       "       [ 0,  0,  1,  1,  0,  0,  0, 27,  1,  0],\n",
       "       [ 0,  0,  0,  0,  0,  0,  0,  1, 28,  2],\n",
       "       [ 0,  0,  0,  0,  0,  0,  0,  0,  0, 30]])"
      ]
     },
     "execution_count": 25,
     "metadata": {},
     "output_type": "execute_result"
    }
   ],
   "source": [
    "cm_val = confusion_matrix(y_real_val, y_preds_val)\n",
    "cm_val"
   ]
  },
  {
   "cell_type": "code",
   "execution_count": 26,
   "id": "d9806965-fb2e-4044-af24-af216719e719",
   "metadata": {},
   "outputs": [
    {
     "data": {
      "image/png": "[encoded data removed]",
      "text/plain": [
       "<Figure size 800x600 with 2 Axes>"
      ]
     },
     "metadata": {},
     "output_type": "display_data"
    }
   ],
   "source": [
    "plt.figure(figsize=(8,6), dpi=100)\n",
    "# Scale up the size of all text\n",
    "sns.set(font_scale = 1.1)\n",
    "\n",
    "# Plot Confusion Matrix using Seaborn heatmap()\n",
    "# Parameters:\n",
    "# first param - confusion matrix in array format   \n",
    "# annot = True: show the numbers in each heatmap cell\n",
    "# fmt = 'd': show numbers as integers. \n",
    "ax = sns.heatmap(cm_val, annot=True, fmt='d', )\n",
    "\n",
    "# set x-axis label and ticks. \n",
    "ax.set_xlabel(\"Predicted Diagnosis\", fontsize=14, labelpad=20)\n",
    "# ax.xaxis.set_ticklabels(['Negative', 'Positive'])\n",
    "\n",
    "# set y-axis label and ticks\n",
    "ax.set_ylabel(\"Actual Diagnosis\", fontsize=14, labelpad=20)\n",
    "# ax.yaxis.set_ticklabels(['Negative', 'Positive'])\n",
    "\n",
    "# set plot title\n",
    "ax.set_title(\"Confusion Matrix for the Diabetes Detection Model\", fontsize=14, pad=20)\n",
    "\n",
    "plt.show()"
   ]
  }
 ],
 "metadata": {
  "kernelspec": {
   "display_name": "TensorFlow 2.10 (Local)",
   "language": "python",
   "name": "local-tf2-2-10"
  },
  "language_info": {
   "codemirror_mode": {
    "name": "ipython",
    "version": 3
   },
   "file_extension": ".py",
   "mimetype": "text/x-python",
   "name": "python",
   "nbconvert_exporter": "python",
   "pygments_lexer": "ipython3",
   "version": "3.7.12"
  }
 },
 "nbformat": 4,
 "nbformat_minor": 5
}

{
 "cells": [
  {
   "cell_type": "code",
   "execution_count": 2,
   "id": "cabbedb0-cdf5-4873-b294-64c330b205de",
   "metadata": {},
   "outputs": [
    {
     "name": "stdout",
     "output_type": "stream",
     "text": [
      "2.10.1\n"
     ]
    }
   ],
   "source": [
    "import tensorflow as tf\n",
    "\n",
    "print(tf.__version__)\n",
    "\n",
    "from tensorflow.keras.models                import Sequential, Model\n",
    "from tensorflow.keras.layers                import *\n",
    "from tensorflow.keras.preprocessing.image   import ImageDataGenerator\n",
    "from tensorflow.keras.utils                 import to_categorical\n",
    "from tensorflow.keras.optimizers            import SGD, RMSprop, Adam, Adagrad, Adadelta\n",
    "\n",
    "from sklearn.model_selection import train_test_split\n",
    "from sklearn.metrics import confusion_matrix, accuracy_score\n",
    "from sklearn.utils import class_weight\n",
    "\n",
    "import matplotlib.pyplot as plt\n",
    "import random\n",
    "# import cv2\n",
    "import pandas as pd\n",
    "import numpy as np\n",
    "import matplotlib.gridspec as gridspec\n",
    "import seaborn as sns\n",
    "import sklearn\n",
    "import scipy\n",
    "import skimage\n",
    "from skimage.transform import resize\n",
    "from tqdm import tqdm\n",
    "from sklearn import model_selection\n",
    "from sklearn.model_selection import train_test_split, learning_curve,KFold,cross_val_score,StratifiedKFold\n",
    "from sklearn.utils import class_weight\n",
    "from sklearn.metrics import confusion_matrix"
   ]
  },
  {
   "cell_type": "code",
   "execution_count": 13,
   "id": "591c6941-6b95-49ed-a5e4-b3b065f337e5",
   "metadata": {},
   "outputs": [
    {
     "name": "stdout",
     "output_type": "stream",
     "text": [
      "Cloning into 'Sign-Language-Digits-Dataset'...\n",
      "remote: Enumerating objects: 2095, done.\u001b[K\n",
      "remote: Counting objects: 100% (6/6), done.\u001b[K\n",
      "remote: Compressing objects: 100% (6/6), done.\u001b[K\n",
      "remote: Total 2095 (delta 2), reused 0 (delta 0), pack-reused 2089\u001b[K\n",
      "Receiving objects: 100% (2095/2095), 15.07 MiB | 37.27 MiB/s, done.\n",
      "Resolving deltas: 100% (660/660), done.\n"
     ]
    }
   ],
   "source": [
    "# !git clone https://github.com/ardamavi/Sign-Language-Digits-Dataset.git"
   ]
  },
  {
   "cell_type": "code",
   "execution_count": 15,
   "id": "b142a1a3-59e9-445c-a9c9-35d7cc5e2645",
   "metadata": {},
   "outputs": [
    {
     "name": "stdout",
     "output_type": "stream",
     "text": [
      "Collecting split-folders\n",
      "  Downloading split_folders-0.5.1-py3-none-any.whl (8.4 kB)\n",
      "Installing collected packages: split-folders\n",
      "Successfully installed split-folders-0.5.1\n"
     ]
    }
   ],
   "source": [
    "# !pip install split-folders "
   ]
  },
  {
   "cell_type": "code",
   "execution_count": 16,
   "id": "e29c6dc1-7ac5-4f9c-afc5-27889eadad59",
   "metadata": {},
   "outputs": [],
   "source": [
    "# import splitfolders\n",
    "# import os"
   ]
  },
  {
   "cell_type": "code",
   "execution_count": 17,
   "id": "5bc916a7-71b9-408a-a862-97bac0f8cd8c",
   "metadata": {},
   "outputs": [
    {
     "name": "stderr",
     "output_type": "stream",
     "text": [
      "Copying files: 2062 files [00:00, 7405.55 files/s]\n"
     ]
    }
   ],
   "source": [
    "# path = \"Sign-Language-Digits-Dataset/Dataset\"\n",
    "\n",
    "# splitfolders.ratio(path, seed=777, output=\"Train-Validation-Test-Dataset\", ratio=(0.7, 0.15, 0.15))"
   ]
  },
  {
   "cell_type": "code",
   "execution_count": 3,
   "id": "3c62d1d8-12eb-4f83-ae0c-7ffa1f9c939b",
   "metadata": {},
   "outputs": [],
   "source": [
    "train_path = \"Train-Validation-Test-Dataset/train\"\n",
    "val_path = \"Train-Validation-Test-Dataset/val\"\n",
    "test_path = \"Train-Validation-Test-Dataset/test\""
   ]
  },
  {
   "cell_type": "code",
   "execution_count": 4,
   "id": "b9f0f604-67d3-43b5-962d-5b88fd6bb534",
   "metadata": {},
   "outputs": [
    {
     "name": "stdout",
     "output_type": "stream",
     "text": [
      "Found 1438 images belonging to 10 classes.\n",
      "Found 304 images belonging to 10 classes.\n",
      "Found 320 images belonging to 10 classes.\n"
     ]
    }
   ],
   "source": [
    "from tensorflow.keras.preprocessing.image   import ImageDataGenerator\n",
    "\n",
    "##Clasificamos las imagenes\n",
    "bs = 32 #bach size\n",
    "k = 2\n",
    "# Generador de imágenes de entrenamiento.\n",
    "train_datagen = ImageDataGenerator(\n",
    "        rescale=1./255,\n",
    "        shear_range=(0.3),\n",
    "        zoom_range=(0.3),\n",
    "        width_shift_range=(0.2),\n",
    "        height_shift_range=(0.2),\n",
    "        # validation_split = 0.2,\n",
    "        brightness_range=(0.05,0.85),\n",
    "        horizontal_flip=False)\n",
    "\n",
    "# Carga de imágenes al generador de entrenamiento desde directorio.\n",
    "train_generator = train_datagen.flow_from_directory(\n",
    "        train_path,\n",
    "        class_mode='categorical',\n",
    "        shuffle=True,\n",
    "        target_size=(28*k, 28*k),\n",
    "        color_mode = 'rgb', \n",
    "        # subset = 'training',\n",
    "        batch_size=bs)\n",
    "\n",
    "valid_generator = train_datagen.flow_from_directory(\n",
    "        val_path,\n",
    "        class_mode='categorical',\n",
    "        shuffle=False,\n",
    "        target_size=(28*k, 28*k),\n",
    "        color_mode = 'rgb', \n",
    "        # subset = 'validation',\n",
    "        batch_size=bs)\n",
    "\n",
    "test_generator = train_datagen.flow_from_directory(\n",
    "        test_path,\n",
    "        class_mode='categorical',\n",
    "        shuffle=False,\n",
    "        target_size=(28*k, 28*k),\n",
    "        color_mode = 'rgb', \n",
    "        # subset = 'validation',\n",
    "        batch_size=bs)"
   ]
  },
  {
   "cell_type": "code",
   "execution_count": 5,
   "id": "ce39767d-6018-413a-ac2c-8e816e2cf5e3",
   "metadata": {},
   "outputs": [
    {
     "name": "stderr",
     "output_type": "stream",
     "text": [
      "2023-09-09 23:32:46.944300: W tensorflow/stream_executor/platform/default/dso_loader.cc:64] Could not load dynamic library 'libcuda.so.1'; dlerror: libcuda.so.1: cannot open shared object file: No such file or directory; LD_LIBRARY_PATH: /usr/local/cuda/lib64:/usr/local/cuda/lib:/usr/local/lib/x86_64-linux-gnu:/usr/local/nvidia/lib:/usr/local/nvidia/lib64:/usr/local/nvidia/lib:/usr/local/nvidia/lib64\n",
      "2023-09-09 23:32:46.944351: W tensorflow/stream_executor/cuda/cuda_driver.cc:263] failed call to cuInit: UNKNOWN ERROR (303)\n",
      "2023-09-09 23:32:46.944381: I tensorflow/stream_executor/cuda/cuda_diagnostics.cc:156] kernel driver does not appear to be running on this host (ac522412c7b2): /proc/driver/nvidia/version does not exist\n",
      "2023-09-09 23:32:46.944667: I tensorflow/core/platform/cpu_feature_guard.cc:193] This TensorFlow binary is optimized with oneAPI Deep Neural Network Library (oneDNN) to use the following CPU instructions in performance-critical operations:  AVX2 FMA\n",
      "To enable them in other operations, rebuild TensorFlow with the appropriate compiler flags.\n"
     ]
    },
    {
     "name": "stdout",
     "output_type": "stream",
     "text": [
      "Model: \"vgg19\"\n",
      "_________________________________________________________________\n",
      " Layer (type)                Output Shape              Param #   \n",
      "=================================================================\n",
      " input_1 (InputLayer)        [(None, 224, 224, 3)]     0         \n",
      "                                                                 \n",
      " block1_conv1 (Conv2D)       (None, 224, 224, 64)      1792      \n",
      "                                                                 \n",
      " block1_conv2 (Conv2D)       (None, 224, 224, 64)      36928     \n",
      "                                                                 \n",
      " block1_pool (MaxPooling2D)  (None, 112, 112, 64)      0         \n",
      "                                                                 \n",
      " block2_conv1 (Conv2D)       (None, 112, 112, 128)     73856     \n",
      "                                                                 \n",
      " block2_conv2 (Conv2D)       (None, 112, 112, 128)     147584    \n",
      "                                                                 \n",
      " block2_pool (MaxPooling2D)  (None, 56, 56, 128)       0         \n",
      "                                                                 \n",
      " block3_conv1 (Conv2D)       (None, 56, 56, 256)       295168    \n",
      "                                                                 \n",
      " block3_conv2 (Conv2D)       (None, 56, 56, 256)       590080    \n",
      "                                                                 \n",
      " block3_conv3 (Conv2D)       (None, 56, 56, 256)       590080    \n",
      "                                                                 \n",
      " block3_conv4 (Conv2D)       (None, 56, 56, 256)       590080    \n",
      "                                                                 \n",
      " block3_pool (MaxPooling2D)  (None, 28, 28, 256)       0         \n",
      "                                                                 \n",
      " block4_conv1 (Conv2D)       (None, 28, 28, 512)       1180160   \n",
      "                                                                 \n",
      " block4_conv2 (Conv2D)       (None, 28, 28, 512)       2359808   \n",
      "                                                                 \n",
      " block4_conv3 (Conv2D)       (None, 28, 28, 512)       2359808   \n",
      "                                                                 \n",
      " block4_conv4 (Conv2D)       (None, 28, 28, 512)       2359808   \n",
      "                                                                 \n",
      " block4_pool (MaxPooling2D)  (None, 14, 14, 512)       0         \n",
      "                                                                 \n",
      " block5_conv1 (Conv2D)       (None, 14, 14, 512)       2359808   \n",
      "                                                                 \n",
      " block5_conv2 (Conv2D)       (None, 14, 14, 512)       2359808   \n",
      "                                                                 \n",
      " block5_conv3 (Conv2D)       (None, 14, 14, 512)       2359808   \n",
      "                                                                 \n",
      " block5_conv4 (Conv2D)       (None, 14, 14, 512)       2359808   \n",
      "                                                                 \n",
      " block5_pool (MaxPooling2D)  (None, 7, 7, 512)         0         \n",
      "                                                                 \n",
      " flatten (Flatten)           (None, 25088)             0         \n",
      "                                                                 \n",
      " fc1 (Dense)                 (None, 4096)              102764544 \n",
      "                                                                 \n",
      " fc2 (Dense)                 (None, 4096)              16781312  \n",
      "                                                                 \n",
      " predictions (Dense)         (None, 1000)              4097000   \n",
      "                                                                 \n",
      "=================================================================\n",
      "Total params: 143,667,240\n",
      "Trainable params: 143,667,240\n",
      "Non-trainable params: 0\n",
      "_________________________________________________________________\n",
      "26\n"
     ]
    }
   ],
   "source": [
    "#Visualizamos la estructura del modelo que vamos a utilizar\n",
    "model = tf.keras.applications.VGG19()\n",
    "model.summary()\n",
    "print(len(model.layers))"
   ]
  },
  {
   "cell_type": "code",
   "execution_count": 6,
   "id": "b0e0e374-6bf0-455d-92ee-83982a54eae7",
   "metadata": {},
   "outputs": [
    {
     "name": "stdout",
     "output_type": "stream",
     "text": [
      "22\n"
     ]
    }
   ],
   "source": [
    "##DEFINIMOS EL MODELO\n",
    "num_classes = 10\n",
    "epochs = 50\n",
    "\n",
    "# VGG19\n",
    "# Importamos el modelo que queremos utilizar con los argumentos que queremos\n",
    "VGG19_model = tf.keras.applications.VGG19(input_shape=(28*k,28*k,3),\n",
    "                                          include_top=False,\n",
    "                                          weights='imagenet')\n",
    "\n",
    "print(len(VGG19_model.layers))\n",
    "#Congelamos  las 6 primeras caps del modelo para proceder a entrenar las demás\n",
    "for layer in VGG19_model.layers[:6]:\n",
    "  layer.trainable = False\n",
    "\n",
    "# Creamos un nuevo modelo vacio.\n",
    "model = tf.keras.Sequential()\n",
    "\n",
    "# Añadimos el modelo preentrenado como si se tratase de una capa.\n",
    "model.add(VGG19_model)\n",
    "\n",
    "# Continuamos añadiendo más capas que sí serán entrenadas...\n",
    "from tensorflow.keras import regularizers\n",
    "model.add(Flatten())\n",
    "model.add(Dropout(0.25))\n",
    "model.add(Dense(64, kernel_regularizer=regularizers.l2(0.01), activation = 'relu'))\n",
    "model.add(Dropout(0.25))\n",
    "model.add(Dense(num_classes, activation = 'softmax'))"
   ]
  },
  {
   "cell_type": "code",
   "execution_count": 8,
   "id": "98f08be8-a077-4ef3-92ab-b3604ff40655",
   "metadata": {},
   "outputs": [
    {
     "name": "stdout",
     "output_type": "stream",
     "text": [
      "Epoch 1/50\n",
      "45/45 [==============================] - ETA: 0s - loss: 3.5456 - accuracy: 0.1154\n",
      "Epoch 1: val_accuracy improved from -inf to 0.10855, saving model to model-01\n"
     ]
    },
    {
     "name": "stderr",
     "output_type": "stream",
     "text": [
      "WARNING:absl:Found untraced functions such as _jit_compiled_convolution_op, _jit_compiled_convolution_op, _jit_compiled_convolution_op, _jit_compiled_convolution_op, _jit_compiled_convolution_op while saving (showing 5 of 16). These functions will not be directly callable after loading.\n"
     ]
    },
    {
     "name": "stdout",
     "output_type": "stream",
     "text": [
      "INFO:tensorflow:Assets written to: model-01/assets\n"
     ]
    },
    {
     "name": "stderr",
     "output_type": "stream",
     "text": [
      "INFO:tensorflow:Assets written to: model-01/assets\n"
     ]
    },
    {
     "name": "stdout",
     "output_type": "stream",
     "text": [
      "45/45 [==============================] - 106s 2s/step - loss: 3.5456 - accuracy: 0.1154 - val_loss: 3.4308 - val_accuracy: 0.1086 - lr: 0.0010\n",
      "Epoch 2/50\n",
      "45/45 [==============================] - ETA: 0s - loss: 3.4457 - accuracy: 0.1293\n",
      "Epoch 2: val_accuracy improved from 0.10855 to 0.23026, saving model to model-01\n"
     ]
    },
    {
     "name": "stderr",
     "output_type": "stream",
     "text": [
      "WARNING:absl:Found untraced functions such as _jit_compiled_convolution_op, _jit_compiled_convolution_op, _jit_compiled_convolution_op, _jit_compiled_convolution_op, _jit_compiled_convolution_op while saving (showing 5 of 16). These functions will not be directly callable after loading.\n"
     ]
    },
    {
     "name": "stdout",
     "output_type": "stream",
     "text": [
      "INFO:tensorflow:Assets written to: model-01/assets\n"
     ]
    },
    {
     "name": "stderr",
     "output_type": "stream",
     "text": [
      "INFO:tensorflow:Assets written to: model-01/assets\n"
     ]
    },
    {
     "name": "stdout",
     "output_type": "stream",
     "text": [
      "45/45 [==============================] - 107s 2s/step - loss: 3.4457 - accuracy: 0.1293 - val_loss: 3.3729 - val_accuracy: 0.2303 - lr: 0.0010\n",
      "Epoch 3/50\n",
      "45/45 [==============================] - ETA: 0s - loss: 3.3812 - accuracy: 0.1871\n",
      "Epoch 3: val_accuracy did not improve from 0.23026\n",
      "45/45 [==============================] - 102s 2s/step - loss: 3.3812 - accuracy: 0.1871 - val_loss: 3.2875 - val_accuracy: 0.2270 - lr: 0.0010\n",
      "Epoch 4/50\n",
      "45/45 [==============================] - ETA: 0s - loss: 3.2772 - accuracy: 0.2274\n",
      "Epoch 4: val_accuracy improved from 0.23026 to 0.28947, saving model to model-01\n"
     ]
    },
    {
     "name": "stderr",
     "output_type": "stream",
     "text": [
      "WARNING:absl:Found untraced functions such as _jit_compiled_convolution_op, _jit_compiled_convolution_op, _jit_compiled_convolution_op, _jit_compiled_convolution_op, _jit_compiled_convolution_op while saving (showing 5 of 16). These functions will not be directly callable after loading.\n"
     ]
    },
    {
     "name": "stdout",
     "output_type": "stream",
     "text": [
      "INFO:tensorflow:Assets written to: model-01/assets\n"
     ]
    },
    {
     "name": "stderr",
     "output_type": "stream",
     "text": [
      "INFO:tensorflow:Assets written to: model-01/assets\n"
     ]
    },
    {
     "name": "stdout",
     "output_type": "stream",
     "text": [
      "45/45 [==============================] - 106s 2s/step - loss: 3.2772 - accuracy: 0.2274 - val_loss: 3.1611 - val_accuracy: 0.2895 - lr: 0.0010\n",
      "Epoch 5/50\n",
      "45/45 [==============================] - ETA: 0s - loss: 3.1473 - accuracy: 0.2698\n",
      "Epoch 5: val_accuracy improved from 0.28947 to 0.35197, saving model to model-01\n"
     ]
    },
    {
     "name": "stderr",
     "output_type": "stream",
     "text": [
      "WARNING:absl:Found untraced functions such as _jit_compiled_convolution_op, _jit_compiled_convolution_op, _jit_compiled_convolution_op, _jit_compiled_convolution_op, _jit_compiled_convolution_op while saving (showing 5 of 16). These functions will not be directly callable after loading.\n"
     ]
    },
    {
     "name": "stdout",
     "output_type": "stream",
     "text": [
      "INFO:tensorflow:Assets written to: model-01/assets\n"
     ]
    },
    {
     "name": "stderr",
     "output_type": "stream",
     "text": [
      "INFO:tensorflow:Assets written to: model-01/assets\n"
     ]
    },
    {
     "name": "stdout",
     "output_type": "stream",
     "text": [
      "45/45 [==============================] - 106s 2s/step - loss: 3.1473 - accuracy: 0.2698 - val_loss: 2.9885 - val_accuracy: 0.3520 - lr: 0.0010\n",
      "Epoch 6/50\n",
      "45/45 [==============================] - ETA: 0s - loss: 3.0146 - accuracy: 0.3150\n",
      "Epoch 6: val_accuracy did not improve from 0.35197\n",
      "45/45 [==============================] - 102s 2s/step - loss: 3.0146 - accuracy: 0.3150 - val_loss: 2.9393 - val_accuracy: 0.3191 - lr: 0.0010\n",
      "Epoch 7/50\n",
      "45/45 [==============================] - ETA: 0s - loss: 2.8681 - accuracy: 0.3825\n",
      "Epoch 7: val_accuracy improved from 0.35197 to 0.47368, saving model to model-01\n"
     ]
    },
    {
     "name": "stderr",
     "output_type": "stream",
     "text": [
      "WARNING:absl:Found untraced functions such as _jit_compiled_convolution_op, _jit_compiled_convolution_op, _jit_compiled_convolution_op, _jit_compiled_convolution_op, _jit_compiled_convolution_op while saving (showing 5 of 16). These functions will not be directly callable after loading.\n"
     ]
    },
    {
     "name": "stdout",
     "output_type": "stream",
     "text": [
      "INFO:tensorflow:Assets written to: model-01/assets\n"
     ]
    },
    {
     "name": "stderr",
     "output_type": "stream",
     "text": [
      "INFO:tensorflow:Assets written to: model-01/assets\n"
     ]
    },
    {
     "name": "stdout",
     "output_type": "stream",
     "text": [
      "45/45 [==============================] - 107s 2s/step - loss: 2.8681 - accuracy: 0.3825 - val_loss: 2.6819 - val_accuracy: 0.4737 - lr: 0.0010\n",
      "Epoch 8/50\n",
      "45/45 [==============================] - ETA: 0s - loss: 2.8049 - accuracy: 0.3818\n",
      "Epoch 8: val_accuracy improved from 0.47368 to 0.56579, saving model to model-01\n"
     ]
    },
    {
     "name": "stderr",
     "output_type": "stream",
     "text": [
      "WARNING:absl:Found untraced functions such as _jit_compiled_convolution_op, _jit_compiled_convolution_op, _jit_compiled_convolution_op, _jit_compiled_convolution_op, _jit_compiled_convolution_op while saving (showing 5 of 16). These functions will not be directly callable after loading.\n"
     ]
    },
    {
     "name": "stdout",
     "output_type": "stream",
     "text": [
      "INFO:tensorflow:Assets written to: model-01/assets\n"
     ]
    },
    {
     "name": "stderr",
     "output_type": "stream",
     "text": [
      "INFO:tensorflow:Assets written to: model-01/assets\n"
     ]
    },
    {
     "name": "stdout",
     "output_type": "stream",
     "text": [
      "45/45 [==============================] - 106s 2s/step - loss: 2.8049 - accuracy: 0.3818 - val_loss: 2.5042 - val_accuracy: 0.5658 - lr: 0.0010\n",
      "Epoch 9/50\n",
      "45/45 [==============================] - ETA: 0s - loss: 2.6610 - accuracy: 0.4423\n",
      "Epoch 9: val_accuracy improved from 0.56579 to 0.66447, saving model to model-01\n"
     ]
    },
    {
     "name": "stderr",
     "output_type": "stream",
     "text": [
      "WARNING:absl:Found untraced functions such as _jit_compiled_convolution_op, _jit_compiled_convolution_op, _jit_compiled_convolution_op, _jit_compiled_convolution_op, _jit_compiled_convolution_op while saving (showing 5 of 16). These functions will not be directly callable after loading.\n"
     ]
    },
    {
     "name": "stdout",
     "output_type": "stream",
     "text": [
      "INFO:tensorflow:Assets written to: model-01/assets\n"
     ]
    },
    {
     "name": "stderr",
     "output_type": "stream",
     "text": [
      "INFO:tensorflow:Assets written to: model-01/assets\n"
     ]
    },
    {
     "name": "stdout",
     "output_type": "stream",
     "text": [
      "45/45 [==============================] - 105s 2s/step - loss: 2.6610 - accuracy: 0.4423 - val_loss: 2.2776 - val_accuracy: 0.6645 - lr: 0.0010\n",
      "Epoch 10/50\n",
      "45/45 [==============================] - ETA: 0s - loss: 2.4895 - accuracy: 0.5167\n",
      "Epoch 10: val_accuracy did not improve from 0.66447\n",
      "45/45 [==============================] - 103s 2s/step - loss: 2.4895 - accuracy: 0.5167 - val_loss: 2.3294 - val_accuracy: 0.6086 - lr: 0.0010\n",
      "Epoch 11/50\n",
      "45/45 [==============================] - ETA: 0s - loss: 2.3869 - accuracy: 0.5570\n",
      "Epoch 11: val_accuracy improved from 0.66447 to 0.73684, saving model to model-01\n"
     ]
    },
    {
     "name": "stderr",
     "output_type": "stream",
     "text": [
      "WARNING:absl:Found untraced functions such as _jit_compiled_convolution_op, _jit_compiled_convolution_op, _jit_compiled_convolution_op, _jit_compiled_convolution_op, _jit_compiled_convolution_op while saving (showing 5 of 16). These functions will not be directly callable after loading.\n"
     ]
    },
    {
     "name": "stdout",
     "output_type": "stream",
     "text": [
      "INFO:tensorflow:Assets written to: model-01/assets\n"
     ]
    },
    {
     "name": "stderr",
     "output_type": "stream",
     "text": [
      "INFO:tensorflow:Assets written to: model-01/assets\n"
     ]
    },
    {
     "name": "stdout",
     "output_type": "stream",
     "text": [
      "45/45 [==============================] - 106s 2s/step - loss: 2.3869 - accuracy: 0.5570 - val_loss: 2.0224 - val_accuracy: 0.7368 - lr: 0.0010\n",
      "Epoch 12/50\n",
      "45/45 [==============================] - ETA: 0s - loss: 2.2506 - accuracy: 0.5981\n",
      "Epoch 12: val_accuracy improved from 0.73684 to 0.74013, saving model to model-01\n"
     ]
    },
    {
     "name": "stderr",
     "output_type": "stream",
     "text": [
      "WARNING:absl:Found untraced functions such as _jit_compiled_convolution_op, _jit_compiled_convolution_op, _jit_compiled_convolution_op, _jit_compiled_convolution_op, _jit_compiled_convolution_op while saving (showing 5 of 16). These functions will not be directly callable after loading.\n"
     ]
    },
    {
     "name": "stdout",
     "output_type": "stream",
     "text": [
      "INFO:tensorflow:Assets written to: model-01/assets\n"
     ]
    },
    {
     "name": "stderr",
     "output_type": "stream",
     "text": [
      "INFO:tensorflow:Assets written to: model-01/assets\n"
     ]
    },
    {
     "name": "stdout",
     "output_type": "stream",
     "text": [
      "45/45 [==============================] - 103s 2s/step - loss: 2.2506 - accuracy: 0.5981 - val_loss: 1.8973 - val_accuracy: 0.7401 - lr: 0.0010\n",
      "Epoch 13/50\n",
      "45/45 [==============================] - ETA: 0s - loss: 2.1383 - accuracy: 0.6481\n",
      "Epoch 13: val_accuracy improved from 0.74013 to 0.80263, saving model to model-01\n"
     ]
    },
    {
     "name": "stderr",
     "output_type": "stream",
     "text": [
      "WARNING:absl:Found untraced functions such as _jit_compiled_convolution_op, _jit_compiled_convolution_op, _jit_compiled_convolution_op, _jit_compiled_convolution_op, _jit_compiled_convolution_op while saving (showing 5 of 16). These functions will not be directly callable after loading.\n"
     ]
    },
    {
     "name": "stdout",
     "output_type": "stream",
     "text": [
      "INFO:tensorflow:Assets written to: model-01/assets\n"
     ]
    },
    {
     "name": "stderr",
     "output_type": "stream",
     "text": [
      "INFO:tensorflow:Assets written to: model-01/assets\n"
     ]
    },
    {
     "name": "stdout",
     "output_type": "stream",
     "text": [
      "45/45 [==============================] - 106s 2s/step - loss: 2.1383 - accuracy: 0.6481 - val_loss: 1.7412 - val_accuracy: 0.8026 - lr: 0.0010\n",
      "Epoch 14/50\n",
      "45/45 [==============================] - ETA: 0s - loss: 2.0390 - accuracy: 0.6836\n",
      "Epoch 14: val_accuracy did not improve from 0.80263\n",
      "45/45 [==============================] - 102s 2s/step - loss: 2.0390 - accuracy: 0.6836 - val_loss: 1.7346 - val_accuracy: 0.8026 - lr: 0.0010\n",
      "Epoch 15/50\n",
      "45/45 [==============================] - ETA: 0s - loss: 2.0043 - accuracy: 0.6780\n",
      "Epoch 15: val_accuracy improved from 0.80263 to 0.87500, saving model to model-01\n"
     ]
    },
    {
     "name": "stderr",
     "output_type": "stream",
     "text": [
      "WARNING:absl:Found untraced functions such as _jit_compiled_convolution_op, _jit_compiled_convolution_op, _jit_compiled_convolution_op, _jit_compiled_convolution_op, _jit_compiled_convolution_op while saving (showing 5 of 16). These functions will not be directly callable after loading.\n"
     ]
    },
    {
     "name": "stdout",
     "output_type": "stream",
     "text": [
      "INFO:tensorflow:Assets written to: model-01/assets\n"
     ]
    },
    {
     "name": "stderr",
     "output_type": "stream",
     "text": [
      "INFO:tensorflow:Assets written to: model-01/assets\n"
     ]
    },
    {
     "name": "stdout",
     "output_type": "stream",
     "text": [
      "45/45 [==============================] - 106s 2s/step - loss: 2.0043 - accuracy: 0.6780 - val_loss: 1.5612 - val_accuracy: 0.8750 - lr: 0.0010\n",
      "Epoch 16/50\n",
      "45/45 [==============================] - ETA: 0s - loss: 1.8324 - accuracy: 0.7399\n",
      "Epoch 16: val_accuracy did not improve from 0.87500\n",
      "45/45 [==============================] - 157s 4s/step - loss: 1.8324 - accuracy: 0.7399 - val_loss: 1.5994 - val_accuracy: 0.8257 - lr: 0.0010\n",
      "Epoch 17/50\n",
      "45/45 [==============================] - ETA: 0s - loss: 1.8348 - accuracy: 0.7510\n",
      "Epoch 17: val_accuracy did not improve from 0.87500\n",
      "45/45 [==============================] - 103s 2s/step - loss: 1.8348 - accuracy: 0.7510 - val_loss: 1.6678 - val_accuracy: 0.8355 - lr: 0.0010\n",
      "Epoch 18/50\n",
      "45/45 [==============================] - ETA: 0s - loss: 1.7307 - accuracy: 0.7990\n",
      "Epoch 18: val_accuracy improved from 0.87500 to 0.89145, saving model to model-01\n"
     ]
    },
    {
     "name": "stderr",
     "output_type": "stream",
     "text": [
      "WARNING:absl:Found untraced functions such as _jit_compiled_convolution_op, _jit_compiled_convolution_op, _jit_compiled_convolution_op, _jit_compiled_convolution_op, _jit_compiled_convolution_op while saving (showing 5 of 16). These functions will not be directly callable after loading.\n"
     ]
    },
    {
     "name": "stdout",
     "output_type": "stream",
     "text": [
      "INFO:tensorflow:Assets written to: model-01/assets\n"
     ]
    },
    {
     "name": "stderr",
     "output_type": "stream",
     "text": [
      "INFO:tensorflow:Assets written to: model-01/assets\n"
     ]
    },
    {
     "name": "stdout",
     "output_type": "stream",
     "text": [
      "45/45 [==============================] - 107s 2s/step - loss: 1.7307 - accuracy: 0.7990 - val_loss: 1.4797 - val_accuracy: 0.8914 - lr: 0.0010\n",
      "Epoch 19/50\n",
      "45/45 [==============================] - ETA: 0s - loss: 1.6890 - accuracy: 0.7976\n",
      "Epoch 19: val_accuracy did not improve from 0.89145\n",
      "45/45 [==============================] - 105s 2s/step - loss: 1.6890 - accuracy: 0.7976 - val_loss: 1.4524 - val_accuracy: 0.8849 - lr: 0.0010\n",
      "Epoch 20/50\n",
      "45/45 [==============================] - ETA: 0s - loss: 1.5836 - accuracy: 0.8533\n",
      "Epoch 20: val_accuracy did not improve from 0.89145\n",
      "45/45 [==============================] - 123s 3s/step - loss: 1.5836 - accuracy: 0.8533 - val_loss: 1.4473 - val_accuracy: 0.8914 - lr: 0.0010\n",
      "Epoch 21/50\n",
      "45/45 [==============================] - ETA: 0s - loss: 1.6223 - accuracy: 0.8241\n",
      "Epoch 21: val_accuracy improved from 0.89145 to 0.89474, saving model to model-01\n"
     ]
    },
    {
     "name": "stderr",
     "output_type": "stream",
     "text": [
      "WARNING:absl:Found untraced functions such as _jit_compiled_convolution_op, _jit_compiled_convolution_op, _jit_compiled_convolution_op, _jit_compiled_convolution_op, _jit_compiled_convolution_op while saving (showing 5 of 16). These functions will not be directly callable after loading.\n"
     ]
    },
    {
     "name": "stdout",
     "output_type": "stream",
     "text": [
      "INFO:tensorflow:Assets written to: model-01/assets\n"
     ]
    },
    {
     "name": "stderr",
     "output_type": "stream",
     "text": [
      "INFO:tensorflow:Assets written to: model-01/assets\n"
     ]
    },
    {
     "name": "stdout",
     "output_type": "stream",
     "text": [
      "45/45 [==============================] - 105s 2s/step - loss: 1.6223 - accuracy: 0.8241 - val_loss: 1.4418 - val_accuracy: 0.8947 - lr: 0.0010\n",
      "Epoch 22/50\n",
      "45/45 [==============================] - ETA: 0s - loss: 1.5711 - accuracy: 0.8414\n",
      "Epoch 22: val_accuracy improved from 0.89474 to 0.92105, saving model to model-01\n"
     ]
    },
    {
     "name": "stderr",
     "output_type": "stream",
     "text": [
      "WARNING:absl:Found untraced functions such as _jit_compiled_convolution_op, _jit_compiled_convolution_op, _jit_compiled_convolution_op, _jit_compiled_convolution_op, _jit_compiled_convolution_op while saving (showing 5 of 16). These functions will not be directly callable after loading.\n"
     ]
    },
    {
     "name": "stdout",
     "output_type": "stream",
     "text": [
      "INFO:tensorflow:Assets written to: model-01/assets\n"
     ]
    },
    {
     "name": "stderr",
     "output_type": "stream",
     "text": [
      "INFO:tensorflow:Assets written to: model-01/assets\n"
     ]
    },
    {
     "name": "stdout",
     "output_type": "stream",
     "text": [
      "45/45 [==============================] - 106s 2s/step - loss: 1.5711 - accuracy: 0.8414 - val_loss: 1.3591 - val_accuracy: 0.9211 - lr: 0.0010\n",
      "Epoch 23/50\n",
      "45/45 [==============================] - ETA: 0s - loss: 1.5292 - accuracy: 0.8581\n",
      "Epoch 23: val_accuracy improved from 0.92105 to 0.93750, saving model to model-01\n"
     ]
    },
    {
     "name": "stderr",
     "output_type": "stream",
     "text": [
      "WARNING:absl:Found untraced functions such as _jit_compiled_convolution_op, _jit_compiled_convolution_op, _jit_compiled_convolution_op, _jit_compiled_convolution_op, _jit_compiled_convolution_op while saving (showing 5 of 16). These functions will not be directly callable after loading.\n"
     ]
    },
    {
     "name": "stdout",
     "output_type": "stream",
     "text": [
      "INFO:tensorflow:Assets written to: model-01/assets\n"
     ]
    },
    {
     "name": "stderr",
     "output_type": "stream",
     "text": [
      "INFO:tensorflow:Assets written to: model-01/assets\n"
     ]
    },
    {
     "name": "stdout",
     "output_type": "stream",
     "text": [
      "45/45 [==============================] - 106s 2s/step - loss: 1.5292 - accuracy: 0.8581 - val_loss: 1.3128 - val_accuracy: 0.9375 - lr: 0.0010\n",
      "Epoch 24/50\n",
      "45/45 [==============================] - ETA: 0s - loss: 1.5259 - accuracy: 0.8686\n",
      "Epoch 24: val_accuracy did not improve from 0.93750\n",
      "45/45 [==============================] - 99s 2s/step - loss: 1.5259 - accuracy: 0.8686 - val_loss: 1.3767 - val_accuracy: 0.9145 - lr: 0.0010\n",
      "Epoch 25/50\n",
      "45/45 [==============================] - ETA: 0s - loss: 1.4980 - accuracy: 0.8644\n",
      "Epoch 25: val_accuracy did not improve from 0.93750\n",
      "45/45 [==============================] - 99s 2s/step - loss: 1.4980 - accuracy: 0.8644 - val_loss: 1.3453 - val_accuracy: 0.9178 - lr: 0.0010\n",
      "Epoch 26/50\n",
      "45/45 [==============================] - ETA: 0s - loss: 1.4486 - accuracy: 0.8853\n",
      "Epoch 26: val_accuracy did not improve from 0.93750\n",
      "45/45 [==============================] - 117s 3s/step - loss: 1.4486 - accuracy: 0.8853 - val_loss: 1.3660 - val_accuracy: 0.9309 - lr: 0.0010\n",
      "Epoch 27/50\n",
      "45/45 [==============================] - ETA: 0s - loss: 1.4144 - accuracy: 0.8964\n",
      "Epoch 27: val_accuracy improved from 0.93750 to 0.94737, saving model to model-01\n"
     ]
    },
    {
     "name": "stderr",
     "output_type": "stream",
     "text": [
      "WARNING:absl:Found untraced functions such as _jit_compiled_convolution_op, _jit_compiled_convolution_op, _jit_compiled_convolution_op, _jit_compiled_convolution_op, _jit_compiled_convolution_op while saving (showing 5 of 16). These functions will not be directly callable after loading.\n"
     ]
    },
    {
     "name": "stdout",
     "output_type": "stream",
     "text": [
      "INFO:tensorflow:Assets written to: model-01/assets\n"
     ]
    },
    {
     "name": "stderr",
     "output_type": "stream",
     "text": [
      "INFO:tensorflow:Assets written to: model-01/assets\n"
     ]
    },
    {
     "name": "stdout",
     "output_type": "stream",
     "text": [
      "45/45 [==============================] - 121s 3s/step - loss: 1.4144 - accuracy: 0.8964 - val_loss: 1.3054 - val_accuracy: 0.9474 - lr: 2.0000e-04\n",
      "Epoch 28/50\n",
      "45/45 [==============================] - ETA: 0s - loss: 1.3521 - accuracy: 0.9221\n",
      "Epoch 28: val_accuracy did not improve from 0.94737\n",
      "45/45 [==============================] - 108s 2s/step - loss: 1.3521 - accuracy: 0.9221 - val_loss: 1.3170 - val_accuracy: 0.9309 - lr: 2.0000e-04\n",
      "Epoch 29/50\n",
      "45/45 [==============================] - ETA: 0s - loss: 1.3883 - accuracy: 0.9103\n",
      "Epoch 29: val_accuracy did not improve from 0.94737\n",
      "45/45 [==============================] - 104s 2s/step - loss: 1.3883 - accuracy: 0.9103 - val_loss: 1.2847 - val_accuracy: 0.9276 - lr: 2.0000e-04\n",
      "Epoch 30/50\n",
      "45/45 [==============================] - ETA: 0s - loss: 1.3644 - accuracy: 0.9145\n",
      "Epoch 30: val_accuracy did not improve from 0.94737\n",
      "45/45 [==============================] - 131s 3s/step - loss: 1.3644 - accuracy: 0.9145 - val_loss: 1.3279 - val_accuracy: 0.9375 - lr: 2.0000e-04\n",
      "Epoch 31/50\n",
      "45/45 [==============================] - ETA: 0s - loss: 1.3659 - accuracy: 0.9096\n",
      "Epoch 31: val_accuracy did not improve from 0.94737\n",
      "45/45 [==============================] - 106s 2s/step - loss: 1.3659 - accuracy: 0.9096 - val_loss: 1.3219 - val_accuracy: 0.9342 - lr: 2.0000e-04\n",
      "Epoch 32/50\n",
      "45/45 [==============================] - ETA: 0s - loss: 1.3280 - accuracy: 0.9263\n",
      "Epoch 32: val_accuracy improved from 0.94737 to 0.95066, saving model to model-01\n"
     ]
    },
    {
     "name": "stderr",
     "output_type": "stream",
     "text": [
      "WARNING:absl:Found untraced functions such as _jit_compiled_convolution_op, _jit_compiled_convolution_op, _jit_compiled_convolution_op, _jit_compiled_convolution_op, _jit_compiled_convolution_op while saving (showing 5 of 16). These functions will not be directly callable after loading.\n"
     ]
    },
    {
     "name": "stdout",
     "output_type": "stream",
     "text": [
      "INFO:tensorflow:Assets written to: model-01/assets\n"
     ]
    },
    {
     "name": "stderr",
     "output_type": "stream",
     "text": [
      "INFO:tensorflow:Assets written to: model-01/assets\n"
     ]
    },
    {
     "name": "stdout",
     "output_type": "stream",
     "text": [
      "45/45 [==============================] - 107s 2s/step - loss: 1.3280 - accuracy: 0.9263 - val_loss: 1.2715 - val_accuracy: 0.9507 - lr: 2.0000e-04\n",
      "Epoch 33/50\n",
      "45/45 [==============================] - ETA: 0s - loss: 1.3355 - accuracy: 0.9200\n",
      "Epoch 33: val_accuracy improved from 0.95066 to 0.95395, saving model to model-01\n"
     ]
    },
    {
     "name": "stderr",
     "output_type": "stream",
     "text": [
      "WARNING:absl:Found untraced functions such as _jit_compiled_convolution_op, _jit_compiled_convolution_op, _jit_compiled_convolution_op, _jit_compiled_convolution_op, _jit_compiled_convolution_op while saving (showing 5 of 16). These functions will not be directly callable after loading.\n"
     ]
    },
    {
     "name": "stdout",
     "output_type": "stream",
     "text": [
      "INFO:tensorflow:Assets written to: model-01/assets\n"
     ]
    },
    {
     "name": "stderr",
     "output_type": "stream",
     "text": [
      "INFO:tensorflow:Assets written to: model-01/assets\n"
     ]
    },
    {
     "name": "stdout",
     "output_type": "stream",
     "text": [
      "45/45 [==============================] - 107s 2s/step - loss: 1.3355 - accuracy: 0.9200 - val_loss: 1.2970 - val_accuracy: 0.9539 - lr: 2.0000e-04\n",
      "Epoch 34/50\n",
      "45/45 [==============================] - ETA: 0s - loss: 1.3661 - accuracy: 0.9145\n",
      "Epoch 34: val_accuracy did not improve from 0.95395\n",
      "45/45 [==============================] - 103s 2s/step - loss: 1.3661 - accuracy: 0.9145 - val_loss: 1.3187 - val_accuracy: 0.9441 - lr: 2.0000e-04\n",
      "Epoch 35/50\n",
      "45/45 [==============================] - ETA: 0s - loss: 1.3443 - accuracy: 0.9145\n",
      "Epoch 35: val_accuracy did not improve from 0.95395\n",
      "45/45 [==============================] - 103s 2s/step - loss: 1.3443 - accuracy: 0.9145 - val_loss: 1.3142 - val_accuracy: 0.9408 - lr: 2.0000e-04\n",
      "Epoch 36/50\n",
      "45/45 [==============================] - ETA: 0s - loss: 1.3218 - accuracy: 0.9291\n",
      "Epoch 36: val_accuracy did not improve from 0.95395\n",
      "45/45 [==============================] - 104s 2s/step - loss: 1.3218 - accuracy: 0.9291 - val_loss: 1.3237 - val_accuracy: 0.9408 - lr: 4.0000e-05\n",
      "Epoch 37/50\n",
      "45/45 [==============================] - ETA: 0s - loss: 1.3310 - accuracy: 0.9172\n",
      "Epoch 37: val_accuracy improved from 0.95395 to 0.95724, saving model to model-01\n"
     ]
    },
    {
     "name": "stderr",
     "output_type": "stream",
     "text": [
      "WARNING:absl:Found untraced functions such as _jit_compiled_convolution_op, _jit_compiled_convolution_op, _jit_compiled_convolution_op, _jit_compiled_convolution_op, _jit_compiled_convolution_op while saving (showing 5 of 16). These functions will not be directly callable after loading.\n"
     ]
    },
    {
     "name": "stdout",
     "output_type": "stream",
     "text": [
      "INFO:tensorflow:Assets written to: model-01/assets\n"
     ]
    },
    {
     "name": "stderr",
     "output_type": "stream",
     "text": [
      "INFO:tensorflow:Assets written to: model-01/assets\n"
     ]
    },
    {
     "name": "stdout",
     "output_type": "stream",
     "text": [
      "45/45 [==============================] - 111s 2s/step - loss: 1.3310 - accuracy: 0.9172 - val_loss: 1.2920 - val_accuracy: 0.9572 - lr: 4.0000e-05\n",
      "Epoch 38/50\n",
      "45/45 [==============================] - ETA: 0s - loss: 1.3241 - accuracy: 0.9235\n",
      "Epoch 38: val_accuracy did not improve from 0.95724\n",
      "45/45 [==============================] - 103s 2s/step - loss: 1.3241 - accuracy: 0.9235 - val_loss: 1.3699 - val_accuracy: 0.9276 - lr: 4.0000e-05\n",
      "Epoch 39/50\n",
      "45/45 [==============================] - ETA: 0s - loss: 1.3309 - accuracy: 0.9291\n",
      "Epoch 39: val_accuracy did not improve from 0.95724\n",
      "45/45 [==============================] - 108s 2s/step - loss: 1.3309 - accuracy: 0.9291 - val_loss: 1.2994 - val_accuracy: 0.9441 - lr: 8.0000e-06\n",
      "Epoch 40/50\n",
      "45/45 [==============================] - ETA: 0s - loss: 1.3343 - accuracy: 0.9305\n",
      "Epoch 40: val_accuracy did not improve from 0.95724\n",
      "45/45 [==============================] - 106s 2s/step - loss: 1.3343 - accuracy: 0.9305 - val_loss: 1.2677 - val_accuracy: 0.9441 - lr: 8.0000e-06\n",
      "Epoch 41/50\n",
      "45/45 [==============================] - ETA: 0s - loss: 1.3236 - accuracy: 0.9270\n",
      "Epoch 41: val_accuracy did not improve from 0.95724\n",
      "45/45 [==============================] - 102s 2s/step - loss: 1.3236 - accuracy: 0.9270 - val_loss: 1.2890 - val_accuracy: 0.9375 - lr: 8.0000e-06\n",
      "Epoch 42/50\n",
      "45/45 [==============================] - ETA: 0s - loss: 1.3455 - accuracy: 0.9152\n",
      "Epoch 42: val_accuracy did not improve from 0.95724\n",
      "45/45 [==============================] - 103s 2s/step - loss: 1.3455 - accuracy: 0.9152 - val_loss: 1.2639 - val_accuracy: 0.9539 - lr: 8.0000e-06\n",
      "Epoch 43/50\n",
      "45/45 [==============================] - ETA: 0s - loss: 1.3507 - accuracy: 0.9179\n",
      "Epoch 43: val_accuracy did not improve from 0.95724\n",
      "45/45 [==============================] - 100s 2s/step - loss: 1.3507 - accuracy: 0.9179 - val_loss: 1.2975 - val_accuracy: 0.9408 - lr: 8.0000e-06\n",
      "Epoch 44/50\n",
      "45/45 [==============================] - ETA: 0s - loss: 1.3313 - accuracy: 0.9228\n",
      "Epoch 44: val_accuracy did not improve from 0.95724\n",
      "45/45 [==============================] - 98s 2s/step - loss: 1.3313 - accuracy: 0.9228 - val_loss: 1.2483 - val_accuracy: 0.9539 - lr: 8.0000e-06\n",
      "Epoch 45/50\n",
      "45/45 [==============================] - ETA: 0s - loss: 1.3318 - accuracy: 0.9284\n",
      "Epoch 45: val_accuracy did not improve from 0.95724\n",
      "45/45 [==============================] - 102s 2s/step - loss: 1.3318 - accuracy: 0.9284 - val_loss: 1.2813 - val_accuracy: 0.9474 - lr: 8.0000e-06\n",
      "Epoch 46/50\n",
      "45/45 [==============================] - ETA: 0s - loss: 1.3209 - accuracy: 0.9291\n",
      "Epoch 46: val_accuracy improved from 0.95724 to 0.96382, saving model to model-01\n"
     ]
    },
    {
     "name": "stderr",
     "output_type": "stream",
     "text": [
      "WARNING:absl:Found untraced functions such as _jit_compiled_convolution_op, _jit_compiled_convolution_op, _jit_compiled_convolution_op, _jit_compiled_convolution_op, _jit_compiled_convolution_op while saving (showing 5 of 16). These functions will not be directly callable after loading.\n"
     ]
    },
    {
     "name": "stdout",
     "output_type": "stream",
     "text": [
      "INFO:tensorflow:Assets written to: model-01/assets\n"
     ]
    },
    {
     "name": "stderr",
     "output_type": "stream",
     "text": [
      "INFO:tensorflow:Assets written to: model-01/assets\n"
     ]
    },
    {
     "name": "stdout",
     "output_type": "stream",
     "text": [
      "45/45 [==============================] - 106s 2s/step - loss: 1.3209 - accuracy: 0.9291 - val_loss: 1.2498 - val_accuracy: 0.9638 - lr: 8.0000e-06\n",
      "Epoch 47/50\n",
      "45/45 [==============================] - ETA: 0s - loss: 1.3421 - accuracy: 0.9159\n",
      "Epoch 47: val_accuracy did not improve from 0.96382\n",
      "45/45 [==============================] - 104s 2s/step - loss: 1.3421 - accuracy: 0.9159 - val_loss: 1.3121 - val_accuracy: 0.9441 - lr: 8.0000e-06\n",
      "Epoch 48/50\n",
      "45/45 [==============================] - ETA: 0s - loss: 1.3433 - accuracy: 0.9186\n",
      "Epoch 48: val_accuracy did not improve from 0.96382\n",
      "45/45 [==============================] - 101s 2s/step - loss: 1.3433 - accuracy: 0.9186 - val_loss: 1.2442 - val_accuracy: 0.9539 - lr: 1.6000e-06\n",
      "Epoch 49/50\n",
      "45/45 [==============================] - ETA: 0s - loss: 1.3251 - accuracy: 0.9242\n",
      "Epoch 49: val_accuracy did not improve from 0.96382\n",
      "45/45 [==============================] - 99s 2s/step - loss: 1.3251 - accuracy: 0.9242 - val_loss: 1.3077 - val_accuracy: 0.9276 - lr: 1.6000e-06\n",
      "Epoch 50/50\n",
      "45/45 [==============================] - ETA: 0s - loss: 1.3276 - accuracy: 0.9325\n",
      "Epoch 50: val_accuracy did not improve from 0.96382\n",
      "45/45 [==============================] - 101s 2s/step - loss: 1.3276 - accuracy: 0.9325 - val_loss: 1.2947 - val_accuracy: 0.9408 - lr: 1.6000e-06\n"
     ]
    }
   ],
   "source": [
    "## EJECUCION DEL MODELO\n",
    "model.compile(loss=\"categorical_crossentropy\", \n",
    "              optimizer= SGD(learning_rate=0.001),\n",
    "              metrics=[\"accuracy\"])\n",
    "\n",
    "#Agregamos un callback\n",
    "from tensorflow.keras.callbacks import ModelCheckpoint\n",
    "from tensorflow.keras.callbacks import ReduceLROnPlateau\n",
    "\n",
    "metric = 'val_accuracy'\n",
    "\n",
    "checkpointer = ModelCheckpoint(filepath='model-01', verbose=1, save_best_only=True,\n",
    "                               monitor = metric, mode = 'max')\n",
    "reduce_lr = ReduceLROnPlateau(monitor='val_loss', factor=0.2,\n",
    "                              patience=3, min_lr=0.000001)\n",
    "\n",
    "model= model.fit(train_generator,validation_data = valid_generator, \n",
    "                             callbacks = [reduce_lr, checkpointer], epochs=epochs)"
   ]
  },
  {
   "cell_type": "code",
   "execution_count": 11,
   "id": "7f2bdaef-cd4d-4293-a9d6-96ff42a472f9",
   "metadata": {},
   "outputs": [
    {
     "name": "stdout",
     "output_type": "stream",
     "text": [
      "10/10 [==============================] - 7s 689ms/step\n"
     ]
    }
   ],
   "source": [
    "preds_test = model.model.predict(test_generator)"
   ]
  },
  {
   "cell_type": "code",
   "execution_count": 12,
   "id": "49f96094-7a88-42fe-ad44-8530de26456e",
   "metadata": {},
   "outputs": [
    {
     "name": "stdout",
     "output_type": "stream",
     "text": [
      "10/10 [==============================] - 6s 634ms/step - loss: 1.2942 - accuracy: 0.9500\n"
     ]
    }
   ],
   "source": [
    "evaluate_test = model.model.evaluate(test_generator)"
   ]
  },
  {
   "cell_type": "code",
   "execution_count": 13,
   "id": "730f6466-b483-483e-b16c-1dde5da34648",
   "metadata": {},
   "outputs": [
    {
     "data": {
      "text/plain": [
       "[1.2941697835922241, 0.949999988079071]"
      ]
     },
     "execution_count": 13,
     "metadata": {},
     "output_type": "execute_result"
    }
   ],
   "source": [
    "evaluate_test"
   ]
  },
  {
   "cell_type": "code",
   "execution_count": 14,
   "id": "71fc2b80-aa9e-4fa3-b8d9-25f732de5c86",
   "metadata": {},
   "outputs": [
    {
     "data": {
      "text/plain": [
       "array([0, 0, 0, 0, 0, 0, 0, 0, 0, 0, 0, 0, 0, 0, 0, 0, 0, 0, 0, 0, 0, 0,\n",
       "       0, 0, 0, 0, 0, 8, 0, 0, 0, 0, 1, 1, 1, 1, 1, 1, 1, 1, 1, 1, 1, 1,\n",
       "       1, 1, 1, 1, 1, 0, 1, 1, 1, 1, 1, 1, 1, 1, 1, 1, 1, 1, 1, 1, 2, 2,\n",
       "       2, 2, 2, 2, 2, 2, 2, 2, 2, 2, 2, 2, 2, 2, 2, 2, 2, 2, 2, 2, 2, 2,\n",
       "       2, 2, 2, 2, 2, 2, 2, 2, 3, 6, 3, 3, 3, 3, 3, 3, 3, 3, 3, 3, 3, 3,\n",
       "       3, 3, 3, 3, 3, 3, 3, 3, 3, 3, 3, 3, 3, 3, 3, 3, 3, 3, 9, 4, 4, 4,\n",
       "       4, 4, 4, 6, 4, 4, 4, 4, 4, 4, 4, 4, 4, 5, 4, 4, 4, 5, 5, 4, 4, 4,\n",
       "       4, 4, 4, 4, 4, 4, 5, 5, 5, 5, 5, 5, 5, 9, 5, 5, 5, 5, 5, 5, 5, 5,\n",
       "       5, 5, 5, 5, 5, 5, 5, 5, 5, 5, 5, 5, 5, 9, 5, 5, 6, 2, 6, 6, 6, 6,\n",
       "       6, 6, 6, 6, 6, 6, 6, 6, 6, 6, 6, 6, 6, 2, 6, 6, 4, 6, 6, 6, 6, 6,\n",
       "       6, 6, 6, 6, 6, 7, 8, 7, 7, 7, 7, 6, 7, 7, 7, 7, 7, 7, 7, 7, 4, 7,\n",
       "       7, 7, 7, 7, 7, 7, 7, 7, 7, 7, 0, 7, 9, 7, 8, 8, 8, 9, 8, 8, 8, 8,\n",
       "       8, 8, 8, 4, 8, 8, 8, 8, 8, 4, 8, 8, 8, 8, 8, 8, 8, 9, 7, 8, 8, 8,\n",
       "       8, 8, 9, 9, 9, 9, 9, 9, 9, 9, 9, 4, 9, 9, 9, 9, 9, 9, 9, 9, 9, 9,\n",
       "       9, 9, 9, 9, 9, 9, 9, 9, 9, 9, 9, 9])"
      ]
     },
     "execution_count": 14,
     "metadata": {},
     "output_type": "execute_result"
    }
   ],
   "source": [
    "y_preds_test = np.array([np.argmax(x) for x in preds_test])\n",
    "y_preds_test"
   ]
  },
  {
   "cell_type": "code",
   "execution_count": 15,
   "id": "eb480175-6c03-4201-806c-fb8a27b96984",
   "metadata": {},
   "outputs": [
    {
     "data": {
      "text/plain": [
       "array([0, 0, 0, 0, 0, 0, 0, 0, 0, 0, 0, 0, 0, 0, 0, 0, 0, 0, 0, 0, 0, 0,\n",
       "       0, 0, 0, 0, 0, 0, 0, 0, 0, 0, 1, 1, 1, 1, 1, 1, 1, 1, 1, 1, 1, 1,\n",
       "       1, 1, 1, 1, 1, 1, 1, 1, 1, 1, 1, 1, 1, 1, 1, 1, 1, 1, 1, 1, 2, 2,\n",
       "       2, 2, 2, 2, 2, 2, 2, 2, 2, 2, 2, 2, 2, 2, 2, 2, 2, 2, 2, 2, 2, 2,\n",
       "       2, 2, 2, 2, 2, 2, 2, 2, 3, 3, 3, 3, 3, 3, 3, 3, 3, 3, 3, 3, 3, 3,\n",
       "       3, 3, 3, 3, 3, 3, 3, 3, 3, 3, 3, 3, 3, 3, 3, 3, 3, 3, 4, 4, 4, 4,\n",
       "       4, 4, 4, 4, 4, 4, 4, 4, 4, 4, 4, 4, 4, 4, 4, 4, 4, 4, 4, 4, 4, 4,\n",
       "       4, 4, 4, 4, 4, 4, 5, 5, 5, 5, 5, 5, 5, 5, 5, 5, 5, 5, 5, 5, 5, 5,\n",
       "       5, 5, 5, 5, 5, 5, 5, 5, 5, 5, 5, 5, 5, 5, 5, 5, 6, 6, 6, 6, 6, 6,\n",
       "       6, 6, 6, 6, 6, 6, 6, 6, 6, 6, 6, 6, 6, 6, 6, 6, 6, 6, 6, 6, 6, 6,\n",
       "       6, 6, 6, 6, 7, 7, 7, 7, 7, 7, 7, 7, 7, 7, 7, 7, 7, 7, 7, 7, 7, 7,\n",
       "       7, 7, 7, 7, 7, 7, 7, 7, 7, 7, 7, 7, 7, 7, 8, 8, 8, 8, 8, 8, 8, 8,\n",
       "       8, 8, 8, 8, 8, 8, 8, 8, 8, 8, 8, 8, 8, 8, 8, 8, 8, 8, 8, 8, 8, 8,\n",
       "       8, 8, 9, 9, 9, 9, 9, 9, 9, 9, 9, 9, 9, 9, 9, 9, 9, 9, 9, 9, 9, 9,\n",
       "       9, 9, 9, 9, 9, 9, 9, 9, 9, 9, 9, 9], dtype=int32)"
      ]
     },
     "execution_count": 15,
     "metadata": {},
     "output_type": "execute_result"
    }
   ],
   "source": [
    "y_real_test = test_generator.classes\n",
    "y_real_test"
   ]
  },
  {
   "cell_type": "code",
   "execution_count": 16,
   "id": "95f69712-fd40-43cf-90d2-9b0a1bafca00",
   "metadata": {},
   "outputs": [
    {
     "data": {
      "text/plain": [
       "0.921875"
      ]
     },
     "execution_count": 16,
     "metadata": {},
     "output_type": "execute_result"
    }
   ],
   "source": [
    "accuracy_test = accuracy_score(y_real_test, y_preds_test)\n",
    "accuracy_test"
   ]
  },
  {
   "cell_type": "code",
   "execution_count": 17,
   "id": "4b0f6dec-7952-41d6-bc7c-e585cd11d7de",
   "metadata": {},
   "outputs": [
    {
     "data": {
      "text/plain": [
       "array([[31,  0,  0,  0,  0,  0,  0,  0,  1,  0],\n",
       "       [ 1, 31,  0,  0,  0,  0,  0,  0,  0,  0],\n",
       "       [ 0,  0, 32,  0,  0,  0,  0,  0,  0,  0],\n",
       "       [ 0,  0,  0, 31,  0,  0,  1,  0,  0,  0],\n",
       "       [ 0,  0,  0,  0, 27,  3,  1,  0,  0,  1],\n",
       "       [ 0,  0,  0,  0,  0, 30,  0,  0,  0,  2],\n",
       "       [ 0,  0,  2,  0,  1,  0, 29,  0,  0,  0],\n",
       "       [ 1,  0,  0,  0,  1,  0,  2, 26,  1,  1],\n",
       "       [ 0,  0,  0,  0,  2,  0,  0,  1, 27,  2],\n",
       "       [ 0,  0,  0,  0,  1,  0,  0,  0,  0, 31]])"
      ]
     },
     "execution_count": 17,
     "metadata": {},
     "output_type": "execute_result"
    }
   ],
   "source": [
    "cm_test = confusion_matrix(y_real_test, y_preds_test)\n",
    "cm_test"
   ]
  },
  {
   "cell_type": "code",
   "execution_count": 18,
   "id": "4cb535b8-028f-477e-b03f-8783b3a13096",
   "metadata": {},
   "outputs": [
    {
     "data": {
      "image/png": "[encoded data removed]",
      "text/plain": [
       "<Figure size 800x600 with 2 Axes>"
      ]
     },
     "metadata": {},
     "output_type": "display_data"
    }
   ],
   "source": [
    "plt.figure(figsize=(8,6), dpi=100)\n",
    "# Scale up the size of all text\n",
    "sns.set(font_scale = 1.1)\n",
    "\n",
    "# Plot Confusion Matrix using Seaborn heatmap()\n",
    "# Parameters:\n",
    "# first param - confusion matrix in array format   \n",
    "# annot = True: show the numbers in each heatmap cell\n",
    "# fmt = 'd': show numbers as integers. \n",
    "ax = sns.heatmap(cm_test, annot=True, fmt='d', )\n",
    "\n",
    "# set x-axis label and ticks. \n",
    "ax.set_xlabel(\"Predicted Diagnosis\", fontsize=14, labelpad=20)\n",
    "# ax.xaxis.set_ticklabels(['Negative', 'Positive'])\n",
    "\n",
    "# set y-axis label and ticks\n",
    "ax.set_ylabel(\"Actual Diagnosis\", fontsize=14, labelpad=20)\n",
    "# ax.yaxis.set_ticklabels(['Negative', 'Positive'])\n",
    "\n",
    "# set plot title\n",
    "ax.set_title(\"Confusion Matrix for the Diabetes Detection Model\", fontsize=14, pad=20)\n",
    "\n",
    "plt.show()"
   ]
  },
  {
   "cell_type": "code",
   "execution_count": 20,
   "id": "b503eb1a-81ed-4078-b596-278249a3c722",
   "metadata": {},
   "outputs": [
    {
     "name": "stdout",
     "output_type": "stream",
     "text": [
      "10/10 [==============================] - 6s 540ms/step\n"
     ]
    }
   ],
   "source": [
    "preds_val = model.model.predict(valid_generator)"
   ]
  },
  {
   "cell_type": "code",
   "execution_count": 22,
   "id": "1fb77fb4-bdbf-4929-b30b-f90ab9aa55eb",
   "metadata": {},
   "outputs": [
    {
     "name": "stdout",
     "output_type": "stream",
     "text": [
      "10/10 [==============================] - 7s 663ms/step - loss: 1.3180 - accuracy: 0.9474\n"
     ]
    }
   ],
   "source": [
    "evaluate_val = model.model.evaluate(valid_generator)"
   ]
  },
  {
   "cell_type": "code",
   "execution_count": 23,
   "id": "d3a2be82-fc27-446d-be97-ef39329a1385",
   "metadata": {},
   "outputs": [
    {
     "data": {
      "text/plain": [
       "[1.3179888725280762, 0.9473684430122375]"
      ]
     },
     "execution_count": 23,
     "metadata": {},
     "output_type": "execute_result"
    }
   ],
   "source": [
    "evaluate_val"
   ]
  },
  {
   "cell_type": "code",
   "execution_count": 24,
   "id": "d17f5e3f-c58f-4ff5-86d8-961dde74325c",
   "metadata": {},
   "outputs": [
    {
     "data": {
      "text/plain": [
       "array([0, 0, 0, 0, 0, 0, 0, 0, 0, 0, 0, 0, 0, 0, 0, 0, 0, 0, 0, 0, 0, 0,\n",
       "       0, 0, 0, 0, 0, 0, 0, 0, 1, 1, 1, 1, 1, 1, 1, 1, 1, 1, 1, 1, 1, 1,\n",
       "       1, 1, 1, 1, 1, 1, 1, 1, 1, 1, 1, 1, 1, 1, 1, 1, 2, 2, 2, 2, 2, 2,\n",
       "       2, 2, 2, 2, 2, 2, 2, 2, 2, 2, 2, 2, 3, 2, 2, 2, 2, 2, 2, 2, 2, 2,\n",
       "       2, 2, 3, 3, 3, 3, 2, 3, 3, 3, 3, 3, 8, 3, 3, 3, 3, 3, 3, 3, 3, 3,\n",
       "       3, 3, 3, 3, 3, 3, 3, 3, 3, 3, 4, 4, 4, 4, 4, 4, 4, 4, 4, 4, 4, 4,\n",
       "       4, 4, 4, 4, 4, 4, 4, 4, 4, 4, 4, 4, 4, 4, 5, 4, 4, 4, 4, 5, 5, 5,\n",
       "       5, 5, 5, 5, 5, 5, 5, 5, 5, 5, 5, 5, 5, 5, 5, 5, 5, 5, 5, 5, 5, 5,\n",
       "       5, 5, 5, 5, 5, 5, 6, 6, 6, 6, 6, 6, 6, 6, 6, 6, 6, 6, 6, 6, 6, 6,\n",
       "       6, 6, 6, 6, 6, 6, 6, 6, 6, 6, 6, 6, 6, 6, 6, 2, 7, 7, 7, 7, 7, 7,\n",
       "       6, 7, 8, 7, 7, 6, 7, 7, 7, 7, 7, 7, 7, 7, 7, 7, 7, 7, 7, 7, 7, 9,\n",
       "       7, 8, 8, 8, 8, 8, 8, 8, 8, 8, 8, 8, 8, 8, 8, 8, 8, 8, 8, 8, 8, 8,\n",
       "       8, 9, 8, 7, 8, 8, 8, 7, 8, 8, 9, 3, 9, 9, 9, 9, 9, 9, 9, 9, 9, 9,\n",
       "       9, 9, 9, 9, 9, 9, 9, 9, 9, 9, 9, 9, 9, 9, 9, 9, 9, 9])"
      ]
     },
     "execution_count": 24,
     "metadata": {},
     "output_type": "execute_result"
    }
   ],
   "source": [
    "y_preds_val = np.array([np.argmax(x) for x in preds_val])\n",
    "y_preds_val"
   ]
  },
  {
   "cell_type": "code",
   "execution_count": 25,
   "id": "7a7cd9d7-3192-4e04-a0a1-693ca99d1037",
   "metadata": {},
   "outputs": [
    {
     "data": {
      "text/plain": [
       "array([0, 0, 0, 0, 0, 0, 0, 0, 0, 0, 0, 0, 0, 0, 0, 0, 0, 0, 0, 0, 0, 0,\n",
       "       0, 0, 0, 0, 0, 0, 0, 0, 1, 1, 1, 1, 1, 1, 1, 1, 1, 1, 1, 1, 1, 1,\n",
       "       1, 1, 1, 1, 1, 1, 1, 1, 1, 1, 1, 1, 1, 1, 1, 1, 2, 2, 2, 2, 2, 2,\n",
       "       2, 2, 2, 2, 2, 2, 2, 2, 2, 2, 2, 2, 2, 2, 2, 2, 2, 2, 2, 2, 2, 2,\n",
       "       2, 2, 3, 3, 3, 3, 3, 3, 3, 3, 3, 3, 3, 3, 3, 3, 3, 3, 3, 3, 3, 3,\n",
       "       3, 3, 3, 3, 3, 3, 3, 3, 3, 3, 4, 4, 4, 4, 4, 4, 4, 4, 4, 4, 4, 4,\n",
       "       4, 4, 4, 4, 4, 4, 4, 4, 4, 4, 4, 4, 4, 4, 4, 4, 4, 4, 4, 5, 5, 5,\n",
       "       5, 5, 5, 5, 5, 5, 5, 5, 5, 5, 5, 5, 5, 5, 5, 5, 5, 5, 5, 5, 5, 5,\n",
       "       5, 5, 5, 5, 5, 5, 6, 6, 6, 6, 6, 6, 6, 6, 6, 6, 6, 6, 6, 6, 6, 6,\n",
       "       6, 6, 6, 6, 6, 6, 6, 6, 6, 6, 6, 6, 6, 6, 6, 7, 7, 7, 7, 7, 7, 7,\n",
       "       7, 7, 7, 7, 7, 7, 7, 7, 7, 7, 7, 7, 7, 7, 7, 7, 7, 7, 7, 7, 7, 7,\n",
       "       7, 8, 8, 8, 8, 8, 8, 8, 8, 8, 8, 8, 8, 8, 8, 8, 8, 8, 8, 8, 8, 8,\n",
       "       8, 8, 8, 8, 8, 8, 8, 8, 8, 8, 9, 9, 9, 9, 9, 9, 9, 9, 9, 9, 9, 9,\n",
       "       9, 9, 9, 9, 9, 9, 9, 9, 9, 9, 9, 9, 9, 9, 9, 9, 9, 9], dtype=int32)"
      ]
     },
     "execution_count": 25,
     "metadata": {},
     "output_type": "execute_result"
    }
   ],
   "source": [
    "y_real_val = valid_generator.classes\n",
    "y_real_val"
   ]
  },
  {
   "cell_type": "code",
   "execution_count": 26,
   "id": "67e7aded-e874-41a0-981d-4de4720b27ad",
   "metadata": {},
   "outputs": [
    {
     "data": {
      "text/plain": [
       "0.9572368421052632"
      ]
     },
     "execution_count": 26,
     "metadata": {},
     "output_type": "execute_result"
    }
   ],
   "source": [
    "accuracy_val = accuracy_score(y_real_val, y_preds_val)\n",
    "accuracy_val"
   ]
  },
  {
   "cell_type": "code",
   "execution_count": 27,
   "id": "c3459eff-7df8-47b2-986a-2beab8ac51e1",
   "metadata": {},
   "outputs": [
    {
     "data": {
      "text/plain": [
       "array([[30,  0,  0,  0,  0,  0,  0,  0,  0,  0],\n",
       "       [ 0, 30,  0,  0,  0,  0,  0,  0,  0,  0],\n",
       "       [ 0,  0, 29,  1,  0,  0,  0,  0,  0,  0],\n",
       "       [ 0,  0,  1, 28,  0,  0,  0,  0,  1,  0],\n",
       "       [ 0,  0,  0,  0, 30,  1,  0,  0,  0,  0],\n",
       "       [ 0,  0,  0,  0,  0, 31,  0,  0,  0,  0],\n",
       "       [ 0,  0,  0,  0,  0,  0, 31,  0,  0,  0],\n",
       "       [ 0,  0,  1,  0,  0,  0,  2, 25,  1,  1],\n",
       "       [ 0,  0,  0,  0,  0,  0,  0,  2, 28,  1],\n",
       "       [ 0,  0,  0,  1,  0,  0,  0,  0,  0, 29]])"
      ]
     },
     "execution_count": 27,
     "metadata": {},
     "output_type": "execute_result"
    }
   ],
   "source": [
    "cm_val = confusion_matrix(y_real_val, y_preds_val)\n",
    "cm_val"
   ]
  },
  {
   "cell_type": "code",
   "execution_count": 28,
   "id": "d9806965-fb2e-4044-af24-af216719e719",
   "metadata": {},
   "outputs": [
    {
     "data": {
      "image/png": "[encoded data removed]",
      "text/plain": [
       "<Figure size 800x600 with 2 Axes>"
      ]
     },
     "metadata": {},
     "output_type": "display_data"
    }
   ],
   "source": [
    "plt.figure(figsize=(8,6), dpi=100)\n",
    "# Scale up the size of all text\n",
    "sns.set(font_scale = 1.1)\n",
    "\n",
    "# Plot Confusion Matrix using Seaborn heatmap()\n",
    "# Parameters:\n",
    "# first param - confusion matrix in array format   \n",
    "# annot = True: show the numbers in each heatmap cell\n",
    "# fmt = 'd': show numbers as integers. \n",
    "ax = sns.heatmap(cm_val, annot=True, fmt='d', )\n",
    "\n",
    "# set x-axis label and ticks. \n",
    "ax.set_xlabel(\"Predicted Diagnosis\", fontsize=14, labelpad=20)\n",
    "# ax.xaxis.set_ticklabels(['Negative', 'Positive'])\n",
    "\n",
    "# set y-axis label and ticks\n",
    "ax.set_ylabel(\"Actual Diagnosis\", fontsize=14, labelpad=20)\n",
    "# ax.yaxis.set_ticklabels(['Negative', 'Positive'])\n",
    "\n",
    "# set plot title\n",
    "ax.set_title(\"Confusion Matrix for the Diabetes Detection Model\", fontsize=14, pad=20)\n",
    "\n",
    "plt.show()"
   ]
  }
 ],
 "metadata": {
  "kernelspec": {
   "display_name": "Python 3 (ipykernel)",
   "language": "python",
   "name": "python3"
  },
  "language_info": {
   "codemirror_mode": {
    "name": "ipython",
    "version": 3
   },
   "file_extension": ".py",
   "mimetype": "text/x-python",
   "name": "python",
   "nbconvert_exporter": "python",
   "pygments_lexer": "ipython3",
   "version": "3.11.4"
  }
 },
 "nbformat": 4,
 "nbformat_minor": 5
}

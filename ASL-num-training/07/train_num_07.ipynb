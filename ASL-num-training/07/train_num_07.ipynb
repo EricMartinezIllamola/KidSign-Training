{
 "cells": [
  {
   "cell_type": "code",
   "execution_count": 1,
   "id": "cabbedb0-cdf5-4873-b294-64c330b205de",
   "metadata": {},
   "outputs": [
    {
     "name": "stderr",
     "output_type": "stream",
     "text": [
      "2023-09-11 19:24:44.618324: I tensorflow/core/platform/cpu_feature_guard.cc:193] This TensorFlow binary is optimized with oneAPI Deep Neural Network Library (oneDNN) to use the following CPU instructions in performance-critical operations:  AVX2 FMA\n",
      "To enable them in other operations, rebuild TensorFlow with the appropriate compiler flags.\n",
      "2023-09-11 19:24:44.836715: E tensorflow/stream_executor/cuda/cuda_blas.cc:2981] Unable to register cuBLAS factory: Attempting to register factory for plugin cuBLAS when one has already been registered\n",
      "2023-09-11 19:24:48.190612: W tensorflow/stream_executor/platform/default/dso_loader.cc:64] Could not load dynamic library 'libnvinfer.so.7'; dlerror: libnvinfer.so.7: cannot open shared object file: No such file or directory; LD_LIBRARY_PATH: /usr/local/cuda/lib64:/usr/local/cuda/lib:/usr/local/lib/x86_64-linux-gnu:/usr/local/nvidia/lib:/usr/local/nvidia/lib64:/usr/local/nvidia/lib:/usr/local/nvidia/lib64\n",
      "2023-09-11 19:24:48.190786: W tensorflow/stream_executor/platform/default/dso_loader.cc:64] Could not load dynamic library 'libnvinfer_plugin.so.7'; dlerror: libnvinfer_plugin.so.7: cannot open shared object file: No such file or directory; LD_LIBRARY_PATH: /usr/local/cuda/lib64:/usr/local/cuda/lib:/usr/local/lib/x86_64-linux-gnu:/usr/local/nvidia/lib:/usr/local/nvidia/lib64:/usr/local/nvidia/lib:/usr/local/nvidia/lib64\n",
      "2023-09-11 19:24:48.190801: W tensorflow/compiler/tf2tensorrt/utils/py_utils.cc:38] TF-TRT Warning: Cannot dlopen some TensorRT libraries. If you would like to use Nvidia GPU with TensorRT, please make sure the missing libraries mentioned above are installed properly.\n"
     ]
    },
    {
     "name": "stdout",
     "output_type": "stream",
     "text": [
      "2.10.1\n"
     ]
    }
   ],
   "source": [
    "import tensorflow as tf\n",
    "\n",
    "print(tf.__version__)\n",
    "\n",
    "from tensorflow.keras.models                import Sequential, Model\n",
    "from tensorflow.keras.layers                import *\n",
    "from tensorflow.keras.preprocessing.image   import ImageDataGenerator\n",
    "from tensorflow.keras.utils                 import to_categorical\n",
    "from tensorflow.keras.optimizers            import SGD, RMSprop, Adam, Adagrad, Adadelta\n",
    "\n",
    "from sklearn.model_selection import train_test_split\n",
    "from sklearn.metrics import confusion_matrix, accuracy_score\n",
    "from sklearn.utils import class_weight\n",
    "\n",
    "import matplotlib.pyplot as plt\n",
    "import random\n",
    "# import cv2\n",
    "import pandas as pd\n",
    "import numpy as np\n",
    "import matplotlib.gridspec as gridspec\n",
    "import seaborn as sns\n",
    "import sklearn\n",
    "import scipy\n",
    "import skimage\n",
    "from skimage.transform import resize\n",
    "from tqdm import tqdm\n",
    "from sklearn import model_selection\n",
    "from sklearn.model_selection import train_test_split, learning_curve,KFold,cross_val_score,StratifiedKFold\n",
    "from sklearn.utils import class_weight\n",
    "from sklearn.metrics import confusion_matrix"
   ]
  },
  {
   "cell_type": "code",
   "execution_count": 2,
   "id": "591c6941-6b95-49ed-a5e4-b3b065f337e5",
   "metadata": {},
   "outputs": [],
   "source": [
    "# !git clone https://github.com/ardamavi/Sign-Language-Digits-Dataset.git"
   ]
  },
  {
   "cell_type": "code",
   "execution_count": 3,
   "id": "b142a1a3-59e9-445c-a9c9-35d7cc5e2645",
   "metadata": {},
   "outputs": [],
   "source": [
    "# !pip install split-folders "
   ]
  },
  {
   "cell_type": "code",
   "execution_count": 4,
   "id": "e29c6dc1-7ac5-4f9c-afc5-27889eadad59",
   "metadata": {},
   "outputs": [],
   "source": [
    "# import splitfolders\n",
    "# import os"
   ]
  },
  {
   "cell_type": "code",
   "execution_count": 5,
   "id": "5bc916a7-71b9-408a-a862-97bac0f8cd8c",
   "metadata": {},
   "outputs": [],
   "source": [
    "# path = \"Sign-Language-Digits-Dataset/Dataset\"\n",
    "\n",
    "# splitfolders.ratio(path, seed=777, output=\"Train-Validation-Test-Dataset\", ratio=(0.7, 0.15, 0.15))"
   ]
  },
  {
   "cell_type": "code",
   "execution_count": 6,
   "id": "3c62d1d8-12eb-4f83-ae0c-7ffa1f9c939b",
   "metadata": {},
   "outputs": [],
   "source": [
    "train_path = \"Train-Validation-Test-Dataset/train\"\n",
    "val_path = \"Train-Validation-Test-Dataset/val\"\n",
    "test_path = \"Train-Validation-Test-Dataset/test\""
   ]
  },
  {
   "cell_type": "code",
   "execution_count": 7,
   "id": "b9f0f604-67d3-43b5-962d-5b88fd6bb534",
   "metadata": {},
   "outputs": [
    {
     "name": "stdout",
     "output_type": "stream",
     "text": [
      "Found 1438 images belonging to 10 classes.\n",
      "Found 304 images belonging to 10 classes.\n",
      "Found 320 images belonging to 10 classes.\n"
     ]
    }
   ],
   "source": [
    "from tensorflow.keras.preprocessing.image   import ImageDataGenerator\n",
    "\n",
    "##Clasificamos las imagenes\n",
    "bs = 32 #bach size\n",
    "k = 2\n",
    "# Generador de imágenes de entrenamiento.\n",
    "train_datagen = ImageDataGenerator(\n",
    "        rescale=1./255,\n",
    "        shear_range=(0.3),\n",
    "        zoom_range=(0.3),\n",
    "        width_shift_range=(0.2),\n",
    "        height_shift_range=(0.2),\n",
    "        # validation_split = 0.2,\n",
    "        brightness_range=(0.05,0.85),\n",
    "        horizontal_flip=False)\n",
    "\n",
    "# Carga de imágenes al generador de entrenamiento desde directorio.\n",
    "train_generator = train_datagen.flow_from_directory(\n",
    "        train_path,\n",
    "        class_mode='categorical',\n",
    "        shuffle=True,\n",
    "        target_size=(28*k, 28*k),\n",
    "        color_mode = 'rgb', \n",
    "        # subset = 'training',\n",
    "        batch_size=bs)\n",
    "\n",
    "valid_generator = train_datagen.flow_from_directory(\n",
    "        val_path,\n",
    "        class_mode='categorical',\n",
    "        shuffle=False,\n",
    "        target_size=(28*k, 28*k),\n",
    "        color_mode = 'rgb', \n",
    "        # subset = 'validation',\n",
    "        batch_size=bs)\n",
    "\n",
    "test_generator = train_datagen.flow_from_directory(\n",
    "        test_path,\n",
    "        class_mode='categorical',\n",
    "        shuffle=False,\n",
    "        target_size=(28*k, 28*k),\n",
    "        color_mode = 'rgb', \n",
    "        # subset = 'validation',\n",
    "        batch_size=bs)"
   ]
  },
  {
   "cell_type": "code",
   "execution_count": 8,
   "id": "ce39767d-6018-413a-ac2c-8e816e2cf5e3",
   "metadata": {},
   "outputs": [
    {
     "name": "stderr",
     "output_type": "stream",
     "text": [
      "2023-09-11 19:24:53.217929: W tensorflow/stream_executor/platform/default/dso_loader.cc:64] Could not load dynamic library 'libcuda.so.1'; dlerror: libcuda.so.1: cannot open shared object file: No such file or directory; LD_LIBRARY_PATH: /usr/local/cuda/lib64:/usr/local/cuda/lib:/usr/local/lib/x86_64-linux-gnu:/usr/local/nvidia/lib:/usr/local/nvidia/lib64:/usr/local/nvidia/lib:/usr/local/nvidia/lib64\n",
      "2023-09-11 19:24:53.217977: W tensorflow/stream_executor/cuda/cuda_driver.cc:263] failed call to cuInit: UNKNOWN ERROR (303)\n",
      "2023-09-11 19:24:53.218006: I tensorflow/stream_executor/cuda/cuda_diagnostics.cc:156] kernel driver does not appear to be running on this host (fe7561208818): /proc/driver/nvidia/version does not exist\n",
      "2023-09-11 19:24:53.218276: I tensorflow/core/platform/cpu_feature_guard.cc:193] This TensorFlow binary is optimized with oneAPI Deep Neural Network Library (oneDNN) to use the following CPU instructions in performance-critical operations:  AVX2 FMA\n",
      "To enable them in other operations, rebuild TensorFlow with the appropriate compiler flags.\n"
     ]
    },
    {
     "name": "stdout",
     "output_type": "stream",
     "text": [
      "Model: \"vgg19\"\n",
      "_________________________________________________________________\n",
      " Layer (type)                Output Shape              Param #   \n",
      "=================================================================\n",
      " input_1 (InputLayer)        [(None, 224, 224, 3)]     0         \n",
      "                                                                 \n",
      " block1_conv1 (Conv2D)       (None, 224, 224, 64)      1792      \n",
      "                                                                 \n",
      " block1_conv2 (Conv2D)       (None, 224, 224, 64)      36928     \n",
      "                                                                 \n",
      " block1_pool (MaxPooling2D)  (None, 112, 112, 64)      0         \n",
      "                                                                 \n",
      " block2_conv1 (Conv2D)       (None, 112, 112, 128)     73856     \n",
      "                                                                 \n",
      " block2_conv2 (Conv2D)       (None, 112, 112, 128)     147584    \n",
      "                                                                 \n",
      " block2_pool (MaxPooling2D)  (None, 56, 56, 128)       0         \n",
      "                                                                 \n",
      " block3_conv1 (Conv2D)       (None, 56, 56, 256)       295168    \n",
      "                                                                 \n",
      " block3_conv2 (Conv2D)       (None, 56, 56, 256)       590080    \n",
      "                                                                 \n",
      " block3_conv3 (Conv2D)       (None, 56, 56, 256)       590080    \n",
      "                                                                 \n",
      " block3_conv4 (Conv2D)       (None, 56, 56, 256)       590080    \n",
      "                                                                 \n",
      " block3_pool (MaxPooling2D)  (None, 28, 28, 256)       0         \n",
      "                                                                 \n",
      " block4_conv1 (Conv2D)       (None, 28, 28, 512)       1180160   \n",
      "                                                                 \n",
      " block4_conv2 (Conv2D)       (None, 28, 28, 512)       2359808   \n",
      "                                                                 \n",
      " block4_conv3 (Conv2D)       (None, 28, 28, 512)       2359808   \n",
      "                                                                 \n",
      " block4_conv4 (Conv2D)       (None, 28, 28, 512)       2359808   \n",
      "                                                                 \n",
      " block4_pool (MaxPooling2D)  (None, 14, 14, 512)       0         \n",
      "                                                                 \n",
      " block5_conv1 (Conv2D)       (None, 14, 14, 512)       2359808   \n",
      "                                                                 \n",
      " block5_conv2 (Conv2D)       (None, 14, 14, 512)       2359808   \n",
      "                                                                 \n",
      " block5_conv3 (Conv2D)       (None, 14, 14, 512)       2359808   \n",
      "                                                                 \n",
      " block5_conv4 (Conv2D)       (None, 14, 14, 512)       2359808   \n",
      "                                                                 \n",
      " block5_pool (MaxPooling2D)  (None, 7, 7, 512)         0         \n",
      "                                                                 \n",
      " flatten (Flatten)           (None, 25088)             0         \n",
      "                                                                 \n",
      " fc1 (Dense)                 (None, 4096)              102764544 \n",
      "                                                                 \n",
      " fc2 (Dense)                 (None, 4096)              16781312  \n",
      "                                                                 \n",
      " predictions (Dense)         (None, 1000)              4097000   \n",
      "                                                                 \n",
      "=================================================================\n",
      "Total params: 143,667,240\n",
      "Trainable params: 143,667,240\n",
      "Non-trainable params: 0\n",
      "_________________________________________________________________\n",
      "26\n"
     ]
    }
   ],
   "source": [
    "#Visualizamos la estructura del modelo que vamos a utilizar\n",
    "model = tf.keras.applications.VGG19()\n",
    "model.summary()\n",
    "print(len(model.layers))"
   ]
  },
  {
   "cell_type": "code",
   "execution_count": 9,
   "id": "b0e0e374-6bf0-455d-92ee-83982a54eae7",
   "metadata": {},
   "outputs": [
    {
     "name": "stdout",
     "output_type": "stream",
     "text": [
      "22\n"
     ]
    }
   ],
   "source": [
    "##DEFINIMOS EL MODELO\n",
    "num_classes = 10\n",
    "epochs = 100\n",
    "\n",
    "# VGG19\n",
    "# Importamos el modelo que queremos utilizar con los argumentos que queremos\n",
    "VGG19_model = tf.keras.applications.VGG19(input_shape=(28*k,28*k,3),\n",
    "                                          include_top=False,\n",
    "                                          weights='imagenet')\n",
    "\n",
    "print(len(VGG19_model.layers))\n",
    "#Congelamos  las 6 primeras caps del modelo para proceder a entrenar las demás\n",
    "for layer in VGG19_model.layers[:6]:\n",
    "  layer.trainable = False\n",
    "\n",
    "# Creamos un nuevo modelo vacio.\n",
    "model = tf.keras.Sequential()\n",
    "\n",
    "# Añadimos el modelo preentrenado como si se tratase de una capa.\n",
    "model.add(VGG19_model)\n",
    "\n",
    "# Continuamos añadiendo más capas que sí serán entrenadas...\n",
    "from tensorflow.keras import regularizers\n",
    "model.add(Flatten())\n",
    "model.add(Dropout(0.25))\n",
    "model.add(Dense(512, kernel_regularizer=regularizers.l2(0.01), activation = 'relu'))\n",
    "model.add(Dropout(0.25))\n",
    "model.add(Dense(num_classes, activation = 'softmax'))"
   ]
  },
  {
   "cell_type": "code",
   "execution_count": 10,
   "id": "98f08be8-a077-4ef3-92ab-b3604ff40655",
   "metadata": {},
   "outputs": [
    {
     "name": "stdout",
     "output_type": "stream",
     "text": [
      "Epoch 1/100\n",
      "45/45 [==============================] - ETA: 0s - loss: 7.4829 - accuracy: 0.1120\n",
      "Epoch 1: val_accuracy improved from -inf to 0.18092, saving model to model-07\n"
     ]
    },
    {
     "name": "stderr",
     "output_type": "stream",
     "text": [
      "WARNING:absl:Found untraced functions such as _jit_compiled_convolution_op, _jit_compiled_convolution_op, _jit_compiled_convolution_op, _jit_compiled_convolution_op, _jit_compiled_convolution_op while saving (showing 5 of 16). These functions will not be directly callable after loading.\n"
     ]
    },
    {
     "name": "stdout",
     "output_type": "stream",
     "text": [
      "INFO:tensorflow:Assets written to: model-07/assets\n"
     ]
    },
    {
     "name": "stderr",
     "output_type": "stream",
     "text": [
      "INFO:tensorflow:Assets written to: model-07/assets\n"
     ]
    },
    {
     "name": "stdout",
     "output_type": "stream",
     "text": [
      "45/45 [==============================] - 110s 2s/step - loss: 7.4829 - accuracy: 0.1120 - val_loss: 7.3669 - val_accuracy: 0.1809 - lr: 0.0010\n",
      "Epoch 2/100\n",
      "45/45 [==============================] - ETA: 0s - loss: 7.4100 - accuracy: 0.1196\n",
      "Epoch 2: val_accuracy improved from 0.18092 to 0.30592, saving model to model-07\n"
     ]
    },
    {
     "name": "stderr",
     "output_type": "stream",
     "text": [
      "WARNING:absl:Found untraced functions such as _jit_compiled_convolution_op, _jit_compiled_convolution_op, _jit_compiled_convolution_op, _jit_compiled_convolution_op, _jit_compiled_convolution_op while saving (showing 5 of 16). These functions will not be directly callable after loading.\n"
     ]
    },
    {
     "name": "stdout",
     "output_type": "stream",
     "text": [
      "INFO:tensorflow:Assets written to: model-07/assets\n"
     ]
    },
    {
     "name": "stderr",
     "output_type": "stream",
     "text": [
      "INFO:tensorflow:Assets written to: model-07/assets\n"
     ]
    },
    {
     "name": "stdout",
     "output_type": "stream",
     "text": [
      "45/45 [==============================] - 107s 2s/step - loss: 7.4100 - accuracy: 0.1196 - val_loss: 7.3053 - val_accuracy: 0.3059 - lr: 0.0010\n",
      "Epoch 3/100\n",
      "45/45 [==============================] - ETA: 0s - loss: 7.3322 - accuracy: 0.1704\n",
      "Epoch 3: val_accuracy improved from 0.30592 to 0.32895, saving model to model-07\n"
     ]
    },
    {
     "name": "stderr",
     "output_type": "stream",
     "text": [
      "WARNING:absl:Found untraced functions such as _jit_compiled_convolution_op, _jit_compiled_convolution_op, _jit_compiled_convolution_op, _jit_compiled_convolution_op, _jit_compiled_convolution_op while saving (showing 5 of 16). These functions will not be directly callable after loading.\n"
     ]
    },
    {
     "name": "stdout",
     "output_type": "stream",
     "text": [
      "INFO:tensorflow:Assets written to: model-07/assets\n"
     ]
    },
    {
     "name": "stderr",
     "output_type": "stream",
     "text": [
      "INFO:tensorflow:Assets written to: model-07/assets\n"
     ]
    },
    {
     "name": "stdout",
     "output_type": "stream",
     "text": [
      "45/45 [==============================] - 109s 2s/step - loss: 7.3322 - accuracy: 0.1704 - val_loss: 7.1848 - val_accuracy: 0.3289 - lr: 0.0010\n",
      "Epoch 4/100\n",
      "45/45 [==============================] - ETA: 0s - loss: 7.2133 - accuracy: 0.2184\n",
      "Epoch 4: val_accuracy improved from 0.32895 to 0.42434, saving model to model-07\n"
     ]
    },
    {
     "name": "stderr",
     "output_type": "stream",
     "text": [
      "WARNING:absl:Found untraced functions such as _jit_compiled_convolution_op, _jit_compiled_convolution_op, _jit_compiled_convolution_op, _jit_compiled_convolution_op, _jit_compiled_convolution_op while saving (showing 5 of 16). These functions will not be directly callable after loading.\n"
     ]
    },
    {
     "name": "stdout",
     "output_type": "stream",
     "text": [
      "INFO:tensorflow:Assets written to: model-07/assets\n"
     ]
    },
    {
     "name": "stderr",
     "output_type": "stream",
     "text": [
      "INFO:tensorflow:Assets written to: model-07/assets\n"
     ]
    },
    {
     "name": "stdout",
     "output_type": "stream",
     "text": [
      "45/45 [==============================] - 107s 2s/step - loss: 7.2133 - accuracy: 0.2184 - val_loss: 6.9935 - val_accuracy: 0.4243 - lr: 0.0010\n",
      "Epoch 5/100\n",
      "45/45 [==============================] - ETA: 0s - loss: 6.9906 - accuracy: 0.3171\n",
      "Epoch 5: val_accuracy did not improve from 0.42434\n",
      "45/45 [==============================] - 102s 2s/step - loss: 6.9906 - accuracy: 0.3171 - val_loss: 6.7725 - val_accuracy: 0.3783 - lr: 0.0010\n",
      "Epoch 6/100\n",
      "45/45 [==============================] - ETA: 0s - loss: 6.8226 - accuracy: 0.3567\n",
      "Epoch 6: val_accuracy improved from 0.42434 to 0.46711, saving model to model-07\n"
     ]
    },
    {
     "name": "stderr",
     "output_type": "stream",
     "text": [
      "WARNING:absl:Found untraced functions such as _jit_compiled_convolution_op, _jit_compiled_convolution_op, _jit_compiled_convolution_op, _jit_compiled_convolution_op, _jit_compiled_convolution_op while saving (showing 5 of 16). These functions will not be directly callable after loading.\n"
     ]
    },
    {
     "name": "stdout",
     "output_type": "stream",
     "text": [
      "INFO:tensorflow:Assets written to: model-07/assets\n"
     ]
    },
    {
     "name": "stderr",
     "output_type": "stream",
     "text": [
      "INFO:tensorflow:Assets written to: model-07/assets\n"
     ]
    },
    {
     "name": "stdout",
     "output_type": "stream",
     "text": [
      "45/45 [==============================] - 107s 2s/step - loss: 6.8226 - accuracy: 0.3567 - val_loss: 6.5822 - val_accuracy: 0.4671 - lr: 0.0010\n",
      "Epoch 7/100\n",
      "45/45 [==============================] - ETA: 0s - loss: 6.5938 - accuracy: 0.4534\n",
      "Epoch 7: val_accuracy improved from 0.46711 to 0.68750, saving model to model-07\n"
     ]
    },
    {
     "name": "stderr",
     "output_type": "stream",
     "text": [
      "WARNING:absl:Found untraced functions such as _jit_compiled_convolution_op, _jit_compiled_convolution_op, _jit_compiled_convolution_op, _jit_compiled_convolution_op, _jit_compiled_convolution_op while saving (showing 5 of 16). These functions will not be directly callable after loading.\n"
     ]
    },
    {
     "name": "stdout",
     "output_type": "stream",
     "text": [
      "INFO:tensorflow:Assets written to: model-07/assets\n"
     ]
    },
    {
     "name": "stderr",
     "output_type": "stream",
     "text": [
      "INFO:tensorflow:Assets written to: model-07/assets\n"
     ]
    },
    {
     "name": "stdout",
     "output_type": "stream",
     "text": [
      "45/45 [==============================] - 106s 2s/step - loss: 6.5938 - accuracy: 0.4534 - val_loss: 6.1865 - val_accuracy: 0.6875 - lr: 0.0010\n",
      "Epoch 8/100\n",
      "45/45 [==============================] - ETA: 0s - loss: 6.4710 - accuracy: 0.4937\n",
      "Epoch 8: val_accuracy did not improve from 0.68750\n",
      "45/45 [==============================] - 101s 2s/step - loss: 6.4710 - accuracy: 0.4937 - val_loss: 6.1732 - val_accuracy: 0.6184 - lr: 0.0010\n",
      "Epoch 9/100\n",
      "45/45 [==============================] - ETA: 0s - loss: 6.1822 - accuracy: 0.5821\n",
      "Epoch 9: val_accuracy did not improve from 0.68750\n",
      "45/45 [==============================] - 99s 2s/step - loss: 6.1822 - accuracy: 0.5821 - val_loss: 6.4626 - val_accuracy: 0.5099 - lr: 0.0010\n",
      "Epoch 10/100\n",
      "45/45 [==============================] - ETA: 0s - loss: 6.0538 - accuracy: 0.6342\n",
      "Epoch 10: val_accuracy improved from 0.68750 to 0.77632, saving model to model-07\n"
     ]
    },
    {
     "name": "stderr",
     "output_type": "stream",
     "text": [
      "WARNING:absl:Found untraced functions such as _jit_compiled_convolution_op, _jit_compiled_convolution_op, _jit_compiled_convolution_op, _jit_compiled_convolution_op, _jit_compiled_convolution_op while saving (showing 5 of 16). These functions will not be directly callable after loading.\n"
     ]
    },
    {
     "name": "stdout",
     "output_type": "stream",
     "text": [
      "INFO:tensorflow:Assets written to: model-07/assets\n"
     ]
    },
    {
     "name": "stderr",
     "output_type": "stream",
     "text": [
      "INFO:tensorflow:Assets written to: model-07/assets\n"
     ]
    },
    {
     "name": "stdout",
     "output_type": "stream",
     "text": [
      "45/45 [==============================] - 103s 2s/step - loss: 6.0538 - accuracy: 0.6342 - val_loss: 5.7516 - val_accuracy: 0.7763 - lr: 0.0010\n",
      "Epoch 11/100\n",
      "45/45 [==============================] - ETA: 0s - loss: 5.9094 - accuracy: 0.6898\n",
      "Epoch 11: val_accuracy improved from 0.77632 to 0.85526, saving model to model-07\n"
     ]
    },
    {
     "name": "stderr",
     "output_type": "stream",
     "text": [
      "WARNING:absl:Found untraced functions such as _jit_compiled_convolution_op, _jit_compiled_convolution_op, _jit_compiled_convolution_op, _jit_compiled_convolution_op, _jit_compiled_convolution_op while saving (showing 5 of 16). These functions will not be directly callable after loading.\n"
     ]
    },
    {
     "name": "stdout",
     "output_type": "stream",
     "text": [
      "INFO:tensorflow:Assets written to: model-07/assets\n"
     ]
    },
    {
     "name": "stderr",
     "output_type": "stream",
     "text": [
      "INFO:tensorflow:Assets written to: model-07/assets\n"
     ]
    },
    {
     "name": "stdout",
     "output_type": "stream",
     "text": [
      "45/45 [==============================] - 103s 2s/step - loss: 5.9094 - accuracy: 0.6898 - val_loss: 5.5340 - val_accuracy: 0.8553 - lr: 0.0010\n",
      "Epoch 12/100\n",
      "45/45 [==============================] - ETA: 0s - loss: 5.7670 - accuracy: 0.7309\n",
      "Epoch 12: val_accuracy improved from 0.85526 to 0.86842, saving model to model-07\n"
     ]
    },
    {
     "name": "stderr",
     "output_type": "stream",
     "text": [
      "WARNING:absl:Found untraced functions such as _jit_compiled_convolution_op, _jit_compiled_convolution_op, _jit_compiled_convolution_op, _jit_compiled_convolution_op, _jit_compiled_convolution_op while saving (showing 5 of 16). These functions will not be directly callable after loading.\n"
     ]
    },
    {
     "name": "stdout",
     "output_type": "stream",
     "text": [
      "INFO:tensorflow:Assets written to: model-07/assets\n"
     ]
    },
    {
     "name": "stderr",
     "output_type": "stream",
     "text": [
      "INFO:tensorflow:Assets written to: model-07/assets\n"
     ]
    },
    {
     "name": "stdout",
     "output_type": "stream",
     "text": [
      "45/45 [==============================] - 102s 2s/step - loss: 5.7670 - accuracy: 0.7309 - val_loss: 5.4551 - val_accuracy: 0.8684 - lr: 0.0010\n",
      "Epoch 13/100\n",
      "45/45 [==============================] - ETA: 0s - loss: 5.7005 - accuracy: 0.7705\n",
      "Epoch 13: val_accuracy improved from 0.86842 to 0.87829, saving model to model-07\n"
     ]
    },
    {
     "name": "stderr",
     "output_type": "stream",
     "text": [
      "WARNING:absl:Found untraced functions such as _jit_compiled_convolution_op, _jit_compiled_convolution_op, _jit_compiled_convolution_op, _jit_compiled_convolution_op, _jit_compiled_convolution_op while saving (showing 5 of 16). These functions will not be directly callable after loading.\n"
     ]
    },
    {
     "name": "stdout",
     "output_type": "stream",
     "text": [
      "INFO:tensorflow:Assets written to: model-07/assets\n"
     ]
    },
    {
     "name": "stderr",
     "output_type": "stream",
     "text": [
      "INFO:tensorflow:Assets written to: model-07/assets\n"
     ]
    },
    {
     "name": "stdout",
     "output_type": "stream",
     "text": [
      "45/45 [==============================] - 103s 2s/step - loss: 5.7005 - accuracy: 0.7705 - val_loss: 5.3997 - val_accuracy: 0.8783 - lr: 0.0010\n",
      "Epoch 14/100\n",
      "45/45 [==============================] - ETA: 0s - loss: 5.6454 - accuracy: 0.7726\n",
      "Epoch 14: val_accuracy did not improve from 0.87829\n",
      "45/45 [==============================] - 99s 2s/step - loss: 5.6454 - accuracy: 0.7726 - val_loss: 5.5626 - val_accuracy: 0.7796 - lr: 0.0010\n",
      "Epoch 15/100\n",
      "45/45 [==============================] - ETA: 0s - loss: 5.5380 - accuracy: 0.8081\n",
      "Epoch 15: val_accuracy did not improve from 0.87829\n",
      "45/45 [==============================] - 98s 2s/step - loss: 5.5380 - accuracy: 0.8081 - val_loss: 5.3623 - val_accuracy: 0.8750 - lr: 0.0010\n",
      "Epoch 16/100\n",
      "45/45 [==============================] - ETA: 0s - loss: 5.4645 - accuracy: 0.8310\n",
      "Epoch 16: val_accuracy improved from 0.87829 to 0.92105, saving model to model-07\n"
     ]
    },
    {
     "name": "stderr",
     "output_type": "stream",
     "text": [
      "WARNING:absl:Found untraced functions such as _jit_compiled_convolution_op, _jit_compiled_convolution_op, _jit_compiled_convolution_op, _jit_compiled_convolution_op, _jit_compiled_convolution_op while saving (showing 5 of 16). These functions will not be directly callable after loading.\n"
     ]
    },
    {
     "name": "stdout",
     "output_type": "stream",
     "text": [
      "INFO:tensorflow:Assets written to: model-07/assets\n"
     ]
    },
    {
     "name": "stderr",
     "output_type": "stream",
     "text": [
      "INFO:tensorflow:Assets written to: model-07/assets\n"
     ]
    },
    {
     "name": "stdout",
     "output_type": "stream",
     "text": [
      "45/45 [==============================] - 102s 2s/step - loss: 5.4645 - accuracy: 0.8310 - val_loss: 5.2535 - val_accuracy: 0.9211 - lr: 0.0010\n",
      "Epoch 17/100\n",
      "45/45 [==============================] - ETA: 0s - loss: 5.4299 - accuracy: 0.8456\n",
      "Epoch 17: val_accuracy improved from 0.92105 to 0.92763, saving model to model-07\n"
     ]
    },
    {
     "name": "stderr",
     "output_type": "stream",
     "text": [
      "WARNING:absl:Found untraced functions such as _jit_compiled_convolution_op, _jit_compiled_convolution_op, _jit_compiled_convolution_op, _jit_compiled_convolution_op, _jit_compiled_convolution_op while saving (showing 5 of 16). These functions will not be directly callable after loading.\n"
     ]
    },
    {
     "name": "stdout",
     "output_type": "stream",
     "text": [
      "INFO:tensorflow:Assets written to: model-07/assets\n"
     ]
    },
    {
     "name": "stderr",
     "output_type": "stream",
     "text": [
      "INFO:tensorflow:Assets written to: model-07/assets\n"
     ]
    },
    {
     "name": "stdout",
     "output_type": "stream",
     "text": [
      "45/45 [==============================] - 103s 2s/step - loss: 5.4299 - accuracy: 0.8456 - val_loss: 5.2343 - val_accuracy: 0.9276 - lr: 0.0010\n",
      "Epoch 18/100\n",
      "45/45 [==============================] - ETA: 0s - loss: 5.3596 - accuracy: 0.8581\n",
      "Epoch 18: val_accuracy did not improve from 0.92763\n",
      "45/45 [==============================] - 98s 2s/step - loss: 5.3596 - accuracy: 0.8581 - val_loss: 5.2060 - val_accuracy: 0.9211 - lr: 0.0010\n",
      "Epoch 19/100\n",
      "45/45 [==============================] - ETA: 0s - loss: 5.3367 - accuracy: 0.8700\n",
      "Epoch 19: val_accuracy did not improve from 0.92763\n",
      "45/45 [==============================] - 99s 2s/step - loss: 5.3367 - accuracy: 0.8700 - val_loss: 5.2040 - val_accuracy: 0.9178 - lr: 0.0010\n",
      "Epoch 20/100\n",
      "45/45 [==============================] - ETA: 0s - loss: 5.3183 - accuracy: 0.8686\n",
      "Epoch 20: val_accuracy did not improve from 0.92763\n",
      "45/45 [==============================] - 99s 2s/step - loss: 5.3183 - accuracy: 0.8686 - val_loss: 5.2290 - val_accuracy: 0.9079 - lr: 0.0010\n",
      "Epoch 21/100\n",
      "45/45 [==============================] - ETA: 0s - loss: 5.2952 - accuracy: 0.8755\n",
      "Epoch 21: val_accuracy did not improve from 0.92763\n",
      "45/45 [==============================] - 99s 2s/step - loss: 5.2952 - accuracy: 0.8755 - val_loss: 5.3492 - val_accuracy: 0.8618 - lr: 0.0010\n",
      "Epoch 22/100\n",
      "45/45 [==============================] - ETA: 0s - loss: 5.2544 - accuracy: 0.8950\n",
      "Epoch 22: val_accuracy did not improve from 0.92763\n",
      "45/45 [==============================] - 99s 2s/step - loss: 5.2544 - accuracy: 0.8950 - val_loss: 5.1516 - val_accuracy: 0.9145 - lr: 0.0010\n",
      "Epoch 23/100\n",
      "45/45 [==============================] - ETA: 0s - loss: 5.2288 - accuracy: 0.8922\n",
      "Epoch 23: val_accuracy improved from 0.92763 to 0.95724, saving model to model-07\n"
     ]
    },
    {
     "name": "stderr",
     "output_type": "stream",
     "text": [
      "WARNING:absl:Found untraced functions such as _jit_compiled_convolution_op, _jit_compiled_convolution_op, _jit_compiled_convolution_op, _jit_compiled_convolution_op, _jit_compiled_convolution_op while saving (showing 5 of 16). These functions will not be directly callable after loading.\n"
     ]
    },
    {
     "name": "stdout",
     "output_type": "stream",
     "text": [
      "INFO:tensorflow:Assets written to: model-07/assets\n"
     ]
    },
    {
     "name": "stderr",
     "output_type": "stream",
     "text": [
      "INFO:tensorflow:Assets written to: model-07/assets\n"
     ]
    },
    {
     "name": "stdout",
     "output_type": "stream",
     "text": [
      "45/45 [==============================] - 103s 2s/step - loss: 5.2288 - accuracy: 0.8922 - val_loss: 5.0788 - val_accuracy: 0.9572 - lr: 0.0010\n",
      "Epoch 24/100\n",
      "45/45 [==============================] - ETA: 0s - loss: 5.1711 - accuracy: 0.9068\n",
      "Epoch 24: val_accuracy did not improve from 0.95724\n",
      "45/45 [==============================] - 98s 2s/step - loss: 5.1711 - accuracy: 0.9068 - val_loss: 5.1407 - val_accuracy: 0.9375 - lr: 0.0010\n",
      "Epoch 25/100\n",
      "45/45 [==============================] - ETA: 0s - loss: 5.1357 - accuracy: 0.9221\n",
      "Epoch 25: val_accuracy did not improve from 0.95724\n",
      "45/45 [==============================] - 99s 2s/step - loss: 5.1357 - accuracy: 0.9221 - val_loss: 5.1875 - val_accuracy: 0.9112 - lr: 0.0010\n",
      "Epoch 26/100\n",
      "45/45 [==============================] - ETA: 0s - loss: 5.1541 - accuracy: 0.9082\n",
      "Epoch 26: val_accuracy did not improve from 0.95724\n",
      "45/45 [==============================] - 99s 2s/step - loss: 5.1541 - accuracy: 0.9082 - val_loss: 5.0617 - val_accuracy: 0.9539 - lr: 0.0010\n",
      "Epoch 27/100\n",
      "45/45 [==============================] - ETA: 0s - loss: 5.1457 - accuracy: 0.9117\n",
      "Epoch 27: val_accuracy did not improve from 0.95724\n",
      "45/45 [==============================] - 98s 2s/step - loss: 5.1457 - accuracy: 0.9117 - val_loss: 5.0902 - val_accuracy: 0.9408 - lr: 0.0010\n",
      "Epoch 28/100\n",
      "45/45 [==============================] - ETA: 0s - loss: 5.1157 - accuracy: 0.9179\n",
      "Epoch 28: val_accuracy did not improve from 0.95724\n",
      "45/45 [==============================] - 99s 2s/step - loss: 5.1157 - accuracy: 0.9179 - val_loss: 5.0214 - val_accuracy: 0.9441 - lr: 0.0010\n",
      "Epoch 29/100\n",
      "45/45 [==============================] - ETA: 0s - loss: 5.0619 - accuracy: 0.9381\n",
      "Epoch 29: val_accuracy did not improve from 0.95724\n",
      "45/45 [==============================] - 99s 2s/step - loss: 5.0619 - accuracy: 0.9381 - val_loss: 5.0754 - val_accuracy: 0.9375 - lr: 0.0010\n",
      "Epoch 30/100\n",
      "45/45 [==============================] - ETA: 0s - loss: 5.0933 - accuracy: 0.9305\n",
      "Epoch 30: val_accuracy did not improve from 0.95724\n",
      "45/45 [==============================] - 98s 2s/step - loss: 5.0933 - accuracy: 0.9305 - val_loss: 5.0063 - val_accuracy: 0.9572 - lr: 0.0010\n",
      "Epoch 31/100\n",
      "45/45 [==============================] - ETA: 0s - loss: 5.0483 - accuracy: 0.9402\n",
      "Epoch 31: val_accuracy did not improve from 0.95724\n",
      "45/45 [==============================] - 99s 2s/step - loss: 5.0483 - accuracy: 0.9402 - val_loss: 5.0093 - val_accuracy: 0.9572 - lr: 0.0010\n",
      "Epoch 32/100\n",
      "45/45 [==============================] - ETA: 0s - loss: 5.0285 - accuracy: 0.9381\n",
      "Epoch 32: val_accuracy improved from 0.95724 to 0.96382, saving model to model-07\n"
     ]
    },
    {
     "name": "stderr",
     "output_type": "stream",
     "text": [
      "WARNING:absl:Found untraced functions such as _jit_compiled_convolution_op, _jit_compiled_convolution_op, _jit_compiled_convolution_op, _jit_compiled_convolution_op, _jit_compiled_convolution_op while saving (showing 5 of 16). These functions will not be directly callable after loading.\n"
     ]
    },
    {
     "name": "stdout",
     "output_type": "stream",
     "text": [
      "INFO:tensorflow:Assets written to: model-07/assets\n"
     ]
    },
    {
     "name": "stderr",
     "output_type": "stream",
     "text": [
      "INFO:tensorflow:Assets written to: model-07/assets\n"
     ]
    },
    {
     "name": "stdout",
     "output_type": "stream",
     "text": [
      "45/45 [==============================] - 102s 2s/step - loss: 5.0285 - accuracy: 0.9381 - val_loss: 4.9690 - val_accuracy: 0.9638 - lr: 0.0010\n",
      "Epoch 33/100\n",
      "45/45 [==============================] - ETA: 0s - loss: 5.0076 - accuracy: 0.9381\n",
      "Epoch 33: val_accuracy did not improve from 0.96382\n",
      "45/45 [==============================] - 98s 2s/step - loss: 5.0076 - accuracy: 0.9381 - val_loss: 5.0059 - val_accuracy: 0.9276 - lr: 0.0010\n",
      "Epoch 34/100\n",
      "45/45 [==============================] - ETA: 0s - loss: 5.0067 - accuracy: 0.9388\n",
      "Epoch 34: val_accuracy did not improve from 0.96382\n",
      "45/45 [==============================] - 100s 2s/step - loss: 5.0067 - accuracy: 0.9388 - val_loss: 4.9554 - val_accuracy: 0.9539 - lr: 0.0010\n",
      "Epoch 35/100\n",
      "45/45 [==============================] - ETA: 0s - loss: 4.9786 - accuracy: 0.9395\n",
      "Epoch 35: val_accuracy did not improve from 0.96382\n",
      "45/45 [==============================] - 100s 2s/step - loss: 4.9786 - accuracy: 0.9395 - val_loss: 5.0625 - val_accuracy: 0.9178 - lr: 0.0010\n",
      "Epoch 36/100\n",
      "45/45 [==============================] - ETA: 0s - loss: 4.9869 - accuracy: 0.9360\n",
      "Epoch 36: val_accuracy improved from 0.96382 to 0.97697, saving model to model-07\n"
     ]
    },
    {
     "name": "stderr",
     "output_type": "stream",
     "text": [
      "WARNING:absl:Found untraced functions such as _jit_compiled_convolution_op, _jit_compiled_convolution_op, _jit_compiled_convolution_op, _jit_compiled_convolution_op, _jit_compiled_convolution_op while saving (showing 5 of 16). These functions will not be directly callable after loading.\n"
     ]
    },
    {
     "name": "stdout",
     "output_type": "stream",
     "text": [
      "INFO:tensorflow:Assets written to: model-07/assets\n"
     ]
    },
    {
     "name": "stderr",
     "output_type": "stream",
     "text": [
      "INFO:tensorflow:Assets written to: model-07/assets\n"
     ]
    },
    {
     "name": "stdout",
     "output_type": "stream",
     "text": [
      "45/45 [==============================] - 106s 2s/step - loss: 4.9869 - accuracy: 0.9360 - val_loss: 4.9151 - val_accuracy: 0.9770 - lr: 0.0010\n",
      "Epoch 37/100\n",
      "45/45 [==============================] - ETA: 0s - loss: 4.9460 - accuracy: 0.9478\n",
      "Epoch 37: val_accuracy did not improve from 0.97697\n",
      "45/45 [==============================] - 106s 2s/step - loss: 4.9460 - accuracy: 0.9478 - val_loss: 4.9206 - val_accuracy: 0.9671 - lr: 0.0010\n",
      "Epoch 38/100\n",
      "45/45 [==============================] - ETA: 0s - loss: 4.9530 - accuracy: 0.9451\n",
      "Epoch 38: val_accuracy did not improve from 0.97697\n",
      "45/45 [==============================] - 101s 2s/step - loss: 4.9530 - accuracy: 0.9451 - val_loss: 4.8831 - val_accuracy: 0.9704 - lr: 0.0010\n",
      "Epoch 39/100\n",
      "45/45 [==============================] - ETA: 0s - loss: 4.9442 - accuracy: 0.9416\n",
      "Epoch 39: val_accuracy did not improve from 0.97697\n",
      "45/45 [==============================] - 100s 2s/step - loss: 4.9442 - accuracy: 0.9416 - val_loss: 4.9598 - val_accuracy: 0.9539 - lr: 0.0010\n",
      "Epoch 40/100\n",
      "45/45 [==============================] - ETA: 0s - loss: 4.8926 - accuracy: 0.9624\n",
      "Epoch 40: val_accuracy did not improve from 0.97697\n",
      "45/45 [==============================] - 100s 2s/step - loss: 4.8926 - accuracy: 0.9624 - val_loss: 4.9350 - val_accuracy: 0.9441 - lr: 0.0010\n",
      "Epoch 41/100\n",
      "45/45 [==============================] - ETA: 0s - loss: 4.8890 - accuracy: 0.9576\n",
      "Epoch 41: val_accuracy did not improve from 0.97697\n",
      "45/45 [==============================] - 101s 2s/step - loss: 4.8890 - accuracy: 0.9576 - val_loss: 4.9098 - val_accuracy: 0.9572 - lr: 0.0010\n",
      "Epoch 42/100\n",
      "45/45 [==============================] - ETA: 0s - loss: 4.8920 - accuracy: 0.9541\n",
      "Epoch 42: val_accuracy did not improve from 0.97697\n",
      "45/45 [==============================] - 99s 2s/step - loss: 4.8920 - accuracy: 0.9541 - val_loss: 4.8940 - val_accuracy: 0.9704 - lr: 2.0000e-04\n",
      "Epoch 43/100\n",
      "45/45 [==============================] - ETA: 0s - loss: 4.8467 - accuracy: 0.9694\n",
      "Epoch 43: val_accuracy improved from 0.97697 to 0.98026, saving model to model-07\n"
     ]
    },
    {
     "name": "stderr",
     "output_type": "stream",
     "text": [
      "WARNING:absl:Found untraced functions such as _jit_compiled_convolution_op, _jit_compiled_convolution_op, _jit_compiled_convolution_op, _jit_compiled_convolution_op, _jit_compiled_convolution_op while saving (showing 5 of 16). These functions will not be directly callable after loading.\n"
     ]
    },
    {
     "name": "stdout",
     "output_type": "stream",
     "text": [
      "INFO:tensorflow:Assets written to: model-07/assets\n"
     ]
    },
    {
     "name": "stderr",
     "output_type": "stream",
     "text": [
      "INFO:tensorflow:Assets written to: model-07/assets\n"
     ]
    },
    {
     "name": "stdout",
     "output_type": "stream",
     "text": [
      "45/45 [==============================] - 105s 2s/step - loss: 4.8467 - accuracy: 0.9694 - val_loss: 4.8656 - val_accuracy: 0.9803 - lr: 2.0000e-04\n",
      "Epoch 44/100\n",
      "45/45 [==============================] - ETA: 0s - loss: 4.8761 - accuracy: 0.9618\n",
      "Epoch 44: val_accuracy did not improve from 0.98026\n",
      "45/45 [==============================] - 100s 2s/step - loss: 4.8761 - accuracy: 0.9618 - val_loss: 4.8969 - val_accuracy: 0.9638 - lr: 2.0000e-04\n",
      "Epoch 45/100\n",
      "45/45 [==============================] - ETA: 0s - loss: 4.8564 - accuracy: 0.9694\n",
      "Epoch 45: val_accuracy did not improve from 0.98026\n",
      "45/45 [==============================] - 99s 2s/step - loss: 4.8564 - accuracy: 0.9694 - val_loss: 4.8672 - val_accuracy: 0.9704 - lr: 2.0000e-04\n",
      "Epoch 46/100\n",
      "45/45 [==============================] - ETA: 0s - loss: 4.8556 - accuracy: 0.9645\n",
      "Epoch 46: val_accuracy improved from 0.98026 to 0.98355, saving model to model-07\n"
     ]
    },
    {
     "name": "stderr",
     "output_type": "stream",
     "text": [
      "WARNING:absl:Found untraced functions such as _jit_compiled_convolution_op, _jit_compiled_convolution_op, _jit_compiled_convolution_op, _jit_compiled_convolution_op, _jit_compiled_convolution_op while saving (showing 5 of 16). These functions will not be directly callable after loading.\n"
     ]
    },
    {
     "name": "stdout",
     "output_type": "stream",
     "text": [
      "INFO:tensorflow:Assets written to: model-07/assets\n"
     ]
    },
    {
     "name": "stderr",
     "output_type": "stream",
     "text": [
      "INFO:tensorflow:Assets written to: model-07/assets\n"
     ]
    },
    {
     "name": "stdout",
     "output_type": "stream",
     "text": [
      "45/45 [==============================] - 104s 2s/step - loss: 4.8556 - accuracy: 0.9645 - val_loss: 4.8520 - val_accuracy: 0.9836 - lr: 2.0000e-04\n",
      "Epoch 47/100\n",
      "45/45 [==============================] - ETA: 0s - loss: 4.8657 - accuracy: 0.9562\n",
      "Epoch 47: val_accuracy did not improve from 0.98355\n",
      "45/45 [==============================] - 103s 2s/step - loss: 4.8657 - accuracy: 0.9562 - val_loss: 4.8922 - val_accuracy: 0.9605 - lr: 2.0000e-04\n",
      "Epoch 48/100\n",
      "45/45 [==============================] - ETA: 0s - loss: 4.8585 - accuracy: 0.9583\n",
      "Epoch 48: val_accuracy did not improve from 0.98355\n",
      "45/45 [==============================] - 101s 2s/step - loss: 4.8585 - accuracy: 0.9583 - val_loss: 4.8895 - val_accuracy: 0.9605 - lr: 2.0000e-04\n",
      "Epoch 49/100\n",
      "45/45 [==============================] - ETA: 0s - loss: 4.8391 - accuracy: 0.9673\n",
      "Epoch 49: val_accuracy did not improve from 0.98355\n",
      "45/45 [==============================] - 101s 2s/step - loss: 4.8391 - accuracy: 0.9673 - val_loss: 4.8542 - val_accuracy: 0.9605 - lr: 2.0000e-04\n",
      "Epoch 50/100\n",
      "45/45 [==============================] - ETA: 0s - loss: 4.8441 - accuracy: 0.9611\n",
      "Epoch 50: val_accuracy did not improve from 0.98355\n",
      "45/45 [==============================] - 105s 2s/step - loss: 4.8441 - accuracy: 0.9611 - val_loss: 4.8775 - val_accuracy: 0.9638 - lr: 4.0000e-05\n",
      "Epoch 51/100\n",
      "45/45 [==============================] - ETA: 0s - loss: 4.8593 - accuracy: 0.9597\n",
      "Epoch 51: val_accuracy did not improve from 0.98355\n",
      "45/45 [==============================] - 105s 2s/step - loss: 4.8593 - accuracy: 0.9597 - val_loss: 4.8619 - val_accuracy: 0.9704 - lr: 4.0000e-05\n",
      "Epoch 52/100\n",
      "45/45 [==============================] - ETA: 0s - loss: 4.8238 - accuracy: 0.9798\n",
      "Epoch 52: val_accuracy did not improve from 0.98355\n",
      "45/45 [==============================] - 106s 2s/step - loss: 4.8238 - accuracy: 0.9798 - val_loss: 4.8513 - val_accuracy: 0.9704 - lr: 4.0000e-05\n",
      "Epoch 53/100\n",
      "45/45 [==============================] - ETA: 0s - loss: 4.8534 - accuracy: 0.9631\n",
      "Epoch 53: val_accuracy did not improve from 0.98355\n",
      "45/45 [==============================] - 105s 2s/step - loss: 4.8534 - accuracy: 0.9631 - val_loss: 4.8823 - val_accuracy: 0.9572 - lr: 4.0000e-05\n",
      "Epoch 54/100\n",
      "45/45 [==============================] - ETA: 0s - loss: 4.8538 - accuracy: 0.9624\n",
      "Epoch 54: val_accuracy did not improve from 0.98355\n",
      "45/45 [==============================] - 107s 2s/step - loss: 4.8538 - accuracy: 0.9624 - val_loss: 4.8555 - val_accuracy: 0.9770 - lr: 4.0000e-05\n",
      "Epoch 55/100\n",
      "45/45 [==============================] - ETA: 0s - loss: 4.8452 - accuracy: 0.9659\n",
      "Epoch 55: val_accuracy did not improve from 0.98355\n",
      "45/45 [==============================] - 106s 2s/step - loss: 4.8452 - accuracy: 0.9659 - val_loss: 4.8925 - val_accuracy: 0.9605 - lr: 4.0000e-05\n",
      "Epoch 56/100\n",
      "45/45 [==============================] - ETA: 0s - loss: 4.8422 - accuracy: 0.9638\n",
      "Epoch 56: val_accuracy did not improve from 0.98355\n",
      "45/45 [==============================] - 102s 2s/step - loss: 4.8422 - accuracy: 0.9638 - val_loss: 4.8415 - val_accuracy: 0.9737 - lr: 8.0000e-06\n",
      "Epoch 57/100\n",
      "45/45 [==============================] - ETA: 0s - loss: 4.8421 - accuracy: 0.9701\n",
      "Epoch 57: val_accuracy did not improve from 0.98355\n",
      "45/45 [==============================] - 100s 2s/step - loss: 4.8421 - accuracy: 0.9701 - val_loss: 4.8646 - val_accuracy: 0.9671 - lr: 8.0000e-06\n",
      "Epoch 58/100\n",
      "45/45 [==============================] - ETA: 0s - loss: 4.8460 - accuracy: 0.9638\n",
      "Epoch 58: val_accuracy did not improve from 0.98355\n",
      "45/45 [==============================] - 102s 2s/step - loss: 4.8460 - accuracy: 0.9638 - val_loss: 4.8697 - val_accuracy: 0.9638 - lr: 8.0000e-06\n",
      "Epoch 59/100\n",
      "45/45 [==============================] - ETA: 0s - loss: 4.8438 - accuracy: 0.9638\n",
      "Epoch 59: val_accuracy did not improve from 0.98355\n",
      "45/45 [==============================] - 102s 2s/step - loss: 4.8438 - accuracy: 0.9638 - val_loss: 4.8461 - val_accuracy: 0.9770 - lr: 8.0000e-06\n",
      "Epoch 60/100\n",
      "45/45 [==============================] - ETA: 0s - loss: 4.8214 - accuracy: 0.9764\n",
      "Epoch 60: val_accuracy did not improve from 0.98355\n",
      "45/45 [==============================] - 104s 2s/step - loss: 4.8214 - accuracy: 0.9764 - val_loss: 4.8561 - val_accuracy: 0.9605 - lr: 1.6000e-06\n",
      "Epoch 61/100\n",
      "45/45 [==============================] - ETA: 0s - loss: 4.8247 - accuracy: 0.9729\n",
      "Epoch 61: val_accuracy did not improve from 0.98355\n",
      "45/45 [==============================] - 106s 2s/step - loss: 4.8247 - accuracy: 0.9729 - val_loss: 4.8419 - val_accuracy: 0.9770 - lr: 1.6000e-06\n",
      "Epoch 62/100\n",
      "45/45 [==============================] - ETA: 0s - loss: 4.8420 - accuracy: 0.9659\n",
      "Epoch 62: val_accuracy did not improve from 0.98355\n",
      "45/45 [==============================] - 106s 2s/step - loss: 4.8420 - accuracy: 0.9659 - val_loss: 4.8529 - val_accuracy: 0.9638 - lr: 1.6000e-06\n",
      "Epoch 63/100\n",
      "45/45 [==============================] - ETA: 0s - loss: 4.8354 - accuracy: 0.9666\n",
      "Epoch 63: val_accuracy did not improve from 0.98355\n",
      "45/45 [==============================] - 102s 2s/step - loss: 4.8354 - accuracy: 0.9666 - val_loss: 4.8510 - val_accuracy: 0.9770 - lr: 1.0000e-06\n",
      "Epoch 64/100\n",
      "45/45 [==============================] - ETA: 0s - loss: 4.8393 - accuracy: 0.9694\n",
      "Epoch 64: val_accuracy did not improve from 0.98355\n",
      "45/45 [==============================] - 103s 2s/step - loss: 4.8393 - accuracy: 0.9694 - val_loss: 4.9167 - val_accuracy: 0.9638 - lr: 1.0000e-06\n",
      "Epoch 65/100\n",
      "45/45 [==============================] - ETA: 0s - loss: 4.8420 - accuracy: 0.9694\n",
      "Epoch 65: val_accuracy did not improve from 0.98355\n",
      "45/45 [==============================] - 102s 2s/step - loss: 4.8420 - accuracy: 0.9694 - val_loss: 4.8866 - val_accuracy: 0.9539 - lr: 1.0000e-06\n",
      "Epoch 66/100\n",
      "45/45 [==============================] - ETA: 0s - loss: 4.8318 - accuracy: 0.9708\n",
      "Epoch 66: val_accuracy did not improve from 0.98355\n",
      "45/45 [==============================] - 100s 2s/step - loss: 4.8318 - accuracy: 0.9708 - val_loss: 4.8568 - val_accuracy: 0.9803 - lr: 1.0000e-06\n",
      "Epoch 67/100\n",
      "45/45 [==============================] - ETA: 0s - loss: 4.8254 - accuracy: 0.9729\n",
      "Epoch 67: val_accuracy did not improve from 0.98355\n",
      "45/45 [==============================] - 103s 2s/step - loss: 4.8254 - accuracy: 0.9729 - val_loss: 4.9129 - val_accuracy: 0.9539 - lr: 1.0000e-06\n",
      "Epoch 68/100\n",
      "45/45 [==============================] - ETA: 0s - loss: 4.8426 - accuracy: 0.9687\n",
      "Epoch 68: val_accuracy did not improve from 0.98355\n",
      "45/45 [==============================] - 102s 2s/step - loss: 4.8426 - accuracy: 0.9687 - val_loss: 4.9193 - val_accuracy: 0.9507 - lr: 1.0000e-06\n",
      "Epoch 69/100\n",
      "45/45 [==============================] - ETA: 0s - loss: 4.8359 - accuracy: 0.9652\n",
      "Epoch 70: val_accuracy did not improve from 0.98355\n",
      "45/45 [==============================] - 102s 2s/step - loss: 4.8359 - accuracy: 0.9652 - val_loss: 4.8551 - val_accuracy: 0.9770 - lr: 1.0000e-06\n",
      "Epoch 71/100\n",
      "45/45 [==============================] - ETA: 0s - loss: 4.8364 - accuracy: 0.9638\n",
      "Epoch 71: val_accuracy did not improve from 0.98355\n",
      "45/45 [==============================] - 101s 2s/step - loss: 4.8364 - accuracy: 0.9638 - val_loss: 4.9233 - val_accuracy: 0.9572 - lr: 1.0000e-06\n",
      "Epoch 72/100\n",
      "45/45 [==============================] - ETA: 0s - loss: 4.8331 - accuracy: 0.9701\n",
      "Epoch 72: val_accuracy did not improve from 0.98355\n",
      "45/45 [==============================] - 102s 2s/step - loss: 4.8331 - accuracy: 0.9701 - val_loss: 4.8258 - val_accuracy: 0.9803 - lr: 1.0000e-06\n",
      "Epoch 73/100\n",
      "45/45 [==============================] - ETA: 0s - loss: 4.8341 - accuracy: 0.9652\n",
      "Epoch 73: val_accuracy did not improve from 0.98355\n",
      "45/45 [==============================] - 106s 2s/step - loss: 4.8341 - accuracy: 0.9652 - val_loss: 4.8862 - val_accuracy: 0.9605 - lr: 1.0000e-06\n",
      "Epoch 74/100\n",
      "45/45 [==============================] - ETA: 0s - loss: 4.8354 - accuracy: 0.9694\n",
      "Epoch 74: val_accuracy did not improve from 0.98355\n",
      "45/45 [==============================] - 104s 2s/step - loss: 4.8354 - accuracy: 0.9694 - val_loss: 4.8317 - val_accuracy: 0.9737 - lr: 1.0000e-06\n",
      "Epoch 75/100\n",
      "45/45 [==============================] - ETA: 0s - loss: 4.8363 - accuracy: 0.9680\n",
      "Epoch 75: val_accuracy did not improve from 0.98355\n",
      "45/45 [==============================] - 105s 2s/step - loss: 4.8363 - accuracy: 0.9680 - val_loss: 4.8726 - val_accuracy: 0.9770 - lr: 1.0000e-06\n",
      "Epoch 76/100\n",
      "45/45 [==============================] - ETA: 0s - loss: 4.8518 - accuracy: 0.9604\n",
      "Epoch 76: val_accuracy did not improve from 0.98355\n",
      "45/45 [==============================] - 102s 2s/step - loss: 4.8518 - accuracy: 0.9604 - val_loss: 4.8846 - val_accuracy: 0.9572 - lr: 1.0000e-06\n",
      "Epoch 77/100\n",
      "45/45 [==============================] - ETA: 0s - loss: 4.8358 - accuracy: 0.9680\n",
      "Epoch 77: val_accuracy did not improve from 0.98355\n",
      "45/45 [==============================] - 103s 2s/step - loss: 4.8358 - accuracy: 0.9680 - val_loss: 4.8662 - val_accuracy: 0.9671 - lr: 1.0000e-06\n",
      "Epoch 78/100\n",
      "45/45 [==============================] - ETA: 0s - loss: 4.8349 - accuracy: 0.9694\n",
      "Epoch 78: val_accuracy did not improve from 0.98355\n",
      "45/45 [==============================] - 99s 2s/step - loss: 4.8349 - accuracy: 0.9694 - val_loss: 4.8803 - val_accuracy: 0.9605 - lr: 1.0000e-06\n",
      "Epoch 79/100\n",
      "45/45 [==============================] - ETA: 0s - loss: 4.8409 - accuracy: 0.9631\n",
      "Epoch 79: val_accuracy did not improve from 0.98355\n",
      "45/45 [==============================] - 100s 2s/step - loss: 4.8409 - accuracy: 0.9631 - val_loss: 4.8683 - val_accuracy: 0.9638 - lr: 1.0000e-06\n",
      "Epoch 80/100\n",
      "45/45 [==============================] - ETA: 0s - loss: 4.8301 - accuracy: 0.9659\n",
      "Epoch 80: val_accuracy did not improve from 0.98355\n",
      "45/45 [==============================] - 99s 2s/step - loss: 4.8301 - accuracy: 0.9659 - val_loss: 4.8454 - val_accuracy: 0.9836 - lr: 1.0000e-06\n",
      "Epoch 81/100\n",
      "45/45 [==============================] - ETA: 0s - loss: 4.8271 - accuracy: 0.9687\n",
      "Epoch 81: val_accuracy did not improve from 0.98355\n",
      "45/45 [==============================] - 98s 2s/step - loss: 4.8271 - accuracy: 0.9687 - val_loss: 4.8868 - val_accuracy: 0.9605 - lr: 1.0000e-06\n",
      "Epoch 82/100\n",
      "45/45 [==============================] - ETA: 0s - loss: 4.8403 - accuracy: 0.9645\n",
      "Epoch 82: val_accuracy did not improve from 0.98355\n",
      "45/45 [==============================] - 100s 2s/step - loss: 4.8403 - accuracy: 0.9645 - val_loss: 4.8808 - val_accuracy: 0.9671 - lr: 1.0000e-06\n",
      "Epoch 83/100\n",
      "45/45 [==============================] - ETA: 0s - loss: 4.8341 - accuracy: 0.9680\n",
      "Epoch 83: val_accuracy did not improve from 0.98355\n",
      "45/45 [==============================] - 100s 2s/step - loss: 4.8341 - accuracy: 0.9680 - val_loss: 4.8695 - val_accuracy: 0.9638 - lr: 1.0000e-06\n",
      "Epoch 84/100\n",
      "45/45 [==============================] - ETA: 0s - loss: 4.8409 - accuracy: 0.9687\n",
      "Epoch 84: val_accuracy did not improve from 0.98355\n",
      "45/45 [==============================] - 100s 2s/step - loss: 4.8409 - accuracy: 0.9687 - val_loss: 4.8682 - val_accuracy: 0.9572 - lr: 1.0000e-06\n",
      "Epoch 85/100\n",
      "45/45 [==============================] - ETA: 0s - loss: 4.8316 - accuracy: 0.9694\n",
      "Epoch 85: val_accuracy did not improve from 0.98355\n",
      "45/45 [==============================] - 100s 2s/step - loss: 4.8316 - accuracy: 0.9694 - val_loss: 4.8465 - val_accuracy: 0.9737 - lr: 1.0000e-06\n",
      "Epoch 86/100\n",
      "45/45 [==============================] - ETA: 0s - loss: 4.8428 - accuracy: 0.9673\n",
      "Epoch 86: val_accuracy did not improve from 0.98355\n",
      "45/45 [==============================] - 103s 2s/step - loss: 4.8428 - accuracy: 0.9673 - val_loss: 4.8321 - val_accuracy: 0.9770 - lr: 1.0000e-06\n",
      "Epoch 87/100\n",
      "45/45 [==============================] - ETA: 0s - loss: 4.8388 - accuracy: 0.9701\n",
      "Epoch 87: val_accuracy did not improve from 0.98355\n",
      "45/45 [==============================] - 102s 2s/step - loss: 4.8388 - accuracy: 0.9701 - val_loss: 4.8462 - val_accuracy: 0.9704 - lr: 1.0000e-06\n",
      "Epoch 88/100\n",
      "45/45 [==============================] - ETA: 0s - loss: 4.8351 - accuracy: 0.9687\n",
      "Epoch 88: val_accuracy did not improve from 0.98355\n",
      "45/45 [==============================] - 103s 2s/step - loss: 4.8351 - accuracy: 0.9687 - val_loss: 4.8619 - val_accuracy: 0.9704 - lr: 1.0000e-06\n",
      "Epoch 89/100\n",
      "45/45 [==============================] - ETA: 0s - loss: 4.8408 - accuracy: 0.9666\n",
      "Epoch 89: val_accuracy did not improve from 0.98355\n",
      "45/45 [==============================] - 102s 2s/step - loss: 4.8408 - accuracy: 0.9666 - val_loss: 4.9207 - val_accuracy: 0.9474 - lr: 1.0000e-06\n",
      "Epoch 90/100\n",
      "45/45 [==============================] - ETA: 0s - loss: 4.8440 - accuracy: 0.9638\n",
      "Epoch 90: val_accuracy did not improve from 0.98355\n",
      "45/45 [==============================] - 103s 2s/step - loss: 4.8440 - accuracy: 0.9638 - val_loss: 4.8535 - val_accuracy: 0.9737 - lr: 1.0000e-06\n",
      "Epoch 91/100\n",
      "45/45 [==============================] - ETA: 0s - loss: 4.8353 - accuracy: 0.9708\n",
      "Epoch 91: val_accuracy did not improve from 0.98355\n",
      "45/45 [==============================] - 103s 2s/step - loss: 4.8353 - accuracy: 0.9708 - val_loss: 4.8465 - val_accuracy: 0.9803 - lr: 1.0000e-06\n",
      "Epoch 92/100\n",
      "45/45 [==============================] - ETA: 0s - loss: 4.8596 - accuracy: 0.9569\n",
      "Epoch 92: val_accuracy did not improve from 0.98355\n",
      "45/45 [==============================] - 103s 2s/step - loss: 4.8596 - accuracy: 0.9569 - val_loss: 4.8472 - val_accuracy: 0.9770 - lr: 1.0000e-06\n",
      "Epoch 93/100\n",
      "45/45 [==============================] - ETA: 0s - loss: 4.8283 - accuracy: 0.9750\n",
      "Epoch 93: val_accuracy did not improve from 0.98355\n",
      "45/45 [==============================] - 104s 2s/step - loss: 4.8283 - accuracy: 0.9750 - val_loss: 4.8623 - val_accuracy: 0.9572 - lr: 1.0000e-06\n",
      "Epoch 94/100\n",
      "45/45 [==============================] - ETA: 0s - loss: 4.8442 - accuracy: 0.9659\n",
      "Epoch 94: val_accuracy did not improve from 0.98355\n",
      "45/45 [==============================] - 106s 2s/step - loss: 4.8442 - accuracy: 0.9659 - val_loss: 4.8433 - val_accuracy: 0.9803 - lr: 1.0000e-06\n",
      "Epoch 95/100\n",
      "45/45 [==============================] - ETA: 0s - loss: 4.8345 - accuracy: 0.9680\n",
      "Epoch 95: val_accuracy did not improve from 0.98355\n",
      "45/45 [==============================] - 102s 2s/step - loss: 4.8345 - accuracy: 0.9680 - val_loss: 4.8521 - val_accuracy: 0.9638 - lr: 1.0000e-06\n",
      "Epoch 96/100\n",
      "45/45 [==============================] - ETA: 0s - loss: 4.8406 - accuracy: 0.9645\n",
      "Epoch 96: val_accuracy did not improve from 0.98355\n",
      "45/45 [==============================] - 103s 2s/step - loss: 4.8406 - accuracy: 0.9645 - val_loss: 4.8935 - val_accuracy: 0.9572 - lr: 1.0000e-06\n",
      "Epoch 97/100\n",
      "45/45 [==============================] - ETA: 0s - loss: 4.8347 - accuracy: 0.9694\n",
      "Epoch 97: val_accuracy did not improve from 0.98355\n",
      "45/45 [==============================] - 103s 2s/step - loss: 4.8347 - accuracy: 0.9694 - val_loss: 4.8603 - val_accuracy: 0.9704 - lr: 1.0000e-06\n",
      "Epoch 98/100\n",
      "45/45 [==============================] - ETA: 0s - loss: 4.8362 - accuracy: 0.9659\n",
      "Epoch 98: val_accuracy did not improve from 0.98355\n",
      "45/45 [==============================] - 102s 2s/step - loss: 4.8362 - accuracy: 0.9659 - val_loss: 4.8802 - val_accuracy: 0.9572 - lr: 1.0000e-06\n",
      "Epoch 99/100\n",
      "45/45 [==============================] - ETA: 0s - loss: 4.8446 - accuracy: 0.9645\n",
      "Epoch 99: val_accuracy did not improve from 0.98355\n",
      "45/45 [==============================] - 102s 2s/step - loss: 4.8446 - accuracy: 0.9645 - val_loss: 4.8747 - val_accuracy: 0.9737 - lr: 1.0000e-06\n",
      "Epoch 100/100\n",
      "45/45 [==============================] - ETA: 0s - loss: 4.8216 - accuracy: 0.9729\n",
      "Epoch 100: val_accuracy did not improve from 0.98355\n",
      "45/45 [==============================] - 103s 2s/step - loss: 4.8216 - accuracy: 0.9729 - val_loss: 4.8609 - val_accuracy: 0.9605 - lr: 1.0000e-06\n"
     ]
    }
   ],
   "source": [
    "from numpy.random import seed\n",
    "tf.keras.utils.set_random_seed(42)# keras seed fixing\n",
    "tf.random.set_seed(42)# tensorflow seed fixing\n",
    "\n",
    "## EJECUCION DEL MODELO\n",
    "model.compile(loss=\"categorical_crossentropy\", \n",
    "              optimizer= SGD(learning_rate=0.001),\n",
    "              metrics=[\"accuracy\"])\n",
    "\n",
    "#Agregamos un callback\n",
    "from tensorflow.keras.callbacks import ModelCheckpoint\n",
    "from tensorflow.keras.callbacks import ReduceLROnPlateau\n",
    "\n",
    "metric = 'val_accuracy'\n",
    "\n",
    "checkpointer = ModelCheckpoint(filepath='model-07', verbose=1, save_best_only=True,\n",
    "                               monitor = metric, mode = 'max')\n",
    "reduce_lr = ReduceLROnPlateau(monitor='val_loss', factor=0.2,\n",
    "                              patience=3, min_lr=0.000001)\n",
    "\n",
    "model= model.fit(train_generator,validation_data = valid_generator, \n",
    "                             callbacks = [reduce_lr, checkpointer], epochs=epochs)"
   ]
  },
  {
   "cell_type": "code",
   "execution_count": 11,
   "id": "7f2bdaef-cd4d-4293-a9d6-96ff42a472f9",
   "metadata": {},
   "outputs": [
    {
     "name": "stdout",
     "output_type": "stream",
     "text": [
      "10/10 [==============================] - 7s 656ms/step\n"
     ]
    }
   ],
   "source": [
    "preds_test = model.model.predict(test_generator)"
   ]
  },
  {
   "cell_type": "code",
   "execution_count": 12,
   "id": "49f96094-7a88-42fe-ad44-8530de26456e",
   "metadata": {},
   "outputs": [
    {
     "name": "stdout",
     "output_type": "stream",
     "text": [
      "10/10 [==============================] - 6s 615ms/step - loss: 4.8483 - accuracy: 0.9656\n"
     ]
    }
   ],
   "source": [
    "evaluate_test = model.model.evaluate(test_generator)"
   ]
  },
  {
   "cell_type": "code",
   "execution_count": 13,
   "id": "730f6466-b483-483e-b16c-1dde5da34648",
   "metadata": {},
   "outputs": [
    {
     "data": {
      "text/plain": [
       "[4.848256587982178, 0.965624988079071]"
      ]
     },
     "execution_count": 13,
     "metadata": {},
     "output_type": "execute_result"
    }
   ],
   "source": [
    "evaluate_test"
   ]
  },
  {
   "cell_type": "code",
   "execution_count": 14,
   "id": "71fc2b80-aa9e-4fa3-b8d9-25f732de5c86",
   "metadata": {},
   "outputs": [
    {
     "data": {
      "text/plain": [
       "array([0, 0, 0, 0, 0, 0, 0, 0, 0, 0, 0, 0, 0, 0, 0, 0, 0, 0, 0, 0, 0, 4,\n",
       "       0, 0, 0, 0, 0, 0, 0, 0, 0, 0, 1, 1, 1, 1, 1, 1, 1, 1, 1, 1, 1, 1,\n",
       "       1, 1, 1, 1, 1, 1, 1, 1, 1, 1, 1, 1, 1, 1, 1, 1, 1, 1, 1, 1, 2, 2,\n",
       "       2, 2, 2, 2, 2, 2, 2, 2, 2, 2, 2, 2, 2, 2, 2, 2, 2, 2, 2, 2, 2, 2,\n",
       "       2, 2, 2, 2, 2, 2, 2, 2, 3, 3, 3, 3, 3, 3, 3, 3, 3, 3, 3, 3, 3, 3,\n",
       "       3, 3, 3, 3, 3, 3, 3, 3, 3, 3, 3, 3, 3, 3, 3, 3, 3, 3, 4, 4, 4, 4,\n",
       "       4, 4, 5, 4, 4, 4, 4, 4, 4, 4, 4, 4, 4, 4, 4, 4, 4, 4, 4, 4, 4, 4,\n",
       "       4, 4, 4, 4, 4, 4, 5, 5, 5, 4, 5, 5, 5, 5, 5, 5, 5, 5, 5, 5, 5, 5,\n",
       "       5, 5, 5, 5, 5, 5, 5, 5, 5, 5, 5, 5, 5, 9, 5, 5, 6, 6, 6, 6, 6, 6,\n",
       "       6, 6, 6, 6, 6, 6, 6, 6, 6, 6, 6, 6, 6, 2, 6, 6, 6, 6, 6, 6, 6, 6,\n",
       "       6, 6, 6, 6, 7, 7, 7, 7, 7, 7, 7, 7, 7, 7, 8, 7, 7, 7, 7, 7, 7, 7,\n",
       "       7, 7, 7, 7, 7, 7, 7, 7, 7, 7, 8, 7, 0, 7, 8, 7, 8, 8, 8, 8, 8, 8,\n",
       "       8, 7, 8, 7, 8, 8, 8, 8, 8, 8, 8, 8, 8, 8, 8, 8, 8, 9, 8, 8, 8, 8,\n",
       "       8, 8, 9, 9, 9, 9, 9, 9, 9, 9, 9, 9, 9, 9, 9, 9, 9, 9, 9, 9, 9, 9,\n",
       "       9, 9, 9, 9, 9, 9, 9, 9, 9, 9, 9, 9])"
      ]
     },
     "execution_count": 14,
     "metadata": {},
     "output_type": "execute_result"
    }
   ],
   "source": [
    "y_preds_test = np.array([np.argmax(x) for x in preds_test])\n",
    "y_preds_test"
   ]
  },
  {
   "cell_type": "code",
   "execution_count": 15,
   "id": "eb480175-6c03-4201-806c-fb8a27b96984",
   "metadata": {},
   "outputs": [
    {
     "data": {
      "text/plain": [
       "array([0, 0, 0, 0, 0, 0, 0, 0, 0, 0, 0, 0, 0, 0, 0, 0, 0, 0, 0, 0, 0, 0,\n",
       "       0, 0, 0, 0, 0, 0, 0, 0, 0, 0, 1, 1, 1, 1, 1, 1, 1, 1, 1, 1, 1, 1,\n",
       "       1, 1, 1, 1, 1, 1, 1, 1, 1, 1, 1, 1, 1, 1, 1, 1, 1, 1, 1, 1, 2, 2,\n",
       "       2, 2, 2, 2, 2, 2, 2, 2, 2, 2, 2, 2, 2, 2, 2, 2, 2, 2, 2, 2, 2, 2,\n",
       "       2, 2, 2, 2, 2, 2, 2, 2, 3, 3, 3, 3, 3, 3, 3, 3, 3, 3, 3, 3, 3, 3,\n",
       "       3, 3, 3, 3, 3, 3, 3, 3, 3, 3, 3, 3, 3, 3, 3, 3, 3, 3, 4, 4, 4, 4,\n",
       "       4, 4, 4, 4, 4, 4, 4, 4, 4, 4, 4, 4, 4, 4, 4, 4, 4, 4, 4, 4, 4, 4,\n",
       "       4, 4, 4, 4, 4, 4, 5, 5, 5, 5, 5, 5, 5, 5, 5, 5, 5, 5, 5, 5, 5, 5,\n",
       "       5, 5, 5, 5, 5, 5, 5, 5, 5, 5, 5, 5, 5, 5, 5, 5, 6, 6, 6, 6, 6, 6,\n",
       "       6, 6, 6, 6, 6, 6, 6, 6, 6, 6, 6, 6, 6, 6, 6, 6, 6, 6, 6, 6, 6, 6,\n",
       "       6, 6, 6, 6, 7, 7, 7, 7, 7, 7, 7, 7, 7, 7, 7, 7, 7, 7, 7, 7, 7, 7,\n",
       "       7, 7, 7, 7, 7, 7, 7, 7, 7, 7, 7, 7, 7, 7, 8, 8, 8, 8, 8, 8, 8, 8,\n",
       "       8, 8, 8, 8, 8, 8, 8, 8, 8, 8, 8, 8, 8, 8, 8, 8, 8, 8, 8, 8, 8, 8,\n",
       "       8, 8, 9, 9, 9, 9, 9, 9, 9, 9, 9, 9, 9, 9, 9, 9, 9, 9, 9, 9, 9, 9,\n",
       "       9, 9, 9, 9, 9, 9, 9, 9, 9, 9, 9, 9], dtype=int32)"
      ]
     },
     "execution_count": 15,
     "metadata": {},
     "output_type": "execute_result"
    }
   ],
   "source": [
    "y_real_test = test_generator.classes\n",
    "y_real_test"
   ]
  },
  {
   "cell_type": "code",
   "execution_count": 16,
   "id": "95f69712-fd40-43cf-90d2-9b0a1bafca00",
   "metadata": {},
   "outputs": [
    {
     "data": {
      "text/plain": [
       "0.9625"
      ]
     },
     "execution_count": 16,
     "metadata": {},
     "output_type": "execute_result"
    }
   ],
   "source": [
    "accuracy_test = accuracy_score(y_real_test, y_preds_test)\n",
    "accuracy_test"
   ]
  },
  {
   "cell_type": "code",
   "execution_count": 17,
   "id": "4b0f6dec-7952-41d6-bc7c-e585cd11d7de",
   "metadata": {},
   "outputs": [
    {
     "data": {
      "text/plain": [
       "array([[31,  0,  0,  0,  1,  0,  0,  0,  0,  0],\n",
       "       [ 0, 32,  0,  0,  0,  0,  0,  0,  0,  0],\n",
       "       [ 0,  0, 32,  0,  0,  0,  0,  0,  0,  0],\n",
       "       [ 0,  0,  0, 32,  0,  0,  0,  0,  0,  0],\n",
       "       [ 0,  0,  0,  0, 31,  1,  0,  0,  0,  0],\n",
       "       [ 0,  0,  0,  0,  1, 30,  0,  0,  0,  1],\n",
       "       [ 0,  0,  1,  0,  0,  0, 31,  0,  0,  0],\n",
       "       [ 1,  0,  0,  0,  0,  0,  0, 29,  2,  0],\n",
       "       [ 0,  0,  0,  0,  0,  0,  0,  3, 28,  1],\n",
       "       [ 0,  0,  0,  0,  0,  0,  0,  0,  0, 32]])"
      ]
     },
     "execution_count": 17,
     "metadata": {},
     "output_type": "execute_result"
    }
   ],
   "source": [
    "cm_test = confusion_matrix(y_real_test, y_preds_test)\n",
    "cm_test"
   ]
  },
  {
   "cell_type": "code",
   "execution_count": 18,
   "id": "4cb535b8-028f-477e-b03f-8783b3a13096",
   "metadata": {},
   "outputs": [
    {
     "data": {
      "image/png": "[encoded data removed]",
      "text/plain": [
       "<Figure size 800x600 with 2 Axes>"
      ]
     },
     "metadata": {},
     "output_type": "display_data"
    }
   ],
   "source": [
    "plt.figure(figsize=(8,6), dpi=100)\n",
    "# Scale up the size of all text\n",
    "sns.set(font_scale = 1.1)\n",
    "\n",
    "# Plot Confusion Matrix using Seaborn heatmap()\n",
    "# Parameters:\n",
    "# first param - confusion matrix in array format   \n",
    "# annot = True: show the numbers in each heatmap cell\n",
    "# fmt = 'd': show numbers as integers. \n",
    "ax = sns.heatmap(cm_test, annot=True, fmt='d', )\n",
    "\n",
    "# set x-axis label and ticks. \n",
    "ax.set_xlabel(\"Predicted Diagnosis\", fontsize=14, labelpad=20)\n",
    "# ax.xaxis.set_ticklabels(['Negative', 'Positive'])\n",
    "\n",
    "# set y-axis label and ticks\n",
    "ax.set_ylabel(\"Actual Diagnosis\", fontsize=14, labelpad=20)\n",
    "# ax.yaxis.set_ticklabels(['Negative', 'Positive'])\n",
    "\n",
    "# set plot title\n",
    "ax.set_title(\"Confusion Matrix for the Diabetes Detection Model\", fontsize=14, pad=20)\n",
    "\n",
    "plt.show()"
   ]
  },
  {
   "cell_type": "code",
   "execution_count": 19,
   "id": "b503eb1a-81ed-4078-b596-278249a3c722",
   "metadata": {},
   "outputs": [
    {
     "name": "stdout",
     "output_type": "stream",
     "text": [
      "10/10 [==============================] - 6s 574ms/step\n"
     ]
    }
   ],
   "source": [
    "preds_val = model.model.predict(valid_generator)"
   ]
  },
  {
   "cell_type": "code",
   "execution_count": 20,
   "id": "1fb77fb4-bdbf-4929-b30b-f90ab9aa55eb",
   "metadata": {},
   "outputs": [
    {
     "name": "stdout",
     "output_type": "stream",
     "text": [
      "10/10 [==============================] - 6s 539ms/step - loss: 4.8846 - accuracy: 0.9605\n"
     ]
    }
   ],
   "source": [
    "evaluate_val = model.model.evaluate(valid_generator)"
   ]
  },
  {
   "cell_type": "code",
   "execution_count": 21,
   "id": "d3a2be82-fc27-446d-be97-ef39329a1385",
   "metadata": {},
   "outputs": [
    {
     "data": {
      "text/plain": [
       "[4.884647846221924, 0.9605262875556946]"
      ]
     },
     "execution_count": 21,
     "metadata": {},
     "output_type": "execute_result"
    }
   ],
   "source": [
    "evaluate_val"
   ]
  },
  {
   "cell_type": "code",
   "execution_count": 22,
   "id": "d17f5e3f-c58f-4ff5-86d8-961dde74325c",
   "metadata": {},
   "outputs": [
    {
     "data": {
      "text/plain": [
       "array([0, 0, 0, 0, 0, 0, 0, 0, 0, 0, 0, 0, 0, 0, 0, 0, 0, 0, 0, 0, 0, 0,\n",
       "       0, 0, 0, 0, 0, 0, 0, 0, 1, 1, 1, 1, 1, 1, 1, 1, 1, 1, 1, 1, 1, 1,\n",
       "       1, 1, 1, 1, 1, 1, 1, 1, 1, 1, 1, 1, 1, 1, 1, 1, 2, 2, 2, 2, 2, 2,\n",
       "       2, 2, 2, 2, 2, 2, 2, 2, 2, 2, 2, 2, 3, 2, 2, 2, 2, 2, 2, 2, 2, 2,\n",
       "       2, 2, 3, 3, 3, 3, 3, 3, 3, 3, 3, 3, 3, 3, 3, 3, 3, 3, 3, 3, 3, 3,\n",
       "       3, 3, 3, 3, 3, 3, 3, 3, 3, 3, 4, 4, 4, 4, 4, 4, 4, 4, 4, 4, 4, 4,\n",
       "       4, 4, 4, 4, 5, 4, 4, 4, 4, 4, 4, 4, 4, 4, 4, 4, 4, 4, 4, 5, 5, 5,\n",
       "       5, 5, 5, 5, 5, 5, 5, 5, 5, 5, 5, 5, 5, 5, 5, 5, 5, 5, 5, 5, 5, 5,\n",
       "       5, 5, 5, 5, 5, 5, 6, 6, 6, 6, 6, 6, 6, 6, 6, 6, 6, 6, 6, 6, 6, 6,\n",
       "       6, 6, 6, 6, 6, 6, 2, 6, 6, 6, 6, 6, 6, 6, 6, 2, 7, 7, 7, 7, 8, 7,\n",
       "       7, 7, 8, 7, 7, 7, 7, 7, 7, 7, 7, 7, 7, 7, 7, 7, 7, 7, 7, 7, 7, 8,\n",
       "       7, 8, 8, 8, 8, 8, 8, 8, 8, 8, 8, 8, 8, 8, 8, 8, 8, 8, 8, 8, 8, 8,\n",
       "       8, 8, 8, 8, 8, 8, 8, 8, 8, 8, 9, 9, 9, 9, 9, 9, 9, 9, 9, 9, 8, 9,\n",
       "       9, 9, 9, 9, 9, 9, 9, 9, 9, 9, 9, 9, 9, 9, 9, 9, 9, 9])"
      ]
     },
     "execution_count": 22,
     "metadata": {},
     "output_type": "execute_result"
    }
   ],
   "source": [
    "y_preds_val = np.array([np.argmax(x) for x in preds_val])\n",
    "y_preds_val"
   ]
  },
  {
   "cell_type": "code",
   "execution_count": 23,
   "id": "7a7cd9d7-3192-4e04-a0a1-693ca99d1037",
   "metadata": {},
   "outputs": [
    {
     "data": {
      "text/plain": [
       "array([0, 0, 0, 0, 0, 0, 0, 0, 0, 0, 0, 0, 0, 0, 0, 0, 0, 0, 0, 0, 0, 0,\n",
       "       0, 0, 0, 0, 0, 0, 0, 0, 1, 1, 1, 1, 1, 1, 1, 1, 1, 1, 1, 1, 1, 1,\n",
       "       1, 1, 1, 1, 1, 1, 1, 1, 1, 1, 1, 1, 1, 1, 1, 1, 2, 2, 2, 2, 2, 2,\n",
       "       2, 2, 2, 2, 2, 2, 2, 2, 2, 2, 2, 2, 2, 2, 2, 2, 2, 2, 2, 2, 2, 2,\n",
       "       2, 2, 3, 3, 3, 3, 3, 3, 3, 3, 3, 3, 3, 3, 3, 3, 3, 3, 3, 3, 3, 3,\n",
       "       3, 3, 3, 3, 3, 3, 3, 3, 3, 3, 4, 4, 4, 4, 4, 4, 4, 4, 4, 4, 4, 4,\n",
       "       4, 4, 4, 4, 4, 4, 4, 4, 4, 4, 4, 4, 4, 4, 4, 4, 4, 4, 4, 5, 5, 5,\n",
       "       5, 5, 5, 5, 5, 5, 5, 5, 5, 5, 5, 5, 5, 5, 5, 5, 5, 5, 5, 5, 5, 5,\n",
       "       5, 5, 5, 5, 5, 5, 6, 6, 6, 6, 6, 6, 6, 6, 6, 6, 6, 6, 6, 6, 6, 6,\n",
       "       6, 6, 6, 6, 6, 6, 6, 6, 6, 6, 6, 6, 6, 6, 6, 7, 7, 7, 7, 7, 7, 7,\n",
       "       7, 7, 7, 7, 7, 7, 7, 7, 7, 7, 7, 7, 7, 7, 7, 7, 7, 7, 7, 7, 7, 7,\n",
       "       7, 8, 8, 8, 8, 8, 8, 8, 8, 8, 8, 8, 8, 8, 8, 8, 8, 8, 8, 8, 8, 8,\n",
       "       8, 8, 8, 8, 8, 8, 8, 8, 8, 8, 9, 9, 9, 9, 9, 9, 9, 9, 9, 9, 9, 9,\n",
       "       9, 9, 9, 9, 9, 9, 9, 9, 9, 9, 9, 9, 9, 9, 9, 9, 9, 9], dtype=int32)"
      ]
     },
     "execution_count": 23,
     "metadata": {},
     "output_type": "execute_result"
    }
   ],
   "source": [
    "y_real_val = valid_generator.classes\n",
    "y_real_val"
   ]
  },
  {
   "cell_type": "code",
   "execution_count": 24,
   "id": "67e7aded-e874-41a0-981d-4de4720b27ad",
   "metadata": {},
   "outputs": [
    {
     "data": {
      "text/plain": [
       "0.9736842105263158"
      ]
     },
     "execution_count": 24,
     "metadata": {},
     "output_type": "execute_result"
    }
   ],
   "source": [
    "accuracy_val = accuracy_score(y_real_val, y_preds_val)\n",
    "accuracy_val"
   ]
  },
  {
   "cell_type": "code",
   "execution_count": 25,
   "id": "c3459eff-7df8-47b2-986a-2beab8ac51e1",
   "metadata": {},
   "outputs": [
    {
     "data": {
      "text/plain": [
       "array([[30,  0,  0,  0,  0,  0,  0,  0,  0,  0],\n",
       "       [ 0, 30,  0,  0,  0,  0,  0,  0,  0,  0],\n",
       "       [ 0,  0, 29,  1,  0,  0,  0,  0,  0,  0],\n",
       "       [ 0,  0,  0, 30,  0,  0,  0,  0,  0,  0],\n",
       "       [ 0,  0,  0,  0, 30,  1,  0,  0,  0,  0],\n",
       "       [ 0,  0,  0,  0,  0, 31,  0,  0,  0,  0],\n",
       "       [ 0,  0,  1,  0,  0,  0, 30,  0,  0,  0],\n",
       "       [ 0,  0,  1,  0,  0,  0,  0, 26,  3,  0],\n",
       "       [ 0,  0,  0,  0,  0,  0,  0,  0, 31,  0],\n",
       "       [ 0,  0,  0,  0,  0,  0,  0,  0,  1, 29]])"
      ]
     },
     "execution_count": 25,
     "metadata": {},
     "output_type": "execute_result"
    }
   ],
   "source": [
    "cm_val = confusion_matrix(y_real_val, y_preds_val)\n",
    "cm_val"
   ]
  },
  {
   "cell_type": "code",
   "execution_count": 26,
   "id": "d9806965-fb2e-4044-af24-af216719e719",
   "metadata": {},
   "outputs": [
    {
     "data": {
      "image/png": "[encoded data removed]",
      "text/plain": [
       "<Figure size 800x600 with 2 Axes>"
      ]
     },
     "metadata": {},
     "output_type": "display_data"
    }
   ],
   "source": [
    "plt.figure(figsize=(8,6), dpi=100)\n",
    "# Scale up the size of all text\n",
    "sns.set(font_scale = 1.1)\n",
    "\n",
    "# Plot Confusion Matrix using Seaborn heatmap()\n",
    "# Parameters:\n",
    "# first param - confusion matrix in array format   \n",
    "# annot = True: show the numbers in each heatmap cell\n",
    "# fmt = 'd': show numbers as integers. \n",
    "ax = sns.heatmap(cm_val, annot=True, fmt='d', )\n",
    "\n",
    "# set x-axis label and ticks. \n",
    "ax.set_xlabel(\"Predicted Diagnosis\", fontsize=14, labelpad=20)\n",
    "# ax.xaxis.set_ticklabels(['Negative', 'Positive'])\n",
    "\n",
    "# set y-axis label and ticks\n",
    "ax.set_ylabel(\"Actual Diagnosis\", fontsize=14, labelpad=20)\n",
    "# ax.yaxis.set_ticklabels(['Negative', 'Positive'])\n",
    "\n",
    "# set plot title\n",
    "ax.set_title(\"Confusion Matrix for the Diabetes Detection Model\", fontsize=14, pad=20)\n",
    "\n",
    "plt.show()"
   ]
  }
 ],
 "metadata": {
  "kernelspec": {
   "display_name": "TensorFlow 2.10 (Local)",
   "language": "python",
   "name": "local-tf2-2-10"
  },
  "language_info": {
   "codemirror_mode": {
    "name": "ipython",
    "version": 3
   },
   "file_extension": ".py",
   "mimetype": "text/x-python",
   "name": "python",
   "nbconvert_exporter": "python",
   "pygments_lexer": "ipython3",
   "version": "3.7.12"
  }
 },
 "nbformat": 4,
 "nbformat_minor": 5
}

{
 "cells": [
  {
   "cell_type": "code",
   "execution_count": 1,
   "id": "cabbedb0-cdf5-4873-b294-64c330b205de",
   "metadata": {},
   "outputs": [
    {
     "name": "stderr",
     "output_type": "stream",
     "text": [
      "2023-09-11 22:17:19.986211: I tensorflow/core/platform/cpu_feature_guard.cc:193] This TensorFlow binary is optimized with oneAPI Deep Neural Network Library (oneDNN) to use the following CPU instructions in performance-critical operations:  AVX2 FMA\n",
      "To enable them in other operations, rebuild TensorFlow with the appropriate compiler flags.\n",
      "2023-09-11 22:17:20.283307: E tensorflow/stream_executor/cuda/cuda_blas.cc:2981] Unable to register cuBLAS factory: Attempting to register factory for plugin cuBLAS when one has already been registered\n",
      "2023-09-11 22:17:25.145317: W tensorflow/stream_executor/platform/default/dso_loader.cc:64] Could not load dynamic library 'libnvinfer.so.7'; dlerror: libnvinfer.so.7: cannot open shared object file: No such file or directory; LD_LIBRARY_PATH: /usr/local/cuda/lib64:/usr/local/cuda/lib:/usr/local/lib/x86_64-linux-gnu:/usr/local/nvidia/lib:/usr/local/nvidia/lib64:/usr/local/nvidia/lib:/usr/local/nvidia/lib64\n",
      "2023-09-11 22:17:25.145544: W tensorflow/stream_executor/platform/default/dso_loader.cc:64] Could not load dynamic library 'libnvinfer_plugin.so.7'; dlerror: libnvinfer_plugin.so.7: cannot open shared object file: No such file or directory; LD_LIBRARY_PATH: /usr/local/cuda/lib64:/usr/local/cuda/lib:/usr/local/lib/x86_64-linux-gnu:/usr/local/nvidia/lib:/usr/local/nvidia/lib64:/usr/local/nvidia/lib:/usr/local/nvidia/lib64\n",
      "2023-09-11 22:17:25.145565: W tensorflow/compiler/tf2tensorrt/utils/py_utils.cc:38] TF-TRT Warning: Cannot dlopen some TensorRT libraries. If you would like to use Nvidia GPU with TensorRT, please make sure the missing libraries mentioned above are installed properly.\n"
     ]
    },
    {
     "name": "stdout",
     "output_type": "stream",
     "text": [
      "2.10.1\n"
     ]
    }
   ],
   "source": [
    "import tensorflow as tf\n",
    "\n",
    "print(tf.__version__)\n",
    "\n",
    "from tensorflow.keras.models                import Sequential, Model\n",
    "from tensorflow.keras.layers                import *\n",
    "from tensorflow.keras.preprocessing.image   import ImageDataGenerator\n",
    "from tensorflow.keras.utils                 import to_categorical\n",
    "from tensorflow.keras.optimizers            import SGD, RMSprop, Adam, Adagrad, Adadelta\n",
    "\n",
    "from sklearn.model_selection import train_test_split\n",
    "from sklearn.metrics import confusion_matrix, accuracy_score\n",
    "from sklearn.utils import class_weight\n",
    "\n",
    "import matplotlib.pyplot as plt\n",
    "import random\n",
    "# import cv2\n",
    "import pandas as pd\n",
    "import numpy as np\n",
    "import matplotlib.gridspec as gridspec\n",
    "import seaborn as sns\n",
    "import sklearn\n",
    "import scipy\n",
    "import skimage\n",
    "from skimage.transform import resize\n",
    "from tqdm import tqdm\n",
    "from sklearn import model_selection\n",
    "from sklearn.model_selection import train_test_split, learning_curve,KFold,cross_val_score,StratifiedKFold\n",
    "from sklearn.utils import class_weight\n",
    "from sklearn.metrics import confusion_matrix"
   ]
  },
  {
   "cell_type": "code",
   "execution_count": 2,
   "id": "591c6941-6b95-49ed-a5e4-b3b065f337e5",
   "metadata": {},
   "outputs": [],
   "source": [
    "# !git clone https://github.com/ardamavi/Sign-Language-Digits-Dataset.git"
   ]
  },
  {
   "cell_type": "code",
   "execution_count": 3,
   "id": "b142a1a3-59e9-445c-a9c9-35d7cc5e2645",
   "metadata": {},
   "outputs": [],
   "source": [
    "# !pip install split-folders "
   ]
  },
  {
   "cell_type": "code",
   "execution_count": 4,
   "id": "e29c6dc1-7ac5-4f9c-afc5-27889eadad59",
   "metadata": {},
   "outputs": [],
   "source": [
    "# import splitfolders\n",
    "# import os"
   ]
  },
  {
   "cell_type": "code",
   "execution_count": 5,
   "id": "5bc916a7-71b9-408a-a862-97bac0f8cd8c",
   "metadata": {},
   "outputs": [],
   "source": [
    "# path = \"Sign-Language-Digits-Dataset/Dataset\"\n",
    "\n",
    "# splitfolders.ratio(path, seed=777, output=\"Train-Validation-Test-Dataset\", ratio=(0.7, 0.15, 0.15))"
   ]
  },
  {
   "cell_type": "code",
   "execution_count": 6,
   "id": "3c62d1d8-12eb-4f83-ae0c-7ffa1f9c939b",
   "metadata": {},
   "outputs": [],
   "source": [
    "train_path = \"Train-Validation-Test-Dataset/train\"\n",
    "val_path = \"Train-Validation-Test-Dataset/val\"\n",
    "test_path = \"Train-Validation-Test-Dataset/test\""
   ]
  },
  {
   "cell_type": "code",
   "execution_count": 7,
   "id": "b9f0f604-67d3-43b5-962d-5b88fd6bb534",
   "metadata": {},
   "outputs": [
    {
     "name": "stdout",
     "output_type": "stream",
     "text": [
      "Found 1438 images belonging to 10 classes.\n",
      "Found 304 images belonging to 10 classes.\n",
      "Found 320 images belonging to 10 classes.\n"
     ]
    }
   ],
   "source": [
    "from tensorflow.keras.preprocessing.image   import ImageDataGenerator\n",
    "\n",
    "##Clasificamos las imagenes\n",
    "bs = 32 #bach size\n",
    "k = 2\n",
    "# Generador de imágenes de entrenamiento.\n",
    "train_datagen = ImageDataGenerator(\n",
    "        rescale=1./255,\n",
    "        shear_range=(0.3),\n",
    "        zoom_range=(0.3),\n",
    "        width_shift_range=(0.2),\n",
    "        height_shift_range=(0.2),\n",
    "        # validation_split = 0.2,\n",
    "        brightness_range=(0.05,0.85),\n",
    "        horizontal_flip=False)\n",
    "\n",
    "# Carga de imágenes al generador de entrenamiento desde directorio.\n",
    "train_generator = train_datagen.flow_from_directory(\n",
    "        train_path,\n",
    "        class_mode='categorical',\n",
    "        shuffle=True,\n",
    "        target_size=(28*k, 28*k),\n",
    "        color_mode = 'rgb', \n",
    "        # subset = 'training',\n",
    "        batch_size=bs)\n",
    "\n",
    "valid_generator = train_datagen.flow_from_directory(\n",
    "        val_path,\n",
    "        class_mode='categorical',\n",
    "        shuffle=False,\n",
    "        target_size=(28*k, 28*k),\n",
    "        color_mode = 'rgb', \n",
    "        # subset = 'validation',\n",
    "        batch_size=bs)\n",
    "\n",
    "test_generator = train_datagen.flow_from_directory(\n",
    "        test_path,\n",
    "        class_mode='categorical',\n",
    "        shuffle=False,\n",
    "        target_size=(28*k, 28*k),\n",
    "        color_mode = 'rgb', \n",
    "        # subset = 'validation',\n",
    "        batch_size=bs)"
   ]
  },
  {
   "cell_type": "code",
   "execution_count": 8,
   "id": "ce39767d-6018-413a-ac2c-8e816e2cf5e3",
   "metadata": {},
   "outputs": [
    {
     "name": "stderr",
     "output_type": "stream",
     "text": [
      "2023-09-11 22:17:31.535320: W tensorflow/stream_executor/platform/default/dso_loader.cc:64] Could not load dynamic library 'libcuda.so.1'; dlerror: libcuda.so.1: cannot open shared object file: No such file or directory; LD_LIBRARY_PATH: /usr/local/cuda/lib64:/usr/local/cuda/lib:/usr/local/lib/x86_64-linux-gnu:/usr/local/nvidia/lib:/usr/local/nvidia/lib64:/usr/local/nvidia/lib:/usr/local/nvidia/lib64\n",
      "2023-09-11 22:17:31.535384: W tensorflow/stream_executor/cuda/cuda_driver.cc:263] failed call to cuInit: UNKNOWN ERROR (303)\n",
      "2023-09-11 22:17:31.535419: I tensorflow/stream_executor/cuda/cuda_diagnostics.cc:156] kernel driver does not appear to be running on this host (6d006e5c26b0): /proc/driver/nvidia/version does not exist\n",
      "2023-09-11 22:17:31.535742: I tensorflow/core/platform/cpu_feature_guard.cc:193] This TensorFlow binary is optimized with oneAPI Deep Neural Network Library (oneDNN) to use the following CPU instructions in performance-critical operations:  AVX2 FMA\n",
      "To enable them in other operations, rebuild TensorFlow with the appropriate compiler flags.\n"
     ]
    },
    {
     "name": "stdout",
     "output_type": "stream",
     "text": [
      "Model: \"vgg19\"\n",
      "_________________________________________________________________\n",
      " Layer (type)                Output Shape              Param #   \n",
      "=================================================================\n",
      " input_1 (InputLayer)        [(None, 224, 224, 3)]     0         \n",
      "                                                                 \n",
      " block1_conv1 (Conv2D)       (None, 224, 224, 64)      1792      \n",
      "                                                                 \n",
      " block1_conv2 (Conv2D)       (None, 224, 224, 64)      36928     \n",
      "                                                                 \n",
      " block1_pool (MaxPooling2D)  (None, 112, 112, 64)      0         \n",
      "                                                                 \n",
      " block2_conv1 (Conv2D)       (None, 112, 112, 128)     73856     \n",
      "                                                                 \n",
      " block2_conv2 (Conv2D)       (None, 112, 112, 128)     147584    \n",
      "                                                                 \n",
      " block2_pool (MaxPooling2D)  (None, 56, 56, 128)       0         \n",
      "                                                                 \n",
      " block3_conv1 (Conv2D)       (None, 56, 56, 256)       295168    \n",
      "                                                                 \n",
      " block3_conv2 (Conv2D)       (None, 56, 56, 256)       590080    \n",
      "                                                                 \n",
      " block3_conv3 (Conv2D)       (None, 56, 56, 256)       590080    \n",
      "                                                                 \n",
      " block3_conv4 (Conv2D)       (None, 56, 56, 256)       590080    \n",
      "                                                                 \n",
      " block3_pool (MaxPooling2D)  (None, 28, 28, 256)       0         \n",
      "                                                                 \n",
      " block4_conv1 (Conv2D)       (None, 28, 28, 512)       1180160   \n",
      "                                                                 \n",
      " block4_conv2 (Conv2D)       (None, 28, 28, 512)       2359808   \n",
      "                                                                 \n",
      " block4_conv3 (Conv2D)       (None, 28, 28, 512)       2359808   \n",
      "                                                                 \n",
      " block4_conv4 (Conv2D)       (None, 28, 28, 512)       2359808   \n",
      "                                                                 \n",
      " block4_pool (MaxPooling2D)  (None, 14, 14, 512)       0         \n",
      "                                                                 \n",
      " block5_conv1 (Conv2D)       (None, 14, 14, 512)       2359808   \n",
      "                                                                 \n",
      " block5_conv2 (Conv2D)       (None, 14, 14, 512)       2359808   \n",
      "                                                                 \n",
      " block5_conv3 (Conv2D)       (None, 14, 14, 512)       2359808   \n",
      "                                                                 \n",
      " block5_conv4 (Conv2D)       (None, 14, 14, 512)       2359808   \n",
      "                                                                 \n",
      " block5_pool (MaxPooling2D)  (None, 7, 7, 512)         0         \n",
      "                                                                 \n",
      " flatten (Flatten)           (None, 25088)             0         \n",
      "                                                                 \n",
      " fc1 (Dense)                 (None, 4096)              102764544 \n",
      "                                                                 \n",
      " fc2 (Dense)                 (None, 4096)              16781312  \n",
      "                                                                 \n",
      " predictions (Dense)         (None, 1000)              4097000   \n",
      "                                                                 \n",
      "=================================================================\n",
      "Total params: 143,667,240\n",
      "Trainable params: 143,667,240\n",
      "Non-trainable params: 0\n",
      "_________________________________________________________________\n",
      "26\n"
     ]
    }
   ],
   "source": [
    "from numpy.random import seed\n",
    "tf.keras.utils.set_random_seed(42)# keras seed fixing\n",
    "tf.random.set_seed(42)# tensorflow seed fixing\n",
    "\n",
    "#Visualizamos la estructura del modelo que vamos a utilizar\n",
    "model = tf.keras.applications.VGG19()\n",
    "model.summary()\n",
    "print(len(model.layers))"
   ]
  },
  {
   "cell_type": "code",
   "execution_count": 9,
   "id": "b0e0e374-6bf0-455d-92ee-83982a54eae7",
   "metadata": {},
   "outputs": [
    {
     "name": "stdout",
     "output_type": "stream",
     "text": [
      "22\n"
     ]
    }
   ],
   "source": [
    "##DEFINIMOS EL MODELO\n",
    "num_classes = 10\n",
    "epochs = 100\n",
    "\n",
    "# VGG19\n",
    "# Importamos el modelo que queremos utilizar con los argumentos que queremos\n",
    "VGG19_model = tf.keras.applications.VGG19(input_shape=(28*k,28*k,3),\n",
    "                                          include_top=False,\n",
    "                                          weights='imagenet')\n",
    "\n",
    "print(len(VGG19_model.layers))\n",
    "#Congelamos  las 6 primeras caps del modelo para proceder a entrenar las demás\n",
    "for layer in VGG19_model.layers[:6]:\n",
    "  layer.trainable = False\n",
    "\n",
    "# Creamos un nuevo modelo vacio.\n",
    "model = tf.keras.Sequential()\n",
    "\n",
    "# Añadimos el modelo preentrenado como si se tratase de una capa.\n",
    "model.add(VGG19_model)\n",
    "\n",
    "# Continuamos añadiendo más capas que sí serán entrenadas...\n",
    "from tensorflow.keras import regularizers\n",
    "model.add(Flatten())\n",
    "model.add(Dense(2048, kernel_regularizer=regularizers.l2(0.01), activation = 'relu'))\n",
    "model.add(Dropout(0.25))\n",
    "model.add(Dense(num_classes, activation = 'softmax'))"
   ]
  },
  {
   "cell_type": "code",
   "execution_count": 10,
   "id": "98f08be8-a077-4ef3-92ab-b3604ff40655",
   "metadata": {},
   "outputs": [
    {
     "name": "stdout",
     "output_type": "stream",
     "text": [
      "Epoch 1/100\n",
      "45/45 [==============================] - ETA: 0s - loss: 10.4934 - accuracy: 0.1134\n",
      "Epoch 1: accuracy improved from -inf to 0.11335, saving model to model-08\n"
     ]
    },
    {
     "name": "stderr",
     "output_type": "stream",
     "text": [
      "WARNING:absl:Found untraced functions such as _jit_compiled_convolution_op, _jit_compiled_convolution_op, _jit_compiled_convolution_op, _jit_compiled_convolution_op, _jit_compiled_convolution_op while saving (showing 5 of 16). These functions will not be directly callable after loading.\n"
     ]
    },
    {
     "name": "stdout",
     "output_type": "stream",
     "text": [
      "INFO:tensorflow:Assets written to: model-08/assets\n"
     ]
    },
    {
     "name": "stderr",
     "output_type": "stream",
     "text": [
      "INFO:tensorflow:Assets written to: model-08/assets\n"
     ]
    },
    {
     "name": "stdout",
     "output_type": "stream",
     "text": [
      "45/45 [==============================] - 106s 2s/step - loss: 10.4934 - accuracy: 0.1134 - lr: 0.0010\n",
      "Epoch 2/100\n",
      "45/45 [==============================] - ETA: 0s - loss: 10.4160 - accuracy: 0.1822\n",
      "Epoch 2: accuracy improved from 0.11335 to 0.18220, saving model to model-08\n"
     ]
    },
    {
     "name": "stderr",
     "output_type": "stream",
     "text": [
      "WARNING:absl:Found untraced functions such as _jit_compiled_convolution_op, _jit_compiled_convolution_op, _jit_compiled_convolution_op, _jit_compiled_convolution_op, _jit_compiled_convolution_op while saving (showing 5 of 16). These functions will not be directly callable after loading.\n"
     ]
    },
    {
     "name": "stdout",
     "output_type": "stream",
     "text": [
      "INFO:tensorflow:Assets written to: model-08/assets\n"
     ]
    },
    {
     "name": "stderr",
     "output_type": "stream",
     "text": [
      "INFO:tensorflow:Assets written to: model-08/assets\n"
     ]
    },
    {
     "name": "stdout",
     "output_type": "stream",
     "text": [
      "45/45 [==============================] - 101s 2s/step - loss: 10.4160 - accuracy: 0.1822 - lr: 0.0010\n",
      "Epoch 3/100\n",
      "45/45 [==============================] - ETA: 0s - loss: 10.3003 - accuracy: 0.2566\n",
      "Epoch 3: accuracy improved from 0.18220 to 0.25661, saving model to model-08\n"
     ]
    },
    {
     "name": "stderr",
     "output_type": "stream",
     "text": [
      "WARNING:absl:Found untraced functions such as _jit_compiled_convolution_op, _jit_compiled_convolution_op, _jit_compiled_convolution_op, _jit_compiled_convolution_op, _jit_compiled_convolution_op while saving (showing 5 of 16). These functions will not be directly callable after loading.\n"
     ]
    },
    {
     "name": "stdout",
     "output_type": "stream",
     "text": [
      "INFO:tensorflow:Assets written to: model-08/assets\n"
     ]
    },
    {
     "name": "stderr",
     "output_type": "stream",
     "text": [
      "INFO:tensorflow:Assets written to: model-08/assets\n"
     ]
    },
    {
     "name": "stdout",
     "output_type": "stream",
     "text": [
      "45/45 [==============================] - 102s 2s/step - loss: 10.3003 - accuracy: 0.2566 - lr: 0.0010\n",
      "Epoch 4/100\n",
      "45/45 [==============================] - ETA: 0s - loss: 10.0796 - accuracy: 0.3234\n",
      "Epoch 4: accuracy improved from 0.25661 to 0.32337, saving model to model-08\n"
     ]
    },
    {
     "name": "stderr",
     "output_type": "stream",
     "text": [
      "WARNING:absl:Found untraced functions such as _jit_compiled_convolution_op, _jit_compiled_convolution_op, _jit_compiled_convolution_op, _jit_compiled_convolution_op, _jit_compiled_convolution_op while saving (showing 5 of 16). These functions will not be directly callable after loading.\n"
     ]
    },
    {
     "name": "stdout",
     "output_type": "stream",
     "text": [
      "INFO:tensorflow:Assets written to: model-08/assets\n"
     ]
    },
    {
     "name": "stderr",
     "output_type": "stream",
     "text": [
      "INFO:tensorflow:Assets written to: model-08/assets\n"
     ]
    },
    {
     "name": "stdout",
     "output_type": "stream",
     "text": [
      "45/45 [==============================] - 104s 2s/step - loss: 10.0796 - accuracy: 0.3234 - lr: 0.0010\n",
      "Epoch 5/100\n",
      "45/45 [==============================] - ETA: 0s - loss: 9.7825 - accuracy: 0.4145\n",
      "Epoch 5: accuracy improved from 0.32337 to 0.41446, saving model to model-08\n"
     ]
    },
    {
     "name": "stderr",
     "output_type": "stream",
     "text": [
      "WARNING:absl:Found untraced functions such as _jit_compiled_convolution_op, _jit_compiled_convolution_op, _jit_compiled_convolution_op, _jit_compiled_convolution_op, _jit_compiled_convolution_op while saving (showing 5 of 16). These functions will not be directly callable after loading.\n"
     ]
    },
    {
     "name": "stdout",
     "output_type": "stream",
     "text": [
      "INFO:tensorflow:Assets written to: model-08/assets\n"
     ]
    },
    {
     "name": "stderr",
     "output_type": "stream",
     "text": [
      "INFO:tensorflow:Assets written to: model-08/assets\n"
     ]
    },
    {
     "name": "stdout",
     "output_type": "stream",
     "text": [
      "45/45 [==============================] - 100s 2s/step - loss: 9.7825 - accuracy: 0.4145 - lr: 0.0010\n",
      "Epoch 6/100\n",
      "45/45 [==============================] - ETA: 0s - loss: 9.5437 - accuracy: 0.4965\n",
      "Epoch 6: accuracy improved from 0.41446 to 0.49652, saving model to model-08\n"
     ]
    },
    {
     "name": "stderr",
     "output_type": "stream",
     "text": [
      "WARNING:absl:Found untraced functions such as _jit_compiled_convolution_op, _jit_compiled_convolution_op, _jit_compiled_convolution_op, _jit_compiled_convolution_op, _jit_compiled_convolution_op while saving (showing 5 of 16). These functions will not be directly callable after loading.\n"
     ]
    },
    {
     "name": "stdout",
     "output_type": "stream",
     "text": [
      "INFO:tensorflow:Assets written to: model-08/assets\n"
     ]
    },
    {
     "name": "stderr",
     "output_type": "stream",
     "text": [
      "INFO:tensorflow:Assets written to: model-08/assets\n"
     ]
    },
    {
     "name": "stdout",
     "output_type": "stream",
     "text": [
      "45/45 [==============================] - 99s 2s/step - loss: 9.5437 - accuracy: 0.4965 - lr: 0.0010\n",
      "Epoch 7/100\n",
      "45/45 [==============================] - ETA: 0s - loss: 9.2705 - accuracy: 0.5744\n",
      "Epoch 7: accuracy improved from 0.49652 to 0.57441, saving model to model-08\n"
     ]
    },
    {
     "name": "stderr",
     "output_type": "stream",
     "text": [
      "WARNING:absl:Found untraced functions such as _jit_compiled_convolution_op, _jit_compiled_convolution_op, _jit_compiled_convolution_op, _jit_compiled_convolution_op, _jit_compiled_convolution_op while saving (showing 5 of 16). These functions will not be directly callable after loading.\n"
     ]
    },
    {
     "name": "stdout",
     "output_type": "stream",
     "text": [
      "INFO:tensorflow:Assets written to: model-08/assets\n"
     ]
    },
    {
     "name": "stderr",
     "output_type": "stream",
     "text": [
      "INFO:tensorflow:Assets written to: model-08/assets\n"
     ]
    },
    {
     "name": "stdout",
     "output_type": "stream",
     "text": [
      "45/45 [==============================] - 99s 2s/step - loss: 9.2705 - accuracy: 0.5744 - lr: 0.0010\n",
      "Epoch 8/100\n",
      "45/45 [==============================] - ETA: 0s - loss: 9.0915 - accuracy: 0.6433\n",
      "Epoch 8: accuracy improved from 0.57441 to 0.64325, saving model to model-08\n"
     ]
    },
    {
     "name": "stderr",
     "output_type": "stream",
     "text": [
      "WARNING:absl:Found untraced functions such as _jit_compiled_convolution_op, _jit_compiled_convolution_op, _jit_compiled_convolution_op, _jit_compiled_convolution_op, _jit_compiled_convolution_op while saving (showing 5 of 16). These functions will not be directly callable after loading.\n"
     ]
    },
    {
     "name": "stdout",
     "output_type": "stream",
     "text": [
      "INFO:tensorflow:Assets written to: model-08/assets\n"
     ]
    },
    {
     "name": "stderr",
     "output_type": "stream",
     "text": [
      "INFO:tensorflow:Assets written to: model-08/assets\n"
     ]
    },
    {
     "name": "stdout",
     "output_type": "stream",
     "text": [
      "45/45 [==============================] - 98s 2s/step - loss: 9.0915 - accuracy: 0.6433 - lr: 0.0010\n",
      "Epoch 9/100\n",
      "45/45 [==============================] - ETA: 0s - loss: 8.9470 - accuracy: 0.6773\n",
      "Epoch 9: accuracy improved from 0.64325 to 0.67733, saving model to model-08\n"
     ]
    },
    {
     "name": "stderr",
     "output_type": "stream",
     "text": [
      "WARNING:absl:Found untraced functions such as _jit_compiled_convolution_op, _jit_compiled_convolution_op, _jit_compiled_convolution_op, _jit_compiled_convolution_op, _jit_compiled_convolution_op while saving (showing 5 of 16). These functions will not be directly callable after loading.\n"
     ]
    },
    {
     "name": "stdout",
     "output_type": "stream",
     "text": [
      "INFO:tensorflow:Assets written to: model-08/assets\n"
     ]
    },
    {
     "name": "stderr",
     "output_type": "stream",
     "text": [
      "INFO:tensorflow:Assets written to: model-08/assets\n"
     ]
    },
    {
     "name": "stdout",
     "output_type": "stream",
     "text": [
      "45/45 [==============================] - 100s 2s/step - loss: 8.9470 - accuracy: 0.6773 - lr: 0.0010\n",
      "Epoch 10/100\n",
      "45/45 [==============================] - ETA: 0s - loss: 8.8183 - accuracy: 0.7281\n",
      "Epoch 10: accuracy improved from 0.67733 to 0.72809, saving model to model-08\n"
     ]
    },
    {
     "name": "stderr",
     "output_type": "stream",
     "text": [
      "WARNING:absl:Found untraced functions such as _jit_compiled_convolution_op, _jit_compiled_convolution_op, _jit_compiled_convolution_op, _jit_compiled_convolution_op, _jit_compiled_convolution_op while saving (showing 5 of 16). These functions will not be directly callable after loading.\n"
     ]
    },
    {
     "name": "stdout",
     "output_type": "stream",
     "text": [
      "INFO:tensorflow:Assets written to: model-08/assets\n"
     ]
    },
    {
     "name": "stderr",
     "output_type": "stream",
     "text": [
      "INFO:tensorflow:Assets written to: model-08/assets\n"
     ]
    },
    {
     "name": "stdout",
     "output_type": "stream",
     "text": [
      "45/45 [==============================] - 98s 2s/step - loss: 8.8183 - accuracy: 0.7281 - lr: 0.0010\n",
      "Epoch 11/100\n",
      "45/45 [==============================] - ETA: 0s - loss: 8.6278 - accuracy: 0.7914\n",
      "Epoch 11: accuracy improved from 0.72809 to 0.79138, saving model to model-08\n"
     ]
    },
    {
     "name": "stderr",
     "output_type": "stream",
     "text": [
      "WARNING:absl:Found untraced functions such as _jit_compiled_convolution_op, _jit_compiled_convolution_op, _jit_compiled_convolution_op, _jit_compiled_convolution_op, _jit_compiled_convolution_op while saving (showing 5 of 16). These functions will not be directly callable after loading.\n"
     ]
    },
    {
     "name": "stdout",
     "output_type": "stream",
     "text": [
      "INFO:tensorflow:Assets written to: model-08/assets\n"
     ]
    },
    {
     "name": "stderr",
     "output_type": "stream",
     "text": [
      "INFO:tensorflow:Assets written to: model-08/assets\n"
     ]
    },
    {
     "name": "stdout",
     "output_type": "stream",
     "text": [
      "45/45 [==============================] - 98s 2s/step - loss: 8.6278 - accuracy: 0.7914 - lr: 0.0010\n",
      "Epoch 12/100\n",
      "45/45 [==============================] - ETA: 0s - loss: 8.5783 - accuracy: 0.8088\n",
      "Epoch 12: accuracy improved from 0.79138 to 0.80876, saving model to model-08\n"
     ]
    },
    {
     "name": "stderr",
     "output_type": "stream",
     "text": [
      "WARNING:absl:Found untraced functions such as _jit_compiled_convolution_op, _jit_compiled_convolution_op, _jit_compiled_convolution_op, _jit_compiled_convolution_op, _jit_compiled_convolution_op while saving (showing 5 of 16). These functions will not be directly callable after loading.\n"
     ]
    },
    {
     "name": "stdout",
     "output_type": "stream",
     "text": [
      "INFO:tensorflow:Assets written to: model-08/assets\n"
     ]
    },
    {
     "name": "stderr",
     "output_type": "stream",
     "text": [
      "INFO:tensorflow:Assets written to: model-08/assets\n"
     ]
    },
    {
     "name": "stdout",
     "output_type": "stream",
     "text": [
      "45/45 [==============================] - 100s 2s/step - loss: 8.5783 - accuracy: 0.8088 - lr: 0.0010\n",
      "Epoch 13/100\n",
      "45/45 [==============================] - ETA: 0s - loss: 8.5273 - accuracy: 0.8192\n",
      "Epoch 13: accuracy improved from 0.80876 to 0.81919, saving model to model-08\n"
     ]
    },
    {
     "name": "stderr",
     "output_type": "stream",
     "text": [
      "WARNING:absl:Found untraced functions such as _jit_compiled_convolution_op, _jit_compiled_convolution_op, _jit_compiled_convolution_op, _jit_compiled_convolution_op, _jit_compiled_convolution_op while saving (showing 5 of 16). These functions will not be directly callable after loading.\n"
     ]
    },
    {
     "name": "stdout",
     "output_type": "stream",
     "text": [
      "INFO:tensorflow:Assets written to: model-08/assets\n"
     ]
    },
    {
     "name": "stderr",
     "output_type": "stream",
     "text": [
      "INFO:tensorflow:Assets written to: model-08/assets\n"
     ]
    },
    {
     "name": "stdout",
     "output_type": "stream",
     "text": [
      "45/45 [==============================] - 98s 2s/step - loss: 8.5273 - accuracy: 0.8192 - lr: 0.0010\n",
      "Epoch 14/100\n",
      "45/45 [==============================] - ETA: 0s - loss: 8.4156 - accuracy: 0.8519\n",
      "Epoch 14: accuracy improved from 0.81919 to 0.85188, saving model to model-08\n"
     ]
    },
    {
     "name": "stderr",
     "output_type": "stream",
     "text": [
      "WARNING:absl:Found untraced functions such as _jit_compiled_convolution_op, _jit_compiled_convolution_op, _jit_compiled_convolution_op, _jit_compiled_convolution_op, _jit_compiled_convolution_op while saving (showing 5 of 16). These functions will not be directly callable after loading.\n"
     ]
    },
    {
     "name": "stdout",
     "output_type": "stream",
     "text": [
      "INFO:tensorflow:Assets written to: model-08/assets\n"
     ]
    },
    {
     "name": "stderr",
     "output_type": "stream",
     "text": [
      "INFO:tensorflow:Assets written to: model-08/assets\n"
     ]
    },
    {
     "name": "stdout",
     "output_type": "stream",
     "text": [
      "45/45 [==============================] - 100s 2s/step - loss: 8.4156 - accuracy: 0.8519 - lr: 0.0010\n",
      "Epoch 15/100\n",
      "45/45 [==============================] - ETA: 0s - loss: 8.3865 - accuracy: 0.8588\n",
      "Epoch 15: accuracy improved from 0.85188 to 0.85883, saving model to model-08\n"
     ]
    },
    {
     "name": "stderr",
     "output_type": "stream",
     "text": [
      "WARNING:absl:Found untraced functions such as _jit_compiled_convolution_op, _jit_compiled_convolution_op, _jit_compiled_convolution_op, _jit_compiled_convolution_op, _jit_compiled_convolution_op while saving (showing 5 of 16). These functions will not be directly callable after loading.\n"
     ]
    },
    {
     "name": "stdout",
     "output_type": "stream",
     "text": [
      "INFO:tensorflow:Assets written to: model-08/assets\n"
     ]
    },
    {
     "name": "stderr",
     "output_type": "stream",
     "text": [
      "INFO:tensorflow:Assets written to: model-08/assets\n"
     ]
    },
    {
     "name": "stdout",
     "output_type": "stream",
     "text": [
      "45/45 [==============================] - 99s 2s/step - loss: 8.3865 - accuracy: 0.8588 - lr: 0.0010\n",
      "Epoch 16/100\n",
      "45/45 [==============================] - ETA: 0s - loss: 8.3476 - accuracy: 0.8755\n",
      "Epoch 16: accuracy improved from 0.85883 to 0.87552, saving model to model-08\n"
     ]
    },
    {
     "name": "stderr",
     "output_type": "stream",
     "text": [
      "WARNING:absl:Found untraced functions such as _jit_compiled_convolution_op, _jit_compiled_convolution_op, _jit_compiled_convolution_op, _jit_compiled_convolution_op, _jit_compiled_convolution_op while saving (showing 5 of 16). These functions will not be directly callable after loading.\n"
     ]
    },
    {
     "name": "stdout",
     "output_type": "stream",
     "text": [
      "INFO:tensorflow:Assets written to: model-08/assets\n"
     ]
    },
    {
     "name": "stderr",
     "output_type": "stream",
     "text": [
      "INFO:tensorflow:Assets written to: model-08/assets\n"
     ]
    },
    {
     "name": "stdout",
     "output_type": "stream",
     "text": [
      "45/45 [==============================] - 98s 2s/step - loss: 8.3476 - accuracy: 0.8755 - lr: 0.0010\n",
      "Epoch 17/100\n",
      "45/45 [==============================] - ETA: 0s - loss: 8.3220 - accuracy: 0.8707\n",
      "Epoch 17: accuracy did not improve from 0.87552\n",
      "45/45 [==============================] - 95s 2s/step - loss: 8.3220 - accuracy: 0.8707 - lr: 0.0010\n",
      "Epoch 18/100\n",
      "45/45 [==============================] - ETA: 0s - loss: 8.2279 - accuracy: 0.9054\n",
      "Epoch 18: accuracy improved from 0.87552 to 0.90542, saving model to model-08\n"
     ]
    },
    {
     "name": "stderr",
     "output_type": "stream",
     "text": [
      "WARNING:absl:Found untraced functions such as _jit_compiled_convolution_op, _jit_compiled_convolution_op, _jit_compiled_convolution_op, _jit_compiled_convolution_op, _jit_compiled_convolution_op while saving (showing 5 of 16). These functions will not be directly callable after loading.\n"
     ]
    },
    {
     "name": "stdout",
     "output_type": "stream",
     "text": [
      "INFO:tensorflow:Assets written to: model-08/assets\n"
     ]
    },
    {
     "name": "stderr",
     "output_type": "stream",
     "text": [
      "INFO:tensorflow:Assets written to: model-08/assets\n"
     ]
    },
    {
     "name": "stdout",
     "output_type": "stream",
     "text": [
      "45/45 [==============================] - 98s 2s/step - loss: 8.2279 - accuracy: 0.9054 - lr: 0.0010\n",
      "Epoch 19/100\n",
      "45/45 [==============================] - ETA: 0s - loss: 8.2200 - accuracy: 0.8978\n",
      "Epoch 19: accuracy did not improve from 0.90542\n",
      "45/45 [==============================] - 93s 2s/step - loss: 8.2200 - accuracy: 0.8978 - lr: 0.0010\n",
      "Epoch 20/100\n",
      "45/45 [==============================] - ETA: 0s - loss: 8.1772 - accuracy: 0.9131\n",
      "Epoch 20: accuracy improved from 0.90542 to 0.91307, saving model to model-08\n"
     ]
    },
    {
     "name": "stderr",
     "output_type": "stream",
     "text": [
      "WARNING:absl:Found untraced functions such as _jit_compiled_convolution_op, _jit_compiled_convolution_op, _jit_compiled_convolution_op, _jit_compiled_convolution_op, _jit_compiled_convolution_op while saving (showing 5 of 16). These functions will not be directly callable after loading.\n"
     ]
    },
    {
     "name": "stdout",
     "output_type": "stream",
     "text": [
      "INFO:tensorflow:Assets written to: model-08/assets\n"
     ]
    },
    {
     "name": "stderr",
     "output_type": "stream",
     "text": [
      "INFO:tensorflow:Assets written to: model-08/assets\n"
     ]
    },
    {
     "name": "stdout",
     "output_type": "stream",
     "text": [
      "45/45 [==============================] - 98s 2s/step - loss: 8.1772 - accuracy: 0.9131 - lr: 0.0010\n",
      "Epoch 21/100\n",
      "45/45 [==============================] - ETA: 0s - loss: 8.1536 - accuracy: 0.9110\n",
      "Epoch 21: accuracy did not improve from 0.91307\n",
      "45/45 [==============================] - 93s 2s/step - loss: 8.1536 - accuracy: 0.9110 - lr: 0.0010\n",
      "Epoch 22/100\n",
      "45/45 [==============================] - ETA: 0s - loss: 8.1394 - accuracy: 0.9054\n",
      "Epoch 22: accuracy did not improve from 0.91307\n",
      "45/45 [==============================] - 95s 2s/step - loss: 8.1394 - accuracy: 0.9054 - lr: 0.0010\n",
      "Epoch 23/100\n",
      "45/45 [==============================] - ETA: 0s - loss: 8.1144 - accuracy: 0.9172\n",
      "Epoch 23: accuracy improved from 0.91307 to 0.91725, saving model to model-08\n"
     ]
    },
    {
     "name": "stderr",
     "output_type": "stream",
     "text": [
      "WARNING:absl:Found untraced functions such as _jit_compiled_convolution_op, _jit_compiled_convolution_op, _jit_compiled_convolution_op, _jit_compiled_convolution_op, _jit_compiled_convolution_op while saving (showing 5 of 16). These functions will not be directly callable after loading.\n"
     ]
    },
    {
     "name": "stdout",
     "output_type": "stream",
     "text": [
      "INFO:tensorflow:Assets written to: model-08/assets\n"
     ]
    },
    {
     "name": "stderr",
     "output_type": "stream",
     "text": [
      "INFO:tensorflow:Assets written to: model-08/assets\n"
     ]
    },
    {
     "name": "stdout",
     "output_type": "stream",
     "text": [
      "45/45 [==============================] - 98s 2s/step - loss: 8.1144 - accuracy: 0.9172 - lr: 0.0010\n",
      "Epoch 24/100\n",
      "45/45 [==============================] - ETA: 0s - loss: 8.0753 - accuracy: 0.9249\n",
      "Epoch 24: accuracy improved from 0.91725 to 0.92490, saving model to model-08\n"
     ]
    },
    {
     "name": "stderr",
     "output_type": "stream",
     "text": [
      "WARNING:absl:Found untraced functions such as _jit_compiled_convolution_op, _jit_compiled_convolution_op, _jit_compiled_convolution_op, _jit_compiled_convolution_op, _jit_compiled_convolution_op while saving (showing 5 of 16). These functions will not be directly callable after loading.\n"
     ]
    },
    {
     "name": "stdout",
     "output_type": "stream",
     "text": [
      "INFO:tensorflow:Assets written to: model-08/assets\n"
     ]
    },
    {
     "name": "stderr",
     "output_type": "stream",
     "text": [
      "INFO:tensorflow:Assets written to: model-08/assets\n"
     ]
    },
    {
     "name": "stdout",
     "output_type": "stream",
     "text": [
      "45/45 [==============================] - 98s 2s/step - loss: 8.0753 - accuracy: 0.9249 - lr: 0.0010\n",
      "Epoch 25/100\n",
      "45/45 [==============================] - ETA: 0s - loss: 8.0551 - accuracy: 0.9318\n",
      "Epoch 25: accuracy improved from 0.92490 to 0.93185, saving model to model-08\n"
     ]
    },
    {
     "name": "stderr",
     "output_type": "stream",
     "text": [
      "WARNING:absl:Found untraced functions such as _jit_compiled_convolution_op, _jit_compiled_convolution_op, _jit_compiled_convolution_op, _jit_compiled_convolution_op, _jit_compiled_convolution_op while saving (showing 5 of 16). These functions will not be directly callable after loading.\n"
     ]
    },
    {
     "name": "stdout",
     "output_type": "stream",
     "text": [
      "INFO:tensorflow:Assets written to: model-08/assets\n"
     ]
    },
    {
     "name": "stderr",
     "output_type": "stream",
     "text": [
      "INFO:tensorflow:Assets written to: model-08/assets\n"
     ]
    },
    {
     "name": "stdout",
     "output_type": "stream",
     "text": [
      "45/45 [==============================] - 99s 2s/step - loss: 8.0551 - accuracy: 0.9318 - lr: 0.0010\n",
      "Epoch 26/100\n",
      "45/45 [==============================] - ETA: 0s - loss: 8.0336 - accuracy: 0.9270\n",
      "Epoch 26: accuracy did not improve from 0.93185\n",
      "45/45 [==============================] - 95s 2s/step - loss: 8.0336 - accuracy: 0.9270 - lr: 0.0010\n",
      "Epoch 27/100\n",
      "45/45 [==============================] - ETA: 0s - loss: 7.9992 - accuracy: 0.9305\n",
      "Epoch 27: accuracy did not improve from 0.93185\n",
      "45/45 [==============================] - 95s 2s/step - loss: 7.9992 - accuracy: 0.9305 - lr: 0.0010\n",
      "Epoch 28/100\n",
      "45/45 [==============================] - ETA: 0s - loss: 7.9908 - accuracy: 0.9339\n",
      "Epoch 28: accuracy improved from 0.93185 to 0.93394, saving model to model-08\n"
     ]
    },
    {
     "name": "stderr",
     "output_type": "stream",
     "text": [
      "WARNING:absl:Found untraced functions such as _jit_compiled_convolution_op, _jit_compiled_convolution_op, _jit_compiled_convolution_op, _jit_compiled_convolution_op, _jit_compiled_convolution_op while saving (showing 5 of 16). These functions will not be directly callable after loading.\n"
     ]
    },
    {
     "name": "stdout",
     "output_type": "stream",
     "text": [
      "INFO:tensorflow:Assets written to: model-08/assets\n"
     ]
    },
    {
     "name": "stderr",
     "output_type": "stream",
     "text": [
      "INFO:tensorflow:Assets written to: model-08/assets\n"
     ]
    },
    {
     "name": "stdout",
     "output_type": "stream",
     "text": [
      "45/45 [==============================] - 100s 2s/step - loss: 7.9908 - accuracy: 0.9339 - lr: 0.0010\n",
      "Epoch 29/100\n",
      "45/45 [==============================] - ETA: 0s - loss: 7.9530 - accuracy: 0.9409\n",
      "Epoch 29: accuracy improved from 0.93394 to 0.94089, saving model to model-08\n"
     ]
    },
    {
     "name": "stderr",
     "output_type": "stream",
     "text": [
      "WARNING:absl:Found untraced functions such as _jit_compiled_convolution_op, _jit_compiled_convolution_op, _jit_compiled_convolution_op, _jit_compiled_convolution_op, _jit_compiled_convolution_op while saving (showing 5 of 16). These functions will not be directly callable after loading.\n"
     ]
    },
    {
     "name": "stdout",
     "output_type": "stream",
     "text": [
      "INFO:tensorflow:Assets written to: model-08/assets\n"
     ]
    },
    {
     "name": "stderr",
     "output_type": "stream",
     "text": [
      "INFO:tensorflow:Assets written to: model-08/assets\n"
     ]
    },
    {
     "name": "stdout",
     "output_type": "stream",
     "text": [
      "45/45 [==============================] - 98s 2s/step - loss: 7.9530 - accuracy: 0.9409 - lr: 0.0010\n",
      "Epoch 30/100\n",
      "45/45 [==============================] - ETA: 0s - loss: 7.9098 - accuracy: 0.9499\n",
      "Epoch 30: accuracy improved from 0.94089 to 0.94993, saving model to model-08\n"
     ]
    },
    {
     "name": "stderr",
     "output_type": "stream",
     "text": [
      "WARNING:absl:Found untraced functions such as _jit_compiled_convolution_op, _jit_compiled_convolution_op, _jit_compiled_convolution_op, _jit_compiled_convolution_op, _jit_compiled_convolution_op while saving (showing 5 of 16). These functions will not be directly callable after loading.\n"
     ]
    },
    {
     "name": "stdout",
     "output_type": "stream",
     "text": [
      "INFO:tensorflow:Assets written to: model-08/assets\n"
     ]
    },
    {
     "name": "stderr",
     "output_type": "stream",
     "text": [
      "INFO:tensorflow:Assets written to: model-08/assets\n"
     ]
    },
    {
     "name": "stdout",
     "output_type": "stream",
     "text": [
      "45/45 [==============================] - 99s 2s/step - loss: 7.9098 - accuracy: 0.9499 - lr: 0.0010\n",
      "Epoch 31/100\n",
      "45/45 [==============================] - ETA: 0s - loss: 7.9085 - accuracy: 0.9478\n",
      "Epoch 31: accuracy did not improve from 0.94993\n",
      "45/45 [==============================] - 96s 2s/step - loss: 7.9085 - accuracy: 0.9478 - lr: 0.0010\n",
      "Epoch 32/100\n",
      "45/45 [==============================] - ETA: 0s - loss: 7.9091 - accuracy: 0.9402\n",
      "Epoch 32: accuracy did not improve from 0.94993\n",
      "45/45 [==============================] - 94s 2s/step - loss: 7.9091 - accuracy: 0.9402 - lr: 0.0010\n",
      "Epoch 33/100\n",
      "45/45 [==============================] - ETA: 0s - loss: 7.8668 - accuracy: 0.9541\n",
      "Epoch 33: accuracy improved from 0.94993 to 0.95410, saving model to model-08\n"
     ]
    },
    {
     "name": "stderr",
     "output_type": "stream",
     "text": [
      "WARNING:absl:Found untraced functions such as _jit_compiled_convolution_op, _jit_compiled_convolution_op, _jit_compiled_convolution_op, _jit_compiled_convolution_op, _jit_compiled_convolution_op while saving (showing 5 of 16). These functions will not be directly callable after loading.\n"
     ]
    },
    {
     "name": "stdout",
     "output_type": "stream",
     "text": [
      "INFO:tensorflow:Assets written to: model-08/assets\n"
     ]
    },
    {
     "name": "stderr",
     "output_type": "stream",
     "text": [
      "INFO:tensorflow:Assets written to: model-08/assets\n"
     ]
    },
    {
     "name": "stdout",
     "output_type": "stream",
     "text": [
      "45/45 [==============================] - 99s 2s/step - loss: 7.8668 - accuracy: 0.9541 - lr: 0.0010\n",
      "Epoch 34/100\n",
      "45/45 [==============================] - ETA: 0s - loss: 7.8427 - accuracy: 0.9555\n",
      "Epoch 34: accuracy improved from 0.95410 to 0.95549, saving model to model-08\n"
     ]
    },
    {
     "name": "stderr",
     "output_type": "stream",
     "text": [
      "WARNING:absl:Found untraced functions such as _jit_compiled_convolution_op, _jit_compiled_convolution_op, _jit_compiled_convolution_op, _jit_compiled_convolution_op, _jit_compiled_convolution_op while saving (showing 5 of 16). These functions will not be directly callable after loading.\n"
     ]
    },
    {
     "name": "stdout",
     "output_type": "stream",
     "text": [
      "INFO:tensorflow:Assets written to: model-08/assets\n"
     ]
    },
    {
     "name": "stderr",
     "output_type": "stream",
     "text": [
      "INFO:tensorflow:Assets written to: model-08/assets\n"
     ]
    },
    {
     "name": "stdout",
     "output_type": "stream",
     "text": [
      "45/45 [==============================] - 98s 2s/step - loss: 7.8427 - accuracy: 0.9555 - lr: 0.0010\n",
      "Epoch 35/100\n",
      "45/45 [==============================] - ETA: 0s - loss: 7.8256 - accuracy: 0.9583\n",
      "Epoch 35: accuracy improved from 0.95549 to 0.95828, saving model to model-08\n"
     ]
    },
    {
     "name": "stderr",
     "output_type": "stream",
     "text": [
      "WARNING:absl:Found untraced functions such as _jit_compiled_convolution_op, _jit_compiled_convolution_op, _jit_compiled_convolution_op, _jit_compiled_convolution_op, _jit_compiled_convolution_op while saving (showing 5 of 16). These functions will not be directly callable after loading.\n"
     ]
    },
    {
     "name": "stdout",
     "output_type": "stream",
     "text": [
      "INFO:tensorflow:Assets written to: model-08/assets\n"
     ]
    },
    {
     "name": "stderr",
     "output_type": "stream",
     "text": [
      "INFO:tensorflow:Assets written to: model-08/assets\n"
     ]
    },
    {
     "name": "stdout",
     "output_type": "stream",
     "text": [
      "45/45 [==============================] - 99s 2s/step - loss: 7.8256 - accuracy: 0.9583 - lr: 0.0010\n",
      "Epoch 36/100\n",
      "45/45 [==============================] - ETA: 0s - loss: 7.8024 - accuracy: 0.9611\n",
      "Epoch 36: accuracy improved from 0.95828 to 0.96106, saving model to model-08\n"
     ]
    },
    {
     "name": "stderr",
     "output_type": "stream",
     "text": [
      "WARNING:absl:Found untraced functions such as _jit_compiled_convolution_op, _jit_compiled_convolution_op, _jit_compiled_convolution_op, _jit_compiled_convolution_op, _jit_compiled_convolution_op while saving (showing 5 of 16). These functions will not be directly callable after loading.\n"
     ]
    },
    {
     "name": "stdout",
     "output_type": "stream",
     "text": [
      "INFO:tensorflow:Assets written to: model-08/assets\n"
     ]
    },
    {
     "name": "stderr",
     "output_type": "stream",
     "text": [
      "INFO:tensorflow:Assets written to: model-08/assets\n"
     ]
    },
    {
     "name": "stdout",
     "output_type": "stream",
     "text": [
      "45/45 [==============================] - 101s 2s/step - loss: 7.8024 - accuracy: 0.9611 - lr: 0.0010\n",
      "Epoch 37/100\n",
      "45/45 [==============================] - ETA: 0s - loss: 7.8127 - accuracy: 0.9541\n",
      "Epoch 37: accuracy did not improve from 0.96106\n",
      "45/45 [==============================] - 95s 2s/step - loss: 7.8127 - accuracy: 0.9541 - lr: 0.0010\n",
      "Epoch 38/100\n",
      "45/45 [==============================] - ETA: 0s - loss: 7.7834 - accuracy: 0.9569\n",
      "Epoch 38: accuracy did not improve from 0.96106\n",
      "45/45 [==============================] - 98s 2s/step - loss: 7.7834 - accuracy: 0.9569 - lr: 0.0010\n",
      "Epoch 39/100\n",
      "45/45 [==============================] - ETA: 0s - loss: 7.7767 - accuracy: 0.9513\n",
      "Epoch 39: accuracy did not improve from 0.96106\n",
      "45/45 [==============================] - 96s 2s/step - loss: 7.7767 - accuracy: 0.9513 - lr: 0.0010\n",
      "Epoch 40/100\n",
      "45/45 [==============================] - ETA: 0s - loss: 7.7479 - accuracy: 0.9576\n",
      "Epoch 40: accuracy did not improve from 0.96106\n",
      "45/45 [==============================] - 97s 2s/step - loss: 7.7479 - accuracy: 0.9576 - lr: 0.0010\n",
      "Epoch 41/100\n",
      "45/45 [==============================] - ETA: 0s - loss: 7.7403 - accuracy: 0.9597\n",
      "Epoch 41: accuracy did not improve from 0.96106\n",
      "45/45 [==============================] - 97s 2s/step - loss: 7.7403 - accuracy: 0.9597 - lr: 0.0010\n",
      "Epoch 42/100\n",
      "45/45 [==============================] - ETA: 0s - loss: 7.7016 - accuracy: 0.9638\n",
      "Epoch 42: accuracy improved from 0.96106 to 0.96384, saving model to model-08\n"
     ]
    },
    {
     "name": "stderr",
     "output_type": "stream",
     "text": [
      "WARNING:absl:Found untraced functions such as _jit_compiled_convolution_op, _jit_compiled_convolution_op, _jit_compiled_convolution_op, _jit_compiled_convolution_op, _jit_compiled_convolution_op while saving (showing 5 of 16). These functions will not be directly callable after loading.\n"
     ]
    },
    {
     "name": "stdout",
     "output_type": "stream",
     "text": [
      "INFO:tensorflow:Assets written to: model-08/assets\n"
     ]
    },
    {
     "name": "stderr",
     "output_type": "stream",
     "text": [
      "INFO:tensorflow:Assets written to: model-08/assets\n"
     ]
    },
    {
     "name": "stdout",
     "output_type": "stream",
     "text": [
      "45/45 [==============================] - 101s 2s/step - loss: 7.7016 - accuracy: 0.9638 - lr: 0.0010\n",
      "Epoch 43/100\n",
      "45/45 [==============================] - ETA: 0s - loss: 7.7076 - accuracy: 0.9597\n",
      "Epoch 43: accuracy did not improve from 0.96384\n",
      "45/45 [==============================] - 97s 2s/step - loss: 7.7076 - accuracy: 0.9597 - lr: 0.0010\n",
      "Epoch 44/100\n",
      "45/45 [==============================] - ETA: 0s - loss: 7.6660 - accuracy: 0.9687\n",
      "Epoch 44: accuracy improved from 0.96384 to 0.96871, saving model to model-08\n"
     ]
    },
    {
     "name": "stderr",
     "output_type": "stream",
     "text": [
      "WARNING:absl:Found untraced functions such as _jit_compiled_convolution_op, _jit_compiled_convolution_op, _jit_compiled_convolution_op, _jit_compiled_convolution_op, _jit_compiled_convolution_op while saving (showing 5 of 16). These functions will not be directly callable after loading.\n"
     ]
    },
    {
     "name": "stdout",
     "output_type": "stream",
     "text": [
      "INFO:tensorflow:Assets written to: model-08/assets\n"
     ]
    },
    {
     "name": "stderr",
     "output_type": "stream",
     "text": [
      "INFO:tensorflow:Assets written to: model-08/assets\n"
     ]
    },
    {
     "name": "stdout",
     "output_type": "stream",
     "text": [
      "45/45 [==============================] - 100s 2s/step - loss: 7.6660 - accuracy: 0.9687 - lr: 0.0010\n",
      "Epoch 45/100\n",
      "45/45 [==============================] - ETA: 0s - loss: 7.6620 - accuracy: 0.9687\n",
      "Epoch 45: accuracy did not improve from 0.96871\n",
      "45/45 [==============================] - 97s 2s/step - loss: 7.6620 - accuracy: 0.9687 - lr: 0.0010\n",
      "Epoch 46/100\n",
      "45/45 [==============================] - ETA: 0s - loss: 7.6382 - accuracy: 0.9715\n",
      "Epoch 46: accuracy improved from 0.96871 to 0.97149, saving model to model-08\n"
     ]
    },
    {
     "name": "stderr",
     "output_type": "stream",
     "text": [
      "WARNING:absl:Found untraced functions such as _jit_compiled_convolution_op, _jit_compiled_convolution_op, _jit_compiled_convolution_op, _jit_compiled_convolution_op, _jit_compiled_convolution_op while saving (showing 5 of 16). These functions will not be directly callable after loading.\n"
     ]
    },
    {
     "name": "stdout",
     "output_type": "stream",
     "text": [
      "INFO:tensorflow:Assets written to: model-08/assets\n"
     ]
    },
    {
     "name": "stderr",
     "output_type": "stream",
     "text": [
      "INFO:tensorflow:Assets written to: model-08/assets\n"
     ]
    },
    {
     "name": "stdout",
     "output_type": "stream",
     "text": [
      "45/45 [==============================] - 96s 2s/step - loss: 7.6382 - accuracy: 0.9715 - lr: 0.0010\n",
      "Epoch 47/100\n",
      "45/45 [==============================] - ETA: 0s - loss: 7.6499 - accuracy: 0.9666\n",
      "Epoch 47: accuracy did not improve from 0.97149\n",
      "45/45 [==============================] - 93s 2s/step - loss: 7.6499 - accuracy: 0.9666 - lr: 0.0010\n",
      "Epoch 48/100\n",
      "45/45 [==============================] - ETA: 0s - loss: 7.6149 - accuracy: 0.9722\n",
      "Epoch 48: accuracy improved from 0.97149 to 0.97218, saving model to model-08\n"
     ]
    },
    {
     "name": "stderr",
     "output_type": "stream",
     "text": [
      "WARNING:absl:Found untraced functions such as _jit_compiled_convolution_op, _jit_compiled_convolution_op, _jit_compiled_convolution_op, _jit_compiled_convolution_op, _jit_compiled_convolution_op while saving (showing 5 of 16). These functions will not be directly callable after loading.\n"
     ]
    },
    {
     "name": "stdout",
     "output_type": "stream",
     "text": [
      "INFO:tensorflow:Assets written to: model-08/assets\n"
     ]
    },
    {
     "name": "stderr",
     "output_type": "stream",
     "text": [
      "INFO:tensorflow:Assets written to: model-08/assets\n"
     ]
    },
    {
     "name": "stdout",
     "output_type": "stream",
     "text": [
      "45/45 [==============================] - 99s 2s/step - loss: 7.6149 - accuracy: 0.9722 - lr: 0.0010\n",
      "Epoch 49/100\n",
      "45/45 [==============================] - ETA: 0s - loss: 7.5943 - accuracy: 0.9715\n",
      "Epoch 49: accuracy did not improve from 0.97218\n",
      "45/45 [==============================] - 93s 2s/step - loss: 7.5943 - accuracy: 0.9715 - lr: 0.0010\n",
      "Epoch 50/100\n",
      "45/45 [==============================] - ETA: 0s - loss: 7.6300 - accuracy: 0.9499\n",
      "Epoch 50: accuracy did not improve from 0.97218\n",
      "45/45 [==============================] - 94s 2s/step - loss: 7.6300 - accuracy: 0.9499 - lr: 0.0010\n",
      "Epoch 51/100\n",
      "45/45 [==============================] - ETA: 0s - loss: 7.5620 - accuracy: 0.9729\n",
      "Epoch 51: accuracy improved from 0.97218 to 0.97288, saving model to model-08\n"
     ]
    },
    {
     "name": "stderr",
     "output_type": "stream",
     "text": [
      "WARNING:absl:Found untraced functions such as _jit_compiled_convolution_op, _jit_compiled_convolution_op, _jit_compiled_convolution_op, _jit_compiled_convolution_op, _jit_compiled_convolution_op while saving (showing 5 of 16). These functions will not be directly callable after loading.\n"
     ]
    },
    {
     "name": "stdout",
     "output_type": "stream",
     "text": [
      "INFO:tensorflow:Assets written to: model-08/assets\n"
     ]
    },
    {
     "name": "stderr",
     "output_type": "stream",
     "text": [
      "INFO:tensorflow:Assets written to: model-08/assets\n"
     ]
    },
    {
     "name": "stdout",
     "output_type": "stream",
     "text": [
      "45/45 [==============================] - 96s 2s/step - loss: 7.5620 - accuracy: 0.9729 - lr: 0.0010\n",
      "Epoch 52/100\n",
      "45/45 [==============================] - ETA: 0s - loss: 7.5540 - accuracy: 0.9645\n",
      "Epoch 52: accuracy did not improve from 0.97288\n",
      "45/45 [==============================] - 94s 2s/step - loss: 7.5540 - accuracy: 0.9645 - lr: 0.0010\n",
      "Epoch 53/100\n",
      "45/45 [==============================] - ETA: 0s - loss: 7.5276 - accuracy: 0.9771\n",
      "Epoch 53: accuracy improved from 0.97288 to 0.97705, saving model to model-08\n"
     ]
    },
    {
     "name": "stderr",
     "output_type": "stream",
     "text": [
      "WARNING:absl:Found untraced functions such as _jit_compiled_convolution_op, _jit_compiled_convolution_op, _jit_compiled_convolution_op, _jit_compiled_convolution_op, _jit_compiled_convolution_op while saving (showing 5 of 16). These functions will not be directly callable after loading.\n"
     ]
    },
    {
     "name": "stdout",
     "output_type": "stream",
     "text": [
      "INFO:tensorflow:Assets written to: model-08/assets\n"
     ]
    },
    {
     "name": "stderr",
     "output_type": "stream",
     "text": [
      "INFO:tensorflow:Assets written to: model-08/assets\n"
     ]
    },
    {
     "name": "stdout",
     "output_type": "stream",
     "text": [
      "45/45 [==============================] - 98s 2s/step - loss: 7.5276 - accuracy: 0.9771 - lr: 0.0010\n",
      "Epoch 54/100\n",
      "45/45 [==============================] - ETA: 0s - loss: 7.5315 - accuracy: 0.9708\n",
      "Epoch 54: accuracy did not improve from 0.97705\n",
      "45/45 [==============================] - 93s 2s/step - loss: 7.5315 - accuracy: 0.9708 - lr: 0.0010\n",
      "Epoch 55/100\n",
      "45/45 [==============================] - ETA: 0s - loss: 7.5095 - accuracy: 0.9757\n",
      "Epoch 55: accuracy did not improve from 0.97705\n",
      "45/45 [==============================] - 94s 2s/step - loss: 7.5095 - accuracy: 0.9757 - lr: 0.0010\n",
      "Epoch 56/100\n",
      "45/45 [==============================] - ETA: 0s - loss: 7.5060 - accuracy: 0.9638\n",
      "Epoch 56: accuracy did not improve from 0.97705\n",
      "45/45 [==============================] - 94s 2s/step - loss: 7.5060 - accuracy: 0.9638 - lr: 0.0010\n",
      "Epoch 57/100\n",
      "45/45 [==============================] - ETA: 0s - loss: 7.4811 - accuracy: 0.9750\n",
      "Epoch 57: accuracy did not improve from 0.97705\n",
      "45/45 [==============================] - 94s 2s/step - loss: 7.4811 - accuracy: 0.9750 - lr: 0.0010\n",
      "Epoch 58/100\n",
      "45/45 [==============================] - ETA: 0s - loss: 7.4882 - accuracy: 0.9673\n",
      "Epoch 58: accuracy did not improve from 0.97705\n",
      "45/45 [==============================] - 99s 2s/step - loss: 7.4882 - accuracy: 0.9673 - lr: 0.0010\n",
      "Epoch 59/100\n",
      "45/45 [==============================] - ETA: 0s - loss: 7.4619 - accuracy: 0.9729\n",
      "Epoch 59: accuracy did not improve from 0.97705\n",
      "45/45 [==============================] - 99s 2s/step - loss: 7.4619 - accuracy: 0.9729 - lr: 0.0010\n",
      "Epoch 60/100\n",
      "45/45 [==============================] - ETA: 0s - loss: 7.4399 - accuracy: 0.9701\n",
      "Epoch 60: accuracy did not improve from 0.97705\n",
      "45/45 [==============================] - 95s 2s/step - loss: 7.4399 - accuracy: 0.9701 - lr: 0.0010\n",
      "Epoch 61/100\n",
      "45/45 [==============================] - ETA: 0s - loss: 7.4075 - accuracy: 0.9812\n",
      "Epoch 61: accuracy improved from 0.97705 to 0.98122, saving model to model-08\n"
     ]
    },
    {
     "name": "stderr",
     "output_type": "stream",
     "text": [
      "WARNING:absl:Found untraced functions such as _jit_compiled_convolution_op, _jit_compiled_convolution_op, _jit_compiled_convolution_op, _jit_compiled_convolution_op, _jit_compiled_convolution_op while saving (showing 5 of 16). These functions will not be directly callable after loading.\n"
     ]
    },
    {
     "name": "stdout",
     "output_type": "stream",
     "text": [
      "INFO:tensorflow:Assets written to: model-08/assets\n"
     ]
    },
    {
     "name": "stderr",
     "output_type": "stream",
     "text": [
      "INFO:tensorflow:Assets written to: model-08/assets\n"
     ]
    },
    {
     "name": "stdout",
     "output_type": "stream",
     "text": [
      "45/45 [==============================] - 97s 2s/step - loss: 7.4075 - accuracy: 0.9812 - lr: 0.0010\n",
      "Epoch 62/100\n",
      "45/45 [==============================] - ETA: 0s - loss: 7.4102 - accuracy: 0.9715\n",
      "Epoch 62: accuracy did not improve from 0.98122\n",
      "45/45 [==============================] - 94s 2s/step - loss: 7.4102 - accuracy: 0.9715 - lr: 0.0010\n",
      "Epoch 63/100\n",
      "45/45 [==============================] - ETA: 0s - loss: 7.3993 - accuracy: 0.9750\n",
      "Epoch 63: accuracy did not improve from 0.98122\n",
      "45/45 [==============================] - 95s 2s/step - loss: 7.3993 - accuracy: 0.9750 - lr: 0.0010\n",
      "Epoch 64/100\n",
      "45/45 [==============================] - ETA: 0s - loss: 7.3777 - accuracy: 0.9757\n",
      "Epoch 64: accuracy did not improve from 0.98122\n",
      "45/45 [==============================] - 93s 2s/step - loss: 7.3777 - accuracy: 0.9757 - lr: 0.0010\n",
      "Epoch 65/100\n",
      "45/45 [==============================] - ETA: 0s - loss: 7.3759 - accuracy: 0.9729\n",
      "Epoch 65: accuracy did not improve from 0.98122\n",
      "45/45 [==============================] - 94s 2s/step - loss: 7.3759 - accuracy: 0.9729 - lr: 0.0010\n",
      "Epoch 66/100\n",
      "45/45 [==============================] - ETA: 0s - loss: 7.3522 - accuracy: 0.9777\n",
      "Epoch 66: accuracy did not improve from 0.98122\n",
      "45/45 [==============================] - 93s 2s/step - loss: 7.3522 - accuracy: 0.9777 - lr: 0.0010\n",
      "Epoch 67/100\n",
      "45/45 [==============================] - ETA: 0s - loss: 7.3278 - accuracy: 0.9777\n",
      "Epoch 67: accuracy did not improve from 0.98122\n",
      "45/45 [==============================] - 95s 2s/step - loss: 7.3278 - accuracy: 0.9777 - lr: 0.0010\n",
      "Epoch 68/100\n",
      "45/45 [==============================] - ETA: 0s - loss: 7.3146 - accuracy: 0.9833\n",
      "Epoch 68: accuracy improved from 0.98122 to 0.98331, saving model to model-08\n"
     ]
    },
    {
     "name": "stderr",
     "output_type": "stream",
     "text": [
      "WARNING:absl:Found untraced functions such as _jit_compiled_convolution_op, _jit_compiled_convolution_op, _jit_compiled_convolution_op, _jit_compiled_convolution_op, _jit_compiled_convolution_op while saving (showing 5 of 16). These functions will not be directly callable after loading.\n"
     ]
    },
    {
     "name": "stdout",
     "output_type": "stream",
     "text": [
      "INFO:tensorflow:Assets written to: model-08/assets\n"
     ]
    },
    {
     "name": "stderr",
     "output_type": "stream",
     "text": [
      "INFO:tensorflow:Assets written to: model-08/assets\n"
     ]
    },
    {
     "name": "stdout",
     "output_type": "stream",
     "text": [
      "45/45 [==============================] - 97s 2s/step - loss: 7.3146 - accuracy: 0.9833 - lr: 0.0010\n",
      "Epoch 69/100\n",
      "45/45 [==============================] - ETA: 0s - loss: 7.3083 - accuracy: 0.9784\n",
      "Epoch 69: accuracy did not improve from 0.98331\n",
      "45/45 [==============================] - 94s 2s/step - loss: 7.3083 - accuracy: 0.9784 - lr: 0.0010\n",
      "Epoch 70/100\n",
      "45/45 [==============================] - ETA: 0s - loss: 7.3069 - accuracy: 0.9750\n",
      "Epoch 70: accuracy did not improve from 0.98331\n",
      "45/45 [==============================] - 94s 2s/step - loss: 7.3069 - accuracy: 0.9750 - lr: 0.0010\n",
      "Epoch 71/100\n",
      "45/45 [==============================] - ETA: 0s - loss: 7.2829 - accuracy: 0.9798\n",
      "Epoch 71: accuracy did not improve from 0.98331\n",
      "45/45 [==============================] - 93s 2s/step - loss: 7.2829 - accuracy: 0.9798 - lr: 0.0010\n",
      "Epoch 72/100\n",
      "45/45 [==============================] - ETA: 0s - loss: 7.2721 - accuracy: 0.9771\n",
      "Epoch 72: accuracy did not improve from 0.98331\n",
      "45/45 [==============================] - 94s 2s/step - loss: 7.2721 - accuracy: 0.9771 - lr: 0.0010\n",
      "Epoch 73/100\n",
      "45/45 [==============================] - ETA: 0s - loss: 7.2573 - accuracy: 0.9777\n",
      "Epoch 73: accuracy did not improve from 0.98331\n",
      "45/45 [==============================] - 93s 2s/step - loss: 7.2573 - accuracy: 0.9777 - lr: 0.0010\n",
      "Epoch 74/100\n",
      "45/45 [==============================] - ETA: 0s - loss: 7.2314 - accuracy: 0.9805\n",
      "Epoch 74: accuracy did not improve from 0.98331\n",
      "45/45 [==============================] - 94s 2s/step - loss: 7.2314 - accuracy: 0.9805 - lr: 0.0010\n",
      "Epoch 75/100\n",
      "45/45 [==============================] - ETA: 0s - loss: 7.2227 - accuracy: 0.9826\n",
      "Epoch 75: accuracy did not improve from 0.98331\n",
      "45/45 [==============================] - 93s 2s/step - loss: 7.2227 - accuracy: 0.9826 - lr: 0.0010\n",
      "Epoch 76/100\n",
      "45/45 [==============================] - ETA: 0s - loss: 7.2265 - accuracy: 0.9701\n",
      "Epoch 76: accuracy did not improve from 0.98331\n",
      "45/45 [==============================] - 94s 2s/step - loss: 7.2265 - accuracy: 0.9701 - lr: 0.0010\n",
      "Epoch 77/100\n",
      "45/45 [==============================] - ETA: 0s - loss: 7.1907 - accuracy: 0.9819\n",
      "Epoch 77: accuracy did not improve from 0.98331\n",
      "45/45 [==============================] - 93s 2s/step - loss: 7.1907 - accuracy: 0.9819 - lr: 0.0010\n",
      "Epoch 78/100\n",
      "45/45 [==============================] - ETA: 0s - loss: 7.1800 - accuracy: 0.9812\n",
      "Epoch 78: accuracy did not improve from 0.98331\n",
      "45/45 [==============================] - 95s 2s/step - loss: 7.1800 - accuracy: 0.9812 - lr: 0.0010\n",
      "Epoch 79/100\n",
      "45/45 [==============================] - ETA: 0s - loss: 7.1586 - accuracy: 0.9847\n",
      "Epoch 79: accuracy improved from 0.98331 to 0.98470, saving model to model-08\n"
     ]
    },
    {
     "name": "stderr",
     "output_type": "stream",
     "text": [
      "WARNING:absl:Found untraced functions such as _jit_compiled_convolution_op, _jit_compiled_convolution_op, _jit_compiled_convolution_op, _jit_compiled_convolution_op, _jit_compiled_convolution_op while saving (showing 5 of 16). These functions will not be directly callable after loading.\n"
     ]
    },
    {
     "name": "stdout",
     "output_type": "stream",
     "text": [
      "INFO:tensorflow:Assets written to: model-08/assets\n"
     ]
    },
    {
     "name": "stderr",
     "output_type": "stream",
     "text": [
      "INFO:tensorflow:Assets written to: model-08/assets\n"
     ]
    },
    {
     "name": "stdout",
     "output_type": "stream",
     "text": [
      "45/45 [==============================] - 98s 2s/step - loss: 7.1586 - accuracy: 0.9847 - lr: 0.0010\n",
      "Epoch 80/100\n",
      "45/45 [==============================] - ETA: 0s - loss: 7.1642 - accuracy: 0.9771\n",
      "Epoch 80: accuracy did not improve from 0.98470\n",
      "45/45 [==============================] - 93s 2s/step - loss: 7.1642 - accuracy: 0.9771 - lr: 0.0010\n",
      "Epoch 81/100\n",
      "45/45 [==============================] - ETA: 0s - loss: 7.1395 - accuracy: 0.9826\n",
      "Epoch 81: accuracy did not improve from 0.98470\n",
      "45/45 [==============================] - 98s 2s/step - loss: 7.1395 - accuracy: 0.9826 - lr: 0.0010\n",
      "Epoch 82/100\n",
      "45/45 [==============================] - ETA: 0s - loss: 7.1398 - accuracy: 0.9777\n",
      "Epoch 82: accuracy did not improve from 0.98470\n",
      "45/45 [==============================] - 96s 2s/step - loss: 7.1398 - accuracy: 0.9777 - lr: 0.0010\n",
      "Epoch 83/100\n",
      "45/45 [==============================] - ETA: 0s - loss: 7.1277 - accuracy: 0.9812\n",
      "Epoch 83: accuracy did not improve from 0.98470\n",
      "45/45 [==============================] - 97s 2s/step - loss: 7.1277 - accuracy: 0.9812 - lr: 0.0010\n",
      "Epoch 84/100\n",
      "45/45 [==============================] - ETA: 0s - loss: 7.1149 - accuracy: 0.9784\n",
      "Epoch 84: accuracy did not improve from 0.98470\n",
      "45/45 [==============================] - 97s 2s/step - loss: 7.1149 - accuracy: 0.9784 - lr: 0.0010\n",
      "Epoch 85/100\n",
      "45/45 [==============================] - ETA: 0s - loss: 7.0881 - accuracy: 0.9875\n",
      "Epoch 85: accuracy improved from 0.98470 to 0.98748, saving model to model-08\n"
     ]
    },
    {
     "name": "stderr",
     "output_type": "stream",
     "text": [
      "WARNING:absl:Found untraced functions such as _jit_compiled_convolution_op, _jit_compiled_convolution_op, _jit_compiled_convolution_op, _jit_compiled_convolution_op, _jit_compiled_convolution_op while saving (showing 5 of 16). These functions will not be directly callable after loading.\n"
     ]
    },
    {
     "name": "stdout",
     "output_type": "stream",
     "text": [
      "INFO:tensorflow:Assets written to: model-08/assets\n"
     ]
    },
    {
     "name": "stderr",
     "output_type": "stream",
     "text": [
      "INFO:tensorflow:Assets written to: model-08/assets\n"
     ]
    },
    {
     "name": "stdout",
     "output_type": "stream",
     "text": [
      "45/45 [==============================] - 101s 2s/step - loss: 7.0881 - accuracy: 0.9875 - lr: 0.0010\n",
      "Epoch 86/100\n",
      "45/45 [==============================] - ETA: 0s - loss: 7.0938 - accuracy: 0.9805\n",
      "Epoch 86: accuracy did not improve from 0.98748\n",
      "45/45 [==============================] - 98s 2s/step - loss: 7.0938 - accuracy: 0.9805 - lr: 0.0010\n",
      "Epoch 87/100\n",
      "45/45 [==============================] - ETA: 0s - loss: 7.0586 - accuracy: 0.9833\n",
      "Epoch 87: accuracy did not improve from 0.98748\n",
      "45/45 [==============================] - 97s 2s/step - loss: 7.0586 - accuracy: 0.9833 - lr: 0.0010\n",
      "Epoch 88/100\n",
      "45/45 [==============================] - ETA: 0s - loss: 7.0556 - accuracy: 0.9819\n",
      "Epoch 88: accuracy did not improve from 0.98748\n",
      "45/45 [==============================] - 95s 2s/step - loss: 7.0556 - accuracy: 0.9819 - lr: 0.0010\n",
      "Epoch 89/100\n",
      "45/45 [==============================] - ETA: 0s - loss: 7.0266 - accuracy: 0.9868\n",
      "Epoch 89: accuracy did not improve from 0.98748\n",
      "45/45 [==============================] - 96s 2s/step - loss: 7.0266 - accuracy: 0.9868 - lr: 0.0010\n",
      "Epoch 90/100\n",
      "45/45 [==============================] - ETA: 0s - loss: 7.0179 - accuracy: 0.9833\n",
      "Epoch 90: accuracy did not improve from 0.98748\n",
      "45/45 [==============================] - 96s 2s/step - loss: 7.0179 - accuracy: 0.9833 - lr: 0.0010\n",
      "Epoch 91/100\n",
      "45/45 [==============================] - ETA: 0s - loss: 7.0143 - accuracy: 0.9791\n",
      "Epoch 91: accuracy did not improve from 0.98748\n",
      "45/45 [==============================] - 99s 2s/step - loss: 7.0143 - accuracy: 0.9791 - lr: 0.0010\n",
      "Epoch 92/100\n",
      "45/45 [==============================] - ETA: 0s - loss: 6.9909 - accuracy: 0.9868\n",
      "Epoch 92: accuracy did not improve from 0.98748\n",
      "45/45 [==============================] - 98s 2s/step - loss: 6.9909 - accuracy: 0.9868 - lr: 0.0010\n",
      "Epoch 93/100\n",
      "45/45 [==============================] - ETA: 0s - loss: 6.9860 - accuracy: 0.9861\n",
      "Epoch 93: accuracy did not improve from 0.98748\n",
      "45/45 [==============================] - 98s 2s/step - loss: 6.9860 - accuracy: 0.9861 - lr: 0.0010\n",
      "Epoch 94/100\n",
      "45/45 [==============================] - ETA: 0s - loss: 6.9924 - accuracy: 0.9750\n",
      "Epoch 94: accuracy did not improve from 0.98748\n",
      "45/45 [==============================] - 98s 2s/step - loss: 6.9924 - accuracy: 0.9750 - lr: 0.0010\n",
      "Epoch 95/100\n",
      "45/45 [==============================] - ETA: 0s - loss: 6.9757 - accuracy: 0.9791\n",
      "Epoch 95: accuracy did not improve from 0.98748\n",
      "45/45 [==============================] - 98s 2s/step - loss: 6.9757 - accuracy: 0.9791 - lr: 0.0010\n",
      "Epoch 96/100\n",
      "45/45 [==============================] - ETA: 0s - loss: 6.9443 - accuracy: 0.9854\n",
      "Epoch 96: accuracy did not improve from 0.98748\n",
      "45/45 [==============================] - 94s 2s/step - loss: 6.9443 - accuracy: 0.9854 - lr: 0.0010\n",
      "Epoch 97/100\n",
      "45/45 [==============================] - ETA: 0s - loss: 6.9375 - accuracy: 0.9833\n",
      "Epoch 97: accuracy did not improve from 0.98748\n",
      "45/45 [==============================] - 95s 2s/step - loss: 6.9375 - accuracy: 0.9833 - lr: 0.0010\n",
      "Epoch 98/100\n",
      "45/45 [==============================] - ETA: 0s - loss: 6.9147 - accuracy: 0.9826\n",
      "Epoch 98: accuracy did not improve from 0.98748\n",
      "45/45 [==============================] - 98s 2s/step - loss: 6.9147 - accuracy: 0.9826 - lr: 0.0010\n",
      "Epoch 99/100\n",
      "45/45 [==============================] - ETA: 0s - loss: 6.9024 - accuracy: 0.9903\n",
      "Epoch 99: accuracy improved from 0.98748 to 0.99026, saving model to model-08\n"
     ]
    },
    {
     "name": "stderr",
     "output_type": "stream",
     "text": [
      "WARNING:absl:Found untraced functions such as _jit_compiled_convolution_op, _jit_compiled_convolution_op, _jit_compiled_convolution_op, _jit_compiled_convolution_op, _jit_compiled_convolution_op while saving (showing 5 of 16). These functions will not be directly callable after loading.\n"
     ]
    },
    {
     "name": "stdout",
     "output_type": "stream",
     "text": [
      "INFO:tensorflow:Assets written to: model-08/assets\n"
     ]
    },
    {
     "name": "stderr",
     "output_type": "stream",
     "text": [
      "INFO:tensorflow:Assets written to: model-08/assets\n"
     ]
    },
    {
     "name": "stdout",
     "output_type": "stream",
     "text": [
      "45/45 [==============================] - 101s 2s/step - loss: 6.9024 - accuracy: 0.9903 - lr: 0.0010\n",
      "Epoch 100/100\n",
      "45/45 [==============================] - ETA: 0s - loss: 6.8885 - accuracy: 0.9833\n",
      "Epoch 100: accuracy did not improve from 0.99026\n",
      "45/45 [==============================] - 98s 2s/step - loss: 6.8885 - accuracy: 0.9833 - lr: 0.0010\n"
     ]
    }
   ],
   "source": [
    "from numpy.random import seed\n",
    "tf.keras.utils.set_random_seed(42)# keras seed fixing\n",
    "tf.random.set_seed(42)# tensorflow seed fixing\n",
    "\n",
    "## EJECUCION DEL MODELO\n",
    "model.compile(loss=\"categorical_crossentropy\", \n",
    "              optimizer= SGD(learning_rate=0.001),\n",
    "              metrics=['accuracy'])\n",
    "\n",
    "#Agregamos un callback\n",
    "from tensorflow.keras.callbacks import ModelCheckpoint\n",
    "from tensorflow.keras.callbacks import ReduceLROnPlateau\n",
    "\n",
    "checkpointer = ModelCheckpoint(filepath='model-08', verbose=1, save_best_only=True,\n",
    "                               monitor = 'accuracy', mode = 'max')\n",
    "reduce_lr = ReduceLROnPlateau(monitor='loss', factor=0.2,\n",
    "                              patience=3, min_lr=0.000001)\n",
    "\n",
    "history= model.fit(train_generator, callbacks = [reduce_lr, checkpointer], epochs=epochs)"
   ]
  },
  {
   "cell_type": "code",
   "execution_count": 11,
   "id": "7f2bdaef-cd4d-4293-a9d6-96ff42a472f9",
   "metadata": {},
   "outputs": [
    {
     "name": "stdout",
     "output_type": "stream",
     "text": [
      "10/10 [==============================] - 6s 611ms/step\n"
     ]
    }
   ],
   "source": [
    "preds_test = model.predict(test_generator)"
   ]
  },
  {
   "cell_type": "code",
   "execution_count": 12,
   "id": "49f96094-7a88-42fe-ad44-8530de26456e",
   "metadata": {},
   "outputs": [
    {
     "name": "stdout",
     "output_type": "stream",
     "text": [
      "10/10 [==============================] - 7s 625ms/step - loss: 6.9324 - accuracy: 0.9781\n"
     ]
    }
   ],
   "source": [
    "evaluate_test = model.evaluate(test_generator)"
   ]
  },
  {
   "cell_type": "code",
   "execution_count": 13,
   "id": "730f6466-b483-483e-b16c-1dde5da34648",
   "metadata": {},
   "outputs": [
    {
     "data": {
      "text/plain": [
       "[6.932363986968994, 0.9781249761581421]"
      ]
     },
     "execution_count": 13,
     "metadata": {},
     "output_type": "execute_result"
    }
   ],
   "source": [
    "evaluate_test"
   ]
  },
  {
   "cell_type": "code",
   "execution_count": 14,
   "id": "71fc2b80-aa9e-4fa3-b8d9-25f732de5c86",
   "metadata": {},
   "outputs": [
    {
     "data": {
      "text/plain": [
       "array([0, 0, 0, 0, 0, 0, 0, 0, 0, 0, 0, 0, 0, 0, 0, 0, 0, 0, 0, 0, 0, 0,\n",
       "       0, 0, 0, 0, 0, 0, 0, 0, 0, 0, 1, 1, 1, 1, 1, 1, 1, 1, 1, 1, 1, 1,\n",
       "       1, 1, 1, 1, 1, 1, 1, 1, 1, 1, 1, 1, 1, 1, 1, 1, 1, 1, 1, 1, 2, 2,\n",
       "       2, 2, 2, 2, 2, 2, 2, 2, 2, 2, 2, 2, 3, 2, 2, 2, 2, 2, 2, 2, 2, 2,\n",
       "       2, 2, 2, 2, 2, 2, 2, 2, 3, 3, 3, 3, 3, 3, 3, 3, 3, 3, 3, 3, 3, 3,\n",
       "       3, 3, 3, 3, 3, 3, 3, 3, 3, 3, 3, 3, 3, 3, 3, 3, 3, 3, 4, 4, 4, 4,\n",
       "       4, 4, 4, 4, 4, 4, 4, 4, 4, 4, 4, 4, 4, 4, 4, 4, 4, 4, 4, 4, 4, 4,\n",
       "       4, 4, 4, 4, 4, 4, 5, 5, 5, 5, 5, 5, 5, 5, 5, 5, 4, 5, 5, 5, 5, 5,\n",
       "       5, 5, 5, 5, 5, 5, 5, 5, 5, 5, 5, 5, 5, 5, 5, 4, 6, 6, 6, 6, 6, 6,\n",
       "       6, 6, 6, 6, 6, 6, 6, 6, 6, 6, 6, 6, 6, 6, 6, 6, 6, 6, 6, 6, 6, 6,\n",
       "       6, 6, 6, 6, 7, 7, 7, 7, 7, 7, 7, 7, 7, 7, 7, 7, 7, 7, 7, 7, 7, 7,\n",
       "       7, 7, 7, 8, 7, 7, 7, 7, 7, 7, 8, 7, 8, 7, 8, 8, 8, 8, 8, 8, 8, 8,\n",
       "       8, 8, 8, 8, 8, 8, 8, 8, 8, 8, 8, 8, 8, 8, 8, 8, 8, 9, 8, 8, 8, 8,\n",
       "       8, 8, 9, 9, 9, 9, 9, 9, 9, 9, 9, 9, 9, 9, 9, 9, 9, 9, 9, 9, 9, 5,\n",
       "       9, 9, 9, 9, 9, 9, 9, 9, 9, 9, 9, 9])"
      ]
     },
     "execution_count": 14,
     "metadata": {},
     "output_type": "execute_result"
    }
   ],
   "source": [
    "y_preds_test = np.array([np.argmax(x) for x in preds_test])\n",
    "y_preds_test"
   ]
  },
  {
   "cell_type": "code",
   "execution_count": 15,
   "id": "eb480175-6c03-4201-806c-fb8a27b96984",
   "metadata": {},
   "outputs": [
    {
     "data": {
      "text/plain": [
       "array([0, 0, 0, 0, 0, 0, 0, 0, 0, 0, 0, 0, 0, 0, 0, 0, 0, 0, 0, 0, 0, 0,\n",
       "       0, 0, 0, 0, 0, 0, 0, 0, 0, 0, 1, 1, 1, 1, 1, 1, 1, 1, 1, 1, 1, 1,\n",
       "       1, 1, 1, 1, 1, 1, 1, 1, 1, 1, 1, 1, 1, 1, 1, 1, 1, 1, 1, 1, 2, 2,\n",
       "       2, 2, 2, 2, 2, 2, 2, 2, 2, 2, 2, 2, 2, 2, 2, 2, 2, 2, 2, 2, 2, 2,\n",
       "       2, 2, 2, 2, 2, 2, 2, 2, 3, 3, 3, 3, 3, 3, 3, 3, 3, 3, 3, 3, 3, 3,\n",
       "       3, 3, 3, 3, 3, 3, 3, 3, 3, 3, 3, 3, 3, 3, 3, 3, 3, 3, 4, 4, 4, 4,\n",
       "       4, 4, 4, 4, 4, 4, 4, 4, 4, 4, 4, 4, 4, 4, 4, 4, 4, 4, 4, 4, 4, 4,\n",
       "       4, 4, 4, 4, 4, 4, 5, 5, 5, 5, 5, 5, 5, 5, 5, 5, 5, 5, 5, 5, 5, 5,\n",
       "       5, 5, 5, 5, 5, 5, 5, 5, 5, 5, 5, 5, 5, 5, 5, 5, 6, 6, 6, 6, 6, 6,\n",
       "       6, 6, 6, 6, 6, 6, 6, 6, 6, 6, 6, 6, 6, 6, 6, 6, 6, 6, 6, 6, 6, 6,\n",
       "       6, 6, 6, 6, 7, 7, 7, 7, 7, 7, 7, 7, 7, 7, 7, 7, 7, 7, 7, 7, 7, 7,\n",
       "       7, 7, 7, 7, 7, 7, 7, 7, 7, 7, 7, 7, 7, 7, 8, 8, 8, 8, 8, 8, 8, 8,\n",
       "       8, 8, 8, 8, 8, 8, 8, 8, 8, 8, 8, 8, 8, 8, 8, 8, 8, 8, 8, 8, 8, 8,\n",
       "       8, 8, 9, 9, 9, 9, 9, 9, 9, 9, 9, 9, 9, 9, 9, 9, 9, 9, 9, 9, 9, 9,\n",
       "       9, 9, 9, 9, 9, 9, 9, 9, 9, 9, 9, 9], dtype=int32)"
      ]
     },
     "execution_count": 15,
     "metadata": {},
     "output_type": "execute_result"
    }
   ],
   "source": [
    "y_real_test = test_generator.classes\n",
    "y_real_test"
   ]
  },
  {
   "cell_type": "code",
   "execution_count": 16,
   "id": "95f69712-fd40-43cf-90d2-9b0a1bafca00",
   "metadata": {},
   "outputs": [
    {
     "data": {
      "text/plain": [
       "0.975"
      ]
     },
     "execution_count": 16,
     "metadata": {},
     "output_type": "execute_result"
    }
   ],
   "source": [
    "accuracy_test = accuracy_score(y_real_test, y_preds_test)\n",
    "accuracy_test"
   ]
  },
  {
   "cell_type": "code",
   "execution_count": 17,
   "id": "4b0f6dec-7952-41d6-bc7c-e585cd11d7de",
   "metadata": {},
   "outputs": [
    {
     "data": {
      "text/plain": [
       "array([[32,  0,  0,  0,  0,  0,  0,  0,  0,  0],\n",
       "       [ 0, 32,  0,  0,  0,  0,  0,  0,  0,  0],\n",
       "       [ 0,  0, 31,  1,  0,  0,  0,  0,  0,  0],\n",
       "       [ 0,  0,  0, 32,  0,  0,  0,  0,  0,  0],\n",
       "       [ 0,  0,  0,  0, 32,  0,  0,  0,  0,  0],\n",
       "       [ 0,  0,  0,  0,  2, 30,  0,  0,  0,  0],\n",
       "       [ 0,  0,  0,  0,  0,  0, 32,  0,  0,  0],\n",
       "       [ 0,  0,  0,  0,  0,  0,  0, 29,  3,  0],\n",
       "       [ 0,  0,  0,  0,  0,  0,  0,  0, 31,  1],\n",
       "       [ 0,  0,  0,  0,  0,  1,  0,  0,  0, 31]])"
      ]
     },
     "execution_count": 17,
     "metadata": {},
     "output_type": "execute_result"
    }
   ],
   "source": [
    "cm_test = confusion_matrix(y_real_test, y_preds_test)\n",
    "cm_test"
   ]
  },
  {
   "cell_type": "code",
   "execution_count": 18,
   "id": "4cb535b8-028f-477e-b03f-8783b3a13096",
   "metadata": {},
   "outputs": [
    {
     "data": {
      "image/png": "[encoded data removed]",
      "text/plain": [
       "<Figure size 800x600 with 2 Axes>"
      ]
     },
     "metadata": {},
     "output_type": "display_data"
    }
   ],
   "source": [
    "plt.figure(figsize=(8,6), dpi=100)\n",
    "# Scale up the size of all text\n",
    "sns.set(font_scale = 1.1)\n",
    "\n",
    "# Plot Confusion Matrix using Seaborn heatmap()\n",
    "# Parameters:\n",
    "# first param - confusion matrix in array format   \n",
    "# annot = True: show the numbers in each heatmap cell\n",
    "# fmt = 'd': show numbers as integers. \n",
    "ax = sns.heatmap(cm_test, annot=True, fmt='d', )\n",
    "\n",
    "# set x-axis label and ticks. \n",
    "ax.set_xlabel(\"Predicted Diagnosis\", fontsize=14, labelpad=20)\n",
    "# ax.xaxis.set_ticklabels(['Negative', 'Positive'])\n",
    "\n",
    "# set y-axis label and ticks\n",
    "ax.set_ylabel(\"Actual Diagnosis\", fontsize=14, labelpad=20)\n",
    "# ax.yaxis.set_ticklabels(['Negative', 'Positive'])\n",
    "\n",
    "# set plot title\n",
    "ax.set_title(\"Confusion Matrix for the Diabetes Detection Model\", fontsize=14, pad=20)\n",
    "\n",
    "plt.show()"
   ]
  },
  {
   "cell_type": "code",
   "execution_count": 19,
   "id": "b503eb1a-81ed-4078-b596-278249a3c722",
   "metadata": {},
   "outputs": [
    {
     "name": "stdout",
     "output_type": "stream",
     "text": [
      "10/10 [==============================] - 6s 610ms/step\n"
     ]
    }
   ],
   "source": [
    "preds_val = model.predict(valid_generator)"
   ]
  },
  {
   "cell_type": "code",
   "execution_count": 20,
   "id": "1fb77fb4-bdbf-4929-b30b-f90ab9aa55eb",
   "metadata": {},
   "outputs": [
    {
     "name": "stdout",
     "output_type": "stream",
     "text": [
      "10/10 [==============================] - 6s 577ms/step - loss: 6.9482 - accuracy: 0.9770\n"
     ]
    }
   ],
   "source": [
    "evaluate_val = model.evaluate(valid_generator)"
   ]
  },
  {
   "cell_type": "code",
   "execution_count": 21,
   "id": "d3a2be82-fc27-446d-be97-ef39329a1385",
   "metadata": {},
   "outputs": [
    {
     "data": {
      "text/plain": [
       "[6.948157787322998, 0.9769737124443054]"
      ]
     },
     "execution_count": 21,
     "metadata": {},
     "output_type": "execute_result"
    }
   ],
   "source": [
    "evaluate_val"
   ]
  },
  {
   "cell_type": "code",
   "execution_count": 22,
   "id": "d17f5e3f-c58f-4ff5-86d8-961dde74325c",
   "metadata": {},
   "outputs": [
    {
     "data": {
      "text/plain": [
       "array([0, 0, 0, 0, 0, 0, 0, 0, 0, 0, 0, 0, 0, 0, 0, 0, 0, 0, 0, 0, 0, 0,\n",
       "       0, 0, 0, 0, 0, 0, 0, 0, 1, 1, 1, 1, 1, 1, 1, 1, 1, 1, 1, 1, 1, 1,\n",
       "       1, 1, 1, 1, 1, 1, 1, 1, 1, 1, 1, 1, 1, 1, 1, 1, 2, 2, 2, 2, 2, 2,\n",
       "       2, 2, 2, 2, 2, 2, 2, 2, 2, 2, 2, 2, 3, 2, 2, 2, 2, 2, 2, 2, 2, 2,\n",
       "       2, 2, 3, 3, 3, 3, 3, 3, 3, 3, 3, 3, 5, 3, 3, 3, 3, 3, 3, 3, 3, 3,\n",
       "       3, 3, 3, 3, 3, 3, 3, 3, 3, 3, 4, 4, 4, 4, 4, 4, 4, 4, 4, 4, 4, 4,\n",
       "       4, 4, 4, 4, 4, 4, 4, 4, 4, 4, 4, 4, 4, 4, 5, 4, 4, 4, 4, 5, 5, 5,\n",
       "       5, 5, 5, 5, 3, 5, 5, 5, 5, 5, 5, 5, 5, 5, 5, 5, 5, 5, 5, 5, 5, 5,\n",
       "       5, 5, 5, 5, 5, 5, 6, 6, 6, 6, 6, 6, 6, 6, 6, 6, 6, 6, 6, 6, 6, 6,\n",
       "       6, 6, 6, 6, 6, 6, 6, 6, 6, 6, 6, 6, 6, 6, 6, 7, 7, 7, 7, 7, 7, 7,\n",
       "       7, 7, 7, 7, 7, 7, 7, 7, 7, 7, 7, 7, 7, 7, 7, 7, 7, 7, 7, 7, 7, 3,\n",
       "       7, 8, 8, 8, 8, 8, 8, 8, 8, 8, 8, 8, 8, 8, 8, 8, 8, 8, 8, 8, 8, 8,\n",
       "       8, 8, 8, 8, 8, 8, 8, 8, 8, 8, 9, 9, 9, 9, 9, 9, 9, 9, 9, 9, 9, 9,\n",
       "       9, 9, 9, 9, 9, 9, 9, 9, 9, 9, 9, 9, 9, 9, 9, 9, 9, 9])"
      ]
     },
     "execution_count": 22,
     "metadata": {},
     "output_type": "execute_result"
    }
   ],
   "source": [
    "y_preds_val = np.array([np.argmax(x) for x in preds_val])\n",
    "y_preds_val"
   ]
  },
  {
   "cell_type": "code",
   "execution_count": 23,
   "id": "7a7cd9d7-3192-4e04-a0a1-693ca99d1037",
   "metadata": {},
   "outputs": [
    {
     "data": {
      "text/plain": [
       "array([0, 0, 0, 0, 0, 0, 0, 0, 0, 0, 0, 0, 0, 0, 0, 0, 0, 0, 0, 0, 0, 0,\n",
       "       0, 0, 0, 0, 0, 0, 0, 0, 1, 1, 1, 1, 1, 1, 1, 1, 1, 1, 1, 1, 1, 1,\n",
       "       1, 1, 1, 1, 1, 1, 1, 1, 1, 1, 1, 1, 1, 1, 1, 1, 2, 2, 2, 2, 2, 2,\n",
       "       2, 2, 2, 2, 2, 2, 2, 2, 2, 2, 2, 2, 2, 2, 2, 2, 2, 2, 2, 2, 2, 2,\n",
       "       2, 2, 3, 3, 3, 3, 3, 3, 3, 3, 3, 3, 3, 3, 3, 3, 3, 3, 3, 3, 3, 3,\n",
       "       3, 3, 3, 3, 3, 3, 3, 3, 3, 3, 4, 4, 4, 4, 4, 4, 4, 4, 4, 4, 4, 4,\n",
       "       4, 4, 4, 4, 4, 4, 4, 4, 4, 4, 4, 4, 4, 4, 4, 4, 4, 4, 4, 5, 5, 5,\n",
       "       5, 5, 5, 5, 5, 5, 5, 5, 5, 5, 5, 5, 5, 5, 5, 5, 5, 5, 5, 5, 5, 5,\n",
       "       5, 5, 5, 5, 5, 5, 6, 6, 6, 6, 6, 6, 6, 6, 6, 6, 6, 6, 6, 6, 6, 6,\n",
       "       6, 6, 6, 6, 6, 6, 6, 6, 6, 6, 6, 6, 6, 6, 6, 7, 7, 7, 7, 7, 7, 7,\n",
       "       7, 7, 7, 7, 7, 7, 7, 7, 7, 7, 7, 7, 7, 7, 7, 7, 7, 7, 7, 7, 7, 7,\n",
       "       7, 8, 8, 8, 8, 8, 8, 8, 8, 8, 8, 8, 8, 8, 8, 8, 8, 8, 8, 8, 8, 8,\n",
       "       8, 8, 8, 8, 8, 8, 8, 8, 8, 8, 9, 9, 9, 9, 9, 9, 9, 9, 9, 9, 9, 9,\n",
       "       9, 9, 9, 9, 9, 9, 9, 9, 9, 9, 9, 9, 9, 9, 9, 9, 9, 9], dtype=int32)"
      ]
     },
     "execution_count": 23,
     "metadata": {},
     "output_type": "execute_result"
    }
   ],
   "source": [
    "y_real_val = valid_generator.classes\n",
    "y_real_val"
   ]
  },
  {
   "cell_type": "code",
   "execution_count": 24,
   "id": "67e7aded-e874-41a0-981d-4de4720b27ad",
   "metadata": {},
   "outputs": [
    {
     "data": {
      "text/plain": [
       "0.9835526315789473"
      ]
     },
     "execution_count": 24,
     "metadata": {},
     "output_type": "execute_result"
    }
   ],
   "source": [
    "accuracy_val = accuracy_score(y_real_val, y_preds_val)\n",
    "accuracy_val"
   ]
  },
  {
   "cell_type": "code",
   "execution_count": 25,
   "id": "c3459eff-7df8-47b2-986a-2beab8ac51e1",
   "metadata": {},
   "outputs": [
    {
     "data": {
      "text/plain": [
       "array([[30,  0,  0,  0,  0,  0,  0,  0,  0,  0],\n",
       "       [ 0, 30,  0,  0,  0,  0,  0,  0,  0,  0],\n",
       "       [ 0,  0, 29,  1,  0,  0,  0,  0,  0,  0],\n",
       "       [ 0,  0,  0, 29,  0,  1,  0,  0,  0,  0],\n",
       "       [ 0,  0,  0,  0, 30,  1,  0,  0,  0,  0],\n",
       "       [ 0,  0,  0,  1,  0, 30,  0,  0,  0,  0],\n",
       "       [ 0,  0,  0,  0,  0,  0, 31,  0,  0,  0],\n",
       "       [ 0,  0,  0,  1,  0,  0,  0, 29,  0,  0],\n",
       "       [ 0,  0,  0,  0,  0,  0,  0,  0, 31,  0],\n",
       "       [ 0,  0,  0,  0,  0,  0,  0,  0,  0, 30]])"
      ]
     },
     "execution_count": 25,
     "metadata": {},
     "output_type": "execute_result"
    }
   ],
   "source": [
    "cm_val = confusion_matrix(y_real_val, y_preds_val)\n",
    "cm_val"
   ]
  },
  {
   "cell_type": "code",
   "execution_count": 26,
   "id": "d9806965-fb2e-4044-af24-af216719e719",
   "metadata": {},
   "outputs": [
    {
     "data": {
      "image/png": "[encoded data removed]",
      "text/plain": [
       "<Figure size 800x600 with 2 Axes>"
      ]
     },
     "metadata": {},
     "output_type": "display_data"
    }
   ],
   "source": [
    "plt.figure(figsize=(8,6), dpi=100)\n",
    "# Scale up the size of all text\n",
    "sns.set(font_scale = 1.1)\n",
    "\n",
    "# Plot Confusion Matrix using Seaborn heatmap()\n",
    "# Parameters:\n",
    "# first param - confusion matrix in array format   \n",
    "# annot = True: show the numbers in each heatmap cell\n",
    "# fmt = 'd': show numbers as integers. \n",
    "ax = sns.heatmap(cm_val, annot=True, fmt='d', )\n",
    "\n",
    "# set x-axis label and ticks. \n",
    "ax.set_xlabel(\"Predicted Diagnosis\", fontsize=14, labelpad=20)\n",
    "# ax.xaxis.set_ticklabels(['Negative', 'Positive'])\n",
    "\n",
    "# set y-axis label and ticks\n",
    "ax.set_ylabel(\"Actual Diagnosis\", fontsize=14, labelpad=20)\n",
    "# ax.yaxis.set_ticklabels(['Negative', 'Positive'])\n",
    "\n",
    "# set plot title\n",
    "ax.set_title(\"Confusion Matrix for the Diabetes Detection Model\", fontsize=14, pad=20)\n",
    "\n",
    "plt.show()"
   ]
  }
 ],
 "metadata": {
  "kernelspec": {
   "display_name": "TensorFlow 2.10 (Local)",
   "language": "python",
   "name": "local-tf2-2-10"
  },
  "language_info": {
   "codemirror_mode": {
    "name": "ipython",
    "version": 3
   },
   "file_extension": ".py",
   "mimetype": "text/x-python",
   "name": "python",
   "nbconvert_exporter": "python",
   "pygments_lexer": "ipython3",
   "version": "3.7.12"
  }
 },
 "nbformat": 4,
 "nbformat_minor": 5
}

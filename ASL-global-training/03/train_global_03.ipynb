{
 "cells": [
  {
   "cell_type": "code",
   "execution_count": 1,
   "id": "cabbedb0-cdf5-4873-b294-64c330b205de",
   "metadata": {
    "tags": []
   },
   "outputs": [
    {
     "name": "stderr",
     "output_type": "stream",
     "text": [
      "2023-09-18 14:59:17.362303: I tensorflow/core/platform/cpu_feature_guard.cc:193] This TensorFlow binary is optimized with oneAPI Deep Neural Network Library (oneDNN) to use the following CPU instructions in performance-critical operations:  AVX2 FMA\n",
      "To enable them in other operations, rebuild TensorFlow with the appropriate compiler flags.\n",
      "2023-09-18 14:59:20.691852: W tensorflow/compiler/xla/stream_executor/platform/default/dso_loader.cc:64] Could not load dynamic library 'libnvinfer.so.7'; dlerror: libnvinfer.so.7: cannot open shared object file: No such file or directory; LD_LIBRARY_PATH: /usr/local/cuda/lib64:/usr/local/cuda/lib:/usr/local/lib/x86_64-linux-gnu:/usr/local/nvidia/lib:/usr/local/nvidia/lib64:/usr/local/nvidia/lib:/usr/local/nvidia/lib64\n",
      "2023-09-18 14:59:20.692027: W tensorflow/compiler/xla/stream_executor/platform/default/dso_loader.cc:64] Could not load dynamic library 'libnvinfer_plugin.so.7'; dlerror: libnvinfer_plugin.so.7: cannot open shared object file: No such file or directory; LD_LIBRARY_PATH: /usr/local/cuda/lib64:/usr/local/cuda/lib:/usr/local/lib/x86_64-linux-gnu:/usr/local/nvidia/lib:/usr/local/nvidia/lib64:/usr/local/nvidia/lib:/usr/local/nvidia/lib64\n",
      "2023-09-18 14:59:20.692041: W tensorflow/compiler/tf2tensorrt/utils/py_utils.cc:38] TF-TRT Warning: Cannot dlopen some TensorRT libraries. If you would like to use Nvidia GPU with TensorRT, please make sure the missing libraries mentioned above are installed properly.\n"
     ]
    },
    {
     "name": "stdout",
     "output_type": "stream",
     "text": [
      "2.11.0\n"
     ]
    }
   ],
   "source": [
    "import tensorflow as tf\n",
    "\n",
    "print(tf.__version__)\n",
    "\n",
    "from tensorflow.keras.models                import Sequential, Model\n",
    "from tensorflow.keras.layers                import *\n",
    "from tensorflow.keras.preprocessing.image   import ImageDataGenerator\n",
    "from tensorflow.keras.utils                 import to_categorical\n",
    "from tensorflow.keras.optimizers            import SGD, RMSprop, Adam, Adagrad, Adadelta\n",
    "\n",
    "from sklearn.model_selection import train_test_split\n",
    "from sklearn.metrics import confusion_matrix, accuracy_score\n",
    "from sklearn.utils import class_weight\n",
    "\n",
    "import matplotlib.pyplot as plt\n",
    "import random\n",
    "# import cv2\n",
    "import pandas as pd\n",
    "import numpy as np\n",
    "import matplotlib.gridspec as gridspec\n",
    "import seaborn as sns\n",
    "import sklearn\n",
    "import scipy\n",
    "import skimage\n",
    "from skimage.transform import resize\n",
    "from tqdm import tqdm\n",
    "from sklearn import model_selection\n",
    "from sklearn.model_selection import train_test_split, learning_curve,KFold,cross_val_score,StratifiedKFold\n",
    "from sklearn.utils import class_weight\n",
    "from sklearn.metrics import confusion_matrix"
   ]
  },
  {
   "cell_type": "code",
   "execution_count": 2,
   "id": "591c6941-6b95-49ed-a5e4-b3b065f337e5",
   "metadata": {},
   "outputs": [],
   "source": [
    "# !git clone https://github.com/EricMartinezIllamola/asl-global.git"
   ]
  },
  {
   "cell_type": "code",
   "execution_count": 3,
   "id": "b142a1a3-59e9-445c-a9c9-35d7cc5e2645",
   "metadata": {},
   "outputs": [],
   "source": [
    "# !pip install split-folders "
   ]
  },
  {
   "cell_type": "code",
   "execution_count": 4,
   "id": "e29c6dc1-7ac5-4f9c-afc5-27889eadad59",
   "metadata": {
    "tags": []
   },
   "outputs": [],
   "source": [
    "# import splitfolders\n",
    "# import os"
   ]
  },
  {
   "cell_type": "code",
   "execution_count": 5,
   "id": "5bc916a7-71b9-408a-a862-97bac0f8cd8c",
   "metadata": {
    "tags": []
   },
   "outputs": [],
   "source": [
    "# path = \"asl-global/asl-global\"\n",
    "\n",
    "# splitfolders.ratio(path, seed=777, output=\"Train-Validation-Test-Dataset\", ratio=(0.7, 0.15, 0.15))"
   ]
  },
  {
   "cell_type": "code",
   "execution_count": 6,
   "id": "3c62d1d8-12eb-4f83-ae0c-7ffa1f9c939b",
   "metadata": {},
   "outputs": [],
   "source": [
    "train_path = \"Train-Validation-Test-Dataset/train\"\n",
    "val_path = \"Train-Validation-Test-Dataset/val\"\n",
    "test_path = \"Train-Validation-Test-Dataset/test\""
   ]
  },
  {
   "cell_type": "code",
   "execution_count": 7,
   "id": "cdc6b023-62d9-4604-a6b7-388c23c40b87",
   "metadata": {
    "tags": []
   },
   "outputs": [
    {
     "name": "stderr",
     "output_type": "stream",
     "text": [
      "2023-09-18 14:59:24.846654: I tensorflow/compiler/xla/stream_executor/cuda/cuda_gpu_executor.cc:981] successful NUMA node read from SysFS had negative value (-1), but there must be at least one NUMA node, so returning NUMA node zero\n",
      "2023-09-18 14:59:24.860960: I tensorflow/compiler/xla/stream_executor/cuda/cuda_gpu_executor.cc:981] successful NUMA node read from SysFS had negative value (-1), but there must be at least one NUMA node, so returning NUMA node zero\n",
      "2023-09-18 14:59:24.863735: I tensorflow/compiler/xla/stream_executor/cuda/cuda_gpu_executor.cc:981] successful NUMA node read from SysFS had negative value (-1), but there must be at least one NUMA node, so returning NUMA node zero\n"
     ]
    },
    {
     "data": {
      "text/plain": [
       "[PhysicalDevice(name='/physical_device:CPU:0', device_type='CPU'),\n",
       " PhysicalDevice(name='/physical_device:GPU:0', device_type='GPU')]"
      ]
     },
     "execution_count": 7,
     "metadata": {},
     "output_type": "execute_result"
    }
   ],
   "source": [
    "tf.config.experimental.list_physical_devices()"
   ]
  },
  {
   "cell_type": "code",
   "execution_count": 8,
   "id": "e2dfe75c-2fa1-44a9-94ff-d1205720671d",
   "metadata": {
    "tags": []
   },
   "outputs": [
    {
     "data": {
      "text/plain": [
       "True"
      ]
     },
     "execution_count": 8,
     "metadata": {},
     "output_type": "execute_result"
    }
   ],
   "source": [
    "tf.test.is_built_with_cuda()"
   ]
  },
  {
   "cell_type": "code",
   "execution_count": 9,
   "id": "b9f0f604-67d3-43b5-962d-5b88fd6bb534",
   "metadata": {},
   "outputs": [
    {
     "name": "stdout",
     "output_type": "stream",
     "text": [
      "Found 4966 images belonging to 34 classes.\n",
      "Found 1048 images belonging to 34 classes.\n",
      "Found 1088 images belonging to 34 classes.\n"
     ]
    }
   ],
   "source": [
    "from tensorflow.keras.preprocessing.image   import ImageDataGenerator\n",
    "\n",
    "##Clasificamos las imagenes\n",
    "bs = 32 #bach size\n",
    "k = 2\n",
    "# Generador de imágenes de entrenamiento.\n",
    "train_datagen = ImageDataGenerator(\n",
    "        rescale=1./255,\n",
    "        shear_range=(0.3),\n",
    "        zoom_range=(0.3),\n",
    "        width_shift_range=(0.2),\n",
    "        height_shift_range=(0.2),\n",
    "        # validation_split = 0.2,\n",
    "        brightness_range=(0.05,0.85),\n",
    "        horizontal_flip=False)\n",
    "\n",
    "# Carga de imágenes al generador de entrenamiento desde directorio.\n",
    "train_generator = train_datagen.flow_from_directory(\n",
    "        train_path,\n",
    "        class_mode='categorical',\n",
    "        shuffle=True,\n",
    "        target_size=(28*k, 28*k),\n",
    "        color_mode = 'rgb', \n",
    "        # subset = 'training',\n",
    "        batch_size=bs)\n",
    "\n",
    "valid_generator = train_datagen.flow_from_directory(\n",
    "        val_path,\n",
    "        class_mode='categorical',\n",
    "        shuffle=False,\n",
    "        target_size=(28*k, 28*k),\n",
    "        color_mode = 'rgb', \n",
    "        # subset = 'validation',\n",
    "        batch_size=bs)\n",
    "\n",
    "test_generator = train_datagen.flow_from_directory(\n",
    "        test_path,\n",
    "        class_mode='categorical',\n",
    "        shuffle=False,\n",
    "        target_size=(28*k, 28*k),\n",
    "        color_mode = 'rgb', \n",
    "        # subset = 'validation',\n",
    "        batch_size=bs)"
   ]
  },
  {
   "cell_type": "code",
   "execution_count": 10,
   "id": "ce39767d-6018-413a-ac2c-8e816e2cf5e3",
   "metadata": {},
   "outputs": [
    {
     "name": "stderr",
     "output_type": "stream",
     "text": [
      "2023-09-18 14:59:25.762164: I tensorflow/core/platform/cpu_feature_guard.cc:193] This TensorFlow binary is optimized with oneAPI Deep Neural Network Library (oneDNN) to use the following CPU instructions in performance-critical operations:  AVX2 FMA\n",
      "To enable them in other operations, rebuild TensorFlow with the appropriate compiler flags.\n",
      "2023-09-18 14:59:25.763500: I tensorflow/compiler/xla/stream_executor/cuda/cuda_gpu_executor.cc:981] successful NUMA node read from SysFS had negative value (-1), but there must be at least one NUMA node, so returning NUMA node zero\n",
      "2023-09-18 14:59:25.765560: I tensorflow/compiler/xla/stream_executor/cuda/cuda_gpu_executor.cc:981] successful NUMA node read from SysFS had negative value (-1), but there must be at least one NUMA node, so returning NUMA node zero\n",
      "2023-09-18 14:59:25.767286: I tensorflow/compiler/xla/stream_executor/cuda/cuda_gpu_executor.cc:981] successful NUMA node read from SysFS had negative value (-1), but there must be at least one NUMA node, so returning NUMA node zero\n",
      "2023-09-18 14:59:26.532641: I tensorflow/compiler/xla/stream_executor/cuda/cuda_gpu_executor.cc:981] successful NUMA node read from SysFS had negative value (-1), but there must be at least one NUMA node, so returning NUMA node zero\n",
      "2023-09-18 14:59:26.534628: I tensorflow/compiler/xla/stream_executor/cuda/cuda_gpu_executor.cc:981] successful NUMA node read from SysFS had negative value (-1), but there must be at least one NUMA node, so returning NUMA node zero\n",
      "2023-09-18 14:59:26.536233: I tensorflow/compiler/xla/stream_executor/cuda/cuda_gpu_executor.cc:981] successful NUMA node read from SysFS had negative value (-1), but there must be at least one NUMA node, so returning NUMA node zero\n",
      "2023-09-18 14:59:26.537765: I tensorflow/core/common_runtime/gpu/gpu_device.cc:1613] Created device /job:localhost/replica:0/task:0/device:GPU:0 with 13582 MB memory:  -> device: 0, name: Tesla T4, pci bus id: 0000:00:04.0, compute capability: 7.5\n"
     ]
    },
    {
     "name": "stdout",
     "output_type": "stream",
     "text": [
      "Model: \"vgg19\"\n",
      "_________________________________________________________________\n",
      " Layer (type)                Output Shape              Param #   \n",
      "=================================================================\n",
      " input_1 (InputLayer)        [(None, 224, 224, 3)]     0         \n",
      "                                                                 \n",
      " block1_conv1 (Conv2D)       (None, 224, 224, 64)      1792      \n",
      "                                                                 \n",
      " block1_conv2 (Conv2D)       (None, 224, 224, 64)      36928     \n",
      "                                                                 \n",
      " block1_pool (MaxPooling2D)  (None, 112, 112, 64)      0         \n",
      "                                                                 \n",
      " block2_conv1 (Conv2D)       (None, 112, 112, 128)     73856     \n",
      "                                                                 \n",
      " block2_conv2 (Conv2D)       (None, 112, 112, 128)     147584    \n",
      "                                                                 \n",
      " block2_pool (MaxPooling2D)  (None, 56, 56, 128)       0         \n",
      "                                                                 \n",
      " block3_conv1 (Conv2D)       (None, 56, 56, 256)       295168    \n",
      "                                                                 \n",
      " block3_conv2 (Conv2D)       (None, 56, 56, 256)       590080    \n",
      "                                                                 \n",
      " block3_conv3 (Conv2D)       (None, 56, 56, 256)       590080    \n",
      "                                                                 \n",
      " block3_conv4 (Conv2D)       (None, 56, 56, 256)       590080    \n",
      "                                                                 \n",
      " block3_pool (MaxPooling2D)  (None, 28, 28, 256)       0         \n",
      "                                                                 \n",
      " block4_conv1 (Conv2D)       (None, 28, 28, 512)       1180160   \n",
      "                                                                 \n",
      " block4_conv2 (Conv2D)       (None, 28, 28, 512)       2359808   \n",
      "                                                                 \n",
      " block4_conv3 (Conv2D)       (None, 28, 28, 512)       2359808   \n",
      "                                                                 \n",
      " block4_conv4 (Conv2D)       (None, 28, 28, 512)       2359808   \n",
      "                                                                 \n",
      " block4_pool (MaxPooling2D)  (None, 14, 14, 512)       0         \n",
      "                                                                 \n",
      " block5_conv1 (Conv2D)       (None, 14, 14, 512)       2359808   \n",
      "                                                                 \n",
      " block5_conv2 (Conv2D)       (None, 14, 14, 512)       2359808   \n",
      "                                                                 \n",
      " block5_conv3 (Conv2D)       (None, 14, 14, 512)       2359808   \n",
      "                                                                 \n",
      " block5_conv4 (Conv2D)       (None, 14, 14, 512)       2359808   \n",
      "                                                                 \n",
      " block5_pool (MaxPooling2D)  (None, 7, 7, 512)         0         \n",
      "                                                                 \n",
      " flatten (Flatten)           (None, 25088)             0         \n",
      "                                                                 \n",
      " fc1 (Dense)                 (None, 4096)              102764544 \n",
      "                                                                 \n",
      " fc2 (Dense)                 (None, 4096)              16781312  \n",
      "                                                                 \n",
      " predictions (Dense)         (None, 1000)              4097000   \n",
      "                                                                 \n",
      "=================================================================\n",
      "Total params: 143,667,240\n",
      "Trainable params: 143,667,240\n",
      "Non-trainable params: 0\n",
      "_________________________________________________________________\n",
      "26\n"
     ]
    }
   ],
   "source": [
    "#Visualizamos la estructura del modelo que vamos a utilizar\n",
    "model = tf.keras.applications.VGG19()\n",
    "model.summary()\n",
    "print(len(model.layers))"
   ]
  },
  {
   "cell_type": "code",
   "execution_count": 11,
   "id": "b0e0e374-6bf0-455d-92ee-83982a54eae7",
   "metadata": {},
   "outputs": [
    {
     "name": "stdout",
     "output_type": "stream",
     "text": [
      "22\n"
     ]
    }
   ],
   "source": [
    "##DEFINIMOS EL MODELO\n",
    "num_classes = 34\n",
    "epochs = 200\n",
    "\n",
    "# VGG19\n",
    "# Importamos el modelo que queremos utilizar con los argumentos que queremos\n",
    "VGG19_model = tf.keras.applications.VGG19(input_shape=(28*k,28*k,3),\n",
    "                                          include_top=False,\n",
    "                                          weights='imagenet')\n",
    "\n",
    "print(len(VGG19_model.layers))\n",
    "#Congelamos  las 6 primeras caps del modelo para proceder a entrenar las demás\n",
    "for layer in VGG19_model.layers[:6]:\n",
    "  layer.trainable = False\n",
    "\n",
    "# Creamos un nuevo modelo vacio.\n",
    "model = tf.keras.Sequential()\n",
    "\n",
    "# Añadimos el modelo preentrenado como si se tratase de una capa.\n",
    "model.add(VGG19_model)\n",
    "\n",
    "# Continuamos añadiendo más capas que sí serán entrenadas...\n",
    "from tensorflow.keras import regularizers\n",
    "model.add(Flatten())\n",
    "model.add(Dense(4096, kernel_regularizer=regularizers.l2(0.01), activation = 'relu'))\n",
    "model.add(Dropout(0.35))\n",
    "model.add(Dense(num_classes, activation = 'softmax'))"
   ]
  },
  {
   "cell_type": "code",
   "execution_count": 12,
   "id": "98f08be8-a077-4ef3-92ab-b3604ff40655",
   "metadata": {},
   "outputs": [
    {
     "name": "stdout",
     "output_type": "stream",
     "text": [
      "Epoch 1/200\n"
     ]
    },
    {
     "name": "stderr",
     "output_type": "stream",
     "text": [
      "2023-09-18 14:59:31.649791: I tensorflow/compiler/xla/stream_executor/cuda/cuda_dnn.cc:428] Loaded cuDNN version 8200\n",
      "2023-09-18 14:59:33.801884: I tensorflow/compiler/xla/service/service.cc:173] XLA service 0x7f665e044550 initialized for platform CUDA (this does not guarantee that XLA will be used). Devices:\n",
      "2023-09-18 14:59:33.801942: I tensorflow/compiler/xla/service/service.cc:181]   StreamExecutor device (0): Tesla T4, Compute Capability 7.5\n",
      "2023-09-18 14:59:33.885736: I tensorflow/compiler/jit/xla_compilation_cache.cc:477] Compiled cluster using XLA!  This line is logged at most once for the lifetime of the process.\n"
     ]
    },
    {
     "name": "stdout",
     "output_type": "stream",
     "text": [
      "156/156 [==============================] - ETA: 0s - loss: 12.6129 - accuracy: 0.0284\n",
      "Epoch 1: accuracy improved from -inf to 0.02839, saving model to model-03\n"
     ]
    },
    {
     "name": "stderr",
     "output_type": "stream",
     "text": [
      "WARNING:absl:Found untraced functions such as _jit_compiled_convolution_op, _jit_compiled_convolution_op, _jit_compiled_convolution_op, _jit_compiled_convolution_op, _jit_compiled_convolution_op while saving (showing 5 of 16). These functions will not be directly callable after loading.\n"
     ]
    },
    {
     "name": "stdout",
     "output_type": "stream",
     "text": [
      "INFO:tensorflow:Assets written to: model-03/assets\n"
     ]
    },
    {
     "name": "stderr",
     "output_type": "stream",
     "text": [
      "INFO:tensorflow:Assets written to: model-03/assets\n"
     ]
    },
    {
     "name": "stdout",
     "output_type": "stream",
     "text": [
      "156/156 [==============================] - 21s 94ms/step - loss: 12.6129 - accuracy: 0.0284 - lr: 0.0010\n",
      "Epoch 2/200\n",
      "156/156 [==============================] - ETA: 0s - loss: 12.4369 - accuracy: 0.0683\n",
      "Epoch 2: accuracy improved from 0.02839 to 0.06826, saving model to model-03\n"
     ]
    },
    {
     "name": "stderr",
     "output_type": "stream",
     "text": [
      "WARNING:absl:Found untraced functions such as _jit_compiled_convolution_op, _jit_compiled_convolution_op, _jit_compiled_convolution_op, _jit_compiled_convolution_op, _jit_compiled_convolution_op while saving (showing 5 of 16). These functions will not be directly callable after loading.\n"
     ]
    },
    {
     "name": "stdout",
     "output_type": "stream",
     "text": [
      "INFO:tensorflow:Assets written to: model-03/assets\n"
     ]
    },
    {
     "name": "stderr",
     "output_type": "stream",
     "text": [
      "INFO:tensorflow:Assets written to: model-03/assets\n"
     ]
    },
    {
     "name": "stdout",
     "output_type": "stream",
     "text": [
      "156/156 [==============================] - 15s 97ms/step - loss: 12.4369 - accuracy: 0.0683 - lr: 0.0010\n",
      "Epoch 3/200\n",
      "156/156 [==============================] - ETA: 0s - loss: 12.0610 - accuracy: 0.1089\n",
      "Epoch 3: accuracy improved from 0.06826 to 0.10894, saving model to model-03\n"
     ]
    },
    {
     "name": "stderr",
     "output_type": "stream",
     "text": [
      "WARNING:absl:Found untraced functions such as _jit_compiled_convolution_op, _jit_compiled_convolution_op, _jit_compiled_convolution_op, _jit_compiled_convolution_op, _jit_compiled_convolution_op while saving (showing 5 of 16). These functions will not be directly callable after loading.\n"
     ]
    },
    {
     "name": "stdout",
     "output_type": "stream",
     "text": [
      "INFO:tensorflow:Assets written to: model-03/assets\n"
     ]
    },
    {
     "name": "stderr",
     "output_type": "stream",
     "text": [
      "INFO:tensorflow:Assets written to: model-03/assets\n"
     ]
    },
    {
     "name": "stdout",
     "output_type": "stream",
     "text": [
      "156/156 [==============================] - 15s 96ms/step - loss: 12.0610 - accuracy: 0.1089 - lr: 0.0010\n",
      "Epoch 4/200\n",
      "156/156 [==============================] - ETA: 0s - loss: 11.6243 - accuracy: 0.1959\n",
      "Epoch 4: accuracy improved from 0.10894 to 0.19593, saving model to model-03\n"
     ]
    },
    {
     "name": "stderr",
     "output_type": "stream",
     "text": [
      "WARNING:absl:Found untraced functions such as _jit_compiled_convolution_op, _jit_compiled_convolution_op, _jit_compiled_convolution_op, _jit_compiled_convolution_op, _jit_compiled_convolution_op while saving (showing 5 of 16). These functions will not be directly callable after loading.\n"
     ]
    },
    {
     "name": "stdout",
     "output_type": "stream",
     "text": [
      "INFO:tensorflow:Assets written to: model-03/assets\n"
     ]
    },
    {
     "name": "stderr",
     "output_type": "stream",
     "text": [
      "INFO:tensorflow:Assets written to: model-03/assets\n"
     ]
    },
    {
     "name": "stdout",
     "output_type": "stream",
     "text": [
      "156/156 [==============================] - 15s 97ms/step - loss: 11.6243 - accuracy: 0.1959 - lr: 0.0010\n",
      "Epoch 5/200\n",
      "156/156 [==============================] - ETA: 0s - loss: 11.2281 - accuracy: 0.2777\n",
      "Epoch 5: accuracy improved from 0.19593 to 0.27769, saving model to model-03\n"
     ]
    },
    {
     "name": "stderr",
     "output_type": "stream",
     "text": [
      "WARNING:absl:Found untraced functions such as _jit_compiled_convolution_op, _jit_compiled_convolution_op, _jit_compiled_convolution_op, _jit_compiled_convolution_op, _jit_compiled_convolution_op while saving (showing 5 of 16). These functions will not be directly callable after loading.\n"
     ]
    },
    {
     "name": "stdout",
     "output_type": "stream",
     "text": [
      "INFO:tensorflow:Assets written to: model-03/assets\n"
     ]
    },
    {
     "name": "stderr",
     "output_type": "stream",
     "text": [
      "INFO:tensorflow:Assets written to: model-03/assets\n"
     ]
    },
    {
     "name": "stdout",
     "output_type": "stream",
     "text": [
      "156/156 [==============================] - 15s 95ms/step - loss: 11.2281 - accuracy: 0.2777 - lr: 0.0010\n",
      "Epoch 6/200\n",
      "156/156 [==============================] - ETA: 0s - loss: 10.8634 - accuracy: 0.3594\n",
      "Epoch 6: accuracy improved from 0.27769 to 0.35944, saving model to model-03\n"
     ]
    },
    {
     "name": "stderr",
     "output_type": "stream",
     "text": [
      "WARNING:absl:Found untraced functions such as _jit_compiled_convolution_op, _jit_compiled_convolution_op, _jit_compiled_convolution_op, _jit_compiled_convolution_op, _jit_compiled_convolution_op while saving (showing 5 of 16). These functions will not be directly callable after loading.\n"
     ]
    },
    {
     "name": "stdout",
     "output_type": "stream",
     "text": [
      "INFO:tensorflow:Assets written to: model-03/assets\n"
     ]
    },
    {
     "name": "stderr",
     "output_type": "stream",
     "text": [
      "INFO:tensorflow:Assets written to: model-03/assets\n"
     ]
    },
    {
     "name": "stdout",
     "output_type": "stream",
     "text": [
      "156/156 [==============================] - 15s 98ms/step - loss: 10.8634 - accuracy: 0.3594 - lr: 0.0010\n",
      "Epoch 7/200\n",
      "156/156 [==============================] - ETA: 0s - loss: 10.5181 - accuracy: 0.4525\n",
      "Epoch 7: accuracy improved from 0.35944 to 0.45248, saving model to model-03\n"
     ]
    },
    {
     "name": "stderr",
     "output_type": "stream",
     "text": [
      "WARNING:absl:Found untraced functions such as _jit_compiled_convolution_op, _jit_compiled_convolution_op, _jit_compiled_convolution_op, _jit_compiled_convolution_op, _jit_compiled_convolution_op while saving (showing 5 of 16). These functions will not be directly callable after loading.\n"
     ]
    },
    {
     "name": "stdout",
     "output_type": "stream",
     "text": [
      "INFO:tensorflow:Assets written to: model-03/assets\n"
     ]
    },
    {
     "name": "stderr",
     "output_type": "stream",
     "text": [
      "INFO:tensorflow:Assets written to: model-03/assets\n"
     ]
    },
    {
     "name": "stdout",
     "output_type": "stream",
     "text": [
      "156/156 [==============================] - 15s 96ms/step - loss: 10.5181 - accuracy: 0.4525 - lr: 0.0010\n",
      "Epoch 8/200\n",
      "156/156 [==============================] - ETA: 0s - loss: 10.2323 - accuracy: 0.5167\n",
      "Epoch 8: accuracy improved from 0.45248 to 0.51671, saving model to model-03\n"
     ]
    },
    {
     "name": "stderr",
     "output_type": "stream",
     "text": [
      "WARNING:absl:Found untraced functions such as _jit_compiled_convolution_op, _jit_compiled_convolution_op, _jit_compiled_convolution_op, _jit_compiled_convolution_op, _jit_compiled_convolution_op while saving (showing 5 of 16). These functions will not be directly callable after loading.\n"
     ]
    },
    {
     "name": "stdout",
     "output_type": "stream",
     "text": [
      "INFO:tensorflow:Assets written to: model-03/assets\n"
     ]
    },
    {
     "name": "stderr",
     "output_type": "stream",
     "text": [
      "INFO:tensorflow:Assets written to: model-03/assets\n"
     ]
    },
    {
     "name": "stdout",
     "output_type": "stream",
     "text": [
      "156/156 [==============================] - 15s 98ms/step - loss: 10.2323 - accuracy: 0.5167 - lr: 0.0010\n",
      "Epoch 9/200\n",
      "156/156 [==============================] - ETA: 0s - loss: 9.9678 - accuracy: 0.5805\n",
      "Epoch 9: accuracy improved from 0.51671 to 0.58055, saving model to model-03\n"
     ]
    },
    {
     "name": "stderr",
     "output_type": "stream",
     "text": [
      "WARNING:absl:Found untraced functions such as _jit_compiled_convolution_op, _jit_compiled_convolution_op, _jit_compiled_convolution_op, _jit_compiled_convolution_op, _jit_compiled_convolution_op while saving (showing 5 of 16). These functions will not be directly callable after loading.\n"
     ]
    },
    {
     "name": "stdout",
     "output_type": "stream",
     "text": [
      "INFO:tensorflow:Assets written to: model-03/assets\n"
     ]
    },
    {
     "name": "stderr",
     "output_type": "stream",
     "text": [
      "INFO:tensorflow:Assets written to: model-03/assets\n"
     ]
    },
    {
     "name": "stdout",
     "output_type": "stream",
     "text": [
      "156/156 [==============================] - 15s 95ms/step - loss: 9.9678 - accuracy: 0.5805 - lr: 0.0010\n",
      "Epoch 10/200\n",
      "156/156 [==============================] - ETA: 0s - loss: 9.7441 - accuracy: 0.6377\n",
      "Epoch 10: accuracy improved from 0.58055 to 0.63774, saving model to model-03\n"
     ]
    },
    {
     "name": "stderr",
     "output_type": "stream",
     "text": [
      "WARNING:absl:Found untraced functions such as _jit_compiled_convolution_op, _jit_compiled_convolution_op, _jit_compiled_convolution_op, _jit_compiled_convolution_op, _jit_compiled_convolution_op while saving (showing 5 of 16). These functions will not be directly callable after loading.\n"
     ]
    },
    {
     "name": "stdout",
     "output_type": "stream",
     "text": [
      "INFO:tensorflow:Assets written to: model-03/assets\n"
     ]
    },
    {
     "name": "stderr",
     "output_type": "stream",
     "text": [
      "INFO:tensorflow:Assets written to: model-03/assets\n"
     ]
    },
    {
     "name": "stdout",
     "output_type": "stream",
     "text": [
      "156/156 [==============================] - 15s 98ms/step - loss: 9.7441 - accuracy: 0.6377 - lr: 0.0010\n",
      "Epoch 11/200\n",
      "156/156 [==============================] - ETA: 0s - loss: 9.5708 - accuracy: 0.6698\n",
      "Epoch 11: accuracy improved from 0.63774 to 0.66975, saving model to model-03\n"
     ]
    },
    {
     "name": "stderr",
     "output_type": "stream",
     "text": [
      "WARNING:absl:Found untraced functions such as _jit_compiled_convolution_op, _jit_compiled_convolution_op, _jit_compiled_convolution_op, _jit_compiled_convolution_op, _jit_compiled_convolution_op while saving (showing 5 of 16). These functions will not be directly callable after loading.\n"
     ]
    },
    {
     "name": "stdout",
     "output_type": "stream",
     "text": [
      "INFO:tensorflow:Assets written to: model-03/assets\n"
     ]
    },
    {
     "name": "stderr",
     "output_type": "stream",
     "text": [
      "INFO:tensorflow:Assets written to: model-03/assets\n"
     ]
    },
    {
     "name": "stdout",
     "output_type": "stream",
     "text": [
      "156/156 [==============================] - 15s 98ms/step - loss: 9.5708 - accuracy: 0.6698 - lr: 0.0010\n",
      "Epoch 12/200\n",
      "156/156 [==============================] - ETA: 0s - loss: 9.4097 - accuracy: 0.7052\n",
      "Epoch 12: accuracy improved from 0.66975 to 0.70520, saving model to model-03\n"
     ]
    },
    {
     "name": "stderr",
     "output_type": "stream",
     "text": [
      "WARNING:absl:Found untraced functions such as _jit_compiled_convolution_op, _jit_compiled_convolution_op, _jit_compiled_convolution_op, _jit_compiled_convolution_op, _jit_compiled_convolution_op while saving (showing 5 of 16). These functions will not be directly callable after loading.\n"
     ]
    },
    {
     "name": "stdout",
     "output_type": "stream",
     "text": [
      "INFO:tensorflow:Assets written to: model-03/assets\n"
     ]
    },
    {
     "name": "stderr",
     "output_type": "stream",
     "text": [
      "INFO:tensorflow:Assets written to: model-03/assets\n"
     ]
    },
    {
     "name": "stdout",
     "output_type": "stream",
     "text": [
      "156/156 [==============================] - 15s 95ms/step - loss: 9.4097 - accuracy: 0.7052 - lr: 0.0010\n",
      "Epoch 13/200\n",
      "156/156 [==============================] - ETA: 0s - loss: 9.2817 - accuracy: 0.7271\n",
      "Epoch 13: accuracy improved from 0.70520 to 0.72714, saving model to model-03\n"
     ]
    },
    {
     "name": "stderr",
     "output_type": "stream",
     "text": [
      "WARNING:absl:Found untraced functions such as _jit_compiled_convolution_op, _jit_compiled_convolution_op, _jit_compiled_convolution_op, _jit_compiled_convolution_op, _jit_compiled_convolution_op while saving (showing 5 of 16). These functions will not be directly callable after loading.\n"
     ]
    },
    {
     "name": "stdout",
     "output_type": "stream",
     "text": [
      "INFO:tensorflow:Assets written to: model-03/assets\n"
     ]
    },
    {
     "name": "stderr",
     "output_type": "stream",
     "text": [
      "INFO:tensorflow:Assets written to: model-03/assets\n"
     ]
    },
    {
     "name": "stdout",
     "output_type": "stream",
     "text": [
      "156/156 [==============================] - 15s 97ms/step - loss: 9.2817 - accuracy: 0.7271 - lr: 0.0010\n",
      "Epoch 14/200\n",
      "156/156 [==============================] - ETA: 0s - loss: 9.1543 - accuracy: 0.7483\n",
      "Epoch 14: accuracy improved from 0.72714 to 0.74829, saving model to model-03\n"
     ]
    },
    {
     "name": "stderr",
     "output_type": "stream",
     "text": [
      "WARNING:absl:Found untraced functions such as _jit_compiled_convolution_op, _jit_compiled_convolution_op, _jit_compiled_convolution_op, _jit_compiled_convolution_op, _jit_compiled_convolution_op while saving (showing 5 of 16). These functions will not be directly callable after loading.\n"
     ]
    },
    {
     "name": "stdout",
     "output_type": "stream",
     "text": [
      "INFO:tensorflow:Assets written to: model-03/assets\n"
     ]
    },
    {
     "name": "stderr",
     "output_type": "stream",
     "text": [
      "INFO:tensorflow:Assets written to: model-03/assets\n"
     ]
    },
    {
     "name": "stdout",
     "output_type": "stream",
     "text": [
      "156/156 [==============================] - 15s 95ms/step - loss: 9.1543 - accuracy: 0.7483 - lr: 0.0010\n",
      "Epoch 15/200\n",
      "156/156 [==============================] - ETA: 0s - loss: 9.0616 - accuracy: 0.7624\n",
      "Epoch 15: accuracy improved from 0.74829 to 0.76238, saving model to model-03\n"
     ]
    },
    {
     "name": "stderr",
     "output_type": "stream",
     "text": [
      "WARNING:absl:Found untraced functions such as _jit_compiled_convolution_op, _jit_compiled_convolution_op, _jit_compiled_convolution_op, _jit_compiled_convolution_op, _jit_compiled_convolution_op while saving (showing 5 of 16). These functions will not be directly callable after loading.\n"
     ]
    },
    {
     "name": "stdout",
     "output_type": "stream",
     "text": [
      "INFO:tensorflow:Assets written to: model-03/assets\n"
     ]
    },
    {
     "name": "stderr",
     "output_type": "stream",
     "text": [
      "INFO:tensorflow:Assets written to: model-03/assets\n"
     ]
    },
    {
     "name": "stdout",
     "output_type": "stream",
     "text": [
      "156/156 [==============================] - 15s 98ms/step - loss: 9.0616 - accuracy: 0.7624 - lr: 0.0010\n",
      "Epoch 16/200\n",
      "156/156 [==============================] - ETA: 0s - loss: 8.9534 - accuracy: 0.7823\n",
      "Epoch 16: accuracy improved from 0.76238 to 0.78232, saving model to model-03\n"
     ]
    },
    {
     "name": "stderr",
     "output_type": "stream",
     "text": [
      "WARNING:absl:Found untraced functions such as _jit_compiled_convolution_op, _jit_compiled_convolution_op, _jit_compiled_convolution_op, _jit_compiled_convolution_op, _jit_compiled_convolution_op while saving (showing 5 of 16). These functions will not be directly callable after loading.\n"
     ]
    },
    {
     "name": "stdout",
     "output_type": "stream",
     "text": [
      "INFO:tensorflow:Assets written to: model-03/assets\n"
     ]
    },
    {
     "name": "stderr",
     "output_type": "stream",
     "text": [
      "INFO:tensorflow:Assets written to: model-03/assets\n"
     ]
    },
    {
     "name": "stdout",
     "output_type": "stream",
     "text": [
      "156/156 [==============================] - 15s 95ms/step - loss: 8.9534 - accuracy: 0.7823 - lr: 0.0010\n",
      "Epoch 17/200\n",
      "156/156 [==============================] - ETA: 0s - loss: 8.8494 - accuracy: 0.8063\n",
      "Epoch 17: accuracy improved from 0.78232 to 0.80628, saving model to model-03\n"
     ]
    },
    {
     "name": "stderr",
     "output_type": "stream",
     "text": [
      "WARNING:absl:Found untraced functions such as _jit_compiled_convolution_op, _jit_compiled_convolution_op, _jit_compiled_convolution_op, _jit_compiled_convolution_op, _jit_compiled_convolution_op while saving (showing 5 of 16). These functions will not be directly callable after loading.\n"
     ]
    },
    {
     "name": "stdout",
     "output_type": "stream",
     "text": [
      "INFO:tensorflow:Assets written to: model-03/assets\n"
     ]
    },
    {
     "name": "stderr",
     "output_type": "stream",
     "text": [
      "INFO:tensorflow:Assets written to: model-03/assets\n"
     ]
    },
    {
     "name": "stdout",
     "output_type": "stream",
     "text": [
      "156/156 [==============================] - 15s 96ms/step - loss: 8.8494 - accuracy: 0.8063 - lr: 0.0010\n",
      "Epoch 18/200\n",
      "156/156 [==============================] - ETA: 0s - loss: 8.7654 - accuracy: 0.8097\n",
      "Epoch 18: accuracy improved from 0.80628 to 0.80971, saving model to model-03\n"
     ]
    },
    {
     "name": "stderr",
     "output_type": "stream",
     "text": [
      "WARNING:absl:Found untraced functions such as _jit_compiled_convolution_op, _jit_compiled_convolution_op, _jit_compiled_convolution_op, _jit_compiled_convolution_op, _jit_compiled_convolution_op while saving (showing 5 of 16). These functions will not be directly callable after loading.\n"
     ]
    },
    {
     "name": "stdout",
     "output_type": "stream",
     "text": [
      "INFO:tensorflow:Assets written to: model-03/assets\n"
     ]
    },
    {
     "name": "stderr",
     "output_type": "stream",
     "text": [
      "INFO:tensorflow:Assets written to: model-03/assets\n"
     ]
    },
    {
     "name": "stdout",
     "output_type": "stream",
     "text": [
      "156/156 [==============================] - 15s 95ms/step - loss: 8.7654 - accuracy: 0.8097 - lr: 0.0010\n",
      "Epoch 19/200\n",
      "156/156 [==============================] - ETA: 0s - loss: 8.6832 - accuracy: 0.8186\n",
      "Epoch 19: accuracy improved from 0.80971 to 0.81857, saving model to model-03\n"
     ]
    },
    {
     "name": "stderr",
     "output_type": "stream",
     "text": [
      "WARNING:absl:Found untraced functions such as _jit_compiled_convolution_op, _jit_compiled_convolution_op, _jit_compiled_convolution_op, _jit_compiled_convolution_op, _jit_compiled_convolution_op while saving (showing 5 of 16). These functions will not be directly callable after loading.\n"
     ]
    },
    {
     "name": "stdout",
     "output_type": "stream",
     "text": [
      "INFO:tensorflow:Assets written to: model-03/assets\n"
     ]
    },
    {
     "name": "stderr",
     "output_type": "stream",
     "text": [
      "INFO:tensorflow:Assets written to: model-03/assets\n"
     ]
    },
    {
     "name": "stdout",
     "output_type": "stream",
     "text": [
      "156/156 [==============================] - 15s 98ms/step - loss: 8.6832 - accuracy: 0.8186 - lr: 0.0010\n",
      "Epoch 20/200\n",
      "156/156 [==============================] - ETA: 0s - loss: 8.6070 - accuracy: 0.8276\n",
      "Epoch 20: accuracy improved from 0.81857 to 0.82763, saving model to model-03\n"
     ]
    },
    {
     "name": "stderr",
     "output_type": "stream",
     "text": [
      "WARNING:absl:Found untraced functions such as _jit_compiled_convolution_op, _jit_compiled_convolution_op, _jit_compiled_convolution_op, _jit_compiled_convolution_op, _jit_compiled_convolution_op while saving (showing 5 of 16). These functions will not be directly callable after loading.\n"
     ]
    },
    {
     "name": "stdout",
     "output_type": "stream",
     "text": [
      "INFO:tensorflow:Assets written to: model-03/assets\n"
     ]
    },
    {
     "name": "stderr",
     "output_type": "stream",
     "text": [
      "INFO:tensorflow:Assets written to: model-03/assets\n"
     ]
    },
    {
     "name": "stdout",
     "output_type": "stream",
     "text": [
      "156/156 [==============================] - 15s 96ms/step - loss: 8.6070 - accuracy: 0.8276 - lr: 0.0010\n",
      "Epoch 21/200\n",
      "156/156 [==============================] - ETA: 0s - loss: 8.5258 - accuracy: 0.8421\n",
      "Epoch 21: accuracy improved from 0.82763 to 0.84213, saving model to model-03\n"
     ]
    },
    {
     "name": "stderr",
     "output_type": "stream",
     "text": [
      "WARNING:absl:Found untraced functions such as _jit_compiled_convolution_op, _jit_compiled_convolution_op, _jit_compiled_convolution_op, _jit_compiled_convolution_op, _jit_compiled_convolution_op while saving (showing 5 of 16). These functions will not be directly callable after loading.\n"
     ]
    },
    {
     "name": "stdout",
     "output_type": "stream",
     "text": [
      "INFO:tensorflow:Assets written to: model-03/assets\n"
     ]
    },
    {
     "name": "stderr",
     "output_type": "stream",
     "text": [
      "INFO:tensorflow:Assets written to: model-03/assets\n"
     ]
    },
    {
     "name": "stdout",
     "output_type": "stream",
     "text": [
      "156/156 [==============================] - 15s 96ms/step - loss: 8.5258 - accuracy: 0.8421 - lr: 0.0010\n",
      "Epoch 22/200\n",
      "156/156 [==============================] - ETA: 0s - loss: 8.4756 - accuracy: 0.8441\n",
      "Epoch 22: accuracy improved from 0.84213 to 0.84414, saving model to model-03\n"
     ]
    },
    {
     "name": "stderr",
     "output_type": "stream",
     "text": [
      "WARNING:absl:Found untraced functions such as _jit_compiled_convolution_op, _jit_compiled_convolution_op, _jit_compiled_convolution_op, _jit_compiled_convolution_op, _jit_compiled_convolution_op while saving (showing 5 of 16). These functions will not be directly callable after loading.\n"
     ]
    },
    {
     "name": "stdout",
     "output_type": "stream",
     "text": [
      "INFO:tensorflow:Assets written to: model-03/assets\n"
     ]
    },
    {
     "name": "stderr",
     "output_type": "stream",
     "text": [
      "INFO:tensorflow:Assets written to: model-03/assets\n"
     ]
    },
    {
     "name": "stdout",
     "output_type": "stream",
     "text": [
      "156/156 [==============================] - 15s 97ms/step - loss: 8.4756 - accuracy: 0.8441 - lr: 0.0010\n",
      "Epoch 23/200\n",
      "156/156 [==============================] - ETA: 0s - loss: 8.3944 - accuracy: 0.8468\n",
      "Epoch 23: accuracy improved from 0.84414 to 0.84676, saving model to model-03\n"
     ]
    },
    {
     "name": "stderr",
     "output_type": "stream",
     "text": [
      "WARNING:absl:Found untraced functions such as _jit_compiled_convolution_op, _jit_compiled_convolution_op, _jit_compiled_convolution_op, _jit_compiled_convolution_op, _jit_compiled_convolution_op while saving (showing 5 of 16). These functions will not be directly callable after loading.\n"
     ]
    },
    {
     "name": "stdout",
     "output_type": "stream",
     "text": [
      "INFO:tensorflow:Assets written to: model-03/assets\n"
     ]
    },
    {
     "name": "stderr",
     "output_type": "stream",
     "text": [
      "INFO:tensorflow:Assets written to: model-03/assets\n"
     ]
    },
    {
     "name": "stdout",
     "output_type": "stream",
     "text": [
      "156/156 [==============================] - 15s 96ms/step - loss: 8.3944 - accuracy: 0.8468 - lr: 0.0010\n",
      "Epoch 24/200\n",
      "156/156 [==============================] - ETA: 0s - loss: 8.3307 - accuracy: 0.8526\n",
      "Epoch 24: accuracy improved from 0.84676 to 0.85260, saving model to model-03\n"
     ]
    },
    {
     "name": "stderr",
     "output_type": "stream",
     "text": [
      "WARNING:absl:Found untraced functions such as _jit_compiled_convolution_op, _jit_compiled_convolution_op, _jit_compiled_convolution_op, _jit_compiled_convolution_op, _jit_compiled_convolution_op while saving (showing 5 of 16). These functions will not be directly callable after loading.\n"
     ]
    },
    {
     "name": "stdout",
     "output_type": "stream",
     "text": [
      "INFO:tensorflow:Assets written to: model-03/assets\n"
     ]
    },
    {
     "name": "stderr",
     "output_type": "stream",
     "text": [
      "INFO:tensorflow:Assets written to: model-03/assets\n"
     ]
    },
    {
     "name": "stdout",
     "output_type": "stream",
     "text": [
      "156/156 [==============================] - 15s 97ms/step - loss: 8.3307 - accuracy: 0.8526 - lr: 0.0010\n",
      "Epoch 25/200\n",
      "156/156 [==============================] - ETA: 0s - loss: 8.2371 - accuracy: 0.8647\n",
      "Epoch 25: accuracy improved from 0.85260 to 0.86468, saving model to model-03\n"
     ]
    },
    {
     "name": "stderr",
     "output_type": "stream",
     "text": [
      "WARNING:absl:Found untraced functions such as _jit_compiled_convolution_op, _jit_compiled_convolution_op, _jit_compiled_convolution_op, _jit_compiled_convolution_op, _jit_compiled_convolution_op while saving (showing 5 of 16). These functions will not be directly callable after loading.\n"
     ]
    },
    {
     "name": "stdout",
     "output_type": "stream",
     "text": [
      "INFO:tensorflow:Assets written to: model-03/assets\n"
     ]
    },
    {
     "name": "stderr",
     "output_type": "stream",
     "text": [
      "INFO:tensorflow:Assets written to: model-03/assets\n"
     ]
    },
    {
     "name": "stdout",
     "output_type": "stream",
     "text": [
      "156/156 [==============================] - 15s 95ms/step - loss: 8.2371 - accuracy: 0.8647 - lr: 0.0010\n",
      "Epoch 26/200\n",
      "156/156 [==============================] - ETA: 0s - loss: 8.2041 - accuracy: 0.8598\n",
      "Epoch 26: accuracy did not improve from 0.86468\n",
      "156/156 [==============================] - 10s 62ms/step - loss: 8.2041 - accuracy: 0.8598 - lr: 0.0010\n",
      "Epoch 27/200\n",
      "156/156 [==============================] - ETA: 0s - loss: 8.1354 - accuracy: 0.8689\n",
      "Epoch 27: accuracy improved from 0.86468 to 0.86891, saving model to model-03\n"
     ]
    },
    {
     "name": "stderr",
     "output_type": "stream",
     "text": [
      "WARNING:absl:Found untraced functions such as _jit_compiled_convolution_op, _jit_compiled_convolution_op, _jit_compiled_convolution_op, _jit_compiled_convolution_op, _jit_compiled_convolution_op while saving (showing 5 of 16). These functions will not be directly callable after loading.\n"
     ]
    },
    {
     "name": "stdout",
     "output_type": "stream",
     "text": [
      "INFO:tensorflow:Assets written to: model-03/assets\n"
     ]
    },
    {
     "name": "stderr",
     "output_type": "stream",
     "text": [
      "INFO:tensorflow:Assets written to: model-03/assets\n"
     ]
    },
    {
     "name": "stdout",
     "output_type": "stream",
     "text": [
      "156/156 [==============================] - 15s 98ms/step - loss: 8.1354 - accuracy: 0.8689 - lr: 0.0010\n",
      "Epoch 28/200\n",
      "156/156 [==============================] - ETA: 0s - loss: 8.0662 - accuracy: 0.8786\n",
      "Epoch 28: accuracy improved from 0.86891 to 0.87857, saving model to model-03\n"
     ]
    },
    {
     "name": "stderr",
     "output_type": "stream",
     "text": [
      "WARNING:absl:Found untraced functions such as _jit_compiled_convolution_op, _jit_compiled_convolution_op, _jit_compiled_convolution_op, _jit_compiled_convolution_op, _jit_compiled_convolution_op while saving (showing 5 of 16). These functions will not be directly callable after loading.\n"
     ]
    },
    {
     "name": "stdout",
     "output_type": "stream",
     "text": [
      "INFO:tensorflow:Assets written to: model-03/assets\n"
     ]
    },
    {
     "name": "stderr",
     "output_type": "stream",
     "text": [
      "INFO:tensorflow:Assets written to: model-03/assets\n"
     ]
    },
    {
     "name": "stdout",
     "output_type": "stream",
     "text": [
      "156/156 [==============================] - 15s 96ms/step - loss: 8.0662 - accuracy: 0.8786 - lr: 0.0010\n",
      "Epoch 29/200\n",
      "156/156 [==============================] - ETA: 0s - loss: 7.9958 - accuracy: 0.8808\n",
      "Epoch 29: accuracy improved from 0.87857 to 0.88079, saving model to model-03\n"
     ]
    },
    {
     "name": "stderr",
     "output_type": "stream",
     "text": [
      "WARNING:absl:Found untraced functions such as _jit_compiled_convolution_op, _jit_compiled_convolution_op, _jit_compiled_convolution_op, _jit_compiled_convolution_op, _jit_compiled_convolution_op while saving (showing 5 of 16). These functions will not be directly callable after loading.\n"
     ]
    },
    {
     "name": "stdout",
     "output_type": "stream",
     "text": [
      "INFO:tensorflow:Assets written to: model-03/assets\n"
     ]
    },
    {
     "name": "stderr",
     "output_type": "stream",
     "text": [
      "INFO:tensorflow:Assets written to: model-03/assets\n"
     ]
    },
    {
     "name": "stdout",
     "output_type": "stream",
     "text": [
      "156/156 [==============================] - 15s 97ms/step - loss: 7.9958 - accuracy: 0.8808 - lr: 0.0010\n",
      "Epoch 30/200\n",
      "156/156 [==============================] - ETA: 0s - loss: 7.9295 - accuracy: 0.8894\n",
      "Epoch 30: accuracy improved from 0.88079 to 0.88945, saving model to model-03\n"
     ]
    },
    {
     "name": "stderr",
     "output_type": "stream",
     "text": [
      "WARNING:absl:Found untraced functions such as _jit_compiled_convolution_op, _jit_compiled_convolution_op, _jit_compiled_convolution_op, _jit_compiled_convolution_op, _jit_compiled_convolution_op while saving (showing 5 of 16). These functions will not be directly callable after loading.\n"
     ]
    },
    {
     "name": "stdout",
     "output_type": "stream",
     "text": [
      "INFO:tensorflow:Assets written to: model-03/assets\n"
     ]
    },
    {
     "name": "stderr",
     "output_type": "stream",
     "text": [
      "INFO:tensorflow:Assets written to: model-03/assets\n"
     ]
    },
    {
     "name": "stdout",
     "output_type": "stream",
     "text": [
      "156/156 [==============================] - 15s 96ms/step - loss: 7.9295 - accuracy: 0.8894 - lr: 0.0010\n",
      "Epoch 31/200\n",
      "156/156 [==============================] - ETA: 0s - loss: 7.8911 - accuracy: 0.8870\n",
      "Epoch 31: accuracy did not improve from 0.88945\n",
      "156/156 [==============================] - 10s 63ms/step - loss: 7.8911 - accuracy: 0.8870 - lr: 0.0010\n",
      "Epoch 32/200\n",
      "156/156 [==============================] - ETA: 0s - loss: 7.8312 - accuracy: 0.8907\n",
      "Epoch 32: accuracy improved from 0.88945 to 0.89066, saving model to model-03\n"
     ]
    },
    {
     "name": "stderr",
     "output_type": "stream",
     "text": [
      "WARNING:absl:Found untraced functions such as _jit_compiled_convolution_op, _jit_compiled_convolution_op, _jit_compiled_convolution_op, _jit_compiled_convolution_op, _jit_compiled_convolution_op while saving (showing 5 of 16). These functions will not be directly callable after loading.\n"
     ]
    },
    {
     "name": "stdout",
     "output_type": "stream",
     "text": [
      "INFO:tensorflow:Assets written to: model-03/assets\n"
     ]
    },
    {
     "name": "stderr",
     "output_type": "stream",
     "text": [
      "INFO:tensorflow:Assets written to: model-03/assets\n"
     ]
    },
    {
     "name": "stdout",
     "output_type": "stream",
     "text": [
      "156/156 [==============================] - 15s 95ms/step - loss: 7.8312 - accuracy: 0.8907 - lr: 0.0010\n",
      "Epoch 33/200\n",
      "156/156 [==============================] - ETA: 0s - loss: 7.7773 - accuracy: 0.8951\n",
      "Epoch 33: accuracy improved from 0.89066 to 0.89509, saving model to model-03\n"
     ]
    },
    {
     "name": "stderr",
     "output_type": "stream",
     "text": [
      "WARNING:absl:Found untraced functions such as _jit_compiled_convolution_op, _jit_compiled_convolution_op, _jit_compiled_convolution_op, _jit_compiled_convolution_op, _jit_compiled_convolution_op while saving (showing 5 of 16). These functions will not be directly callable after loading.\n"
     ]
    },
    {
     "name": "stdout",
     "output_type": "stream",
     "text": [
      "INFO:tensorflow:Assets written to: model-03/assets\n"
     ]
    },
    {
     "name": "stderr",
     "output_type": "stream",
     "text": [
      "INFO:tensorflow:Assets written to: model-03/assets\n"
     ]
    },
    {
     "name": "stdout",
     "output_type": "stream",
     "text": [
      "156/156 [==============================] - 15s 97ms/step - loss: 7.7773 - accuracy: 0.8951 - lr: 0.0010\n",
      "Epoch 34/200\n",
      "156/156 [==============================] - ETA: 0s - loss: 7.7107 - accuracy: 0.9023\n",
      "Epoch 34: accuracy improved from 0.89509 to 0.90234, saving model to model-03\n"
     ]
    },
    {
     "name": "stderr",
     "output_type": "stream",
     "text": [
      "WARNING:absl:Found untraced functions such as _jit_compiled_convolution_op, _jit_compiled_convolution_op, _jit_compiled_convolution_op, _jit_compiled_convolution_op, _jit_compiled_convolution_op while saving (showing 5 of 16). These functions will not be directly callable after loading.\n"
     ]
    },
    {
     "name": "stdout",
     "output_type": "stream",
     "text": [
      "INFO:tensorflow:Assets written to: model-03/assets\n"
     ]
    },
    {
     "name": "stderr",
     "output_type": "stream",
     "text": [
      "INFO:tensorflow:Assets written to: model-03/assets\n"
     ]
    },
    {
     "name": "stdout",
     "output_type": "stream",
     "text": [
      "156/156 [==============================] - 15s 95ms/step - loss: 7.7107 - accuracy: 0.9023 - lr: 0.0010\n",
      "Epoch 35/200\n",
      "156/156 [==============================] - ETA: 0s - loss: 7.6691 - accuracy: 0.8947\n",
      "Epoch 35: accuracy did not improve from 0.90234\n",
      "156/156 [==============================] - 10s 63ms/step - loss: 7.6691 - accuracy: 0.8947 - lr: 0.0010\n",
      "Epoch 36/200\n",
      "156/156 [==============================] - ETA: 0s - loss: 7.6031 - accuracy: 0.9068\n",
      "Epoch 36: accuracy improved from 0.90234 to 0.90677, saving model to model-03\n"
     ]
    },
    {
     "name": "stderr",
     "output_type": "stream",
     "text": [
      "WARNING:absl:Found untraced functions such as _jit_compiled_convolution_op, _jit_compiled_convolution_op, _jit_compiled_convolution_op, _jit_compiled_convolution_op, _jit_compiled_convolution_op while saving (showing 5 of 16). These functions will not be directly callable after loading.\n"
     ]
    },
    {
     "name": "stdout",
     "output_type": "stream",
     "text": [
      "INFO:tensorflow:Assets written to: model-03/assets\n"
     ]
    },
    {
     "name": "stderr",
     "output_type": "stream",
     "text": [
      "INFO:tensorflow:Assets written to: model-03/assets\n"
     ]
    },
    {
     "name": "stdout",
     "output_type": "stream",
     "text": [
      "156/156 [==============================] - 15s 97ms/step - loss: 7.6031 - accuracy: 0.9068 - lr: 0.0010\n",
      "Epoch 37/200\n",
      "156/156 [==============================] - ETA: 0s - loss: 7.5592 - accuracy: 0.9064\n",
      "Epoch 37: accuracy did not improve from 0.90677\n",
      "156/156 [==============================] - 10s 63ms/step - loss: 7.5592 - accuracy: 0.9064 - lr: 0.0010\n",
      "Epoch 38/200\n",
      "156/156 [==============================] - ETA: 0s - loss: 7.5046 - accuracy: 0.9090\n",
      "Epoch 38: accuracy improved from 0.90677 to 0.90898, saving model to model-03\n"
     ]
    },
    {
     "name": "stderr",
     "output_type": "stream",
     "text": [
      "WARNING:absl:Found untraced functions such as _jit_compiled_convolution_op, _jit_compiled_convolution_op, _jit_compiled_convolution_op, _jit_compiled_convolution_op, _jit_compiled_convolution_op while saving (showing 5 of 16). These functions will not be directly callable after loading.\n"
     ]
    },
    {
     "name": "stdout",
     "output_type": "stream",
     "text": [
      "INFO:tensorflow:Assets written to: model-03/assets\n"
     ]
    },
    {
     "name": "stderr",
     "output_type": "stream",
     "text": [
      "INFO:tensorflow:Assets written to: model-03/assets\n"
     ]
    },
    {
     "name": "stdout",
     "output_type": "stream",
     "text": [
      "156/156 [==============================] - 15s 94ms/step - loss: 7.5046 - accuracy: 0.9090 - lr: 0.0010\n",
      "Epoch 39/200\n",
      "156/156 [==============================] - ETA: 0s - loss: 7.4606 - accuracy: 0.9080\n",
      "Epoch 39: accuracy did not improve from 0.90898\n",
      "156/156 [==============================] - 10s 63ms/step - loss: 7.4606 - accuracy: 0.9080 - lr: 0.0010\n",
      "Epoch 40/200\n",
      "156/156 [==============================] - ETA: 0s - loss: 7.4007 - accuracy: 0.9080\n",
      "Epoch 40: accuracy did not improve from 0.90898\n",
      "156/156 [==============================] - 10s 63ms/step - loss: 7.4007 - accuracy: 0.9080 - lr: 0.0010\n",
      "Epoch 41/200\n",
      "156/156 [==============================] - ETA: 0s - loss: 7.3453 - accuracy: 0.9174\n",
      "Epoch 41: accuracy improved from 0.90898 to 0.91744, saving model to model-03\n"
     ]
    },
    {
     "name": "stderr",
     "output_type": "stream",
     "text": [
      "WARNING:absl:Found untraced functions such as _jit_compiled_convolution_op, _jit_compiled_convolution_op, _jit_compiled_convolution_op, _jit_compiled_convolution_op, _jit_compiled_convolution_op while saving (showing 5 of 16). These functions will not be directly callable after loading.\n"
     ]
    },
    {
     "name": "stdout",
     "output_type": "stream",
     "text": [
      "INFO:tensorflow:Assets written to: model-03/assets\n"
     ]
    },
    {
     "name": "stderr",
     "output_type": "stream",
     "text": [
      "INFO:tensorflow:Assets written to: model-03/assets\n"
     ]
    },
    {
     "name": "stdout",
     "output_type": "stream",
     "text": [
      "156/156 [==============================] - 15s 98ms/step - loss: 7.3453 - accuracy: 0.9174 - lr: 0.0010\n",
      "Epoch 42/200\n",
      "156/156 [==============================] - ETA: 0s - loss: 7.3050 - accuracy: 0.9150\n",
      "Epoch 42: accuracy did not improve from 0.91744\n",
      "156/156 [==============================] - 10s 66ms/step - loss: 7.3050 - accuracy: 0.9150 - lr: 0.0010\n",
      "Epoch 43/200\n",
      "156/156 [==============================] - ETA: 0s - loss: 7.2436 - accuracy: 0.9184\n",
      "Epoch 43: accuracy improved from 0.91744 to 0.91845, saving model to model-03\n"
     ]
    },
    {
     "name": "stderr",
     "output_type": "stream",
     "text": [
      "WARNING:absl:Found untraced functions such as _jit_compiled_convolution_op, _jit_compiled_convolution_op, _jit_compiled_convolution_op, _jit_compiled_convolution_op, _jit_compiled_convolution_op while saving (showing 5 of 16). These functions will not be directly callable after loading.\n"
     ]
    },
    {
     "name": "stdout",
     "output_type": "stream",
     "text": [
      "INFO:tensorflow:Assets written to: model-03/assets\n"
     ]
    },
    {
     "name": "stderr",
     "output_type": "stream",
     "text": [
      "INFO:tensorflow:Assets written to: model-03/assets\n"
     ]
    },
    {
     "name": "stdout",
     "output_type": "stream",
     "text": [
      "156/156 [==============================] - 15s 96ms/step - loss: 7.2436 - accuracy: 0.9184 - lr: 0.0010\n",
      "Epoch 44/200\n",
      "156/156 [==============================] - ETA: 0s - loss: 7.1966 - accuracy: 0.9197\n",
      "Epoch 44: accuracy improved from 0.91845 to 0.91965, saving model to model-03\n"
     ]
    },
    {
     "name": "stderr",
     "output_type": "stream",
     "text": [
      "WARNING:absl:Found untraced functions such as _jit_compiled_convolution_op, _jit_compiled_convolution_op, _jit_compiled_convolution_op, _jit_compiled_convolution_op, _jit_compiled_convolution_op while saving (showing 5 of 16). These functions will not be directly callable after loading.\n"
     ]
    },
    {
     "name": "stdout",
     "output_type": "stream",
     "text": [
      "INFO:tensorflow:Assets written to: model-03/assets\n"
     ]
    },
    {
     "name": "stderr",
     "output_type": "stream",
     "text": [
      "INFO:tensorflow:Assets written to: model-03/assets\n"
     ]
    },
    {
     "name": "stdout",
     "output_type": "stream",
     "text": [
      "156/156 [==============================] - 15s 98ms/step - loss: 7.1966 - accuracy: 0.9197 - lr: 0.0010\n",
      "Epoch 45/200\n",
      "156/156 [==============================] - ETA: 0s - loss: 7.1503 - accuracy: 0.9265\n",
      "Epoch 45: accuracy improved from 0.91965 to 0.92650, saving model to model-03\n"
     ]
    },
    {
     "name": "stderr",
     "output_type": "stream",
     "text": [
      "WARNING:absl:Found untraced functions such as _jit_compiled_convolution_op, _jit_compiled_convolution_op, _jit_compiled_convolution_op, _jit_compiled_convolution_op, _jit_compiled_convolution_op while saving (showing 5 of 16). These functions will not be directly callable after loading.\n"
     ]
    },
    {
     "name": "stdout",
     "output_type": "stream",
     "text": [
      "INFO:tensorflow:Assets written to: model-03/assets\n"
     ]
    },
    {
     "name": "stderr",
     "output_type": "stream",
     "text": [
      "INFO:tensorflow:Assets written to: model-03/assets\n"
     ]
    },
    {
     "name": "stdout",
     "output_type": "stream",
     "text": [
      "156/156 [==============================] - 15s 97ms/step - loss: 7.1503 - accuracy: 0.9265 - lr: 0.0010\n",
      "Epoch 46/200\n",
      "156/156 [==============================] - ETA: 0s - loss: 7.0940 - accuracy: 0.9237\n",
      "Epoch 46: accuracy did not improve from 0.92650\n",
      "156/156 [==============================] - 10s 62ms/step - loss: 7.0940 - accuracy: 0.9237 - lr: 0.0010\n",
      "Epoch 47/200\n",
      "156/156 [==============================] - ETA: 0s - loss: 7.0535 - accuracy: 0.9267\n",
      "Epoch 47: accuracy improved from 0.92650 to 0.92670, saving model to model-03\n"
     ]
    },
    {
     "name": "stderr",
     "output_type": "stream",
     "text": [
      "WARNING:absl:Found untraced functions such as _jit_compiled_convolution_op, _jit_compiled_convolution_op, _jit_compiled_convolution_op, _jit_compiled_convolution_op, _jit_compiled_convolution_op while saving (showing 5 of 16). These functions will not be directly callable after loading.\n"
     ]
    },
    {
     "name": "stdout",
     "output_type": "stream",
     "text": [
      "INFO:tensorflow:Assets written to: model-03/assets\n"
     ]
    },
    {
     "name": "stderr",
     "output_type": "stream",
     "text": [
      "INFO:tensorflow:Assets written to: model-03/assets\n"
     ]
    },
    {
     "name": "stdout",
     "output_type": "stream",
     "text": [
      "156/156 [==============================] - 15s 94ms/step - loss: 7.0535 - accuracy: 0.9267 - lr: 0.0010\n",
      "Epoch 48/200\n",
      "156/156 [==============================] - ETA: 0s - loss: 7.0242 - accuracy: 0.9195\n",
      "Epoch 48: accuracy did not improve from 0.92670\n",
      "156/156 [==============================] - 10s 63ms/step - loss: 7.0242 - accuracy: 0.9195 - lr: 0.0010\n",
      "Epoch 49/200\n",
      "156/156 [==============================] - ETA: 0s - loss: 6.9651 - accuracy: 0.9305\n",
      "Epoch 49: accuracy improved from 0.92670 to 0.93053, saving model to model-03\n"
     ]
    },
    {
     "name": "stderr",
     "output_type": "stream",
     "text": [
      "WARNING:absl:Found untraced functions such as _jit_compiled_convolution_op, _jit_compiled_convolution_op, _jit_compiled_convolution_op, _jit_compiled_convolution_op, _jit_compiled_convolution_op while saving (showing 5 of 16). These functions will not be directly callable after loading.\n"
     ]
    },
    {
     "name": "stdout",
     "output_type": "stream",
     "text": [
      "INFO:tensorflow:Assets written to: model-03/assets\n"
     ]
    },
    {
     "name": "stderr",
     "output_type": "stream",
     "text": [
      "INFO:tensorflow:Assets written to: model-03/assets\n"
     ]
    },
    {
     "name": "stdout",
     "output_type": "stream",
     "text": [
      "156/156 [==============================] - 15s 98ms/step - loss: 6.9651 - accuracy: 0.9305 - lr: 0.0010\n",
      "Epoch 50/200\n",
      "156/156 [==============================] - ETA: 0s - loss: 6.9186 - accuracy: 0.9241\n",
      "Epoch 50: accuracy did not improve from 0.93053\n",
      "156/156 [==============================] - 10s 63ms/step - loss: 6.9186 - accuracy: 0.9241 - lr: 0.0010\n",
      "Epoch 51/200\n",
      "156/156 [==============================] - ETA: 0s - loss: 6.8554 - accuracy: 0.9406\n",
      "Epoch 51: accuracy improved from 0.93053 to 0.94060, saving model to model-03\n"
     ]
    },
    {
     "name": "stderr",
     "output_type": "stream",
     "text": [
      "WARNING:absl:Found untraced functions such as _jit_compiled_convolution_op, _jit_compiled_convolution_op, _jit_compiled_convolution_op, _jit_compiled_convolution_op, _jit_compiled_convolution_op while saving (showing 5 of 16). These functions will not be directly callable after loading.\n"
     ]
    },
    {
     "name": "stdout",
     "output_type": "stream",
     "text": [
      "INFO:tensorflow:Assets written to: model-03/assets\n"
     ]
    },
    {
     "name": "stderr",
     "output_type": "stream",
     "text": [
      "INFO:tensorflow:Assets written to: model-03/assets\n"
     ]
    },
    {
     "name": "stdout",
     "output_type": "stream",
     "text": [
      "156/156 [==============================] - 15s 96ms/step - loss: 6.8554 - accuracy: 0.9406 - lr: 0.0010\n",
      "Epoch 52/200\n",
      "156/156 [==============================] - ETA: 0s - loss: 6.8220 - accuracy: 0.9380\n",
      "Epoch 52: accuracy did not improve from 0.94060\n",
      "156/156 [==============================] - 10s 64ms/step - loss: 6.8220 - accuracy: 0.9380 - lr: 0.0010\n",
      "Epoch 53/200\n",
      "156/156 [==============================] - ETA: 0s - loss: 6.7830 - accuracy: 0.9331\n",
      "Epoch 53: accuracy did not improve from 0.94060\n",
      "156/156 [==============================] - 10s 64ms/step - loss: 6.7830 - accuracy: 0.9331 - lr: 0.0010\n",
      "Epoch 54/200\n",
      "156/156 [==============================] - ETA: 0s - loss: 6.7484 - accuracy: 0.9342\n",
      "Epoch 54: accuracy did not improve from 0.94060\n",
      "156/156 [==============================] - 10s 64ms/step - loss: 6.7484 - accuracy: 0.9342 - lr: 0.0010\n",
      "Epoch 55/200\n",
      "156/156 [==============================] - ETA: 0s - loss: 6.6967 - accuracy: 0.9335\n",
      "Epoch 55: accuracy did not improve from 0.94060\n",
      "156/156 [==============================] - 10s 63ms/step - loss: 6.6967 - accuracy: 0.9335 - lr: 0.0010\n",
      "Epoch 56/200\n",
      "156/156 [==============================] - ETA: 0s - loss: 6.6603 - accuracy: 0.9315\n",
      "Epoch 56: accuracy did not improve from 0.94060\n",
      "156/156 [==============================] - 10s 64ms/step - loss: 6.6603 - accuracy: 0.9315 - lr: 0.0010\n",
      "Epoch 57/200\n",
      "156/156 [==============================] - ETA: 0s - loss: 6.6021 - accuracy: 0.9392\n",
      "Epoch 57: accuracy did not improve from 0.94060\n",
      "156/156 [==============================] - 10s 63ms/step - loss: 6.6021 - accuracy: 0.9392 - lr: 0.0010\n",
      "Epoch 58/200\n",
      "156/156 [==============================] - ETA: 0s - loss: 6.5663 - accuracy: 0.9370\n",
      "Epoch 58: accuracy did not improve from 0.94060\n",
      "156/156 [==============================] - 10s 63ms/step - loss: 6.5663 - accuracy: 0.9370 - lr: 0.0010\n",
      "Epoch 59/200\n",
      "156/156 [==============================] - ETA: 0s - loss: 6.5151 - accuracy: 0.9416\n",
      "Epoch 59: accuracy improved from 0.94060 to 0.94160, saving model to model-03\n"
     ]
    },
    {
     "name": "stderr",
     "output_type": "stream",
     "text": [
      "WARNING:absl:Found untraced functions such as _jit_compiled_convolution_op, _jit_compiled_convolution_op, _jit_compiled_convolution_op, _jit_compiled_convolution_op, _jit_compiled_convolution_op while saving (showing 5 of 16). These functions will not be directly callable after loading.\n"
     ]
    },
    {
     "name": "stdout",
     "output_type": "stream",
     "text": [
      "INFO:tensorflow:Assets written to: model-03/assets\n"
     ]
    },
    {
     "name": "stderr",
     "output_type": "stream",
     "text": [
      "INFO:tensorflow:Assets written to: model-03/assets\n"
     ]
    },
    {
     "name": "stdout",
     "output_type": "stream",
     "text": [
      "156/156 [==============================] - 15s 99ms/step - loss: 6.5151 - accuracy: 0.9416 - lr: 0.0010\n",
      "Epoch 60/200\n",
      "156/156 [==============================] - ETA: 0s - loss: 6.4905 - accuracy: 0.9380\n",
      "Epoch 60: accuracy did not improve from 0.94160\n",
      "156/156 [==============================] - 10s 63ms/step - loss: 6.4905 - accuracy: 0.9380 - lr: 0.0010\n",
      "Epoch 61/200\n",
      "156/156 [==============================] - ETA: 0s - loss: 6.4296 - accuracy: 0.9432\n",
      "Epoch 61: accuracy improved from 0.94160 to 0.94321, saving model to model-03\n"
     ]
    },
    {
     "name": "stderr",
     "output_type": "stream",
     "text": [
      "WARNING:absl:Found untraced functions such as _jit_compiled_convolution_op, _jit_compiled_convolution_op, _jit_compiled_convolution_op, _jit_compiled_convolution_op, _jit_compiled_convolution_op while saving (showing 5 of 16). These functions will not be directly callable after loading.\n"
     ]
    },
    {
     "name": "stdout",
     "output_type": "stream",
     "text": [
      "INFO:tensorflow:Assets written to: model-03/assets\n"
     ]
    },
    {
     "name": "stderr",
     "output_type": "stream",
     "text": [
      "INFO:tensorflow:Assets written to: model-03/assets\n"
     ]
    },
    {
     "name": "stdout",
     "output_type": "stream",
     "text": [
      "156/156 [==============================] - 15s 95ms/step - loss: 6.4296 - accuracy: 0.9432 - lr: 0.0010\n",
      "Epoch 62/200\n",
      "156/156 [==============================] - ETA: 0s - loss: 6.3983 - accuracy: 0.9394\n",
      "Epoch 62: accuracy did not improve from 0.94321\n",
      "156/156 [==============================] - 10s 63ms/step - loss: 6.3983 - accuracy: 0.9394 - lr: 0.0010\n",
      "Epoch 63/200\n",
      "156/156 [==============================] - ETA: 0s - loss: 6.3486 - accuracy: 0.9420\n",
      "Epoch 63: accuracy did not improve from 0.94321\n",
      "156/156 [==============================] - 10s 63ms/step - loss: 6.3486 - accuracy: 0.9420 - lr: 0.0010\n",
      "Epoch 64/200\n",
      "156/156 [==============================] - ETA: 0s - loss: 6.2988 - accuracy: 0.9480\n",
      "Epoch 64: accuracy improved from 0.94321 to 0.94805, saving model to model-03\n"
     ]
    },
    {
     "name": "stderr",
     "output_type": "stream",
     "text": [
      "WARNING:absl:Found untraced functions such as _jit_compiled_convolution_op, _jit_compiled_convolution_op, _jit_compiled_convolution_op, _jit_compiled_convolution_op, _jit_compiled_convolution_op while saving (showing 5 of 16). These functions will not be directly callable after loading.\n"
     ]
    },
    {
     "name": "stdout",
     "output_type": "stream",
     "text": [
      "INFO:tensorflow:Assets written to: model-03/assets\n"
     ]
    },
    {
     "name": "stderr",
     "output_type": "stream",
     "text": [
      "INFO:tensorflow:Assets written to: model-03/assets\n"
     ]
    },
    {
     "name": "stdout",
     "output_type": "stream",
     "text": [
      "156/156 [==============================] - 15s 96ms/step - loss: 6.2988 - accuracy: 0.9480 - lr: 0.0010\n",
      "Epoch 65/200\n",
      "156/156 [==============================] - ETA: 0s - loss: 6.2782 - accuracy: 0.9444\n",
      "Epoch 65: accuracy did not improve from 0.94805\n",
      "156/156 [==============================] - 10s 64ms/step - loss: 6.2782 - accuracy: 0.9444 - lr: 0.0010\n",
      "Epoch 66/200\n",
      "156/156 [==============================] - ETA: 0s - loss: 6.2321 - accuracy: 0.9482\n",
      "Epoch 66: accuracy improved from 0.94805 to 0.94825, saving model to model-03\n"
     ]
    },
    {
     "name": "stderr",
     "output_type": "stream",
     "text": [
      "WARNING:absl:Found untraced functions such as _jit_compiled_convolution_op, _jit_compiled_convolution_op, _jit_compiled_convolution_op, _jit_compiled_convolution_op, _jit_compiled_convolution_op while saving (showing 5 of 16). These functions will not be directly callable after loading.\n"
     ]
    },
    {
     "name": "stdout",
     "output_type": "stream",
     "text": [
      "INFO:tensorflow:Assets written to: model-03/assets\n"
     ]
    },
    {
     "name": "stderr",
     "output_type": "stream",
     "text": [
      "INFO:tensorflow:Assets written to: model-03/assets\n"
     ]
    },
    {
     "name": "stdout",
     "output_type": "stream",
     "text": [
      "156/156 [==============================] - 15s 94ms/step - loss: 6.2321 - accuracy: 0.9482 - lr: 0.0010\n",
      "Epoch 67/200\n",
      "156/156 [==============================] - ETA: 0s - loss: 6.1919 - accuracy: 0.9450\n",
      "Epoch 67: accuracy did not improve from 0.94825\n",
      "156/156 [==============================] - 10s 64ms/step - loss: 6.1919 - accuracy: 0.9450 - lr: 0.0010\n",
      "Epoch 68/200\n",
      "156/156 [==============================] - ETA: 0s - loss: 6.1466 - accuracy: 0.9495\n",
      "Epoch 68: accuracy improved from 0.94825 to 0.94946, saving model to model-03\n"
     ]
    },
    {
     "name": "stderr",
     "output_type": "stream",
     "text": [
      "WARNING:absl:Found untraced functions such as _jit_compiled_convolution_op, _jit_compiled_convolution_op, _jit_compiled_convolution_op, _jit_compiled_convolution_op, _jit_compiled_convolution_op while saving (showing 5 of 16). These functions will not be directly callable after loading.\n"
     ]
    },
    {
     "name": "stdout",
     "output_type": "stream",
     "text": [
      "INFO:tensorflow:Assets written to: model-03/assets\n"
     ]
    },
    {
     "name": "stderr",
     "output_type": "stream",
     "text": [
      "INFO:tensorflow:Assets written to: model-03/assets\n"
     ]
    },
    {
     "name": "stdout",
     "output_type": "stream",
     "text": [
      "156/156 [==============================] - 15s 97ms/step - loss: 6.1466 - accuracy: 0.9495 - lr: 0.0010\n",
      "Epoch 69/200\n",
      "156/156 [==============================] - ETA: 0s - loss: 6.1363 - accuracy: 0.9430\n",
      "Epoch 69: accuracy did not improve from 0.94946\n",
      "156/156 [==============================] - 10s 64ms/step - loss: 6.1363 - accuracy: 0.9430 - lr: 0.0010\n",
      "Epoch 70/200\n",
      "156/156 [==============================] - ETA: 0s - loss: 6.0838 - accuracy: 0.9452\n",
      "Epoch 70: accuracy did not improve from 0.94946\n",
      "156/156 [==============================] - 10s 65ms/step - loss: 6.0838 - accuracy: 0.9452 - lr: 0.0010\n",
      "Epoch 71/200\n",
      "156/156 [==============================] - ETA: 0s - loss: 6.0437 - accuracy: 0.9482\n",
      "Epoch 71: accuracy did not improve from 0.94946\n",
      "156/156 [==============================] - 10s 64ms/step - loss: 6.0437 - accuracy: 0.9482 - lr: 0.0010\n",
      "Epoch 72/200\n",
      "156/156 [==============================] - ETA: 0s - loss: 5.9997 - accuracy: 0.9495\n",
      "Epoch 72: accuracy did not improve from 0.94946\n",
      "156/156 [==============================] - 10s 63ms/step - loss: 5.9997 - accuracy: 0.9495 - lr: 0.0010\n",
      "Epoch 73/200\n",
      "156/156 [==============================] - ETA: 0s - loss: 5.9597 - accuracy: 0.9489\n",
      "Epoch 73: accuracy did not improve from 0.94946\n",
      "156/156 [==============================] - 10s 63ms/step - loss: 5.9597 - accuracy: 0.9489 - lr: 0.0010\n",
      "Epoch 74/200\n",
      "156/156 [==============================] - ETA: 0s - loss: 5.9339 - accuracy: 0.9464\n",
      "Epoch 74: accuracy did not improve from 0.94946\n",
      "156/156 [==============================] - 10s 63ms/step - loss: 5.9339 - accuracy: 0.9464 - lr: 0.0010\n",
      "Epoch 75/200\n",
      "156/156 [==============================] - ETA: 0s - loss: 5.8765 - accuracy: 0.9545\n",
      "Epoch 75: accuracy improved from 0.94946 to 0.95449, saving model to model-03\n"
     ]
    },
    {
     "name": "stderr",
     "output_type": "stream",
     "text": [
      "WARNING:absl:Found untraced functions such as _jit_compiled_convolution_op, _jit_compiled_convolution_op, _jit_compiled_convolution_op, _jit_compiled_convolution_op, _jit_compiled_convolution_op while saving (showing 5 of 16). These functions will not be directly callable after loading.\n"
     ]
    },
    {
     "name": "stdout",
     "output_type": "stream",
     "text": [
      "INFO:tensorflow:Assets written to: model-03/assets\n"
     ]
    },
    {
     "name": "stderr",
     "output_type": "stream",
     "text": [
      "INFO:tensorflow:Assets written to: model-03/assets\n"
     ]
    },
    {
     "name": "stdout",
     "output_type": "stream",
     "text": [
      "156/156 [==============================] - 15s 95ms/step - loss: 5.8765 - accuracy: 0.9545 - lr: 0.0010\n",
      "Epoch 76/200\n",
      "156/156 [==============================] - ETA: 0s - loss: 5.8470 - accuracy: 0.9523\n",
      "Epoch 76: accuracy did not improve from 0.95449\n",
      "156/156 [==============================] - 10s 64ms/step - loss: 5.8470 - accuracy: 0.9523 - lr: 0.0010\n",
      "Epoch 77/200\n",
      "156/156 [==============================] - ETA: 0s - loss: 5.8286 - accuracy: 0.9484\n",
      "Epoch 77: accuracy did not improve from 0.95449\n",
      "156/156 [==============================] - 10s 65ms/step - loss: 5.8286 - accuracy: 0.9484 - lr: 0.0010\n",
      "Epoch 78/200\n",
      "156/156 [==============================] - ETA: 0s - loss: 5.7609 - accuracy: 0.9565\n",
      "Epoch 78: accuracy improved from 0.95449 to 0.95650, saving model to model-03\n"
     ]
    },
    {
     "name": "stderr",
     "output_type": "stream",
     "text": [
      "WARNING:absl:Found untraced functions such as _jit_compiled_convolution_op, _jit_compiled_convolution_op, _jit_compiled_convolution_op, _jit_compiled_convolution_op, _jit_compiled_convolution_op while saving (showing 5 of 16). These functions will not be directly callable after loading.\n"
     ]
    },
    {
     "name": "stdout",
     "output_type": "stream",
     "text": [
      "INFO:tensorflow:Assets written to: model-03/assets\n"
     ]
    },
    {
     "name": "stderr",
     "output_type": "stream",
     "text": [
      "INFO:tensorflow:Assets written to: model-03/assets\n"
     ]
    },
    {
     "name": "stdout",
     "output_type": "stream",
     "text": [
      "156/156 [==============================] - 16s 100ms/step - loss: 5.7609 - accuracy: 0.9565 - lr: 0.0010\n",
      "Epoch 79/200\n",
      "156/156 [==============================] - ETA: 0s - loss: 5.7325 - accuracy: 0.9551\n",
      "Epoch 79: accuracy did not improve from 0.95650\n",
      "156/156 [==============================] - 10s 63ms/step - loss: 5.7325 - accuracy: 0.9551 - lr: 0.0010\n",
      "Epoch 80/200\n",
      "156/156 [==============================] - ETA: 0s - loss: 5.7101 - accuracy: 0.9521\n",
      "Epoch 80: accuracy did not improve from 0.95650\n",
      "156/156 [==============================] - 10s 63ms/step - loss: 5.7101 - accuracy: 0.9521 - lr: 0.0010\n",
      "Epoch 81/200\n",
      "156/156 [==============================] - ETA: 0s - loss: 5.6524 - accuracy: 0.9613\n",
      "Epoch 81: accuracy improved from 0.95650 to 0.96134, saving model to model-03\n"
     ]
    },
    {
     "name": "stderr",
     "output_type": "stream",
     "text": [
      "WARNING:absl:Found untraced functions such as _jit_compiled_convolution_op, _jit_compiled_convolution_op, _jit_compiled_convolution_op, _jit_compiled_convolution_op, _jit_compiled_convolution_op while saving (showing 5 of 16). These functions will not be directly callable after loading.\n"
     ]
    },
    {
     "name": "stdout",
     "output_type": "stream",
     "text": [
      "INFO:tensorflow:Assets written to: model-03/assets\n"
     ]
    },
    {
     "name": "stderr",
     "output_type": "stream",
     "text": [
      "INFO:tensorflow:Assets written to: model-03/assets\n"
     ]
    },
    {
     "name": "stdout",
     "output_type": "stream",
     "text": [
      "156/156 [==============================] - 15s 98ms/step - loss: 5.6524 - accuracy: 0.9613 - lr: 0.0010\n",
      "Epoch 82/200\n",
      "156/156 [==============================] - ETA: 0s - loss: 5.6214 - accuracy: 0.9565\n",
      "Epoch 82: accuracy did not improve from 0.96134\n",
      "156/156 [==============================] - 10s 64ms/step - loss: 5.6214 - accuracy: 0.9565 - lr: 0.0010\n",
      "Epoch 83/200\n",
      "156/156 [==============================] - ETA: 0s - loss: 5.6016 - accuracy: 0.9545\n",
      "Epoch 83: accuracy did not improve from 0.96134\n",
      "156/156 [==============================] - 10s 64ms/step - loss: 5.6016 - accuracy: 0.9545 - lr: 0.0010\n",
      "Epoch 84/200\n",
      "156/156 [==============================] - ETA: 0s - loss: 5.5610 - accuracy: 0.9547\n",
      "Epoch 84: accuracy did not improve from 0.96134\n",
      "156/156 [==============================] - 10s 62ms/step - loss: 5.5610 - accuracy: 0.9547 - lr: 0.0010\n",
      "Epoch 85/200\n",
      "156/156 [==============================] - ETA: 0s - loss: 5.5210 - accuracy: 0.9577\n",
      "Epoch 85: accuracy did not improve from 0.96134\n",
      "156/156 [==============================] - 10s 64ms/step - loss: 5.5210 - accuracy: 0.9577 - lr: 0.0010\n",
      "Epoch 86/200\n",
      "156/156 [==============================] - ETA: 0s - loss: 5.4975 - accuracy: 0.9569\n",
      "Epoch 86: accuracy did not improve from 0.96134\n",
      "156/156 [==============================] - 10s 65ms/step - loss: 5.4975 - accuracy: 0.9569 - lr: 0.0010\n",
      "Epoch 87/200\n",
      "156/156 [==============================] - ETA: 0s - loss: 5.4496 - accuracy: 0.9591\n",
      "Epoch 87: accuracy did not improve from 0.96134\n",
      "156/156 [==============================] - 10s 64ms/step - loss: 5.4496 - accuracy: 0.9591 - lr: 0.0010\n",
      "Epoch 88/200\n",
      "156/156 [==============================] - ETA: 0s - loss: 5.4213 - accuracy: 0.9555\n",
      "Epoch 88: accuracy did not improve from 0.96134\n",
      "156/156 [==============================] - 10s 64ms/step - loss: 5.4213 - accuracy: 0.9555 - lr: 0.0010\n",
      "Epoch 89/200\n",
      "156/156 [==============================] - ETA: 0s - loss: 5.3944 - accuracy: 0.9541\n",
      "Epoch 89: accuracy did not improve from 0.96134\n",
      "156/156 [==============================] - 10s 63ms/step - loss: 5.3944 - accuracy: 0.9541 - lr: 0.0010\n",
      "Epoch 90/200\n",
      "156/156 [==============================] - ETA: 0s - loss: 5.3453 - accuracy: 0.9597\n",
      "Epoch 90: accuracy did not improve from 0.96134\n",
      "156/156 [==============================] - 10s 62ms/step - loss: 5.3453 - accuracy: 0.9597 - lr: 0.0010\n",
      "Epoch 91/200\n",
      "156/156 [==============================] - ETA: 0s - loss: 5.3108 - accuracy: 0.9615\n",
      "Epoch 91: accuracy improved from 0.96134 to 0.96154, saving model to model-03\n"
     ]
    },
    {
     "name": "stderr",
     "output_type": "stream",
     "text": [
      "WARNING:absl:Found untraced functions such as _jit_compiled_convolution_op, _jit_compiled_convolution_op, _jit_compiled_convolution_op, _jit_compiled_convolution_op, _jit_compiled_convolution_op while saving (showing 5 of 16). These functions will not be directly callable after loading.\n"
     ]
    },
    {
     "name": "stdout",
     "output_type": "stream",
     "text": [
      "INFO:tensorflow:Assets written to: model-03/assets\n"
     ]
    },
    {
     "name": "stderr",
     "output_type": "stream",
     "text": [
      "INFO:tensorflow:Assets written to: model-03/assets\n"
     ]
    },
    {
     "name": "stdout",
     "output_type": "stream",
     "text": [
      "156/156 [==============================] - 15s 95ms/step - loss: 5.3108 - accuracy: 0.9615 - lr: 0.0010\n",
      "Epoch 92/200\n",
      "156/156 [==============================] - ETA: 0s - loss: 5.2999 - accuracy: 0.9531\n",
      "Epoch 92: accuracy did not improve from 0.96154\n",
      "156/156 [==============================] - 10s 63ms/step - loss: 5.2999 - accuracy: 0.9531 - lr: 0.0010\n",
      "Epoch 93/200\n",
      "156/156 [==============================] - ETA: 0s - loss: 5.2446 - accuracy: 0.9617\n",
      "Epoch 93: accuracy improved from 0.96154 to 0.96174, saving model to model-03\n"
     ]
    },
    {
     "name": "stderr",
     "output_type": "stream",
     "text": [
      "WARNING:absl:Found untraced functions such as _jit_compiled_convolution_op, _jit_compiled_convolution_op, _jit_compiled_convolution_op, _jit_compiled_convolution_op, _jit_compiled_convolution_op while saving (showing 5 of 16). These functions will not be directly callable after loading.\n"
     ]
    },
    {
     "name": "stdout",
     "output_type": "stream",
     "text": [
      "INFO:tensorflow:Assets written to: model-03/assets\n"
     ]
    },
    {
     "name": "stderr",
     "output_type": "stream",
     "text": [
      "INFO:tensorflow:Assets written to: model-03/assets\n"
     ]
    },
    {
     "name": "stdout",
     "output_type": "stream",
     "text": [
      "156/156 [==============================] - 15s 98ms/step - loss: 5.2446 - accuracy: 0.9617 - lr: 0.0010\n",
      "Epoch 94/200\n",
      "156/156 [==============================] - ETA: 0s - loss: 5.2174 - accuracy: 0.9599\n",
      "Epoch 94: accuracy did not improve from 0.96174\n",
      "156/156 [==============================] - 10s 64ms/step - loss: 5.2174 - accuracy: 0.9599 - lr: 0.0010\n",
      "Epoch 95/200\n",
      "156/156 [==============================] - ETA: 0s - loss: 5.1733 - accuracy: 0.9652\n",
      "Epoch 95: accuracy improved from 0.96174 to 0.96516, saving model to model-03\n"
     ]
    },
    {
     "name": "stderr",
     "output_type": "stream",
     "text": [
      "WARNING:absl:Found untraced functions such as _jit_compiled_convolution_op, _jit_compiled_convolution_op, _jit_compiled_convolution_op, _jit_compiled_convolution_op, _jit_compiled_convolution_op while saving (showing 5 of 16). These functions will not be directly callable after loading.\n"
     ]
    },
    {
     "name": "stdout",
     "output_type": "stream",
     "text": [
      "INFO:tensorflow:Assets written to: model-03/assets\n"
     ]
    },
    {
     "name": "stderr",
     "output_type": "stream",
     "text": [
      "INFO:tensorflow:Assets written to: model-03/assets\n"
     ]
    },
    {
     "name": "stdout",
     "output_type": "stream",
     "text": [
      "156/156 [==============================] - 15s 95ms/step - loss: 5.1733 - accuracy: 0.9652 - lr: 0.0010\n",
      "Epoch 96/200\n",
      "156/156 [==============================] - ETA: 0s - loss: 5.1645 - accuracy: 0.9581\n",
      "Epoch 96: accuracy did not improve from 0.96516\n",
      "156/156 [==============================] - 10s 63ms/step - loss: 5.1645 - accuracy: 0.9581 - lr: 0.0010\n",
      "Epoch 97/200\n",
      "156/156 [==============================] - ETA: 0s - loss: 5.1234 - accuracy: 0.9587\n",
      "Epoch 97: accuracy did not improve from 0.96516\n",
      "156/156 [==============================] - 10s 63ms/step - loss: 5.1234 - accuracy: 0.9587 - lr: 0.0010\n",
      "Epoch 98/200\n",
      "156/156 [==============================] - ETA: 0s - loss: 5.0828 - accuracy: 0.9658\n",
      "Epoch 98: accuracy improved from 0.96516 to 0.96577, saving model to model-03\n"
     ]
    },
    {
     "name": "stderr",
     "output_type": "stream",
     "text": [
      "WARNING:absl:Found untraced functions such as _jit_compiled_convolution_op, _jit_compiled_convolution_op, _jit_compiled_convolution_op, _jit_compiled_convolution_op, _jit_compiled_convolution_op while saving (showing 5 of 16). These functions will not be directly callable after loading.\n"
     ]
    },
    {
     "name": "stdout",
     "output_type": "stream",
     "text": [
      "INFO:tensorflow:Assets written to: model-03/assets\n"
     ]
    },
    {
     "name": "stderr",
     "output_type": "stream",
     "text": [
      "INFO:tensorflow:Assets written to: model-03/assets\n"
     ]
    },
    {
     "name": "stdout",
     "output_type": "stream",
     "text": [
      "156/156 [==============================] - 15s 98ms/step - loss: 5.0828 - accuracy: 0.9658 - lr: 0.0010\n",
      "Epoch 99/200\n",
      "156/156 [==============================] - ETA: 0s - loss: 5.0544 - accuracy: 0.9623\n",
      "Epoch 99: accuracy did not improve from 0.96577\n",
      "156/156 [==============================] - 10s 64ms/step - loss: 5.0544 - accuracy: 0.9623 - lr: 0.0010\n",
      "Epoch 100/200\n",
      "156/156 [==============================] - ETA: 0s - loss: 5.0298 - accuracy: 0.9565\n",
      "Epoch 100: accuracy did not improve from 0.96577\n",
      "156/156 [==============================] - 10s 63ms/step - loss: 5.0298 - accuracy: 0.9565 - lr: 0.0010\n",
      "Epoch 101/200\n",
      "156/156 [==============================] - ETA: 0s - loss: 4.9863 - accuracy: 0.9652\n",
      "Epoch 101: accuracy did not improve from 0.96577\n",
      "156/156 [==============================] - 10s 63ms/step - loss: 4.9863 - accuracy: 0.9652 - lr: 0.0010\n",
      "Epoch 102/200\n",
      "156/156 [==============================] - ETA: 0s - loss: 4.9544 - accuracy: 0.9672\n",
      "Epoch 102: accuracy improved from 0.96577 to 0.96718, saving model to model-03\n"
     ]
    },
    {
     "name": "stderr",
     "output_type": "stream",
     "text": [
      "WARNING:absl:Found untraced functions such as _jit_compiled_convolution_op, _jit_compiled_convolution_op, _jit_compiled_convolution_op, _jit_compiled_convolution_op, _jit_compiled_convolution_op while saving (showing 5 of 16). These functions will not be directly callable after loading.\n"
     ]
    },
    {
     "name": "stdout",
     "output_type": "stream",
     "text": [
      "INFO:tensorflow:Assets written to: model-03/assets\n"
     ]
    },
    {
     "name": "stderr",
     "output_type": "stream",
     "text": [
      "INFO:tensorflow:Assets written to: model-03/assets\n"
     ]
    },
    {
     "name": "stdout",
     "output_type": "stream",
     "text": [
      "156/156 [==============================] - 15s 95ms/step - loss: 4.9544 - accuracy: 0.9672 - lr: 0.0010\n",
      "Epoch 103/200\n",
      "156/156 [==============================] - ETA: 0s - loss: 4.9207 - accuracy: 0.9678\n",
      "Epoch 103: accuracy improved from 0.96718 to 0.96778, saving model to model-03\n"
     ]
    },
    {
     "name": "stderr",
     "output_type": "stream",
     "text": [
      "WARNING:absl:Found untraced functions such as _jit_compiled_convolution_op, _jit_compiled_convolution_op, _jit_compiled_convolution_op, _jit_compiled_convolution_op, _jit_compiled_convolution_op while saving (showing 5 of 16). These functions will not be directly callable after loading.\n"
     ]
    },
    {
     "name": "stdout",
     "output_type": "stream",
     "text": [
      "INFO:tensorflow:Assets written to: model-03/assets\n"
     ]
    },
    {
     "name": "stderr",
     "output_type": "stream",
     "text": [
      "INFO:tensorflow:Assets written to: model-03/assets\n"
     ]
    },
    {
     "name": "stdout",
     "output_type": "stream",
     "text": [
      "156/156 [==============================] - 15s 96ms/step - loss: 4.9207 - accuracy: 0.9678 - lr: 0.0010\n",
      "Epoch 104/200\n",
      "156/156 [==============================] - ETA: 0s - loss: 4.8947 - accuracy: 0.9652\n",
      "Epoch 104: accuracy did not improve from 0.96778\n",
      "156/156 [==============================] - 10s 64ms/step - loss: 4.8947 - accuracy: 0.9652 - lr: 0.0010\n",
      "Epoch 105/200\n",
      "156/156 [==============================] - ETA: 0s - loss: 4.8695 - accuracy: 0.9646\n",
      "Epoch 105: accuracy did not improve from 0.96778\n",
      "156/156 [==============================] - 10s 63ms/step - loss: 4.8695 - accuracy: 0.9646 - lr: 0.0010\n",
      "Epoch 106/200\n",
      "156/156 [==============================] - ETA: 0s - loss: 4.8345 - accuracy: 0.9676\n",
      "Epoch 106: accuracy did not improve from 0.96778\n",
      "156/156 [==============================] - 10s 63ms/step - loss: 4.8345 - accuracy: 0.9676 - lr: 0.0010\n",
      "Epoch 107/200\n",
      "156/156 [==============================] - ETA: 0s - loss: 4.8001 - accuracy: 0.9678\n",
      "Epoch 107: accuracy did not improve from 0.96778\n",
      "156/156 [==============================] - 10s 64ms/step - loss: 4.8001 - accuracy: 0.9678 - lr: 0.0010\n",
      "Epoch 108/200\n",
      "156/156 [==============================] - ETA: 0s - loss: 4.7754 - accuracy: 0.9640\n",
      "Epoch 108: accuracy did not improve from 0.96778\n",
      "156/156 [==============================] - 10s 64ms/step - loss: 4.7754 - accuracy: 0.9640 - lr: 0.0010\n",
      "Epoch 109/200\n",
      "156/156 [==============================] - ETA: 0s - loss: 4.7506 - accuracy: 0.9672\n",
      "Epoch 109: accuracy did not improve from 0.96778\n",
      "156/156 [==============================] - 10s 63ms/step - loss: 4.7506 - accuracy: 0.9672 - lr: 0.0010\n",
      "Epoch 110/200\n",
      "156/156 [==============================] - ETA: 0s - loss: 4.7224 - accuracy: 0.9656\n",
      "Epoch 110: accuracy did not improve from 0.96778\n",
      "156/156 [==============================] - 10s 63ms/step - loss: 4.7224 - accuracy: 0.9656 - lr: 0.0010\n",
      "Epoch 111/200\n",
      "156/156 [==============================] - ETA: 0s - loss: 4.6923 - accuracy: 0.9644\n",
      "Epoch 111: accuracy did not improve from 0.96778\n",
      "156/156 [==============================] - 10s 63ms/step - loss: 4.6923 - accuracy: 0.9644 - lr: 0.0010\n",
      "Epoch 112/200\n",
      "156/156 [==============================] - ETA: 0s - loss: 4.6571 - accuracy: 0.9686\n",
      "Epoch 112: accuracy improved from 0.96778 to 0.96859, saving model to model-03\n"
     ]
    },
    {
     "name": "stderr",
     "output_type": "stream",
     "text": [
      "WARNING:absl:Found untraced functions such as _jit_compiled_convolution_op, _jit_compiled_convolution_op, _jit_compiled_convolution_op, _jit_compiled_convolution_op, _jit_compiled_convolution_op while saving (showing 5 of 16). These functions will not be directly callable after loading.\n"
     ]
    },
    {
     "name": "stdout",
     "output_type": "stream",
     "text": [
      "INFO:tensorflow:Assets written to: model-03/assets\n"
     ]
    },
    {
     "name": "stderr",
     "output_type": "stream",
     "text": [
      "INFO:tensorflow:Assets written to: model-03/assets\n"
     ]
    },
    {
     "name": "stdout",
     "output_type": "stream",
     "text": [
      "156/156 [==============================] - 15s 94ms/step - loss: 4.6571 - accuracy: 0.9686 - lr: 0.0010\n",
      "Epoch 113/200\n",
      "156/156 [==============================] - ETA: 0s - loss: 4.6321 - accuracy: 0.9631\n",
      "Epoch 113: accuracy did not improve from 0.96859\n",
      "156/156 [==============================] - 10s 63ms/step - loss: 4.6321 - accuracy: 0.9631 - lr: 0.0010\n",
      "Epoch 114/200\n",
      "156/156 [==============================] - ETA: 0s - loss: 4.6018 - accuracy: 0.9694\n",
      "Epoch 114: accuracy improved from 0.96859 to 0.96939, saving model to model-03\n"
     ]
    },
    {
     "name": "stderr",
     "output_type": "stream",
     "text": [
      "WARNING:absl:Found untraced functions such as _jit_compiled_convolution_op, _jit_compiled_convolution_op, _jit_compiled_convolution_op, _jit_compiled_convolution_op, _jit_compiled_convolution_op while saving (showing 5 of 16). These functions will not be directly callable after loading.\n"
     ]
    },
    {
     "name": "stdout",
     "output_type": "stream",
     "text": [
      "INFO:tensorflow:Assets written to: model-03/assets\n"
     ]
    },
    {
     "name": "stderr",
     "output_type": "stream",
     "text": [
      "INFO:tensorflow:Assets written to: model-03/assets\n"
     ]
    },
    {
     "name": "stdout",
     "output_type": "stream",
     "text": [
      "156/156 [==============================] - 15s 96ms/step - loss: 4.6018 - accuracy: 0.9694 - lr: 0.0010\n",
      "Epoch 115/200\n",
      "156/156 [==============================] - ETA: 0s - loss: 4.5709 - accuracy: 0.9702\n",
      "Epoch 115: accuracy improved from 0.96939 to 0.97020, saving model to model-03\n"
     ]
    },
    {
     "name": "stderr",
     "output_type": "stream",
     "text": [
      "WARNING:absl:Found untraced functions such as _jit_compiled_convolution_op, _jit_compiled_convolution_op, _jit_compiled_convolution_op, _jit_compiled_convolution_op, _jit_compiled_convolution_op while saving (showing 5 of 16). These functions will not be directly callable after loading.\n"
     ]
    },
    {
     "name": "stdout",
     "output_type": "stream",
     "text": [
      "INFO:tensorflow:Assets written to: model-03/assets\n"
     ]
    },
    {
     "name": "stderr",
     "output_type": "stream",
     "text": [
      "INFO:tensorflow:Assets written to: model-03/assets\n"
     ]
    },
    {
     "name": "stdout",
     "output_type": "stream",
     "text": [
      "156/156 [==============================] - 15s 96ms/step - loss: 4.5709 - accuracy: 0.9702 - lr: 0.0010\n",
      "Epoch 116/200\n",
      "156/156 [==============================] - ETA: 0s - loss: 4.5458 - accuracy: 0.9694\n",
      "Epoch 116: accuracy did not improve from 0.97020\n",
      "156/156 [==============================] - 10s 62ms/step - loss: 4.5458 - accuracy: 0.9694 - lr: 0.0010\n",
      "Epoch 117/200\n",
      "156/156 [==============================] - ETA: 0s - loss: 4.5089 - accuracy: 0.9704\n",
      "Epoch 117: accuracy improved from 0.97020 to 0.97040, saving model to model-03\n"
     ]
    },
    {
     "name": "stderr",
     "output_type": "stream",
     "text": [
      "WARNING:absl:Found untraced functions such as _jit_compiled_convolution_op, _jit_compiled_convolution_op, _jit_compiled_convolution_op, _jit_compiled_convolution_op, _jit_compiled_convolution_op while saving (showing 5 of 16). These functions will not be directly callable after loading.\n"
     ]
    },
    {
     "name": "stdout",
     "output_type": "stream",
     "text": [
      "INFO:tensorflow:Assets written to: model-03/assets\n"
     ]
    },
    {
     "name": "stderr",
     "output_type": "stream",
     "text": [
      "INFO:tensorflow:Assets written to: model-03/assets\n"
     ]
    },
    {
     "name": "stdout",
     "output_type": "stream",
     "text": [
      "156/156 [==============================] - 15s 96ms/step - loss: 4.5089 - accuracy: 0.9704 - lr: 0.0010\n",
      "Epoch 118/200\n",
      "156/156 [==============================] - ETA: 0s - loss: 4.4850 - accuracy: 0.9676\n",
      "Epoch 118: accuracy did not improve from 0.97040\n",
      "156/156 [==============================] - 10s 63ms/step - loss: 4.4850 - accuracy: 0.9676 - lr: 0.0010\n",
      "Epoch 119/200\n",
      "156/156 [==============================] - ETA: 0s - loss: 4.4532 - accuracy: 0.9714\n",
      "Epoch 119: accuracy improved from 0.97040 to 0.97141, saving model to model-03\n"
     ]
    },
    {
     "name": "stderr",
     "output_type": "stream",
     "text": [
      "WARNING:absl:Found untraced functions such as _jit_compiled_convolution_op, _jit_compiled_convolution_op, _jit_compiled_convolution_op, _jit_compiled_convolution_op, _jit_compiled_convolution_op while saving (showing 5 of 16). These functions will not be directly callable after loading.\n"
     ]
    },
    {
     "name": "stdout",
     "output_type": "stream",
     "text": [
      "INFO:tensorflow:Assets written to: model-03/assets\n"
     ]
    },
    {
     "name": "stderr",
     "output_type": "stream",
     "text": [
      "INFO:tensorflow:Assets written to: model-03/assets\n"
     ]
    },
    {
     "name": "stdout",
     "output_type": "stream",
     "text": [
      "156/156 [==============================] - 15s 97ms/step - loss: 4.4532 - accuracy: 0.9714 - lr: 0.0010\n",
      "Epoch 120/200\n",
      "156/156 [==============================] - ETA: 0s - loss: 4.4339 - accuracy: 0.9686\n",
      "Epoch 120: accuracy did not improve from 0.97141\n",
      "156/156 [==============================] - 10s 62ms/step - loss: 4.4339 - accuracy: 0.9686 - lr: 0.0010\n",
      "Epoch 121/200\n",
      "156/156 [==============================] - ETA: 0s - loss: 4.4168 - accuracy: 0.9666\n",
      "Epoch 121: accuracy did not improve from 0.97141\n",
      "156/156 [==============================] - 10s 63ms/step - loss: 4.4168 - accuracy: 0.9666 - lr: 0.0010\n",
      "Epoch 122/200\n",
      "156/156 [==============================] - ETA: 0s - loss: 4.3793 - accuracy: 0.9688\n",
      "Epoch 122: accuracy did not improve from 0.97141\n",
      "156/156 [==============================] - 10s 63ms/step - loss: 4.3793 - accuracy: 0.9688 - lr: 0.0010\n",
      "Epoch 123/200\n",
      "156/156 [==============================] - ETA: 0s - loss: 4.3486 - accuracy: 0.9700\n",
      "Epoch 123: accuracy did not improve from 0.97141\n",
      "156/156 [==============================] - 10s 63ms/step - loss: 4.3486 - accuracy: 0.9700 - lr: 0.0010\n",
      "Epoch 124/200\n",
      "156/156 [==============================] - ETA: 0s - loss: 4.3254 - accuracy: 0.9686\n",
      "Epoch 124: accuracy did not improve from 0.97141\n",
      "156/156 [==============================] - 10s 63ms/step - loss: 4.3254 - accuracy: 0.9686 - lr: 0.0010\n",
      "Epoch 125/200\n",
      "156/156 [==============================] - ETA: 0s - loss: 4.3006 - accuracy: 0.9672\n",
      "Epoch 125: accuracy did not improve from 0.97141\n",
      "156/156 [==============================] - 10s 64ms/step - loss: 4.3006 - accuracy: 0.9672 - lr: 0.0010\n",
      "Epoch 126/200\n",
      "156/156 [==============================] - ETA: 0s - loss: 4.2772 - accuracy: 0.9694\n",
      "Epoch 126: accuracy did not improve from 0.97141\n",
      "156/156 [==============================] - 10s 63ms/step - loss: 4.2772 - accuracy: 0.9694 - lr: 0.0010\n",
      "Epoch 127/200\n",
      "156/156 [==============================] - ETA: 0s - loss: 4.2487 - accuracy: 0.9694\n",
      "Epoch 127: accuracy did not improve from 0.97141\n",
      "156/156 [==============================] - 10s 62ms/step - loss: 4.2487 - accuracy: 0.9694 - lr: 0.0010\n",
      "Epoch 128/200\n",
      "156/156 [==============================] - ETA: 0s - loss: 4.2152 - accuracy: 0.9714\n",
      "Epoch 128: accuracy did not improve from 0.97141\n",
      "156/156 [==============================] - 10s 63ms/step - loss: 4.2152 - accuracy: 0.9714 - lr: 0.0010\n",
      "Epoch 129/200\n",
      "156/156 [==============================] - ETA: 0s - loss: 4.1784 - accuracy: 0.9748\n",
      "Epoch 129: accuracy improved from 0.97141 to 0.97483, saving model to model-03\n"
     ]
    },
    {
     "name": "stderr",
     "output_type": "stream",
     "text": [
      "WARNING:absl:Found untraced functions such as _jit_compiled_convolution_op, _jit_compiled_convolution_op, _jit_compiled_convolution_op, _jit_compiled_convolution_op, _jit_compiled_convolution_op while saving (showing 5 of 16). These functions will not be directly callable after loading.\n"
     ]
    },
    {
     "name": "stdout",
     "output_type": "stream",
     "text": [
      "INFO:tensorflow:Assets written to: model-03/assets\n"
     ]
    },
    {
     "name": "stderr",
     "output_type": "stream",
     "text": [
      "INFO:tensorflow:Assets written to: model-03/assets\n"
     ]
    },
    {
     "name": "stdout",
     "output_type": "stream",
     "text": [
      "156/156 [==============================] - 15s 94ms/step - loss: 4.1784 - accuracy: 0.9748 - lr: 0.0010\n",
      "Epoch 130/200\n",
      "156/156 [==============================] - ETA: 0s - loss: 4.1684 - accuracy: 0.9688\n",
      "Epoch 130: accuracy did not improve from 0.97483\n",
      "156/156 [==============================] - 10s 63ms/step - loss: 4.1684 - accuracy: 0.9688 - lr: 0.0010\n",
      "Epoch 131/200\n",
      "156/156 [==============================] - ETA: 0s - loss: 4.1359 - accuracy: 0.9722\n",
      "Epoch 131: accuracy did not improve from 0.97483\n",
      "156/156 [==============================] - 10s 64ms/step - loss: 4.1359 - accuracy: 0.9722 - lr: 0.0010\n",
      "Epoch 132/200\n",
      "156/156 [==============================] - ETA: 0s - loss: 4.1099 - accuracy: 0.9730\n",
      "Epoch 132: accuracy did not improve from 0.97483\n",
      "156/156 [==============================] - 10s 63ms/step - loss: 4.1099 - accuracy: 0.9730 - lr: 0.0010\n",
      "Epoch 133/200\n",
      "156/156 [==============================] - ETA: 0s - loss: 4.0957 - accuracy: 0.9686\n",
      "Epoch 133: accuracy did not improve from 0.97483\n",
      "156/156 [==============================] - 10s 63ms/step - loss: 4.0957 - accuracy: 0.9686 - lr: 0.0010\n",
      "Epoch 134/200\n",
      "156/156 [==============================] - ETA: 0s - loss: 4.0539 - accuracy: 0.9732\n",
      "Epoch 134: accuracy did not improve from 0.97483\n",
      "156/156 [==============================] - 10s 63ms/step - loss: 4.0539 - accuracy: 0.9732 - lr: 0.0010\n",
      "Epoch 135/200\n",
      "156/156 [==============================] - ETA: 0s - loss: 4.0370 - accuracy: 0.9740\n",
      "Epoch 135: accuracy did not improve from 0.97483\n",
      "156/156 [==============================] - 10s 63ms/step - loss: 4.0370 - accuracy: 0.9740 - lr: 0.0010\n",
      "Epoch 136/200\n",
      "156/156 [==============================] - ETA: 0s - loss: 4.0171 - accuracy: 0.9696\n",
      "Epoch 136: accuracy did not improve from 0.97483\n",
      "156/156 [==============================] - 10s 63ms/step - loss: 4.0171 - accuracy: 0.9696 - lr: 0.0010\n",
      "Epoch 137/200\n",
      "156/156 [==============================] - ETA: 0s - loss: 3.9935 - accuracy: 0.9690\n",
      "Epoch 137: accuracy did not improve from 0.97483\n",
      "156/156 [==============================] - 10s 63ms/step - loss: 3.9935 - accuracy: 0.9690 - lr: 0.0010\n",
      "Epoch 138/200\n",
      "156/156 [==============================] - ETA: 0s - loss: 3.9593 - accuracy: 0.9758\n",
      "Epoch 138: accuracy improved from 0.97483 to 0.97584, saving model to model-03\n"
     ]
    },
    {
     "name": "stderr",
     "output_type": "stream",
     "text": [
      "WARNING:absl:Found untraced functions such as _jit_compiled_convolution_op, _jit_compiled_convolution_op, _jit_compiled_convolution_op, _jit_compiled_convolution_op, _jit_compiled_convolution_op while saving (showing 5 of 16). These functions will not be directly callable after loading.\n"
     ]
    },
    {
     "name": "stdout",
     "output_type": "stream",
     "text": [
      "INFO:tensorflow:Assets written to: model-03/assets\n"
     ]
    },
    {
     "name": "stderr",
     "output_type": "stream",
     "text": [
      "INFO:tensorflow:Assets written to: model-03/assets\n"
     ]
    },
    {
     "name": "stdout",
     "output_type": "stream",
     "text": [
      "156/156 [==============================] - 15s 97ms/step - loss: 3.9593 - accuracy: 0.9758 - lr: 0.0010\n",
      "Epoch 139/200\n",
      "156/156 [==============================] - ETA: 0s - loss: 3.9410 - accuracy: 0.9696\n",
      "Epoch 139: accuracy did not improve from 0.97584\n",
      "156/156 [==============================] - 10s 63ms/step - loss: 3.9410 - accuracy: 0.9696 - lr: 0.0010\n",
      "Epoch 140/200\n",
      "156/156 [==============================] - ETA: 0s - loss: 3.9429 - accuracy: 0.9656\n",
      "Epoch 140: accuracy did not improve from 0.97584\n",
      "156/156 [==============================] - 10s 64ms/step - loss: 3.9429 - accuracy: 0.9656 - lr: 0.0010\n",
      "Epoch 141/200\n",
      "156/156 [==============================] - ETA: 0s - loss: 3.8873 - accuracy: 0.9742\n",
      "Epoch 141: accuracy did not improve from 0.97584\n",
      "156/156 [==============================] - 10s 63ms/step - loss: 3.8873 - accuracy: 0.9742 - lr: 0.0010\n",
      "Epoch 142/200\n",
      "156/156 [==============================] - ETA: 0s - loss: 3.8654 - accuracy: 0.9720\n",
      "Epoch 142: accuracy did not improve from 0.97584\n",
      "156/156 [==============================] - 10s 64ms/step - loss: 3.8654 - accuracy: 0.9720 - lr: 0.0010\n",
      "Epoch 143/200\n",
      "156/156 [==============================] - ETA: 0s - loss: 3.8393 - accuracy: 0.9752\n",
      "Epoch 143: accuracy did not improve from 0.97584\n",
      "156/156 [==============================] - 10s 63ms/step - loss: 3.8393 - accuracy: 0.9752 - lr: 0.0010\n",
      "Epoch 144/200\n",
      "156/156 [==============================] - ETA: 0s - loss: 3.8300 - accuracy: 0.9704\n",
      "Epoch 144: accuracy did not improve from 0.97584\n",
      "156/156 [==============================] - 10s 62ms/step - loss: 3.8300 - accuracy: 0.9704 - lr: 0.0010\n",
      "Epoch 145/200\n",
      "156/156 [==============================] - ETA: 0s - loss: 3.7836 - accuracy: 0.9768\n",
      "Epoch 145: accuracy improved from 0.97584 to 0.97684, saving model to model-03\n"
     ]
    },
    {
     "name": "stderr",
     "output_type": "stream",
     "text": [
      "WARNING:absl:Found untraced functions such as _jit_compiled_convolution_op, _jit_compiled_convolution_op, _jit_compiled_convolution_op, _jit_compiled_convolution_op, _jit_compiled_convolution_op while saving (showing 5 of 16). These functions will not be directly callable after loading.\n"
     ]
    },
    {
     "name": "stdout",
     "output_type": "stream",
     "text": [
      "INFO:tensorflow:Assets written to: model-03/assets\n"
     ]
    },
    {
     "name": "stderr",
     "output_type": "stream",
     "text": [
      "INFO:tensorflow:Assets written to: model-03/assets\n"
     ]
    },
    {
     "name": "stdout",
     "output_type": "stream",
     "text": [
      "156/156 [==============================] - 15s 94ms/step - loss: 3.7836 - accuracy: 0.9768 - lr: 0.0010\n",
      "Epoch 146/200\n",
      "156/156 [==============================] - ETA: 0s - loss: 3.7713 - accuracy: 0.9736\n",
      "Epoch 146: accuracy did not improve from 0.97684\n",
      "156/156 [==============================] - 10s 63ms/step - loss: 3.7713 - accuracy: 0.9736 - lr: 0.0010\n",
      "Epoch 147/200\n",
      "156/156 [==============================] - ETA: 0s - loss: 3.7546 - accuracy: 0.9724\n",
      "Epoch 147: accuracy did not improve from 0.97684\n",
      "156/156 [==============================] - 10s 63ms/step - loss: 3.7546 - accuracy: 0.9724 - lr: 0.0010\n",
      "Epoch 148/200\n",
      "156/156 [==============================] - ETA: 0s - loss: 3.7155 - accuracy: 0.9785\n",
      "Epoch 148: accuracy improved from 0.97684 to 0.97845, saving model to model-03\n"
     ]
    },
    {
     "name": "stderr",
     "output_type": "stream",
     "text": [
      "WARNING:absl:Found untraced functions such as _jit_compiled_convolution_op, _jit_compiled_convolution_op, _jit_compiled_convolution_op, _jit_compiled_convolution_op, _jit_compiled_convolution_op while saving (showing 5 of 16). These functions will not be directly callable after loading.\n"
     ]
    },
    {
     "name": "stdout",
     "output_type": "stream",
     "text": [
      "INFO:tensorflow:Assets written to: model-03/assets\n"
     ]
    },
    {
     "name": "stderr",
     "output_type": "stream",
     "text": [
      "INFO:tensorflow:Assets written to: model-03/assets\n"
     ]
    },
    {
     "name": "stdout",
     "output_type": "stream",
     "text": [
      "156/156 [==============================] - 15s 98ms/step - loss: 3.7155 - accuracy: 0.9785 - lr: 0.0010\n",
      "Epoch 149/200\n",
      "156/156 [==============================] - ETA: 0s - loss: 3.7010 - accuracy: 0.9750\n",
      "Epoch 149: accuracy did not improve from 0.97845\n",
      "156/156 [==============================] - 10s 63ms/step - loss: 3.7010 - accuracy: 0.9750 - lr: 0.0010\n",
      "Epoch 150/200\n",
      "156/156 [==============================] - ETA: 0s - loss: 3.6715 - accuracy: 0.9764\n",
      "Epoch 150: accuracy did not improve from 0.97845\n",
      "156/156 [==============================] - 10s 63ms/step - loss: 3.6715 - accuracy: 0.9764 - lr: 0.0010\n",
      "Epoch 151/200\n",
      "156/156 [==============================] - ETA: 0s - loss: 3.6520 - accuracy: 0.9744\n",
      "Epoch 151: accuracy did not improve from 0.97845\n",
      "156/156 [==============================] - 10s 64ms/step - loss: 3.6520 - accuracy: 0.9744 - lr: 0.0010\n",
      "Epoch 152/200\n",
      "156/156 [==============================] - ETA: 0s - loss: 3.6356 - accuracy: 0.9744\n",
      "Epoch 152: accuracy did not improve from 0.97845\n",
      "156/156 [==============================] - 10s 63ms/step - loss: 3.6356 - accuracy: 0.9744 - lr: 0.0010\n",
      "Epoch 153/200\n",
      "156/156 [==============================] - ETA: 0s - loss: 3.6085 - accuracy: 0.9756\n",
      "Epoch 153: accuracy did not improve from 0.97845\n",
      "156/156 [==============================] - 10s 64ms/step - loss: 3.6085 - accuracy: 0.9756 - lr: 0.0010\n",
      "Epoch 154/200\n",
      "156/156 [==============================] - ETA: 0s - loss: 3.5889 - accuracy: 0.9756\n",
      "Epoch 154: accuracy did not improve from 0.97845\n",
      "156/156 [==============================] - 10s 64ms/step - loss: 3.5889 - accuracy: 0.9756 - lr: 0.0010\n",
      "Epoch 155/200\n",
      "156/156 [==============================] - ETA: 0s - loss: 3.5725 - accuracy: 0.9716\n",
      "Epoch 155: accuracy did not improve from 0.97845\n",
      "156/156 [==============================] - 10s 64ms/step - loss: 3.5725 - accuracy: 0.9716 - lr: 0.0010\n",
      "Epoch 156/200\n",
      "156/156 [==============================] - ETA: 0s - loss: 3.5456 - accuracy: 0.9746\n",
      "Epoch 156: accuracy did not improve from 0.97845\n",
      "156/156 [==============================] - 10s 63ms/step - loss: 3.5456 - accuracy: 0.9746 - lr: 0.0010\n",
      "Epoch 157/200\n",
      "156/156 [==============================] - ETA: 0s - loss: 3.5160 - accuracy: 0.9768\n",
      "Epoch 157: accuracy did not improve from 0.97845\n",
      "156/156 [==============================] - 10s 64ms/step - loss: 3.5160 - accuracy: 0.9768 - lr: 0.0010\n",
      "Epoch 158/200\n",
      "156/156 [==============================] - ETA: 0s - loss: 3.4940 - accuracy: 0.9783\n",
      "Epoch 158: accuracy did not improve from 0.97845\n",
      "156/156 [==============================] - 10s 62ms/step - loss: 3.4940 - accuracy: 0.9783 - lr: 0.0010\n",
      "Epoch 159/200\n",
      "156/156 [==============================] - ETA: 0s - loss: 3.4741 - accuracy: 0.9756\n",
      "Epoch 159: accuracy did not improve from 0.97845\n",
      "156/156 [==============================] - 10s 64ms/step - loss: 3.4741 - accuracy: 0.9756 - lr: 0.0010\n",
      "Epoch 160/200\n",
      "156/156 [==============================] - ETA: 0s - loss: 3.4593 - accuracy: 0.9738\n",
      "Epoch 160: accuracy did not improve from 0.97845\n",
      "156/156 [==============================] - 10s 63ms/step - loss: 3.4593 - accuracy: 0.9738 - lr: 0.0010\n",
      "Epoch 161/200\n",
      "156/156 [==============================] - ETA: 0s - loss: 3.4316 - accuracy: 0.9768\n",
      "Epoch 161: accuracy did not improve from 0.97845\n",
      "156/156 [==============================] - 10s 62ms/step - loss: 3.4316 - accuracy: 0.9768 - lr: 0.0010\n",
      "Epoch 162/200\n",
      "156/156 [==============================] - ETA: 0s - loss: 3.4163 - accuracy: 0.9762\n",
      "Epoch 162: accuracy did not improve from 0.97845\n",
      "156/156 [==============================] - 10s 63ms/step - loss: 3.4163 - accuracy: 0.9762 - lr: 0.0010\n",
      "Epoch 163/200\n",
      "156/156 [==============================] - ETA: 0s - loss: 3.3930 - accuracy: 0.9752\n",
      "Epoch 163: accuracy did not improve from 0.97845\n",
      "156/156 [==============================] - 10s 64ms/step - loss: 3.3930 - accuracy: 0.9752 - lr: 0.0010\n",
      "Epoch 164/200\n",
      "156/156 [==============================] - ETA: 0s - loss: 3.3693 - accuracy: 0.9793\n",
      "Epoch 164: accuracy improved from 0.97845 to 0.97926, saving model to model-03\n"
     ]
    },
    {
     "name": "stderr",
     "output_type": "stream",
     "text": [
      "WARNING:absl:Found untraced functions such as _jit_compiled_convolution_op, _jit_compiled_convolution_op, _jit_compiled_convolution_op, _jit_compiled_convolution_op, _jit_compiled_convolution_op while saving (showing 5 of 16). These functions will not be directly callable after loading.\n"
     ]
    },
    {
     "name": "stdout",
     "output_type": "stream",
     "text": [
      "INFO:tensorflow:Assets written to: model-03/assets\n"
     ]
    },
    {
     "name": "stderr",
     "output_type": "stream",
     "text": [
      "INFO:tensorflow:Assets written to: model-03/assets\n"
     ]
    },
    {
     "name": "stdout",
     "output_type": "stream",
     "text": [
      "156/156 [==============================] - 15s 95ms/step - loss: 3.3693 - accuracy: 0.9793 - lr: 0.0010\n",
      "Epoch 165/200\n",
      "156/156 [==============================] - ETA: 0s - loss: 3.3464 - accuracy: 0.9768\n",
      "Epoch 165: accuracy did not improve from 0.97926\n",
      "156/156 [==============================] - 10s 66ms/step - loss: 3.3464 - accuracy: 0.9768 - lr: 0.0010\n",
      "Epoch 166/200\n",
      "156/156 [==============================] - ETA: 0s - loss: 3.3289 - accuracy: 0.9762\n",
      "Epoch 166: accuracy did not improve from 0.97926\n",
      "156/156 [==============================] - 10s 64ms/step - loss: 3.3289 - accuracy: 0.9762 - lr: 0.0010\n",
      "Epoch 167/200\n",
      "156/156 [==============================] - ETA: 0s - loss: 3.3082 - accuracy: 0.9801\n",
      "Epoch 167: accuracy improved from 0.97926 to 0.98006, saving model to model-03\n"
     ]
    },
    {
     "name": "stderr",
     "output_type": "stream",
     "text": [
      "WARNING:absl:Found untraced functions such as _jit_compiled_convolution_op, _jit_compiled_convolution_op, _jit_compiled_convolution_op, _jit_compiled_convolution_op, _jit_compiled_convolution_op while saving (showing 5 of 16). These functions will not be directly callable after loading.\n"
     ]
    },
    {
     "name": "stdout",
     "output_type": "stream",
     "text": [
      "INFO:tensorflow:Assets written to: model-03/assets\n"
     ]
    },
    {
     "name": "stderr",
     "output_type": "stream",
     "text": [
      "INFO:tensorflow:Assets written to: model-03/assets\n"
     ]
    },
    {
     "name": "stdout",
     "output_type": "stream",
     "text": [
      "156/156 [==============================] - 15s 96ms/step - loss: 3.3082 - accuracy: 0.9801 - lr: 0.0010\n",
      "Epoch 168/200\n",
      "156/156 [==============================] - ETA: 0s - loss: 3.2792 - accuracy: 0.9799\n",
      "Epoch 168: accuracy did not improve from 0.98006\n",
      "156/156 [==============================] - 10s 63ms/step - loss: 3.2792 - accuracy: 0.9799 - lr: 0.0010\n",
      "Epoch 169/200\n",
      "156/156 [==============================] - ETA: 0s - loss: 3.2676 - accuracy: 0.9772\n",
      "Epoch 169: accuracy did not improve from 0.98006\n",
      "156/156 [==============================] - 10s 63ms/step - loss: 3.2676 - accuracy: 0.9772 - lr: 0.0010\n",
      "Epoch 170/200\n",
      "156/156 [==============================] - ETA: 0s - loss: 3.2536 - accuracy: 0.9762\n",
      "Epoch 170: accuracy did not improve from 0.98006\n",
      "156/156 [==============================] - 10s 63ms/step - loss: 3.2536 - accuracy: 0.9762 - lr: 0.0010\n",
      "Epoch 171/200\n",
      "156/156 [==============================] - ETA: 0s - loss: 3.2291 - accuracy: 0.9764\n",
      "Epoch 171: accuracy did not improve from 0.98006\n",
      "156/156 [==============================] - 10s 63ms/step - loss: 3.2291 - accuracy: 0.9764 - lr: 0.0010\n",
      "Epoch 172/200\n",
      "156/156 [==============================] - ETA: 0s - loss: 3.2060 - accuracy: 0.9764\n",
      "Epoch 172: accuracy did not improve from 0.98006\n",
      "156/156 [==============================] - 10s 62ms/step - loss: 3.2060 - accuracy: 0.9764 - lr: 0.0010\n",
      "Epoch 173/200\n",
      "156/156 [==============================] - ETA: 0s - loss: 3.1954 - accuracy: 0.9756\n",
      "Epoch 173: accuracy did not improve from 0.98006\n",
      "156/156 [==============================] - 10s 63ms/step - loss: 3.1954 - accuracy: 0.9756 - lr: 0.0010\n",
      "Epoch 174/200\n",
      "156/156 [==============================] - ETA: 0s - loss: 3.1731 - accuracy: 0.9748\n",
      "Epoch 174: accuracy did not improve from 0.98006\n",
      "156/156 [==============================] - 10s 63ms/step - loss: 3.1731 - accuracy: 0.9748 - lr: 0.0010\n",
      "Epoch 175/200\n",
      "156/156 [==============================] - ETA: 0s - loss: 3.1614 - accuracy: 0.9760\n",
      "Epoch 175: accuracy did not improve from 0.98006\n",
      "156/156 [==============================] - 10s 64ms/step - loss: 3.1614 - accuracy: 0.9760 - lr: 0.0010\n",
      "Epoch 176/200\n",
      "156/156 [==============================] - ETA: 0s - loss: 3.1194 - accuracy: 0.9807\n",
      "Epoch 176: accuracy improved from 0.98006 to 0.98067, saving model to model-03\n"
     ]
    },
    {
     "name": "stderr",
     "output_type": "stream",
     "text": [
      "WARNING:absl:Found untraced functions such as _jit_compiled_convolution_op, _jit_compiled_convolution_op, _jit_compiled_convolution_op, _jit_compiled_convolution_op, _jit_compiled_convolution_op while saving (showing 5 of 16). These functions will not be directly callable after loading.\n"
     ]
    },
    {
     "name": "stdout",
     "output_type": "stream",
     "text": [
      "INFO:tensorflow:Assets written to: model-03/assets\n"
     ]
    },
    {
     "name": "stderr",
     "output_type": "stream",
     "text": [
      "INFO:tensorflow:Assets written to: model-03/assets\n"
     ]
    },
    {
     "name": "stdout",
     "output_type": "stream",
     "text": [
      "156/156 [==============================] - 15s 97ms/step - loss: 3.1194 - accuracy: 0.9807 - lr: 0.0010\n",
      "Epoch 177/200\n",
      "156/156 [==============================] - ETA: 0s - loss: 3.1140 - accuracy: 0.9762\n",
      "Epoch 177: accuracy did not improve from 0.98067\n",
      "156/156 [==============================] - 10s 63ms/step - loss: 3.1140 - accuracy: 0.9762 - lr: 0.0010\n",
      "Epoch 178/200\n",
      "156/156 [==============================] - ETA: 0s - loss: 3.0879 - accuracy: 0.9762\n",
      "Epoch 178: accuracy did not improve from 0.98067\n",
      "156/156 [==============================] - 10s 63ms/step - loss: 3.0879 - accuracy: 0.9762 - lr: 0.0010\n",
      "Epoch 179/200\n",
      "156/156 [==============================] - ETA: 0s - loss: 3.0797 - accuracy: 0.9778\n",
      "Epoch 179: accuracy did not improve from 0.98067\n",
      "156/156 [==============================] - 10s 63ms/step - loss: 3.0797 - accuracy: 0.9778 - lr: 0.0010\n",
      "Epoch 180/200\n",
      "156/156 [==============================] - ETA: 0s - loss: 3.0473 - accuracy: 0.9795\n",
      "Epoch 180: accuracy did not improve from 0.98067\n",
      "156/156 [==============================] - 10s 63ms/step - loss: 3.0473 - accuracy: 0.9795 - lr: 0.0010\n",
      "Epoch 181/200\n",
      "156/156 [==============================] - ETA: 0s - loss: 3.0300 - accuracy: 0.9803\n",
      "Epoch 181: accuracy did not improve from 0.98067\n",
      "156/156 [==============================] - 10s 63ms/step - loss: 3.0300 - accuracy: 0.9803 - lr: 0.0010\n",
      "Epoch 182/200\n",
      "156/156 [==============================] - ETA: 0s - loss: 3.0179 - accuracy: 0.9799\n",
      "Epoch 182: accuracy did not improve from 0.98067\n",
      "156/156 [==============================] - 10s 63ms/step - loss: 3.0179 - accuracy: 0.9799 - lr: 0.0010\n",
      "Epoch 183/200\n",
      "156/156 [==============================] - ETA: 0s - loss: 2.9949 - accuracy: 0.9781\n",
      "Epoch 183: accuracy did not improve from 0.98067\n",
      "156/156 [==============================] - 10s 63ms/step - loss: 2.9949 - accuracy: 0.9781 - lr: 0.0010\n",
      "Epoch 184/200\n",
      "156/156 [==============================] - ETA: 0s - loss: 2.9872 - accuracy: 0.9748\n",
      "Epoch 184: accuracy did not improve from 0.98067\n",
      "156/156 [==============================] - 10s 62ms/step - loss: 2.9872 - accuracy: 0.9748 - lr: 0.0010\n",
      "Epoch 185/200\n",
      "156/156 [==============================] - ETA: 0s - loss: 2.9590 - accuracy: 0.9799\n",
      "Epoch 185: accuracy did not improve from 0.98067\n",
      "156/156 [==============================] - 10s 62ms/step - loss: 2.9590 - accuracy: 0.9799 - lr: 0.0010\n",
      "Epoch 186/200\n",
      "156/156 [==============================] - ETA: 0s - loss: 2.9398 - accuracy: 0.9783\n",
      "Epoch 186: accuracy did not improve from 0.98067\n",
      "156/156 [==============================] - 10s 63ms/step - loss: 2.9398 - accuracy: 0.9783 - lr: 0.0010\n",
      "Epoch 187/200\n",
      "156/156 [==============================] - ETA: 0s - loss: 2.9281 - accuracy: 0.9774\n",
      "Epoch 187: accuracy did not improve from 0.98067\n",
      "156/156 [==============================] - 10s 62ms/step - loss: 2.9281 - accuracy: 0.9774 - lr: 0.0010\n",
      "Epoch 188/200\n",
      "156/156 [==============================] - ETA: 0s - loss: 2.9073 - accuracy: 0.9766\n",
      "Epoch 188: accuracy did not improve from 0.98067\n",
      "156/156 [==============================] - 10s 62ms/step - loss: 2.9073 - accuracy: 0.9766 - lr: 0.0010\n",
      "Epoch 189/200\n",
      "156/156 [==============================] - ETA: 0s - loss: 2.8897 - accuracy: 0.9799\n",
      "Epoch 189: accuracy did not improve from 0.98067\n",
      "156/156 [==============================] - 10s 62ms/step - loss: 2.8897 - accuracy: 0.9799 - lr: 0.0010\n",
      "Epoch 190/200\n",
      "156/156 [==============================] - ETA: 0s - loss: 2.8733 - accuracy: 0.9750\n",
      "Epoch 190: accuracy did not improve from 0.98067\n",
      "156/156 [==============================] - 10s 63ms/step - loss: 2.8733 - accuracy: 0.9750 - lr: 0.0010\n",
      "Epoch 191/200\n",
      "156/156 [==============================] - ETA: 0s - loss: 2.8505 - accuracy: 0.9803\n",
      "Epoch 191: accuracy did not improve from 0.98067\n",
      "156/156 [==============================] - 10s 64ms/step - loss: 2.8505 - accuracy: 0.9803 - lr: 0.0010\n",
      "Epoch 192/200\n",
      "156/156 [==============================] - ETA: 0s - loss: 2.8347 - accuracy: 0.9803\n",
      "Epoch 192: accuracy did not improve from 0.98067\n",
      "156/156 [==============================] - 10s 63ms/step - loss: 2.8347 - accuracy: 0.9803 - lr: 0.0010\n",
      "Epoch 193/200\n",
      "156/156 [==============================] - ETA: 0s - loss: 2.8091 - accuracy: 0.9823\n",
      "Epoch 193: accuracy improved from 0.98067 to 0.98228, saving model to model-03\n"
     ]
    },
    {
     "name": "stderr",
     "output_type": "stream",
     "text": [
      "WARNING:absl:Found untraced functions such as _jit_compiled_convolution_op, _jit_compiled_convolution_op, _jit_compiled_convolution_op, _jit_compiled_convolution_op, _jit_compiled_convolution_op while saving (showing 5 of 16). These functions will not be directly callable after loading.\n"
     ]
    },
    {
     "name": "stdout",
     "output_type": "stream",
     "text": [
      "INFO:tensorflow:Assets written to: model-03/assets\n"
     ]
    },
    {
     "name": "stderr",
     "output_type": "stream",
     "text": [
      "INFO:tensorflow:Assets written to: model-03/assets\n"
     ]
    },
    {
     "name": "stdout",
     "output_type": "stream",
     "text": [
      "156/156 [==============================] - 15s 96ms/step - loss: 2.8091 - accuracy: 0.9823 - lr: 0.0010\n",
      "Epoch 194/200\n",
      "156/156 [==============================] - ETA: 0s - loss: 2.8011 - accuracy: 0.9791\n",
      "Epoch 194: accuracy did not improve from 0.98228\n",
      "156/156 [==============================] - 10s 62ms/step - loss: 2.8011 - accuracy: 0.9791 - lr: 0.0010\n",
      "Epoch 195/200\n",
      "156/156 [==============================] - ETA: 0s - loss: 2.7821 - accuracy: 0.9805\n",
      "Epoch 195: accuracy did not improve from 0.98228\n",
      "156/156 [==============================] - 10s 63ms/step - loss: 2.7821 - accuracy: 0.9805 - lr: 0.0010\n",
      "Epoch 196/200\n",
      "156/156 [==============================] - ETA: 0s - loss: 2.7678 - accuracy: 0.9821\n",
      "Epoch 196: accuracy did not improve from 0.98228\n",
      "156/156 [==============================] - 10s 64ms/step - loss: 2.7678 - accuracy: 0.9821 - lr: 0.0010\n",
      "Epoch 197/200\n",
      "156/156 [==============================] - ETA: 0s - loss: 2.7515 - accuracy: 0.9772\n",
      "Epoch 197: accuracy did not improve from 0.98228\n",
      "156/156 [==============================] - 10s 63ms/step - loss: 2.7515 - accuracy: 0.9772 - lr: 0.0010\n",
      "Epoch 198/200\n",
      "156/156 [==============================] - ETA: 0s - loss: 2.7360 - accuracy: 0.9817\n",
      "Epoch 198: accuracy did not improve from 0.98228\n",
      "156/156 [==============================] - 10s 63ms/step - loss: 2.7360 - accuracy: 0.9817 - lr: 0.0010\n",
      "Epoch 199/200\n",
      "156/156 [==============================] - ETA: 0s - loss: 2.7124 - accuracy: 0.9805\n",
      "Epoch 199: accuracy did not improve from 0.98228\n",
      "156/156 [==============================] - 10s 63ms/step - loss: 2.7124 - accuracy: 0.9805 - lr: 0.0010\n",
      "Epoch 200/200\n",
      "156/156 [==============================] - ETA: 0s - loss: 2.7037 - accuracy: 0.9811\n",
      "Epoch 200: accuracy did not improve from 0.98228\n",
      "156/156 [==============================] - 10s 62ms/step - loss: 2.7037 - accuracy: 0.9811 - lr: 0.0010\n"
     ]
    }
   ],
   "source": [
    "## EJECUCION DEL MODELO\n",
    "# with tf.device(\"/CPU:0\"):\n",
    "# with tf.device(\"/GPU:0\"):\n",
    "model.compile(loss=\"categorical_crossentropy\", \n",
    "              optimizer= SGD(learning_rate=0.001),\n",
    "              metrics=['accuracy'])\n",
    "\n",
    "#Agregamos un callback\n",
    "from tensorflow.keras.callbacks import ModelCheckpoint\n",
    "from tensorflow.keras.callbacks import ReduceLROnPlateau\n",
    "\n",
    "checkpointer = ModelCheckpoint(filepath='model-03', verbose=1, save_best_only=True,\n",
    "                               monitor = \"accuracy\", mode = 'max')\n",
    "reduce_lr = ReduceLROnPlateau(monitor='loss', factor=0.2,\n",
    "                              patience=3, min_lr=0.000001)\n",
    "\n",
    "history= model.fit(train_generator, callbacks = [reduce_lr, checkpointer], epochs=epochs)"
   ]
  },
  {
   "cell_type": "code",
   "execution_count": 13,
   "id": "7f2bdaef-cd4d-4293-a9d6-96ff42a472f9",
   "metadata": {},
   "outputs": [
    {
     "name": "stdout",
     "output_type": "stream",
     "text": [
      "34/34 [==============================] - 2s 65ms/step\n"
     ]
    }
   ],
   "source": [
    "preds_test = model.predict(test_generator)"
   ]
  },
  {
   "cell_type": "code",
   "execution_count": 14,
   "id": "49f96094-7a88-42fe-ad44-8530de26456e",
   "metadata": {},
   "outputs": [
    {
     "name": "stdout",
     "output_type": "stream",
     "text": [
      "34/34 [==============================] - 3s 67ms/step - loss: 2.9190 - accuracy: 0.9301\n"
     ]
    }
   ],
   "source": [
    "evaluate_test = model.evaluate(test_generator)"
   ]
  },
  {
   "cell_type": "code",
   "execution_count": 15,
   "id": "730f6466-b483-483e-b16c-1dde5da34648",
   "metadata": {},
   "outputs": [
    {
     "data": {
      "text/plain": [
       "[2.9189982414245605, 0.9301470518112183]"
      ]
     },
     "execution_count": 15,
     "metadata": {},
     "output_type": "execute_result"
    }
   ],
   "source": [
    "evaluate_test"
   ]
  },
  {
   "cell_type": "code",
   "execution_count": 16,
   "id": "71fc2b80-aa9e-4fa3-b8d9-25f732de5c86",
   "metadata": {},
   "outputs": [
    {
     "data": {
      "text/plain": [
       "array([ 0,  0,  0, ..., 33, 33, 33])"
      ]
     },
     "execution_count": 16,
     "metadata": {},
     "output_type": "execute_result"
    }
   ],
   "source": [
    "y_preds_test = np.array([np.argmax(x) for x in preds_test])\n",
    "y_preds_test"
   ]
  },
  {
   "cell_type": "code",
   "execution_count": 17,
   "id": "eb480175-6c03-4201-806c-fb8a27b96984",
   "metadata": {},
   "outputs": [
    {
     "data": {
      "text/plain": [
       "array([ 0,  0,  0, ..., 33, 33, 33], dtype=int32)"
      ]
     },
     "execution_count": 17,
     "metadata": {},
     "output_type": "execute_result"
    }
   ],
   "source": [
    "y_real_test = test_generator.classes\n",
    "y_real_test"
   ]
  },
  {
   "cell_type": "code",
   "execution_count": 18,
   "id": "95f69712-fd40-43cf-90d2-9b0a1bafca00",
   "metadata": {},
   "outputs": [
    {
     "data": {
      "text/plain": [
       "0.9420955882352942"
      ]
     },
     "execution_count": 18,
     "metadata": {},
     "output_type": "execute_result"
    }
   ],
   "source": [
    "accuracy_test = accuracy_score(y_real_test, y_preds_test)\n",
    "accuracy_test"
   ]
  },
  {
   "cell_type": "code",
   "execution_count": 19,
   "id": "4b0f6dec-7952-41d6-bc7c-e585cd11d7de",
   "metadata": {},
   "outputs": [
    {
     "data": {
      "text/plain": [
       "array([[32,  0,  0, ...,  0,  0,  0],\n",
       "       [ 0, 32,  0, ...,  0,  0,  0],\n",
       "       [ 0,  0, 32, ...,  0,  0,  0],\n",
       "       ...,\n",
       "       [ 0,  0,  0, ..., 32,  0,  0],\n",
       "       [ 0,  0,  0, ...,  0, 30,  0],\n",
       "       [ 0,  0,  0, ...,  0,  2, 30]])"
      ]
     },
     "execution_count": 19,
     "metadata": {},
     "output_type": "execute_result"
    }
   ],
   "source": [
    "cm_test = confusion_matrix(y_real_test, y_preds_test)\n",
    "cm_test"
   ]
  },
  {
   "cell_type": "code",
   "execution_count": 20,
   "id": "4cb535b8-028f-477e-b03f-8783b3a13096",
   "metadata": {},
   "outputs": [
    {
     "data": {
      "image/png": "[encoded data removed]",
      "text/plain": [
       "<Figure size 800x600 with 2 Axes>"
      ]
     },
     "metadata": {},
     "output_type": "display_data"
    }
   ],
   "source": [
    "plt.figure(figsize=(8,6), dpi=100)\n",
    "# Scale up the size of all text\n",
    "sns.set(font_scale = 1.1)\n",
    "\n",
    "# Plot Confusion Matrix using Seaborn heatmap()\n",
    "# Parameters:\n",
    "# first param - confusion matrix in array format   \n",
    "# annot = True: show the numbers in each heatmap cell\n",
    "# fmt = 'd': show numbers as integers. \n",
    "ax = sns.heatmap(cm_test, annot=True, fmt='d', )\n",
    "\n",
    "# set x-axis label and ticks. \n",
    "ax.set_xlabel(\"Predicted Diagnosis\", fontsize=14, labelpad=20)\n",
    "# ax.xaxis.set_ticklabels(['Negative', 'Positive'])\n",
    "\n",
    "# set y-axis label and ticks\n",
    "ax.set_ylabel(\"Actual Diagnosis\", fontsize=14, labelpad=20)\n",
    "# ax.yaxis.set_ticklabels(['Negative', 'Positive'])\n",
    "\n",
    "# set plot title\n",
    "ax.set_title(\"Confusion Matrix for the Diabetes Detection Model\", fontsize=14, pad=20)\n",
    "\n",
    "plt.show()"
   ]
  },
  {
   "cell_type": "code",
   "execution_count": 21,
   "id": "b503eb1a-81ed-4078-b596-278249a3c722",
   "metadata": {},
   "outputs": [
    {
     "name": "stdout",
     "output_type": "stream",
     "text": [
      "33/33 [==============================] - 3s 79ms/step\n"
     ]
    }
   ],
   "source": [
    "preds_val = model.predict(valid_generator)"
   ]
  },
  {
   "cell_type": "code",
   "execution_count": 22,
   "id": "1fb77fb4-bdbf-4929-b30b-f90ab9aa55eb",
   "metadata": {},
   "outputs": [
    {
     "name": "stdout",
     "output_type": "stream",
     "text": [
      "33/33 [==============================] - 2s 63ms/step - loss: 2.7765 - accuracy: 0.9628\n"
     ]
    }
   ],
   "source": [
    "evaluate_val = model.evaluate(valid_generator)"
   ]
  },
  {
   "cell_type": "code",
   "execution_count": 23,
   "id": "d3a2be82-fc27-446d-be97-ef39329a1385",
   "metadata": {},
   "outputs": [
    {
     "data": {
      "text/plain": [
       "[2.77645206451416, 0.9627862572669983]"
      ]
     },
     "execution_count": 23,
     "metadata": {},
     "output_type": "execute_result"
    }
   ],
   "source": [
    "evaluate_val"
   ]
  },
  {
   "cell_type": "code",
   "execution_count": 24,
   "id": "d17f5e3f-c58f-4ff5-86d8-961dde74325c",
   "metadata": {},
   "outputs": [
    {
     "data": {
      "text/plain": [
       "array([10,  0,  0, ..., 33, 33, 33])"
      ]
     },
     "execution_count": 24,
     "metadata": {},
     "output_type": "execute_result"
    }
   ],
   "source": [
    "y_preds_val = np.array([np.argmax(x) for x in preds_val])\n",
    "y_preds_val"
   ]
  },
  {
   "cell_type": "code",
   "execution_count": 25,
   "id": "7a7cd9d7-3192-4e04-a0a1-693ca99d1037",
   "metadata": {},
   "outputs": [
    {
     "data": {
      "text/plain": [
       "array([ 0,  0,  0, ..., 33, 33, 33], dtype=int32)"
      ]
     },
     "execution_count": 25,
     "metadata": {},
     "output_type": "execute_result"
    }
   ],
   "source": [
    "y_real_val = valid_generator.classes\n",
    "y_real_val"
   ]
  },
  {
   "cell_type": "code",
   "execution_count": 26,
   "id": "67e7aded-e874-41a0-981d-4de4720b27ad",
   "metadata": {},
   "outputs": [
    {
     "data": {
      "text/plain": [
       "0.9685114503816794"
      ]
     },
     "execution_count": 26,
     "metadata": {},
     "output_type": "execute_result"
    }
   ],
   "source": [
    "accuracy_val = accuracy_score(y_real_val, y_preds_val)\n",
    "accuracy_val"
   ]
  },
  {
   "cell_type": "code",
   "execution_count": 27,
   "id": "c3459eff-7df8-47b2-986a-2beab8ac51e1",
   "metadata": {},
   "outputs": [
    {
     "data": {
      "text/plain": [
       "array([[29,  0,  0, ...,  0,  0,  0],\n",
       "       [ 0, 30,  0, ...,  0,  0,  0],\n",
       "       [ 0,  0, 29, ...,  0,  0,  0],\n",
       "       ...,\n",
       "       [ 0,  0,  0, ..., 31,  0,  0],\n",
       "       [ 0,  0,  0, ...,  0, 31,  0],\n",
       "       [ 0,  0,  0, ...,  0,  0, 31]])"
      ]
     },
     "execution_count": 27,
     "metadata": {},
     "output_type": "execute_result"
    }
   ],
   "source": [
    "cm_val = confusion_matrix(y_real_val, y_preds_val)\n",
    "cm_val"
   ]
  },
  {
   "cell_type": "code",
   "execution_count": 28,
   "id": "d9806965-fb2e-4044-af24-af216719e719",
   "metadata": {},
   "outputs": [
    {
     "data": {
      "image/png": "[encoded data removed]",
      "text/plain": [
       "<Figure size 800x600 with 2 Axes>"
      ]
     },
     "metadata": {},
     "output_type": "display_data"
    }
   ],
   "source": [
    "plt.figure(figsize=(8,6), dpi=100)\n",
    "# Scale up the size of all text\n",
    "sns.set(font_scale = 1.1)\n",
    "\n",
    "# Plot Confusion Matrix using Seaborn heatmap()\n",
    "# Parameters:\n",
    "# first param - confusion matrix in array format   \n",
    "# annot = True: show the numbers in each heatmap cell\n",
    "# fmt = 'd': show numbers as integers. \n",
    "ax = sns.heatmap(cm_val, annot=True, fmt='d', )\n",
    "\n",
    "# set x-axis label and ticks. \n",
    "ax.set_xlabel(\"Predicted Diagnosis\", fontsize=14, labelpad=20)\n",
    "# ax.xaxis.set_ticklabels(['Negative', 'Positive'])\n",
    "\n",
    "# set y-axis label and ticks\n",
    "ax.set_ylabel(\"Actual Diagnosis\", fontsize=14, labelpad=20)\n",
    "# ax.yaxis.set_ticklabels(['Negative', 'Positive'])\n",
    "\n",
    "# set plot title\n",
    "ax.set_title(\"Confusion Matrix for the Diabetes Detection Model\", fontsize=14, pad=20)\n",
    "\n",
    "plt.show()"
   ]
  }
 ],
 "metadata": {
  "kernelspec": {
   "display_name": "TensorFlow 2.11 (Local)",
   "language": "python",
   "name": "local-tf2-2-11"
  },
  "language_info": {
   "codemirror_mode": {
    "name": "ipython",
    "version": 3
   },
   "file_extension": ".py",
   "mimetype": "text/x-python",
   "name": "python",
   "nbconvert_exporter": "python",
   "pygments_lexer": "ipython3",
   "version": "3.7.12"
  }
 },
 "nbformat": 4,
 "nbformat_minor": 5
}

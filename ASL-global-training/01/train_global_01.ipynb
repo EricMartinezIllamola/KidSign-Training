{
 "cells": [
  {
   "cell_type": "code",
   "execution_count": 1,
   "id": "cabbedb0-cdf5-4873-b294-64c330b205de",
   "metadata": {
    "tags": []
   },
   "outputs": [
    {
     "name": "stderr",
     "output_type": "stream",
     "text": [
      "2023-09-18 13:37:35.180468: I tensorflow/core/platform/cpu_feature_guard.cc:193] This TensorFlow binary is optimized with oneAPI Deep Neural Network Library (oneDNN) to use the following CPU instructions in performance-critical operations:  AVX2 FMA\n",
      "To enable them in other operations, rebuild TensorFlow with the appropriate compiler flags.\n",
      "2023-09-18 13:37:38.399153: W tensorflow/compiler/xla/stream_executor/platform/default/dso_loader.cc:64] Could not load dynamic library 'libnvinfer.so.7'; dlerror: libnvinfer.so.7: cannot open shared object file: No such file or directory; LD_LIBRARY_PATH: /usr/local/cuda/lib64:/usr/local/cuda/lib:/usr/local/lib/x86_64-linux-gnu:/usr/local/nvidia/lib:/usr/local/nvidia/lib64:/usr/local/nvidia/lib:/usr/local/nvidia/lib64\n",
      "2023-09-18 13:37:38.399330: W tensorflow/compiler/xla/stream_executor/platform/default/dso_loader.cc:64] Could not load dynamic library 'libnvinfer_plugin.so.7'; dlerror: libnvinfer_plugin.so.7: cannot open shared object file: No such file or directory; LD_LIBRARY_PATH: /usr/local/cuda/lib64:/usr/local/cuda/lib:/usr/local/lib/x86_64-linux-gnu:/usr/local/nvidia/lib:/usr/local/nvidia/lib64:/usr/local/nvidia/lib:/usr/local/nvidia/lib64\n",
      "2023-09-18 13:37:38.399343: W tensorflow/compiler/tf2tensorrt/utils/py_utils.cc:38] TF-TRT Warning: Cannot dlopen some TensorRT libraries. If you would like to use Nvidia GPU with TensorRT, please make sure the missing libraries mentioned above are installed properly.\n"
     ]
    },
    {
     "name": "stdout",
     "output_type": "stream",
     "text": [
      "2.11.0\n"
     ]
    }
   ],
   "source": [
    "import tensorflow as tf\n",
    "\n",
    "print(tf.__version__)\n",
    "\n",
    "from tensorflow.keras.models                import Sequential, Model\n",
    "from tensorflow.keras.layers                import *\n",
    "from tensorflow.keras.preprocessing.image   import ImageDataGenerator\n",
    "from tensorflow.keras.utils                 import to_categorical\n",
    "from tensorflow.keras.optimizers            import SGD, RMSprop, Adam, Adagrad, Adadelta\n",
    "\n",
    "from sklearn.model_selection import train_test_split\n",
    "from sklearn.metrics import confusion_matrix, accuracy_score\n",
    "from sklearn.utils import class_weight\n",
    "\n",
    "import matplotlib.pyplot as plt\n",
    "import random\n",
    "# import cv2\n",
    "import pandas as pd\n",
    "import numpy as np\n",
    "import matplotlib.gridspec as gridspec\n",
    "import seaborn as sns\n",
    "import sklearn\n",
    "import scipy\n",
    "import skimage\n",
    "from skimage.transform import resize\n",
    "from tqdm import tqdm\n",
    "from sklearn import model_selection\n",
    "from sklearn.model_selection import train_test_split, learning_curve,KFold,cross_val_score,StratifiedKFold\n",
    "from sklearn.utils import class_weight\n",
    "from sklearn.metrics import confusion_matrix"
   ]
  },
  {
   "cell_type": "code",
   "execution_count": 2,
   "id": "591c6941-6b95-49ed-a5e4-b3b065f337e5",
   "metadata": {},
   "outputs": [],
   "source": [
    "# !git clone https://github.com/EricMartinezIllamola/asl-global.git"
   ]
  },
  {
   "cell_type": "code",
   "execution_count": 3,
   "id": "b142a1a3-59e9-445c-a9c9-35d7cc5e2645",
   "metadata": {},
   "outputs": [],
   "source": [
    "# !pip install split-folders "
   ]
  },
  {
   "cell_type": "code",
   "execution_count": 4,
   "id": "e29c6dc1-7ac5-4f9c-afc5-27889eadad59",
   "metadata": {
    "tags": []
   },
   "outputs": [],
   "source": [
    "# import splitfolders\n",
    "# import os"
   ]
  },
  {
   "cell_type": "code",
   "execution_count": 5,
   "id": "5bc916a7-71b9-408a-a862-97bac0f8cd8c",
   "metadata": {
    "tags": []
   },
   "outputs": [],
   "source": [
    "# path = \"asl-global/asl-global\"\n",
    "\n",
    "# splitfolders.ratio(path, seed=777, output=\"Train-Validation-Test-Dataset\", ratio=(0.7, 0.15, 0.15))"
   ]
  },
  {
   "cell_type": "code",
   "execution_count": 6,
   "id": "3c62d1d8-12eb-4f83-ae0c-7ffa1f9c939b",
   "metadata": {},
   "outputs": [],
   "source": [
    "train_path = \"Train-Validation-Test-Dataset/train\"\n",
    "val_path = \"Train-Validation-Test-Dataset/val\"\n",
    "test_path = \"Train-Validation-Test-Dataset/test\""
   ]
  },
  {
   "cell_type": "code",
   "execution_count": 7,
   "id": "cdc6b023-62d9-4604-a6b7-388c23c40b87",
   "metadata": {
    "tags": []
   },
   "outputs": [
    {
     "name": "stderr",
     "output_type": "stream",
     "text": [
      "2023-09-18 13:37:42.620717: I tensorflow/compiler/xla/stream_executor/cuda/cuda_gpu_executor.cc:981] successful NUMA node read from SysFS had negative value (-1), but there must be at least one NUMA node, so returning NUMA node zero\n",
      "2023-09-18 13:37:42.635041: I tensorflow/compiler/xla/stream_executor/cuda/cuda_gpu_executor.cc:981] successful NUMA node read from SysFS had negative value (-1), but there must be at least one NUMA node, so returning NUMA node zero\n",
      "2023-09-18 13:37:42.637770: I tensorflow/compiler/xla/stream_executor/cuda/cuda_gpu_executor.cc:981] successful NUMA node read from SysFS had negative value (-1), but there must be at least one NUMA node, so returning NUMA node zero\n"
     ]
    },
    {
     "data": {
      "text/plain": [
       "[PhysicalDevice(name='/physical_device:CPU:0', device_type='CPU'),\n",
       " PhysicalDevice(name='/physical_device:GPU:0', device_type='GPU')]"
      ]
     },
     "execution_count": 7,
     "metadata": {},
     "output_type": "execute_result"
    }
   ],
   "source": [
    "tf.config.experimental.list_physical_devices()"
   ]
  },
  {
   "cell_type": "code",
   "execution_count": 8,
   "id": "e2dfe75c-2fa1-44a9-94ff-d1205720671d",
   "metadata": {
    "tags": []
   },
   "outputs": [
    {
     "data": {
      "text/plain": [
       "True"
      ]
     },
     "execution_count": 8,
     "metadata": {},
     "output_type": "execute_result"
    }
   ],
   "source": [
    "tf.test.is_built_with_cuda()"
   ]
  },
  {
   "cell_type": "code",
   "execution_count": 9,
   "id": "b9f0f604-67d3-43b5-962d-5b88fd6bb534",
   "metadata": {},
   "outputs": [
    {
     "name": "stdout",
     "output_type": "stream",
     "text": [
      "Found 4966 images belonging to 34 classes.\n",
      "Found 1048 images belonging to 34 classes.\n",
      "Found 1088 images belonging to 34 classes.\n"
     ]
    }
   ],
   "source": [
    "from tensorflow.keras.preprocessing.image   import ImageDataGenerator\n",
    "\n",
    "##Clasificamos las imagenes\n",
    "bs = 32 #bach size\n",
    "k = 2\n",
    "# Generador de imágenes de entrenamiento.\n",
    "train_datagen = ImageDataGenerator(\n",
    "        rescale=1./255,\n",
    "        shear_range=(0.3),\n",
    "        zoom_range=(0.3),\n",
    "        width_shift_range=(0.2),\n",
    "        height_shift_range=(0.2),\n",
    "        # validation_split = 0.2,\n",
    "        brightness_range=(0.05,0.85),\n",
    "        horizontal_flip=False)\n",
    "\n",
    "# Carga de imágenes al generador de entrenamiento desde directorio.\n",
    "train_generator = train_datagen.flow_from_directory(\n",
    "        train_path,\n",
    "        class_mode='categorical',\n",
    "        shuffle=True,\n",
    "        target_size=(28*k, 28*k),\n",
    "        color_mode = 'rgb', \n",
    "        # subset = 'training',\n",
    "        batch_size=bs)\n",
    "\n",
    "valid_generator = train_datagen.flow_from_directory(\n",
    "        val_path,\n",
    "        class_mode='categorical',\n",
    "        shuffle=False,\n",
    "        target_size=(28*k, 28*k),\n",
    "        color_mode = 'rgb', \n",
    "        # subset = 'validation',\n",
    "        batch_size=bs)\n",
    "\n",
    "test_generator = train_datagen.flow_from_directory(\n",
    "        test_path,\n",
    "        class_mode='categorical',\n",
    "        shuffle=False,\n",
    "        target_size=(28*k, 28*k),\n",
    "        color_mode = 'rgb', \n",
    "        # subset = 'validation',\n",
    "        batch_size=bs)"
   ]
  },
  {
   "cell_type": "code",
   "execution_count": 10,
   "id": "ce39767d-6018-413a-ac2c-8e816e2cf5e3",
   "metadata": {},
   "outputs": [
    {
     "name": "stderr",
     "output_type": "stream",
     "text": [
      "2023-09-18 13:37:43.540871: I tensorflow/core/platform/cpu_feature_guard.cc:193] This TensorFlow binary is optimized with oneAPI Deep Neural Network Library (oneDNN) to use the following CPU instructions in performance-critical operations:  AVX2 FMA\n",
      "To enable them in other operations, rebuild TensorFlow with the appropriate compiler flags.\n",
      "2023-09-18 13:37:43.542473: I tensorflow/compiler/xla/stream_executor/cuda/cuda_gpu_executor.cc:981] successful NUMA node read from SysFS had negative value (-1), but there must be at least one NUMA node, so returning NUMA node zero\n",
      "2023-09-18 13:37:43.544673: I tensorflow/compiler/xla/stream_executor/cuda/cuda_gpu_executor.cc:981] successful NUMA node read from SysFS had negative value (-1), but there must be at least one NUMA node, so returning NUMA node zero\n",
      "2023-09-18 13:37:43.546551: I tensorflow/compiler/xla/stream_executor/cuda/cuda_gpu_executor.cc:981] successful NUMA node read from SysFS had negative value (-1), but there must be at least one NUMA node, so returning NUMA node zero\n",
      "2023-09-18 13:37:44.309833: I tensorflow/compiler/xla/stream_executor/cuda/cuda_gpu_executor.cc:981] successful NUMA node read from SysFS had negative value (-1), but there must be at least one NUMA node, so returning NUMA node zero\n",
      "2023-09-18 13:37:44.311803: I tensorflow/compiler/xla/stream_executor/cuda/cuda_gpu_executor.cc:981] successful NUMA node read from SysFS had negative value (-1), but there must be at least one NUMA node, so returning NUMA node zero\n",
      "2023-09-18 13:37:44.313468: I tensorflow/compiler/xla/stream_executor/cuda/cuda_gpu_executor.cc:981] successful NUMA node read from SysFS had negative value (-1), but there must be at least one NUMA node, so returning NUMA node zero\n",
      "2023-09-18 13:37:44.315114: I tensorflow/core/common_runtime/gpu/gpu_device.cc:1613] Created device /job:localhost/replica:0/task:0/device:GPU:0 with 13582 MB memory:  -> device: 0, name: Tesla T4, pci bus id: 0000:00:04.0, compute capability: 7.5\n"
     ]
    },
    {
     "name": "stdout",
     "output_type": "stream",
     "text": [
      "Model: \"vgg19\"\n",
      "_________________________________________________________________\n",
      " Layer (type)                Output Shape              Param #   \n",
      "=================================================================\n",
      " input_1 (InputLayer)        [(None, 224, 224, 3)]     0         \n",
      "                                                                 \n",
      " block1_conv1 (Conv2D)       (None, 224, 224, 64)      1792      \n",
      "                                                                 \n",
      " block1_conv2 (Conv2D)       (None, 224, 224, 64)      36928     \n",
      "                                                                 \n",
      " block1_pool (MaxPooling2D)  (None, 112, 112, 64)      0         \n",
      "                                                                 \n",
      " block2_conv1 (Conv2D)       (None, 112, 112, 128)     73856     \n",
      "                                                                 \n",
      " block2_conv2 (Conv2D)       (None, 112, 112, 128)     147584    \n",
      "                                                                 \n",
      " block2_pool (MaxPooling2D)  (None, 56, 56, 128)       0         \n",
      "                                                                 \n",
      " block3_conv1 (Conv2D)       (None, 56, 56, 256)       295168    \n",
      "                                                                 \n",
      " block3_conv2 (Conv2D)       (None, 56, 56, 256)       590080    \n",
      "                                                                 \n",
      " block3_conv3 (Conv2D)       (None, 56, 56, 256)       590080    \n",
      "                                                                 \n",
      " block3_conv4 (Conv2D)       (None, 56, 56, 256)       590080    \n",
      "                                                                 \n",
      " block3_pool (MaxPooling2D)  (None, 28, 28, 256)       0         \n",
      "                                                                 \n",
      " block4_conv1 (Conv2D)       (None, 28, 28, 512)       1180160   \n",
      "                                                                 \n",
      " block4_conv2 (Conv2D)       (None, 28, 28, 512)       2359808   \n",
      "                                                                 \n",
      " block4_conv3 (Conv2D)       (None, 28, 28, 512)       2359808   \n",
      "                                                                 \n",
      " block4_conv4 (Conv2D)       (None, 28, 28, 512)       2359808   \n",
      "                                                                 \n",
      " block4_pool (MaxPooling2D)  (None, 14, 14, 512)       0         \n",
      "                                                                 \n",
      " block5_conv1 (Conv2D)       (None, 14, 14, 512)       2359808   \n",
      "                                                                 \n",
      " block5_conv2 (Conv2D)       (None, 14, 14, 512)       2359808   \n",
      "                                                                 \n",
      " block5_conv3 (Conv2D)       (None, 14, 14, 512)       2359808   \n",
      "                                                                 \n",
      " block5_conv4 (Conv2D)       (None, 14, 14, 512)       2359808   \n",
      "                                                                 \n",
      " block5_pool (MaxPooling2D)  (None, 7, 7, 512)         0         \n",
      "                                                                 \n",
      " flatten (Flatten)           (None, 25088)             0         \n",
      "                                                                 \n",
      " fc1 (Dense)                 (None, 4096)              102764544 \n",
      "                                                                 \n",
      " fc2 (Dense)                 (None, 4096)              16781312  \n",
      "                                                                 \n",
      " predictions (Dense)         (None, 1000)              4097000   \n",
      "                                                                 \n",
      "=================================================================\n",
      "Total params: 143,667,240\n",
      "Trainable params: 143,667,240\n",
      "Non-trainable params: 0\n",
      "_________________________________________________________________\n",
      "26\n"
     ]
    }
   ],
   "source": [
    "#Visualizamos la estructura del modelo que vamos a utilizar\n",
    "model = tf.keras.applications.VGG19()\n",
    "model.summary()\n",
    "print(len(model.layers))"
   ]
  },
  {
   "cell_type": "code",
   "execution_count": 11,
   "id": "b0e0e374-6bf0-455d-92ee-83982a54eae7",
   "metadata": {},
   "outputs": [
    {
     "name": "stdout",
     "output_type": "stream",
     "text": [
      "22\n"
     ]
    }
   ],
   "source": [
    "##DEFINIMOS EL MODELO\n",
    "num_classes = 34\n",
    "epochs = 125\n",
    "\n",
    "# VGG19\n",
    "# Importamos el modelo que queremos utilizar con los argumentos que queremos\n",
    "VGG19_model = tf.keras.applications.VGG19(input_shape=(28*k,28*k,3),\n",
    "                                          include_top=False,\n",
    "                                          weights='imagenet')\n",
    "\n",
    "print(len(VGG19_model.layers))\n",
    "#Congelamos  las 6 primeras caps del modelo para proceder a entrenar las demás\n",
    "for layer in VGG19_model.layers[:6]:\n",
    "  layer.trainable = False\n",
    "\n",
    "# Creamos un nuevo modelo vacio.\n",
    "model = tf.keras.Sequential()\n",
    "\n",
    "# Añadimos el modelo preentrenado como si se tratase de una capa.\n",
    "model.add(VGG19_model)\n",
    "\n",
    "# Continuamos añadiendo más capas que sí serán entrenadas...\n",
    "from tensorflow.keras import regularizers\n",
    "model.add(Flatten())\n",
    "model.add(Dense(2048, kernel_regularizer=regularizers.l2(0.01), activation = 'relu'))\n",
    "model.add(Dropout(0.25))\n",
    "model.add(Dense(num_classes, activation = 'softmax'))"
   ]
  },
  {
   "cell_type": "code",
   "execution_count": 12,
   "id": "98f08be8-a077-4ef3-92ab-b3604ff40655",
   "metadata": {},
   "outputs": [
    {
     "name": "stdout",
     "output_type": "stream",
     "text": [
      "Epoch 1/125\n"
     ]
    },
    {
     "name": "stderr",
     "output_type": "stream",
     "text": [
      "2023-09-18 13:37:49.397953: I tensorflow/compiler/xla/stream_executor/cuda/cuda_dnn.cc:428] Loaded cuDNN version 8200\n",
      "2023-09-18 13:37:51.542560: I tensorflow/compiler/xla/service/service.cc:173] XLA service 0x7f219d7c2580 initialized for platform CUDA (this does not guarantee that XLA will be used). Devices:\n",
      "2023-09-18 13:37:51.542614: I tensorflow/compiler/xla/service/service.cc:181]   StreamExecutor device (0): Tesla T4, Compute Capability 7.5\n",
      "2023-09-18 13:37:51.623608: I tensorflow/compiler/jit/xla_compilation_cache.cc:477] Compiled cluster using XLA!  This line is logged at most once for the lifetime of the process.\n"
     ]
    },
    {
     "name": "stdout",
     "output_type": "stream",
     "text": [
      "156/156 [==============================] - ETA: 0s - loss: 11.6806 - accuracy: 0.0433\n",
      "Epoch 1: accuracy improved from -inf to 0.04329, saving model to model-01\n"
     ]
    },
    {
     "name": "stderr",
     "output_type": "stream",
     "text": [
      "WARNING:absl:Found untraced functions such as _jit_compiled_convolution_op, _jit_compiled_convolution_op, _jit_compiled_convolution_op, _jit_compiled_convolution_op, _jit_compiled_convolution_op while saving (showing 5 of 16). These functions will not be directly callable after loading.\n"
     ]
    },
    {
     "name": "stdout",
     "output_type": "stream",
     "text": [
      "INFO:tensorflow:Assets written to: model-01/assets\n"
     ]
    },
    {
     "name": "stderr",
     "output_type": "stream",
     "text": [
      "INFO:tensorflow:Assets written to: model-01/assets\n"
     ]
    },
    {
     "name": "stdout",
     "output_type": "stream",
     "text": [
      "156/156 [==============================] - 22s 102ms/step - loss: 11.6806 - accuracy: 0.0433 - lr: 0.0010\n",
      "Epoch 2/125\n",
      "156/156 [==============================] - ETA: 0s - loss: 11.3739 - accuracy: 0.0773\n",
      "Epoch 2: accuracy improved from 0.04329 to 0.07733, saving model to model-01\n"
     ]
    },
    {
     "name": "stderr",
     "output_type": "stream",
     "text": [
      "WARNING:absl:Found untraced functions such as _jit_compiled_convolution_op, _jit_compiled_convolution_op, _jit_compiled_convolution_op, _jit_compiled_convolution_op, _jit_compiled_convolution_op while saving (showing 5 of 16). These functions will not be directly callable after loading.\n"
     ]
    },
    {
     "name": "stdout",
     "output_type": "stream",
     "text": [
      "INFO:tensorflow:Assets written to: model-01/assets\n"
     ]
    },
    {
     "name": "stderr",
     "output_type": "stream",
     "text": [
      "INFO:tensorflow:Assets written to: model-01/assets\n"
     ]
    },
    {
     "name": "stdout",
     "output_type": "stream",
     "text": [
      "156/156 [==============================] - 15s 97ms/step - loss: 11.3739 - accuracy: 0.0773 - lr: 0.0010\n",
      "Epoch 3/125\n",
      "156/156 [==============================] - ETA: 0s - loss: 10.9619 - accuracy: 0.1534\n",
      "Epoch 3: accuracy improved from 0.07733 to 0.15344, saving model to model-01\n"
     ]
    },
    {
     "name": "stderr",
     "output_type": "stream",
     "text": [
      "WARNING:absl:Found untraced functions such as _jit_compiled_convolution_op, _jit_compiled_convolution_op, _jit_compiled_convolution_op, _jit_compiled_convolution_op, _jit_compiled_convolution_op while saving (showing 5 of 16). These functions will not be directly callable after loading.\n"
     ]
    },
    {
     "name": "stdout",
     "output_type": "stream",
     "text": [
      "INFO:tensorflow:Assets written to: model-01/assets\n"
     ]
    },
    {
     "name": "stderr",
     "output_type": "stream",
     "text": [
      "INFO:tensorflow:Assets written to: model-01/assets\n"
     ]
    },
    {
     "name": "stdout",
     "output_type": "stream",
     "text": [
      "156/156 [==============================] - 15s 94ms/step - loss: 10.9619 - accuracy: 0.1534 - lr: 0.0010\n",
      "Epoch 4/125\n",
      "156/156 [==============================] - ETA: 0s - loss: 10.5197 - accuracy: 0.2457\n",
      "Epoch 4: accuracy improved from 0.15344 to 0.24567, saving model to model-01\n"
     ]
    },
    {
     "name": "stderr",
     "output_type": "stream",
     "text": [
      "WARNING:absl:Found untraced functions such as _jit_compiled_convolution_op, _jit_compiled_convolution_op, _jit_compiled_convolution_op, _jit_compiled_convolution_op, _jit_compiled_convolution_op while saving (showing 5 of 16). These functions will not be directly callable after loading.\n"
     ]
    },
    {
     "name": "stdout",
     "output_type": "stream",
     "text": [
      "INFO:tensorflow:Assets written to: model-01/assets\n"
     ]
    },
    {
     "name": "stderr",
     "output_type": "stream",
     "text": [
      "INFO:tensorflow:Assets written to: model-01/assets\n"
     ]
    },
    {
     "name": "stdout",
     "output_type": "stream",
     "text": [
      "156/156 [==============================] - 15s 97ms/step - loss: 10.5197 - accuracy: 0.2457 - lr: 0.0010\n",
      "Epoch 5/125\n",
      "156/156 [==============================] - ETA: 0s - loss: 10.1270 - accuracy: 0.3369\n",
      "Epoch 5: accuracy improved from 0.24567 to 0.33689, saving model to model-01\n"
     ]
    },
    {
     "name": "stderr",
     "output_type": "stream",
     "text": [
      "WARNING:absl:Found untraced functions such as _jit_compiled_convolution_op, _jit_compiled_convolution_op, _jit_compiled_convolution_op, _jit_compiled_convolution_op, _jit_compiled_convolution_op while saving (showing 5 of 16). These functions will not be directly callable after loading.\n"
     ]
    },
    {
     "name": "stdout",
     "output_type": "stream",
     "text": [
      "INFO:tensorflow:Assets written to: model-01/assets\n"
     ]
    },
    {
     "name": "stderr",
     "output_type": "stream",
     "text": [
      "INFO:tensorflow:Assets written to: model-01/assets\n"
     ]
    },
    {
     "name": "stdout",
     "output_type": "stream",
     "text": [
      "156/156 [==============================] - 15s 96ms/step - loss: 10.1270 - accuracy: 0.3369 - lr: 0.0010\n",
      "Epoch 6/125\n",
      "156/156 [==============================] - ETA: 0s - loss: 9.7701 - accuracy: 0.4227\n",
      "Epoch 6: accuracy improved from 0.33689 to 0.42267, saving model to model-01\n"
     ]
    },
    {
     "name": "stderr",
     "output_type": "stream",
     "text": [
      "WARNING:absl:Found untraced functions such as _jit_compiled_convolution_op, _jit_compiled_convolution_op, _jit_compiled_convolution_op, _jit_compiled_convolution_op, _jit_compiled_convolution_op while saving (showing 5 of 16). These functions will not be directly callable after loading.\n"
     ]
    },
    {
     "name": "stdout",
     "output_type": "stream",
     "text": [
      "INFO:tensorflow:Assets written to: model-01/assets\n"
     ]
    },
    {
     "name": "stderr",
     "output_type": "stream",
     "text": [
      "INFO:tensorflow:Assets written to: model-01/assets\n"
     ]
    },
    {
     "name": "stdout",
     "output_type": "stream",
     "text": [
      "156/156 [==============================] - 15s 99ms/step - loss: 9.7701 - accuracy: 0.4227 - lr: 0.0010\n",
      "Epoch 7/125\n",
      "156/156 [==============================] - ETA: 0s - loss: 9.4650 - accuracy: 0.5022\n",
      "Epoch 7: accuracy improved from 0.42267 to 0.50222, saving model to model-01\n"
     ]
    },
    {
     "name": "stderr",
     "output_type": "stream",
     "text": [
      "WARNING:absl:Found untraced functions such as _jit_compiled_convolution_op, _jit_compiled_convolution_op, _jit_compiled_convolution_op, _jit_compiled_convolution_op, _jit_compiled_convolution_op while saving (showing 5 of 16). These functions will not be directly callable after loading.\n"
     ]
    },
    {
     "name": "stdout",
     "output_type": "stream",
     "text": [
      "INFO:tensorflow:Assets written to: model-01/assets\n"
     ]
    },
    {
     "name": "stderr",
     "output_type": "stream",
     "text": [
      "INFO:tensorflow:Assets written to: model-01/assets\n"
     ]
    },
    {
     "name": "stdout",
     "output_type": "stream",
     "text": [
      "156/156 [==============================] - 15s 95ms/step - loss: 9.4650 - accuracy: 0.5022 - lr: 0.0010\n",
      "Epoch 8/125\n",
      "156/156 [==============================] - ETA: 0s - loss: 9.2175 - accuracy: 0.5614\n",
      "Epoch 8: accuracy improved from 0.50222 to 0.56142, saving model to model-01\n"
     ]
    },
    {
     "name": "stderr",
     "output_type": "stream",
     "text": [
      "WARNING:absl:Found untraced functions such as _jit_compiled_convolution_op, _jit_compiled_convolution_op, _jit_compiled_convolution_op, _jit_compiled_convolution_op, _jit_compiled_convolution_op while saving (showing 5 of 16). These functions will not be directly callable after loading.\n"
     ]
    },
    {
     "name": "stdout",
     "output_type": "stream",
     "text": [
      "INFO:tensorflow:Assets written to: model-01/assets\n"
     ]
    },
    {
     "name": "stderr",
     "output_type": "stream",
     "text": [
      "INFO:tensorflow:Assets written to: model-01/assets\n"
     ]
    },
    {
     "name": "stdout",
     "output_type": "stream",
     "text": [
      "156/156 [==============================] - 15s 99ms/step - loss: 9.2175 - accuracy: 0.5614 - lr: 0.0010\n",
      "Epoch 9/125\n",
      "156/156 [==============================] - ETA: 0s - loss: 8.9926 - accuracy: 0.6160\n",
      "Epoch 9: accuracy improved from 0.56142 to 0.61599, saving model to model-01\n"
     ]
    },
    {
     "name": "stderr",
     "output_type": "stream",
     "text": [
      "WARNING:absl:Found untraced functions such as _jit_compiled_convolution_op, _jit_compiled_convolution_op, _jit_compiled_convolution_op, _jit_compiled_convolution_op, _jit_compiled_convolution_op while saving (showing 5 of 16). These functions will not be directly callable after loading.\n"
     ]
    },
    {
     "name": "stdout",
     "output_type": "stream",
     "text": [
      "INFO:tensorflow:Assets written to: model-01/assets\n"
     ]
    },
    {
     "name": "stderr",
     "output_type": "stream",
     "text": [
      "INFO:tensorflow:Assets written to: model-01/assets\n"
     ]
    },
    {
     "name": "stdout",
     "output_type": "stream",
     "text": [
      "156/156 [==============================] - 15s 94ms/step - loss: 8.9926 - accuracy: 0.6160 - lr: 0.0010\n",
      "Epoch 10/125\n",
      "156/156 [==============================] - ETA: 0s - loss: 8.7812 - accuracy: 0.6633\n",
      "Epoch 10: accuracy improved from 0.61599 to 0.66331, saving model to model-01\n"
     ]
    },
    {
     "name": "stderr",
     "output_type": "stream",
     "text": [
      "WARNING:absl:Found untraced functions such as _jit_compiled_convolution_op, _jit_compiled_convolution_op, _jit_compiled_convolution_op, _jit_compiled_convolution_op, _jit_compiled_convolution_op while saving (showing 5 of 16). These functions will not be directly callable after loading.\n"
     ]
    },
    {
     "name": "stdout",
     "output_type": "stream",
     "text": [
      "INFO:tensorflow:Assets written to: model-01/assets\n"
     ]
    },
    {
     "name": "stderr",
     "output_type": "stream",
     "text": [
      "INFO:tensorflow:Assets written to: model-01/assets\n"
     ]
    },
    {
     "name": "stdout",
     "output_type": "stream",
     "text": [
      "156/156 [==============================] - 15s 99ms/step - loss: 8.7812 - accuracy: 0.6633 - lr: 0.0010\n",
      "Epoch 11/125\n",
      "156/156 [==============================] - ETA: 0s - loss: 8.6411 - accuracy: 0.6897\n",
      "Epoch 11: accuracy improved from 0.66331 to 0.68969, saving model to model-01\n"
     ]
    },
    {
     "name": "stderr",
     "output_type": "stream",
     "text": [
      "WARNING:absl:Found untraced functions such as _jit_compiled_convolution_op, _jit_compiled_convolution_op, _jit_compiled_convolution_op, _jit_compiled_convolution_op, _jit_compiled_convolution_op while saving (showing 5 of 16). These functions will not be directly callable after loading.\n"
     ]
    },
    {
     "name": "stdout",
     "output_type": "stream",
     "text": [
      "INFO:tensorflow:Assets written to: model-01/assets\n"
     ]
    },
    {
     "name": "stderr",
     "output_type": "stream",
     "text": [
      "INFO:tensorflow:Assets written to: model-01/assets\n"
     ]
    },
    {
     "name": "stdout",
     "output_type": "stream",
     "text": [
      "156/156 [==============================] - 15s 96ms/step - loss: 8.6411 - accuracy: 0.6897 - lr: 0.0010\n",
      "Epoch 12/125\n",
      "156/156 [==============================] - ETA: 0s - loss: 8.4807 - accuracy: 0.7324\n",
      "Epoch 12: accuracy improved from 0.68969 to 0.73238, saving model to model-01\n"
     ]
    },
    {
     "name": "stderr",
     "output_type": "stream",
     "text": [
      "WARNING:absl:Found untraced functions such as _jit_compiled_convolution_op, _jit_compiled_convolution_op, _jit_compiled_convolution_op, _jit_compiled_convolution_op, _jit_compiled_convolution_op while saving (showing 5 of 16). These functions will not be directly callable after loading.\n"
     ]
    },
    {
     "name": "stdout",
     "output_type": "stream",
     "text": [
      "INFO:tensorflow:Assets written to: model-01/assets\n"
     ]
    },
    {
     "name": "stderr",
     "output_type": "stream",
     "text": [
      "INFO:tensorflow:Assets written to: model-01/assets\n"
     ]
    },
    {
     "name": "stdout",
     "output_type": "stream",
     "text": [
      "156/156 [==============================] - 15s 97ms/step - loss: 8.4807 - accuracy: 0.7324 - lr: 0.0010\n",
      "Epoch 13/125\n",
      "156/156 [==============================] - ETA: 0s - loss: 8.3680 - accuracy: 0.7505\n",
      "Epoch 13: accuracy improved from 0.73238 to 0.75050, saving model to model-01\n"
     ]
    },
    {
     "name": "stderr",
     "output_type": "stream",
     "text": [
      "WARNING:absl:Found untraced functions such as _jit_compiled_convolution_op, _jit_compiled_convolution_op, _jit_compiled_convolution_op, _jit_compiled_convolution_op, _jit_compiled_convolution_op while saving (showing 5 of 16). These functions will not be directly callable after loading.\n"
     ]
    },
    {
     "name": "stdout",
     "output_type": "stream",
     "text": [
      "INFO:tensorflow:Assets written to: model-01/assets\n"
     ]
    },
    {
     "name": "stderr",
     "output_type": "stream",
     "text": [
      "INFO:tensorflow:Assets written to: model-01/assets\n"
     ]
    },
    {
     "name": "stdout",
     "output_type": "stream",
     "text": [
      "156/156 [==============================] - 15s 96ms/step - loss: 8.3680 - accuracy: 0.7505 - lr: 0.0010\n",
      "Epoch 14/125\n",
      "155/156 [============================>.] - ETA: 0s - loss: 8.2926 - accuracy: 0.7532\n",
      "Epoch 14: accuracy improved from 0.75050 to 0.75352, saving model to model-01\n"
     ]
    },
    {
     "name": "stderr",
     "output_type": "stream",
     "text": [
      "WARNING:absl:Found untraced functions such as _jit_compiled_convolution_op, _jit_compiled_convolution_op, _jit_compiled_convolution_op, _jit_compiled_convolution_op, _jit_compiled_convolution_op while saving (showing 5 of 16). These functions will not be directly callable after loading.\n"
     ]
    },
    {
     "name": "stdout",
     "output_type": "stream",
     "text": [
      "INFO:tensorflow:Assets written to: model-01/assets\n"
     ]
    },
    {
     "name": "stderr",
     "output_type": "stream",
     "text": [
      "INFO:tensorflow:Assets written to: model-01/assets\n"
     ]
    },
    {
     "name": "stdout",
     "output_type": "stream",
     "text": [
      "156/156 [==============================] - 15s 94ms/step - loss: 8.2918 - accuracy: 0.7535 - lr: 0.0010\n",
      "Epoch 15/125\n",
      "156/156 [==============================] - ETA: 0s - loss: 8.1743 - accuracy: 0.7825\n",
      "Epoch 15: accuracy improved from 0.75352 to 0.78252, saving model to model-01\n"
     ]
    },
    {
     "name": "stderr",
     "output_type": "stream",
     "text": [
      "WARNING:absl:Found untraced functions such as _jit_compiled_convolution_op, _jit_compiled_convolution_op, _jit_compiled_convolution_op, _jit_compiled_convolution_op, _jit_compiled_convolution_op while saving (showing 5 of 16). These functions will not be directly callable after loading.\n"
     ]
    },
    {
     "name": "stdout",
     "output_type": "stream",
     "text": [
      "INFO:tensorflow:Assets written to: model-01/assets\n"
     ]
    },
    {
     "name": "stderr",
     "output_type": "stream",
     "text": [
      "INFO:tensorflow:Assets written to: model-01/assets\n"
     ]
    },
    {
     "name": "stdout",
     "output_type": "stream",
     "text": [
      "156/156 [==============================] - 15s 97ms/step - loss: 8.1743 - accuracy: 0.7825 - lr: 0.0010\n",
      "Epoch 16/125\n",
      "156/156 [==============================] - ETA: 0s - loss: 8.0828 - accuracy: 0.7936\n",
      "Epoch 16: accuracy improved from 0.78252 to 0.79360, saving model to model-01\n"
     ]
    },
    {
     "name": "stderr",
     "output_type": "stream",
     "text": [
      "WARNING:absl:Found untraced functions such as _jit_compiled_convolution_op, _jit_compiled_convolution_op, _jit_compiled_convolution_op, _jit_compiled_convolution_op, _jit_compiled_convolution_op while saving (showing 5 of 16). These functions will not be directly callable after loading.\n"
     ]
    },
    {
     "name": "stdout",
     "output_type": "stream",
     "text": [
      "INFO:tensorflow:Assets written to: model-01/assets\n"
     ]
    },
    {
     "name": "stderr",
     "output_type": "stream",
     "text": [
      "INFO:tensorflow:Assets written to: model-01/assets\n"
     ]
    },
    {
     "name": "stdout",
     "output_type": "stream",
     "text": [
      "156/156 [==============================] - 15s 95ms/step - loss: 8.0828 - accuracy: 0.7936 - lr: 0.0010\n",
      "Epoch 17/125\n",
      "156/156 [==============================] - ETA: 0s - loss: 7.9759 - accuracy: 0.8091\n",
      "Epoch 17: accuracy improved from 0.79360 to 0.80910, saving model to model-01\n"
     ]
    },
    {
     "name": "stderr",
     "output_type": "stream",
     "text": [
      "WARNING:absl:Found untraced functions such as _jit_compiled_convolution_op, _jit_compiled_convolution_op, _jit_compiled_convolution_op, _jit_compiled_convolution_op, _jit_compiled_convolution_op while saving (showing 5 of 16). These functions will not be directly callable after loading.\n"
     ]
    },
    {
     "name": "stdout",
     "output_type": "stream",
     "text": [
      "INFO:tensorflow:Assets written to: model-01/assets\n"
     ]
    },
    {
     "name": "stderr",
     "output_type": "stream",
     "text": [
      "INFO:tensorflow:Assets written to: model-01/assets\n"
     ]
    },
    {
     "name": "stdout",
     "output_type": "stream",
     "text": [
      "156/156 [==============================] - 15s 98ms/step - loss: 7.9759 - accuracy: 0.8091 - lr: 0.0010\n",
      "Epoch 18/125\n",
      "156/156 [==============================] - ETA: 0s - loss: 7.9182 - accuracy: 0.8214\n",
      "Epoch 18: accuracy improved from 0.80910 to 0.82139, saving model to model-01\n"
     ]
    },
    {
     "name": "stderr",
     "output_type": "stream",
     "text": [
      "WARNING:absl:Found untraced functions such as _jit_compiled_convolution_op, _jit_compiled_convolution_op, _jit_compiled_convolution_op, _jit_compiled_convolution_op, _jit_compiled_convolution_op while saving (showing 5 of 16). These functions will not be directly callable after loading.\n"
     ]
    },
    {
     "name": "stdout",
     "output_type": "stream",
     "text": [
      "INFO:tensorflow:Assets written to: model-01/assets\n"
     ]
    },
    {
     "name": "stderr",
     "output_type": "stream",
     "text": [
      "INFO:tensorflow:Assets written to: model-01/assets\n"
     ]
    },
    {
     "name": "stdout",
     "output_type": "stream",
     "text": [
      "156/156 [==============================] - 15s 96ms/step - loss: 7.9182 - accuracy: 0.8214 - lr: 0.0010\n",
      "Epoch 19/125\n",
      "156/156 [==============================] - ETA: 0s - loss: 7.8510 - accuracy: 0.8230\n",
      "Epoch 19: accuracy improved from 0.82139 to 0.82300, saving model to model-01\n"
     ]
    },
    {
     "name": "stderr",
     "output_type": "stream",
     "text": [
      "WARNING:absl:Found untraced functions such as _jit_compiled_convolution_op, _jit_compiled_convolution_op, _jit_compiled_convolution_op, _jit_compiled_convolution_op, _jit_compiled_convolution_op while saving (showing 5 of 16). These functions will not be directly callable after loading.\n"
     ]
    },
    {
     "name": "stdout",
     "output_type": "stream",
     "text": [
      "INFO:tensorflow:Assets written to: model-01/assets\n"
     ]
    },
    {
     "name": "stderr",
     "output_type": "stream",
     "text": [
      "INFO:tensorflow:Assets written to: model-01/assets\n"
     ]
    },
    {
     "name": "stdout",
     "output_type": "stream",
     "text": [
      "156/156 [==============================] - 15s 97ms/step - loss: 7.8510 - accuracy: 0.8230 - lr: 0.0010\n",
      "Epoch 20/125\n",
      "156/156 [==============================] - ETA: 0s - loss: 7.7745 - accuracy: 0.8343\n",
      "Epoch 20: accuracy improved from 0.82300 to 0.83427, saving model to model-01\n"
     ]
    },
    {
     "name": "stderr",
     "output_type": "stream",
     "text": [
      "WARNING:absl:Found untraced functions such as _jit_compiled_convolution_op, _jit_compiled_convolution_op, _jit_compiled_convolution_op, _jit_compiled_convolution_op, _jit_compiled_convolution_op while saving (showing 5 of 16). These functions will not be directly callable after loading.\n"
     ]
    },
    {
     "name": "stdout",
     "output_type": "stream",
     "text": [
      "INFO:tensorflow:Assets written to: model-01/assets\n"
     ]
    },
    {
     "name": "stderr",
     "output_type": "stream",
     "text": [
      "INFO:tensorflow:Assets written to: model-01/assets\n"
     ]
    },
    {
     "name": "stdout",
     "output_type": "stream",
     "text": [
      "156/156 [==============================] - 15s 96ms/step - loss: 7.7745 - accuracy: 0.8343 - lr: 0.0010\n",
      "Epoch 21/125\n",
      "156/156 [==============================] - ETA: 0s - loss: 7.7117 - accuracy: 0.8411\n",
      "Epoch 21: accuracy improved from 0.83427 to 0.84112, saving model to model-01\n"
     ]
    },
    {
     "name": "stderr",
     "output_type": "stream",
     "text": [
      "WARNING:absl:Found untraced functions such as _jit_compiled_convolution_op, _jit_compiled_convolution_op, _jit_compiled_convolution_op, _jit_compiled_convolution_op, _jit_compiled_convolution_op while saving (showing 5 of 16). These functions will not be directly callable after loading.\n"
     ]
    },
    {
     "name": "stdout",
     "output_type": "stream",
     "text": [
      "INFO:tensorflow:Assets written to: model-01/assets\n"
     ]
    },
    {
     "name": "stderr",
     "output_type": "stream",
     "text": [
      "INFO:tensorflow:Assets written to: model-01/assets\n"
     ]
    },
    {
     "name": "stdout",
     "output_type": "stream",
     "text": [
      "156/156 [==============================] - 16s 100ms/step - loss: 7.7117 - accuracy: 0.8411 - lr: 0.0010\n",
      "Epoch 22/125\n",
      "156/156 [==============================] - ETA: 0s - loss: 7.6405 - accuracy: 0.8498\n",
      "Epoch 22: accuracy improved from 0.84112 to 0.84978, saving model to model-01\n"
     ]
    },
    {
     "name": "stderr",
     "output_type": "stream",
     "text": [
      "WARNING:absl:Found untraced functions such as _jit_compiled_convolution_op, _jit_compiled_convolution_op, _jit_compiled_convolution_op, _jit_compiled_convolution_op, _jit_compiled_convolution_op while saving (showing 5 of 16). These functions will not be directly callable after loading.\n"
     ]
    },
    {
     "name": "stdout",
     "output_type": "stream",
     "text": [
      "INFO:tensorflow:Assets written to: model-01/assets\n"
     ]
    },
    {
     "name": "stderr",
     "output_type": "stream",
     "text": [
      "INFO:tensorflow:Assets written to: model-01/assets\n"
     ]
    },
    {
     "name": "stdout",
     "output_type": "stream",
     "text": [
      "156/156 [==============================] - 15s 95ms/step - loss: 7.6405 - accuracy: 0.8498 - lr: 0.0010\n",
      "Epoch 23/125\n",
      "156/156 [==============================] - ETA: 0s - loss: 7.5726 - accuracy: 0.8540\n",
      "Epoch 23: accuracy improved from 0.84978 to 0.85401, saving model to model-01\n"
     ]
    },
    {
     "name": "stderr",
     "output_type": "stream",
     "text": [
      "WARNING:absl:Found untraced functions such as _jit_compiled_convolution_op, _jit_compiled_convolution_op, _jit_compiled_convolution_op, _jit_compiled_convolution_op, _jit_compiled_convolution_op while saving (showing 5 of 16). These functions will not be directly callable after loading.\n"
     ]
    },
    {
     "name": "stdout",
     "output_type": "stream",
     "text": [
      "INFO:tensorflow:Assets written to: model-01/assets\n"
     ]
    },
    {
     "name": "stderr",
     "output_type": "stream",
     "text": [
      "INFO:tensorflow:Assets written to: model-01/assets\n"
     ]
    },
    {
     "name": "stdout",
     "output_type": "stream",
     "text": [
      "156/156 [==============================] - 15s 98ms/step - loss: 7.5726 - accuracy: 0.8540 - lr: 0.0010\n",
      "Epoch 24/125\n",
      "156/156 [==============================] - ETA: 0s - loss: 7.5233 - accuracy: 0.8570\n",
      "Epoch 24: accuracy improved from 0.85401 to 0.85703, saving model to model-01\n"
     ]
    },
    {
     "name": "stderr",
     "output_type": "stream",
     "text": [
      "WARNING:absl:Found untraced functions such as _jit_compiled_convolution_op, _jit_compiled_convolution_op, _jit_compiled_convolution_op, _jit_compiled_convolution_op, _jit_compiled_convolution_op while saving (showing 5 of 16). These functions will not be directly callable after loading.\n"
     ]
    },
    {
     "name": "stdout",
     "output_type": "stream",
     "text": [
      "INFO:tensorflow:Assets written to: model-01/assets\n"
     ]
    },
    {
     "name": "stderr",
     "output_type": "stream",
     "text": [
      "INFO:tensorflow:Assets written to: model-01/assets\n"
     ]
    },
    {
     "name": "stdout",
     "output_type": "stream",
     "text": [
      "156/156 [==============================] - 15s 97ms/step - loss: 7.5233 - accuracy: 0.8570 - lr: 0.0010\n",
      "Epoch 25/125\n",
      "156/156 [==============================] - ETA: 0s - loss: 7.4583 - accuracy: 0.8661\n",
      "Epoch 25: accuracy improved from 0.85703 to 0.86609, saving model to model-01\n"
     ]
    },
    {
     "name": "stderr",
     "output_type": "stream",
     "text": [
      "WARNING:absl:Found untraced functions such as _jit_compiled_convolution_op, _jit_compiled_convolution_op, _jit_compiled_convolution_op, _jit_compiled_convolution_op, _jit_compiled_convolution_op while saving (showing 5 of 16). These functions will not be directly callable after loading.\n"
     ]
    },
    {
     "name": "stdout",
     "output_type": "stream",
     "text": [
      "INFO:tensorflow:Assets written to: model-01/assets\n"
     ]
    },
    {
     "name": "stderr",
     "output_type": "stream",
     "text": [
      "INFO:tensorflow:Assets written to: model-01/assets\n"
     ]
    },
    {
     "name": "stdout",
     "output_type": "stream",
     "text": [
      "156/156 [==============================] - 15s 95ms/step - loss: 7.4583 - accuracy: 0.8661 - lr: 0.0010\n",
      "Epoch 26/125\n",
      "156/156 [==============================] - ETA: 0s - loss: 7.4043 - accuracy: 0.8649\n",
      "Epoch 26: accuracy did not improve from 0.86609\n",
      "156/156 [==============================] - 10s 64ms/step - loss: 7.4043 - accuracy: 0.8649 - lr: 0.0010\n",
      "Epoch 27/125\n",
      "156/156 [==============================] - ETA: 0s - loss: 7.3417 - accuracy: 0.8693\n",
      "Epoch 27: accuracy improved from 0.86609 to 0.86931, saving model to model-01\n"
     ]
    },
    {
     "name": "stderr",
     "output_type": "stream",
     "text": [
      "WARNING:absl:Found untraced functions such as _jit_compiled_convolution_op, _jit_compiled_convolution_op, _jit_compiled_convolution_op, _jit_compiled_convolution_op, _jit_compiled_convolution_op while saving (showing 5 of 16). These functions will not be directly callable after loading.\n"
     ]
    },
    {
     "name": "stdout",
     "output_type": "stream",
     "text": [
      "INFO:tensorflow:Assets written to: model-01/assets\n"
     ]
    },
    {
     "name": "stderr",
     "output_type": "stream",
     "text": [
      "INFO:tensorflow:Assets written to: model-01/assets\n"
     ]
    },
    {
     "name": "stdout",
     "output_type": "stream",
     "text": [
      "156/156 [==============================] - 15s 97ms/step - loss: 7.3417 - accuracy: 0.8693 - lr: 0.0010\n",
      "Epoch 28/125\n",
      "156/156 [==============================] - ETA: 0s - loss: 7.2867 - accuracy: 0.8784\n",
      "Epoch 28: accuracy improved from 0.86931 to 0.87837, saving model to model-01\n"
     ]
    },
    {
     "name": "stderr",
     "output_type": "stream",
     "text": [
      "WARNING:absl:Found untraced functions such as _jit_compiled_convolution_op, _jit_compiled_convolution_op, _jit_compiled_convolution_op, _jit_compiled_convolution_op, _jit_compiled_convolution_op while saving (showing 5 of 16). These functions will not be directly callable after loading.\n"
     ]
    },
    {
     "name": "stdout",
     "output_type": "stream",
     "text": [
      "INFO:tensorflow:Assets written to: model-01/assets\n"
     ]
    },
    {
     "name": "stderr",
     "output_type": "stream",
     "text": [
      "INFO:tensorflow:Assets written to: model-01/assets\n"
     ]
    },
    {
     "name": "stdout",
     "output_type": "stream",
     "text": [
      "156/156 [==============================] - 15s 94ms/step - loss: 7.2867 - accuracy: 0.8784 - lr: 0.0010\n",
      "Epoch 29/125\n",
      "156/156 [==============================] - ETA: 0s - loss: 7.2003 - accuracy: 0.8864\n",
      "Epoch 29: accuracy improved from 0.87837 to 0.88643, saving model to model-01\n"
     ]
    },
    {
     "name": "stderr",
     "output_type": "stream",
     "text": [
      "WARNING:absl:Found untraced functions such as _jit_compiled_convolution_op, _jit_compiled_convolution_op, _jit_compiled_convolution_op, _jit_compiled_convolution_op, _jit_compiled_convolution_op while saving (showing 5 of 16). These functions will not be directly callable after loading.\n"
     ]
    },
    {
     "name": "stdout",
     "output_type": "stream",
     "text": [
      "INFO:tensorflow:Assets written to: model-01/assets\n"
     ]
    },
    {
     "name": "stderr",
     "output_type": "stream",
     "text": [
      "INFO:tensorflow:Assets written to: model-01/assets\n"
     ]
    },
    {
     "name": "stdout",
     "output_type": "stream",
     "text": [
      "156/156 [==============================] - 15s 98ms/step - loss: 7.2003 - accuracy: 0.8864 - lr: 0.0010\n",
      "Epoch 30/125\n",
      "156/156 [==============================] - ETA: 0s - loss: 7.1753 - accuracy: 0.8826\n",
      "Epoch 30: accuracy did not improve from 0.88643\n",
      "156/156 [==============================] - 10s 63ms/step - loss: 7.1753 - accuracy: 0.8826 - lr: 0.0010\n",
      "Epoch 31/125\n",
      "156/156 [==============================] - ETA: 0s - loss: 7.0990 - accuracy: 0.8941\n",
      "Epoch 31: accuracy improved from 0.88643 to 0.89408, saving model to model-01\n"
     ]
    },
    {
     "name": "stderr",
     "output_type": "stream",
     "text": [
      "WARNING:absl:Found untraced functions such as _jit_compiled_convolution_op, _jit_compiled_convolution_op, _jit_compiled_convolution_op, _jit_compiled_convolution_op, _jit_compiled_convolution_op while saving (showing 5 of 16). These functions will not be directly callable after loading.\n"
     ]
    },
    {
     "name": "stdout",
     "output_type": "stream",
     "text": [
      "INFO:tensorflow:Assets written to: model-01/assets\n"
     ]
    },
    {
     "name": "stderr",
     "output_type": "stream",
     "text": [
      "INFO:tensorflow:Assets written to: model-01/assets\n"
     ]
    },
    {
     "name": "stdout",
     "output_type": "stream",
     "text": [
      "156/156 [==============================] - 15s 97ms/step - loss: 7.0990 - accuracy: 0.8941 - lr: 0.0010\n",
      "Epoch 32/125\n",
      "156/156 [==============================] - ETA: 0s - loss: 7.0674 - accuracy: 0.8921\n",
      "Epoch 32: accuracy did not improve from 0.89408\n",
      "156/156 [==============================] - 10s 64ms/step - loss: 7.0674 - accuracy: 0.8921 - lr: 0.0010\n",
      "Epoch 33/125\n",
      "156/156 [==============================] - ETA: 0s - loss: 7.0110 - accuracy: 0.8953\n",
      "Epoch 33: accuracy improved from 0.89408 to 0.89529, saving model to model-01\n"
     ]
    },
    {
     "name": "stderr",
     "output_type": "stream",
     "text": [
      "WARNING:absl:Found untraced functions such as _jit_compiled_convolution_op, _jit_compiled_convolution_op, _jit_compiled_convolution_op, _jit_compiled_convolution_op, _jit_compiled_convolution_op while saving (showing 5 of 16). These functions will not be directly callable after loading.\n"
     ]
    },
    {
     "name": "stdout",
     "output_type": "stream",
     "text": [
      "INFO:tensorflow:Assets written to: model-01/assets\n"
     ]
    },
    {
     "name": "stderr",
     "output_type": "stream",
     "text": [
      "INFO:tensorflow:Assets written to: model-01/assets\n"
     ]
    },
    {
     "name": "stdout",
     "output_type": "stream",
     "text": [
      "156/156 [==============================] - 15s 99ms/step - loss: 7.0110 - accuracy: 0.8953 - lr: 0.0010\n",
      "Epoch 34/125\n",
      "156/156 [==============================] - ETA: 0s - loss: 6.9566 - accuracy: 0.9021\n",
      "Epoch 34: accuracy improved from 0.89529 to 0.90213, saving model to model-01\n"
     ]
    },
    {
     "name": "stderr",
     "output_type": "stream",
     "text": [
      "WARNING:absl:Found untraced functions such as _jit_compiled_convolution_op, _jit_compiled_convolution_op, _jit_compiled_convolution_op, _jit_compiled_convolution_op, _jit_compiled_convolution_op while saving (showing 5 of 16). These functions will not be directly callable after loading.\n"
     ]
    },
    {
     "name": "stdout",
     "output_type": "stream",
     "text": [
      "INFO:tensorflow:Assets written to: model-01/assets\n"
     ]
    },
    {
     "name": "stderr",
     "output_type": "stream",
     "text": [
      "INFO:tensorflow:Assets written to: model-01/assets\n"
     ]
    },
    {
     "name": "stdout",
     "output_type": "stream",
     "text": [
      "156/156 [==============================] - 15s 96ms/step - loss: 6.9566 - accuracy: 0.9021 - lr: 0.0010\n",
      "Epoch 35/125\n",
      "156/156 [==============================] - ETA: 0s - loss: 6.9050 - accuracy: 0.9060\n",
      "Epoch 35: accuracy improved from 0.90213 to 0.90596, saving model to model-01\n"
     ]
    },
    {
     "name": "stderr",
     "output_type": "stream",
     "text": [
      "WARNING:absl:Found untraced functions such as _jit_compiled_convolution_op, _jit_compiled_convolution_op, _jit_compiled_convolution_op, _jit_compiled_convolution_op, _jit_compiled_convolution_op while saving (showing 5 of 16). These functions will not be directly callable after loading.\n"
     ]
    },
    {
     "name": "stdout",
     "output_type": "stream",
     "text": [
      "INFO:tensorflow:Assets written to: model-01/assets\n"
     ]
    },
    {
     "name": "stderr",
     "output_type": "stream",
     "text": [
      "INFO:tensorflow:Assets written to: model-01/assets\n"
     ]
    },
    {
     "name": "stdout",
     "output_type": "stream",
     "text": [
      "156/156 [==============================] - 15s 98ms/step - loss: 6.9050 - accuracy: 0.9060 - lr: 0.0010\n",
      "Epoch 36/125\n",
      "156/156 [==============================] - ETA: 0s - loss: 6.8487 - accuracy: 0.9070\n",
      "Epoch 36: accuracy improved from 0.90596 to 0.90697, saving model to model-01\n"
     ]
    },
    {
     "name": "stderr",
     "output_type": "stream",
     "text": [
      "WARNING:absl:Found untraced functions such as _jit_compiled_convolution_op, _jit_compiled_convolution_op, _jit_compiled_convolution_op, _jit_compiled_convolution_op, _jit_compiled_convolution_op while saving (showing 5 of 16). These functions will not be directly callable after loading.\n"
     ]
    },
    {
     "name": "stdout",
     "output_type": "stream",
     "text": [
      "INFO:tensorflow:Assets written to: model-01/assets\n"
     ]
    },
    {
     "name": "stderr",
     "output_type": "stream",
     "text": [
      "INFO:tensorflow:Assets written to: model-01/assets\n"
     ]
    },
    {
     "name": "stdout",
     "output_type": "stream",
     "text": [
      "156/156 [==============================] - 15s 96ms/step - loss: 6.8487 - accuracy: 0.9070 - lr: 0.0010\n",
      "Epoch 37/125\n",
      "156/156 [==============================] - ETA: 0s - loss: 6.8055 - accuracy: 0.9112\n",
      "Epoch 37: accuracy improved from 0.90697 to 0.91120, saving model to model-01\n"
     ]
    },
    {
     "name": "stderr",
     "output_type": "stream",
     "text": [
      "WARNING:absl:Found untraced functions such as _jit_compiled_convolution_op, _jit_compiled_convolution_op, _jit_compiled_convolution_op, _jit_compiled_convolution_op, _jit_compiled_convolution_op while saving (showing 5 of 16). These functions will not be directly callable after loading.\n"
     ]
    },
    {
     "name": "stdout",
     "output_type": "stream",
     "text": [
      "INFO:tensorflow:Assets written to: model-01/assets\n"
     ]
    },
    {
     "name": "stderr",
     "output_type": "stream",
     "text": [
      "INFO:tensorflow:Assets written to: model-01/assets\n"
     ]
    },
    {
     "name": "stdout",
     "output_type": "stream",
     "text": [
      "156/156 [==============================] - 16s 99ms/step - loss: 6.8055 - accuracy: 0.9112 - lr: 0.0010\n",
      "Epoch 38/125\n",
      "156/156 [==============================] - ETA: 0s - loss: 6.7741 - accuracy: 0.9076\n",
      "Epoch 38: accuracy did not improve from 0.91120\n",
      "156/156 [==============================] - 10s 65ms/step - loss: 6.7741 - accuracy: 0.9076 - lr: 0.0010\n",
      "Epoch 39/125\n",
      "156/156 [==============================] - ETA: 0s - loss: 6.7314 - accuracy: 0.9128\n",
      "Epoch 39: accuracy improved from 0.91120 to 0.91281, saving model to model-01\n"
     ]
    },
    {
     "name": "stderr",
     "output_type": "stream",
     "text": [
      "WARNING:absl:Found untraced functions such as _jit_compiled_convolution_op, _jit_compiled_convolution_op, _jit_compiled_convolution_op, _jit_compiled_convolution_op, _jit_compiled_convolution_op while saving (showing 5 of 16). These functions will not be directly callable after loading.\n"
     ]
    },
    {
     "name": "stdout",
     "output_type": "stream",
     "text": [
      "INFO:tensorflow:Assets written to: model-01/assets\n"
     ]
    },
    {
     "name": "stderr",
     "output_type": "stream",
     "text": [
      "INFO:tensorflow:Assets written to: model-01/assets\n"
     ]
    },
    {
     "name": "stdout",
     "output_type": "stream",
     "text": [
      "156/156 [==============================] - 15s 97ms/step - loss: 6.7314 - accuracy: 0.9128 - lr: 0.0010\n",
      "Epoch 40/125\n",
      "156/156 [==============================] - ETA: 0s - loss: 6.6832 - accuracy: 0.9108\n",
      "Epoch 40: accuracy did not improve from 0.91281\n",
      "156/156 [==============================] - 10s 64ms/step - loss: 6.6832 - accuracy: 0.9108 - lr: 0.0010\n",
      "Epoch 41/125\n",
      "156/156 [==============================] - ETA: 0s - loss: 6.6382 - accuracy: 0.9120\n",
      "Epoch 41: accuracy did not improve from 0.91281\n",
      "156/156 [==============================] - 10s 63ms/step - loss: 6.6382 - accuracy: 0.9120 - lr: 0.0010\n",
      "Epoch 42/125\n",
      "156/156 [==============================] - ETA: 0s - loss: 6.5871 - accuracy: 0.9150\n",
      "Epoch 42: accuracy improved from 0.91281 to 0.91502, saving model to model-01\n"
     ]
    },
    {
     "name": "stderr",
     "output_type": "stream",
     "text": [
      "WARNING:absl:Found untraced functions such as _jit_compiled_convolution_op, _jit_compiled_convolution_op, _jit_compiled_convolution_op, _jit_compiled_convolution_op, _jit_compiled_convolution_op while saving (showing 5 of 16). These functions will not be directly callable after loading.\n"
     ]
    },
    {
     "name": "stdout",
     "output_type": "stream",
     "text": [
      "INFO:tensorflow:Assets written to: model-01/assets\n"
     ]
    },
    {
     "name": "stderr",
     "output_type": "stream",
     "text": [
      "INFO:tensorflow:Assets written to: model-01/assets\n"
     ]
    },
    {
     "name": "stdout",
     "output_type": "stream",
     "text": [
      "156/156 [==============================] - 15s 95ms/step - loss: 6.5871 - accuracy: 0.9150 - lr: 0.0010\n",
      "Epoch 43/125\n",
      "156/156 [==============================] - ETA: 0s - loss: 6.5388 - accuracy: 0.9140\n",
      "Epoch 43: accuracy did not improve from 0.91502\n",
      "156/156 [==============================] - 10s 65ms/step - loss: 6.5388 - accuracy: 0.9140 - lr: 0.0010\n",
      "Epoch 44/125\n",
      "156/156 [==============================] - ETA: 0s - loss: 6.4958 - accuracy: 0.9221\n",
      "Epoch 44: accuracy improved from 0.91502 to 0.92207, saving model to model-01\n"
     ]
    },
    {
     "name": "stderr",
     "output_type": "stream",
     "text": [
      "WARNING:absl:Found untraced functions such as _jit_compiled_convolution_op, _jit_compiled_convolution_op, _jit_compiled_convolution_op, _jit_compiled_convolution_op, _jit_compiled_convolution_op while saving (showing 5 of 16). These functions will not be directly callable after loading.\n"
     ]
    },
    {
     "name": "stdout",
     "output_type": "stream",
     "text": [
      "INFO:tensorflow:Assets written to: model-01/assets\n"
     ]
    },
    {
     "name": "stderr",
     "output_type": "stream",
     "text": [
      "INFO:tensorflow:Assets written to: model-01/assets\n"
     ]
    },
    {
     "name": "stdout",
     "output_type": "stream",
     "text": [
      "156/156 [==============================] - 15s 97ms/step - loss: 6.4958 - accuracy: 0.9221 - lr: 0.0010\n",
      "Epoch 45/125\n",
      "156/156 [==============================] - ETA: 0s - loss: 6.4447 - accuracy: 0.9247\n",
      "Epoch 45: accuracy improved from 0.92207 to 0.92469, saving model to model-01\n"
     ]
    },
    {
     "name": "stderr",
     "output_type": "stream",
     "text": [
      "WARNING:absl:Found untraced functions such as _jit_compiled_convolution_op, _jit_compiled_convolution_op, _jit_compiled_convolution_op, _jit_compiled_convolution_op, _jit_compiled_convolution_op while saving (showing 5 of 16). These functions will not be directly callable after loading.\n"
     ]
    },
    {
     "name": "stdout",
     "output_type": "stream",
     "text": [
      "INFO:tensorflow:Assets written to: model-01/assets\n"
     ]
    },
    {
     "name": "stderr",
     "output_type": "stream",
     "text": [
      "INFO:tensorflow:Assets written to: model-01/assets\n"
     ]
    },
    {
     "name": "stdout",
     "output_type": "stream",
     "text": [
      "156/156 [==============================] - 15s 95ms/step - loss: 6.4447 - accuracy: 0.9247 - lr: 0.0010\n",
      "Epoch 46/125\n",
      "156/156 [==============================] - ETA: 0s - loss: 6.3984 - accuracy: 0.9263\n",
      "Epoch 46: accuracy improved from 0.92469 to 0.92630, saving model to model-01\n"
     ]
    },
    {
     "name": "stderr",
     "output_type": "stream",
     "text": [
      "WARNING:absl:Found untraced functions such as _jit_compiled_convolution_op, _jit_compiled_convolution_op, _jit_compiled_convolution_op, _jit_compiled_convolution_op, _jit_compiled_convolution_op while saving (showing 5 of 16). These functions will not be directly callable after loading.\n"
     ]
    },
    {
     "name": "stdout",
     "output_type": "stream",
     "text": [
      "INFO:tensorflow:Assets written to: model-01/assets\n"
     ]
    },
    {
     "name": "stderr",
     "output_type": "stream",
     "text": [
      "INFO:tensorflow:Assets written to: model-01/assets\n"
     ]
    },
    {
     "name": "stdout",
     "output_type": "stream",
     "text": [
      "156/156 [==============================] - 15s 97ms/step - loss: 6.3984 - accuracy: 0.9263 - lr: 0.0010\n",
      "Epoch 47/125\n",
      "156/156 [==============================] - ETA: 0s - loss: 6.3674 - accuracy: 0.9245\n",
      "Epoch 47: accuracy did not improve from 0.92630\n",
      "156/156 [==============================] - 10s 65ms/step - loss: 6.3674 - accuracy: 0.9245 - lr: 0.0010\n",
      "Epoch 48/125\n",
      "156/156 [==============================] - ETA: 0s - loss: 6.3289 - accuracy: 0.9237\n",
      "Epoch 48: accuracy did not improve from 0.92630\n",
      "156/156 [==============================] - 10s 65ms/step - loss: 6.3289 - accuracy: 0.9237 - lr: 0.0010\n",
      "Epoch 49/125\n",
      "156/156 [==============================] - ETA: 0s - loss: 6.2811 - accuracy: 0.9307\n",
      "Epoch 49: accuracy improved from 0.92630 to 0.93073, saving model to model-01\n"
     ]
    },
    {
     "name": "stderr",
     "output_type": "stream",
     "text": [
      "WARNING:absl:Found untraced functions such as _jit_compiled_convolution_op, _jit_compiled_convolution_op, _jit_compiled_convolution_op, _jit_compiled_convolution_op, _jit_compiled_convolution_op while saving (showing 5 of 16). These functions will not be directly callable after loading.\n"
     ]
    },
    {
     "name": "stdout",
     "output_type": "stream",
     "text": [
      "INFO:tensorflow:Assets written to: model-01/assets\n"
     ]
    },
    {
     "name": "stderr",
     "output_type": "stream",
     "text": [
      "INFO:tensorflow:Assets written to: model-01/assets\n"
     ]
    },
    {
     "name": "stdout",
     "output_type": "stream",
     "text": [
      "156/156 [==============================] - 15s 95ms/step - loss: 6.2811 - accuracy: 0.9307 - lr: 0.0010\n",
      "Epoch 50/125\n",
      "156/156 [==============================] - ETA: 0s - loss: 6.2481 - accuracy: 0.9297\n",
      "Epoch 50: accuracy did not improve from 0.93073\n",
      "156/156 [==============================] - 10s 63ms/step - loss: 6.2481 - accuracy: 0.9297 - lr: 0.0010\n",
      "Epoch 51/125\n",
      "156/156 [==============================] - ETA: 0s - loss: 6.1893 - accuracy: 0.9352\n",
      "Epoch 51: accuracy improved from 0.93073 to 0.93516, saving model to model-01\n"
     ]
    },
    {
     "name": "stderr",
     "output_type": "stream",
     "text": [
      "WARNING:absl:Found untraced functions such as _jit_compiled_convolution_op, _jit_compiled_convolution_op, _jit_compiled_convolution_op, _jit_compiled_convolution_op, _jit_compiled_convolution_op while saving (showing 5 of 16). These functions will not be directly callable after loading.\n"
     ]
    },
    {
     "name": "stdout",
     "output_type": "stream",
     "text": [
      "INFO:tensorflow:Assets written to: model-01/assets\n"
     ]
    },
    {
     "name": "stderr",
     "output_type": "stream",
     "text": [
      "INFO:tensorflow:Assets written to: model-01/assets\n"
     ]
    },
    {
     "name": "stdout",
     "output_type": "stream",
     "text": [
      "156/156 [==============================] - 15s 96ms/step - loss: 6.1893 - accuracy: 0.9352 - lr: 0.0010\n",
      "Epoch 52/125\n",
      "156/156 [==============================] - ETA: 0s - loss: 6.1620 - accuracy: 0.9279\n",
      "Epoch 52: accuracy did not improve from 0.93516\n",
      "156/156 [==============================] - 10s 64ms/step - loss: 6.1620 - accuracy: 0.9279 - lr: 0.0010\n",
      "Epoch 53/125\n",
      "156/156 [==============================] - ETA: 0s - loss: 6.0952 - accuracy: 0.9396\n",
      "Epoch 53: accuracy improved from 0.93516 to 0.93959, saving model to model-01\n"
     ]
    },
    {
     "name": "stderr",
     "output_type": "stream",
     "text": [
      "WARNING:absl:Found untraced functions such as _jit_compiled_convolution_op, _jit_compiled_convolution_op, _jit_compiled_convolution_op, _jit_compiled_convolution_op, _jit_compiled_convolution_op while saving (showing 5 of 16). These functions will not be directly callable after loading.\n"
     ]
    },
    {
     "name": "stdout",
     "output_type": "stream",
     "text": [
      "INFO:tensorflow:Assets written to: model-01/assets\n"
     ]
    },
    {
     "name": "stderr",
     "output_type": "stream",
     "text": [
      "INFO:tensorflow:Assets written to: model-01/assets\n"
     ]
    },
    {
     "name": "stdout",
     "output_type": "stream",
     "text": [
      "156/156 [==============================] - 14s 93ms/step - loss: 6.0952 - accuracy: 0.9396 - lr: 0.0010\n",
      "Epoch 54/125\n",
      "156/156 [==============================] - ETA: 0s - loss: 6.0886 - accuracy: 0.9301\n",
      "Epoch 54: accuracy did not improve from 0.93959\n",
      "156/156 [==============================] - 10s 63ms/step - loss: 6.0886 - accuracy: 0.9301 - lr: 0.0010\n",
      "Epoch 55/125\n",
      "156/156 [==============================] - ETA: 0s - loss: 6.0356 - accuracy: 0.9380\n",
      "Epoch 55: accuracy did not improve from 0.93959\n",
      "156/156 [==============================] - 10s 64ms/step - loss: 6.0356 - accuracy: 0.9380 - lr: 0.0010\n",
      "Epoch 56/125\n",
      "156/156 [==============================] - ETA: 0s - loss: 6.0052 - accuracy: 0.9356\n",
      "Epoch 56: accuracy did not improve from 0.93959\n",
      "156/156 [==============================] - 10s 64ms/step - loss: 6.0052 - accuracy: 0.9356 - lr: 0.0010\n",
      "Epoch 57/125\n",
      "156/156 [==============================] - ETA: 0s - loss: 5.9556 - accuracy: 0.9380\n",
      "Epoch 57: accuracy did not improve from 0.93959\n",
      "156/156 [==============================] - 10s 64ms/step - loss: 5.9556 - accuracy: 0.9380 - lr: 0.0010\n",
      "Epoch 58/125\n",
      "156/156 [==============================] - ETA: 0s - loss: 5.9235 - accuracy: 0.9372\n",
      "Epoch 58: accuracy did not improve from 0.93959\n",
      "156/156 [==============================] - 10s 64ms/step - loss: 5.9235 - accuracy: 0.9372 - lr: 0.0010\n",
      "Epoch 59/125\n",
      "156/156 [==============================] - ETA: 0s - loss: 5.8721 - accuracy: 0.9422\n",
      "Epoch 59: accuracy improved from 0.93959 to 0.94221, saving model to model-01\n"
     ]
    },
    {
     "name": "stderr",
     "output_type": "stream",
     "text": [
      "WARNING:absl:Found untraced functions such as _jit_compiled_convolution_op, _jit_compiled_convolution_op, _jit_compiled_convolution_op, _jit_compiled_convolution_op, _jit_compiled_convolution_op while saving (showing 5 of 16). These functions will not be directly callable after loading.\n"
     ]
    },
    {
     "name": "stdout",
     "output_type": "stream",
     "text": [
      "INFO:tensorflow:Assets written to: model-01/assets\n"
     ]
    },
    {
     "name": "stderr",
     "output_type": "stream",
     "text": [
      "INFO:tensorflow:Assets written to: model-01/assets\n"
     ]
    },
    {
     "name": "stdout",
     "output_type": "stream",
     "text": [
      "156/156 [==============================] - 15s 98ms/step - loss: 5.8721 - accuracy: 0.9422 - lr: 0.0010\n",
      "Epoch 60/125\n",
      "156/156 [==============================] - ETA: 0s - loss: 5.8554 - accuracy: 0.9356\n",
      "Epoch 60: accuracy did not improve from 0.94221\n",
      "156/156 [==============================] - 10s 64ms/step - loss: 5.8554 - accuracy: 0.9356 - lr: 0.0010\n",
      "Epoch 61/125\n",
      "156/156 [==============================] - ETA: 0s - loss: 5.7933 - accuracy: 0.9450\n",
      "Epoch 61: accuracy improved from 0.94221 to 0.94503, saving model to model-01\n"
     ]
    },
    {
     "name": "stderr",
     "output_type": "stream",
     "text": [
      "WARNING:absl:Found untraced functions such as _jit_compiled_convolution_op, _jit_compiled_convolution_op, _jit_compiled_convolution_op, _jit_compiled_convolution_op, _jit_compiled_convolution_op while saving (showing 5 of 16). These functions will not be directly callable after loading.\n"
     ]
    },
    {
     "name": "stdout",
     "output_type": "stream",
     "text": [
      "INFO:tensorflow:Assets written to: model-01/assets\n"
     ]
    },
    {
     "name": "stderr",
     "output_type": "stream",
     "text": [
      "INFO:tensorflow:Assets written to: model-01/assets\n"
     ]
    },
    {
     "name": "stdout",
     "output_type": "stream",
     "text": [
      "156/156 [==============================] - 15s 98ms/step - loss: 5.7933 - accuracy: 0.9450 - lr: 0.0010\n",
      "Epoch 62/125\n",
      "156/156 [==============================] - ETA: 0s - loss: 5.7561 - accuracy: 0.9474\n",
      "Epoch 62: accuracy improved from 0.94503 to 0.94744, saving model to model-01\n"
     ]
    },
    {
     "name": "stderr",
     "output_type": "stream",
     "text": [
      "WARNING:absl:Found untraced functions such as _jit_compiled_convolution_op, _jit_compiled_convolution_op, _jit_compiled_convolution_op, _jit_compiled_convolution_op, _jit_compiled_convolution_op while saving (showing 5 of 16). These functions will not be directly callable after loading.\n"
     ]
    },
    {
     "name": "stdout",
     "output_type": "stream",
     "text": [
      "INFO:tensorflow:Assets written to: model-01/assets\n"
     ]
    },
    {
     "name": "stderr",
     "output_type": "stream",
     "text": [
      "INFO:tensorflow:Assets written to: model-01/assets\n"
     ]
    },
    {
     "name": "stdout",
     "output_type": "stream",
     "text": [
      "156/156 [==============================] - 15s 94ms/step - loss: 5.7561 - accuracy: 0.9474 - lr: 0.0010\n",
      "Epoch 63/125\n",
      "156/156 [==============================] - ETA: 0s - loss: 5.7324 - accuracy: 0.9408\n",
      "Epoch 63: accuracy did not improve from 0.94744\n",
      "156/156 [==============================] - 10s 64ms/step - loss: 5.7324 - accuracy: 0.9408 - lr: 0.0010\n",
      "Epoch 64/125\n",
      "156/156 [==============================] - ETA: 0s - loss: 5.6875 - accuracy: 0.9497\n",
      "Epoch 64: accuracy improved from 0.94744 to 0.94966, saving model to model-01\n"
     ]
    },
    {
     "name": "stderr",
     "output_type": "stream",
     "text": [
      "WARNING:absl:Found untraced functions such as _jit_compiled_convolution_op, _jit_compiled_convolution_op, _jit_compiled_convolution_op, _jit_compiled_convolution_op, _jit_compiled_convolution_op while saving (showing 5 of 16). These functions will not be directly callable after loading.\n"
     ]
    },
    {
     "name": "stdout",
     "output_type": "stream",
     "text": [
      "INFO:tensorflow:Assets written to: model-01/assets\n"
     ]
    },
    {
     "name": "stderr",
     "output_type": "stream",
     "text": [
      "INFO:tensorflow:Assets written to: model-01/assets\n"
     ]
    },
    {
     "name": "stdout",
     "output_type": "stream",
     "text": [
      "156/156 [==============================] - 15s 98ms/step - loss: 5.6875 - accuracy: 0.9497 - lr: 0.0010\n",
      "Epoch 65/125\n",
      "156/156 [==============================] - ETA: 0s - loss: 5.6465 - accuracy: 0.9503\n",
      "Epoch 65: accuracy improved from 0.94966 to 0.95026, saving model to model-01\n"
     ]
    },
    {
     "name": "stderr",
     "output_type": "stream",
     "text": [
      "WARNING:absl:Found untraced functions such as _jit_compiled_convolution_op, _jit_compiled_convolution_op, _jit_compiled_convolution_op, _jit_compiled_convolution_op, _jit_compiled_convolution_op while saving (showing 5 of 16). These functions will not be directly callable after loading.\n"
     ]
    },
    {
     "name": "stdout",
     "output_type": "stream",
     "text": [
      "INFO:tensorflow:Assets written to: model-01/assets\n"
     ]
    },
    {
     "name": "stderr",
     "output_type": "stream",
     "text": [
      "INFO:tensorflow:Assets written to: model-01/assets\n"
     ]
    },
    {
     "name": "stdout",
     "output_type": "stream",
     "text": [
      "156/156 [==============================] - 15s 95ms/step - loss: 5.6465 - accuracy: 0.9503 - lr: 0.0010\n",
      "Epoch 66/125\n",
      "156/156 [==============================] - ETA: 0s - loss: 5.6246 - accuracy: 0.9452\n",
      "Epoch 66: accuracy did not improve from 0.95026\n",
      "156/156 [==============================] - 10s 65ms/step - loss: 5.6246 - accuracy: 0.9452 - lr: 0.0010\n",
      "Epoch 67/125\n",
      "156/156 [==============================] - ETA: 0s - loss: 5.5945 - accuracy: 0.9446\n",
      "Epoch 67: accuracy did not improve from 0.95026\n",
      "156/156 [==============================] - 10s 65ms/step - loss: 5.5945 - accuracy: 0.9446 - lr: 0.0010\n",
      "Epoch 68/125\n",
      "156/156 [==============================] - ETA: 0s - loss: 5.5393 - accuracy: 0.9509\n",
      "Epoch 68: accuracy improved from 0.95026 to 0.95087, saving model to model-01\n"
     ]
    },
    {
     "name": "stderr",
     "output_type": "stream",
     "text": [
      "WARNING:absl:Found untraced functions such as _jit_compiled_convolution_op, _jit_compiled_convolution_op, _jit_compiled_convolution_op, _jit_compiled_convolution_op, _jit_compiled_convolution_op while saving (showing 5 of 16). These functions will not be directly callable after loading.\n"
     ]
    },
    {
     "name": "stdout",
     "output_type": "stream",
     "text": [
      "INFO:tensorflow:Assets written to: model-01/assets\n"
     ]
    },
    {
     "name": "stderr",
     "output_type": "stream",
     "text": [
      "INFO:tensorflow:Assets written to: model-01/assets\n"
     ]
    },
    {
     "name": "stdout",
     "output_type": "stream",
     "text": [
      "156/156 [==============================] - 15s 97ms/step - loss: 5.5393 - accuracy: 0.9509 - lr: 0.0010\n",
      "Epoch 69/125\n",
      "156/156 [==============================] - ETA: 0s - loss: 5.5226 - accuracy: 0.9444\n",
      "Epoch 69: accuracy did not improve from 0.95087\n",
      "156/156 [==============================] - 10s 65ms/step - loss: 5.5226 - accuracy: 0.9444 - lr: 0.0010\n",
      "Epoch 70/125\n",
      "156/156 [==============================] - ETA: 0s - loss: 5.4721 - accuracy: 0.9509\n",
      "Epoch 70: accuracy did not improve from 0.95087\n",
      "156/156 [==============================] - 10s 64ms/step - loss: 5.4721 - accuracy: 0.9509 - lr: 0.0010\n",
      "Epoch 71/125\n",
      "156/156 [==============================] - ETA: 0s - loss: 5.4362 - accuracy: 0.9499\n",
      "Epoch 71: accuracy did not improve from 0.95087\n",
      "156/156 [==============================] - 10s 65ms/step - loss: 5.4362 - accuracy: 0.9499 - lr: 0.0010\n",
      "Epoch 72/125\n",
      "156/156 [==============================] - ETA: 0s - loss: 5.4069 - accuracy: 0.9519\n",
      "Epoch 72: accuracy improved from 0.95087 to 0.95187, saving model to model-01\n"
     ]
    },
    {
     "name": "stderr",
     "output_type": "stream",
     "text": [
      "WARNING:absl:Found untraced functions such as _jit_compiled_convolution_op, _jit_compiled_convolution_op, _jit_compiled_convolution_op, _jit_compiled_convolution_op, _jit_compiled_convolution_op while saving (showing 5 of 16). These functions will not be directly callable after loading.\n"
     ]
    },
    {
     "name": "stdout",
     "output_type": "stream",
     "text": [
      "INFO:tensorflow:Assets written to: model-01/assets\n"
     ]
    },
    {
     "name": "stderr",
     "output_type": "stream",
     "text": [
      "INFO:tensorflow:Assets written to: model-01/assets\n"
     ]
    },
    {
     "name": "stdout",
     "output_type": "stream",
     "text": [
      "156/156 [==============================] - 15s 97ms/step - loss: 5.4069 - accuracy: 0.9519 - lr: 0.0010\n",
      "Epoch 73/125\n",
      "156/156 [==============================] - ETA: 0s - loss: 5.3761 - accuracy: 0.9517\n",
      "Epoch 73: accuracy did not improve from 0.95187\n",
      "156/156 [==============================] - 10s 65ms/step - loss: 5.3761 - accuracy: 0.9517 - lr: 0.0010\n",
      "Epoch 74/125\n",
      "156/156 [==============================] - ETA: 0s - loss: 5.3274 - accuracy: 0.9565\n",
      "Epoch 74: accuracy improved from 0.95187 to 0.95650, saving model to model-01\n"
     ]
    },
    {
     "name": "stderr",
     "output_type": "stream",
     "text": [
      "WARNING:absl:Found untraced functions such as _jit_compiled_convolution_op, _jit_compiled_convolution_op, _jit_compiled_convolution_op, _jit_compiled_convolution_op, _jit_compiled_convolution_op while saving (showing 5 of 16). These functions will not be directly callable after loading.\n"
     ]
    },
    {
     "name": "stdout",
     "output_type": "stream",
     "text": [
      "INFO:tensorflow:Assets written to: model-01/assets\n"
     ]
    },
    {
     "name": "stderr",
     "output_type": "stream",
     "text": [
      "INFO:tensorflow:Assets written to: model-01/assets\n"
     ]
    },
    {
     "name": "stdout",
     "output_type": "stream",
     "text": [
      "156/156 [==============================] - 15s 97ms/step - loss: 5.3274 - accuracy: 0.9565 - lr: 0.0010\n",
      "Epoch 75/125\n",
      "156/156 [==============================] - ETA: 0s - loss: 5.3191 - accuracy: 0.9489\n",
      "Epoch 75: accuracy did not improve from 0.95650\n",
      "156/156 [==============================] - 10s 64ms/step - loss: 5.3191 - accuracy: 0.9489 - lr: 0.0010\n",
      "Epoch 76/125\n",
      "156/156 [==============================] - ETA: 0s - loss: 5.2571 - accuracy: 0.9569\n",
      "Epoch 76: accuracy improved from 0.95650 to 0.95691, saving model to model-01\n"
     ]
    },
    {
     "name": "stderr",
     "output_type": "stream",
     "text": [
      "WARNING:absl:Found untraced functions such as _jit_compiled_convolution_op, _jit_compiled_convolution_op, _jit_compiled_convolution_op, _jit_compiled_convolution_op, _jit_compiled_convolution_op while saving (showing 5 of 16). These functions will not be directly callable after loading.\n"
     ]
    },
    {
     "name": "stdout",
     "output_type": "stream",
     "text": [
      "INFO:tensorflow:Assets written to: model-01/assets\n"
     ]
    },
    {
     "name": "stderr",
     "output_type": "stream",
     "text": [
      "INFO:tensorflow:Assets written to: model-01/assets\n"
     ]
    },
    {
     "name": "stdout",
     "output_type": "stream",
     "text": [
      "156/156 [==============================] - 15s 95ms/step - loss: 5.2571 - accuracy: 0.9569 - lr: 0.0010\n",
      "Epoch 77/125\n",
      "156/156 [==============================] - ETA: 0s - loss: 5.2273 - accuracy: 0.9587\n",
      "Epoch 77: accuracy improved from 0.95691 to 0.95872, saving model to model-01\n"
     ]
    },
    {
     "name": "stderr",
     "output_type": "stream",
     "text": [
      "WARNING:absl:Found untraced functions such as _jit_compiled_convolution_op, _jit_compiled_convolution_op, _jit_compiled_convolution_op, _jit_compiled_convolution_op, _jit_compiled_convolution_op while saving (showing 5 of 16). These functions will not be directly callable after loading.\n"
     ]
    },
    {
     "name": "stdout",
     "output_type": "stream",
     "text": [
      "INFO:tensorflow:Assets written to: model-01/assets\n"
     ]
    },
    {
     "name": "stderr",
     "output_type": "stream",
     "text": [
      "INFO:tensorflow:Assets written to: model-01/assets\n"
     ]
    },
    {
     "name": "stdout",
     "output_type": "stream",
     "text": [
      "156/156 [==============================] - 15s 98ms/step - loss: 5.2273 - accuracy: 0.9587 - lr: 0.0010\n",
      "Epoch 78/125\n",
      "156/156 [==============================] - ETA: 0s - loss: 5.2037 - accuracy: 0.9549\n",
      "Epoch 78: accuracy did not improve from 0.95872\n",
      "156/156 [==============================] - 10s 63ms/step - loss: 5.2037 - accuracy: 0.9549 - lr: 0.0010\n",
      "Epoch 79/125\n",
      "156/156 [==============================] - ETA: 0s - loss: 5.1650 - accuracy: 0.9539\n",
      "Epoch 79: accuracy did not improve from 0.95872\n",
      "156/156 [==============================] - 10s 63ms/step - loss: 5.1650 - accuracy: 0.9539 - lr: 0.0010\n",
      "Epoch 80/125\n",
      "156/156 [==============================] - ETA: 0s - loss: 5.1488 - accuracy: 0.9505\n",
      "Epoch 80: accuracy did not improve from 0.95872\n",
      "156/156 [==============================] - 10s 64ms/step - loss: 5.1488 - accuracy: 0.9505 - lr: 0.0010\n",
      "Epoch 81/125\n",
      "156/156 [==============================] - ETA: 0s - loss: 5.1039 - accuracy: 0.9561\n",
      "Epoch 81: accuracy did not improve from 0.95872\n",
      "156/156 [==============================] - 10s 64ms/step - loss: 5.1039 - accuracy: 0.9561 - lr: 0.0010\n",
      "Epoch 82/125\n",
      "156/156 [==============================] - ETA: 0s - loss: 5.0585 - accuracy: 0.9619\n",
      "Epoch 82: accuracy improved from 0.95872 to 0.96194, saving model to model-01\n"
     ]
    },
    {
     "name": "stderr",
     "output_type": "stream",
     "text": [
      "WARNING:absl:Found untraced functions such as _jit_compiled_convolution_op, _jit_compiled_convolution_op, _jit_compiled_convolution_op, _jit_compiled_convolution_op, _jit_compiled_convolution_op while saving (showing 5 of 16). These functions will not be directly callable after loading.\n"
     ]
    },
    {
     "name": "stdout",
     "output_type": "stream",
     "text": [
      "INFO:tensorflow:Assets written to: model-01/assets\n"
     ]
    },
    {
     "name": "stderr",
     "output_type": "stream",
     "text": [
      "INFO:tensorflow:Assets written to: model-01/assets\n"
     ]
    },
    {
     "name": "stdout",
     "output_type": "stream",
     "text": [
      "156/156 [==============================] - 15s 98ms/step - loss: 5.0585 - accuracy: 0.9619 - lr: 0.0010\n",
      "Epoch 83/125\n",
      "156/156 [==============================] - ETA: 0s - loss: 5.0378 - accuracy: 0.9533\n",
      "Epoch 83: accuracy did not improve from 0.96194\n",
      "156/156 [==============================] - 10s 63ms/step - loss: 5.0378 - accuracy: 0.9533 - lr: 0.0010\n",
      "Epoch 84/125\n",
      "156/156 [==============================] - ETA: 0s - loss: 5.0032 - accuracy: 0.9577\n",
      "Epoch 84: accuracy did not improve from 0.96194\n",
      "156/156 [==============================] - 10s 63ms/step - loss: 5.0032 - accuracy: 0.9577 - lr: 0.0010\n",
      "Epoch 85/125\n",
      "156/156 [==============================] - ETA: 0s - loss: 4.9713 - accuracy: 0.9601\n",
      "Epoch 85: accuracy did not improve from 0.96194\n",
      "156/156 [==============================] - 10s 64ms/step - loss: 4.9713 - accuracy: 0.9601 - lr: 0.0010\n",
      "Epoch 86/125\n",
      "156/156 [==============================] - ETA: 0s - loss: 4.9618 - accuracy: 0.9503\n",
      "Epoch 86: accuracy did not improve from 0.96194\n",
      "156/156 [==============================] - 10s 64ms/step - loss: 4.9618 - accuracy: 0.9503 - lr: 0.0010\n",
      "Epoch 87/125\n",
      "156/156 [==============================] - ETA: 0s - loss: 4.9192 - accuracy: 0.9589\n",
      "Epoch 87: accuracy did not improve from 0.96194\n",
      "156/156 [==============================] - 10s 64ms/step - loss: 4.9192 - accuracy: 0.9589 - lr: 0.0010\n",
      "Epoch 88/125\n",
      "156/156 [==============================] - ETA: 0s - loss: 4.8828 - accuracy: 0.9583\n",
      "Epoch 88: accuracy did not improve from 0.96194\n",
      "156/156 [==============================] - 10s 66ms/step - loss: 4.8828 - accuracy: 0.9583 - lr: 0.0010\n",
      "Epoch 89/125\n",
      "156/156 [==============================] - ETA: 0s - loss: 4.8493 - accuracy: 0.9613\n",
      "Epoch 89: accuracy did not improve from 0.96194\n",
      "156/156 [==============================] - 10s 64ms/step - loss: 4.8493 - accuracy: 0.9613 - lr: 0.0010\n",
      "Epoch 90/125\n",
      "156/156 [==============================] - ETA: 0s - loss: 4.8196 - accuracy: 0.9611\n",
      "Epoch 90: accuracy did not improve from 0.96194\n",
      "156/156 [==============================] - 10s 64ms/step - loss: 4.8196 - accuracy: 0.9611 - lr: 0.0010\n",
      "Epoch 91/125\n",
      "156/156 [==============================] - ETA: 0s - loss: 4.7859 - accuracy: 0.9619\n",
      "Epoch 91: accuracy did not improve from 0.96194\n",
      "156/156 [==============================] - 10s 64ms/step - loss: 4.7859 - accuracy: 0.9619 - lr: 0.0010\n",
      "Epoch 92/125\n",
      "156/156 [==============================] - ETA: 0s - loss: 4.7737 - accuracy: 0.9571\n",
      "Epoch 92: accuracy did not improve from 0.96194\n",
      "156/156 [==============================] - 10s 64ms/step - loss: 4.7737 - accuracy: 0.9571 - lr: 0.0010\n",
      "Epoch 93/125\n",
      "156/156 [==============================] - ETA: 0s - loss: 4.7437 - accuracy: 0.9573\n",
      "Epoch 93: accuracy did not improve from 0.96194\n",
      "156/156 [==============================] - 10s 64ms/step - loss: 4.7437 - accuracy: 0.9573 - lr: 0.0010\n",
      "Epoch 94/125\n",
      "156/156 [==============================] - ETA: 0s - loss: 4.7045 - accuracy: 0.9621\n",
      "Epoch 94: accuracy improved from 0.96194 to 0.96214, saving model to model-01\n"
     ]
    },
    {
     "name": "stderr",
     "output_type": "stream",
     "text": [
      "WARNING:absl:Found untraced functions such as _jit_compiled_convolution_op, _jit_compiled_convolution_op, _jit_compiled_convolution_op, _jit_compiled_convolution_op, _jit_compiled_convolution_op while saving (showing 5 of 16). These functions will not be directly callable after loading.\n"
     ]
    },
    {
     "name": "stdout",
     "output_type": "stream",
     "text": [
      "INFO:tensorflow:Assets written to: model-01/assets\n"
     ]
    },
    {
     "name": "stderr",
     "output_type": "stream",
     "text": [
      "INFO:tensorflow:Assets written to: model-01/assets\n"
     ]
    },
    {
     "name": "stdout",
     "output_type": "stream",
     "text": [
      "156/156 [==============================] - 15s 96ms/step - loss: 4.7045 - accuracy: 0.9621 - lr: 0.0010\n",
      "Epoch 95/125\n",
      "156/156 [==============================] - ETA: 0s - loss: 4.6687 - accuracy: 0.9609\n",
      "Epoch 95: accuracy did not improve from 0.96214\n",
      "156/156 [==============================] - 10s 66ms/step - loss: 4.6687 - accuracy: 0.9609 - lr: 0.0010\n",
      "Epoch 96/125\n",
      "156/156 [==============================] - ETA: 0s - loss: 4.6496 - accuracy: 0.9585\n",
      "Epoch 96: accuracy did not improve from 0.96214\n",
      "156/156 [==============================] - 10s 66ms/step - loss: 4.6496 - accuracy: 0.9585 - lr: 0.0010\n",
      "Epoch 97/125\n",
      "156/156 [==============================] - ETA: 0s - loss: 4.6149 - accuracy: 0.9623\n",
      "Epoch 97: accuracy improved from 0.96214 to 0.96234, saving model to model-01\n"
     ]
    },
    {
     "name": "stderr",
     "output_type": "stream",
     "text": [
      "WARNING:absl:Found untraced functions such as _jit_compiled_convolution_op, _jit_compiled_convolution_op, _jit_compiled_convolution_op, _jit_compiled_convolution_op, _jit_compiled_convolution_op while saving (showing 5 of 16). These functions will not be directly callable after loading.\n"
     ]
    },
    {
     "name": "stdout",
     "output_type": "stream",
     "text": [
      "INFO:tensorflow:Assets written to: model-01/assets\n"
     ]
    },
    {
     "name": "stderr",
     "output_type": "stream",
     "text": [
      "INFO:tensorflow:Assets written to: model-01/assets\n"
     ]
    },
    {
     "name": "stdout",
     "output_type": "stream",
     "text": [
      "156/156 [==============================] - 16s 99ms/step - loss: 4.6149 - accuracy: 0.9623 - lr: 0.0010\n",
      "Epoch 98/125\n",
      "156/156 [==============================] - ETA: 0s - loss: 4.5721 - accuracy: 0.9666\n",
      "Epoch 98: accuracy improved from 0.96234 to 0.96657, saving model to model-01\n"
     ]
    },
    {
     "name": "stderr",
     "output_type": "stream",
     "text": [
      "WARNING:absl:Found untraced functions such as _jit_compiled_convolution_op, _jit_compiled_convolution_op, _jit_compiled_convolution_op, _jit_compiled_convolution_op, _jit_compiled_convolution_op while saving (showing 5 of 16). These functions will not be directly callable after loading.\n"
     ]
    },
    {
     "name": "stdout",
     "output_type": "stream",
     "text": [
      "INFO:tensorflow:Assets written to: model-01/assets\n"
     ]
    },
    {
     "name": "stderr",
     "output_type": "stream",
     "text": [
      "INFO:tensorflow:Assets written to: model-01/assets\n"
     ]
    },
    {
     "name": "stdout",
     "output_type": "stream",
     "text": [
      "156/156 [==============================] - 15s 96ms/step - loss: 4.5721 - accuracy: 0.9666 - lr: 0.0010\n",
      "Epoch 99/125\n",
      "156/156 [==============================] - ETA: 0s - loss: 4.5657 - accuracy: 0.9561\n",
      "Epoch 99: accuracy did not improve from 0.96657\n",
      "156/156 [==============================] - 10s 64ms/step - loss: 4.5657 - accuracy: 0.9561 - lr: 0.0010\n",
      "Epoch 100/125\n",
      "156/156 [==============================] - ETA: 0s - loss: 4.5262 - accuracy: 0.9634\n",
      "Epoch 100: accuracy did not improve from 0.96657\n",
      "156/156 [==============================] - 10s 65ms/step - loss: 4.5262 - accuracy: 0.9634 - lr: 0.0010\n",
      "Epoch 101/125\n",
      "156/156 [==============================] - ETA: 0s - loss: 4.4976 - accuracy: 0.9617\n",
      "Epoch 101: accuracy did not improve from 0.96657\n",
      "156/156 [==============================] - 10s 64ms/step - loss: 4.4976 - accuracy: 0.9617 - lr: 0.0010\n",
      "Epoch 102/125\n",
      "156/156 [==============================] - ETA: 0s - loss: 4.4699 - accuracy: 0.9658\n",
      "Epoch 102: accuracy did not improve from 0.96657\n",
      "156/156 [==============================] - 10s 63ms/step - loss: 4.4699 - accuracy: 0.9658 - lr: 0.0010\n",
      "Epoch 103/125\n",
      "156/156 [==============================] - ETA: 0s - loss: 4.4409 - accuracy: 0.9631\n",
      "Epoch 103: accuracy did not improve from 0.96657\n",
      "156/156 [==============================] - 10s 64ms/step - loss: 4.4409 - accuracy: 0.9631 - lr: 0.0010\n",
      "Epoch 104/125\n",
      "156/156 [==============================] - ETA: 0s - loss: 4.4293 - accuracy: 0.9581\n",
      "Epoch 104: accuracy did not improve from 0.96657\n",
      "156/156 [==============================] - 10s 64ms/step - loss: 4.4293 - accuracy: 0.9581 - lr: 0.0010\n",
      "Epoch 105/125\n",
      "156/156 [==============================] - ETA: 0s - loss: 4.3875 - accuracy: 0.9676\n",
      "Epoch 105: accuracy improved from 0.96657 to 0.96758, saving model to model-01\n"
     ]
    },
    {
     "name": "stderr",
     "output_type": "stream",
     "text": [
      "WARNING:absl:Found untraced functions such as _jit_compiled_convolution_op, _jit_compiled_convolution_op, _jit_compiled_convolution_op, _jit_compiled_convolution_op, _jit_compiled_convolution_op while saving (showing 5 of 16). These functions will not be directly callable after loading.\n"
     ]
    },
    {
     "name": "stdout",
     "output_type": "stream",
     "text": [
      "INFO:tensorflow:Assets written to: model-01/assets\n"
     ]
    },
    {
     "name": "stderr",
     "output_type": "stream",
     "text": [
      "INFO:tensorflow:Assets written to: model-01/assets\n"
     ]
    },
    {
     "name": "stdout",
     "output_type": "stream",
     "text": [
      "156/156 [==============================] - 16s 101ms/step - loss: 4.3875 - accuracy: 0.9676 - lr: 0.0010\n",
      "Epoch 106/125\n",
      "156/156 [==============================] - ETA: 0s - loss: 4.3758 - accuracy: 0.9589\n",
      "Epoch 106: accuracy did not improve from 0.96758\n",
      "156/156 [==============================] - 10s 66ms/step - loss: 4.3758 - accuracy: 0.9589 - lr: 0.0010\n",
      "Epoch 107/125\n",
      "156/156 [==============================] - ETA: 0s - loss: 4.3285 - accuracy: 0.9656\n",
      "Epoch 107: accuracy did not improve from 0.96758\n",
      "156/156 [==============================] - 10s 64ms/step - loss: 4.3285 - accuracy: 0.9656 - lr: 0.0010\n",
      "Epoch 108/125\n",
      "156/156 [==============================] - ETA: 0s - loss: 4.3154 - accuracy: 0.9623\n",
      "Epoch 108: accuracy did not improve from 0.96758\n",
      "156/156 [==============================] - 10s 65ms/step - loss: 4.3154 - accuracy: 0.9623 - lr: 0.0010\n",
      "Epoch 109/125\n",
      "156/156 [==============================] - ETA: 0s - loss: 4.2702 - accuracy: 0.9716\n",
      "Epoch 109: accuracy improved from 0.96758 to 0.97161, saving model to model-01\n"
     ]
    },
    {
     "name": "stderr",
     "output_type": "stream",
     "text": [
      "WARNING:absl:Found untraced functions such as _jit_compiled_convolution_op, _jit_compiled_convolution_op, _jit_compiled_convolution_op, _jit_compiled_convolution_op, _jit_compiled_convolution_op while saving (showing 5 of 16). These functions will not be directly callable after loading.\n"
     ]
    },
    {
     "name": "stdout",
     "output_type": "stream",
     "text": [
      "INFO:tensorflow:Assets written to: model-01/assets\n"
     ]
    },
    {
     "name": "stderr",
     "output_type": "stream",
     "text": [
      "INFO:tensorflow:Assets written to: model-01/assets\n"
     ]
    },
    {
     "name": "stdout",
     "output_type": "stream",
     "text": [
      "156/156 [==============================] - 15s 96ms/step - loss: 4.2702 - accuracy: 0.9716 - lr: 0.0010\n",
      "Epoch 110/125\n",
      "156/156 [==============================] - ETA: 0s - loss: 4.2454 - accuracy: 0.9710\n",
      "Epoch 110: accuracy did not improve from 0.97161\n",
      "156/156 [==============================] - 10s 65ms/step - loss: 4.2454 - accuracy: 0.9710 - lr: 0.0010\n",
      "Epoch 111/125\n",
      "156/156 [==============================] - ETA: 0s - loss: 4.2249 - accuracy: 0.9668\n",
      "Epoch 111: accuracy did not improve from 0.97161\n",
      "156/156 [==============================] - 10s 63ms/step - loss: 4.2249 - accuracy: 0.9668 - lr: 0.0010\n",
      "Epoch 112/125\n",
      "156/156 [==============================] - ETA: 0s - loss: 4.1934 - accuracy: 0.9662\n",
      "Epoch 112: accuracy did not improve from 0.97161\n",
      "156/156 [==============================] - 10s 65ms/step - loss: 4.1934 - accuracy: 0.9662 - lr: 0.0010\n",
      "Epoch 113/125\n",
      "156/156 [==============================] - ETA: 0s - loss: 4.1674 - accuracy: 0.9700\n",
      "Epoch 113: accuracy did not improve from 0.97161\n",
      "156/156 [==============================] - 10s 65ms/step - loss: 4.1674 - accuracy: 0.9700 - lr: 0.0010\n",
      "Epoch 114/125\n",
      "156/156 [==============================] - ETA: 0s - loss: 4.1516 - accuracy: 0.9658\n",
      "Epoch 114: accuracy did not improve from 0.97161\n",
      "156/156 [==============================] - 10s 65ms/step - loss: 4.1516 - accuracy: 0.9658 - lr: 0.0010\n",
      "Epoch 115/125\n",
      "156/156 [==============================] - ETA: 0s - loss: 4.1283 - accuracy: 0.9662\n",
      "Epoch 115: accuracy did not improve from 0.97161\n",
      "156/156 [==============================] - 10s 66ms/step - loss: 4.1283 - accuracy: 0.9662 - lr: 0.0010\n",
      "Epoch 116/125\n",
      "156/156 [==============================] - ETA: 0s - loss: 4.0906 - accuracy: 0.9680\n",
      "Epoch 116: accuracy did not improve from 0.97161\n",
      "156/156 [==============================] - 11s 67ms/step - loss: 4.0906 - accuracy: 0.9680 - lr: 0.0010\n",
      "Epoch 117/125\n",
      "156/156 [==============================] - ETA: 0s - loss: 4.0758 - accuracy: 0.9668\n",
      "Epoch 117: accuracy did not improve from 0.97161\n",
      "156/156 [==============================] - 10s 65ms/step - loss: 4.0758 - accuracy: 0.9668 - lr: 0.0010\n",
      "Epoch 118/125\n",
      "156/156 [==============================] - ETA: 0s - loss: 4.0456 - accuracy: 0.9670\n",
      "Epoch 118: accuracy did not improve from 0.97161\n",
      "156/156 [==============================] - 10s 65ms/step - loss: 4.0456 - accuracy: 0.9670 - lr: 0.0010\n",
      "Epoch 119/125\n",
      "156/156 [==============================] - ETA: 0s - loss: 4.0183 - accuracy: 0.9706\n",
      "Epoch 119: accuracy did not improve from 0.97161\n",
      "156/156 [==============================] - 10s 63ms/step - loss: 4.0183 - accuracy: 0.9706 - lr: 0.0010\n",
      "Epoch 120/125\n",
      "156/156 [==============================] - ETA: 0s - loss: 3.9906 - accuracy: 0.9702\n",
      "Epoch 120: accuracy did not improve from 0.97161\n",
      "156/156 [==============================] - 10s 64ms/step - loss: 3.9906 - accuracy: 0.9702 - lr: 0.0010\n",
      "Epoch 121/125\n",
      "156/156 [==============================] - ETA: 0s - loss: 3.9873 - accuracy: 0.9623\n",
      "Epoch 121: accuracy did not improve from 0.97161\n",
      "156/156 [==============================] - 10s 65ms/step - loss: 3.9873 - accuracy: 0.9623 - lr: 0.0010\n",
      "Epoch 122/125\n",
      "156/156 [==============================] - ETA: 0s - loss: 3.9374 - accuracy: 0.9720\n",
      "Epoch 122: accuracy improved from 0.97161 to 0.97201, saving model to model-01\n"
     ]
    },
    {
     "name": "stderr",
     "output_type": "stream",
     "text": [
      "WARNING:absl:Found untraced functions such as _jit_compiled_convolution_op, _jit_compiled_convolution_op, _jit_compiled_convolution_op, _jit_compiled_convolution_op, _jit_compiled_convolution_op while saving (showing 5 of 16). These functions will not be directly callable after loading.\n"
     ]
    },
    {
     "name": "stdout",
     "output_type": "stream",
     "text": [
      "INFO:tensorflow:Assets written to: model-01/assets\n"
     ]
    },
    {
     "name": "stderr",
     "output_type": "stream",
     "text": [
      "INFO:tensorflow:Assets written to: model-01/assets\n"
     ]
    },
    {
     "name": "stdout",
     "output_type": "stream",
     "text": [
      "156/156 [==============================] - 15s 98ms/step - loss: 3.9374 - accuracy: 0.9720 - lr: 0.0010\n",
      "Epoch 123/125\n",
      "156/156 [==============================] - ETA: 0s - loss: 3.9229 - accuracy: 0.9684\n",
      "Epoch 123: accuracy did not improve from 0.97201\n",
      "156/156 [==============================] - 11s 68ms/step - loss: 3.9229 - accuracy: 0.9684 - lr: 0.0010\n",
      "Epoch 124/125\n",
      "156/156 [==============================] - ETA: 0s - loss: 3.8982 - accuracy: 0.9676\n",
      "Epoch 124: accuracy did not improve from 0.97201\n",
      "156/156 [==============================] - 10s 66ms/step - loss: 3.8982 - accuracy: 0.9676 - lr: 0.0010\n",
      "Epoch 125/125\n",
      "156/156 [==============================] - ETA: 0s - loss: 3.8656 - accuracy: 0.9724\n",
      "Epoch 125: accuracy improved from 0.97201 to 0.97241, saving model to model-01\n"
     ]
    },
    {
     "name": "stderr",
     "output_type": "stream",
     "text": [
      "WARNING:absl:Found untraced functions such as _jit_compiled_convolution_op, _jit_compiled_convolution_op, _jit_compiled_convolution_op, _jit_compiled_convolution_op, _jit_compiled_convolution_op while saving (showing 5 of 16). These functions will not be directly callable after loading.\n"
     ]
    },
    {
     "name": "stdout",
     "output_type": "stream",
     "text": [
      "INFO:tensorflow:Assets written to: model-01/assets\n"
     ]
    },
    {
     "name": "stderr",
     "output_type": "stream",
     "text": [
      "INFO:tensorflow:Assets written to: model-01/assets\n"
     ]
    },
    {
     "name": "stdout",
     "output_type": "stream",
     "text": [
      "156/156 [==============================] - 20s 130ms/step - loss: 3.8656 - accuracy: 0.9724 - lr: 0.0010\n"
     ]
    }
   ],
   "source": [
    "## EJECUCION DEL MODELO\n",
    "# with tf.device(\"/CPU:0\"):\n",
    "# with tf.device(\"/GPU:0\"):\n",
    "model.compile(loss=\"categorical_crossentropy\", \n",
    "              optimizer= SGD(learning_rate=0.001),\n",
    "              metrics=['accuracy'])\n",
    "\n",
    "#Agregamos un callback\n",
    "from tensorflow.keras.callbacks import ModelCheckpoint\n",
    "from tensorflow.keras.callbacks import ReduceLROnPlateau\n",
    "\n",
    "checkpointer = ModelCheckpoint(filepath='model-01', verbose=1, save_best_only=True,\n",
    "                               monitor = 'accuracy', mode = 'max')\n",
    "reduce_lr = ReduceLROnPlateau(monitor='loss', factor=0.2,\n",
    "                              patience=3, min_lr=0.000001)\n",
    "\n",
    "history= model.fit(train_generator, callbacks = [reduce_lr, checkpointer], epochs=epochs)"
   ]
  },
  {
   "cell_type": "code",
   "execution_count": 13,
   "id": "7f2bdaef-cd4d-4293-a9d6-96ff42a472f9",
   "metadata": {},
   "outputs": [
    {
     "name": "stdout",
     "output_type": "stream",
     "text": [
      "34/34 [==============================] - 4s 113ms/step\n"
     ]
    }
   ],
   "source": [
    "preds_test = model.predict(test_generator)"
   ]
  },
  {
   "cell_type": "code",
   "execution_count": 14,
   "id": "49f96094-7a88-42fe-ad44-8530de26456e",
   "metadata": {},
   "outputs": [
    {
     "name": "stdout",
     "output_type": "stream",
     "text": [
      "34/34 [==============================] - 4s 111ms/step - loss: 4.0087 - accuracy: 0.9393\n"
     ]
    }
   ],
   "source": [
    "evaluate_test = model.evaluate(test_generator)"
   ]
  },
  {
   "cell_type": "code",
   "execution_count": 15,
   "id": "730f6466-b483-483e-b16c-1dde5da34648",
   "metadata": {},
   "outputs": [
    {
     "data": {
      "text/plain": [
       "[4.008734226226807, 0.939338207244873]"
      ]
     },
     "execution_count": 15,
     "metadata": {},
     "output_type": "execute_result"
    }
   ],
   "source": [
    "evaluate_test"
   ]
  },
  {
   "cell_type": "code",
   "execution_count": 16,
   "id": "71fc2b80-aa9e-4fa3-b8d9-25f732de5c86",
   "metadata": {},
   "outputs": [
    {
     "data": {
      "text/plain": [
       "array([16,  0,  0, ..., 33, 33, 33])"
      ]
     },
     "execution_count": 16,
     "metadata": {},
     "output_type": "execute_result"
    }
   ],
   "source": [
    "y_preds_test = np.array([np.argmax(x) for x in preds_test])\n",
    "y_preds_test"
   ]
  },
  {
   "cell_type": "code",
   "execution_count": 17,
   "id": "eb480175-6c03-4201-806c-fb8a27b96984",
   "metadata": {},
   "outputs": [
    {
     "data": {
      "text/plain": [
       "array([ 0,  0,  0, ..., 33, 33, 33], dtype=int32)"
      ]
     },
     "execution_count": 17,
     "metadata": {},
     "output_type": "execute_result"
    }
   ],
   "source": [
    "y_real_test = test_generator.classes\n",
    "y_real_test"
   ]
  },
  {
   "cell_type": "code",
   "execution_count": 18,
   "id": "95f69712-fd40-43cf-90d2-9b0a1bafca00",
   "metadata": {},
   "outputs": [
    {
     "data": {
      "text/plain": [
       "0.9384191176470589"
      ]
     },
     "execution_count": 18,
     "metadata": {},
     "output_type": "execute_result"
    }
   ],
   "source": [
    "accuracy_test = accuracy_score(y_real_test, y_preds_test)\n",
    "accuracy_test"
   ]
  },
  {
   "cell_type": "code",
   "execution_count": 19,
   "id": "4b0f6dec-7952-41d6-bc7c-e585cd11d7de",
   "metadata": {},
   "outputs": [
    {
     "data": {
      "text/plain": [
       "array([[31,  0,  0, ...,  0,  0,  0],\n",
       "       [ 0, 31,  0, ...,  0,  0,  0],\n",
       "       [ 0,  0, 32, ...,  0,  0,  0],\n",
       "       ...,\n",
       "       [ 0,  0,  0, ..., 30,  0,  0],\n",
       "       [ 0,  0,  0, ...,  0, 28,  1],\n",
       "       [ 0,  0,  0, ...,  2,  0, 30]])"
      ]
     },
     "execution_count": 19,
     "metadata": {},
     "output_type": "execute_result"
    }
   ],
   "source": [
    "cm_test = confusion_matrix(y_real_test, y_preds_test)\n",
    "cm_test"
   ]
  },
  {
   "cell_type": "code",
   "execution_count": 20,
   "id": "4cb535b8-028f-477e-b03f-8783b3a13096",
   "metadata": {},
   "outputs": [
    {
     "data": {
      "image/png": "[encoded data removed]",
      "text/plain": [
       "<Figure size 800x600 with 2 Axes>"
      ]
     },
     "metadata": {},
     "output_type": "display_data"
    }
   ],
   "source": [
    "plt.figure(figsize=(8,6), dpi=100)\n",
    "# Scale up the size of all text\n",
    "sns.set(font_scale = 1.1)\n",
    "\n",
    "# Plot Confusion Matrix using Seaborn heatmap()\n",
    "# Parameters:\n",
    "# first param - confusion matrix in array format   \n",
    "# annot = True: show the numbers in each heatmap cell\n",
    "# fmt = 'd': show numbers as integers. \n",
    "ax = sns.heatmap(cm_test, annot=True, fmt='d', )\n",
    "\n",
    "# set x-axis label and ticks. \n",
    "ax.set_xlabel(\"Predicted Diagnosis\", fontsize=14, labelpad=20)\n",
    "# ax.xaxis.set_ticklabels(['Negative', 'Positive'])\n",
    "\n",
    "# set y-axis label and ticks\n",
    "ax.set_ylabel(\"Actual Diagnosis\", fontsize=14, labelpad=20)\n",
    "# ax.yaxis.set_ticklabels(['Negative', 'Positive'])\n",
    "\n",
    "# set plot title\n",
    "ax.set_title(\"Confusion Matrix for the Diabetes Detection Model\", fontsize=14, pad=20)\n",
    "\n",
    "plt.show()"
   ]
  },
  {
   "cell_type": "code",
   "execution_count": 21,
   "id": "b503eb1a-81ed-4078-b596-278249a3c722",
   "metadata": {},
   "outputs": [
    {
     "name": "stdout",
     "output_type": "stream",
     "text": [
      "33/33 [==============================] - 3s 83ms/step\n"
     ]
    }
   ],
   "source": [
    "preds_val = model.predict(valid_generator)"
   ]
  },
  {
   "cell_type": "code",
   "execution_count": 22,
   "id": "1fb77fb4-bdbf-4929-b30b-f90ab9aa55eb",
   "metadata": {},
   "outputs": [
    {
     "name": "stdout",
     "output_type": "stream",
     "text": [
      "33/33 [==============================] - 2s 65ms/step - loss: 3.9284 - accuracy: 0.9609\n"
     ]
    }
   ],
   "source": [
    "evaluate_val = model.evaluate(valid_generator)"
   ]
  },
  {
   "cell_type": "code",
   "execution_count": 23,
   "id": "d3a2be82-fc27-446d-be97-ef39329a1385",
   "metadata": {},
   "outputs": [
    {
     "data": {
      "text/plain": [
       "[3.9283852577209473, 0.9608778357505798]"
      ]
     },
     "execution_count": 23,
     "metadata": {},
     "output_type": "execute_result"
    }
   ],
   "source": [
    "evaluate_val"
   ]
  },
  {
   "cell_type": "code",
   "execution_count": 24,
   "id": "d17f5e3f-c58f-4ff5-86d8-961dde74325c",
   "metadata": {},
   "outputs": [
    {
     "data": {
      "text/plain": [
       "array([ 0,  0,  0, ..., 33, 33, 33])"
      ]
     },
     "execution_count": 24,
     "metadata": {},
     "output_type": "execute_result"
    }
   ],
   "source": [
    "y_preds_val = np.array([np.argmax(x) for x in preds_val])\n",
    "y_preds_val"
   ]
  },
  {
   "cell_type": "code",
   "execution_count": 25,
   "id": "7a7cd9d7-3192-4e04-a0a1-693ca99d1037",
   "metadata": {},
   "outputs": [
    {
     "data": {
      "text/plain": [
       "array([ 0,  0,  0, ..., 33, 33, 33], dtype=int32)"
      ]
     },
     "execution_count": 25,
     "metadata": {},
     "output_type": "execute_result"
    }
   ],
   "source": [
    "y_real_val = valid_generator.classes\n",
    "y_real_val"
   ]
  },
  {
   "cell_type": "code",
   "execution_count": 26,
   "id": "67e7aded-e874-41a0-981d-4de4720b27ad",
   "metadata": {},
   "outputs": [
    {
     "data": {
      "text/plain": [
       "0.9580152671755725"
      ]
     },
     "execution_count": 26,
     "metadata": {},
     "output_type": "execute_result"
    }
   ],
   "source": [
    "accuracy_val = accuracy_score(y_real_val, y_preds_val)\n",
    "accuracy_val"
   ]
  },
  {
   "cell_type": "code",
   "execution_count": 27,
   "id": "c3459eff-7df8-47b2-986a-2beab8ac51e1",
   "metadata": {},
   "outputs": [
    {
     "data": {
      "text/plain": [
       "array([[30,  0,  0, ...,  0,  0,  0],\n",
       "       [ 0, 30,  0, ...,  0,  0,  0],\n",
       "       [ 0,  0, 29, ...,  0,  0,  0],\n",
       "       ...,\n",
       "       [ 0,  0,  0, ..., 30,  0,  1],\n",
       "       [ 0,  0,  0, ...,  0, 29,  0],\n",
       "       [ 0,  0,  0, ...,  0,  0, 31]])"
      ]
     },
     "execution_count": 27,
     "metadata": {},
     "output_type": "execute_result"
    }
   ],
   "source": [
    "cm_val = confusion_matrix(y_real_val, y_preds_val)\n",
    "cm_val"
   ]
  },
  {
   "cell_type": "code",
   "execution_count": 28,
   "id": "d9806965-fb2e-4044-af24-af216719e719",
   "metadata": {},
   "outputs": [
    {
     "data": {
      "image/png": "[encoded data removed]",
      "text/plain": [
       "<Figure size 800x600 with 2 Axes>"
      ]
     },
     "metadata": {},
     "output_type": "display_data"
    }
   ],
   "source": [
    "plt.figure(figsize=(8,6), dpi=100)\n",
    "# Scale up the size of all text\n",
    "sns.set(font_scale = 1.1)\n",
    "\n",
    "# Plot Confusion Matrix using Seaborn heatmap()\n",
    "# Parameters:\n",
    "# first param - confusion matrix in array format   \n",
    "# annot = True: show the numbers in each heatmap cell\n",
    "# fmt = 'd': show numbers as integers. \n",
    "ax = sns.heatmap(cm_val, annot=True, fmt='d', )\n",
    "\n",
    "# set x-axis label and ticks. \n",
    "ax.set_xlabel(\"Predicted Diagnosis\", fontsize=14, labelpad=20)\n",
    "# ax.xaxis.set_ticklabels(['Negative', 'Positive'])\n",
    "\n",
    "# set y-axis label and ticks\n",
    "ax.set_ylabel(\"Actual Diagnosis\", fontsize=14, labelpad=20)\n",
    "# ax.yaxis.set_ticklabels(['Negative', 'Positive'])\n",
    "\n",
    "# set plot title\n",
    "ax.set_title(\"Confusion Matrix for the Diabetes Detection Model\", fontsize=14, pad=20)\n",
    "\n",
    "plt.show()"
   ]
  }
 ],
 "metadata": {
  "kernelspec": {
   "display_name": "TensorFlow 2.11 (Local)",
   "language": "python",
   "name": "local-tf2-2-11"
  },
  "language_info": {
   "codemirror_mode": {
    "name": "ipython",
    "version": 3
   },
   "file_extension": ".py",
   "mimetype": "text/x-python",
   "name": "python",
   "nbconvert_exporter": "python",
   "pygments_lexer": "ipython3",
   "version": "3.7.12"
  }
 },
 "nbformat": 4,
 "nbformat_minor": 5
}

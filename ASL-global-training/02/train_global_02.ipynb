{
 "cells": [
  {
   "cell_type": "code",
   "execution_count": 1,
   "id": "cabbedb0-cdf5-4873-b294-64c330b205de",
   "metadata": {
    "tags": []
   },
   "outputs": [
    {
     "name": "stderr",
     "output_type": "stream",
     "text": [
      "2023-09-18 14:10:37.155982: I tensorflow/core/platform/cpu_feature_guard.cc:193] This TensorFlow binary is optimized with oneAPI Deep Neural Network Library (oneDNN) to use the following CPU instructions in performance-critical operations:  AVX2 FMA\n",
      "To enable them in other operations, rebuild TensorFlow with the appropriate compiler flags.\n",
      "2023-09-18 14:10:40.560896: W tensorflow/compiler/xla/stream_executor/platform/default/dso_loader.cc:64] Could not load dynamic library 'libnvinfer.so.7'; dlerror: libnvinfer.so.7: cannot open shared object file: No such file or directory; LD_LIBRARY_PATH: /usr/local/cuda/lib64:/usr/local/cuda/lib:/usr/local/lib/x86_64-linux-gnu:/usr/local/nvidia/lib:/usr/local/nvidia/lib64:/usr/local/nvidia/lib:/usr/local/nvidia/lib64\n",
      "2023-09-18 14:10:40.561110: W tensorflow/compiler/xla/stream_executor/platform/default/dso_loader.cc:64] Could not load dynamic library 'libnvinfer_plugin.so.7'; dlerror: libnvinfer_plugin.so.7: cannot open shared object file: No such file or directory; LD_LIBRARY_PATH: /usr/local/cuda/lib64:/usr/local/cuda/lib:/usr/local/lib/x86_64-linux-gnu:/usr/local/nvidia/lib:/usr/local/nvidia/lib64:/usr/local/nvidia/lib:/usr/local/nvidia/lib64\n",
      "2023-09-18 14:10:40.561127: W tensorflow/compiler/tf2tensorrt/utils/py_utils.cc:38] TF-TRT Warning: Cannot dlopen some TensorRT libraries. If you would like to use Nvidia GPU with TensorRT, please make sure the missing libraries mentioned above are installed properly.\n"
     ]
    },
    {
     "name": "stdout",
     "output_type": "stream",
     "text": [
      "2.11.0\n"
     ]
    }
   ],
   "source": [
    "import tensorflow as tf\n",
    "\n",
    "print(tf.__version__)\n",
    "\n",
    "from tensorflow.keras.models                import Sequential, Model\n",
    "from tensorflow.keras.layers                import *\n",
    "from tensorflow.keras.preprocessing.image   import ImageDataGenerator\n",
    "from tensorflow.keras.utils                 import to_categorical\n",
    "from tensorflow.keras.optimizers            import SGD, RMSprop, Adam, Adagrad, Adadelta\n",
    "\n",
    "from sklearn.model_selection import train_test_split\n",
    "from sklearn.metrics import confusion_matrix, accuracy_score\n",
    "from sklearn.utils import class_weight\n",
    "\n",
    "import matplotlib.pyplot as plt\n",
    "import random\n",
    "# import cv2\n",
    "import pandas as pd\n",
    "import numpy as np\n",
    "import matplotlib.gridspec as gridspec\n",
    "import seaborn as sns\n",
    "import sklearn\n",
    "import scipy\n",
    "import skimage\n",
    "from skimage.transform import resize\n",
    "from tqdm import tqdm\n",
    "from sklearn import model_selection\n",
    "from sklearn.model_selection import train_test_split, learning_curve,KFold,cross_val_score,StratifiedKFold\n",
    "from sklearn.utils import class_weight\n",
    "from sklearn.metrics import confusion_matrix"
   ]
  },
  {
   "cell_type": "code",
   "execution_count": 2,
   "id": "591c6941-6b95-49ed-a5e4-b3b065f337e5",
   "metadata": {},
   "outputs": [],
   "source": [
    "# !git clone https://github.com/EricMartinezIllamola/asl-global.git"
   ]
  },
  {
   "cell_type": "code",
   "execution_count": 3,
   "id": "b142a1a3-59e9-445c-a9c9-35d7cc5e2645",
   "metadata": {},
   "outputs": [],
   "source": [
    "# !pip install split-folders "
   ]
  },
  {
   "cell_type": "code",
   "execution_count": 4,
   "id": "e29c6dc1-7ac5-4f9c-afc5-27889eadad59",
   "metadata": {
    "tags": []
   },
   "outputs": [],
   "source": [
    "# import splitfolders\n",
    "# import os"
   ]
  },
  {
   "cell_type": "code",
   "execution_count": 5,
   "id": "5bc916a7-71b9-408a-a862-97bac0f8cd8c",
   "metadata": {
    "tags": []
   },
   "outputs": [],
   "source": [
    "# path = \"asl-global/asl-global\"\n",
    "\n",
    "# splitfolders.ratio(path, seed=777, output=\"Train-Validation-Test-Dataset\", ratio=(0.7, 0.15, 0.15))"
   ]
  },
  {
   "cell_type": "code",
   "execution_count": 6,
   "id": "3c62d1d8-12eb-4f83-ae0c-7ffa1f9c939b",
   "metadata": {},
   "outputs": [],
   "source": [
    "train_path = \"Train-Validation-Test-Dataset/train\"\n",
    "val_path = \"Train-Validation-Test-Dataset/val\"\n",
    "test_path = \"Train-Validation-Test-Dataset/test\""
   ]
  },
  {
   "cell_type": "code",
   "execution_count": 7,
   "id": "cdc6b023-62d9-4604-a6b7-388c23c40b87",
   "metadata": {
    "tags": []
   },
   "outputs": [
    {
     "name": "stderr",
     "output_type": "stream",
     "text": [
      "2023-09-18 14:10:44.778220: I tensorflow/compiler/xla/stream_executor/cuda/cuda_gpu_executor.cc:981] successful NUMA node read from SysFS had negative value (-1), but there must be at least one NUMA node, so returning NUMA node zero\n",
      "2023-09-18 14:10:44.793119: I tensorflow/compiler/xla/stream_executor/cuda/cuda_gpu_executor.cc:981] successful NUMA node read from SysFS had negative value (-1), but there must be at least one NUMA node, so returning NUMA node zero\n",
      "2023-09-18 14:10:44.795993: I tensorflow/compiler/xla/stream_executor/cuda/cuda_gpu_executor.cc:981] successful NUMA node read from SysFS had negative value (-1), but there must be at least one NUMA node, so returning NUMA node zero\n"
     ]
    },
    {
     "data": {
      "text/plain": [
       "[PhysicalDevice(name='/physical_device:CPU:0', device_type='CPU'),\n",
       " PhysicalDevice(name='/physical_device:GPU:0', device_type='GPU')]"
      ]
     },
     "execution_count": 7,
     "metadata": {},
     "output_type": "execute_result"
    }
   ],
   "source": [
    "tf.config.experimental.list_physical_devices()"
   ]
  },
  {
   "cell_type": "code",
   "execution_count": 8,
   "id": "e2dfe75c-2fa1-44a9-94ff-d1205720671d",
   "metadata": {
    "tags": []
   },
   "outputs": [
    {
     "data": {
      "text/plain": [
       "True"
      ]
     },
     "execution_count": 8,
     "metadata": {},
     "output_type": "execute_result"
    }
   ],
   "source": [
    "tf.test.is_built_with_cuda()"
   ]
  },
  {
   "cell_type": "code",
   "execution_count": 9,
   "id": "b9f0f604-67d3-43b5-962d-5b88fd6bb534",
   "metadata": {},
   "outputs": [
    {
     "name": "stdout",
     "output_type": "stream",
     "text": [
      "Found 4966 images belonging to 34 classes.\n",
      "Found 1048 images belonging to 34 classes.\n",
      "Found 1088 images belonging to 34 classes.\n"
     ]
    }
   ],
   "source": [
    "from tensorflow.keras.preprocessing.image   import ImageDataGenerator\n",
    "\n",
    "##Clasificamos las imagenes\n",
    "bs = 32 #bach size\n",
    "k = 2\n",
    "# Generador de imágenes de entrenamiento.\n",
    "train_datagen = ImageDataGenerator(\n",
    "        rescale=1./255,\n",
    "        shear_range=(0.3),\n",
    "        zoom_range=(0.3),\n",
    "        width_shift_range=(0.2),\n",
    "        height_shift_range=(0.2),\n",
    "        # validation_split = 0.2,\n",
    "        brightness_range=(0.05,0.85),\n",
    "        horizontal_flip=False)\n",
    "\n",
    "# Carga de imágenes al generador de entrenamiento desde directorio.\n",
    "train_generator = train_datagen.flow_from_directory(\n",
    "        train_path,\n",
    "        class_mode='categorical',\n",
    "        shuffle=True,\n",
    "        target_size=(28*k, 28*k),\n",
    "        color_mode = 'rgb', \n",
    "        # subset = 'training',\n",
    "        batch_size=bs)\n",
    "\n",
    "valid_generator = train_datagen.flow_from_directory(\n",
    "        val_path,\n",
    "        class_mode='categorical',\n",
    "        shuffle=False,\n",
    "        target_size=(28*k, 28*k),\n",
    "        color_mode = 'rgb', \n",
    "        # subset = 'validation',\n",
    "        batch_size=bs)\n",
    "\n",
    "test_generator = train_datagen.flow_from_directory(\n",
    "        test_path,\n",
    "        class_mode='categorical',\n",
    "        shuffle=False,\n",
    "        target_size=(28*k, 28*k),\n",
    "        color_mode = 'rgb', \n",
    "        # subset = 'validation',\n",
    "        batch_size=bs)"
   ]
  },
  {
   "cell_type": "code",
   "execution_count": 10,
   "id": "ce39767d-6018-413a-ac2c-8e816e2cf5e3",
   "metadata": {},
   "outputs": [
    {
     "name": "stderr",
     "output_type": "stream",
     "text": [
      "2023-09-18 14:10:45.624338: I tensorflow/core/platform/cpu_feature_guard.cc:193] This TensorFlow binary is optimized with oneAPI Deep Neural Network Library (oneDNN) to use the following CPU instructions in performance-critical operations:  AVX2 FMA\n",
      "To enable them in other operations, rebuild TensorFlow with the appropriate compiler flags.\n",
      "2023-09-18 14:10:45.626030: I tensorflow/compiler/xla/stream_executor/cuda/cuda_gpu_executor.cc:981] successful NUMA node read from SysFS had negative value (-1), but there must be at least one NUMA node, so returning NUMA node zero\n",
      "2023-09-18 14:10:45.629436: I tensorflow/compiler/xla/stream_executor/cuda/cuda_gpu_executor.cc:981] successful NUMA node read from SysFS had negative value (-1), but there must be at least one NUMA node, so returning NUMA node zero\n",
      "2023-09-18 14:10:45.632100: I tensorflow/compiler/xla/stream_executor/cuda/cuda_gpu_executor.cc:981] successful NUMA node read from SysFS had negative value (-1), but there must be at least one NUMA node, so returning NUMA node zero\n",
      "2023-09-18 14:10:46.417925: I tensorflow/compiler/xla/stream_executor/cuda/cuda_gpu_executor.cc:981] successful NUMA node read from SysFS had negative value (-1), but there must be at least one NUMA node, so returning NUMA node zero\n",
      "2023-09-18 14:10:46.419940: I tensorflow/compiler/xla/stream_executor/cuda/cuda_gpu_executor.cc:981] successful NUMA node read from SysFS had negative value (-1), but there must be at least one NUMA node, so returning NUMA node zero\n",
      "2023-09-18 14:10:46.421631: I tensorflow/compiler/xla/stream_executor/cuda/cuda_gpu_executor.cc:981] successful NUMA node read from SysFS had negative value (-1), but there must be at least one NUMA node, so returning NUMA node zero\n",
      "2023-09-18 14:10:46.423203: I tensorflow/core/common_runtime/gpu/gpu_device.cc:1613] Created device /job:localhost/replica:0/task:0/device:GPU:0 with 13582 MB memory:  -> device: 0, name: Tesla T4, pci bus id: 0000:00:04.0, compute capability: 7.5\n"
     ]
    },
    {
     "name": "stdout",
     "output_type": "stream",
     "text": [
      "Model: \"vgg19\"\n",
      "_________________________________________________________________\n",
      " Layer (type)                Output Shape              Param #   \n",
      "=================================================================\n",
      " input_1 (InputLayer)        [(None, 224, 224, 3)]     0         \n",
      "                                                                 \n",
      " block1_conv1 (Conv2D)       (None, 224, 224, 64)      1792      \n",
      "                                                                 \n",
      " block1_conv2 (Conv2D)       (None, 224, 224, 64)      36928     \n",
      "                                                                 \n",
      " block1_pool (MaxPooling2D)  (None, 112, 112, 64)      0         \n",
      "                                                                 \n",
      " block2_conv1 (Conv2D)       (None, 112, 112, 128)     73856     \n",
      "                                                                 \n",
      " block2_conv2 (Conv2D)       (None, 112, 112, 128)     147584    \n",
      "                                                                 \n",
      " block2_pool (MaxPooling2D)  (None, 56, 56, 128)       0         \n",
      "                                                                 \n",
      " block3_conv1 (Conv2D)       (None, 56, 56, 256)       295168    \n",
      "                                                                 \n",
      " block3_conv2 (Conv2D)       (None, 56, 56, 256)       590080    \n",
      "                                                                 \n",
      " block3_conv3 (Conv2D)       (None, 56, 56, 256)       590080    \n",
      "                                                                 \n",
      " block3_conv4 (Conv2D)       (None, 56, 56, 256)       590080    \n",
      "                                                                 \n",
      " block3_pool (MaxPooling2D)  (None, 28, 28, 256)       0         \n",
      "                                                                 \n",
      " block4_conv1 (Conv2D)       (None, 28, 28, 512)       1180160   \n",
      "                                                                 \n",
      " block4_conv2 (Conv2D)       (None, 28, 28, 512)       2359808   \n",
      "                                                                 \n",
      " block4_conv3 (Conv2D)       (None, 28, 28, 512)       2359808   \n",
      "                                                                 \n",
      " block4_conv4 (Conv2D)       (None, 28, 28, 512)       2359808   \n",
      "                                                                 \n",
      " block4_pool (MaxPooling2D)  (None, 14, 14, 512)       0         \n",
      "                                                                 \n",
      " block5_conv1 (Conv2D)       (None, 14, 14, 512)       2359808   \n",
      "                                                                 \n",
      " block5_conv2 (Conv2D)       (None, 14, 14, 512)       2359808   \n",
      "                                                                 \n",
      " block5_conv3 (Conv2D)       (None, 14, 14, 512)       2359808   \n",
      "                                                                 \n",
      " block5_conv4 (Conv2D)       (None, 14, 14, 512)       2359808   \n",
      "                                                                 \n",
      " block5_pool (MaxPooling2D)  (None, 7, 7, 512)         0         \n",
      "                                                                 \n",
      " flatten (Flatten)           (None, 25088)             0         \n",
      "                                                                 \n",
      " fc1 (Dense)                 (None, 4096)              102764544 \n",
      "                                                                 \n",
      " fc2 (Dense)                 (None, 4096)              16781312  \n",
      "                                                                 \n",
      " predictions (Dense)         (None, 1000)              4097000   \n",
      "                                                                 \n",
      "=================================================================\n",
      "Total params: 143,667,240\n",
      "Trainable params: 143,667,240\n",
      "Non-trainable params: 0\n",
      "_________________________________________________________________\n",
      "26\n"
     ]
    }
   ],
   "source": [
    "#Visualizamos la estructura del modelo que vamos a utilizar\n",
    "model = tf.keras.applications.VGG19()\n",
    "model.summary()\n",
    "print(len(model.layers))"
   ]
  },
  {
   "cell_type": "code",
   "execution_count": 11,
   "id": "b0e0e374-6bf0-455d-92ee-83982a54eae7",
   "metadata": {},
   "outputs": [
    {
     "name": "stdout",
     "output_type": "stream",
     "text": [
      "22\n"
     ]
    }
   ],
   "source": [
    "##DEFINIMOS EL MODELO\n",
    "num_classes = 34\n",
    "epochs = 125\n",
    "\n",
    "# VGG19\n",
    "# Importamos el modelo que queremos utilizar con los argumentos que queremos\n",
    "VGG19_model = tf.keras.applications.VGG19(input_shape=(28*k,28*k,3),\n",
    "                                          include_top=False,\n",
    "                                          weights='imagenet')\n",
    "\n",
    "print(len(VGG19_model.layers))\n",
    "#Congelamos  las 6 primeras caps del modelo para proceder a entrenar las demás\n",
    "for layer in VGG19_model.layers[:6]:\n",
    "  layer.trainable = False\n",
    "\n",
    "# Creamos un nuevo modelo vacio.\n",
    "model = tf.keras.Sequential()\n",
    "\n",
    "# Añadimos el modelo preentrenado como si se tratase de una capa.\n",
    "model.add(VGG19_model)\n",
    "\n",
    "# Continuamos añadiendo más capas que sí serán entrenadas...\n",
    "from tensorflow.keras import regularizers\n",
    "model.add(Flatten())\n",
    "model.add(Dense(2048, kernel_regularizer=regularizers.l2(0.01), activation = 'relu'))\n",
    "model.add(Dropout(0.25))\n",
    "model.add(Dense(num_classes, activation = 'softmax'))"
   ]
  },
  {
   "cell_type": "code",
   "execution_count": 12,
   "id": "98f08be8-a077-4ef3-92ab-b3604ff40655",
   "metadata": {},
   "outputs": [
    {
     "name": "stdout",
     "output_type": "stream",
     "text": [
      "Epoch 1/125\n"
     ]
    },
    {
     "name": "stderr",
     "output_type": "stream",
     "text": [
      "2023-09-18 14:10:51.526364: I tensorflow/compiler/xla/stream_executor/cuda/cuda_dnn.cc:428] Loaded cuDNN version 8200\n",
      "2023-09-18 14:10:53.702045: I tensorflow/compiler/xla/service/service.cc:173] XLA service 0x7fb0ab613380 initialized for platform CUDA (this does not guarantee that XLA will be used). Devices:\n",
      "2023-09-18 14:10:53.702101: I tensorflow/compiler/xla/service/service.cc:181]   StreamExecutor device (0): Tesla T4, Compute Capability 7.5\n",
      "2023-09-18 14:10:53.781865: I tensorflow/compiler/jit/xla_compilation_cache.cc:477] Compiled cluster using XLA!  This line is logged at most once for the lifetime of the process.\n"
     ]
    },
    {
     "name": "stdout",
     "output_type": "stream",
     "text": [
      "156/156 [==============================] - ETA: 0s - loss: 11.7054 - accuracy: 0.0356\n",
      "Epoch 1: val_accuracy improved from -inf to 0.06298, saving model to model-02\n"
     ]
    },
    {
     "name": "stderr",
     "output_type": "stream",
     "text": [
      "WARNING:absl:Found untraced functions such as _jit_compiled_convolution_op, _jit_compiled_convolution_op, _jit_compiled_convolution_op, _jit_compiled_convolution_op, _jit_compiled_convolution_op while saving (showing 5 of 16). These functions will not be directly callable after loading.\n"
     ]
    },
    {
     "name": "stdout",
     "output_type": "stream",
     "text": [
      "INFO:tensorflow:Assets written to: model-02/assets\n"
     ]
    },
    {
     "name": "stderr",
     "output_type": "stream",
     "text": [
      "INFO:tensorflow:Assets written to: model-02/assets\n"
     ]
    },
    {
     "name": "stdout",
     "output_type": "stream",
     "text": [
      "156/156 [==============================] - 24s 114ms/step - loss: 11.7054 - accuracy: 0.0356 - val_loss: 11.5881 - val_accuracy: 0.0630 - lr: 0.0010\n",
      "Epoch 2/125\n",
      "156/156 [==============================] - ETA: 0s - loss: 11.4592 - accuracy: 0.0836\n",
      "Epoch 2: val_accuracy improved from 0.06298 to 0.12977, saving model to model-02\n"
     ]
    },
    {
     "name": "stderr",
     "output_type": "stream",
     "text": [
      "WARNING:absl:Found untraced functions such as _jit_compiled_convolution_op, _jit_compiled_convolution_op, _jit_compiled_convolution_op, _jit_compiled_convolution_op, _jit_compiled_convolution_op while saving (showing 5 of 16). These functions will not be directly callable after loading.\n"
     ]
    },
    {
     "name": "stdout",
     "output_type": "stream",
     "text": [
      "INFO:tensorflow:Assets written to: model-02/assets\n"
     ]
    },
    {
     "name": "stderr",
     "output_type": "stream",
     "text": [
      "INFO:tensorflow:Assets written to: model-02/assets\n"
     ]
    },
    {
     "name": "stdout",
     "output_type": "stream",
     "text": [
      "156/156 [==============================] - 17s 111ms/step - loss: 11.4592 - accuracy: 0.0836 - val_loss: 11.2018 - val_accuracy: 0.1298 - lr: 0.0010\n",
      "Epoch 3/125\n",
      "156/156 [==============================] - ETA: 0s - loss: 11.0194 - accuracy: 0.1418\n",
      "Epoch 3: val_accuracy improved from 0.12977 to 0.19943, saving model to model-02\n"
     ]
    },
    {
     "name": "stderr",
     "output_type": "stream",
     "text": [
      "WARNING:absl:Found untraced functions such as _jit_compiled_convolution_op, _jit_compiled_convolution_op, _jit_compiled_convolution_op, _jit_compiled_convolution_op, _jit_compiled_convolution_op while saving (showing 5 of 16). These functions will not be directly callable after loading.\n"
     ]
    },
    {
     "name": "stdout",
     "output_type": "stream",
     "text": [
      "INFO:tensorflow:Assets written to: model-02/assets\n"
     ]
    },
    {
     "name": "stderr",
     "output_type": "stream",
     "text": [
      "INFO:tensorflow:Assets written to: model-02/assets\n"
     ]
    },
    {
     "name": "stdout",
     "output_type": "stream",
     "text": [
      "156/156 [==============================] - 17s 108ms/step - loss: 11.0194 - accuracy: 0.1418 - val_loss: 10.7390 - val_accuracy: 0.1994 - lr: 0.0010\n",
      "Epoch 4/125\n",
      "156/156 [==============================] - ETA: 0s - loss: 10.5874 - accuracy: 0.2247\n",
      "Epoch 4: val_accuracy improved from 0.19943 to 0.34828, saving model to model-02\n"
     ]
    },
    {
     "name": "stderr",
     "output_type": "stream",
     "text": [
      "WARNING:absl:Found untraced functions such as _jit_compiled_convolution_op, _jit_compiled_convolution_op, _jit_compiled_convolution_op, _jit_compiled_convolution_op, _jit_compiled_convolution_op while saving (showing 5 of 16). These functions will not be directly callable after loading.\n"
     ]
    },
    {
     "name": "stdout",
     "output_type": "stream",
     "text": [
      "INFO:tensorflow:Assets written to: model-02/assets\n"
     ]
    },
    {
     "name": "stderr",
     "output_type": "stream",
     "text": [
      "INFO:tensorflow:Assets written to: model-02/assets\n"
     ]
    },
    {
     "name": "stdout",
     "output_type": "stream",
     "text": [
      "156/156 [==============================] - 17s 112ms/step - loss: 10.5874 - accuracy: 0.2247 - val_loss: 10.2109 - val_accuracy: 0.3483 - lr: 0.0010\n",
      "Epoch 5/125\n",
      "156/156 [==============================] - ETA: 0s - loss: 10.2104 - accuracy: 0.3153\n",
      "Epoch 5: val_accuracy did not improve from 0.34828\n",
      "156/156 [==============================] - 12s 77ms/step - loss: 10.2104 - accuracy: 0.3153 - val_loss: 10.0674 - val_accuracy: 0.3282 - lr: 0.0010\n",
      "Epoch 6/125\n",
      "156/156 [==============================] - ETA: 0s - loss: 9.8251 - accuracy: 0.4052\n",
      "Epoch 6: val_accuracy improved from 0.34828 to 0.49523, saving model to model-02\n"
     ]
    },
    {
     "name": "stderr",
     "output_type": "stream",
     "text": [
      "WARNING:absl:Found untraced functions such as _jit_compiled_convolution_op, _jit_compiled_convolution_op, _jit_compiled_convolution_op, _jit_compiled_convolution_op, _jit_compiled_convolution_op while saving (showing 5 of 16). These functions will not be directly callable after loading.\n"
     ]
    },
    {
     "name": "stdout",
     "output_type": "stream",
     "text": [
      "INFO:tensorflow:Assets written to: model-02/assets\n"
     ]
    },
    {
     "name": "stderr",
     "output_type": "stream",
     "text": [
      "INFO:tensorflow:Assets written to: model-02/assets\n"
     ]
    },
    {
     "name": "stdout",
     "output_type": "stream",
     "text": [
      "156/156 [==============================] - 17s 106ms/step - loss: 9.8251 - accuracy: 0.4052 - val_loss: 9.5159 - val_accuracy: 0.4952 - lr: 0.0010\n",
      "Epoch 7/125\n",
      "156/156 [==============================] - ETA: 0s - loss: 9.5251 - accuracy: 0.4895\n",
      "Epoch 7: val_accuracy improved from 0.49523 to 0.60305, saving model to model-02\n"
     ]
    },
    {
     "name": "stderr",
     "output_type": "stream",
     "text": [
      "WARNING:absl:Found untraced functions such as _jit_compiled_convolution_op, _jit_compiled_convolution_op, _jit_compiled_convolution_op, _jit_compiled_convolution_op, _jit_compiled_convolution_op while saving (showing 5 of 16). These functions will not be directly callable after loading.\n"
     ]
    },
    {
     "name": "stdout",
     "output_type": "stream",
     "text": [
      "INFO:tensorflow:Assets written to: model-02/assets\n"
     ]
    },
    {
     "name": "stderr",
     "output_type": "stream",
     "text": [
      "INFO:tensorflow:Assets written to: model-02/assets\n"
     ]
    },
    {
     "name": "stdout",
     "output_type": "stream",
     "text": [
      "156/156 [==============================] - 17s 111ms/step - loss: 9.5251 - accuracy: 0.4895 - val_loss: 9.1675 - val_accuracy: 0.6031 - lr: 0.0010\n",
      "Epoch 8/125\n",
      "156/156 [==============================] - ETA: 0s - loss: 9.2325 - accuracy: 0.5546\n",
      "Epoch 8: val_accuracy improved from 0.60305 to 0.64122, saving model to model-02\n"
     ]
    },
    {
     "name": "stderr",
     "output_type": "stream",
     "text": [
      "WARNING:absl:Found untraced functions such as _jit_compiled_convolution_op, _jit_compiled_convolution_op, _jit_compiled_convolution_op, _jit_compiled_convolution_op, _jit_compiled_convolution_op while saving (showing 5 of 16). These functions will not be directly callable after loading.\n"
     ]
    },
    {
     "name": "stdout",
     "output_type": "stream",
     "text": [
      "INFO:tensorflow:Assets written to: model-02/assets\n"
     ]
    },
    {
     "name": "stderr",
     "output_type": "stream",
     "text": [
      "INFO:tensorflow:Assets written to: model-02/assets\n"
     ]
    },
    {
     "name": "stdout",
     "output_type": "stream",
     "text": [
      "156/156 [==============================] - 17s 106ms/step - loss: 9.2325 - accuracy: 0.5546 - val_loss: 8.9762 - val_accuracy: 0.6412 - lr: 0.0010\n",
      "Epoch 9/125\n",
      "156/156 [==============================] - ETA: 0s - loss: 9.0124 - accuracy: 0.6055\n",
      "Epoch 9: val_accuracy improved from 0.64122 to 0.67271, saving model to model-02\n"
     ]
    },
    {
     "name": "stderr",
     "output_type": "stream",
     "text": [
      "WARNING:absl:Found untraced functions such as _jit_compiled_convolution_op, _jit_compiled_convolution_op, _jit_compiled_convolution_op, _jit_compiled_convolution_op, _jit_compiled_convolution_op while saving (showing 5 of 16). These functions will not be directly callable after loading.\n"
     ]
    },
    {
     "name": "stdout",
     "output_type": "stream",
     "text": [
      "INFO:tensorflow:Assets written to: model-02/assets\n"
     ]
    },
    {
     "name": "stderr",
     "output_type": "stream",
     "text": [
      "INFO:tensorflow:Assets written to: model-02/assets\n"
     ]
    },
    {
     "name": "stdout",
     "output_type": "stream",
     "text": [
      "156/156 [==============================] - 17s 110ms/step - loss: 9.0124 - accuracy: 0.6055 - val_loss: 8.7800 - val_accuracy: 0.6727 - lr: 0.0010\n",
      "Epoch 10/125\n",
      "156/156 [==============================] - ETA: 0s - loss: 8.8251 - accuracy: 0.6504\n",
      "Epoch 10: val_accuracy improved from 0.67271 to 0.70420, saving model to model-02\n"
     ]
    },
    {
     "name": "stderr",
     "output_type": "stream",
     "text": [
      "WARNING:absl:Found untraced functions such as _jit_compiled_convolution_op, _jit_compiled_convolution_op, _jit_compiled_convolution_op, _jit_compiled_convolution_op, _jit_compiled_convolution_op while saving (showing 5 of 16). These functions will not be directly callable after loading.\n"
     ]
    },
    {
     "name": "stdout",
     "output_type": "stream",
     "text": [
      "INFO:tensorflow:Assets written to: model-02/assets\n"
     ]
    },
    {
     "name": "stderr",
     "output_type": "stream",
     "text": [
      "INFO:tensorflow:Assets written to: model-02/assets\n"
     ]
    },
    {
     "name": "stdout",
     "output_type": "stream",
     "text": [
      "156/156 [==============================] - 17s 106ms/step - loss: 8.8251 - accuracy: 0.6504 - val_loss: 8.6596 - val_accuracy: 0.7042 - lr: 0.0010\n",
      "Epoch 11/125\n",
      "156/156 [==============================] - ETA: 0s - loss: 8.2807 - accuracy: 0.7592\n",
      "Epoch 14: val_accuracy did not improve from 0.79008\n",
      "156/156 [==============================] - 12s 77ms/step - loss: 8.2807 - accuracy: 0.7592 - val_loss: 8.8017 - val_accuracy: 0.6088 - lr: 0.0010\n",
      "Epoch 15/125\n",
      "156/156 [==============================] - ETA: 0s - loss: 8.1679 - accuracy: 0.7888\n",
      "Epoch 15: val_accuracy did not improve from 0.79008\n",
      "156/156 [==============================] - 12s 76ms/step - loss: 8.1679 - accuracy: 0.7888 - val_loss: 8.1433 - val_accuracy: 0.7882 - lr: 0.0010\n",
      "Epoch 16/125\n",
      "156/156 [==============================] - ETA: 0s - loss: 8.0823 - accuracy: 0.7980\n",
      "Epoch 16: val_accuracy improved from 0.79008 to 0.82252, saving model to model-02\n"
     ]
    },
    {
     "name": "stderr",
     "output_type": "stream",
     "text": [
      "WARNING:absl:Found untraced functions such as _jit_compiled_convolution_op, _jit_compiled_convolution_op, _jit_compiled_convolution_op, _jit_compiled_convolution_op, _jit_compiled_convolution_op while saving (showing 5 of 16). These functions will not be directly callable after loading.\n"
     ]
    },
    {
     "name": "stdout",
     "output_type": "stream",
     "text": [
      "INFO:tensorflow:Assets written to: model-02/assets\n"
     ]
    },
    {
     "name": "stderr",
     "output_type": "stream",
     "text": [
      "INFO:tensorflow:Assets written to: model-02/assets\n"
     ]
    },
    {
     "name": "stdout",
     "output_type": "stream",
     "text": [
      "156/156 [==============================] - 17s 108ms/step - loss: 8.0823 - accuracy: 0.7980 - val_loss: 7.9757 - val_accuracy: 0.8225 - lr: 0.0010\n",
      "Epoch 17/125\n",
      "156/156 [==============================] - ETA: 0s - loss: 7.9994 - accuracy: 0.8033\n",
      "Epoch 17: val_accuracy improved from 0.82252 to 0.85019, saving model to model-02\n"
     ]
    },
    {
     "name": "stderr",
     "output_type": "stream",
     "text": [
      "WARNING:absl:Found untraced functions such as _jit_compiled_convolution_op, _jit_compiled_convolution_op, _jit_compiled_convolution_op, _jit_compiled_convolution_op, _jit_compiled_convolution_op while saving (showing 5 of 16). These functions will not be directly callable after loading.\n"
     ]
    },
    {
     "name": "stdout",
     "output_type": "stream",
     "text": [
      "INFO:tensorflow:Assets written to: model-02/assets\n"
     ]
    },
    {
     "name": "stderr",
     "output_type": "stream",
     "text": [
      "INFO:tensorflow:Assets written to: model-02/assets\n"
     ]
    },
    {
     "name": "stdout",
     "output_type": "stream",
     "text": [
      "156/156 [==============================] - 17s 108ms/step - loss: 7.9994 - accuracy: 0.8033 - val_loss: 7.8644 - val_accuracy: 0.8502 - lr: 0.0010\n",
      "Epoch 18/125\n",
      "156/156 [==============================] - ETA: 0s - loss: 7.9233 - accuracy: 0.8147\n",
      "Epoch 18: val_accuracy did not improve from 0.85019\n",
      "156/156 [==============================] - 12s 76ms/step - loss: 7.9233 - accuracy: 0.8147 - val_loss: 7.8533 - val_accuracy: 0.8426 - lr: 0.0010\n",
      "Epoch 19/125\n",
      "156/156 [==============================] - ETA: 0s - loss: 7.8311 - accuracy: 0.8329\n",
      "Epoch 19: val_accuracy improved from 0.85019 to 0.85592, saving model to model-02\n"
     ]
    },
    {
     "name": "stderr",
     "output_type": "stream",
     "text": [
      "WARNING:absl:Found untraced functions such as _jit_compiled_convolution_op, _jit_compiled_convolution_op, _jit_compiled_convolution_op, _jit_compiled_convolution_op, _jit_compiled_convolution_op while saving (showing 5 of 16). These functions will not be directly callable after loading.\n"
     ]
    },
    {
     "name": "stdout",
     "output_type": "stream",
     "text": [
      "INFO:tensorflow:Assets written to: model-02/assets\n"
     ]
    },
    {
     "name": "stderr",
     "output_type": "stream",
     "text": [
      "INFO:tensorflow:Assets written to: model-02/assets\n"
     ]
    },
    {
     "name": "stdout",
     "output_type": "stream",
     "text": [
      "156/156 [==============================] - 17s 109ms/step - loss: 7.8311 - accuracy: 0.8329 - val_loss: 7.7821 - val_accuracy: 0.8559 - lr: 0.0010\n",
      "Epoch 20/125\n",
      "156/156 [==============================] - ETA: 0s - loss: 7.7864 - accuracy: 0.8329\n",
      "Epoch 20: val_accuracy did not improve from 0.85592\n",
      "156/156 [==============================] - 12s 77ms/step - loss: 7.7864 - accuracy: 0.8329 - val_loss: 7.7331 - val_accuracy: 0.8397 - lr: 0.0010\n",
      "Epoch 21/125\n",
      "156/156 [==============================] - ETA: 0s - loss: 7.7171 - accuracy: 0.8417\n",
      "Epoch 21: val_accuracy improved from 0.85592 to 0.86641, saving model to model-02\n"
     ]
    },
    {
     "name": "stderr",
     "output_type": "stream",
     "text": [
      "WARNING:absl:Found untraced functions such as _jit_compiled_convolution_op, _jit_compiled_convolution_op, _jit_compiled_convolution_op, _jit_compiled_convolution_op, _jit_compiled_convolution_op while saving (showing 5 of 16). These functions will not be directly callable after loading.\n"
     ]
    },
    {
     "name": "stdout",
     "output_type": "stream",
     "text": [
      "INFO:tensorflow:Assets written to: model-02/assets\n"
     ]
    },
    {
     "name": "stderr",
     "output_type": "stream",
     "text": [
      "INFO:tensorflow:Assets written to: model-02/assets\n"
     ]
    },
    {
     "name": "stdout",
     "output_type": "stream",
     "text": [
      "156/156 [==============================] - 17s 111ms/step - loss: 7.7171 - accuracy: 0.8417 - val_loss: 7.6290 - val_accuracy: 0.8664 - lr: 0.0010\n",
      "Epoch 22/125\n",
      "156/156 [==============================] - ETA: 0s - loss: 7.6373 - accuracy: 0.8474\n",
      "Epoch 22: val_accuracy did not improve from 0.86641\n",
      "156/156 [==============================] - 12s 76ms/step - loss: 7.6373 - accuracy: 0.8474 - val_loss: 7.6098 - val_accuracy: 0.8531 - lr: 0.0010\n",
      "Epoch 23/125\n",
      "156/156 [==============================] - ETA: 0s - loss: 7.5654 - accuracy: 0.8625\n",
      "Epoch 23: val_accuracy did not improve from 0.86641\n",
      "156/156 [==============================] - 13s 81ms/step - loss: 7.5654 - accuracy: 0.8625 - val_loss: 7.6070 - val_accuracy: 0.8359 - lr: 0.0010\n",
      "Epoch 24/125\n",
      "156/156 [==============================] - ETA: 0s - loss: 7.5154 - accuracy: 0.8651\n",
      "Epoch 24: val_accuracy did not improve from 0.86641\n",
      "156/156 [==============================] - 12s 77ms/step - loss: 7.5154 - accuracy: 0.8651 - val_loss: 7.5459 - val_accuracy: 0.8368 - lr: 0.0010\n",
      "Epoch 25/125\n",
      "156/156 [==============================] - ETA: 0s - loss: 7.4261 - accuracy: 0.8768\n",
      "Epoch 25: val_accuracy did not improve from 0.86641\n",
      "156/156 [==============================] - 12s 80ms/step - loss: 7.4261 - accuracy: 0.8768 - val_loss: 7.4116 - val_accuracy: 0.8635 - lr: 0.0010\n",
      "Epoch 26/125\n",
      "156/156 [==============================] - ETA: 0s - loss: 7.3963 - accuracy: 0.8711\n",
      "Epoch 26: val_accuracy did not improve from 0.86641\n",
      "156/156 [==============================] - 12s 77ms/step - loss: 7.3963 - accuracy: 0.8711 - val_loss: 7.4247 - val_accuracy: 0.8607 - lr: 0.0010\n",
      "Epoch 27/125\n",
      "156/156 [==============================] - ETA: 0s - loss: 7.3246 - accuracy: 0.8794\n",
      "Epoch 27: val_accuracy improved from 0.86641 to 0.90267, saving model to model-02\n"
     ]
    },
    {
     "name": "stderr",
     "output_type": "stream",
     "text": [
      "WARNING:absl:Found untraced functions such as _jit_compiled_convolution_op, _jit_compiled_convolution_op, _jit_compiled_convolution_op, _jit_compiled_convolution_op, _jit_compiled_convolution_op while saving (showing 5 of 16). These functions will not be directly callable after loading.\n"
     ]
    },
    {
     "name": "stdout",
     "output_type": "stream",
     "text": [
      "INFO:tensorflow:Assets written to: model-02/assets\n"
     ]
    },
    {
     "name": "stderr",
     "output_type": "stream",
     "text": [
      "INFO:tensorflow:Assets written to: model-02/assets\n"
     ]
    },
    {
     "name": "stdout",
     "output_type": "stream",
     "text": [
      "156/156 [==============================] - 17s 107ms/step - loss: 7.3246 - accuracy: 0.8794 - val_loss: 7.2819 - val_accuracy: 0.9027 - lr: 0.0010\n",
      "Epoch 28/125\n",
      "155/156 [============================>.] - ETA: 0s - loss: 7.2859 - accuracy: 0.8821\n",
      "Epoch 28: val_accuracy did not improve from 0.90267\n",
      "156/156 [==============================] - 12s 76ms/step - loss: 7.2857 - accuracy: 0.8822 - val_loss: 7.3817 - val_accuracy: 0.8406 - lr: 0.0010\n",
      "Epoch 29/125\n",
      "156/156 [==============================] - ETA: 0s - loss: 7.2354 - accuracy: 0.8832\n",
      "Epoch 29: val_accuracy did not improve from 0.90267\n",
      "156/156 [==============================] - 12s 78ms/step - loss: 7.2354 - accuracy: 0.8832 - val_loss: 7.2182 - val_accuracy: 0.8788 - lr: 0.0010\n",
      "Epoch 30/125\n",
      "156/156 [==============================] - ETA: 0s - loss: 7.1684 - accuracy: 0.8882\n",
      "Epoch 30: val_accuracy did not improve from 0.90267\n",
      "156/156 [==============================] - 12s 77ms/step - loss: 7.1684 - accuracy: 0.8882 - val_loss: 7.1514 - val_accuracy: 0.8903 - lr: 0.0010\n",
      "Epoch 31/125\n",
      "156/156 [==============================] - ETA: 0s - loss: 7.1433 - accuracy: 0.8844\n",
      "Epoch 31: val_accuracy did not improve from 0.90267\n",
      "156/156 [==============================] - 12s 77ms/step - loss: 7.1433 - accuracy: 0.8844 - val_loss: 7.0928 - val_accuracy: 0.9027 - lr: 0.0010\n",
      "Epoch 32/125\n",
      "156/156 [==============================] - ETA: 0s - loss: 7.0544 - accuracy: 0.8995\n",
      "Epoch 32: val_accuracy did not improve from 0.90267\n",
      "156/156 [==============================] - 12s 80ms/step - loss: 7.0544 - accuracy: 0.8995 - val_loss: 7.0768 - val_accuracy: 0.8874 - lr: 0.0010\n",
      "Epoch 33/125\n",
      "156/156 [==============================] - ETA: 0s - loss: 7.0300 - accuracy: 0.8945\n",
      "Epoch 33: val_accuracy did not improve from 0.90267\n",
      "156/156 [==============================] - 12s 76ms/step - loss: 7.0300 - accuracy: 0.8945 - val_loss: 6.9930 - val_accuracy: 0.9008 - lr: 0.0010\n",
      "Epoch 34/125\n",
      "156/156 [==============================] - ETA: 0s - loss: 6.9642 - accuracy: 0.8997\n",
      "Epoch 34: val_accuracy did not improve from 0.90267\n",
      "156/156 [==============================] - 12s 78ms/step - loss: 6.9642 - accuracy: 0.8997 - val_loss: 6.9773 - val_accuracy: 0.8922 - lr: 0.0010\n",
      "Epoch 35/125\n",
      "156/156 [==============================] - ETA: 0s - loss: 6.9076 - accuracy: 0.9027\n",
      "Epoch 35: val_accuracy did not improve from 0.90267\n",
      "156/156 [==============================] - 12s 78ms/step - loss: 6.9076 - accuracy: 0.9027 - val_loss: 6.8983 - val_accuracy: 0.8941 - lr: 0.0010\n",
      "Epoch 36/125\n",
      "156/156 [==============================] - ETA: 0s - loss: 6.9181 - accuracy: 0.9021\n",
      "Epoch 36: val_accuracy did not improve from 0.90267\n",
      "156/156 [==============================] - 12s 76ms/step - loss: 6.9181 - accuracy: 0.9021 - val_loss: 6.9477 - val_accuracy: 0.8769 - lr: 0.0010\n",
      "Epoch 37/125\n",
      "156/156 [==============================] - ETA: 0s - loss: 6.8476 - accuracy: 0.8989\n",
      "Epoch 37: val_accuracy improved from 0.90267 to 0.91126, saving model to model-02\n"
     ]
    },
    {
     "name": "stderr",
     "output_type": "stream",
     "text": [
      "WARNING:absl:Found untraced functions such as _jit_compiled_convolution_op, _jit_compiled_convolution_op, _jit_compiled_convolution_op, _jit_compiled_convolution_op, _jit_compiled_convolution_op while saving (showing 5 of 16). These functions will not be directly callable after loading.\n"
     ]
    },
    {
     "name": "stdout",
     "output_type": "stream",
     "text": [
      "INFO:tensorflow:Assets written to: model-02/assets\n"
     ]
    },
    {
     "name": "stderr",
     "output_type": "stream",
     "text": [
      "INFO:tensorflow:Assets written to: model-02/assets\n"
     ]
    },
    {
     "name": "stdout",
     "output_type": "stream",
     "text": [
      "156/156 [==============================] - 17s 110ms/step - loss: 6.8476 - accuracy: 0.8989 - val_loss: 6.8144 - val_accuracy: 0.9113 - lr: 0.0010\n",
      "Epoch 38/125\n",
      "156/156 [==============================] - ETA: 0s - loss: 6.7884 - accuracy: 0.9066\n",
      "Epoch 38: val_accuracy did not improve from 0.91126\n",
      "156/156 [==============================] - 12s 76ms/step - loss: 6.7884 - accuracy: 0.9066 - val_loss: 6.8332 - val_accuracy: 0.8817 - lr: 0.0010\n",
      "Epoch 39/125\n",
      "156/156 [==============================] - ETA: 0s - loss: 6.7167 - accuracy: 0.9150\n",
      "Epoch 39: val_accuracy did not improve from 0.91126\n",
      "156/156 [==============================] - 12s 77ms/step - loss: 6.7167 - accuracy: 0.9150 - val_loss: 6.7259 - val_accuracy: 0.9036 - lr: 0.0010\n",
      "Epoch 40/125\n",
      "156/156 [==============================] - ETA: 0s - loss: 6.6807 - accuracy: 0.9156\n",
      "Epoch 40: val_accuracy did not improve from 0.91126\n",
      "156/156 [==============================] - 12s 76ms/step - loss: 6.6807 - accuracy: 0.9156 - val_loss: 6.7148 - val_accuracy: 0.9008 - lr: 0.0010\n",
      "Epoch 41/125\n",
      "156/156 [==============================] - ETA: 0s - loss: 6.6381 - accuracy: 0.9152\n",
      "Epoch 41: val_accuracy did not improve from 0.91126\n",
      "156/156 [==============================] - 12s 76ms/step - loss: 6.6381 - accuracy: 0.9152 - val_loss: 6.6807 - val_accuracy: 0.8884 - lr: 0.0010\n",
      "Epoch 42/125\n",
      "156/156 [==============================] - ETA: 0s - loss: 6.5876 - accuracy: 0.9180\n",
      "Epoch 42: val_accuracy improved from 0.91126 to 0.91317, saving model to model-02\n"
     ]
    },
    {
     "name": "stderr",
     "output_type": "stream",
     "text": [
      "WARNING:absl:Found untraced functions such as _jit_compiled_convolution_op, _jit_compiled_convolution_op, _jit_compiled_convolution_op, _jit_compiled_convolution_op, _jit_compiled_convolution_op while saving (showing 5 of 16). These functions will not be directly callable after loading.\n"
     ]
    },
    {
     "name": "stdout",
     "output_type": "stream",
     "text": [
      "INFO:tensorflow:Assets written to: model-02/assets\n"
     ]
    },
    {
     "name": "stderr",
     "output_type": "stream",
     "text": [
      "INFO:tensorflow:Assets written to: model-02/assets\n"
     ]
    },
    {
     "name": "stdout",
     "output_type": "stream",
     "text": [
      "156/156 [==============================] - 17s 107ms/step - loss: 6.5876 - accuracy: 0.9180 - val_loss: 6.6137 - val_accuracy: 0.9132 - lr: 0.0010\n",
      "Epoch 43/125\n",
      "156/156 [==============================] - ETA: 0s - loss: 6.5546 - accuracy: 0.9156\n",
      "Epoch 43: val_accuracy improved from 0.91317 to 0.91508, saving model to model-02\n"
     ]
    },
    {
     "name": "stderr",
     "output_type": "stream",
     "text": [
      "WARNING:absl:Found untraced functions such as _jit_compiled_convolution_op, _jit_compiled_convolution_op, _jit_compiled_convolution_op, _jit_compiled_convolution_op, _jit_compiled_convolution_op while saving (showing 5 of 16). These functions will not be directly callable after loading.\n"
     ]
    },
    {
     "name": "stdout",
     "output_type": "stream",
     "text": [
      "INFO:tensorflow:Assets written to: model-02/assets\n"
     ]
    },
    {
     "name": "stderr",
     "output_type": "stream",
     "text": [
      "INFO:tensorflow:Assets written to: model-02/assets\n"
     ]
    },
    {
     "name": "stdout",
     "output_type": "stream",
     "text": [
      "156/156 [==============================] - 17s 111ms/step - loss: 6.5546 - accuracy: 0.9156 - val_loss: 6.5462 - val_accuracy: 0.9151 - lr: 0.0010\n",
      "Epoch 44/125\n",
      "156/156 [==============================] - ETA: 0s - loss: 6.4899 - accuracy: 0.9279\n",
      "Epoch 44: val_accuracy did not improve from 0.91508\n",
      "156/156 [==============================] - 12s 76ms/step - loss: 6.4899 - accuracy: 0.9279 - val_loss: 6.5314 - val_accuracy: 0.9065 - lr: 0.0010\n",
      "Epoch 45/125\n",
      "156/156 [==============================] - ETA: 0s - loss: 6.4510 - accuracy: 0.9265\n",
      "Epoch 45: val_accuracy improved from 0.91508 to 0.91698, saving model to model-02\n"
     ]
    },
    {
     "name": "stderr",
     "output_type": "stream",
     "text": [
      "WARNING:absl:Found untraced functions such as _jit_compiled_convolution_op, _jit_compiled_convolution_op, _jit_compiled_convolution_op, _jit_compiled_convolution_op, _jit_compiled_convolution_op while saving (showing 5 of 16). These functions will not be directly callable after loading.\n"
     ]
    },
    {
     "name": "stdout",
     "output_type": "stream",
     "text": [
      "INFO:tensorflow:Assets written to: model-02/assets\n"
     ]
    },
    {
     "name": "stderr",
     "output_type": "stream",
     "text": [
      "INFO:tensorflow:Assets written to: model-02/assets\n"
     ]
    },
    {
     "name": "stdout",
     "output_type": "stream",
     "text": [
      "156/156 [==============================] - 17s 106ms/step - loss: 6.4510 - accuracy: 0.9265 - val_loss: 6.4725 - val_accuracy: 0.9170 - lr: 0.0010\n",
      "Epoch 46/125\n",
      "156/156 [==============================] - ETA: 0s - loss: 6.4158 - accuracy: 0.9247\n",
      "Epoch 46: val_accuracy did not improve from 0.91698\n",
      "156/156 [==============================] - 12s 75ms/step - loss: 6.4158 - accuracy: 0.9247 - val_loss: 6.4223 - val_accuracy: 0.9160 - lr: 0.0010\n",
      "Epoch 47/125\n",
      "156/156 [==============================] - ETA: 0s - loss: 6.3790 - accuracy: 0.9249\n",
      "Epoch 47: val_accuracy improved from 0.91698 to 0.92653, saving model to model-02\n"
     ]
    },
    {
     "name": "stderr",
     "output_type": "stream",
     "text": [
      "WARNING:absl:Found untraced functions such as _jit_compiled_convolution_op, _jit_compiled_convolution_op, _jit_compiled_convolution_op, _jit_compiled_convolution_op, _jit_compiled_convolution_op while saving (showing 5 of 16). These functions will not be directly callable after loading.\n"
     ]
    },
    {
     "name": "stdout",
     "output_type": "stream",
     "text": [
      "INFO:tensorflow:Assets written to: model-02/assets\n"
     ]
    },
    {
     "name": "stderr",
     "output_type": "stream",
     "text": [
      "INFO:tensorflow:Assets written to: model-02/assets\n"
     ]
    },
    {
     "name": "stdout",
     "output_type": "stream",
     "text": [
      "156/156 [==============================] - 17s 109ms/step - loss: 6.3790 - accuracy: 0.9249 - val_loss: 6.3678 - val_accuracy: 0.9265 - lr: 0.0010\n",
      "Epoch 48/125\n",
      "156/156 [==============================] - ETA: 0s - loss: 6.3265 - accuracy: 0.9283\n",
      "Epoch 48: val_accuracy did not improve from 0.92653\n",
      "156/156 [==============================] - 12s 76ms/step - loss: 6.3265 - accuracy: 0.9283 - val_loss: 6.4030 - val_accuracy: 0.9027 - lr: 0.0010\n",
      "Epoch 49/125\n",
      "156/156 [==============================] - ETA: 0s - loss: 6.3031 - accuracy: 0.9249\n",
      "Epoch 49: val_accuracy improved from 0.92653 to 0.93034, saving model to model-02\n"
     ]
    },
    {
     "name": "stderr",
     "output_type": "stream",
     "text": [
      "WARNING:absl:Found untraced functions such as _jit_compiled_convolution_op, _jit_compiled_convolution_op, _jit_compiled_convolution_op, _jit_compiled_convolution_op, _jit_compiled_convolution_op while saving (showing 5 of 16). These functions will not be directly callable after loading.\n"
     ]
    },
    {
     "name": "stdout",
     "output_type": "stream",
     "text": [
      "INFO:tensorflow:Assets written to: model-02/assets\n"
     ]
    },
    {
     "name": "stderr",
     "output_type": "stream",
     "text": [
      "INFO:tensorflow:Assets written to: model-02/assets\n"
     ]
    },
    {
     "name": "stdout",
     "output_type": "stream",
     "text": [
      "156/156 [==============================] - 17s 110ms/step - loss: 6.3031 - accuracy: 0.9249 - val_loss: 6.2760 - val_accuracy: 0.9303 - lr: 0.0010\n",
      "Epoch 50/125\n",
      "156/156 [==============================] - ETA: 0s - loss: 6.2306 - accuracy: 0.9350\n",
      "Epoch 50: val_accuracy did not improve from 0.93034\n",
      "156/156 [==============================] - 12s 75ms/step - loss: 6.2306 - accuracy: 0.9350 - val_loss: 6.2662 - val_accuracy: 0.9189 - lr: 0.0010\n",
      "Epoch 51/125\n",
      "156/156 [==============================] - ETA: 0s - loss: 6.2048 - accuracy: 0.9283\n",
      "Epoch 51: val_accuracy improved from 0.93034 to 0.93798, saving model to model-02\n"
     ]
    },
    {
     "name": "stderr",
     "output_type": "stream",
     "text": [
      "WARNING:absl:Found untraced functions such as _jit_compiled_convolution_op, _jit_compiled_convolution_op, _jit_compiled_convolution_op, _jit_compiled_convolution_op, _jit_compiled_convolution_op while saving (showing 5 of 16). These functions will not be directly callable after loading.\n"
     ]
    },
    {
     "name": "stdout",
     "output_type": "stream",
     "text": [
      "INFO:tensorflow:Assets written to: model-02/assets\n"
     ]
    },
    {
     "name": "stderr",
     "output_type": "stream",
     "text": [
      "INFO:tensorflow:Assets written to: model-02/assets\n"
     ]
    },
    {
     "name": "stdout",
     "output_type": "stream",
     "text": [
      "156/156 [==============================] - 16s 105ms/step - loss: 6.2048 - accuracy: 0.9283 - val_loss: 6.1908 - val_accuracy: 0.9380 - lr: 0.0010\n",
      "Epoch 52/125\n",
      "156/156 [==============================] - ETA: 0s - loss: 6.1626 - accuracy: 0.9346\n",
      "Epoch 52: val_accuracy did not improve from 0.93798\n",
      "156/156 [==============================] - 12s 75ms/step - loss: 6.1626 - accuracy: 0.9346 - val_loss: 6.1919 - val_accuracy: 0.9122 - lr: 0.0010\n",
      "Epoch 53/125\n",
      "156/156 [==============================] - ETA: 0s - loss: 6.1235 - accuracy: 0.9354\n",
      "Epoch 53: val_accuracy improved from 0.93798 to 0.94179, saving model to model-02\n"
     ]
    },
    {
     "name": "stderr",
     "output_type": "stream",
     "text": [
      "WARNING:absl:Found untraced functions such as _jit_compiled_convolution_op, _jit_compiled_convolution_op, _jit_compiled_convolution_op, _jit_compiled_convolution_op, _jit_compiled_convolution_op while saving (showing 5 of 16). These functions will not be directly callable after loading.\n"
     ]
    },
    {
     "name": "stdout",
     "output_type": "stream",
     "text": [
      "INFO:tensorflow:Assets written to: model-02/assets\n"
     ]
    },
    {
     "name": "stderr",
     "output_type": "stream",
     "text": [
      "INFO:tensorflow:Assets written to: model-02/assets\n"
     ]
    },
    {
     "name": "stdout",
     "output_type": "stream",
     "text": [
      "156/156 [==============================] - 17s 107ms/step - loss: 6.1235 - accuracy: 0.9354 - val_loss: 6.0980 - val_accuracy: 0.9418 - lr: 0.0010\n",
      "Epoch 54/125\n",
      "156/156 [==============================] - ETA: 0s - loss: 6.0763 - accuracy: 0.9380\n",
      "Epoch 54: val_accuracy did not improve from 0.94179\n",
      "156/156 [==============================] - 12s 77ms/step - loss: 6.0763 - accuracy: 0.9380 - val_loss: 6.0715 - val_accuracy: 0.9370 - lr: 0.0010\n",
      "Epoch 55/125\n",
      "156/156 [==============================] - ETA: 0s - loss: 6.0453 - accuracy: 0.9366\n",
      "Epoch 55: val_accuracy did not improve from 0.94179\n",
      "156/156 [==============================] - 12s 76ms/step - loss: 6.0453 - accuracy: 0.9366 - val_loss: 6.0428 - val_accuracy: 0.9351 - lr: 0.0010\n",
      "Epoch 56/125\n",
      "156/156 [==============================] - ETA: 0s - loss: 5.9903 - accuracy: 0.9400\n",
      "Epoch 56: val_accuracy did not improve from 0.94179\n",
      "156/156 [==============================] - 12s 77ms/step - loss: 5.9903 - accuracy: 0.9400 - val_loss: 6.0612 - val_accuracy: 0.9151 - lr: 0.0010\n",
      "Epoch 57/125\n",
      "156/156 [==============================] - ETA: 0s - loss: 5.8071 - accuracy: 0.9442\n",
      "Epoch 61: val_accuracy did not improve from 0.94179\n",
      "156/156 [==============================] - 12s 77ms/step - loss: 5.8071 - accuracy: 0.9442 - val_loss: 5.8184 - val_accuracy: 0.9303 - lr: 0.0010\n",
      "Epoch 62/125\n",
      "156/156 [==============================] - ETA: 0s - loss: 5.7724 - accuracy: 0.9432\n",
      "Epoch 62: val_accuracy did not improve from 0.94179\n",
      "156/156 [==============================] - 12s 76ms/step - loss: 5.7724 - accuracy: 0.9432 - val_loss: 5.8257 - val_accuracy: 0.9275 - lr: 0.0010\n",
      "Epoch 63/125\n",
      "156/156 [==============================] - ETA: 0s - loss: 5.7260 - accuracy: 0.9474\n",
      "Epoch 63: val_accuracy did not improve from 0.94179\n",
      "156/156 [==============================] - 12s 75ms/step - loss: 5.7260 - accuracy: 0.9474 - val_loss: 5.7599 - val_accuracy: 0.9389 - lr: 0.0010\n",
      "Epoch 64/125\n",
      "156/156 [==============================] - ETA: 0s - loss: 5.7008 - accuracy: 0.9430\n",
      "Epoch 64: val_accuracy did not improve from 0.94179\n",
      "156/156 [==============================] - 12s 76ms/step - loss: 5.7008 - accuracy: 0.9430 - val_loss: 5.7118 - val_accuracy: 0.9389 - lr: 0.0010\n",
      "Epoch 65/125\n",
      "156/156 [==============================] - ETA: 0s - loss: 5.6680 - accuracy: 0.9438\n",
      "Epoch 65: val_accuracy did not improve from 0.94179\n",
      "156/156 [==============================] - 12s 76ms/step - loss: 5.6680 - accuracy: 0.9438 - val_loss: 5.7085 - val_accuracy: 0.9256 - lr: 0.0010\n",
      "Epoch 66/125\n",
      "156/156 [==============================] - ETA: 0s - loss: 5.6209 - accuracy: 0.9468\n",
      "Epoch 66: val_accuracy did not improve from 0.94179\n",
      "156/156 [==============================] - 12s 76ms/step - loss: 5.6209 - accuracy: 0.9468 - val_loss: 5.6762 - val_accuracy: 0.9284 - lr: 0.0010\n",
      "Epoch 67/125\n",
      "156/156 [==============================] - ETA: 0s - loss: 5.5907 - accuracy: 0.9497\n",
      "Epoch 67: val_accuracy did not improve from 0.94179\n",
      "156/156 [==============================] - 12s 75ms/step - loss: 5.5907 - accuracy: 0.9497 - val_loss: 5.6336 - val_accuracy: 0.9380 - lr: 0.0010\n",
      "Epoch 68/125\n",
      "156/156 [==============================] - ETA: 0s - loss: 5.5548 - accuracy: 0.9487\n",
      "Epoch 68: val_accuracy improved from 0.94179 to 0.94943, saving model to model-02\n"
     ]
    },
    {
     "name": "stderr",
     "output_type": "stream",
     "text": [
      "WARNING:absl:Found untraced functions such as _jit_compiled_convolution_op, _jit_compiled_convolution_op, _jit_compiled_convolution_op, _jit_compiled_convolution_op, _jit_compiled_convolution_op while saving (showing 5 of 16). These functions will not be directly callable after loading.\n"
     ]
    },
    {
     "name": "stdout",
     "output_type": "stream",
     "text": [
      "INFO:tensorflow:Assets written to: model-02/assets\n"
     ]
    },
    {
     "name": "stderr",
     "output_type": "stream",
     "text": [
      "INFO:tensorflow:Assets written to: model-02/assets\n"
     ]
    },
    {
     "name": "stdout",
     "output_type": "stream",
     "text": [
      "156/156 [==============================] - 17s 107ms/step - loss: 5.5548 - accuracy: 0.9487 - val_loss: 5.5634 - val_accuracy: 0.9494 - lr: 0.0010\n",
      "Epoch 69/125\n",
      "156/156 [==============================] - ETA: 0s - loss: 5.5207 - accuracy: 0.9460\n",
      "Epoch 69: val_accuracy did not improve from 0.94943\n",
      "156/156 [==============================] - 12s 75ms/step - loss: 5.5207 - accuracy: 0.9460 - val_loss: 5.5900 - val_accuracy: 0.9218 - lr: 0.0010\n",
      "Epoch 70/125\n",
      "156/156 [==============================] - ETA: 0s - loss: 5.4803 - accuracy: 0.9503\n",
      "Epoch 70: val_accuracy did not improve from 0.94943\n",
      "156/156 [==============================] - 12s 75ms/step - loss: 5.4803 - accuracy: 0.9503 - val_loss: 5.4958 - val_accuracy: 0.9437 - lr: 0.0010\n",
      "Epoch 71/125\n",
      "156/156 [==============================] - ETA: 0s - loss: 5.4534 - accuracy: 0.9472\n",
      "Epoch 71: val_accuracy did not improve from 0.94943\n",
      "156/156 [==============================] - 12s 76ms/step - loss: 5.4534 - accuracy: 0.9472 - val_loss: 5.5353 - val_accuracy: 0.9198 - lr: 0.0010\n",
      "Epoch 72/125\n",
      "156/156 [==============================] - ETA: 0s - loss: 5.4225 - accuracy: 0.9414\n",
      "Epoch 72: val_accuracy did not improve from 0.94943\n",
      "156/156 [==============================] - 12s 75ms/step - loss: 5.4225 - accuracy: 0.9414 - val_loss: 5.4148 - val_accuracy: 0.9466 - lr: 0.0010\n",
      "Epoch 73/125\n",
      "156/156 [==============================] - ETA: 0s - loss: 5.3878 - accuracy: 0.9468\n",
      "Epoch 73: val_accuracy did not improve from 0.94943\n",
      "156/156 [==============================] - 12s 76ms/step - loss: 5.3878 - accuracy: 0.9468 - val_loss: 5.4071 - val_accuracy: 0.9437 - lr: 0.0010\n",
      "Epoch 74/125\n",
      "156/156 [==============================] - ETA: 0s - loss: 5.3691 - accuracy: 0.9476\n",
      "Epoch 74: val_accuracy improved from 0.94943 to 0.95420, saving model to model-02\n"
     ]
    },
    {
     "name": "stderr",
     "output_type": "stream",
     "text": [
      "WARNING:absl:Found untraced functions such as _jit_compiled_convolution_op, _jit_compiled_convolution_op, _jit_compiled_convolution_op, _jit_compiled_convolution_op, _jit_compiled_convolution_op while saving (showing 5 of 16). These functions will not be directly callable after loading.\n"
     ]
    },
    {
     "name": "stdout",
     "output_type": "stream",
     "text": [
      "INFO:tensorflow:Assets written to: model-02/assets\n"
     ]
    },
    {
     "name": "stderr",
     "output_type": "stream",
     "text": [
      "INFO:tensorflow:Assets written to: model-02/assets\n"
     ]
    },
    {
     "name": "stdout",
     "output_type": "stream",
     "text": [
      "156/156 [==============================] - 17s 107ms/step - loss: 5.3691 - accuracy: 0.9476 - val_loss: 5.3545 - val_accuracy: 0.9542 - lr: 0.0010\n",
      "Epoch 75/125\n",
      "156/156 [==============================] - ETA: 0s - loss: 5.3149 - accuracy: 0.9529\n",
      "Epoch 75: val_accuracy did not improve from 0.95420\n",
      "156/156 [==============================] - 12s 76ms/step - loss: 5.3149 - accuracy: 0.9529 - val_loss: 5.3274 - val_accuracy: 0.9485 - lr: 0.0010\n",
      "Epoch 76/125\n",
      "156/156 [==============================] - ETA: 0s - loss: 5.2701 - accuracy: 0.9535\n",
      "Epoch 76: val_accuracy did not improve from 0.95420\n",
      "156/156 [==============================] - 12s 75ms/step - loss: 5.2701 - accuracy: 0.9535 - val_loss: 5.3010 - val_accuracy: 0.9475 - lr: 0.0010\n",
      "Epoch 77/125\n",
      "156/156 [==============================] - ETA: 0s - loss: 5.2318 - accuracy: 0.9541\n",
      "Epoch 77: val_accuracy did not improve from 0.95420\n",
      "156/156 [==============================] - 12s 76ms/step - loss: 5.2318 - accuracy: 0.9541 - val_loss: 5.3049 - val_accuracy: 0.9408 - lr: 0.0010\n",
      "Epoch 78/125\n",
      "156/156 [==============================] - ETA: 0s - loss: 5.2031 - accuracy: 0.9571\n",
      "Epoch 78: val_accuracy did not improve from 0.95420\n",
      "156/156 [==============================] - 12s 75ms/step - loss: 5.2031 - accuracy: 0.9571 - val_loss: 5.2241 - val_accuracy: 0.9532 - lr: 0.0010\n",
      "Epoch 79/125\n",
      "156/156 [==============================] - ETA: 0s - loss: 5.1870 - accuracy: 0.9517\n",
      "Epoch 79: val_accuracy did not improve from 0.95420\n",
      "156/156 [==============================] - 12s 76ms/step - loss: 5.1870 - accuracy: 0.9517 - val_loss: 5.1978 - val_accuracy: 0.9456 - lr: 0.0010\n",
      "Epoch 80/125\n",
      "156/156 [==============================] - ETA: 0s - loss: 5.1365 - accuracy: 0.9571\n",
      "Epoch 80: val_accuracy did not improve from 0.95420\n",
      "156/156 [==============================] - 12s 77ms/step - loss: 5.1365 - accuracy: 0.9571 - val_loss: 5.1999 - val_accuracy: 0.9447 - lr: 0.0010\n",
      "Epoch 81/125\n",
      "156/156 [==============================] - ETA: 0s - loss: 5.1121 - accuracy: 0.9557\n",
      "Epoch 81: val_accuracy did not improve from 0.95420\n",
      "156/156 [==============================] - 12s 75ms/step - loss: 5.1121 - accuracy: 0.9557 - val_loss: 5.1517 - val_accuracy: 0.9504 - lr: 0.0010\n",
      "Epoch 82/125\n",
      "156/156 [==============================] - ETA: 0s - loss: 5.0815 - accuracy: 0.9561\n",
      "Epoch 82: val_accuracy did not improve from 0.95420\n",
      "156/156 [==============================] - 12s 77ms/step - loss: 5.0815 - accuracy: 0.9561 - val_loss: 5.1148 - val_accuracy: 0.9466 - lr: 0.0010\n",
      "Epoch 83/125\n",
      "156/156 [==============================] - ETA: 0s - loss: 5.0628 - accuracy: 0.9525\n",
      "Epoch 83: val_accuracy did not improve from 0.95420\n",
      "156/156 [==============================] - 12s 75ms/step - loss: 5.0628 - accuracy: 0.9525 - val_loss: 5.0995 - val_accuracy: 0.9447 - lr: 0.0010\n",
      "Epoch 84/125\n",
      "156/156 [==============================] - ETA: 0s - loss: 5.0124 - accuracy: 0.9605\n",
      "Epoch 84: val_accuracy did not improve from 0.95420\n",
      "156/156 [==============================] - 12s 76ms/step - loss: 5.0124 - accuracy: 0.9605 - val_loss: 5.0298 - val_accuracy: 0.9466 - lr: 0.0010\n",
      "Epoch 85/125\n",
      "156/156 [==============================] - ETA: 0s - loss: 4.9729 - accuracy: 0.9627\n",
      "Epoch 85: val_accuracy did not improve from 0.95420\n",
      "156/156 [==============================] - 12s 76ms/step - loss: 4.9729 - accuracy: 0.9627 - val_loss: 5.0079 - val_accuracy: 0.9513 - lr: 0.0010\n",
      "Epoch 86/125\n",
      "156/156 [==============================] - ETA: 0s - loss: 4.9474 - accuracy: 0.9611\n",
      "Epoch 86: val_accuracy did not improve from 0.95420\n",
      "156/156 [==============================] - 12s 76ms/step - loss: 4.9474 - accuracy: 0.9611 - val_loss: 4.9861 - val_accuracy: 0.9475 - lr: 0.0010\n",
      "Epoch 87/125\n",
      "156/156 [==============================] - ETA: 0s - loss: 4.9151 - accuracy: 0.9585\n",
      "Epoch 87: val_accuracy did not improve from 0.95420\n",
      "156/156 [==============================] - 12s 76ms/step - loss: 4.9151 - accuracy: 0.9585 - val_loss: 4.9911 - val_accuracy: 0.9389 - lr: 0.0010\n",
      "Epoch 88/125\n",
      "156/156 [==============================] - ETA: 0s - loss: 4.8922 - accuracy: 0.9567\n",
      "Epoch 88: val_accuracy did not improve from 0.95420\n",
      "156/156 [==============================] - 12s 75ms/step - loss: 4.8922 - accuracy: 0.9567 - val_loss: 4.9589 - val_accuracy: 0.9284 - lr: 0.0010\n",
      "Epoch 89/125\n",
      "156/156 [==============================] - ETA: 0s - loss: 4.8695 - accuracy: 0.9563\n",
      "Epoch 89: val_accuracy did not improve from 0.95420\n",
      "156/156 [==============================] - 12s 75ms/step - loss: 4.8695 - accuracy: 0.9563 - val_loss: 4.9069 - val_accuracy: 0.9437 - lr: 0.0010\n",
      "Epoch 90/125\n",
      "156/156 [==============================] - ETA: 0s - loss: 4.8319 - accuracy: 0.9603\n",
      "Epoch 90: val_accuracy did not improve from 0.95420\n",
      "156/156 [==============================] - 12s 77ms/step - loss: 4.8319 - accuracy: 0.9603 - val_loss: 4.8593 - val_accuracy: 0.9513 - lr: 0.0010\n",
      "Epoch 91/125\n",
      "156/156 [==============================] - ETA: 0s - loss: 4.7921 - accuracy: 0.9613\n",
      "Epoch 91: val_accuracy did not improve from 0.95420\n",
      "156/156 [==============================] - 12s 77ms/step - loss: 4.7921 - accuracy: 0.9613 - val_loss: 4.8346 - val_accuracy: 0.9504 - lr: 0.0010\n",
      "Epoch 92/125\n",
      "156/156 [==============================] - ETA: 0s - loss: 4.7713 - accuracy: 0.9563\n",
      "Epoch 92: val_accuracy did not improve from 0.95420\n",
      "156/156 [==============================] - 12s 76ms/step - loss: 4.7713 - accuracy: 0.9563 - val_loss: 4.8670 - val_accuracy: 0.9303 - lr: 0.0010\n",
      "Epoch 93/125\n",
      "156/156 [==============================] - ETA: 0s - loss: 4.7346 - accuracy: 0.9597\n",
      "Epoch 93: val_accuracy did not improve from 0.95420\n",
      "156/156 [==============================] - 12s 74ms/step - loss: 4.7346 - accuracy: 0.9597 - val_loss: 4.7778 - val_accuracy: 0.9532 - lr: 0.0010\n",
      "Epoch 94/125\n",
      "156/156 [==============================] - ETA: 0s - loss: 4.7179 - accuracy: 0.9595\n",
      "Epoch 94: val_accuracy did not improve from 0.95420\n",
      "156/156 [==============================] - 12s 76ms/step - loss: 4.7179 - accuracy: 0.9595 - val_loss: 4.7445 - val_accuracy: 0.9513 - lr: 0.0010\n",
      "Epoch 95/125\n",
      "156/156 [==============================] - ETA: 0s - loss: 4.6926 - accuracy: 0.9587\n",
      "Epoch 95: val_accuracy did not improve from 0.95420\n",
      "156/156 [==============================] - 12s 77ms/step - loss: 4.6926 - accuracy: 0.9587 - val_loss: 4.7431 - val_accuracy: 0.9342 - lr: 0.0010\n",
      "Epoch 96/125\n",
      "156/156 [==============================] - ETA: 0s - loss: 4.6465 - accuracy: 0.9638\n",
      "Epoch 96: val_accuracy did not improve from 0.95420\n",
      "156/156 [==============================] - 12s 77ms/step - loss: 4.6465 - accuracy: 0.9638 - val_loss: 4.6795 - val_accuracy: 0.9542 - lr: 0.0010\n",
      "Epoch 97/125\n",
      "156/156 [==============================] - ETA: 0s - loss: 4.6147 - accuracy: 0.9638\n",
      "Epoch 97: val_accuracy did not improve from 0.95420\n",
      "156/156 [==============================] - 12s 76ms/step - loss: 4.6147 - accuracy: 0.9638 - val_loss: 4.6727 - val_accuracy: 0.9456 - lr: 0.0010\n",
      "Epoch 98/125\n",
      "156/156 [==============================] - ETA: 0s - loss: 4.5818 - accuracy: 0.9660\n",
      "Epoch 98: val_accuracy did not improve from 0.95420\n",
      "156/156 [==============================] - 12s 76ms/step - loss: 4.5818 - accuracy: 0.9660 - val_loss: 4.6423 - val_accuracy: 0.9466 - lr: 0.0010\n",
      "Epoch 99/125\n",
      "156/156 [==============================] - ETA: 0s - loss: 4.5494 - accuracy: 0.9646\n",
      "Epoch 99: val_accuracy did not improve from 0.95420\n",
      "156/156 [==============================] - 12s 75ms/step - loss: 4.5494 - accuracy: 0.9646 - val_loss: 4.6163 - val_accuracy: 0.9513 - lr: 0.0010\n",
      "Epoch 100/125\n",
      "156/156 [==============================] - ETA: 0s - loss: 4.5332 - accuracy: 0.9636\n",
      "Epoch 100: val_accuracy did not improve from 0.95420\n",
      "156/156 [==============================] - 12s 76ms/step - loss: 4.5332 - accuracy: 0.9636 - val_loss: 4.6118 - val_accuracy: 0.9399 - lr: 0.0010\n",
      "Epoch 101/125\n",
      "156/156 [==============================] - ETA: 0s - loss: 4.5007 - accuracy: 0.9640\n",
      "Epoch 101: val_accuracy improved from 0.95420 to 0.95992, saving model to model-02\n"
     ]
    },
    {
     "name": "stderr",
     "output_type": "stream",
     "text": [
      "WARNING:absl:Found untraced functions such as _jit_compiled_convolution_op, _jit_compiled_convolution_op, _jit_compiled_convolution_op, _jit_compiled_convolution_op, _jit_compiled_convolution_op while saving (showing 5 of 16). These functions will not be directly callable after loading.\n"
     ]
    },
    {
     "name": "stdout",
     "output_type": "stream",
     "text": [
      "INFO:tensorflow:Assets written to: model-02/assets\n"
     ]
    },
    {
     "name": "stderr",
     "output_type": "stream",
     "text": [
      "INFO:tensorflow:Assets written to: model-02/assets\n"
     ]
    },
    {
     "name": "stdout",
     "output_type": "stream",
     "text": [
      "156/156 [==============================] - 16s 105ms/step - loss: 4.5007 - accuracy: 0.9640 - val_loss: 4.5237 - val_accuracy: 0.9599 - lr: 0.0010\n",
      "Epoch 102/125\n",
      "156/156 [==============================] - ETA: 0s - loss: 4.4723 - accuracy: 0.9625\n",
      "Epoch 102: val_accuracy did not improve from 0.95992\n",
      "156/156 [==============================] - 12s 77ms/step - loss: 4.4723 - accuracy: 0.9625 - val_loss: 4.4788 - val_accuracy: 0.9571 - lr: 0.0010\n",
      "Epoch 103/125\n",
      "156/156 [==============================] - ETA: 0s - loss: 4.4510 - accuracy: 0.9656\n",
      "Epoch 103: val_accuracy did not improve from 0.95992\n",
      "156/156 [==============================] - 12s 76ms/step - loss: 4.4510 - accuracy: 0.9656 - val_loss: 4.4997 - val_accuracy: 0.9485 - lr: 0.0010\n",
      "Epoch 104/125\n",
      "156/156 [==============================] - ETA: 0s - loss: 4.4152 - accuracy: 0.9670\n",
      "Epoch 104: val_accuracy did not improve from 0.95992\n",
      "156/156 [==============================] - 12s 76ms/step - loss: 4.4152 - accuracy: 0.9670 - val_loss: 4.4743 - val_accuracy: 0.9437 - lr: 0.0010\n",
      "Epoch 105/125\n",
      "156/156 [==============================] - ETA: 0s - loss: 4.3928 - accuracy: 0.9638\n",
      "Epoch 105: val_accuracy did not improve from 0.95992\n",
      "156/156 [==============================] - 12s 76ms/step - loss: 4.3928 - accuracy: 0.9638 - val_loss: 4.4421 - val_accuracy: 0.9485 - lr: 0.0010\n",
      "Epoch 106/125\n",
      "156/156 [==============================] - ETA: 0s - loss: 4.3548 - accuracy: 0.9672\n",
      "Epoch 106: val_accuracy did not improve from 0.95992\n",
      "156/156 [==============================] - 12s 75ms/step - loss: 4.3548 - accuracy: 0.9672 - val_loss: 4.4475 - val_accuracy: 0.9475 - lr: 0.0010\n",
      "Epoch 107/125\n",
      "156/156 [==============================] - ETA: 0s - loss: 4.3352 - accuracy: 0.9656\n",
      "Epoch 107: val_accuracy did not improve from 0.95992\n",
      "156/156 [==============================] - 12s 75ms/step - loss: 4.3352 - accuracy: 0.9656 - val_loss: 4.3921 - val_accuracy: 0.9437 - lr: 0.0010\n",
      "Epoch 108/125\n",
      "156/156 [==============================] - ETA: 0s - loss: 4.3199 - accuracy: 0.9613\n",
      "Epoch 108: val_accuracy did not improve from 0.95992\n",
      "156/156 [==============================] - 12s 74ms/step - loss: 4.3199 - accuracy: 0.9613 - val_loss: 4.3513 - val_accuracy: 0.9561 - lr: 0.0010\n",
      "Epoch 109/125\n",
      "156/156 [==============================] - ETA: 0s - loss: 4.2803 - accuracy: 0.9698\n",
      "Epoch 109: val_accuracy did not improve from 0.95992\n",
      "156/156 [==============================] - 12s 76ms/step - loss: 4.2803 - accuracy: 0.9698 - val_loss: 4.3438 - val_accuracy: 0.9447 - lr: 0.0010\n",
      "Epoch 110/125\n",
      "156/156 [==============================] - ETA: 0s - loss: 4.2493 - accuracy: 0.9688\n",
      "Epoch 110: val_accuracy did not improve from 0.95992\n",
      "156/156 [==============================] - 12s 76ms/step - loss: 4.2493 - accuracy: 0.9688 - val_loss: 4.3220 - val_accuracy: 0.9447 - lr: 0.0010\n",
      "Epoch 111/125\n",
      "156/156 [==============================] - ETA: 0s - loss: 4.2404 - accuracy: 0.9607\n",
      "Epoch 111: val_accuracy did not improve from 0.95992\n",
      "156/156 [==============================] - 12s 76ms/step - loss: 4.2404 - accuracy: 0.9607 - val_loss: 4.2681 - val_accuracy: 0.9561 - lr: 0.0010\n",
      "Epoch 112/125\n",
      "156/156 [==============================] - ETA: 0s - loss: 4.2007 - accuracy: 0.9686\n",
      "Epoch 112: val_accuracy did not improve from 0.95992\n",
      "156/156 [==============================] - 12s 74ms/step - loss: 4.2007 - accuracy: 0.9686 - val_loss: 4.2624 - val_accuracy: 0.9504 - lr: 0.0010\n",
      "Epoch 113/125\n",
      "156/156 [==============================] - ETA: 0s - loss: 4.1750 - accuracy: 0.9678\n",
      "Epoch 113: val_accuracy did not improve from 0.95992\n",
      "156/156 [==============================] - 12s 77ms/step - loss: 4.1750 - accuracy: 0.9678 - val_loss: 4.2038 - val_accuracy: 0.9561 - lr: 0.0010\n",
      "Epoch 114/125\n",
      "156/156 [==============================] - ETA: 0s - loss: 4.1554 - accuracy: 0.9680\n",
      "Epoch 114: val_accuracy did not improve from 0.95992\n",
      "156/156 [==============================] - 12s 74ms/step - loss: 4.1554 - accuracy: 0.9680 - val_loss: 4.2221 - val_accuracy: 0.9447 - lr: 0.0010\n",
      "Epoch 115/125\n",
      "156/156 [==============================] - ETA: 0s - loss: 4.1288 - accuracy: 0.9682\n",
      "Epoch 115: val_accuracy did not improve from 0.95992\n",
      "156/156 [==============================] - 12s 75ms/step - loss: 4.1288 - accuracy: 0.9682 - val_loss: 4.1691 - val_accuracy: 0.9580 - lr: 0.0010\n",
      "Epoch 116/125\n",
      "156/156 [==============================] - ETA: 0s - loss: 4.0951 - accuracy: 0.9708\n",
      "Epoch 116: val_accuracy did not improve from 0.95992\n",
      "156/156 [==============================] - 12s 76ms/step - loss: 4.0951 - accuracy: 0.9708 - val_loss: 4.1747 - val_accuracy: 0.9437 - lr: 0.0010\n",
      "Epoch 117/125\n",
      "156/156 [==============================] - ETA: 0s - loss: 4.0763 - accuracy: 0.9686\n",
      "Epoch 117: val_accuracy did not improve from 0.95992\n",
      "156/156 [==============================] - 12s 77ms/step - loss: 4.0763 - accuracy: 0.9686 - val_loss: 4.1645 - val_accuracy: 0.9447 - lr: 0.0010\n",
      "Epoch 118/125\n",
      "156/156 [==============================] - ETA: 0s - loss: 4.0444 - accuracy: 0.9682\n",
      "Epoch 118: val_accuracy did not improve from 0.95992\n",
      "156/156 [==============================] - 12s 77ms/step - loss: 4.0444 - accuracy: 0.9682 - val_loss: 4.0969 - val_accuracy: 0.9542 - lr: 0.0010\n",
      "Epoch 119/125\n",
      "156/156 [==============================] - ETA: 0s - loss: 4.0219 - accuracy: 0.9674\n",
      "Epoch 119: val_accuracy did not improve from 0.95992\n",
      "156/156 [==============================] - 12s 75ms/step - loss: 4.0219 - accuracy: 0.9674 - val_loss: 4.0883 - val_accuracy: 0.9513 - lr: 0.0010\n",
      "Epoch 120/125\n",
      "156/156 [==============================] - ETA: 0s - loss: 3.9971 - accuracy: 0.9708\n",
      "Epoch 120: val_accuracy improved from 0.95992 to 0.96183, saving model to model-02\n"
     ]
    },
    {
     "name": "stderr",
     "output_type": "stream",
     "text": [
      "WARNING:absl:Found untraced functions such as _jit_compiled_convolution_op, _jit_compiled_convolution_op, _jit_compiled_convolution_op, _jit_compiled_convolution_op, _jit_compiled_convolution_op while saving (showing 5 of 16). These functions will not be directly callable after loading.\n"
     ]
    },
    {
     "name": "stdout",
     "output_type": "stream",
     "text": [
      "INFO:tensorflow:Assets written to: model-02/assets\n"
     ]
    },
    {
     "name": "stderr",
     "output_type": "stream",
     "text": [
      "INFO:tensorflow:Assets written to: model-02/assets\n"
     ]
    },
    {
     "name": "stdout",
     "output_type": "stream",
     "text": [
      "156/156 [==============================] - 17s 109ms/step - loss: 3.9971 - accuracy: 0.9708 - val_loss: 4.0333 - val_accuracy: 0.9618 - lr: 0.0010\n",
      "Epoch 121/125\n",
      "156/156 [==============================] - ETA: 0s - loss: 3.9694 - accuracy: 0.9730\n",
      "Epoch 121: val_accuracy did not improve from 0.96183\n",
      "156/156 [==============================] - 12s 74ms/step - loss: 3.9694 - accuracy: 0.9730 - val_loss: 4.0262 - val_accuracy: 0.9532 - lr: 0.0010\n",
      "Epoch 122/125\n",
      "156/156 [==============================] - ETA: 0s - loss: 3.9652 - accuracy: 0.9650\n",
      "Epoch 122: val_accuracy did not improve from 0.96183\n",
      "156/156 [==============================] - 12s 75ms/step - loss: 3.9652 - accuracy: 0.9650 - val_loss: 4.0022 - val_accuracy: 0.9590 - lr: 0.0010\n",
      "Epoch 123/125\n",
      "156/156 [==============================] - ETA: 0s - loss: 3.9260 - accuracy: 0.9676\n",
      "Epoch 123: val_accuracy did not improve from 0.96183\n",
      "156/156 [==============================] - 12s 76ms/step - loss: 3.9260 - accuracy: 0.9676 - val_loss: 3.9751 - val_accuracy: 0.9580 - lr: 0.0010\n",
      "Epoch 124/125\n",
      "156/156 [==============================] - ETA: 0s - loss: 3.8891 - accuracy: 0.9752\n",
      "Epoch 124: val_accuracy improved from 0.96183 to 0.96374, saving model to model-02\n"
     ]
    },
    {
     "name": "stderr",
     "output_type": "stream",
     "text": [
      "WARNING:absl:Found untraced functions such as _jit_compiled_convolution_op, _jit_compiled_convolution_op, _jit_compiled_convolution_op, _jit_compiled_convolution_op, _jit_compiled_convolution_op while saving (showing 5 of 16). These functions will not be directly callable after loading.\n"
     ]
    },
    {
     "name": "stdout",
     "output_type": "stream",
     "text": [
      "INFO:tensorflow:Assets written to: model-02/assets\n"
     ]
    },
    {
     "name": "stderr",
     "output_type": "stream",
     "text": [
      "INFO:tensorflow:Assets written to: model-02/assets\n"
     ]
    },
    {
     "name": "stdout",
     "output_type": "stream",
     "text": [
      "156/156 [==============================] - 17s 108ms/step - loss: 3.8891 - accuracy: 0.9752 - val_loss: 3.9189 - val_accuracy: 0.9637 - lr: 0.0010\n",
      "Epoch 125/125\n",
      "156/156 [==============================] - ETA: 0s - loss: 3.8781 - accuracy: 0.9700\n",
      "Epoch 125: val_accuracy did not improve from 0.96374\n",
      "156/156 [==============================] - 12s 77ms/step - loss: 3.8781 - accuracy: 0.9700 - val_loss: 3.9213 - val_accuracy: 0.9552 - lr: 0.0010\n"
     ]
    }
   ],
   "source": [
    "## EJECUCION DEL MODELO\n",
    "# with tf.device(\"/CPU:0\"):\n",
    "# with tf.device(\"/GPU:0\"):\n",
    "model.compile(loss=\"categorical_crossentropy\", \n",
    "              optimizer= SGD(learning_rate=0.001),\n",
    "              metrics=['accuracy'])\n",
    "\n",
    "#Agregamos un callback\n",
    "from tensorflow.keras.callbacks import ModelCheckpoint\n",
    "from tensorflow.keras.callbacks import ReduceLROnPlateau\n",
    "\n",
    "metric = 'val_accuracy'\n",
    "\n",
    "checkpointer = ModelCheckpoint(filepath='model-02', verbose=1, save_best_only=True,\n",
    "                               monitor = metric, mode = 'max')\n",
    "reduce_lr = ReduceLROnPlateau(monitor='loss', factor=0.2,\n",
    "                              patience=3, min_lr=0.000001)\n",
    "\n",
    "history= model.fit(train_generator, validation_data = valid_generator, callbacks = [reduce_lr, checkpointer], epochs=epochs)"
   ]
  },
  {
   "cell_type": "code",
   "execution_count": 13,
   "id": "7f2bdaef-cd4d-4293-a9d6-96ff42a472f9",
   "metadata": {},
   "outputs": [
    {
     "name": "stdout",
     "output_type": "stream",
     "text": [
      "34/34 [==============================] - 3s 68ms/step\n"
     ]
    }
   ],
   "source": [
    "preds_test = model.predict(test_generator)"
   ]
  },
  {
   "cell_type": "code",
   "execution_count": 14,
   "id": "49f96094-7a88-42fe-ad44-8530de26456e",
   "metadata": {},
   "outputs": [
    {
     "name": "stdout",
     "output_type": "stream",
     "text": [
      "34/34 [==============================] - 2s 67ms/step - loss: 4.0172 - accuracy: 0.9439\n"
     ]
    }
   ],
   "source": [
    "evaluate_test = model.evaluate(test_generator)"
   ]
  },
  {
   "cell_type": "code",
   "execution_count": 15,
   "id": "730f6466-b483-483e-b16c-1dde5da34648",
   "metadata": {},
   "outputs": [
    {
     "data": {
      "text/plain": [
       "[4.0172319412231445, 0.9439338445663452]"
      ]
     },
     "execution_count": 15,
     "metadata": {},
     "output_type": "execute_result"
    }
   ],
   "source": [
    "evaluate_test"
   ]
  },
  {
   "cell_type": "code",
   "execution_count": 16,
   "id": "71fc2b80-aa9e-4fa3-b8d9-25f732de5c86",
   "metadata": {},
   "outputs": [
    {
     "data": {
      "text/plain": [
       "array([ 0,  0,  0, ..., 33, 33, 33])"
      ]
     },
     "execution_count": 16,
     "metadata": {},
     "output_type": "execute_result"
    }
   ],
   "source": [
    "y_preds_test = np.array([np.argmax(x) for x in preds_test])\n",
    "y_preds_test"
   ]
  },
  {
   "cell_type": "code",
   "execution_count": 17,
   "id": "eb480175-6c03-4201-806c-fb8a27b96984",
   "metadata": {},
   "outputs": [
    {
     "data": {
      "text/plain": [
       "array([ 0,  0,  0, ..., 33, 33, 33], dtype=int32)"
      ]
     },
     "execution_count": 17,
     "metadata": {},
     "output_type": "execute_result"
    }
   ],
   "source": [
    "y_real_test = test_generator.classes\n",
    "y_real_test"
   ]
  },
  {
   "cell_type": "code",
   "execution_count": 18,
   "id": "95f69712-fd40-43cf-90d2-9b0a1bafca00",
   "metadata": {},
   "outputs": [
    {
     "data": {
      "text/plain": [
       "0.9494485294117647"
      ]
     },
     "execution_count": 18,
     "metadata": {},
     "output_type": "execute_result"
    }
   ],
   "source": [
    "accuracy_test = accuracy_score(y_real_test, y_preds_test)\n",
    "accuracy_test"
   ]
  },
  {
   "cell_type": "code",
   "execution_count": 19,
   "id": "4b0f6dec-7952-41d6-bc7c-e585cd11d7de",
   "metadata": {},
   "outputs": [
    {
     "data": {
      "text/plain": [
       "array([[32,  0,  0, ...,  0,  0,  0],\n",
       "       [ 0, 32,  0, ...,  0,  0,  0],\n",
       "       [ 0,  0, 31, ...,  0,  0,  0],\n",
       "       ...,\n",
       "       [ 0,  0,  0, ..., 32,  0,  0],\n",
       "       [ 0,  0,  0, ...,  0, 28,  0],\n",
       "       [ 0,  0,  0, ...,  0,  0, 32]])"
      ]
     },
     "execution_count": 19,
     "metadata": {},
     "output_type": "execute_result"
    }
   ],
   "source": [
    "cm_test = confusion_matrix(y_real_test, y_preds_test)\n",
    "cm_test"
   ]
  },
  {
   "cell_type": "code",
   "execution_count": 20,
   "id": "4cb535b8-028f-477e-b03f-8783b3a13096",
   "metadata": {},
   "outputs": [
    {
     "data": {
      "image/png": "[encoded data removed]",
      "text/plain": [
       "<Figure size 800x600 with 2 Axes>"
      ]
     },
     "metadata": {},
     "output_type": "display_data"
    }
   ],
   "source": [
    "plt.figure(figsize=(8,6), dpi=100)\n",
    "# Scale up the size of all text\n",
    "sns.set(font_scale = 1.1)\n",
    "\n",
    "# Plot Confusion Matrix using Seaborn heatmap()\n",
    "# Parameters:\n",
    "# first param - confusion matrix in array format   \n",
    "# annot = True: show the numbers in each heatmap cell\n",
    "# fmt = 'd': show numbers as integers. \n",
    "ax = sns.heatmap(cm_test, annot=True, fmt='d', )\n",
    "\n",
    "# set x-axis label and ticks. \n",
    "ax.set_xlabel(\"Predicted Diagnosis\", fontsize=14, labelpad=20)\n",
    "# ax.xaxis.set_ticklabels(['Negative', 'Positive'])\n",
    "\n",
    "# set y-axis label and ticks\n",
    "ax.set_ylabel(\"Actual Diagnosis\", fontsize=14, labelpad=20)\n",
    "# ax.yaxis.set_ticklabels(['Negative', 'Positive'])\n",
    "\n",
    "# set plot title\n",
    "ax.set_title(\"Confusion Matrix for the Diabetes Detection Model\", fontsize=14, pad=20)\n",
    "\n",
    "plt.show()"
   ]
  },
  {
   "cell_type": "code",
   "execution_count": 21,
   "id": "b503eb1a-81ed-4078-b596-278249a3c722",
   "metadata": {},
   "outputs": [
    {
     "name": "stdout",
     "output_type": "stream",
     "text": [
      "33/33 [==============================] - 2s 63ms/step\n"
     ]
    }
   ],
   "source": [
    "preds_val = model.predict(valid_generator)"
   ]
  },
  {
   "cell_type": "code",
   "execution_count": 22,
   "id": "1fb77fb4-bdbf-4929-b30b-f90ab9aa55eb",
   "metadata": {},
   "outputs": [
    {
     "name": "stdout",
     "output_type": "stream",
     "text": [
      "33/33 [==============================] - 2s 63ms/step - loss: 3.9257 - accuracy: 0.9513\n"
     ]
    }
   ],
   "source": [
    "evaluate_val = model.evaluate(valid_generator)"
   ]
  },
  {
   "cell_type": "code",
   "execution_count": 23,
   "id": "d3a2be82-fc27-446d-be97-ef39329a1385",
   "metadata": {},
   "outputs": [
    {
     "data": {
      "text/plain": [
       "[3.925729990005493, 0.9513359069824219]"
      ]
     },
     "execution_count": 23,
     "metadata": {},
     "output_type": "execute_result"
    }
   ],
   "source": [
    "evaluate_val"
   ]
  },
  {
   "cell_type": "code",
   "execution_count": 24,
   "id": "d17f5e3f-c58f-4ff5-86d8-961dde74325c",
   "metadata": {},
   "outputs": [
    {
     "data": {
      "text/plain": [
       "array([ 6,  0,  0, ..., 33, 33, 33])"
      ]
     },
     "execution_count": 24,
     "metadata": {},
     "output_type": "execute_result"
    }
   ],
   "source": [
    "y_preds_val = np.array([np.argmax(x) for x in preds_val])\n",
    "y_preds_val"
   ]
  },
  {
   "cell_type": "code",
   "execution_count": 25,
   "id": "7a7cd9d7-3192-4e04-a0a1-693ca99d1037",
   "metadata": {},
   "outputs": [
    {
     "data": {
      "text/plain": [
       "array([ 0,  0,  0, ..., 33, 33, 33], dtype=int32)"
      ]
     },
     "execution_count": 25,
     "metadata": {},
     "output_type": "execute_result"
    }
   ],
   "source": [
    "y_real_val = valid_generator.classes\n",
    "y_real_val"
   ]
  },
  {
   "cell_type": "code",
   "execution_count": 26,
   "id": "67e7aded-e874-41a0-981d-4de4720b27ad",
   "metadata": {},
   "outputs": [
    {
     "data": {
      "text/plain": [
       "0.9561068702290076"
      ]
     },
     "execution_count": 26,
     "metadata": {},
     "output_type": "execute_result"
    }
   ],
   "source": [
    "accuracy_val = accuracy_score(y_real_val, y_preds_val)\n",
    "accuracy_val"
   ]
  },
  {
   "cell_type": "code",
   "execution_count": 27,
   "id": "c3459eff-7df8-47b2-986a-2beab8ac51e1",
   "metadata": {},
   "outputs": [
    {
     "data": {
      "text/plain": [
       "array([[29,  0,  0, ...,  0,  0,  0],\n",
       "       [ 0, 30,  0, ...,  0,  0,  0],\n",
       "       [ 0,  0, 29, ...,  0,  0,  0],\n",
       "       ...,\n",
       "       [ 0,  0,  0, ..., 31,  0,  0],\n",
       "       [ 0,  0,  0, ...,  0, 29,  0],\n",
       "       [ 0,  0,  0, ...,  0,  0, 30]])"
      ]
     },
     "execution_count": 27,
     "metadata": {},
     "output_type": "execute_result"
    }
   ],
   "source": [
    "cm_val = confusion_matrix(y_real_val, y_preds_val)\n",
    "cm_val"
   ]
  },
  {
   "cell_type": "code",
   "execution_count": 28,
   "id": "d9806965-fb2e-4044-af24-af216719e719",
   "metadata": {},
   "outputs": [
    {
     "data": {
      "image/png": "[encoded data removed]",
      "text/plain": [
       "<Figure size 800x600 with 2 Axes>"
      ]
     },
     "metadata": {},
     "output_type": "display_data"
    }
   ],
   "source": [
    "plt.figure(figsize=(8,6), dpi=100)\n",
    "# Scale up the size of all text\n",
    "sns.set(font_scale = 1.1)\n",
    "\n",
    "# Plot Confusion Matrix using Seaborn heatmap()\n",
    "# Parameters:\n",
    "# first param - confusion matrix in array format   \n",
    "# annot = True: show the numbers in each heatmap cell\n",
    "# fmt = 'd': show numbers as integers. \n",
    "ax = sns.heatmap(cm_val, annot=True, fmt='d', )\n",
    "\n",
    "# set x-axis label and ticks. \n",
    "ax.set_xlabel(\"Predicted Diagnosis\", fontsize=14, labelpad=20)\n",
    "# ax.xaxis.set_ticklabels(['Negative', 'Positive'])\n",
    "\n",
    "# set y-axis label and ticks\n",
    "ax.set_ylabel(\"Actual Diagnosis\", fontsize=14, labelpad=20)\n",
    "# ax.yaxis.set_ticklabels(['Negative', 'Positive'])\n",
    "\n",
    "# set plot title\n",
    "ax.set_title(\"Confusion Matrix for the Diabetes Detection Model\", fontsize=14, pad=20)\n",
    "\n",
    "plt.show()"
   ]
  }
 ],
 "metadata": {
  "kernelspec": {
   "display_name": "TensorFlow 2.11 (Local)",
   "language": "python",
   "name": "local-tf2-2-11"
  },
  "language_info": {
   "codemirror_mode": {
    "name": "ipython",
    "version": 3
   },
   "file_extension": ".py",
   "mimetype": "text/x-python",
   "name": "python",
   "nbconvert_exporter": "python",
   "pygments_lexer": "ipython3",
   "version": "3.7.12"
  }
 },
 "nbformat": 4,
 "nbformat_minor": 5
}
